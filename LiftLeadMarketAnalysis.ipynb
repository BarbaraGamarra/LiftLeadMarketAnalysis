{
 "cells": [
  {
   "cell_type": "markdown",
   "id": "cd50a2ec",
   "metadata": {},
   "source": [
    "#  <span style=\"color: #2A8E3C;\"> **Lift & Lead - Análisis de Mercado** </span>"
   ]
  },
  {
   "cell_type": "markdown",
   "id": "835f87b9",
   "metadata": {},
   "source": [
    "## <span style=\"color: #2A8E3C;\"> **Análisis de mercado para la apertura de centros especializados de Halterofilia** </span>\n",
    "\n",
    "<span style=\"color: #E3B800;\"> ***Lift & Lead***, </span> es una startup interesada en abrir centros de entrenamiento especializados en halterofilia ya que con el auge del CrossFit, que integra técnicas de halterofilia, los fundadores creen que este puede ser un buen momento para invertir en centros dedicados exclusivamente a este deporte.\n",
    "\n",
    "La dirección de <span style=\"color: #E3B800;\"> ***Lift & Lead***, </span>  busca validar la hipótesis de que la popularidad del CrossFit está impulsando el interés por la halterofilia en Europa.\n",
    "\n",
    "Actualmente no cuentan con mucho conocimiento y para empezar a comprender mejor el sector de la halterofilia y a sus atletas, te han asignado la tarea de analizar los resultados de los campeonatos europeos de halterofilia.\n",
    "\n",
    "El análisis se hará en dos fases:\n",
    "\n",
    "1. <span style=\"color: #E3B800;\"> **Fase 1**, </span> : Te han proporcionado acceso a la base de datos de 2019 y 2020\n",
    "  - La información fue obtenida a través de los siguientes enlaces por el anterior Data Analyst que ha dejado la compañía:\n",
    "    - https://es.wikipedia.org/wiki/Campeonato_Europeo_de_Halterofilia_de_2019\n",
    "    - https://es.wikipedia.org/wiki/Campeonato_Europeo_de_Halterofilia_de_2020\n",
    "\n",
    "2. <span style=\"color: #E3B800;\"> **Fase 2**, </span> Quieren enriquecer el análisis consideranto un periodo más amplio, incluyendo desde 2019 a 2024 pero no disponen de la información. Para obtenerla harás uso de web scraping de los siguientes enlaces:\n",
    "    - https://es.wikipedia.org/wiki/Campeonato_Europeo_de_Halterofilia_de_2021\n",
    "    - https://es.wikipedia.org/wiki/Campeonato_Europeo_de_Halterofilia_de_2022\n",
    "    - https://es.wikipedia.org/wiki/Campeonato_Europeo_de_Halterofilia_de_2023\n",
    "    - https://es.wikipedia.org/wiki/Campeonato_Europeo_de_Halterofilia_de_2024"
   ]
  },
  {
   "cell_type": "markdown",
   "id": "296ffad1",
   "metadata": {},
   "source": [
    "![Halterofilia](images/allfreeweight.png)"
   ]
  },
  {
   "cell_type": "markdown",
   "id": "928caec9",
   "metadata": {},
   "source": [
    "# <span style=\"color: #2A8E3C;\">  **Parte 1.** Disponemos de la información </span> "
   ]
  },
  {
   "cell_type": "markdown",
   "id": "b897db69",
   "metadata": {},
   "source": [
    "## <span style=\"color: #2A8E3C;\">  Paso 1. Importar librerías </span> "
   ]
  },
  {
   "cell_type": "code",
   "execution_count": 1,
   "id": "1d1bd924",
   "metadata": {},
   "outputs": [
    {
     "name": "stderr",
     "output_type": "stream",
     "text": [
      "c:\\Users\\Usuario\\anaconda3\\envs\\KERNEL_CON_PANDAS\\Lib\\site-packages\\fuzzywuzzy\\fuzz.py:11: UserWarning: Using slow pure-python SequenceMatcher. Install python-Levenshtein to remove this warning\n",
      "  warnings.warn('Using slow pure-python SequenceMatcher. Install python-Levenshtein to remove this warning')\n"
     ]
    }
   ],
   "source": [
    "import pandas as pd\n",
    "import numpy as np\n",
    "\n",
    "import matplotlib.pyplot as plt\n",
    "import seaborn as sns\n",
    "import plotly.express as px\n",
    "\n",
    "import missingno as msno\n",
    "\n",
    "import re\n",
    "from fuzzywuzzy import process\n",
    "\n",
    "import warnings\n",
    "warnings.filterwarnings('ignore')\n",
    "\n",
    "import os"
   ]
  },
  {
   "cell_type": "markdown",
   "id": "fb864f4b",
   "metadata": {},
   "source": [
    "## <span style=\"color: #2A8E3C;\">  Paso 2. Cargar datos </span>"
   ]
  },
  {
   "cell_type": "code",
   "execution_count": 2,
   "id": "0702c1e5",
   "metadata": {},
   "outputs": [
    {
     "name": "stdout",
     "output_type": "stream",
     "text": [
      "Campeonato_Europeo_de_Halterofilia_de_2019_datos_original.csv\n",
      "Campeonato_Europeo_de_Halterofilia_de_2020_datos_original.csv\n"
     ]
    }
   ],
   "source": [
    "path = 'data/' \n",
    "\n",
    "ficheros = [file for file in os.listdir(path) if os.path.isfile(os.path.join(path, file))]\n",
    "\n",
    "dict_datos = {}\n",
    "for file in ficheros:\n",
    "    if file.endswith(('.csv', '.xlsx')):\n",
    "        print(file)\n",
    "        if file.endswith('.csv'):\n",
    "            df = pd.read_csv(path + file)\n",
    "        else:\n",
    "            df = pd.read_excel(path + file)\n",
    "        dict_datos[file] = df"
   ]
  },
  {
   "cell_type": "markdown",
   "id": "1e4484a9",
   "metadata": {},
   "source": [
    "## <span style=\"color: #2A8E3C;\">  Paso 3. Exploración inicial </span> "
   ]
  },
  {
   "cell_type": "markdown",
   "id": "35029cbb",
   "metadata": {},
   "source": [
    "Creamos una función que nos permitirá hacer una exploración inicial de los datos, para ver si hay que hacer algún tratamiento previo a la limpieza de los datos y la aplicamos directamente al dictado dataframes."
   ]
  },
  {
   "cell_type": "code",
   "execution_count": 5,
   "id": "2c5985ad",
   "metadata": {},
   "outputs": [],
   "source": [
    "\n",
    "def exploracion_inicial(df, tipo = None):\n",
    "    if tipo == 'version_lite':\n",
    "        print(\"¿Cuántas filas y columnas hay en el conjunto de datos?\")\n",
    "        num_filas, num_columnas = df.shape\n",
    "        print(\"\\tHay {:,} filas y {:,} columnas.\".format(num_filas, num_columnas))\n",
    "\n",
    "        print(\"¿Cuáles son las primeras dos filas del conjunto de datos?\")\n",
    "        display(df.head(2))\n",
    "        print('\\n########################################################################################')\n",
    "    else:\n",
    "        print(\"¿Cuántas filas y columnas hay en el conjunto de datos?\")\n",
    "        num_filas, num_columnas = df.shape\n",
    "        print(\"\\tHay {:,} filas y {:,} columnas.\".format(num_filas, num_columnas))\n",
    "        print('\\n########################################################################################')\n",
    "\n",
    "        print(\"¿Cuáles son las primeras cinco filas del conjunto de datos?\")\n",
    "        display(df.head())\n",
    "        print('\\n########################################################################################')\n",
    "\n",
    "        print(\"¿Cuáles son las últimas cinco filas del conjunto de datos?\")\n",
    "        display(df.tail())\n",
    "        print('\\n########################################################################################')\n",
    "\n",
    "        print(\"¿Cómo puedes obtener una muestra aleatoria de filas del conjunto de datos?\")\n",
    "        display(df.sample(n = 5))\n",
    "        print('\\n########################################################################################')\n",
    "\n",
    "        print(\"¿Cuáles son las columnas del conjunto de datos?\")\n",
    "        for i in list(df.columns):\n",
    "            print('\\t - ' + i)\n",
    "        print('\\n########################################################################################')\n",
    "\n",
    "        print(\"¿Cuál es el tipo de datos de cada columna?\")\n",
    "        print(df.dtypes)\n",
    "        print('\\n########################################################################################')\n",
    "\n",
    "        print(\"¿Cuántas columnas hay de cada tipo de datos?\")\n",
    "        print(df.dtypes.value_counts())\n",
    "        print('\\n########################################################################################')\n",
    "\n",
    "        print(\"¿Cómo podríamos obtener información más completa sobre la estructura y el contenido del DataFrame?\")\n",
    "        print(df.info())\n",
    "        print('\\n########################################################################################')\n",
    "\n",
    "        print(\"¿Cuántos valores únicos tiene cada columna?\")\n",
    "        print(df.nunique())\n",
    "        print('\\n########################################################################################')\n",
    "\n",
    "        print(\"¿Cuáles son las estadísticas descriptivas básicas de todas las columnas?\")\n",
    "        display(df.describe(include = 'all').fillna(''))\n",
    "        print('\\n########################################################################################')\n",
    "\n",
    "        print(\"¿Hay valores nulos en el conjunto de datos?\")\n",
    "        print(df.isnull().sum().sort_values(ascending = False))\n",
    "        print('\\n########################################################################################')\n",
    "\n",
    "        print(\"¿Cuál es el porcentaje de valores nulos en cada columna?\")\n",
    "        print(round((df.isnull().sum()/len(df)*100), 2).sort_values(ascending = False))\n",
    "        print('\\n########################################################################################')\n",
    "       \n",
    "        print(\"¿Hay filas duplicadas en el conjunto de datos?\")\n",
    "        dup_count = df.duplicated().sum()\n",
    "        has_duplicates = dup_count > 0\n",
    "        print(f\"\\tExisten duplicados: {has_duplicates}\")\n",
    "        print(f\"\\tNúmero total de filas duplicadas: {dup_count}\")\n",
    "        \n",
    "        if has_duplicates and dup_count <= 5:\n",
    "            print(\"\\tFilas duplicadas (mostrando hasta 5):\")\n",
    "            display(df[df.duplicated(keep=False)].head())\n",
    "        print('\\n########################################################################################')"
   ]
  },
  {
   "cell_type": "code",
   "execution_count": null,
   "id": "5b79efbe",
   "metadata": {},
   "outputs": [
    {
     "name": "stdout",
     "output_type": "stream",
     "text": [
      "_____________________________________________________________\n",
      "Campeonato_Europeo_de_Halterofilia_de_2019_datos_original.csv\n",
      "_____________________________________________________________\n",
      "¿Cuántas filas y columnas hay en el conjunto de datos?\n",
      "\tHay 20 filas y 6 columnas.\n",
      "\n",
      "########################################################################################\n",
      "¿Cuáles son las primeras cinco filas del conjunto de datos?\n"
     ]
    },
    {
     "data": {
      "text/html": [
       "<div>\n",
       "<style scoped>\n",
       "    .dataframe tbody tr th:only-of-type {\n",
       "        vertical-align: middle;\n",
       "    }\n",
       "\n",
       "    .dataframe tbody tr th {\n",
       "        vertical-align: top;\n",
       "    }\n",
       "\n",
       "    .dataframe thead th {\n",
       "        text-align: right;\n",
       "    }\n",
       "</style>\n",
       "<table border=\"1\" class=\"dataframe\">\n",
       "  <thead>\n",
       "    <tr style=\"text-align: right;\">\n",
       "      <th></th>\n",
       "      <th>Eventos</th>\n",
       "      <th>Oro</th>\n",
       "      <th>Plata</th>\n",
       "      <th>Bronce</th>\n",
       "      <th>Año</th>\n",
       "      <th>Genero</th>\n",
       "    </tr>\n",
       "  </thead>\n",
       "  <tbody>\n",
       "    <tr>\n",
       "      <th>0</th>\n",
       "      <td>55 kg (06.04)</td>\n",
       "      <td>Mirco Scarantino Italia  116 + 145 = 261[n 1]​</td>\n",
       "      <td>Anguel Rusev Bulgaria  110 + 146 = 256[n 1]​</td>\n",
       "      <td>Muammer Şahin Turquía  112 + 135 = 247[n 1]​</td>\n",
       "      <td>2019</td>\n",
       "      <td>Masculino</td>\n",
       "    </tr>\n",
       "    <tr>\n",
       "      <th>1</th>\n",
       "      <td>61 kg (07.04)</td>\n",
       "      <td>Henadz Laptseu Bielorrusia  133 + 153 = 286</td>\n",
       "      <td>Bünyamin Sezer Turquía  132 + 151 = 283</td>\n",
       "      <td>Ferdi Hardal Turquía  127 + 155 = 282</td>\n",
       "      <td>2019</td>\n",
       "      <td>Masculino</td>\n",
       "    </tr>\n",
       "    <tr>\n",
       "      <th>2</th>\n",
       "      <td>67 kg (08.04)</td>\n",
       "      <td>Bernardin Matam Francia  137 + 175 = 312</td>\n",
       "      <td>Simon Brandhuber Alemania  146 + 165 = 311</td>\n",
       "      <td>Goga Chjeidze Georgia  139 + 169 = 308</td>\n",
       "      <td>2019</td>\n",
       "      <td>Masculino</td>\n",
       "    </tr>\n",
       "    <tr>\n",
       "      <th>3</th>\n",
       "      <td>73 kg (09.04)</td>\n",
       "      <td>Bozhidar Andreev Bulgaria  153 + 192 = 345</td>\n",
       "      <td>Briken Calja Albania  156 + 183 = 339</td>\n",
       "      <td>Vadzim Lijarad Bielorrusia  153 + 182 = 335</td>\n",
       "      <td>2019</td>\n",
       "      <td>Masculino</td>\n",
       "    </tr>\n",
       "    <tr>\n",
       "      <th>4</th>\n",
       "      <td>81 kg (10.04)</td>\n",
       "      <td>Antonino Pizzolato Italia  155 + 201 = 356</td>\n",
       "      <td>Piotr Asayonak Bielorrusia  159 + 196 = 355</td>\n",
       "      <td>Ritvars Suharevs Letonia  162 + 192 = 354</td>\n",
       "      <td>2019</td>\n",
       "      <td>Masculino</td>\n",
       "    </tr>\n",
       "  </tbody>\n",
       "</table>\n",
       "</div>"
      ],
      "text/plain": [
       "         Eventos                                             Oro  \\\n",
       "0  55 kg (06.04)  Mirco Scarantino Italia  116 + 145 = 261[n 1]​   \n",
       "1  61 kg (07.04)     Henadz Laptseu Bielorrusia  133 + 153 = 286   \n",
       "2  67 kg (08.04)        Bernardin Matam Francia  137 + 175 = 312   \n",
       "3  73 kg (09.04)      Bozhidar Andreev Bulgaria  153 + 192 = 345   \n",
       "4  81 kg (10.04)      Antonino Pizzolato Italia  155 + 201 = 356   \n",
       "\n",
       "                                          Plata  \\\n",
       "0  Anguel Rusev Bulgaria  110 + 146 = 256[n 1]​   \n",
       "1       Bünyamin Sezer Turquía  132 + 151 = 283   \n",
       "2    Simon Brandhuber Alemania  146 + 165 = 311   \n",
       "3         Briken Calja Albania  156 + 183 = 339   \n",
       "4   Piotr Asayonak Bielorrusia  159 + 196 = 355   \n",
       "\n",
       "                                         Bronce   Año     Genero  \n",
       "0  Muammer Şahin Turquía  112 + 135 = 247[n 1]​  2019  Masculino  \n",
       "1         Ferdi Hardal Turquía  127 + 155 = 282  2019  Masculino  \n",
       "2        Goga Chjeidze Georgia  139 + 169 = 308  2019  Masculino  \n",
       "3   Vadzim Lijarad Bielorrusia  153 + 182 = 335  2019  Masculino  \n",
       "4     Ritvars Suharevs Letonia  162 + 192 = 354  2019  Masculino  "
      ]
     },
     "metadata": {},
     "output_type": "display_data"
    },
    {
     "name": "stdout",
     "output_type": "stream",
     "text": [
      "\n",
      "########################################################################################\n",
      "¿Cuáles son las últimas cinco filas del conjunto de datos?\n"
     ]
    },
    {
     "data": {
      "text/html": [
       "<div>\n",
       "<style scoped>\n",
       "    .dataframe tbody tr th:only-of-type {\n",
       "        vertical-align: middle;\n",
       "    }\n",
       "\n",
       "    .dataframe tbody tr th {\n",
       "        vertical-align: top;\n",
       "    }\n",
       "\n",
       "    .dataframe thead th {\n",
       "        text-align: right;\n",
       "    }\n",
       "</style>\n",
       "<table border=\"1\" class=\"dataframe\">\n",
       "  <thead>\n",
       "    <tr style=\"text-align: right;\">\n",
       "      <th></th>\n",
       "      <th>Eventos</th>\n",
       "      <th>Oro</th>\n",
       "      <th>Plata</th>\n",
       "      <th>Bronce</th>\n",
       "      <th>Año</th>\n",
       "      <th>Genero</th>\n",
       "    </tr>\n",
       "  </thead>\n",
       "  <tbody>\n",
       "    <tr>\n",
       "      <th>15</th>\n",
       "      <td>71 kg (10.04)</td>\n",
       "      <td>Anastasiya Romanova Rusia  112 + 128 = 240</td>\n",
       "      <td>Emily Godley Reino Unido  93 + 123 = 216</td>\n",
       "      <td>Mădălina Molie Rumania  101 + 114 = 215</td>\n",
       "      <td>2019</td>\n",
       "      <td>Femenino</td>\n",
       "    </tr>\n",
       "    <tr>\n",
       "      <th>16</th>\n",
       "      <td>76 kg (11.04)</td>\n",
       "      <td>Daria Naumava Bielorrusia  106 + 136 = 242</td>\n",
       "      <td>Lidia Valentín[2]​ España  108 + 133 = 241</td>\n",
       "      <td>Patricia Strenius Suecia  101 + 132 = 233</td>\n",
       "      <td>2019</td>\n",
       "      <td>Femenino</td>\n",
       "    </tr>\n",
       "    <tr>\n",
       "      <th>17</th>\n",
       "      <td>81 kg[n 2]​ (12.04)</td>\n",
       "      <td>Nina Schroth Alemania  102 + 120 = 222</td>\n",
       "      <td>Anna Van Bellinghen Bélgica  103 + 118 = 221</td>\n",
       "      <td>Liana Guiurdzhian Armenia  97 + 120 = 217</td>\n",
       "      <td>2019</td>\n",
       "      <td>Femenino</td>\n",
       "    </tr>\n",
       "    <tr>\n",
       "      <th>18</th>\n",
       "      <td>87 kg (12.04)</td>\n",
       "      <td>Xeniya Pasjina Rusia  110 + 132 = 242</td>\n",
       "      <td>Diana Mstiyeva Rusia  110 + 130 = 240</td>\n",
       "      <td>Sarah Fischer Austria  102 + 129 = 231</td>\n",
       "      <td>2019</td>\n",
       "      <td>Femenino</td>\n",
       "    </tr>\n",
       "    <tr>\n",
       "      <th>19</th>\n",
       "      <td>+87 kg (13.04)</td>\n",
       "      <td>Tatiana Kashirina Rusia  146 + 185 = 331</td>\n",
       "      <td>Anastasiya Lysenko Ucrania  120 + 148 = 268</td>\n",
       "      <td>Emily Campbell Reino Unido  115 + 145 = 260</td>\n",
       "      <td>2019</td>\n",
       "      <td>Femenino</td>\n",
       "    </tr>\n",
       "  </tbody>\n",
       "</table>\n",
       "</div>"
      ],
      "text/plain": [
       "                Eventos                                         Oro  \\\n",
       "15        71 kg (10.04)  Anastasiya Romanova Rusia  112 + 128 = 240   \n",
       "16        76 kg (11.04)  Daria Naumava Bielorrusia  106 + 136 = 242   \n",
       "17  81 kg[n 2]​ (12.04)      Nina Schroth Alemania  102 + 120 = 222   \n",
       "18        87 kg (12.04)       Xeniya Pasjina Rusia  110 + 132 = 242   \n",
       "19       +87 kg (13.04)    Tatiana Kashirina Rusia  146 + 185 = 331   \n",
       "\n",
       "                                           Plata  \\\n",
       "15      Emily Godley Reino Unido  93 + 123 = 216   \n",
       "16    Lidia Valentín[2]​ España  108 + 133 = 241   \n",
       "17  Anna Van Bellinghen Bélgica  103 + 118 = 221   \n",
       "18         Diana Mstiyeva Rusia  110 + 130 = 240   \n",
       "19   Anastasiya Lysenko Ucrania  120 + 148 = 268   \n",
       "\n",
       "                                         Bronce   Año    Genero  \n",
       "15      Mădălina Molie Rumania  101 + 114 = 215  2019  Femenino  \n",
       "16    Patricia Strenius Suecia  101 + 132 = 233  2019  Femenino  \n",
       "17    Liana Guiurdzhian Armenia  97 + 120 = 217  2019  Femenino  \n",
       "18       Sarah Fischer Austria  102 + 129 = 231  2019  Femenino  \n",
       "19  Emily Campbell Reino Unido  115 + 145 = 260  2019  Femenino  "
      ]
     },
     "metadata": {},
     "output_type": "display_data"
    },
    {
     "name": "stdout",
     "output_type": "stream",
     "text": [
      "\n",
      "########################################################################################\n",
      "¿Cómo puedes obtener una muestra aleatoria de filas del conjunto de datos?\n"
     ]
    },
    {
     "data": {
      "text/html": [
       "<div>\n",
       "<style scoped>\n",
       "    .dataframe tbody tr th:only-of-type {\n",
       "        vertical-align: middle;\n",
       "    }\n",
       "\n",
       "    .dataframe tbody tr th {\n",
       "        vertical-align: top;\n",
       "    }\n",
       "\n",
       "    .dataframe thead th {\n",
       "        text-align: right;\n",
       "    }\n",
       "</style>\n",
       "<table border=\"1\" class=\"dataframe\">\n",
       "  <thead>\n",
       "    <tr style=\"text-align: right;\">\n",
       "      <th></th>\n",
       "      <th>Eventos</th>\n",
       "      <th>Oro</th>\n",
       "      <th>Plata</th>\n",
       "      <th>Bronce</th>\n",
       "      <th>Año</th>\n",
       "      <th>Genero</th>\n",
       "    </tr>\n",
       "  </thead>\n",
       "  <tbody>\n",
       "    <tr>\n",
       "      <th>13</th>\n",
       "      <td>59 kg (08.04)</td>\n",
       "      <td>Rebeka Koha Letonia  101 + 120 = 221</td>\n",
       "      <td>Tatiana Aleyeva Rusia  94 + 120 = 214</td>\n",
       "      <td>Alexandra Kozlova Rusia  96 + 117 = 213</td>\n",
       "      <td>2019</td>\n",
       "      <td>Femenino</td>\n",
       "    </tr>\n",
       "    <tr>\n",
       "      <th>19</th>\n",
       "      <td>+87 kg (13.04)</td>\n",
       "      <td>Tatiana Kashirina Rusia  146 + 185 = 331</td>\n",
       "      <td>Anastasiya Lysenko Ucrania  120 + 148 = 268</td>\n",
       "      <td>Emily Campbell Reino Unido  115 + 145 = 260</td>\n",
       "      <td>2019</td>\n",
       "      <td>Femenino</td>\n",
       "    </tr>\n",
       "    <tr>\n",
       "      <th>4</th>\n",
       "      <td>81 kg (10.04)</td>\n",
       "      <td>Antonino Pizzolato Italia  155 + 201 = 356</td>\n",
       "      <td>Piotr Asayonak Bielorrusia  159 + 196 = 355</td>\n",
       "      <td>Ritvars Suharevs Letonia  162 + 192 = 354</td>\n",
       "      <td>2019</td>\n",
       "      <td>Masculino</td>\n",
       "    </tr>\n",
       "    <tr>\n",
       "      <th>14</th>\n",
       "      <td>64 kg (09.04)</td>\n",
       "      <td>Loredana Toma Rumania  111 + 128 = 239</td>\n",
       "      <td>Irina Lepșa Rumania  102 + 127 = 229</td>\n",
       "      <td>Zoe Smith Reino Unido  96 + 128 = 224</td>\n",
       "      <td>2019</td>\n",
       "      <td>Femenino</td>\n",
       "    </tr>\n",
       "    <tr>\n",
       "      <th>16</th>\n",
       "      <td>76 kg (11.04)</td>\n",
       "      <td>Daria Naumava Bielorrusia  106 + 136 = 242</td>\n",
       "      <td>Lidia Valentín[2]​ España  108 + 133 = 241</td>\n",
       "      <td>Patricia Strenius Suecia  101 + 132 = 233</td>\n",
       "      <td>2019</td>\n",
       "      <td>Femenino</td>\n",
       "    </tr>\n",
       "  </tbody>\n",
       "</table>\n",
       "</div>"
      ],
      "text/plain": [
       "           Eventos                                         Oro  \\\n",
       "13   59 kg (08.04)        Rebeka Koha Letonia  101 + 120 = 221   \n",
       "19  +87 kg (13.04)    Tatiana Kashirina Rusia  146 + 185 = 331   \n",
       "4    81 kg (10.04)  Antonino Pizzolato Italia  155 + 201 = 356   \n",
       "14   64 kg (09.04)      Loredana Toma Rumania  111 + 128 = 239   \n",
       "16   76 kg (11.04)  Daria Naumava Bielorrusia  106 + 136 = 242   \n",
       "\n",
       "                                          Plata  \\\n",
       "13        Tatiana Aleyeva Rusia  94 + 120 = 214   \n",
       "19  Anastasiya Lysenko Ucrania  120 + 148 = 268   \n",
       "4   Piotr Asayonak Bielorrusia  159 + 196 = 355   \n",
       "14         Irina Lepșa Rumania  102 + 127 = 229   \n",
       "16   Lidia Valentín[2]​ España  108 + 133 = 241   \n",
       "\n",
       "                                         Bronce   Año     Genero  \n",
       "13      Alexandra Kozlova Rusia  96 + 117 = 213  2019   Femenino  \n",
       "19  Emily Campbell Reino Unido  115 + 145 = 260  2019   Femenino  \n",
       "4     Ritvars Suharevs Letonia  162 + 192 = 354  2019  Masculino  \n",
       "14        Zoe Smith Reino Unido  96 + 128 = 224  2019   Femenino  \n",
       "16    Patricia Strenius Suecia  101 + 132 = 233  2019   Femenino  "
      ]
     },
     "metadata": {},
     "output_type": "display_data"
    },
    {
     "name": "stdout",
     "output_type": "stream",
     "text": [
      "\n",
      "########################################################################################\n",
      "¿Cuáles son las columnas del conjunto de datos?\n",
      "\t - Eventos\n",
      "\t - Oro\n",
      "\t - Plata\n",
      "\t - Bronce\n",
      "\t - Año\n",
      "\t - Genero\n",
      "\n",
      "########################################################################################\n",
      "¿Cuál es el tipo de datos de cada columna?\n",
      "Eventos    object\n",
      "Oro        object\n",
      "Plata      object\n",
      "Bronce     object\n",
      "Año         int64\n",
      "Genero     object\n",
      "dtype: object\n",
      "\n",
      "########################################################################################\n",
      "¿Cuántas columnas hay de cada tipo de datos?\n",
      "object    5\n",
      "int64     1\n",
      "Name: count, dtype: int64\n",
      "\n",
      "########################################################################################\n",
      "¿Cómo podríamos obtener información más completa sobre la estructura y el contenido del DataFrame?\n",
      "<class 'pandas.core.frame.DataFrame'>\n",
      "RangeIndex: 20 entries, 0 to 19\n",
      "Data columns (total 6 columns):\n",
      " #   Column   Non-Null Count  Dtype \n",
      "---  ------   --------------  ----- \n",
      " 0   Eventos  20 non-null     object\n",
      " 1   Oro      20 non-null     object\n",
      " 2   Plata    20 non-null     object\n",
      " 3   Bronce   20 non-null     object\n",
      " 4   Año      20 non-null     int64 \n",
      " 5   Genero   20 non-null     object\n",
      "dtypes: int64(1), object(5)\n",
      "memory usage: 1.1+ KB\n",
      "None\n",
      "\n",
      "########################################################################################\n",
      "¿Cuántos valores únicos tiene cada columna?\n",
      "Eventos    20\n",
      "Oro        20\n",
      "Plata      20\n",
      "Bronce     20\n",
      "Año         1\n",
      "Genero      2\n",
      "dtype: int64\n",
      "\n",
      "########################################################################################\n",
      "¿Cuáles son las estadísticas descriptivas básicas de todas las columnas?\n"
     ]
    },
    {
     "data": {
      "text/html": [
       "<div>\n",
       "<style scoped>\n",
       "    .dataframe tbody tr th:only-of-type {\n",
       "        vertical-align: middle;\n",
       "    }\n",
       "\n",
       "    .dataframe tbody tr th {\n",
       "        vertical-align: top;\n",
       "    }\n",
       "\n",
       "    .dataframe thead th {\n",
       "        text-align: right;\n",
       "    }\n",
       "</style>\n",
       "<table border=\"1\" class=\"dataframe\">\n",
       "  <thead>\n",
       "    <tr style=\"text-align: right;\">\n",
       "      <th></th>\n",
       "      <th>Eventos</th>\n",
       "      <th>Oro</th>\n",
       "      <th>Plata</th>\n",
       "      <th>Bronce</th>\n",
       "      <th>Año</th>\n",
       "      <th>Genero</th>\n",
       "    </tr>\n",
       "  </thead>\n",
       "  <tbody>\n",
       "    <tr>\n",
       "      <th>count</th>\n",
       "      <td>20</td>\n",
       "      <td>20</td>\n",
       "      <td>20</td>\n",
       "      <td>20</td>\n",
       "      <td>20.0</td>\n",
       "      <td>20</td>\n",
       "    </tr>\n",
       "    <tr>\n",
       "      <th>unique</th>\n",
       "      <td>20</td>\n",
       "      <td>20</td>\n",
       "      <td>20</td>\n",
       "      <td>20</td>\n",
       "      <td></td>\n",
       "      <td>2</td>\n",
       "    </tr>\n",
       "    <tr>\n",
       "      <th>top</th>\n",
       "      <td>55 kg (06.04)</td>\n",
       "      <td>Mirco Scarantino Italia  116 + 145 = 261[n 1]​</td>\n",
       "      <td>Anguel Rusev Bulgaria  110 + 146 = 256[n 1]​</td>\n",
       "      <td>Muammer Şahin Turquía  112 + 135 = 247[n 1]​</td>\n",
       "      <td></td>\n",
       "      <td>Masculino</td>\n",
       "    </tr>\n",
       "    <tr>\n",
       "      <th>freq</th>\n",
       "      <td>1</td>\n",
       "      <td>1</td>\n",
       "      <td>1</td>\n",
       "      <td>1</td>\n",
       "      <td></td>\n",
       "      <td>10</td>\n",
       "    </tr>\n",
       "    <tr>\n",
       "      <th>mean</th>\n",
       "      <td></td>\n",
       "      <td></td>\n",
       "      <td></td>\n",
       "      <td></td>\n",
       "      <td>2019.0</td>\n",
       "      <td></td>\n",
       "    </tr>\n",
       "    <tr>\n",
       "      <th>std</th>\n",
       "      <td></td>\n",
       "      <td></td>\n",
       "      <td></td>\n",
       "      <td></td>\n",
       "      <td>0.0</td>\n",
       "      <td></td>\n",
       "    </tr>\n",
       "    <tr>\n",
       "      <th>min</th>\n",
       "      <td></td>\n",
       "      <td></td>\n",
       "      <td></td>\n",
       "      <td></td>\n",
       "      <td>2019.0</td>\n",
       "      <td></td>\n",
       "    </tr>\n",
       "    <tr>\n",
       "      <th>25%</th>\n",
       "      <td></td>\n",
       "      <td></td>\n",
       "      <td></td>\n",
       "      <td></td>\n",
       "      <td>2019.0</td>\n",
       "      <td></td>\n",
       "    </tr>\n",
       "    <tr>\n",
       "      <th>50%</th>\n",
       "      <td></td>\n",
       "      <td></td>\n",
       "      <td></td>\n",
       "      <td></td>\n",
       "      <td>2019.0</td>\n",
       "      <td></td>\n",
       "    </tr>\n",
       "    <tr>\n",
       "      <th>75%</th>\n",
       "      <td></td>\n",
       "      <td></td>\n",
       "      <td></td>\n",
       "      <td></td>\n",
       "      <td>2019.0</td>\n",
       "      <td></td>\n",
       "    </tr>\n",
       "    <tr>\n",
       "      <th>max</th>\n",
       "      <td></td>\n",
       "      <td></td>\n",
       "      <td></td>\n",
       "      <td></td>\n",
       "      <td>2019.0</td>\n",
       "      <td></td>\n",
       "    </tr>\n",
       "  </tbody>\n",
       "</table>\n",
       "</div>"
      ],
      "text/plain": [
       "              Eventos                                             Oro  \\\n",
       "count              20                                              20   \n",
       "unique             20                                              20   \n",
       "top     55 kg (06.04)  Mirco Scarantino Italia  116 + 145 = 261[n 1]​   \n",
       "freq                1                                               1   \n",
       "mean                                                                    \n",
       "std                                                                     \n",
       "min                                                                     \n",
       "25%                                                                     \n",
       "50%                                                                     \n",
       "75%                                                                     \n",
       "max                                                                     \n",
       "\n",
       "                                               Plata  \\\n",
       "count                                             20   \n",
       "unique                                            20   \n",
       "top     Anguel Rusev Bulgaria  110 + 146 = 256[n 1]​   \n",
       "freq                                               1   \n",
       "mean                                                   \n",
       "std                                                    \n",
       "min                                                    \n",
       "25%                                                    \n",
       "50%                                                    \n",
       "75%                                                    \n",
       "max                                                    \n",
       "\n",
       "                                              Bronce     Año     Genero  \n",
       "count                                             20    20.0         20  \n",
       "unique                                            20                  2  \n",
       "top     Muammer Şahin Turquía  112 + 135 = 247[n 1]​          Masculino  \n",
       "freq                                               1                 10  \n",
       "mean                                                  2019.0             \n",
       "std                                                      0.0             \n",
       "min                                                   2019.0             \n",
       "25%                                                   2019.0             \n",
       "50%                                                   2019.0             \n",
       "75%                                                   2019.0             \n",
       "max                                                   2019.0             "
      ]
     },
     "metadata": {},
     "output_type": "display_data"
    },
    {
     "name": "stdout",
     "output_type": "stream",
     "text": [
      "\n",
      "########################################################################################\n",
      "¿Hay valores nulos en el conjunto de datos?\n",
      "Eventos    0\n",
      "Oro        0\n",
      "Plata      0\n",
      "Bronce     0\n",
      "Año        0\n",
      "Genero     0\n",
      "dtype: int64\n",
      "\n",
      "########################################################################################\n",
      "¿Cuál es el porcentaje de valores nulos en cada columna?\n",
      "Eventos    0.0\n",
      "Oro        0.0\n",
      "Plata      0.0\n",
      "Bronce     0.0\n",
      "Año        0.0\n",
      "Genero     0.0\n",
      "dtype: float64\n",
      "\n",
      "########################################################################################\n",
      "¿Hay filas duplicadas en el conjunto de datos?\n",
      "\tExisten duplicados: False\n",
      "\tNúmero total de filas duplicadas: 0\n",
      "\n",
      "########################################################################################\n",
      "_____________________________________________________________\n",
      "Campeonato_Europeo_de_Halterofilia_de_2020_datos_original.csv\n",
      "_____________________________________________________________\n",
      "¿Cuántas filas y columnas hay en el conjunto de datos?\n",
      "\tHay 20 filas y 6 columnas.\n",
      "\n",
      "########################################################################################\n",
      "¿Cuáles son las primeras cinco filas del conjunto de datos?\n"
     ]
    },
    {
     "data": {
      "text/html": [
       "<div>\n",
       "<style scoped>\n",
       "    .dataframe tbody tr th:only-of-type {\n",
       "        vertical-align: middle;\n",
       "    }\n",
       "\n",
       "    .dataframe tbody tr th {\n",
       "        vertical-align: top;\n",
       "    }\n",
       "\n",
       "    .dataframe thead th {\n",
       "        text-align: right;\n",
       "    }\n",
       "</style>\n",
       "<table border=\"1\" class=\"dataframe\">\n",
       "  <thead>\n",
       "    <tr style=\"text-align: right;\">\n",
       "      <th></th>\n",
       "      <th>Eventos</th>\n",
       "      <th>Oro</th>\n",
       "      <th>Plata</th>\n",
       "      <th>Bronce</th>\n",
       "      <th>Año</th>\n",
       "      <th>Genero</th>\n",
       "    </tr>\n",
       "  </thead>\n",
       "  <tbody>\n",
       "    <tr>\n",
       "      <th>0</th>\n",
       "      <td>55 kg (04.04)</td>\n",
       "      <td>Anguel Rusev Bulgaria  111 + 147 = 258[n 1]​</td>\n",
       "      <td>Valentin Iancu Rumania  108 + 140 = 248[n 1]​</td>\n",
       "      <td>Dmytro Voronovsky Ucrania  110 + 137 = 247[n 1]​</td>\n",
       "      <td>2020</td>\n",
       "      <td>Masculino</td>\n",
       "    </tr>\n",
       "    <tr>\n",
       "      <th>1</th>\n",
       "      <td>61 kg (04.04)</td>\n",
       "      <td>Stilian Grozdev Bulgaria  136 + 160 = 296</td>\n",
       "      <td>Shota Mishvelidze Georgia  135 + 155 = 290</td>\n",
       "      <td>Ferdi Hardal Turquía  130 + 157 = 287</td>\n",
       "      <td>2020</td>\n",
       "      <td>Masculino</td>\n",
       "    </tr>\n",
       "    <tr>\n",
       "      <th>2</th>\n",
       "      <td>67 kg (05.04)</td>\n",
       "      <td>Muhammed Özbek Turquía  145 + 178 = 323</td>\n",
       "      <td>Mirko Zanni Italia  148 + 170 = 318</td>\n",
       "      <td>Valentin Guenchev Bulgaria  138 + 177 = 315</td>\n",
       "      <td>2020</td>\n",
       "      <td>Masculino</td>\n",
       "    </tr>\n",
       "    <tr>\n",
       "      <th>3</th>\n",
       "      <td>73 kg (06.04)</td>\n",
       "      <td>Daniyar İsmayilov Turquía  160 + 181 = 341</td>\n",
       "      <td>Marin Robu Moldavia  156 + 183 = 339</td>\n",
       "      <td>Briken Calja Albania  152 + 184 = 336</td>\n",
       "      <td>2020</td>\n",
       "      <td>Masculino</td>\n",
       "    </tr>\n",
       "    <tr>\n",
       "      <th>4</th>\n",
       "      <td>81 kg (07.04)</td>\n",
       "      <td>Antonino Pizzolato Italia  164 + 206 = 370</td>\n",
       "      <td>Karlos Nasar Bulgaria  163 + 206 = 369</td>\n",
       "      <td>Ritvars Suharevs Letonia  157 + 190 = 347</td>\n",
       "      <td>2020</td>\n",
       "      <td>Masculino</td>\n",
       "    </tr>\n",
       "  </tbody>\n",
       "</table>\n",
       "</div>"
      ],
      "text/plain": [
       "         Eventos                                           Oro  \\\n",
       "0  55 kg (04.04)  Anguel Rusev Bulgaria  111 + 147 = 258[n 1]​   \n",
       "1  61 kg (04.04)     Stilian Grozdev Bulgaria  136 + 160 = 296   \n",
       "2  67 kg (05.04)       Muhammed Özbek Turquía  145 + 178 = 323   \n",
       "3  73 kg (06.04)    Daniyar İsmayilov Turquía  160 + 181 = 341   \n",
       "4  81 kg (07.04)    Antonino Pizzolato Italia  164 + 206 = 370   \n",
       "\n",
       "                                           Plata  \\\n",
       "0  Valentin Iancu Rumania  108 + 140 = 248[n 1]​   \n",
       "1     Shota Mishvelidze Georgia  135 + 155 = 290   \n",
       "2            Mirko Zanni Italia  148 + 170 = 318   \n",
       "3           Marin Robu Moldavia  156 + 183 = 339   \n",
       "4         Karlos Nasar Bulgaria  163 + 206 = 369   \n",
       "\n",
       "                                             Bronce   Año     Genero  \n",
       "0  Dmytro Voronovsky Ucrania  110 + 137 = 247[n 1]​  2020  Masculino  \n",
       "1             Ferdi Hardal Turquía  130 + 157 = 287  2020  Masculino  \n",
       "2       Valentin Guenchev Bulgaria  138 + 177 = 315  2020  Masculino  \n",
       "3             Briken Calja Albania  152 + 184 = 336  2020  Masculino  \n",
       "4         Ritvars Suharevs Letonia  157 + 190 = 347  2020  Masculino  "
      ]
     },
     "metadata": {},
     "output_type": "display_data"
    },
    {
     "name": "stdout",
     "output_type": "stream",
     "text": [
      "\n",
      "########################################################################################\n",
      "¿Cuáles son las últimas cinco filas del conjunto de datos?\n"
     ]
    },
    {
     "data": {
      "text/html": [
       "<div>\n",
       "<style scoped>\n",
       "    .dataframe tbody tr th:only-of-type {\n",
       "        vertical-align: middle;\n",
       "    }\n",
       "\n",
       "    .dataframe tbody tr th {\n",
       "        vertical-align: top;\n",
       "    }\n",
       "\n",
       "    .dataframe thead th {\n",
       "        text-align: right;\n",
       "    }\n",
       "</style>\n",
       "<table border=\"1\" class=\"dataframe\">\n",
       "  <thead>\n",
       "    <tr style=\"text-align: right;\">\n",
       "      <th></th>\n",
       "      <th>Eventos</th>\n",
       "      <th>Oro</th>\n",
       "      <th>Plata</th>\n",
       "      <th>Bronce</th>\n",
       "      <th>Año</th>\n",
       "      <th>Genero</th>\n",
       "    </tr>\n",
       "  </thead>\n",
       "  <tbody>\n",
       "    <tr>\n",
       "      <th>15</th>\n",
       "      <td>71 kg (07.04)</td>\n",
       "      <td>Emily Godley Reino Unido  98 + 129 = 227</td>\n",
       "      <td>Alessia Durante Italia  97 + 122 = 219</td>\n",
       "      <td>Raluca Olaru Rumania  98 + 120 = 218</td>\n",
       "      <td>2020</td>\n",
       "      <td>Femenino</td>\n",
       "    </tr>\n",
       "    <tr>\n",
       "      <th>16</th>\n",
       "      <td>76 kg (08.04)</td>\n",
       "      <td>Iryna Deja Ucrania  113 + 135 = 248</td>\n",
       "      <td>Yana Sotiyeva Rusia  112 + 134 = 246</td>\n",
       "      <td>Anastasiya Romanova Rusia  111 + 132 = 243</td>\n",
       "      <td>2020</td>\n",
       "      <td>Femenino</td>\n",
       "    </tr>\n",
       "    <tr>\n",
       "      <th>17</th>\n",
       "      <td>81 kg (09.04)</td>\n",
       "      <td>Alina Marushchak Ucrania  109 + 127 = 236</td>\n",
       "      <td>Gaëlle Nayo-Ketchanke Francia  100 + 131 = 231</td>\n",
       "      <td>Liana Guiurdzhian Armenia  98 + 129 = 227</td>\n",
       "      <td>2020</td>\n",
       "      <td>Femenino</td>\n",
       "    </tr>\n",
       "    <tr>\n",
       "      <th>18</th>\n",
       "      <td>87 kg (10.04)</td>\n",
       "      <td>Daria Ajmerova Rusia  108 + 138 = 246</td>\n",
       "      <td>Elena Cîlcic Moldavia  107 + 138 = 245</td>\n",
       "      <td>Daria Riazanova Rusia  105 + 135 = 240</td>\n",
       "      <td>2020</td>\n",
       "      <td>Femenino</td>\n",
       "    </tr>\n",
       "    <tr>\n",
       "      <th>19</th>\n",
       "      <td>+87 kg (11.04)</td>\n",
       "      <td>Emily Campbell Reino Unido  122 + 154 = 276</td>\n",
       "      <td>Anastasiya Lysenko Ucrania  116 + 136 = 252</td>\n",
       "      <td>Melike Günal Turquía  108 + 135 = 243</td>\n",
       "      <td>2020</td>\n",
       "      <td>Femenino</td>\n",
       "    </tr>\n",
       "  </tbody>\n",
       "</table>\n",
       "</div>"
      ],
      "text/plain": [
       "           Eventos                                          Oro  \\\n",
       "15   71 kg (07.04)     Emily Godley Reino Unido  98 + 129 = 227   \n",
       "16   76 kg (08.04)          Iryna Deja Ucrania  113 + 135 = 248   \n",
       "17   81 kg (09.04)    Alina Marushchak Ucrania  109 + 127 = 236   \n",
       "18   87 kg (10.04)        Daria Ajmerova Rusia  108 + 138 = 246   \n",
       "19  +87 kg (11.04)  Emily Campbell Reino Unido  122 + 154 = 276   \n",
       "\n",
       "                                             Plata  \\\n",
       "15          Alessia Durante Italia  97 + 122 = 219   \n",
       "16            Yana Sotiyeva Rusia  112 + 134 = 246   \n",
       "17  Gaëlle Nayo-Ketchanke Francia  100 + 131 = 231   \n",
       "18          Elena Cîlcic Moldavia  107 + 138 = 245   \n",
       "19     Anastasiya Lysenko Ucrania  116 + 136 = 252   \n",
       "\n",
       "                                        Bronce   Año    Genero  \n",
       "15        Raluca Olaru Rumania  98 + 120 = 218  2020  Femenino  \n",
       "16  Anastasiya Romanova Rusia  111 + 132 = 243  2020  Femenino  \n",
       "17   Liana Guiurdzhian Armenia  98 + 129 = 227  2020  Femenino  \n",
       "18      Daria Riazanova Rusia  105 + 135 = 240  2020  Femenino  \n",
       "19       Melike Günal Turquía  108 + 135 = 243  2020  Femenino  "
      ]
     },
     "metadata": {},
     "output_type": "display_data"
    },
    {
     "name": "stdout",
     "output_type": "stream",
     "text": [
      "\n",
      "########################################################################################\n",
      "¿Cómo puedes obtener una muestra aleatoria de filas del conjunto de datos?\n"
     ]
    },
    {
     "data": {
      "text/html": [
       "<div>\n",
       "<style scoped>\n",
       "    .dataframe tbody tr th:only-of-type {\n",
       "        vertical-align: middle;\n",
       "    }\n",
       "\n",
       "    .dataframe tbody tr th {\n",
       "        vertical-align: top;\n",
       "    }\n",
       "\n",
       "    .dataframe thead th {\n",
       "        text-align: right;\n",
       "    }\n",
       "</style>\n",
       "<table border=\"1\" class=\"dataframe\">\n",
       "  <thead>\n",
       "    <tr style=\"text-align: right;\">\n",
       "      <th></th>\n",
       "      <th>Eventos</th>\n",
       "      <th>Oro</th>\n",
       "      <th>Plata</th>\n",
       "      <th>Bronce</th>\n",
       "      <th>Año</th>\n",
       "      <th>Genero</th>\n",
       "    </tr>\n",
       "  </thead>\n",
       "  <tbody>\n",
       "    <tr>\n",
       "      <th>15</th>\n",
       "      <td>71 kg (07.04)</td>\n",
       "      <td>Emily Godley Reino Unido  98 + 129 = 227</td>\n",
       "      <td>Alessia Durante Italia  97 + 122 = 219</td>\n",
       "      <td>Raluca Olaru Rumania  98 + 120 = 218</td>\n",
       "      <td>2020</td>\n",
       "      <td>Femenino</td>\n",
       "    </tr>\n",
       "    <tr>\n",
       "      <th>7</th>\n",
       "      <td>102 kg (10.04)</td>\n",
       "      <td>Samvel Gasparian Armenia  176 +214 = 390</td>\n",
       "      <td>Arsen Martirosian Armenia  171 + 209 = 380</td>\n",
       "      <td>Dadaş Dadaşbəyli Azerbaiyán  177 + 202 = 379</td>\n",
       "      <td>2020</td>\n",
       "      <td>Masculino</td>\n",
       "    </tr>\n",
       "    <tr>\n",
       "      <th>5</th>\n",
       "      <td>89 kg (08.04)</td>\n",
       "      <td>Karen Avaguian Armenia  175 + 200 = 375</td>\n",
       "      <td>Revaz Davitadze Georgia  171 + 203 = 374</td>\n",
       "      <td>Andranik Karapetian Armenia  170 + 195 = 365</td>\n",
       "      <td>2020</td>\n",
       "      <td>Masculino</td>\n",
       "    </tr>\n",
       "    <tr>\n",
       "      <th>9</th>\n",
       "      <td>+109 kg (11.04)</td>\n",
       "      <td>Lasha Talajadze Georgia  222 + 263 = 485</td>\n",
       "      <td>Gor Minasian Armenia  216 + 248 = 464</td>\n",
       "      <td>Varazdat Lalayan Armenia  205 + 240 = 445</td>\n",
       "      <td>2020</td>\n",
       "      <td>Masculino</td>\n",
       "    </tr>\n",
       "    <tr>\n",
       "      <th>10</th>\n",
       "      <td>45 kg (03.04)</td>\n",
       "      <td>Nadezhda Nguen Bulgaria  72 + 83 = 155[n 1]​</td>\n",
       "      <td>Ivana Petrova Bulgaria  67 + 85 = 152[n 1]​</td>\n",
       "      <td>Melisa Güneş Turquía  68 + 83 = 151[n 1]​</td>\n",
       "      <td>2020</td>\n",
       "      <td>Femenino</td>\n",
       "    </tr>\n",
       "  </tbody>\n",
       "</table>\n",
       "</div>"
      ],
      "text/plain": [
       "            Eventos                                           Oro  \\\n",
       "15    71 kg (07.04)      Emily Godley Reino Unido  98 + 129 = 227   \n",
       "7    102 kg (10.04)      Samvel Gasparian Armenia  176 +214 = 390   \n",
       "5     89 kg (08.04)       Karen Avaguian Armenia  175 + 200 = 375   \n",
       "9   +109 kg (11.04)      Lasha Talajadze Georgia  222 + 263 = 485   \n",
       "10    45 kg (03.04)  Nadezhda Nguen Bulgaria  72 + 83 = 155[n 1]​   \n",
       "\n",
       "                                          Plata  \\\n",
       "15       Alessia Durante Italia  97 + 122 = 219   \n",
       "7    Arsen Martirosian Armenia  171 + 209 = 380   \n",
       "5      Revaz Davitadze Georgia  171 + 203 = 374   \n",
       "9         Gor Minasian Armenia  216 + 248 = 464   \n",
       "10  Ivana Petrova Bulgaria  67 + 85 = 152[n 1]​   \n",
       "\n",
       "                                          Bronce   Año     Genero  \n",
       "15          Raluca Olaru Rumania  98 + 120 = 218  2020   Femenino  \n",
       "7   Dadaş Dadaşbəyli Azerbaiyán  177 + 202 = 379  2020  Masculino  \n",
       "5   Andranik Karapetian Armenia  170 + 195 = 365  2020  Masculino  \n",
       "9      Varazdat Lalayan Armenia  205 + 240 = 445  2020  Masculino  \n",
       "10     Melisa Güneş Turquía  68 + 83 = 151[n 1]​  2020   Femenino  "
      ]
     },
     "metadata": {},
     "output_type": "display_data"
    },
    {
     "name": "stdout",
     "output_type": "stream",
     "text": [
      "\n",
      "########################################################################################\n",
      "¿Cuáles son las columnas del conjunto de datos?\n",
      "\t - Eventos\n",
      "\t - Oro\n",
      "\t - Plata\n",
      "\t - Bronce\n",
      "\t - Año\n",
      "\t - Genero\n",
      "\n",
      "########################################################################################\n",
      "¿Cuál es el tipo de datos de cada columna?\n",
      "Eventos    object\n",
      "Oro        object\n",
      "Plata      object\n",
      "Bronce     object\n",
      "Año         int64\n",
      "Genero     object\n",
      "dtype: object\n",
      "\n",
      "########################################################################################\n",
      "¿Cuántas columnas hay de cada tipo de datos?\n",
      "object    5\n",
      "int64     1\n",
      "Name: count, dtype: int64\n",
      "\n",
      "########################################################################################\n",
      "¿Cómo podríamos obtener información más completa sobre la estructura y el contenido del DataFrame?\n",
      "<class 'pandas.core.frame.DataFrame'>\n",
      "RangeIndex: 20 entries, 0 to 19\n",
      "Data columns (total 6 columns):\n",
      " #   Column   Non-Null Count  Dtype \n",
      "---  ------   --------------  ----- \n",
      " 0   Eventos  20 non-null     object\n",
      " 1   Oro      20 non-null     object\n",
      " 2   Plata    20 non-null     object\n",
      " 3   Bronce   20 non-null     object\n",
      " 4   Año      20 non-null     int64 \n",
      " 5   Genero   20 non-null     object\n",
      "dtypes: int64(1), object(5)\n",
      "memory usage: 1.1+ KB\n",
      "None\n",
      "\n",
      "########################################################################################\n",
      "¿Cuántos valores únicos tiene cada columna?\n",
      "Eventos    19\n",
      "Oro        20\n",
      "Plata      20\n",
      "Bronce     20\n",
      "Año         1\n",
      "Genero      2\n",
      "dtype: int64\n",
      "\n",
      "########################################################################################\n",
      "¿Cuáles son las estadísticas descriptivas básicas de todas las columnas?\n"
     ]
    },
    {
     "data": {
      "text/html": [
       "<div>\n",
       "<style scoped>\n",
       "    .dataframe tbody tr th:only-of-type {\n",
       "        vertical-align: middle;\n",
       "    }\n",
       "\n",
       "    .dataframe tbody tr th {\n",
       "        vertical-align: top;\n",
       "    }\n",
       "\n",
       "    .dataframe thead th {\n",
       "        text-align: right;\n",
       "    }\n",
       "</style>\n",
       "<table border=\"1\" class=\"dataframe\">\n",
       "  <thead>\n",
       "    <tr style=\"text-align: right;\">\n",
       "      <th></th>\n",
       "      <th>Eventos</th>\n",
       "      <th>Oro</th>\n",
       "      <th>Plata</th>\n",
       "      <th>Bronce</th>\n",
       "      <th>Año</th>\n",
       "      <th>Genero</th>\n",
       "    </tr>\n",
       "  </thead>\n",
       "  <tbody>\n",
       "    <tr>\n",
       "      <th>count</th>\n",
       "      <td>20</td>\n",
       "      <td>20</td>\n",
       "      <td>20</td>\n",
       "      <td>20</td>\n",
       "      <td>20.0</td>\n",
       "      <td>20</td>\n",
       "    </tr>\n",
       "    <tr>\n",
       "      <th>unique</th>\n",
       "      <td>19</td>\n",
       "      <td>20</td>\n",
       "      <td>20</td>\n",
       "      <td>20</td>\n",
       "      <td></td>\n",
       "      <td>2</td>\n",
       "    </tr>\n",
       "    <tr>\n",
       "      <th>top</th>\n",
       "      <td>55 kg (04.04)</td>\n",
       "      <td>Anguel Rusev Bulgaria  111 + 147 = 258[n 1]​</td>\n",
       "      <td>Valentin Iancu Rumania  108 + 140 = 248[n 1]​</td>\n",
       "      <td>Dmytro Voronovsky Ucrania  110 + 137 = 247[n 1]​</td>\n",
       "      <td></td>\n",
       "      <td>Masculino</td>\n",
       "    </tr>\n",
       "    <tr>\n",
       "      <th>freq</th>\n",
       "      <td>2</td>\n",
       "      <td>1</td>\n",
       "      <td>1</td>\n",
       "      <td>1</td>\n",
       "      <td></td>\n",
       "      <td>10</td>\n",
       "    </tr>\n",
       "    <tr>\n",
       "      <th>mean</th>\n",
       "      <td></td>\n",
       "      <td></td>\n",
       "      <td></td>\n",
       "      <td></td>\n",
       "      <td>2020.0</td>\n",
       "      <td></td>\n",
       "    </tr>\n",
       "    <tr>\n",
       "      <th>std</th>\n",
       "      <td></td>\n",
       "      <td></td>\n",
       "      <td></td>\n",
       "      <td></td>\n",
       "      <td>0.0</td>\n",
       "      <td></td>\n",
       "    </tr>\n",
       "    <tr>\n",
       "      <th>min</th>\n",
       "      <td></td>\n",
       "      <td></td>\n",
       "      <td></td>\n",
       "      <td></td>\n",
       "      <td>2020.0</td>\n",
       "      <td></td>\n",
       "    </tr>\n",
       "    <tr>\n",
       "      <th>25%</th>\n",
       "      <td></td>\n",
       "      <td></td>\n",
       "      <td></td>\n",
       "      <td></td>\n",
       "      <td>2020.0</td>\n",
       "      <td></td>\n",
       "    </tr>\n",
       "    <tr>\n",
       "      <th>50%</th>\n",
       "      <td></td>\n",
       "      <td></td>\n",
       "      <td></td>\n",
       "      <td></td>\n",
       "      <td>2020.0</td>\n",
       "      <td></td>\n",
       "    </tr>\n",
       "    <tr>\n",
       "      <th>75%</th>\n",
       "      <td></td>\n",
       "      <td></td>\n",
       "      <td></td>\n",
       "      <td></td>\n",
       "      <td>2020.0</td>\n",
       "      <td></td>\n",
       "    </tr>\n",
       "    <tr>\n",
       "      <th>max</th>\n",
       "      <td></td>\n",
       "      <td></td>\n",
       "      <td></td>\n",
       "      <td></td>\n",
       "      <td>2020.0</td>\n",
       "      <td></td>\n",
       "    </tr>\n",
       "  </tbody>\n",
       "</table>\n",
       "</div>"
      ],
      "text/plain": [
       "              Eventos                                           Oro  \\\n",
       "count              20                                            20   \n",
       "unique             19                                            20   \n",
       "top     55 kg (04.04)  Anguel Rusev Bulgaria  111 + 147 = 258[n 1]​   \n",
       "freq                2                                             1   \n",
       "mean                                                                  \n",
       "std                                                                   \n",
       "min                                                                   \n",
       "25%                                                                   \n",
       "50%                                                                   \n",
       "75%                                                                   \n",
       "max                                                                   \n",
       "\n",
       "                                                Plata  \\\n",
       "count                                              20   \n",
       "unique                                             20   \n",
       "top     Valentin Iancu Rumania  108 + 140 = 248[n 1]​   \n",
       "freq                                                1   \n",
       "mean                                                    \n",
       "std                                                     \n",
       "min                                                     \n",
       "25%                                                     \n",
       "50%                                                     \n",
       "75%                                                     \n",
       "max                                                     \n",
       "\n",
       "                                                  Bronce     Año     Genero  \n",
       "count                                                 20    20.0         20  \n",
       "unique                                                20                  2  \n",
       "top     Dmytro Voronovsky Ucrania  110 + 137 = 247[n 1]​          Masculino  \n",
       "freq                                                   1                 10  \n",
       "mean                                                      2020.0             \n",
       "std                                                          0.0             \n",
       "min                                                       2020.0             \n",
       "25%                                                       2020.0             \n",
       "50%                                                       2020.0             \n",
       "75%                                                       2020.0             \n",
       "max                                                       2020.0             "
      ]
     },
     "metadata": {},
     "output_type": "display_data"
    },
    {
     "name": "stdout",
     "output_type": "stream",
     "text": [
      "\n",
      "########################################################################################\n",
      "¿Hay valores nulos en el conjunto de datos?\n",
      "Eventos    0\n",
      "Oro        0\n",
      "Plata      0\n",
      "Bronce     0\n",
      "Año        0\n",
      "Genero     0\n",
      "dtype: int64\n",
      "\n",
      "########################################################################################\n",
      "¿Cuál es el porcentaje de valores nulos en cada columna?\n",
      "Eventos    0.0\n",
      "Oro        0.0\n",
      "Plata      0.0\n",
      "Bronce     0.0\n",
      "Año        0.0\n",
      "Genero     0.0\n",
      "dtype: float64\n",
      "\n",
      "########################################################################################\n",
      "¿Hay filas duplicadas en el conjunto de datos?\n",
      "\tExisten duplicados: False\n",
      "\tNúmero total de filas duplicadas: 0\n",
      "\n",
      "########################################################################################\n"
     ]
    }
   ],
   "source": [
    "for k, v in dict_datos.items():\n",
    "    print(\"_\"*len(k))\n",
    "    print(k)\n",
    "    print(\"_\"*len(k))\n",
    "    exploracion_inicial(df= v)"
   ]
  },
  {
   "cell_type": "markdown",
   "id": "60880d96",
   "metadata": {},
   "source": [
    "No hay nulos ni duplicados, pero vemos que en cada columna hay muchos datos que deberíamos separar en distintas columnas para analizarlos de manera correcta y caracteres extraños "
   ]
  },
  {
   "cell_type": "markdown",
   "id": "cbc0eb3b",
   "metadata": {},
   "source": [
    "## <span style=\"color: #2A8E3C;\"> Paso 4. Crear un único dataframe con los datos de 2019 y 2020 </span> "
   ]
  },
  {
   "cell_type": "markdown",
   "id": "d0ea0254",
   "metadata": {},
   "source": [
    "Como tienen la misma estructura, los concatenaremos en un mismo dataframe para proceder a la limpieza de los datos."
   ]
  },
  {
   "cell_type": "code",
   "execution_count": 7,
   "id": "cf6a1c09",
   "metadata": {},
   "outputs": [
    {
     "data": {
      "text/html": [
       "<div>\n",
       "<style scoped>\n",
       "    .dataframe tbody tr th:only-of-type {\n",
       "        vertical-align: middle;\n",
       "    }\n",
       "\n",
       "    .dataframe tbody tr th {\n",
       "        vertical-align: top;\n",
       "    }\n",
       "\n",
       "    .dataframe thead th {\n",
       "        text-align: right;\n",
       "    }\n",
       "</style>\n",
       "<table border=\"1\" class=\"dataframe\">\n",
       "  <thead>\n",
       "    <tr style=\"text-align: right;\">\n",
       "      <th></th>\n",
       "      <th>Eventos</th>\n",
       "      <th>Oro</th>\n",
       "      <th>Plata</th>\n",
       "      <th>Bronce</th>\n",
       "      <th>Año</th>\n",
       "      <th>Genero</th>\n",
       "    </tr>\n",
       "  </thead>\n",
       "  <tbody>\n",
       "    <tr>\n",
       "      <th>0</th>\n",
       "      <td>55 kg (06.04)</td>\n",
       "      <td>Mirco Scarantino Italia  116 + 145 = 261[n 1]​</td>\n",
       "      <td>Anguel Rusev Bulgaria  110 + 146 = 256[n 1]​</td>\n",
       "      <td>Muammer Şahin Turquía  112 + 135 = 247[n 1]​</td>\n",
       "      <td>2019</td>\n",
       "      <td>Masculino</td>\n",
       "    </tr>\n",
       "    <tr>\n",
       "      <th>1</th>\n",
       "      <td>61 kg (07.04)</td>\n",
       "      <td>Henadz Laptseu Bielorrusia  133 + 153 = 286</td>\n",
       "      <td>Bünyamin Sezer Turquía  132 + 151 = 283</td>\n",
       "      <td>Ferdi Hardal Turquía  127 + 155 = 282</td>\n",
       "      <td>2019</td>\n",
       "      <td>Masculino</td>\n",
       "    </tr>\n",
       "    <tr>\n",
       "      <th>2</th>\n",
       "      <td>67 kg (08.04)</td>\n",
       "      <td>Bernardin Matam Francia  137 + 175 = 312</td>\n",
       "      <td>Simon Brandhuber Alemania  146 + 165 = 311</td>\n",
       "      <td>Goga Chjeidze Georgia  139 + 169 = 308</td>\n",
       "      <td>2019</td>\n",
       "      <td>Masculino</td>\n",
       "    </tr>\n",
       "    <tr>\n",
       "      <th>3</th>\n",
       "      <td>73 kg (09.04)</td>\n",
       "      <td>Bozhidar Andreev Bulgaria  153 + 192 = 345</td>\n",
       "      <td>Briken Calja Albania  156 + 183 = 339</td>\n",
       "      <td>Vadzim Lijarad Bielorrusia  153 + 182 = 335</td>\n",
       "      <td>2019</td>\n",
       "      <td>Masculino</td>\n",
       "    </tr>\n",
       "    <tr>\n",
       "      <th>4</th>\n",
       "      <td>81 kg (10.04)</td>\n",
       "      <td>Antonino Pizzolato Italia  155 + 201 = 356</td>\n",
       "      <td>Piotr Asayonak Bielorrusia  159 + 196 = 355</td>\n",
       "      <td>Ritvars Suharevs Letonia  162 + 192 = 354</td>\n",
       "      <td>2019</td>\n",
       "      <td>Masculino</td>\n",
       "    </tr>\n",
       "  </tbody>\n",
       "</table>\n",
       "</div>"
      ],
      "text/plain": [
       "         Eventos                                             Oro  \\\n",
       "0  55 kg (06.04)  Mirco Scarantino Italia  116 + 145 = 261[n 1]​   \n",
       "1  61 kg (07.04)     Henadz Laptseu Bielorrusia  133 + 153 = 286   \n",
       "2  67 kg (08.04)        Bernardin Matam Francia  137 + 175 = 312   \n",
       "3  73 kg (09.04)      Bozhidar Andreev Bulgaria  153 + 192 = 345   \n",
       "4  81 kg (10.04)      Antonino Pizzolato Italia  155 + 201 = 356   \n",
       "\n",
       "                                          Plata  \\\n",
       "0  Anguel Rusev Bulgaria  110 + 146 = 256[n 1]​   \n",
       "1       Bünyamin Sezer Turquía  132 + 151 = 283   \n",
       "2    Simon Brandhuber Alemania  146 + 165 = 311   \n",
       "3         Briken Calja Albania  156 + 183 = 339   \n",
       "4   Piotr Asayonak Bielorrusia  159 + 196 = 355   \n",
       "\n",
       "                                         Bronce   Año     Genero  \n",
       "0  Muammer Şahin Turquía  112 + 135 = 247[n 1]​  2019  Masculino  \n",
       "1         Ferdi Hardal Turquía  127 + 155 = 282  2019  Masculino  \n",
       "2        Goga Chjeidze Georgia  139 + 169 = 308  2019  Masculino  \n",
       "3   Vadzim Lijarad Bielorrusia  153 + 182 = 335  2019  Masculino  \n",
       "4     Ritvars Suharevs Letonia  162 + 192 = 354  2019  Masculino  "
      ]
     },
     "execution_count": 7,
     "metadata": {},
     "output_type": "execute_result"
    }
   ],
   "source": [
    "df = pd.concat(dict_datos.values(), ignore_index=True)\n",
    "df.head()"
   ]
  },
  {
   "cell_type": "markdown",
   "id": "36ae8e0e",
   "metadata": {},
   "source": [
    "## <span style=\"color: #2A8E3C;\"> Paso 5. Transformar los datos </span> "
   ]
  },
  {
   "cell_type": "markdown",
   "id": "97206426",
   "metadata": {},
   "source": [
    "Para empezar a ordenar las columnas crearemos nuevas columnas:\n",
    "- `Medalla` donde indicaremos si es Oro, Plata o Bronce.\n",
    "- `Atleta`donde indicaremos los datos que actualmente se encuentran en las columnas `Oro`, `Plata` y `Bronce`."
   ]
  },
  {
   "cell_type": "code",
   "execution_count": 8,
   "id": "c6320449",
   "metadata": {},
   "outputs": [],
   "source": [
    "def transformar_datos(df):\n",
    "   # Paso 1: Crear columnas vacías 'Medalla' y 'Atleta' que serán rellenadas posteriormente\n",
    "    df['Medalla'] = None\n",
    "    df['Atleta'] = None\n",
    "\n",
    "    # Paso 2: Crear tres DataFrames separados, uno para cada tipo de medalla\n",
    "    # Cada uno contiene solo las columnas relevantes incluyendo la columna del ganador específico\n",
    "    df_oro = df[['Eventos', 'Año', 'Genero', 'Medalla', 'Oro', 'Atleta']]\n",
    "    df_plata = df[['Eventos', 'Año', 'Genero', 'Medalla', 'Plata', 'Atleta']]\n",
    "    df_bronce = df[['Eventos', 'Año', 'Genero', 'Medalla', 'Bronce', 'Atleta']]\n",
    "\n",
    "    # Paso 3: Asignar el tipo de medalla a la columna 'Medalla' en cada DataFrame\n",
    "    # Se obtiene el nombre de la columna del DataFrame original (posición 1, 2 y 3)\n",
    "    df_oro['Medalla'] = str(df.columns.tolist()[1])     # Asigna 'Oro' a la columna 'Medalla'\n",
    "    df_plata['Medalla'] = str(df.columns.tolist()[2])   # Asigna 'Plata' a la columna 'Medalla'\n",
    "    df_bronce['Medalla'] = str(df.columns.tolist()[3])  # Asigna 'Bronce' a la columna 'Medalla'\n",
    "\n",
    "    # Paso 4: Copiar el nombre del atleta ganador a la columna 'Atleta' genérica en cada DataFrame\n",
    "    df_oro.Atleta = df_oro.Oro       # Copia nombres de los ganadores de oro a columna 'Atleta'\n",
    "    df_plata.Atleta = df_plata.Plata # Copia nombres de los ganadores de plata a columna 'Atleta'\n",
    "    df_bronce.Atleta = df_bronce.Bronce # Copia nombres de los ganadores de bronce a columna 'Atleta'\n",
    "\n",
    "    # Paso 5: Eliminar las columnas específicas de cada medalla pues ya tenemos la información normalizada\n",
    "    df_oro.drop(columns=['Oro'], inplace=True)\n",
    "    df_plata.drop(columns=['Plata'], inplace=True)\n",
    "    df_bronce.drop(columns=['Bronce'], inplace=True)\n",
    "    \n",
    "    # Paso 6: Combinar los tres DataFrames en uno solo y reiniciar los índices\n",
    "    # ignore_index=True asegura que los índices sean continuos en el nuevo DataFrame\n",
    "    return pd.concat([df_oro, df_plata, df_bronce], ignore_index=True)"
   ]
  },
  {
   "cell_type": "markdown",
   "id": "4daed660",
   "metadata": {},
   "source": [
    "Realizamos la transformación y comprobamos que el dataframe resultante no tenga nulos ni duplicados y los datos sigan siendo consistentes."
   ]
  },
  {
   "cell_type": "code",
   "execution_count": null,
   "id": "58fc9a4a",
   "metadata": {},
   "outputs": [
    {
     "name": "stdout",
     "output_type": "stream",
     "text": [
      "¿Cuántas filas y columnas hay en el conjunto de datos?\n",
      "\tHay 120 filas y 5 columnas.\n",
      "\n",
      "########################################################################################\n",
      "¿Cuáles son las primeras cinco filas del conjunto de datos?\n"
     ]
    },
    {
     "data": {
      "text/html": [
       "<div>\n",
       "<style scoped>\n",
       "    .dataframe tbody tr th:only-of-type {\n",
       "        vertical-align: middle;\n",
       "    }\n",
       "\n",
       "    .dataframe tbody tr th {\n",
       "        vertical-align: top;\n",
       "    }\n",
       "\n",
       "    .dataframe thead th {\n",
       "        text-align: right;\n",
       "    }\n",
       "</style>\n",
       "<table border=\"1\" class=\"dataframe\">\n",
       "  <thead>\n",
       "    <tr style=\"text-align: right;\">\n",
       "      <th></th>\n",
       "      <th>Eventos</th>\n",
       "      <th>Año</th>\n",
       "      <th>Genero</th>\n",
       "      <th>Medalla</th>\n",
       "      <th>Atleta</th>\n",
       "    </tr>\n",
       "  </thead>\n",
       "  <tbody>\n",
       "    <tr>\n",
       "      <th>0</th>\n",
       "      <td>55 kg (06.04)</td>\n",
       "      <td>2019</td>\n",
       "      <td>Masculino</td>\n",
       "      <td>Oro</td>\n",
       "      <td>Mirco Scarantino Italia  116 + 145 = 261[n 1]​</td>\n",
       "    </tr>\n",
       "    <tr>\n",
       "      <th>1</th>\n",
       "      <td>61 kg (07.04)</td>\n",
       "      <td>2019</td>\n",
       "      <td>Masculino</td>\n",
       "      <td>Oro</td>\n",
       "      <td>Henadz Laptseu Bielorrusia  133 + 153 = 286</td>\n",
       "    </tr>\n",
       "    <tr>\n",
       "      <th>2</th>\n",
       "      <td>67 kg (08.04)</td>\n",
       "      <td>2019</td>\n",
       "      <td>Masculino</td>\n",
       "      <td>Oro</td>\n",
       "      <td>Bernardin Matam Francia  137 + 175 = 312</td>\n",
       "    </tr>\n",
       "    <tr>\n",
       "      <th>3</th>\n",
       "      <td>73 kg (09.04)</td>\n",
       "      <td>2019</td>\n",
       "      <td>Masculino</td>\n",
       "      <td>Oro</td>\n",
       "      <td>Bozhidar Andreev Bulgaria  153 + 192 = 345</td>\n",
       "    </tr>\n",
       "    <tr>\n",
       "      <th>4</th>\n",
       "      <td>81 kg (10.04)</td>\n",
       "      <td>2019</td>\n",
       "      <td>Masculino</td>\n",
       "      <td>Oro</td>\n",
       "      <td>Antonino Pizzolato Italia  155 + 201 = 356</td>\n",
       "    </tr>\n",
       "  </tbody>\n",
       "</table>\n",
       "</div>"
      ],
      "text/plain": [
       "         Eventos   Año     Genero Medalla  \\\n",
       "0  55 kg (06.04)  2019  Masculino     Oro   \n",
       "1  61 kg (07.04)  2019  Masculino     Oro   \n",
       "2  67 kg (08.04)  2019  Masculino     Oro   \n",
       "3  73 kg (09.04)  2019  Masculino     Oro   \n",
       "4  81 kg (10.04)  2019  Masculino     Oro   \n",
       "\n",
       "                                           Atleta  \n",
       "0  Mirco Scarantino Italia  116 + 145 = 261[n 1]​  \n",
       "1     Henadz Laptseu Bielorrusia  133 + 153 = 286  \n",
       "2        Bernardin Matam Francia  137 + 175 = 312  \n",
       "3      Bozhidar Andreev Bulgaria  153 + 192 = 345  \n",
       "4      Antonino Pizzolato Italia  155 + 201 = 356  "
      ]
     },
     "metadata": {},
     "output_type": "display_data"
    },
    {
     "name": "stdout",
     "output_type": "stream",
     "text": [
      "\n",
      "########################################################################################\n",
      "¿Cuáles son las últimas cinco filas del conjunto de datos?\n"
     ]
    },
    {
     "data": {
      "text/html": [
       "<div>\n",
       "<style scoped>\n",
       "    .dataframe tbody tr th:only-of-type {\n",
       "        vertical-align: middle;\n",
       "    }\n",
       "\n",
       "    .dataframe tbody tr th {\n",
       "        vertical-align: top;\n",
       "    }\n",
       "\n",
       "    .dataframe thead th {\n",
       "        text-align: right;\n",
       "    }\n",
       "</style>\n",
       "<table border=\"1\" class=\"dataframe\">\n",
       "  <thead>\n",
       "    <tr style=\"text-align: right;\">\n",
       "      <th></th>\n",
       "      <th>Eventos</th>\n",
       "      <th>Año</th>\n",
       "      <th>Genero</th>\n",
       "      <th>Medalla</th>\n",
       "      <th>Atleta</th>\n",
       "    </tr>\n",
       "  </thead>\n",
       "  <tbody>\n",
       "    <tr>\n",
       "      <th>115</th>\n",
       "      <td>71 kg (07.04)</td>\n",
       "      <td>2020</td>\n",
       "      <td>Femenino</td>\n",
       "      <td>Bronce</td>\n",
       "      <td>Raluca Olaru Rumania  98 + 120 = 218</td>\n",
       "    </tr>\n",
       "    <tr>\n",
       "      <th>116</th>\n",
       "      <td>76 kg (08.04)</td>\n",
       "      <td>2020</td>\n",
       "      <td>Femenino</td>\n",
       "      <td>Bronce</td>\n",
       "      <td>Anastasiya Romanova Rusia  111 + 132 = 243</td>\n",
       "    </tr>\n",
       "    <tr>\n",
       "      <th>117</th>\n",
       "      <td>81 kg (09.04)</td>\n",
       "      <td>2020</td>\n",
       "      <td>Femenino</td>\n",
       "      <td>Bronce</td>\n",
       "      <td>Liana Guiurdzhian Armenia  98 + 129 = 227</td>\n",
       "    </tr>\n",
       "    <tr>\n",
       "      <th>118</th>\n",
       "      <td>87 kg (10.04)</td>\n",
       "      <td>2020</td>\n",
       "      <td>Femenino</td>\n",
       "      <td>Bronce</td>\n",
       "      <td>Daria Riazanova Rusia  105 + 135 = 240</td>\n",
       "    </tr>\n",
       "    <tr>\n",
       "      <th>119</th>\n",
       "      <td>+87 kg (11.04)</td>\n",
       "      <td>2020</td>\n",
       "      <td>Femenino</td>\n",
       "      <td>Bronce</td>\n",
       "      <td>Melike Günal Turquía  108 + 135 = 243</td>\n",
       "    </tr>\n",
       "  </tbody>\n",
       "</table>\n",
       "</div>"
      ],
      "text/plain": [
       "            Eventos   Año    Genero Medalla  \\\n",
       "115   71 kg (07.04)  2020  Femenino  Bronce   \n",
       "116   76 kg (08.04)  2020  Femenino  Bronce   \n",
       "117   81 kg (09.04)  2020  Femenino  Bronce   \n",
       "118   87 kg (10.04)  2020  Femenino  Bronce   \n",
       "119  +87 kg (11.04)  2020  Femenino  Bronce   \n",
       "\n",
       "                                         Atleta  \n",
       "115        Raluca Olaru Rumania  98 + 120 = 218  \n",
       "116  Anastasiya Romanova Rusia  111 + 132 = 243  \n",
       "117   Liana Guiurdzhian Armenia  98 + 129 = 227  \n",
       "118      Daria Riazanova Rusia  105 + 135 = 240  \n",
       "119       Melike Günal Turquía  108 + 135 = 243  "
      ]
     },
     "metadata": {},
     "output_type": "display_data"
    },
    {
     "name": "stdout",
     "output_type": "stream",
     "text": [
      "\n",
      "########################################################################################\n",
      "¿Cómo puedes obtener una muestra aleatoria de filas del conjunto de datos?\n"
     ]
    },
    {
     "data": {
      "text/html": [
       "<div>\n",
       "<style scoped>\n",
       "    .dataframe tbody tr th:only-of-type {\n",
       "        vertical-align: middle;\n",
       "    }\n",
       "\n",
       "    .dataframe tbody tr th {\n",
       "        vertical-align: top;\n",
       "    }\n",
       "\n",
       "    .dataframe thead th {\n",
       "        text-align: right;\n",
       "    }\n",
       "</style>\n",
       "<table border=\"1\" class=\"dataframe\">\n",
       "  <thead>\n",
       "    <tr style=\"text-align: right;\">\n",
       "      <th></th>\n",
       "      <th>Eventos</th>\n",
       "      <th>Año</th>\n",
       "      <th>Genero</th>\n",
       "      <th>Medalla</th>\n",
       "      <th>Atleta</th>\n",
       "    </tr>\n",
       "  </thead>\n",
       "  <tbody>\n",
       "    <tr>\n",
       "      <th>83</th>\n",
       "      <td>73 kg (09.04)</td>\n",
       "      <td>2019</td>\n",
       "      <td>Masculino</td>\n",
       "      <td>Bronce</td>\n",
       "      <td>Vadzim Lijarad Bielorrusia  153 + 182 = 335</td>\n",
       "    </tr>\n",
       "    <tr>\n",
       "      <th>94</th>\n",
       "      <td>64 kg (09.04)</td>\n",
       "      <td>2019</td>\n",
       "      <td>Femenino</td>\n",
       "      <td>Bronce</td>\n",
       "      <td>Zoe Smith Reino Unido  96 + 128 = 224</td>\n",
       "    </tr>\n",
       "    <tr>\n",
       "      <th>114</th>\n",
       "      <td>64 kg (06.04)</td>\n",
       "      <td>2020</td>\n",
       "      <td>Femenino</td>\n",
       "      <td>Bronce</td>\n",
       "      <td>Anastasiya Anzorova Rusia  100 + 122 = 222</td>\n",
       "    </tr>\n",
       "    <tr>\n",
       "      <th>85</th>\n",
       "      <td>89 kg (11.04)</td>\n",
       "      <td>2019</td>\n",
       "      <td>Masculino</td>\n",
       "      <td>Bronce</td>\n",
       "      <td>Davit Hovhannisian Armenia  165 + 195 = 360</td>\n",
       "    </tr>\n",
       "    <tr>\n",
       "      <th>2</th>\n",
       "      <td>67 kg (08.04)</td>\n",
       "      <td>2019</td>\n",
       "      <td>Masculino</td>\n",
       "      <td>Oro</td>\n",
       "      <td>Bernardin Matam Francia  137 + 175 = 312</td>\n",
       "    </tr>\n",
       "  </tbody>\n",
       "</table>\n",
       "</div>"
      ],
      "text/plain": [
       "           Eventos   Año     Genero Medalla  \\\n",
       "83   73 kg (09.04)  2019  Masculino  Bronce   \n",
       "94   64 kg (09.04)  2019   Femenino  Bronce   \n",
       "114  64 kg (06.04)  2020   Femenino  Bronce   \n",
       "85   89 kg (11.04)  2019  Masculino  Bronce   \n",
       "2    67 kg (08.04)  2019  Masculino     Oro   \n",
       "\n",
       "                                          Atleta  \n",
       "83   Vadzim Lijarad Bielorrusia  153 + 182 = 335  \n",
       "94         Zoe Smith Reino Unido  96 + 128 = 224  \n",
       "114   Anastasiya Anzorova Rusia  100 + 122 = 222  \n",
       "85   Davit Hovhannisian Armenia  165 + 195 = 360  \n",
       "2       Bernardin Matam Francia  137 + 175 = 312  "
      ]
     },
     "metadata": {},
     "output_type": "display_data"
    },
    {
     "name": "stdout",
     "output_type": "stream",
     "text": [
      "\n",
      "########################################################################################\n",
      "¿Cuáles son las columnas del conjunto de datos?\n",
      "\t - Eventos\n",
      "\t - Año\n",
      "\t - Genero\n",
      "\t - Medalla\n",
      "\t - Atleta\n",
      "\n",
      "########################################################################################\n",
      "¿Cuál es el tipo de datos de cada columna?\n",
      "Eventos    object\n",
      "Año         int64\n",
      "Genero     object\n",
      "Medalla    object\n",
      "Atleta     object\n",
      "dtype: object\n",
      "\n",
      "########################################################################################\n",
      "¿Cuántas columnas hay de cada tipo de datos?\n",
      "object    4\n",
      "int64     1\n",
      "Name: count, dtype: int64\n",
      "\n",
      "########################################################################################\n",
      "¿Cómo podríamos obtener información más completa sobre la estructura y el contenido del DataFrame?\n",
      "<class 'pandas.core.frame.DataFrame'>\n",
      "RangeIndex: 120 entries, 0 to 119\n",
      "Data columns (total 5 columns):\n",
      " #   Column   Non-Null Count  Dtype \n",
      "---  ------   --------------  ----- \n",
      " 0   Eventos  120 non-null    object\n",
      " 1   Año      120 non-null    int64 \n",
      " 2   Genero   120 non-null    object\n",
      " 3   Medalla  120 non-null    object\n",
      " 4   Atleta   120 non-null    object\n",
      "dtypes: int64(1), object(4)\n",
      "memory usage: 4.8+ KB\n",
      "None\n",
      "\n",
      "########################################################################################\n",
      "¿Cuántos valores únicos tiene cada columna?\n",
      "Eventos     39\n",
      "Año          2\n",
      "Genero       2\n",
      "Medalla      3\n",
      "Atleta     120\n",
      "dtype: int64\n",
      "\n",
      "########################################################################################\n",
      "¿Cuáles son las estadísticas descriptivas básicas de todas las columnas?\n"
     ]
    },
    {
     "data": {
      "text/html": [
       "<div>\n",
       "<style scoped>\n",
       "    .dataframe tbody tr th:only-of-type {\n",
       "        vertical-align: middle;\n",
       "    }\n",
       "\n",
       "    .dataframe tbody tr th {\n",
       "        vertical-align: top;\n",
       "    }\n",
       "\n",
       "    .dataframe thead th {\n",
       "        text-align: right;\n",
       "    }\n",
       "</style>\n",
       "<table border=\"1\" class=\"dataframe\">\n",
       "  <thead>\n",
       "    <tr style=\"text-align: right;\">\n",
       "      <th></th>\n",
       "      <th>Eventos</th>\n",
       "      <th>Año</th>\n",
       "      <th>Genero</th>\n",
       "      <th>Medalla</th>\n",
       "      <th>Atleta</th>\n",
       "    </tr>\n",
       "  </thead>\n",
       "  <tbody>\n",
       "    <tr>\n",
       "      <th>count</th>\n",
       "      <td>120</td>\n",
       "      <td>120.0</td>\n",
       "      <td>120</td>\n",
       "      <td>120</td>\n",
       "      <td>120</td>\n",
       "    </tr>\n",
       "    <tr>\n",
       "      <th>unique</th>\n",
       "      <td>39</td>\n",
       "      <td></td>\n",
       "      <td>2</td>\n",
       "      <td>3</td>\n",
       "      <td>120</td>\n",
       "    </tr>\n",
       "    <tr>\n",
       "      <th>top</th>\n",
       "      <td>55 kg (04.04)</td>\n",
       "      <td></td>\n",
       "      <td>Masculino</td>\n",
       "      <td>Oro</td>\n",
       "      <td>Mirco Scarantino Italia  116 + 145 = 261[n 1]​</td>\n",
       "    </tr>\n",
       "    <tr>\n",
       "      <th>freq</th>\n",
       "      <td>6</td>\n",
       "      <td></td>\n",
       "      <td>60</td>\n",
       "      <td>40</td>\n",
       "      <td>1</td>\n",
       "    </tr>\n",
       "    <tr>\n",
       "      <th>mean</th>\n",
       "      <td></td>\n",
       "      <td>2019.5</td>\n",
       "      <td></td>\n",
       "      <td></td>\n",
       "      <td></td>\n",
       "    </tr>\n",
       "    <tr>\n",
       "      <th>std</th>\n",
       "      <td></td>\n",
       "      <td>0.502096</td>\n",
       "      <td></td>\n",
       "      <td></td>\n",
       "      <td></td>\n",
       "    </tr>\n",
       "    <tr>\n",
       "      <th>min</th>\n",
       "      <td></td>\n",
       "      <td>2019.0</td>\n",
       "      <td></td>\n",
       "      <td></td>\n",
       "      <td></td>\n",
       "    </tr>\n",
       "    <tr>\n",
       "      <th>25%</th>\n",
       "      <td></td>\n",
       "      <td>2019.0</td>\n",
       "      <td></td>\n",
       "      <td></td>\n",
       "      <td></td>\n",
       "    </tr>\n",
       "    <tr>\n",
       "      <th>50%</th>\n",
       "      <td></td>\n",
       "      <td>2019.5</td>\n",
       "      <td></td>\n",
       "      <td></td>\n",
       "      <td></td>\n",
       "    </tr>\n",
       "    <tr>\n",
       "      <th>75%</th>\n",
       "      <td></td>\n",
       "      <td>2020.0</td>\n",
       "      <td></td>\n",
       "      <td></td>\n",
       "      <td></td>\n",
       "    </tr>\n",
       "    <tr>\n",
       "      <th>max</th>\n",
       "      <td></td>\n",
       "      <td>2020.0</td>\n",
       "      <td></td>\n",
       "      <td></td>\n",
       "      <td></td>\n",
       "    </tr>\n",
       "  </tbody>\n",
       "</table>\n",
       "</div>"
      ],
      "text/plain": [
       "              Eventos       Año     Genero Medalla  \\\n",
       "count             120     120.0        120     120   \n",
       "unique             39                    2       3   \n",
       "top     55 kg (04.04)            Masculino     Oro   \n",
       "freq                6                   60      40   \n",
       "mean                     2019.5                      \n",
       "std                    0.502096                      \n",
       "min                      2019.0                      \n",
       "25%                      2019.0                      \n",
       "50%                      2019.5                      \n",
       "75%                      2020.0                      \n",
       "max                      2020.0                      \n",
       "\n",
       "                                                Atleta  \n",
       "count                                              120  \n",
       "unique                                             120  \n",
       "top     Mirco Scarantino Italia  116 + 145 = 261[n 1]​  \n",
       "freq                                                 1  \n",
       "mean                                                    \n",
       "std                                                     \n",
       "min                                                     \n",
       "25%                                                     \n",
       "50%                                                     \n",
       "75%                                                     \n",
       "max                                                     "
      ]
     },
     "metadata": {},
     "output_type": "display_data"
    },
    {
     "name": "stdout",
     "output_type": "stream",
     "text": [
      "\n",
      "########################################################################################\n",
      "¿Hay valores nulos en el conjunto de datos?\n",
      "Eventos    0\n",
      "Año        0\n",
      "Genero     0\n",
      "Medalla    0\n",
      "Atleta     0\n",
      "dtype: int64\n",
      "\n",
      "########################################################################################\n",
      "¿Cuál es el porcentaje de valores nulos en cada columna?\n",
      "Eventos    0.0\n",
      "Año        0.0\n",
      "Genero     0.0\n",
      "Medalla    0.0\n",
      "Atleta     0.0\n",
      "dtype: float64\n",
      "\n",
      "########################################################################################\n",
      "¿Hay filas duplicadas en el conjunto de datos?\n",
      "\tExisten duplicados: False\n",
      "\tNúmero total de filas duplicadas: 0\n",
      "\n",
      "########################################################################################\n"
     ]
    }
   ],
   "source": [
    "df_medallas = transformar_datos (df)\n",
    "exploracion_inicial(df= df_medallas)"
   ]
  },
  {
   "cell_type": "markdown",
   "id": "87f0f066",
   "metadata": {},
   "source": [
    "## <span style=\"color: #2A8E3C;\"> Paso 6. Creación de columnas </span> "
   ]
  },
  {
   "cell_type": "markdown",
   "id": "6ffa0a1e",
   "metadata": {},
   "source": [
    "Vamos a crear las siguientes columnas:\n",
    "- `Fecha` : Juntando los datos de día y mes de la columna `Evento`y el `Año`\n",
    "- `Nombre`: Extrayendo los datos de la columna `Atleta`\n",
    "- `Apellido`: Extrayendo los datos de la columna `Atleta`\n",
    "- `País`: Extrayendo los datos de la columna `Atleta`\n",
    "- `Resultados`: Extrayendo los datos de la columna `Atleta`\n",
    "- `Arrancada` : Extrayendo los datos de la columna `Atleta`\n",
    "- `Dos tiempos`: Extrayendo los datos de la columna `Atleta`\n",
    "- `Total`: Extrayendo los datos de la columna `Atleta`"
   ]
  },
  {
   "cell_type": "markdown",
   "id": "81eddc7f",
   "metadata": {},
   "source": [
    "Empiezo buscando caracteres extraños en las columnas que voy a tratar para que las funciones se apliquen correctamente.\n",
    "\n",
    "Para ello anoto los caracteres extraños encontrados."
   ]
  },
  {
   "cell_type": "code",
   "execution_count": 14,
   "id": "b3704d09",
   "metadata": {},
   "outputs": [
    {
     "data": {
      "text/plain": [
       "array(['55\\xa0kg (06.04)', '61\\xa0kg (07.04)', '67\\xa0kg (08.04)',\n",
       "       '73\\xa0kg (09.04)', '81\\xa0kg (10.04)', '89\\xa0kg (11.04)',\n",
       "       '96\\xa0kg (12.04)', '102\\xa0kg (13.04)', '109\\xa0kg (13.04)',\n",
       "       '+109\\xa0kg (13.04)', '45\\xa0kg (06.04)', '49\\xa0kg (06.04)',\n",
       "       '55\\xa0kg (07.04)', '59\\xa0kg (08.04)', '64\\xa0kg (09.04)',\n",
       "       '71\\xa0kg (10.04)', '76\\xa0kg (11.04)',\n",
       "       '81\\xa0kg[n 2]\\u200b (12.04)', '87\\xa0kg (12.04)',\n",
       "       '+87\\xa0kg (13.04)', '55\\xa0kg (04.04)', '61\\xa0kg (04.04)',\n",
       "       '67\\xa0kg (05.04)', '73\\xa0kg (06.04)', '81\\xa0kg (07.04)',\n",
       "       '89\\xa0kg (08.04)', '96\\xa0kg (09.04)', '102\\xa0kg (10.04)',\n",
       "       '109\\xa0kg (10.04)', '+109\\xa0kg (11.04)', '45\\xa0kg (03.04)',\n",
       "       '49\\xa0kg (03.04)', '59\\xa0kg (05.04)', '64\\xa0kg (06.04)',\n",
       "       '71\\xa0kg (07.04)', '76\\xa0kg (08.04)', '81\\xa0kg (09.04)',\n",
       "       '87\\xa0kg (10.04)', '+87\\xa0kg (11.04)'], dtype=object)"
      ]
     },
     "execution_count": 14,
     "metadata": {},
     "output_type": "execute_result"
    }
   ],
   "source": [
    "df_medallas['Eventos'].unique() #\\xa0 #[n 2]\\u200b "
   ]
  },
  {
   "cell_type": "code",
   "execution_count": 15,
   "id": "39352b3d",
   "metadata": {},
   "outputs": [
    {
     "data": {
      "text/plain": [
       "array(['Mirco Scarantino Italia  116 + 145 = 261[n 1]\\u200b',\n",
       "       'Henadz Laptseu Bielorrusia  133 + 153 = 286',\n",
       "       'Bernardin Matam Francia  137 + 175 = 312',\n",
       "       'Bozhidar Andreev Bulgaria  153 + 192 = 345',\n",
       "       'Antonino Pizzolato Italia  155 + 201 = 356',\n",
       "       'Hakob Mkrtchian Armenia  164 + 207 = 371',\n",
       "       'Yauheni Tsijantsou Bielorrusia  178 + 222 = 400',\n",
       "       'Dmytro Chumak Ucrania  175 + 216 = 391',\n",
       "       'Simon Martirosian Armenia  192 + 235 = 427',\n",
       "       'Lasha Talajadze Georgia  218 + 260 = 478',\n",
       "       'Şaziye Erdoğan Turquía  75 + 88 = 163[n 1]\\u200b',\n",
       "       'Elena Andrieș Rumania  87 + 103 = 190',\n",
       "       'Joanna Łochowska Polonia  87 + 112 = 199',\n",
       "       'Rebeka Koha Letonia  101 + 120 = 221',\n",
       "       'Loredana Toma Rumania  111 + 128 = 239',\n",
       "       'Anastasiya Romanova Rusia  112 + 128 = 240',\n",
       "       'Daria Naumava Bielorrusia  106 + 136 = 242',\n",
       "       'Nina Schroth Alemania  102 + 120 = 222',\n",
       "       'Xeniya Pasjina Rusia  110 + 132 = 242',\n",
       "       'Tatiana Kashirina Rusia  146 + 185 = 331',\n",
       "       'Anguel Rusev Bulgaria  111 + 147 = 258[n 1]\\u200b',\n",
       "       'Stilian Grozdev Bulgaria  136 + 160 = 296',\n",
       "       'Muhammed Özbek Turquía  145 + 178 = 323',\n",
       "       'Daniyar İsmayilov Turquía  160 + 181 = 341',\n",
       "       'Antonino Pizzolato Italia  164 + 206 = 370',\n",
       "       'Karen Avaguian Armenia  175 + 200 = 375',\n",
       "       'Anton Pliesnoi Georgia  180 + 213 = 393',\n",
       "       'Samvel Gasparian Armenia  176 +214 = 390',\n",
       "       'Dmytro Chumak Ucrania  181 + 226 = 407',\n",
       "       'Lasha Talajadze Georgia  222 + 263 = 485',\n",
       "       'Nadezhda Nguen Bulgaria  72 + 83 = 155[n 1]\\u200b',\n",
       "       'Monica Csengeri Rumania  86 + 103 = 189',\n",
       "       'Kamila Konotop Ucrania  95 + 113 = 208',\n",
       "       'Boyanka Kostova Azerbaiyán  95 + 116 = 211',\n",
       "       'Loredana Toma Rumania  114 + 130 = 244',\n",
       "       'Emily Godley Reino Unido  98 + 129 = 227',\n",
       "       'Iryna Deja Ucrania  113 + 135 = 248',\n",
       "       'Alina Marushchak Ucrania  109 + 127 = 236',\n",
       "       'Daria Ajmerova Rusia  108 + 138 = 246',\n",
       "       'Emily Campbell Reino Unido  122 + 154 = 276',\n",
       "       'Anguel Rusev Bulgaria  110 + 146 = 256[n 1]\\u200b',\n",
       "       'Bünyamin Sezer Turquía  132 + 151 = 283',\n",
       "       'Simon Brandhuber Alemania  146 + 165 = 311',\n",
       "       'Briken Calja Albania  156 + 183 = 339',\n",
       "       'Piotr Asayonak Bielorrusia  159 + 196 = 355',\n",
       "       'Revaz Davitadze Georgia  170 + 200 = 370',\n",
       "       'Yegor Klimonov Rusia  168 + 210 = 378',\n",
       "       'Samvel Gasparian Armenia  168 + 209 = 377',\n",
       "       'Andrei Aramnau Bielorrusia  190 + 221 = 411',\n",
       "       'Irakli Turmanidze Georgia  206 + 241 = 447',\n",
       "       'Ivana Petrova Bulgaria  69 + 89 = 158[n 1]\\u200b',\n",
       "       'Kristina Sobol Rusia  85 + 95 = 180',\n",
       "       'Svetlana Yershova Rusia  90 + 108 = 198',\n",
       "       'Tatiana Aleyeva Rusia  94 + 120 = 214',\n",
       "       'Irina Lepșa Rumania  102 + 127 = 229',\n",
       "       'Emily Godley Reino Unido  93 + 123 = 216',\n",
       "       'Lidia Valentín[2]\\u200b España  108 + 133 = 241',\n",
       "       'Anna Van Bellinghen Bélgica  103 + 118 = 221',\n",
       "       'Diana Mstiyeva Rusia  110 + 130 = 240',\n",
       "       'Anastasiya Lysenko Ucrania  120 + 148 = 268',\n",
       "       'Valentin Iancu Rumania  108 + 140 = 248[n 1]\\u200b',\n",
       "       'Shota Mishvelidze Georgia  135 + 155 = 290',\n",
       "       'Mirko Zanni Italia  148 + 170 = 318',\n",
       "       'Marin Robu Moldavia  156 + 183 = 339',\n",
       "       'Karlos Nasar Bulgaria  163 + 206 = 369',\n",
       "       'Revaz Davitadze Georgia  171 + 203 = 374',\n",
       "       'Piotr Asayonak Bielorrusia  172 + 202 = 374',\n",
       "       'Arsen Martirosian Armenia  171 + 209 = 380',\n",
       "       'Jristo Jristov Bulgaria  186 + 220 = 406',\n",
       "       'Gor Minasian Armenia  216 + 248 = 464',\n",
       "       'Ivana Petrova Bulgaria  67 + 85 = 152[n 1]\\u200b',\n",
       "       'Kristina Sobol Rusia  85 + 96 = 181',\n",
       "       'Svetlana Yershova Rusia  88 + 112 = 200',\n",
       "       'Olga Tio Rusia  95 + 115 = 210',\n",
       "       'Sarah Davies Reino Unido  101 + 129 = 230',\n",
       "       'Alessia Durante Italia  97 + 122 = 219',\n",
       "       'Yana Sotiyeva Rusia  112 + 134 = 246',\n",
       "       'Gaëlle Nayo-Ketchanke Francia  100 + 131 = 231',\n",
       "       'Elena Cîlcic Moldavia  107 + 138 = 245',\n",
       "       'Anastasiya Lysenko Ucrania  116 + 136 = 252',\n",
       "       'Muammer Şahin Turquía  112 + 135 = 247[n 1]\\u200b',\n",
       "       'Ferdi Hardal Turquía  127 + 155 = 282',\n",
       "       'Goga Chjeidze Georgia  139 + 169 = 308',\n",
       "       'Vadzim Lijarad Bielorrusia  153 + 182 = 335',\n",
       "       'Ritvars Suharevs Letonia  162 + 192 = 354',\n",
       "       'Davit Hovhannisian Armenia  165 + 195 = 360',\n",
       "       'Anton Pliesnoi Georgia  173 + 204 = 377',\n",
       "       'Vadzim Straltsou Bielorrusia  170 + 206 = 376',\n",
       "       'Rodion Bochkov Rusia  192 + 218 = 410',\n",
       "       'Ruben Alexanian Armenia  195 + 245 = 440',\n",
       "       'Yuliya Asayonak Bielorrusia  69 + 81 = 150[n 1]\\u200b',\n",
       "       'Giorgia Russo Italia  75 + 103 = 178',\n",
       "       'Kristina Novitskaya Rusia  85 + 105 = 190',\n",
       "       'Alexandra Kozlova Rusia  96 + 117 = 213',\n",
       "       'Zoe Smith Reino Unido  96 + 128 = 224',\n",
       "       'Mădălina Molie Rumania  101 + 114 = 215',\n",
       "       'Patricia Strenius Suecia  101 + 132 = 233',\n",
       "       'Liana Guiurdzhian Armenia  97 + 120 = 217',\n",
       "       'Sarah Fischer Austria  102 + 129 = 231',\n",
       "       'Emily Campbell Reino Unido  115 + 145 = 260',\n",
       "       'Dmytro Voronovsky Ucrania  110 + 137 = 247[n 1]\\u200b',\n",
       "       'Ferdi Hardal Turquía  130 + 157 = 287',\n",
       "       'Valentin Guenchev Bulgaria  138 + 177 = 315',\n",
       "       'Briken Calja Albania  152 + 184 = 336',\n",
       "       'Ritvars Suharevs Letonia  157 + 190 = 347',\n",
       "       'Andranik Karapetian Armenia  170 + 195 = 365',\n",
       "       'Hakob Mkrtchian Armenia  160 + 212 = 372',\n",
       "       'Dadaş Dadaşbəyli Azerbaiyán  177 + 202 = 379',\n",
       "       'Timur Naniyev Rusia  184 + 217 = 401',\n",
       "       'Varazdat Lalayan Armenia  205 + 240 = 445',\n",
       "       'Melisa Güneş Turquía  68 + 83 = 151[n 1]\\u200b',\n",
       "       'Mihaela Cambei Rumania  80 + 100 = 180',\n",
       "       'Nina Sterckx Bélgica  88 + 109 = 197',\n",
       "       'Dora Tchakounté Francia  95 + 115 = 210',\n",
       "       'Anastasiya Anzorova Rusia  100 + 122 = 222',\n",
       "       'Raluca Olaru Rumania  98 + 120 = 218',\n",
       "       'Anastasiya Romanova Rusia  111 + 132 = 243',\n",
       "       'Liana Guiurdzhian Armenia  98 + 129 = 227',\n",
       "       'Daria Riazanova Rusia  105 + 135 = 240',\n",
       "       'Melike Günal Turquía  108 + 135 = 243'], dtype=object)"
      ]
     },
     "execution_count": 15,
     "metadata": {},
     "output_type": "execute_result"
    }
   ],
   "source": [
    "df_medallas['Atleta'].unique() #[n 1]\\u200b' #[2]​"
   ]
  },
  {
   "cell_type": "markdown",
   "id": "bd0442e6",
   "metadata": {},
   "source": [
    "Los caracteres que identificados son:\n",
    "\n",
    "- `\\u200b `- Espacio de ancho cero (Zero Width Space): Un carácter invisible utilizado en tipografía web para indicar posibles puntos de ruptura de línea sin mostrar espacios.\n",
    "- `\\xa0` - Espacio duro o no rompible (Non-Breaking Space): Representado como &nbsp; en HTML, impide que se produzcan saltos de línea en ciertos puntos del texto.\n",
    "- `[2]`, `[n 1] `- Marcadores de referencias o notas al pie: Típicamente utilizados en Wikipedia y otras fuentes académicas para señalar referencias."
   ]
  },
  {
   "cell_type": "markdown",
   "id": "b54a2a81",
   "metadata": {},
   "source": [
    "Por ahora vamos a eliminar `[n 1]\\u200b` `[2]`​ `[n 2]\\u200b `"
   ]
  },
  {
   "cell_type": "code",
   "execution_count": null,
   "id": "39c02754",
   "metadata": {},
   "outputs": [],
   "source": [
    "columnas_resultado = ['Eventos', 'Año', 'Atleta']\n",
    "\n",
    "df_medallas[columnas_resultado] = df_medallas[columnas_resultado].replace(r'\\[\\s*(n\\s*)?[12]\\]\\s*[\\u200B]*', '', regex=True)"
   ]
  },
  {
   "cell_type": "code",
   "execution_count": 19,
   "id": "cdc6c2c3",
   "metadata": {},
   "outputs": [
    {
     "data": {
      "text/plain": [
       "array(['55\\xa0kg (06.04)', '61\\xa0kg (07.04)', '67\\xa0kg (08.04)',\n",
       "       '73\\xa0kg (09.04)', '81\\xa0kg (10.04)', '89\\xa0kg (11.04)',\n",
       "       '96\\xa0kg (12.04)', '102\\xa0kg (13.04)', '109\\xa0kg (13.04)',\n",
       "       '+109\\xa0kg (13.04)', '45\\xa0kg (06.04)', '49\\xa0kg (06.04)',\n",
       "       '55\\xa0kg (07.04)', '59\\xa0kg (08.04)', '64\\xa0kg (09.04)',\n",
       "       '71\\xa0kg (10.04)', '76\\xa0kg (11.04)', '81\\xa0kg (12.04)',\n",
       "       '87\\xa0kg (12.04)', '+87\\xa0kg (13.04)', '55\\xa0kg (04.04)',\n",
       "       '61\\xa0kg (04.04)', '67\\xa0kg (05.04)', '73\\xa0kg (06.04)',\n",
       "       '81\\xa0kg (07.04)', '89\\xa0kg (08.04)', '96\\xa0kg (09.04)',\n",
       "       '102\\xa0kg (10.04)', '109\\xa0kg (10.04)', '+109\\xa0kg (11.04)',\n",
       "       '45\\xa0kg (03.04)', '49\\xa0kg (03.04)', '59\\xa0kg (05.04)',\n",
       "       '64\\xa0kg (06.04)', '71\\xa0kg (07.04)', '76\\xa0kg (08.04)',\n",
       "       '81\\xa0kg (09.04)', '87\\xa0kg (10.04)', '+87\\xa0kg (11.04)'],\n",
       "      dtype=object)"
      ]
     },
     "execution_count": 19,
     "metadata": {},
     "output_type": "execute_result"
    }
   ],
   "source": [
    "#Comprobamos que se ha elimando correctamente [n 2]\\u200b y que solo queda \\xa0\n",
    "df_medallas['Eventos'].unique() #\\xa0 "
   ]
  },
  {
   "cell_type": "code",
   "execution_count": null,
   "id": "7f2a0efc",
   "metadata": {},
   "outputs": [
    {
     "data": {
      "text/plain": [
       "array(['Mirco Scarantino Italia  116 + 145 = 261',\n",
       "       'Henadz Laptseu Bielorrusia  133 + 153 = 286',\n",
       "       'Bernardin Matam Francia  137 + 175 = 312',\n",
       "       'Bozhidar Andreev Bulgaria  153 + 192 = 345',\n",
       "       'Antonino Pizzolato Italia  155 + 201 = 356',\n",
       "       'Hakob Mkrtchian Armenia  164 + 207 = 371',\n",
       "       'Yauheni Tsijantsou Bielorrusia  178 + 222 = 400',\n",
       "       'Dmytro Chumak Ucrania  175 + 216 = 391',\n",
       "       'Simon Martirosian Armenia  192 + 235 = 427',\n",
       "       'Lasha Talajadze Georgia  218 + 260 = 478',\n",
       "       'Şaziye Erdoğan Turquía  75 + 88 = 163',\n",
       "       'Elena Andrieș Rumania  87 + 103 = 190',\n",
       "       'Joanna Łochowska Polonia  87 + 112 = 199',\n",
       "       'Rebeka Koha Letonia  101 + 120 = 221',\n",
       "       'Loredana Toma Rumania  111 + 128 = 239',\n",
       "       'Anastasiya Romanova Rusia  112 + 128 = 240',\n",
       "       'Daria Naumava Bielorrusia  106 + 136 = 242',\n",
       "       'Nina Schroth Alemania  102 + 120 = 222',\n",
       "       'Xeniya Pasjina Rusia  110 + 132 = 242',\n",
       "       'Tatiana Kashirina Rusia  146 + 185 = 331',\n",
       "       'Anguel Rusev Bulgaria  111 + 147 = 258',\n",
       "       'Stilian Grozdev Bulgaria  136 + 160 = 296',\n",
       "       'Muhammed Özbek Turquía  145 + 178 = 323',\n",
       "       'Daniyar İsmayilov Turquía  160 + 181 = 341',\n",
       "       'Antonino Pizzolato Italia  164 + 206 = 370',\n",
       "       'Karen Avaguian Armenia  175 + 200 = 375',\n",
       "       'Anton Pliesnoi Georgia  180 + 213 = 393',\n",
       "       'Samvel Gasparian Armenia  176 +214 = 390',\n",
       "       'Dmytro Chumak Ucrania  181 + 226 = 407',\n",
       "       'Lasha Talajadze Georgia  222 + 263 = 485',\n",
       "       'Nadezhda Nguen Bulgaria  72 + 83 = 155',\n",
       "       'Monica Csengeri Rumania  86 + 103 = 189',\n",
       "       'Kamila Konotop Ucrania  95 + 113 = 208',\n",
       "       'Boyanka Kostova Azerbaiyán  95 + 116 = 211',\n",
       "       'Loredana Toma Rumania  114 + 130 = 244',\n",
       "       'Emily Godley Reino Unido  98 + 129 = 227',\n",
       "       'Iryna Deja Ucrania  113 + 135 = 248',\n",
       "       'Alina Marushchak Ucrania  109 + 127 = 236',\n",
       "       'Daria Ajmerova Rusia  108 + 138 = 246',\n",
       "       'Emily Campbell Reino Unido  122 + 154 = 276',\n",
       "       'Anguel Rusev Bulgaria  110 + 146 = 256',\n",
       "       'Bünyamin Sezer Turquía  132 + 151 = 283',\n",
       "       'Simon Brandhuber Alemania  146 + 165 = 311',\n",
       "       'Briken Calja Albania  156 + 183 = 339',\n",
       "       'Piotr Asayonak Bielorrusia  159 + 196 = 355',\n",
       "       'Revaz Davitadze Georgia  170 + 200 = 370',\n",
       "       'Yegor Klimonov Rusia  168 + 210 = 378',\n",
       "       'Samvel Gasparian Armenia  168 + 209 = 377',\n",
       "       'Andrei Aramnau Bielorrusia  190 + 221 = 411',\n",
       "       'Irakli Turmanidze Georgia  206 + 241 = 447',\n",
       "       'Ivana Petrova Bulgaria  69 + 89 = 158',\n",
       "       'Kristina Sobol Rusia  85 + 95 = 180',\n",
       "       'Svetlana Yershova Rusia  90 + 108 = 198',\n",
       "       'Tatiana Aleyeva Rusia  94 + 120 = 214',\n",
       "       'Irina Lepșa Rumania  102 + 127 = 229',\n",
       "       'Emily Godley Reino Unido  93 + 123 = 216',\n",
       "       'Lidia Valentín España  108 + 133 = 241',\n",
       "       'Anna Van Bellinghen Bélgica  103 + 118 = 221',\n",
       "       'Diana Mstiyeva Rusia  110 + 130 = 240',\n",
       "       'Anastasiya Lysenko Ucrania  120 + 148 = 268',\n",
       "       'Valentin Iancu Rumania  108 + 140 = 248',\n",
       "       'Shota Mishvelidze Georgia  135 + 155 = 290',\n",
       "       'Mirko Zanni Italia  148 + 170 = 318',\n",
       "       'Marin Robu Moldavia  156 + 183 = 339',\n",
       "       'Karlos Nasar Bulgaria  163 + 206 = 369',\n",
       "       'Revaz Davitadze Georgia  171 + 203 = 374',\n",
       "       'Piotr Asayonak Bielorrusia  172 + 202 = 374',\n",
       "       'Arsen Martirosian Armenia  171 + 209 = 380',\n",
       "       'Jristo Jristov Bulgaria  186 + 220 = 406',\n",
       "       'Gor Minasian Armenia  216 + 248 = 464',\n",
       "       'Ivana Petrova Bulgaria  67 + 85 = 152',\n",
       "       'Kristina Sobol Rusia  85 + 96 = 181',\n",
       "       'Svetlana Yershova Rusia  88 + 112 = 200',\n",
       "       'Olga Tio Rusia  95 + 115 = 210',\n",
       "       'Sarah Davies Reino Unido  101 + 129 = 230',\n",
       "       'Alessia Durante Italia  97 + 122 = 219',\n",
       "       'Yana Sotiyeva Rusia  112 + 134 = 246',\n",
       "       'Gaëlle Nayo-Ketchanke Francia  100 + 131 = 231',\n",
       "       'Elena Cîlcic Moldavia  107 + 138 = 245',\n",
       "       'Anastasiya Lysenko Ucrania  116 + 136 = 252',\n",
       "       'Muammer Şahin Turquía  112 + 135 = 247',\n",
       "       'Ferdi Hardal Turquía  127 + 155 = 282',\n",
       "       'Goga Chjeidze Georgia  139 + 169 = 308',\n",
       "       'Vadzim Lijarad Bielorrusia  153 + 182 = 335',\n",
       "       'Ritvars Suharevs Letonia  162 + 192 = 354',\n",
       "       'Davit Hovhannisian Armenia  165 + 195 = 360',\n",
       "       'Anton Pliesnoi Georgia  173 + 204 = 377',\n",
       "       'Vadzim Straltsou Bielorrusia  170 + 206 = 376',\n",
       "       'Rodion Bochkov Rusia  192 + 218 = 410',\n",
       "       'Ruben Alexanian Armenia  195 + 245 = 440',\n",
       "       'Yuliya Asayonak Bielorrusia  69 + 81 = 150',\n",
       "       'Giorgia Russo Italia  75 + 103 = 178',\n",
       "       'Kristina Novitskaya Rusia  85 + 105 = 190',\n",
       "       'Alexandra Kozlova Rusia  96 + 117 = 213',\n",
       "       'Zoe Smith Reino Unido  96 + 128 = 224',\n",
       "       'Mădălina Molie Rumania  101 + 114 = 215',\n",
       "       'Patricia Strenius Suecia  101 + 132 = 233',\n",
       "       'Liana Guiurdzhian Armenia  97 + 120 = 217',\n",
       "       'Sarah Fischer Austria  102 + 129 = 231',\n",
       "       'Emily Campbell Reino Unido  115 + 145 = 260',\n",
       "       'Dmytro Voronovsky Ucrania  110 + 137 = 247',\n",
       "       'Ferdi Hardal Turquía  130 + 157 = 287',\n",
       "       'Valentin Guenchev Bulgaria  138 + 177 = 315',\n",
       "       'Briken Calja Albania  152 + 184 = 336',\n",
       "       'Ritvars Suharevs Letonia  157 + 190 = 347',\n",
       "       'Andranik Karapetian Armenia  170 + 195 = 365',\n",
       "       'Hakob Mkrtchian Armenia  160 + 212 = 372',\n",
       "       'Dadaş Dadaşbəyli Azerbaiyán  177 + 202 = 379',\n",
       "       'Timur Naniyev Rusia  184 + 217 = 401',\n",
       "       'Varazdat Lalayan Armenia  205 + 240 = 445',\n",
       "       'Melisa Güneş Turquía  68 + 83 = 151',\n",
       "       'Mihaela Cambei Rumania  80 + 100 = 180',\n",
       "       'Nina Sterckx Bélgica  88 + 109 = 197',\n",
       "       'Dora Tchakounté Francia  95 + 115 = 210',\n",
       "       'Anastasiya Anzorova Rusia  100 + 122 = 222',\n",
       "       'Raluca Olaru Rumania  98 + 120 = 218',\n",
       "       'Anastasiya Romanova Rusia  111 + 132 = 243',\n",
       "       'Liana Guiurdzhian Armenia  98 + 129 = 227',\n",
       "       'Daria Riazanova Rusia  105 + 135 = 240',\n",
       "       'Melike Günal Turquía  108 + 135 = 243'], dtype=object)"
      ]
     },
     "execution_count": 20,
     "metadata": {},
     "output_type": "execute_result"
    }
   ],
   "source": [
    "#Comprobamos que se han elimando correctamente los caracteres extraños.\n",
    "df_medallas['Atleta'].unique()"
   ]
  },
  {
   "cell_type": "code",
   "execution_count": 21,
   "id": "c32af8b3",
   "metadata": {},
   "outputs": [],
   "source": [
    "def crear_columnas_desde_Atleta(df):\n",
    "    # Inicialización de listas para almacenar los valores extraídos\n",
    "    columna_Atleta = list()\n",
    "    columna_Nombre = list()\n",
    "    columna_Apellido = list()\n",
    "    columna_País = list()\n",
    "    columna_errores = list()  # Para registrar casos que no se ajusten al formato esperado\n",
    "    \n",
    "    for atleta in df.Atleta.to_list():\n",
    "        # Ejemplo de entrada: 'Mirco Scarantino Italia 116 + 145 = 261'\n",
    "        \n",
    "        # Separa por el primer \"+\" y toma la parte inicial: 'Mirco Scarantino Italia 116'\n",
    "        atletas = (list(atleta.split(\"+\"))[0])[:-4]  # Elimina los últimos 4 caracteres (el número antes del +)\n",
    "                                                     # Quedando: 'Mirco Scarantino Italia  '\n",
    "        \n",
    "        # Extrae la primera palabra como el nombre\n",
    "        Palabra_1 = \" \".join(list(atletas.split(\" \"))[:1])  # Obtiene 'Mirco'\n",
    "        \n",
    "        # El resto de palabras contienen apellido y país\n",
    "        Palabra_3 = \" \".join(list(atletas.split(\" \"))[1:]).strip().split(\" \")  # Contiene apellido y país: ['Scarantino', 'Italia']\n",
    "        \n",
    "        #Compruebo cuál es el máximo de palabras en Palabra_3\n",
    "        # if len(Palabra_3) >2:\n",
    "        #     print(Palabra_3, len(Palabra_3))\n",
    "        # ['Godley', 'Reino', 'Unido'] 3\n",
    "        # ['Campbell', 'Reino', 'Unido'] 3\n",
    "        # ['Godley', 'Reino', 'Unido'] 3\n",
    "        # ['Van', 'Bellinghen', 'Bélgica'] 3\n",
    "        # ['Davies', 'Reino', 'Unido'] 3\n",
    "        # ['Smith', 'Reino', 'Unido'] 3\n",
    "        # ['Campbell', 'Reino', 'Unido'] 3\n",
    "        \n",
    "        # Gestión de casos según el número de palabras en Palabra_3\n",
    "        if len(Palabra_3) == 2:\n",
    "            # Caso simple: [Apellido, País]\n",
    "            Apellido = (Palabra_3[0]).split(\"[\")[0]  # Elimina posibles marcadores como [1] en apellidos\n",
    "            columna_Apellido.append(Apellido)\n",
    "            columna_País.append(str(Palabra_3[1]))\n",
    "            \n",
    "        elif len(Palabra_3) == 3:\n",
    "            # Casos con 3 palabras, que pueden ser:\n",
    "            # 1. Apellido compuesto + País: [Van, Bellinghen, Bélgica]\n",
    "            # 2. Apellido + País compuesto: [Davies, Reino, Unido]\n",
    "            \n",
    "            if Palabra_3[-1] == \"Unido\":  #El único país que he encontrado con dos palabras es Reino Unido. Si en nuevas tablas aparecen otros países hay que añadirlo aquí.\n",
    "                columna_Apellido.append(str(Palabra_3[0]))\n",
    "                columna_País.append((str(Palabra_3[1])) + \" \" + (str(Palabra_3[2])))  # \"Reino Unido\"\n",
    "            else:\n",
    "                # Si el país no es \"Reino Unido\" asume que es un apellido compuesto\n",
    "                columna_Apellido.append((str(Palabra_3[0])) + \" \" + (str(Palabra_3[1])))\n",
    "                columna_País.append(str(Palabra_3[-1]))\n",
    "                \n",
    "        else:\n",
    "            # Registra casos que no se ajusten a los patrones anteriores\n",
    "            columna_errores.append(str(Palabra_3))\n",
    "            \n",
    "        # Guarda el nombre extraído\n",
    "        columna_Nombre.append(Palabra_1)\n",
    "    \n",
    "    # Asigna las listas resultantes como nuevas columnas en el DataFrame\n",
    "    df[\"Nombre\"] = pd.Series(columna_Nombre).reset_index(drop=True)\n",
    "    df[\"Apellido\"] = pd.Series(columna_Apellido).reset_index(drop=True)\n",
    "    df[\"País\"] = pd.Series(columna_País).reset_index(drop=True)\n",
    "    \n",
    "    # Extrae los resultados numéricos con una expresión regular\n",
    "    # Ejemplo: De 'Mirco Scarantino Italia 116 + 145 = 261' extrae '116 + 145 = 261'\n",
    "    df['Resultados'] = df['Atleta'].str.replace(\n",
    "        r'^[^\\d]+(\\d+\\s*\\+\\s*\\d+\\s*=\\s*\\d+)', \n",
    "        r'\\1', \n",
    "        regex=True\n",
    "    )\n",
    "    \n",
    "    # Informa sobre el número de registros con formato inesperado\n",
    "    print('Errores =', len(columna_errores))"
   ]
  },
  {
   "cell_type": "markdown",
   "id": "83a4e204",
   "metadata": {},
   "source": [
    "Realizamos la transformación y comprobamos que el dataframe resultante no tenga nulos ni duplicados y los datos sigan siendo consistentes."
   ]
  },
  {
   "cell_type": "code",
   "execution_count": 22,
   "id": "f42ea419",
   "metadata": {},
   "outputs": [
    {
     "name": "stdout",
     "output_type": "stream",
     "text": [
      "Errores = 0\n"
     ]
    }
   ],
   "source": [
    "crear_columnas_desde_Atleta (df = df_medallas)\n"
   ]
  },
  {
   "cell_type": "code",
   "execution_count": 23,
   "id": "d42e3d4f",
   "metadata": {},
   "outputs": [
    {
     "name": "stdout",
     "output_type": "stream",
     "text": [
      "¿Cuántas filas y columnas hay en el conjunto de datos?\n",
      "\tHay 120 filas y 9 columnas.\n",
      "\n",
      "########################################################################################\n",
      "¿Cuáles son las primeras cinco filas del conjunto de datos?\n"
     ]
    },
    {
     "data": {
      "text/html": [
       "<div>\n",
       "<style scoped>\n",
       "    .dataframe tbody tr th:only-of-type {\n",
       "        vertical-align: middle;\n",
       "    }\n",
       "\n",
       "    .dataframe tbody tr th {\n",
       "        vertical-align: top;\n",
       "    }\n",
       "\n",
       "    .dataframe thead th {\n",
       "        text-align: right;\n",
       "    }\n",
       "</style>\n",
       "<table border=\"1\" class=\"dataframe\">\n",
       "  <thead>\n",
       "    <tr style=\"text-align: right;\">\n",
       "      <th></th>\n",
       "      <th>Eventos</th>\n",
       "      <th>Año</th>\n",
       "      <th>Genero</th>\n",
       "      <th>Medalla</th>\n",
       "      <th>Atleta</th>\n",
       "      <th>Nombre</th>\n",
       "      <th>Apellido</th>\n",
       "      <th>País</th>\n",
       "      <th>Resultados</th>\n",
       "    </tr>\n",
       "  </thead>\n",
       "  <tbody>\n",
       "    <tr>\n",
       "      <th>0</th>\n",
       "      <td>55 kg (06.04)</td>\n",
       "      <td>2019</td>\n",
       "      <td>Masculino</td>\n",
       "      <td>Oro</td>\n",
       "      <td>Mirco Scarantino Italia  116 + 145 = 261</td>\n",
       "      <td>Mirco</td>\n",
       "      <td>Scarantino</td>\n",
       "      <td>Italia</td>\n",
       "      <td>116 + 145 = 261</td>\n",
       "    </tr>\n",
       "    <tr>\n",
       "      <th>1</th>\n",
       "      <td>61 kg (07.04)</td>\n",
       "      <td>2019</td>\n",
       "      <td>Masculino</td>\n",
       "      <td>Oro</td>\n",
       "      <td>Henadz Laptseu Bielorrusia  133 + 153 = 286</td>\n",
       "      <td>Henadz</td>\n",
       "      <td>Laptseu</td>\n",
       "      <td>Bielorrusia</td>\n",
       "      <td>133 + 153 = 286</td>\n",
       "    </tr>\n",
       "    <tr>\n",
       "      <th>2</th>\n",
       "      <td>67 kg (08.04)</td>\n",
       "      <td>2019</td>\n",
       "      <td>Masculino</td>\n",
       "      <td>Oro</td>\n",
       "      <td>Bernardin Matam Francia  137 + 175 = 312</td>\n",
       "      <td>Bernardin</td>\n",
       "      <td>Matam</td>\n",
       "      <td>Francia</td>\n",
       "      <td>137 + 175 = 312</td>\n",
       "    </tr>\n",
       "    <tr>\n",
       "      <th>3</th>\n",
       "      <td>73 kg (09.04)</td>\n",
       "      <td>2019</td>\n",
       "      <td>Masculino</td>\n",
       "      <td>Oro</td>\n",
       "      <td>Bozhidar Andreev Bulgaria  153 + 192 = 345</td>\n",
       "      <td>Bozhidar</td>\n",
       "      <td>Andreev</td>\n",
       "      <td>Bulgaria</td>\n",
       "      <td>153 + 192 = 345</td>\n",
       "    </tr>\n",
       "    <tr>\n",
       "      <th>4</th>\n",
       "      <td>81 kg (10.04)</td>\n",
       "      <td>2019</td>\n",
       "      <td>Masculino</td>\n",
       "      <td>Oro</td>\n",
       "      <td>Antonino Pizzolato Italia  155 + 201 = 356</td>\n",
       "      <td>Antonino</td>\n",
       "      <td>Pizzolato</td>\n",
       "      <td>Italia</td>\n",
       "      <td>155 + 201 = 356</td>\n",
       "    </tr>\n",
       "  </tbody>\n",
       "</table>\n",
       "</div>"
      ],
      "text/plain": [
       "         Eventos   Año     Genero Medalla  \\\n",
       "0  55 kg (06.04)  2019  Masculino     Oro   \n",
       "1  61 kg (07.04)  2019  Masculino     Oro   \n",
       "2  67 kg (08.04)  2019  Masculino     Oro   \n",
       "3  73 kg (09.04)  2019  Masculino     Oro   \n",
       "4  81 kg (10.04)  2019  Masculino     Oro   \n",
       "\n",
       "                                        Atleta     Nombre    Apellido  \\\n",
       "0     Mirco Scarantino Italia  116 + 145 = 261      Mirco  Scarantino   \n",
       "1  Henadz Laptseu Bielorrusia  133 + 153 = 286     Henadz     Laptseu   \n",
       "2     Bernardin Matam Francia  137 + 175 = 312  Bernardin       Matam   \n",
       "3   Bozhidar Andreev Bulgaria  153 + 192 = 345   Bozhidar     Andreev   \n",
       "4   Antonino Pizzolato Italia  155 + 201 = 356   Antonino   Pizzolato   \n",
       "\n",
       "          País       Resultados  \n",
       "0       Italia  116 + 145 = 261  \n",
       "1  Bielorrusia  133 + 153 = 286  \n",
       "2      Francia  137 + 175 = 312  \n",
       "3     Bulgaria  153 + 192 = 345  \n",
       "4       Italia  155 + 201 = 356  "
      ]
     },
     "metadata": {},
     "output_type": "display_data"
    },
    {
     "name": "stdout",
     "output_type": "stream",
     "text": [
      "\n",
      "########################################################################################\n",
      "¿Cuáles son las últimas cinco filas del conjunto de datos?\n"
     ]
    },
    {
     "data": {
      "text/html": [
       "<div>\n",
       "<style scoped>\n",
       "    .dataframe tbody tr th:only-of-type {\n",
       "        vertical-align: middle;\n",
       "    }\n",
       "\n",
       "    .dataframe tbody tr th {\n",
       "        vertical-align: top;\n",
       "    }\n",
       "\n",
       "    .dataframe thead th {\n",
       "        text-align: right;\n",
       "    }\n",
       "</style>\n",
       "<table border=\"1\" class=\"dataframe\">\n",
       "  <thead>\n",
       "    <tr style=\"text-align: right;\">\n",
       "      <th></th>\n",
       "      <th>Eventos</th>\n",
       "      <th>Año</th>\n",
       "      <th>Genero</th>\n",
       "      <th>Medalla</th>\n",
       "      <th>Atleta</th>\n",
       "      <th>Nombre</th>\n",
       "      <th>Apellido</th>\n",
       "      <th>País</th>\n",
       "      <th>Resultados</th>\n",
       "    </tr>\n",
       "  </thead>\n",
       "  <tbody>\n",
       "    <tr>\n",
       "      <th>115</th>\n",
       "      <td>71 kg (07.04)</td>\n",
       "      <td>2020</td>\n",
       "      <td>Femenino</td>\n",
       "      <td>Bronce</td>\n",
       "      <td>Raluca Olaru Rumania  98 + 120 = 218</td>\n",
       "      <td>Raluca</td>\n",
       "      <td>Olaru</td>\n",
       "      <td>Rumania</td>\n",
       "      <td>98 + 120 = 218</td>\n",
       "    </tr>\n",
       "    <tr>\n",
       "      <th>116</th>\n",
       "      <td>76 kg (08.04)</td>\n",
       "      <td>2020</td>\n",
       "      <td>Femenino</td>\n",
       "      <td>Bronce</td>\n",
       "      <td>Anastasiya Romanova Rusia  111 + 132 = 243</td>\n",
       "      <td>Anastasiya</td>\n",
       "      <td>Romanova</td>\n",
       "      <td>Rusia</td>\n",
       "      <td>111 + 132 = 243</td>\n",
       "    </tr>\n",
       "    <tr>\n",
       "      <th>117</th>\n",
       "      <td>81 kg (09.04)</td>\n",
       "      <td>2020</td>\n",
       "      <td>Femenino</td>\n",
       "      <td>Bronce</td>\n",
       "      <td>Liana Guiurdzhian Armenia  98 + 129 = 227</td>\n",
       "      <td>Liana</td>\n",
       "      <td>Guiurdzhian</td>\n",
       "      <td>Armenia</td>\n",
       "      <td>98 + 129 = 227</td>\n",
       "    </tr>\n",
       "    <tr>\n",
       "      <th>118</th>\n",
       "      <td>87 kg (10.04)</td>\n",
       "      <td>2020</td>\n",
       "      <td>Femenino</td>\n",
       "      <td>Bronce</td>\n",
       "      <td>Daria Riazanova Rusia  105 + 135 = 240</td>\n",
       "      <td>Daria</td>\n",
       "      <td>Riazanova</td>\n",
       "      <td>Rusia</td>\n",
       "      <td>105 + 135 = 240</td>\n",
       "    </tr>\n",
       "    <tr>\n",
       "      <th>119</th>\n",
       "      <td>+87 kg (11.04)</td>\n",
       "      <td>2020</td>\n",
       "      <td>Femenino</td>\n",
       "      <td>Bronce</td>\n",
       "      <td>Melike Günal Turquía  108 + 135 = 243</td>\n",
       "      <td>Melike</td>\n",
       "      <td>Günal</td>\n",
       "      <td>Turquía</td>\n",
       "      <td>108 + 135 = 243</td>\n",
       "    </tr>\n",
       "  </tbody>\n",
       "</table>\n",
       "</div>"
      ],
      "text/plain": [
       "            Eventos   Año    Genero Medalla  \\\n",
       "115   71 kg (07.04)  2020  Femenino  Bronce   \n",
       "116   76 kg (08.04)  2020  Femenino  Bronce   \n",
       "117   81 kg (09.04)  2020  Femenino  Bronce   \n",
       "118   87 kg (10.04)  2020  Femenino  Bronce   \n",
       "119  +87 kg (11.04)  2020  Femenino  Bronce   \n",
       "\n",
       "                                         Atleta      Nombre     Apellido  \\\n",
       "115        Raluca Olaru Rumania  98 + 120 = 218      Raluca        Olaru   \n",
       "116  Anastasiya Romanova Rusia  111 + 132 = 243  Anastasiya     Romanova   \n",
       "117   Liana Guiurdzhian Armenia  98 + 129 = 227       Liana  Guiurdzhian   \n",
       "118      Daria Riazanova Rusia  105 + 135 = 240       Daria    Riazanova   \n",
       "119       Melike Günal Turquía  108 + 135 = 243      Melike        Günal   \n",
       "\n",
       "        País       Resultados  \n",
       "115  Rumania   98 + 120 = 218  \n",
       "116    Rusia  111 + 132 = 243  \n",
       "117  Armenia   98 + 129 = 227  \n",
       "118    Rusia  105 + 135 = 240  \n",
       "119  Turquía  108 + 135 = 243  "
      ]
     },
     "metadata": {},
     "output_type": "display_data"
    },
    {
     "name": "stdout",
     "output_type": "stream",
     "text": [
      "\n",
      "########################################################################################\n",
      "¿Cómo puedes obtener una muestra aleatoria de filas del conjunto de datos?\n"
     ]
    },
    {
     "data": {
      "text/html": [
       "<div>\n",
       "<style scoped>\n",
       "    .dataframe tbody tr th:only-of-type {\n",
       "        vertical-align: middle;\n",
       "    }\n",
       "\n",
       "    .dataframe tbody tr th {\n",
       "        vertical-align: top;\n",
       "    }\n",
       "\n",
       "    .dataframe thead th {\n",
       "        text-align: right;\n",
       "    }\n",
       "</style>\n",
       "<table border=\"1\" class=\"dataframe\">\n",
       "  <thead>\n",
       "    <tr style=\"text-align: right;\">\n",
       "      <th></th>\n",
       "      <th>Eventos</th>\n",
       "      <th>Año</th>\n",
       "      <th>Genero</th>\n",
       "      <th>Medalla</th>\n",
       "      <th>Atleta</th>\n",
       "      <th>Nombre</th>\n",
       "      <th>Apellido</th>\n",
       "      <th>País</th>\n",
       "      <th>Resultados</th>\n",
       "    </tr>\n",
       "  </thead>\n",
       "  <tbody>\n",
       "    <tr>\n",
       "      <th>70</th>\n",
       "      <td>45 kg (03.04)</td>\n",
       "      <td>2020</td>\n",
       "      <td>Femenino</td>\n",
       "      <td>Plata</td>\n",
       "      <td>Ivana Petrova Bulgaria  67 + 85 = 152</td>\n",
       "      <td>Ivana</td>\n",
       "      <td>Petrova</td>\n",
       "      <td>Bulgaria</td>\n",
       "      <td>67 + 85 = 152</td>\n",
       "    </tr>\n",
       "    <tr>\n",
       "      <th>52</th>\n",
       "      <td>55 kg (07.04)</td>\n",
       "      <td>2019</td>\n",
       "      <td>Femenino</td>\n",
       "      <td>Plata</td>\n",
       "      <td>Svetlana Yershova Rusia  90 + 108 = 198</td>\n",
       "      <td>Svetlana</td>\n",
       "      <td>Yershova</td>\n",
       "      <td>Rusia</td>\n",
       "      <td>90 + 108 = 198</td>\n",
       "    </tr>\n",
       "    <tr>\n",
       "      <th>116</th>\n",
       "      <td>76 kg (08.04)</td>\n",
       "      <td>2020</td>\n",
       "      <td>Femenino</td>\n",
       "      <td>Bronce</td>\n",
       "      <td>Anastasiya Romanova Rusia  111 + 132 = 243</td>\n",
       "      <td>Anastasiya</td>\n",
       "      <td>Romanova</td>\n",
       "      <td>Rusia</td>\n",
       "      <td>111 + 132 = 243</td>\n",
       "    </tr>\n",
       "    <tr>\n",
       "      <th>24</th>\n",
       "      <td>81 kg (07.04)</td>\n",
       "      <td>2020</td>\n",
       "      <td>Masculino</td>\n",
       "      <td>Oro</td>\n",
       "      <td>Antonino Pizzolato Italia  164 + 206 = 370</td>\n",
       "      <td>Antonino</td>\n",
       "      <td>Pizzolato</td>\n",
       "      <td>Italia</td>\n",
       "      <td>164 + 206 = 370</td>\n",
       "    </tr>\n",
       "    <tr>\n",
       "      <th>87</th>\n",
       "      <td>102 kg (13.04)</td>\n",
       "      <td>2019</td>\n",
       "      <td>Masculino</td>\n",
       "      <td>Bronce</td>\n",
       "      <td>Vadzim Straltsou Bielorrusia  170 + 206 = 376</td>\n",
       "      <td>Vadzim</td>\n",
       "      <td>Straltsou</td>\n",
       "      <td>Bielorrusia</td>\n",
       "      <td>170 + 206 = 376</td>\n",
       "    </tr>\n",
       "  </tbody>\n",
       "</table>\n",
       "</div>"
      ],
      "text/plain": [
       "            Eventos   Año     Genero Medalla  \\\n",
       "70    45 kg (03.04)  2020   Femenino   Plata   \n",
       "52    55 kg (07.04)  2019   Femenino   Plata   \n",
       "116   76 kg (08.04)  2020   Femenino  Bronce   \n",
       "24    81 kg (07.04)  2020  Masculino     Oro   \n",
       "87   102 kg (13.04)  2019  Masculino  Bronce   \n",
       "\n",
       "                                            Atleta      Nombre   Apellido  \\\n",
       "70           Ivana Petrova Bulgaria  67 + 85 = 152       Ivana    Petrova   \n",
       "52         Svetlana Yershova Rusia  90 + 108 = 198    Svetlana   Yershova   \n",
       "116     Anastasiya Romanova Rusia  111 + 132 = 243  Anastasiya   Romanova   \n",
       "24      Antonino Pizzolato Italia  164 + 206 = 370    Antonino  Pizzolato   \n",
       "87   Vadzim Straltsou Bielorrusia  170 + 206 = 376      Vadzim  Straltsou   \n",
       "\n",
       "            País       Resultados  \n",
       "70      Bulgaria    67 + 85 = 152  \n",
       "52         Rusia   90 + 108 = 198  \n",
       "116        Rusia  111 + 132 = 243  \n",
       "24        Italia  164 + 206 = 370  \n",
       "87   Bielorrusia  170 + 206 = 376  "
      ]
     },
     "metadata": {},
     "output_type": "display_data"
    },
    {
     "name": "stdout",
     "output_type": "stream",
     "text": [
      "\n",
      "########################################################################################\n",
      "¿Cuáles son las columnas del conjunto de datos?\n",
      "\t - Eventos\n",
      "\t - Año\n",
      "\t - Genero\n",
      "\t - Medalla\n",
      "\t - Atleta\n",
      "\t - Nombre\n",
      "\t - Apellido\n",
      "\t - País\n",
      "\t - Resultados\n",
      "\n",
      "########################################################################################\n",
      "¿Cuál es el tipo de datos de cada columna?\n",
      "Eventos       object\n",
      "Año            int64\n",
      "Genero        object\n",
      "Medalla       object\n",
      "Atleta        object\n",
      "Nombre        object\n",
      "Apellido      object\n",
      "País          object\n",
      "Resultados    object\n",
      "dtype: object\n",
      "\n",
      "########################################################################################\n",
      "¿Cuántas columnas hay de cada tipo de datos?\n",
      "object    8\n",
      "int64     1\n",
      "Name: count, dtype: int64\n",
      "\n",
      "########################################################################################\n",
      "¿Cómo podríamos obtener información más completa sobre la estructura y el contenido del DataFrame?\n",
      "<class 'pandas.core.frame.DataFrame'>\n",
      "RangeIndex: 120 entries, 0 to 119\n",
      "Data columns (total 9 columns):\n",
      " #   Column      Non-Null Count  Dtype \n",
      "---  ------      --------------  ----- \n",
      " 0   Eventos     120 non-null    object\n",
      " 1   Año         120 non-null    int64 \n",
      " 2   Genero      120 non-null    object\n",
      " 3   Medalla     120 non-null    object\n",
      " 4   Atleta      120 non-null    object\n",
      " 5   Nombre      120 non-null    object\n",
      " 6   Apellido    120 non-null    object\n",
      " 7   País        120 non-null    object\n",
      " 8   Resultados  120 non-null    object\n",
      "dtypes: int64(1), object(8)\n",
      "memory usage: 8.6+ KB\n",
      "None\n",
      "\n",
      "########################################################################################\n",
      "¿Cuántos valores únicos tiene cada columna?\n",
      "Eventos        39\n",
      "Año             2\n",
      "Genero          2\n",
      "Medalla         3\n",
      "Atleta        120\n",
      "Nombre         85\n",
      "Apellido       97\n",
      "País           21\n",
      "Resultados    117\n",
      "dtype: int64\n",
      "\n",
      "########################################################################################\n",
      "¿Cuáles son las estadísticas descriptivas básicas de todas las columnas?\n"
     ]
    },
    {
     "data": {
      "text/html": [
       "<div>\n",
       "<style scoped>\n",
       "    .dataframe tbody tr th:only-of-type {\n",
       "        vertical-align: middle;\n",
       "    }\n",
       "\n",
       "    .dataframe tbody tr th {\n",
       "        vertical-align: top;\n",
       "    }\n",
       "\n",
       "    .dataframe thead th {\n",
       "        text-align: right;\n",
       "    }\n",
       "</style>\n",
       "<table border=\"1\" class=\"dataframe\">\n",
       "  <thead>\n",
       "    <tr style=\"text-align: right;\">\n",
       "      <th></th>\n",
       "      <th>Eventos</th>\n",
       "      <th>Año</th>\n",
       "      <th>Genero</th>\n",
       "      <th>Medalla</th>\n",
       "      <th>Atleta</th>\n",
       "      <th>Nombre</th>\n",
       "      <th>Apellido</th>\n",
       "      <th>País</th>\n",
       "      <th>Resultados</th>\n",
       "    </tr>\n",
       "  </thead>\n",
       "  <tbody>\n",
       "    <tr>\n",
       "      <th>count</th>\n",
       "      <td>120</td>\n",
       "      <td>120.0</td>\n",
       "      <td>120</td>\n",
       "      <td>120</td>\n",
       "      <td>120</td>\n",
       "      <td>120</td>\n",
       "      <td>120</td>\n",
       "      <td>120</td>\n",
       "      <td>120</td>\n",
       "    </tr>\n",
       "    <tr>\n",
       "      <th>unique</th>\n",
       "      <td>39</td>\n",
       "      <td></td>\n",
       "      <td>2</td>\n",
       "      <td>3</td>\n",
       "      <td>120</td>\n",
       "      <td>85</td>\n",
       "      <td>97</td>\n",
       "      <td>21</td>\n",
       "      <td>117</td>\n",
       "    </tr>\n",
       "    <tr>\n",
       "      <th>top</th>\n",
       "      <td>55 kg (04.04)</td>\n",
       "      <td></td>\n",
       "      <td>Masculino</td>\n",
       "      <td>Oro</td>\n",
       "      <td>Mirco Scarantino Italia  116 + 145 = 261</td>\n",
       "      <td>Anastasiya</td>\n",
       "      <td>Asayonak</td>\n",
       "      <td>Rusia</td>\n",
       "      <td>98 + 129 = 227</td>\n",
       "    </tr>\n",
       "    <tr>\n",
       "      <th>freq</th>\n",
       "      <td>6</td>\n",
       "      <td></td>\n",
       "      <td>60</td>\n",
       "      <td>40</td>\n",
       "      <td>1</td>\n",
       "      <td>5</td>\n",
       "      <td>3</td>\n",
       "      <td>20</td>\n",
       "      <td>2</td>\n",
       "    </tr>\n",
       "    <tr>\n",
       "      <th>mean</th>\n",
       "      <td></td>\n",
       "      <td>2019.5</td>\n",
       "      <td></td>\n",
       "      <td></td>\n",
       "      <td></td>\n",
       "      <td></td>\n",
       "      <td></td>\n",
       "      <td></td>\n",
       "      <td></td>\n",
       "    </tr>\n",
       "    <tr>\n",
       "      <th>std</th>\n",
       "      <td></td>\n",
       "      <td>0.502096</td>\n",
       "      <td></td>\n",
       "      <td></td>\n",
       "      <td></td>\n",
       "      <td></td>\n",
       "      <td></td>\n",
       "      <td></td>\n",
       "      <td></td>\n",
       "    </tr>\n",
       "    <tr>\n",
       "      <th>min</th>\n",
       "      <td></td>\n",
       "      <td>2019.0</td>\n",
       "      <td></td>\n",
       "      <td></td>\n",
       "      <td></td>\n",
       "      <td></td>\n",
       "      <td></td>\n",
       "      <td></td>\n",
       "      <td></td>\n",
       "    </tr>\n",
       "    <tr>\n",
       "      <th>25%</th>\n",
       "      <td></td>\n",
       "      <td>2019.0</td>\n",
       "      <td></td>\n",
       "      <td></td>\n",
       "      <td></td>\n",
       "      <td></td>\n",
       "      <td></td>\n",
       "      <td></td>\n",
       "      <td></td>\n",
       "    </tr>\n",
       "    <tr>\n",
       "      <th>50%</th>\n",
       "      <td></td>\n",
       "      <td>2019.5</td>\n",
       "      <td></td>\n",
       "      <td></td>\n",
       "      <td></td>\n",
       "      <td></td>\n",
       "      <td></td>\n",
       "      <td></td>\n",
       "      <td></td>\n",
       "    </tr>\n",
       "    <tr>\n",
       "      <th>75%</th>\n",
       "      <td></td>\n",
       "      <td>2020.0</td>\n",
       "      <td></td>\n",
       "      <td></td>\n",
       "      <td></td>\n",
       "      <td></td>\n",
       "      <td></td>\n",
       "      <td></td>\n",
       "      <td></td>\n",
       "    </tr>\n",
       "    <tr>\n",
       "      <th>max</th>\n",
       "      <td></td>\n",
       "      <td>2020.0</td>\n",
       "      <td></td>\n",
       "      <td></td>\n",
       "      <td></td>\n",
       "      <td></td>\n",
       "      <td></td>\n",
       "      <td></td>\n",
       "      <td></td>\n",
       "    </tr>\n",
       "  </tbody>\n",
       "</table>\n",
       "</div>"
      ],
      "text/plain": [
       "              Eventos       Año     Genero Medalla  \\\n",
       "count             120     120.0        120     120   \n",
       "unique             39                    2       3   \n",
       "top     55 kg (04.04)            Masculino     Oro   \n",
       "freq                6                   60      40   \n",
       "mean                     2019.5                      \n",
       "std                    0.502096                      \n",
       "min                      2019.0                      \n",
       "25%                      2019.0                      \n",
       "50%                      2019.5                      \n",
       "75%                      2020.0                      \n",
       "max                      2020.0                      \n",
       "\n",
       "                                          Atleta      Nombre  Apellido   País  \\\n",
       "count                                        120         120       120    120   \n",
       "unique                                       120          85        97     21   \n",
       "top     Mirco Scarantino Italia  116 + 145 = 261  Anastasiya  Asayonak  Rusia   \n",
       "freq                                           1           5         3     20   \n",
       "mean                                                                            \n",
       "std                                                                             \n",
       "min                                                                             \n",
       "25%                                                                             \n",
       "50%                                                                             \n",
       "75%                                                                             \n",
       "max                                                                             \n",
       "\n",
       "            Resultados  \n",
       "count              120  \n",
       "unique             117  \n",
       "top     98 + 129 = 227  \n",
       "freq                 2  \n",
       "mean                    \n",
       "std                     \n",
       "min                     \n",
       "25%                     \n",
       "50%                     \n",
       "75%                     \n",
       "max                     "
      ]
     },
     "metadata": {},
     "output_type": "display_data"
    },
    {
     "name": "stdout",
     "output_type": "stream",
     "text": [
      "\n",
      "########################################################################################\n",
      "¿Hay valores nulos en el conjunto de datos?\n",
      "Eventos       0\n",
      "Año           0\n",
      "Genero        0\n",
      "Medalla       0\n",
      "Atleta        0\n",
      "Nombre        0\n",
      "Apellido      0\n",
      "País          0\n",
      "Resultados    0\n",
      "dtype: int64\n",
      "\n",
      "########################################################################################\n",
      "¿Cuál es el porcentaje de valores nulos en cada columna?\n",
      "Eventos       0.0\n",
      "Año           0.0\n",
      "Genero        0.0\n",
      "Medalla       0.0\n",
      "Atleta        0.0\n",
      "Nombre        0.0\n",
      "Apellido      0.0\n",
      "País          0.0\n",
      "Resultados    0.0\n",
      "dtype: float64\n",
      "\n",
      "########################################################################################\n",
      "¿Hay filas duplicadas en el conjunto de datos?\n",
      "\tExisten duplicados: False\n",
      "\tNúmero total de filas duplicadas: 0\n",
      "\n",
      "########################################################################################\n"
     ]
    }
   ],
   "source": [
    "exploracion_inicial(df = df_medallas)"
   ]
  },
  {
   "cell_type": "code",
   "execution_count": 24,
   "id": "53d9b5f9",
   "metadata": {},
   "outputs": [],
   "source": [
    "def crear_columnas_desde_Resultados(df):\n",
    "    # Inicialización de listas para almacenar los valores extraídos\n",
    "    columna_Resultados = list()  \n",
    "    columna_Arrancada = list()\n",
    "    columna_Dos_tiempos = list()\n",
    "    columna_Total = list()\n",
    "    \n",
    "    for resultado in df.Resultados.to_list():\n",
    "        # Ejemplo de entrada: '116 + 145 = 261'\n",
    "        \n",
    "        resultado = resultado.strip()  # Elimina espacios en blanco al inicio y final\n",
    "        \n",
    "        # Extrae el primer número (Arrancada)\n",
    "        # De '116 + 145 = 261' obtiene '116'\n",
    "        Puntuacion_Arrancada = \"\".join(list(resultado.split(\"+\"))[:1])  # Obtiene '116'\n",
    "        \n",
    "        # Obtiene la parte después del \"+\"\n",
    "        # De '116 + 145 = 261' obtiene ' 145 = 261'\n",
    "        Puntuacion = \" \".join(list(resultado.split(\"+\"))[1:2])  # Obtiene ' 145 = 261'\n",
    "        \n",
    "        # De ' 145 = 261' obtiene ' 145 '\n",
    "        Puntuacion_Dos_tiempos = \"\".join(list(Puntuacion.split(\"=\"))[:1])  # Obtiene ' 145 '\n",
    "        \n",
    "        # De ' 145 = 261' obtiene ' 261'\n",
    "        Puntuacion_total = \"\".join(list(Puntuacion.split(\"=\"))[1:])  # Obtiene ' 261'\n",
    "        \n",
    "        # Limpia Puntuacion_total para conservar solo dígitos, signos + y -\n",
    "        # De ' 261' obtiene '261'\n",
    "        Puntuacion_total_ = re.sub(r'[^\\d+-]', '', Puntuacion_total)  # Obtiene '261'\n",
    "        \n",
    "        # Agrega los valores extraídos a las listas correspondientes\n",
    "        columna_Arrancada.append(Puntuacion_Arrancada)\n",
    "        columna_Dos_tiempos.append(Puntuacion_Dos_tiempos)\n",
    "        columna_Total.append(Puntuacion_total_)\n",
    "    \n",
    "    # Asigna las listas resultantes como nuevas columnas en el DataFrame\n",
    "    df[\"Arrancada\"] = pd.Series(columna_Arrancada).reset_index(drop=True)\n",
    "    df[\"Dos Tiempos\"] = pd.Series(columna_Dos_tiempos).reset_index(drop=True)\n",
    "    df[\"Total\"] = pd.Series(columna_Total).reset_index(drop=True)"
   ]
  },
  {
   "cell_type": "markdown",
   "id": "6aa063d4",
   "metadata": {},
   "source": [
    "Realizamos la transformación y comprobamos que el dataframe resultante no tenga nulos ni duplicados y los datos sigan siendo consistentes."
   ]
  },
  {
   "cell_type": "code",
   "execution_count": 25,
   "id": "556e93a3",
   "metadata": {},
   "outputs": [],
   "source": [
    "crear_columnas_desde_Resultados(df = df_medallas)"
   ]
  },
  {
   "cell_type": "code",
   "execution_count": 26,
   "id": "1698f159",
   "metadata": {},
   "outputs": [
    {
     "name": "stdout",
     "output_type": "stream",
     "text": [
      "¿Cuántas filas y columnas hay en el conjunto de datos?\n",
      "\tHay 120 filas y 12 columnas.\n",
      "\n",
      "########################################################################################\n",
      "¿Cuáles son las primeras cinco filas del conjunto de datos?\n"
     ]
    },
    {
     "data": {
      "text/html": [
       "<div>\n",
       "<style scoped>\n",
       "    .dataframe tbody tr th:only-of-type {\n",
       "        vertical-align: middle;\n",
       "    }\n",
       "\n",
       "    .dataframe tbody tr th {\n",
       "        vertical-align: top;\n",
       "    }\n",
       "\n",
       "    .dataframe thead th {\n",
       "        text-align: right;\n",
       "    }\n",
       "</style>\n",
       "<table border=\"1\" class=\"dataframe\">\n",
       "  <thead>\n",
       "    <tr style=\"text-align: right;\">\n",
       "      <th></th>\n",
       "      <th>Eventos</th>\n",
       "      <th>Año</th>\n",
       "      <th>Genero</th>\n",
       "      <th>Medalla</th>\n",
       "      <th>Atleta</th>\n",
       "      <th>Nombre</th>\n",
       "      <th>Apellido</th>\n",
       "      <th>País</th>\n",
       "      <th>Resultados</th>\n",
       "      <th>Arrancada</th>\n",
       "      <th>Dos Tiempos</th>\n",
       "      <th>Total</th>\n",
       "    </tr>\n",
       "  </thead>\n",
       "  <tbody>\n",
       "    <tr>\n",
       "      <th>0</th>\n",
       "      <td>55 kg (06.04)</td>\n",
       "      <td>2019</td>\n",
       "      <td>Masculino</td>\n",
       "      <td>Oro</td>\n",
       "      <td>Mirco Scarantino Italia  116 + 145 = 261</td>\n",
       "      <td>Mirco</td>\n",
       "      <td>Scarantino</td>\n",
       "      <td>Italia</td>\n",
       "      <td>116 + 145 = 261</td>\n",
       "      <td>116</td>\n",
       "      <td>145</td>\n",
       "      <td>261</td>\n",
       "    </tr>\n",
       "    <tr>\n",
       "      <th>1</th>\n",
       "      <td>61 kg (07.04)</td>\n",
       "      <td>2019</td>\n",
       "      <td>Masculino</td>\n",
       "      <td>Oro</td>\n",
       "      <td>Henadz Laptseu Bielorrusia  133 + 153 = 286</td>\n",
       "      <td>Henadz</td>\n",
       "      <td>Laptseu</td>\n",
       "      <td>Bielorrusia</td>\n",
       "      <td>133 + 153 = 286</td>\n",
       "      <td>133</td>\n",
       "      <td>153</td>\n",
       "      <td>286</td>\n",
       "    </tr>\n",
       "    <tr>\n",
       "      <th>2</th>\n",
       "      <td>67 kg (08.04)</td>\n",
       "      <td>2019</td>\n",
       "      <td>Masculino</td>\n",
       "      <td>Oro</td>\n",
       "      <td>Bernardin Matam Francia  137 + 175 = 312</td>\n",
       "      <td>Bernardin</td>\n",
       "      <td>Matam</td>\n",
       "      <td>Francia</td>\n",
       "      <td>137 + 175 = 312</td>\n",
       "      <td>137</td>\n",
       "      <td>175</td>\n",
       "      <td>312</td>\n",
       "    </tr>\n",
       "    <tr>\n",
       "      <th>3</th>\n",
       "      <td>73 kg (09.04)</td>\n",
       "      <td>2019</td>\n",
       "      <td>Masculino</td>\n",
       "      <td>Oro</td>\n",
       "      <td>Bozhidar Andreev Bulgaria  153 + 192 = 345</td>\n",
       "      <td>Bozhidar</td>\n",
       "      <td>Andreev</td>\n",
       "      <td>Bulgaria</td>\n",
       "      <td>153 + 192 = 345</td>\n",
       "      <td>153</td>\n",
       "      <td>192</td>\n",
       "      <td>345</td>\n",
       "    </tr>\n",
       "    <tr>\n",
       "      <th>4</th>\n",
       "      <td>81 kg (10.04)</td>\n",
       "      <td>2019</td>\n",
       "      <td>Masculino</td>\n",
       "      <td>Oro</td>\n",
       "      <td>Antonino Pizzolato Italia  155 + 201 = 356</td>\n",
       "      <td>Antonino</td>\n",
       "      <td>Pizzolato</td>\n",
       "      <td>Italia</td>\n",
       "      <td>155 + 201 = 356</td>\n",
       "      <td>155</td>\n",
       "      <td>201</td>\n",
       "      <td>356</td>\n",
       "    </tr>\n",
       "  </tbody>\n",
       "</table>\n",
       "</div>"
      ],
      "text/plain": [
       "         Eventos   Año     Genero Medalla  \\\n",
       "0  55 kg (06.04)  2019  Masculino     Oro   \n",
       "1  61 kg (07.04)  2019  Masculino     Oro   \n",
       "2  67 kg (08.04)  2019  Masculino     Oro   \n",
       "3  73 kg (09.04)  2019  Masculino     Oro   \n",
       "4  81 kg (10.04)  2019  Masculino     Oro   \n",
       "\n",
       "                                        Atleta     Nombre    Apellido  \\\n",
       "0     Mirco Scarantino Italia  116 + 145 = 261      Mirco  Scarantino   \n",
       "1  Henadz Laptseu Bielorrusia  133 + 153 = 286     Henadz     Laptseu   \n",
       "2     Bernardin Matam Francia  137 + 175 = 312  Bernardin       Matam   \n",
       "3   Bozhidar Andreev Bulgaria  153 + 192 = 345   Bozhidar     Andreev   \n",
       "4   Antonino Pizzolato Italia  155 + 201 = 356   Antonino   Pizzolato   \n",
       "\n",
       "          País       Resultados Arrancada Dos Tiempos Total  \n",
       "0       Italia  116 + 145 = 261      116         145    261  \n",
       "1  Bielorrusia  133 + 153 = 286      133         153    286  \n",
       "2      Francia  137 + 175 = 312      137         175    312  \n",
       "3     Bulgaria  153 + 192 = 345      153         192    345  \n",
       "4       Italia  155 + 201 = 356      155         201    356  "
      ]
     },
     "metadata": {},
     "output_type": "display_data"
    },
    {
     "name": "stdout",
     "output_type": "stream",
     "text": [
      "\n",
      "########################################################################################\n",
      "¿Cuáles son las últimas cinco filas del conjunto de datos?\n"
     ]
    },
    {
     "data": {
      "text/html": [
       "<div>\n",
       "<style scoped>\n",
       "    .dataframe tbody tr th:only-of-type {\n",
       "        vertical-align: middle;\n",
       "    }\n",
       "\n",
       "    .dataframe tbody tr th {\n",
       "        vertical-align: top;\n",
       "    }\n",
       "\n",
       "    .dataframe thead th {\n",
       "        text-align: right;\n",
       "    }\n",
       "</style>\n",
       "<table border=\"1\" class=\"dataframe\">\n",
       "  <thead>\n",
       "    <tr style=\"text-align: right;\">\n",
       "      <th></th>\n",
       "      <th>Eventos</th>\n",
       "      <th>Año</th>\n",
       "      <th>Genero</th>\n",
       "      <th>Medalla</th>\n",
       "      <th>Atleta</th>\n",
       "      <th>Nombre</th>\n",
       "      <th>Apellido</th>\n",
       "      <th>País</th>\n",
       "      <th>Resultados</th>\n",
       "      <th>Arrancada</th>\n",
       "      <th>Dos Tiempos</th>\n",
       "      <th>Total</th>\n",
       "    </tr>\n",
       "  </thead>\n",
       "  <tbody>\n",
       "    <tr>\n",
       "      <th>115</th>\n",
       "      <td>71 kg (07.04)</td>\n",
       "      <td>2020</td>\n",
       "      <td>Femenino</td>\n",
       "      <td>Bronce</td>\n",
       "      <td>Raluca Olaru Rumania  98 + 120 = 218</td>\n",
       "      <td>Raluca</td>\n",
       "      <td>Olaru</td>\n",
       "      <td>Rumania</td>\n",
       "      <td>98 + 120 = 218</td>\n",
       "      <td>98</td>\n",
       "      <td>120</td>\n",
       "      <td>218</td>\n",
       "    </tr>\n",
       "    <tr>\n",
       "      <th>116</th>\n",
       "      <td>76 kg (08.04)</td>\n",
       "      <td>2020</td>\n",
       "      <td>Femenino</td>\n",
       "      <td>Bronce</td>\n",
       "      <td>Anastasiya Romanova Rusia  111 + 132 = 243</td>\n",
       "      <td>Anastasiya</td>\n",
       "      <td>Romanova</td>\n",
       "      <td>Rusia</td>\n",
       "      <td>111 + 132 = 243</td>\n",
       "      <td>111</td>\n",
       "      <td>132</td>\n",
       "      <td>243</td>\n",
       "    </tr>\n",
       "    <tr>\n",
       "      <th>117</th>\n",
       "      <td>81 kg (09.04)</td>\n",
       "      <td>2020</td>\n",
       "      <td>Femenino</td>\n",
       "      <td>Bronce</td>\n",
       "      <td>Liana Guiurdzhian Armenia  98 + 129 = 227</td>\n",
       "      <td>Liana</td>\n",
       "      <td>Guiurdzhian</td>\n",
       "      <td>Armenia</td>\n",
       "      <td>98 + 129 = 227</td>\n",
       "      <td>98</td>\n",
       "      <td>129</td>\n",
       "      <td>227</td>\n",
       "    </tr>\n",
       "    <tr>\n",
       "      <th>118</th>\n",
       "      <td>87 kg (10.04)</td>\n",
       "      <td>2020</td>\n",
       "      <td>Femenino</td>\n",
       "      <td>Bronce</td>\n",
       "      <td>Daria Riazanova Rusia  105 + 135 = 240</td>\n",
       "      <td>Daria</td>\n",
       "      <td>Riazanova</td>\n",
       "      <td>Rusia</td>\n",
       "      <td>105 + 135 = 240</td>\n",
       "      <td>105</td>\n",
       "      <td>135</td>\n",
       "      <td>240</td>\n",
       "    </tr>\n",
       "    <tr>\n",
       "      <th>119</th>\n",
       "      <td>+87 kg (11.04)</td>\n",
       "      <td>2020</td>\n",
       "      <td>Femenino</td>\n",
       "      <td>Bronce</td>\n",
       "      <td>Melike Günal Turquía  108 + 135 = 243</td>\n",
       "      <td>Melike</td>\n",
       "      <td>Günal</td>\n",
       "      <td>Turquía</td>\n",
       "      <td>108 + 135 = 243</td>\n",
       "      <td>108</td>\n",
       "      <td>135</td>\n",
       "      <td>243</td>\n",
       "    </tr>\n",
       "  </tbody>\n",
       "</table>\n",
       "</div>"
      ],
      "text/plain": [
       "            Eventos   Año    Genero Medalla  \\\n",
       "115   71 kg (07.04)  2020  Femenino  Bronce   \n",
       "116   76 kg (08.04)  2020  Femenino  Bronce   \n",
       "117   81 kg (09.04)  2020  Femenino  Bronce   \n",
       "118   87 kg (10.04)  2020  Femenino  Bronce   \n",
       "119  +87 kg (11.04)  2020  Femenino  Bronce   \n",
       "\n",
       "                                         Atleta      Nombre     Apellido  \\\n",
       "115        Raluca Olaru Rumania  98 + 120 = 218      Raluca        Olaru   \n",
       "116  Anastasiya Romanova Rusia  111 + 132 = 243  Anastasiya     Romanova   \n",
       "117   Liana Guiurdzhian Armenia  98 + 129 = 227       Liana  Guiurdzhian   \n",
       "118      Daria Riazanova Rusia  105 + 135 = 240       Daria    Riazanova   \n",
       "119       Melike Günal Turquía  108 + 135 = 243      Melike        Günal   \n",
       "\n",
       "        País       Resultados Arrancada Dos Tiempos Total  \n",
       "115  Rumania   98 + 120 = 218       98         120    218  \n",
       "116    Rusia  111 + 132 = 243      111         132    243  \n",
       "117  Armenia   98 + 129 = 227       98         129    227  \n",
       "118    Rusia  105 + 135 = 240      105         135    240  \n",
       "119  Turquía  108 + 135 = 243      108         135    243  "
      ]
     },
     "metadata": {},
     "output_type": "display_data"
    },
    {
     "name": "stdout",
     "output_type": "stream",
     "text": [
      "\n",
      "########################################################################################\n",
      "¿Cómo puedes obtener una muestra aleatoria de filas del conjunto de datos?\n"
     ]
    },
    {
     "data": {
      "text/html": [
       "<div>\n",
       "<style scoped>\n",
       "    .dataframe tbody tr th:only-of-type {\n",
       "        vertical-align: middle;\n",
       "    }\n",
       "\n",
       "    .dataframe tbody tr th {\n",
       "        vertical-align: top;\n",
       "    }\n",
       "\n",
       "    .dataframe thead th {\n",
       "        text-align: right;\n",
       "    }\n",
       "</style>\n",
       "<table border=\"1\" class=\"dataframe\">\n",
       "  <thead>\n",
       "    <tr style=\"text-align: right;\">\n",
       "      <th></th>\n",
       "      <th>Eventos</th>\n",
       "      <th>Año</th>\n",
       "      <th>Genero</th>\n",
       "      <th>Medalla</th>\n",
       "      <th>Atleta</th>\n",
       "      <th>Nombre</th>\n",
       "      <th>Apellido</th>\n",
       "      <th>País</th>\n",
       "      <th>Resultados</th>\n",
       "      <th>Arrancada</th>\n",
       "      <th>Dos Tiempos</th>\n",
       "      <th>Total</th>\n",
       "    </tr>\n",
       "  </thead>\n",
       "  <tbody>\n",
       "    <tr>\n",
       "      <th>70</th>\n",
       "      <td>45 kg (03.04)</td>\n",
       "      <td>2020</td>\n",
       "      <td>Femenino</td>\n",
       "      <td>Plata</td>\n",
       "      <td>Ivana Petrova Bulgaria  67 + 85 = 152</td>\n",
       "      <td>Ivana</td>\n",
       "      <td>Petrova</td>\n",
       "      <td>Bulgaria</td>\n",
       "      <td>67 + 85 = 152</td>\n",
       "      <td>67</td>\n",
       "      <td>85</td>\n",
       "      <td>152</td>\n",
       "    </tr>\n",
       "    <tr>\n",
       "      <th>27</th>\n",
       "      <td>102 kg (10.04)</td>\n",
       "      <td>2020</td>\n",
       "      <td>Masculino</td>\n",
       "      <td>Oro</td>\n",
       "      <td>Samvel Gasparian Armenia  176 +214 = 390</td>\n",
       "      <td>Samvel</td>\n",
       "      <td>Gasparian</td>\n",
       "      <td>Armenia</td>\n",
       "      <td>176 +214 = 390</td>\n",
       "      <td>176</td>\n",
       "      <td>214</td>\n",
       "      <td>390</td>\n",
       "    </tr>\n",
       "    <tr>\n",
       "      <th>111</th>\n",
       "      <td>49 kg (03.04)</td>\n",
       "      <td>2020</td>\n",
       "      <td>Femenino</td>\n",
       "      <td>Bronce</td>\n",
       "      <td>Mihaela Cambei Rumania  80 + 100 = 180</td>\n",
       "      <td>Mihaela</td>\n",
       "      <td>Cambei</td>\n",
       "      <td>Rumania</td>\n",
       "      <td>80 + 100 = 180</td>\n",
       "      <td>80</td>\n",
       "      <td>100</td>\n",
       "      <td>180</td>\n",
       "    </tr>\n",
       "    <tr>\n",
       "      <th>28</th>\n",
       "      <td>109 kg (10.04)</td>\n",
       "      <td>2020</td>\n",
       "      <td>Masculino</td>\n",
       "      <td>Oro</td>\n",
       "      <td>Dmytro Chumak Ucrania  181 + 226 = 407</td>\n",
       "      <td>Dmytro</td>\n",
       "      <td>Chumak</td>\n",
       "      <td>Ucrania</td>\n",
       "      <td>181 + 226 = 407</td>\n",
       "      <td>181</td>\n",
       "      <td>226</td>\n",
       "      <td>407</td>\n",
       "    </tr>\n",
       "    <tr>\n",
       "      <th>56</th>\n",
       "      <td>76 kg (11.04)</td>\n",
       "      <td>2019</td>\n",
       "      <td>Femenino</td>\n",
       "      <td>Plata</td>\n",
       "      <td>Lidia Valentín España  108 + 133 = 241</td>\n",
       "      <td>Lidia</td>\n",
       "      <td>Valentín</td>\n",
       "      <td>España</td>\n",
       "      <td>108 + 133 = 241</td>\n",
       "      <td>108</td>\n",
       "      <td>133</td>\n",
       "      <td>241</td>\n",
       "    </tr>\n",
       "  </tbody>\n",
       "</table>\n",
       "</div>"
      ],
      "text/plain": [
       "            Eventos   Año     Genero Medalla  \\\n",
       "70    45 kg (03.04)  2020   Femenino   Plata   \n",
       "27   102 kg (10.04)  2020  Masculino     Oro   \n",
       "111   49 kg (03.04)  2020   Femenino  Bronce   \n",
       "28   109 kg (10.04)  2020  Masculino     Oro   \n",
       "56    76 kg (11.04)  2019   Femenino   Plata   \n",
       "\n",
       "                                       Atleta   Nombre   Apellido      País  \\\n",
       "70      Ivana Petrova Bulgaria  67 + 85 = 152    Ivana    Petrova  Bulgaria   \n",
       "27   Samvel Gasparian Armenia  176 +214 = 390   Samvel  Gasparian   Armenia   \n",
       "111    Mihaela Cambei Rumania  80 + 100 = 180  Mihaela     Cambei   Rumania   \n",
       "28     Dmytro Chumak Ucrania  181 + 226 = 407   Dmytro     Chumak   Ucrania   \n",
       "56     Lidia Valentín España  108 + 133 = 241    Lidia   Valentín    España   \n",
       "\n",
       "          Resultados Arrancada Dos Tiempos Total  \n",
       "70     67 + 85 = 152       67          85    152  \n",
       "27    176 +214 = 390      176         214    390  \n",
       "111   80 + 100 = 180       80         100    180  \n",
       "28   181 + 226 = 407      181         226    407  \n",
       "56   108 + 133 = 241      108         133    241  "
      ]
     },
     "metadata": {},
     "output_type": "display_data"
    },
    {
     "name": "stdout",
     "output_type": "stream",
     "text": [
      "\n",
      "########################################################################################\n",
      "¿Cuáles son las columnas del conjunto de datos?\n",
      "\t - Eventos\n",
      "\t - Año\n",
      "\t - Genero\n",
      "\t - Medalla\n",
      "\t - Atleta\n",
      "\t - Nombre\n",
      "\t - Apellido\n",
      "\t - País\n",
      "\t - Resultados\n",
      "\t - Arrancada\n",
      "\t - Dos Tiempos\n",
      "\t - Total\n",
      "\n",
      "########################################################################################\n",
      "¿Cuál es el tipo de datos de cada columna?\n",
      "Eventos        object\n",
      "Año             int64\n",
      "Genero         object\n",
      "Medalla        object\n",
      "Atleta         object\n",
      "Nombre         object\n",
      "Apellido       object\n",
      "País           object\n",
      "Resultados     object\n",
      "Arrancada      object\n",
      "Dos Tiempos    object\n",
      "Total          object\n",
      "dtype: object\n",
      "\n",
      "########################################################################################\n",
      "¿Cuántas columnas hay de cada tipo de datos?\n",
      "object    11\n",
      "int64      1\n",
      "Name: count, dtype: int64\n",
      "\n",
      "########################################################################################\n",
      "¿Cómo podríamos obtener información más completa sobre la estructura y el contenido del DataFrame?\n",
      "<class 'pandas.core.frame.DataFrame'>\n",
      "RangeIndex: 120 entries, 0 to 119\n",
      "Data columns (total 12 columns):\n",
      " #   Column       Non-Null Count  Dtype \n",
      "---  ------       --------------  ----- \n",
      " 0   Eventos      120 non-null    object\n",
      " 1   Año          120 non-null    int64 \n",
      " 2   Genero       120 non-null    object\n",
      " 3   Medalla      120 non-null    object\n",
      " 4   Atleta       120 non-null    object\n",
      " 5   Nombre       120 non-null    object\n",
      " 6   Apellido     120 non-null    object\n",
      " 7   País         120 non-null    object\n",
      " 8   Resultados   120 non-null    object\n",
      " 9   Arrancada    120 non-null    object\n",
      " 10  Dos Tiempos  120 non-null    object\n",
      " 11  Total        120 non-null    object\n",
      "dtypes: int64(1), object(11)\n",
      "memory usage: 11.4+ KB\n",
      "None\n",
      "\n",
      "########################################################################################\n",
      "¿Cuántos valores únicos tiene cada columna?\n",
      "Eventos         39\n",
      "Año              2\n",
      "Genero           2\n",
      "Medalla          3\n",
      "Atleta         120\n",
      "Nombre          85\n",
      "Apellido        97\n",
      "País            21\n",
      "Resultados     117\n",
      "Arrancada       79\n",
      "Dos Tiempos     86\n",
      "Total          102\n",
      "dtype: int64\n",
      "\n",
      "########################################################################################\n",
      "¿Cuáles son las estadísticas descriptivas básicas de todas las columnas?\n"
     ]
    },
    {
     "data": {
      "text/html": [
       "<div>\n",
       "<style scoped>\n",
       "    .dataframe tbody tr th:only-of-type {\n",
       "        vertical-align: middle;\n",
       "    }\n",
       "\n",
       "    .dataframe tbody tr th {\n",
       "        vertical-align: top;\n",
       "    }\n",
       "\n",
       "    .dataframe thead th {\n",
       "        text-align: right;\n",
       "    }\n",
       "</style>\n",
       "<table border=\"1\" class=\"dataframe\">\n",
       "  <thead>\n",
       "    <tr style=\"text-align: right;\">\n",
       "      <th></th>\n",
       "      <th>Eventos</th>\n",
       "      <th>Año</th>\n",
       "      <th>Genero</th>\n",
       "      <th>Medalla</th>\n",
       "      <th>Atleta</th>\n",
       "      <th>Nombre</th>\n",
       "      <th>Apellido</th>\n",
       "      <th>País</th>\n",
       "      <th>Resultados</th>\n",
       "      <th>Arrancada</th>\n",
       "      <th>Dos Tiempos</th>\n",
       "      <th>Total</th>\n",
       "    </tr>\n",
       "  </thead>\n",
       "  <tbody>\n",
       "    <tr>\n",
       "      <th>count</th>\n",
       "      <td>120</td>\n",
       "      <td>120.0</td>\n",
       "      <td>120</td>\n",
       "      <td>120</td>\n",
       "      <td>120</td>\n",
       "      <td>120</td>\n",
       "      <td>120</td>\n",
       "      <td>120</td>\n",
       "      <td>120</td>\n",
       "      <td>120</td>\n",
       "      <td>120</td>\n",
       "      <td>120</td>\n",
       "    </tr>\n",
       "    <tr>\n",
       "      <th>unique</th>\n",
       "      <td>39</td>\n",
       "      <td></td>\n",
       "      <td>2</td>\n",
       "      <td>3</td>\n",
       "      <td>120</td>\n",
       "      <td>85</td>\n",
       "      <td>97</td>\n",
       "      <td>21</td>\n",
       "      <td>117</td>\n",
       "      <td>79</td>\n",
       "      <td>86</td>\n",
       "      <td>102</td>\n",
       "    </tr>\n",
       "    <tr>\n",
       "      <th>top</th>\n",
       "      <td>55 kg (04.04)</td>\n",
       "      <td></td>\n",
       "      <td>Masculino</td>\n",
       "      <td>Oro</td>\n",
       "      <td>Mirco Scarantino Italia  116 + 145 = 261</td>\n",
       "      <td>Anastasiya</td>\n",
       "      <td>Asayonak</td>\n",
       "      <td>Rusia</td>\n",
       "      <td>98 + 129 = 227</td>\n",
       "      <td>95</td>\n",
       "      <td>120</td>\n",
       "      <td>240</td>\n",
       "    </tr>\n",
       "    <tr>\n",
       "      <th>freq</th>\n",
       "      <td>6</td>\n",
       "      <td></td>\n",
       "      <td>60</td>\n",
       "      <td>40</td>\n",
       "      <td>1</td>\n",
       "      <td>5</td>\n",
       "      <td>3</td>\n",
       "      <td>20</td>\n",
       "      <td>2</td>\n",
       "      <td>4</td>\n",
       "      <td>5</td>\n",
       "      <td>3</td>\n",
       "    </tr>\n",
       "    <tr>\n",
       "      <th>mean</th>\n",
       "      <td></td>\n",
       "      <td>2019.5</td>\n",
       "      <td></td>\n",
       "      <td></td>\n",
       "      <td></td>\n",
       "      <td></td>\n",
       "      <td></td>\n",
       "      <td></td>\n",
       "      <td></td>\n",
       "      <td></td>\n",
       "      <td></td>\n",
       "      <td></td>\n",
       "    </tr>\n",
       "    <tr>\n",
       "      <th>std</th>\n",
       "      <td></td>\n",
       "      <td>0.502096</td>\n",
       "      <td></td>\n",
       "      <td></td>\n",
       "      <td></td>\n",
       "      <td></td>\n",
       "      <td></td>\n",
       "      <td></td>\n",
       "      <td></td>\n",
       "      <td></td>\n",
       "      <td></td>\n",
       "      <td></td>\n",
       "    </tr>\n",
       "    <tr>\n",
       "      <th>min</th>\n",
       "      <td></td>\n",
       "      <td>2019.0</td>\n",
       "      <td></td>\n",
       "      <td></td>\n",
       "      <td></td>\n",
       "      <td></td>\n",
       "      <td></td>\n",
       "      <td></td>\n",
       "      <td></td>\n",
       "      <td></td>\n",
       "      <td></td>\n",
       "      <td></td>\n",
       "    </tr>\n",
       "    <tr>\n",
       "      <th>25%</th>\n",
       "      <td></td>\n",
       "      <td>2019.0</td>\n",
       "      <td></td>\n",
       "      <td></td>\n",
       "      <td></td>\n",
       "      <td></td>\n",
       "      <td></td>\n",
       "      <td></td>\n",
       "      <td></td>\n",
       "      <td></td>\n",
       "      <td></td>\n",
       "      <td></td>\n",
       "    </tr>\n",
       "    <tr>\n",
       "      <th>50%</th>\n",
       "      <td></td>\n",
       "      <td>2019.5</td>\n",
       "      <td></td>\n",
       "      <td></td>\n",
       "      <td></td>\n",
       "      <td></td>\n",
       "      <td></td>\n",
       "      <td></td>\n",
       "      <td></td>\n",
       "      <td></td>\n",
       "      <td></td>\n",
       "      <td></td>\n",
       "    </tr>\n",
       "    <tr>\n",
       "      <th>75%</th>\n",
       "      <td></td>\n",
       "      <td>2020.0</td>\n",
       "      <td></td>\n",
       "      <td></td>\n",
       "      <td></td>\n",
       "      <td></td>\n",
       "      <td></td>\n",
       "      <td></td>\n",
       "      <td></td>\n",
       "      <td></td>\n",
       "      <td></td>\n",
       "      <td></td>\n",
       "    </tr>\n",
       "    <tr>\n",
       "      <th>max</th>\n",
       "      <td></td>\n",
       "      <td>2020.0</td>\n",
       "      <td></td>\n",
       "      <td></td>\n",
       "      <td></td>\n",
       "      <td></td>\n",
       "      <td></td>\n",
       "      <td></td>\n",
       "      <td></td>\n",
       "      <td></td>\n",
       "      <td></td>\n",
       "      <td></td>\n",
       "    </tr>\n",
       "  </tbody>\n",
       "</table>\n",
       "</div>"
      ],
      "text/plain": [
       "              Eventos       Año     Genero Medalla  \\\n",
       "count             120     120.0        120     120   \n",
       "unique             39                    2       3   \n",
       "top     55 kg (04.04)            Masculino     Oro   \n",
       "freq                6                   60      40   \n",
       "mean                     2019.5                      \n",
       "std                    0.502096                      \n",
       "min                      2019.0                      \n",
       "25%                      2019.0                      \n",
       "50%                      2019.5                      \n",
       "75%                      2020.0                      \n",
       "max                      2020.0                      \n",
       "\n",
       "                                          Atleta      Nombre  Apellido   País  \\\n",
       "count                                        120         120       120    120   \n",
       "unique                                       120          85        97     21   \n",
       "top     Mirco Scarantino Italia  116 + 145 = 261  Anastasiya  Asayonak  Rusia   \n",
       "freq                                           1           5         3     20   \n",
       "mean                                                                            \n",
       "std                                                                             \n",
       "min                                                                             \n",
       "25%                                                                             \n",
       "50%                                                                             \n",
       "75%                                                                             \n",
       "max                                                                             \n",
       "\n",
       "            Resultados Arrancada Dos Tiempos Total  \n",
       "count              120       120         120   120  \n",
       "unique             117        79          86   102  \n",
       "top     98 + 129 = 227       95         120    240  \n",
       "freq                 2         4           5     3  \n",
       "mean                                                \n",
       "std                                                 \n",
       "min                                                 \n",
       "25%                                                 \n",
       "50%                                                 \n",
       "75%                                                 \n",
       "max                                                 "
      ]
     },
     "metadata": {},
     "output_type": "display_data"
    },
    {
     "name": "stdout",
     "output_type": "stream",
     "text": [
      "\n",
      "########################################################################################\n",
      "¿Hay valores nulos en el conjunto de datos?\n",
      "Eventos        0\n",
      "Año            0\n",
      "Genero         0\n",
      "Medalla        0\n",
      "Atleta         0\n",
      "Nombre         0\n",
      "Apellido       0\n",
      "País           0\n",
      "Resultados     0\n",
      "Arrancada      0\n",
      "Dos Tiempos    0\n",
      "Total          0\n",
      "dtype: int64\n",
      "\n",
      "########################################################################################\n",
      "¿Cuál es el porcentaje de valores nulos en cada columna?\n",
      "Eventos        0.0\n",
      "Año            0.0\n",
      "Genero         0.0\n",
      "Medalla        0.0\n",
      "Atleta         0.0\n",
      "Nombre         0.0\n",
      "Apellido       0.0\n",
      "País           0.0\n",
      "Resultados     0.0\n",
      "Arrancada      0.0\n",
      "Dos Tiempos    0.0\n",
      "Total          0.0\n",
      "dtype: float64\n",
      "\n",
      "########################################################################################\n",
      "¿Hay filas duplicadas en el conjunto de datos?\n",
      "\tExisten duplicados: False\n",
      "\tNúmero total de filas duplicadas: 0\n",
      "\n",
      "########################################################################################\n"
     ]
    }
   ],
   "source": [
    "exploracion_inicial(df = df_medallas)"
   ]
  },
  {
   "cell_type": "markdown",
   "id": "8bb0cdc8",
   "metadata": {},
   "source": [
    "Vamos a eliminar `\\xa0kg`"
   ]
  },
  {
   "cell_type": "code",
   "execution_count": 27,
   "id": "a73c4f58",
   "metadata": {},
   "outputs": [
    {
     "data": {
      "text/plain": [
       "array(['55\\xa0kg (06.04)', '61\\xa0kg (07.04)', '67\\xa0kg (08.04)',\n",
       "       '73\\xa0kg (09.04)', '81\\xa0kg (10.04)', '89\\xa0kg (11.04)',\n",
       "       '96\\xa0kg (12.04)', '102\\xa0kg (13.04)', '109\\xa0kg (13.04)',\n",
       "       '+109\\xa0kg (13.04)', '45\\xa0kg (06.04)', '49\\xa0kg (06.04)',\n",
       "       '55\\xa0kg (07.04)', '59\\xa0kg (08.04)', '64\\xa0kg (09.04)',\n",
       "       '71\\xa0kg (10.04)', '76\\xa0kg (11.04)', '81\\xa0kg (12.04)',\n",
       "       '87\\xa0kg (12.04)', '+87\\xa0kg (13.04)', '55\\xa0kg (04.04)',\n",
       "       '61\\xa0kg (04.04)', '67\\xa0kg (05.04)', '73\\xa0kg (06.04)',\n",
       "       '81\\xa0kg (07.04)', '89\\xa0kg (08.04)', '96\\xa0kg (09.04)',\n",
       "       '102\\xa0kg (10.04)', '109\\xa0kg (10.04)', '+109\\xa0kg (11.04)',\n",
       "       '45\\xa0kg (03.04)', '49\\xa0kg (03.04)', '59\\xa0kg (05.04)',\n",
       "       '64\\xa0kg (06.04)', '71\\xa0kg (07.04)', '76\\xa0kg (08.04)',\n",
       "       '81\\xa0kg (09.04)', '87\\xa0kg (10.04)', '+87\\xa0kg (11.04)'],\n",
       "      dtype=object)"
      ]
     },
     "execution_count": 27,
     "metadata": {},
     "output_type": "execute_result"
    }
   ],
   "source": [
    "df_medallas['Eventos'].unique() #\\xa0kg"
   ]
  },
  {
   "cell_type": "code",
   "execution_count": 28,
   "id": "3e1bc595",
   "metadata": {},
   "outputs": [],
   "source": [
    "def crear_columnas_desde_Eventos(df): \n",
    "    # Creamos una lista vacía para guardar las fechas extraídas\n",
    "    lista_fechas = list()\n",
    "\n",
    "    # Recorremos cada valor (evento) en la columna 'Eventos'\n",
    "    for evento in df.Eventos.to_list():\n",
    "        \n",
    "        # Ejemplo de evento: \"55\\xa0kg (06.04)\"\n",
    "        \n",
    "        # Primero dividimos por \"(\", obteniendo: [\"55\\xa0kg \", \"06.04)\"]\n",
    "        fechas = \" \".join(list(evento.split(\"(\"))[1:]) # Obtiene \"06.04)\"\n",
    "\n",
    "        # Quitamos el paréntesis de cierre final con [:-1]: \"06.04\"\n",
    "        fechas = fechas[:-1].replace(\".\", \"-\") #Obtiene \"06-04\"\n",
    "\n",
    "        # Agregamos esta fechas a la lista de fechas\n",
    "        lista_fechas.append(fechas)\n",
    "\n",
    "       \n",
    "    # Ahora, asignamos la lista de fechas al DataFrame en una nueva columna llamada 'Fecha'\n",
    "    # Utilizamos reset_index(drop=True) para asegurarnos de que los índices coincidan\n",
    "    df[\"Fecha\"] = pd.Series(lista_fechas).reset_index(drop=True)   \n",
    "    \n",
    "    # Finalmente, concatenamos el año correspondiente a cada fila\n",
    "    # Por ejemplo: \"06-04\" + \"-\" + \"2019\" → \"06-04-2019\"\n",
    "    df[\"Fecha\"] = df[\"Fecha\"] + \"-\" + df[\"Año\"].astype(str)\n"
   ]
  },
  {
   "cell_type": "markdown",
   "id": "7edc706e",
   "metadata": {},
   "source": [
    "Realizamos la transformación y comprobamos que el dataframe resultante no tenga nulos ni duplicados y los datos sigan siendo consistentes."
   ]
  },
  {
   "cell_type": "code",
   "execution_count": 29,
   "id": "da80ca2f",
   "metadata": {},
   "outputs": [
    {
     "name": "stdout",
     "output_type": "stream",
     "text": [
      "¿Cuántas filas y columnas hay en el conjunto de datos?\n",
      "\tHay 120 filas y 13 columnas.\n",
      "\n",
      "########################################################################################\n",
      "¿Cuáles son las primeras cinco filas del conjunto de datos?\n"
     ]
    },
    {
     "data": {
      "text/html": [
       "<div>\n",
       "<style scoped>\n",
       "    .dataframe tbody tr th:only-of-type {\n",
       "        vertical-align: middle;\n",
       "    }\n",
       "\n",
       "    .dataframe tbody tr th {\n",
       "        vertical-align: top;\n",
       "    }\n",
       "\n",
       "    .dataframe thead th {\n",
       "        text-align: right;\n",
       "    }\n",
       "</style>\n",
       "<table border=\"1\" class=\"dataframe\">\n",
       "  <thead>\n",
       "    <tr style=\"text-align: right;\">\n",
       "      <th></th>\n",
       "      <th>Eventos</th>\n",
       "      <th>Año</th>\n",
       "      <th>Genero</th>\n",
       "      <th>Medalla</th>\n",
       "      <th>Atleta</th>\n",
       "      <th>Nombre</th>\n",
       "      <th>Apellido</th>\n",
       "      <th>País</th>\n",
       "      <th>Resultados</th>\n",
       "      <th>Arrancada</th>\n",
       "      <th>Dos Tiempos</th>\n",
       "      <th>Total</th>\n",
       "      <th>Fecha</th>\n",
       "    </tr>\n",
       "  </thead>\n",
       "  <tbody>\n",
       "    <tr>\n",
       "      <th>0</th>\n",
       "      <td>55 kg (06.04)</td>\n",
       "      <td>2019</td>\n",
       "      <td>Masculino</td>\n",
       "      <td>Oro</td>\n",
       "      <td>Mirco Scarantino Italia  116 + 145 = 261</td>\n",
       "      <td>Mirco</td>\n",
       "      <td>Scarantino</td>\n",
       "      <td>Italia</td>\n",
       "      <td>116 + 145 = 261</td>\n",
       "      <td>116</td>\n",
       "      <td>145</td>\n",
       "      <td>261</td>\n",
       "      <td>06-04-2019</td>\n",
       "    </tr>\n",
       "    <tr>\n",
       "      <th>1</th>\n",
       "      <td>61 kg (07.04)</td>\n",
       "      <td>2019</td>\n",
       "      <td>Masculino</td>\n",
       "      <td>Oro</td>\n",
       "      <td>Henadz Laptseu Bielorrusia  133 + 153 = 286</td>\n",
       "      <td>Henadz</td>\n",
       "      <td>Laptseu</td>\n",
       "      <td>Bielorrusia</td>\n",
       "      <td>133 + 153 = 286</td>\n",
       "      <td>133</td>\n",
       "      <td>153</td>\n",
       "      <td>286</td>\n",
       "      <td>07-04-2019</td>\n",
       "    </tr>\n",
       "    <tr>\n",
       "      <th>2</th>\n",
       "      <td>67 kg (08.04)</td>\n",
       "      <td>2019</td>\n",
       "      <td>Masculino</td>\n",
       "      <td>Oro</td>\n",
       "      <td>Bernardin Matam Francia  137 + 175 = 312</td>\n",
       "      <td>Bernardin</td>\n",
       "      <td>Matam</td>\n",
       "      <td>Francia</td>\n",
       "      <td>137 + 175 = 312</td>\n",
       "      <td>137</td>\n",
       "      <td>175</td>\n",
       "      <td>312</td>\n",
       "      <td>08-04-2019</td>\n",
       "    </tr>\n",
       "    <tr>\n",
       "      <th>3</th>\n",
       "      <td>73 kg (09.04)</td>\n",
       "      <td>2019</td>\n",
       "      <td>Masculino</td>\n",
       "      <td>Oro</td>\n",
       "      <td>Bozhidar Andreev Bulgaria  153 + 192 = 345</td>\n",
       "      <td>Bozhidar</td>\n",
       "      <td>Andreev</td>\n",
       "      <td>Bulgaria</td>\n",
       "      <td>153 + 192 = 345</td>\n",
       "      <td>153</td>\n",
       "      <td>192</td>\n",
       "      <td>345</td>\n",
       "      <td>09-04-2019</td>\n",
       "    </tr>\n",
       "    <tr>\n",
       "      <th>4</th>\n",
       "      <td>81 kg (10.04)</td>\n",
       "      <td>2019</td>\n",
       "      <td>Masculino</td>\n",
       "      <td>Oro</td>\n",
       "      <td>Antonino Pizzolato Italia  155 + 201 = 356</td>\n",
       "      <td>Antonino</td>\n",
       "      <td>Pizzolato</td>\n",
       "      <td>Italia</td>\n",
       "      <td>155 + 201 = 356</td>\n",
       "      <td>155</td>\n",
       "      <td>201</td>\n",
       "      <td>356</td>\n",
       "      <td>10-04-2019</td>\n",
       "    </tr>\n",
       "  </tbody>\n",
       "</table>\n",
       "</div>"
      ],
      "text/plain": [
       "         Eventos   Año     Genero Medalla  \\\n",
       "0  55 kg (06.04)  2019  Masculino     Oro   \n",
       "1  61 kg (07.04)  2019  Masculino     Oro   \n",
       "2  67 kg (08.04)  2019  Masculino     Oro   \n",
       "3  73 kg (09.04)  2019  Masculino     Oro   \n",
       "4  81 kg (10.04)  2019  Masculino     Oro   \n",
       "\n",
       "                                        Atleta     Nombre    Apellido  \\\n",
       "0     Mirco Scarantino Italia  116 + 145 = 261      Mirco  Scarantino   \n",
       "1  Henadz Laptseu Bielorrusia  133 + 153 = 286     Henadz     Laptseu   \n",
       "2     Bernardin Matam Francia  137 + 175 = 312  Bernardin       Matam   \n",
       "3   Bozhidar Andreev Bulgaria  153 + 192 = 345   Bozhidar     Andreev   \n",
       "4   Antonino Pizzolato Italia  155 + 201 = 356   Antonino   Pizzolato   \n",
       "\n",
       "          País       Resultados Arrancada Dos Tiempos Total       Fecha  \n",
       "0       Italia  116 + 145 = 261      116         145    261  06-04-2019  \n",
       "1  Bielorrusia  133 + 153 = 286      133         153    286  07-04-2019  \n",
       "2      Francia  137 + 175 = 312      137         175    312  08-04-2019  \n",
       "3     Bulgaria  153 + 192 = 345      153         192    345  09-04-2019  \n",
       "4       Italia  155 + 201 = 356      155         201    356  10-04-2019  "
      ]
     },
     "metadata": {},
     "output_type": "display_data"
    },
    {
     "name": "stdout",
     "output_type": "stream",
     "text": [
      "\n",
      "########################################################################################\n",
      "¿Cuáles son las últimas cinco filas del conjunto de datos?\n"
     ]
    },
    {
     "data": {
      "text/html": [
       "<div>\n",
       "<style scoped>\n",
       "    .dataframe tbody tr th:only-of-type {\n",
       "        vertical-align: middle;\n",
       "    }\n",
       "\n",
       "    .dataframe tbody tr th {\n",
       "        vertical-align: top;\n",
       "    }\n",
       "\n",
       "    .dataframe thead th {\n",
       "        text-align: right;\n",
       "    }\n",
       "</style>\n",
       "<table border=\"1\" class=\"dataframe\">\n",
       "  <thead>\n",
       "    <tr style=\"text-align: right;\">\n",
       "      <th></th>\n",
       "      <th>Eventos</th>\n",
       "      <th>Año</th>\n",
       "      <th>Genero</th>\n",
       "      <th>Medalla</th>\n",
       "      <th>Atleta</th>\n",
       "      <th>Nombre</th>\n",
       "      <th>Apellido</th>\n",
       "      <th>País</th>\n",
       "      <th>Resultados</th>\n",
       "      <th>Arrancada</th>\n",
       "      <th>Dos Tiempos</th>\n",
       "      <th>Total</th>\n",
       "      <th>Fecha</th>\n",
       "    </tr>\n",
       "  </thead>\n",
       "  <tbody>\n",
       "    <tr>\n",
       "      <th>115</th>\n",
       "      <td>71 kg (07.04)</td>\n",
       "      <td>2020</td>\n",
       "      <td>Femenino</td>\n",
       "      <td>Bronce</td>\n",
       "      <td>Raluca Olaru Rumania  98 + 120 = 218</td>\n",
       "      <td>Raluca</td>\n",
       "      <td>Olaru</td>\n",
       "      <td>Rumania</td>\n",
       "      <td>98 + 120 = 218</td>\n",
       "      <td>98</td>\n",
       "      <td>120</td>\n",
       "      <td>218</td>\n",
       "      <td>07-04-2020</td>\n",
       "    </tr>\n",
       "    <tr>\n",
       "      <th>116</th>\n",
       "      <td>76 kg (08.04)</td>\n",
       "      <td>2020</td>\n",
       "      <td>Femenino</td>\n",
       "      <td>Bronce</td>\n",
       "      <td>Anastasiya Romanova Rusia  111 + 132 = 243</td>\n",
       "      <td>Anastasiya</td>\n",
       "      <td>Romanova</td>\n",
       "      <td>Rusia</td>\n",
       "      <td>111 + 132 = 243</td>\n",
       "      <td>111</td>\n",
       "      <td>132</td>\n",
       "      <td>243</td>\n",
       "      <td>08-04-2020</td>\n",
       "    </tr>\n",
       "    <tr>\n",
       "      <th>117</th>\n",
       "      <td>81 kg (09.04)</td>\n",
       "      <td>2020</td>\n",
       "      <td>Femenino</td>\n",
       "      <td>Bronce</td>\n",
       "      <td>Liana Guiurdzhian Armenia  98 + 129 = 227</td>\n",
       "      <td>Liana</td>\n",
       "      <td>Guiurdzhian</td>\n",
       "      <td>Armenia</td>\n",
       "      <td>98 + 129 = 227</td>\n",
       "      <td>98</td>\n",
       "      <td>129</td>\n",
       "      <td>227</td>\n",
       "      <td>09-04-2020</td>\n",
       "    </tr>\n",
       "    <tr>\n",
       "      <th>118</th>\n",
       "      <td>87 kg (10.04)</td>\n",
       "      <td>2020</td>\n",
       "      <td>Femenino</td>\n",
       "      <td>Bronce</td>\n",
       "      <td>Daria Riazanova Rusia  105 + 135 = 240</td>\n",
       "      <td>Daria</td>\n",
       "      <td>Riazanova</td>\n",
       "      <td>Rusia</td>\n",
       "      <td>105 + 135 = 240</td>\n",
       "      <td>105</td>\n",
       "      <td>135</td>\n",
       "      <td>240</td>\n",
       "      <td>10-04-2020</td>\n",
       "    </tr>\n",
       "    <tr>\n",
       "      <th>119</th>\n",
       "      <td>+87 kg (11.04)</td>\n",
       "      <td>2020</td>\n",
       "      <td>Femenino</td>\n",
       "      <td>Bronce</td>\n",
       "      <td>Melike Günal Turquía  108 + 135 = 243</td>\n",
       "      <td>Melike</td>\n",
       "      <td>Günal</td>\n",
       "      <td>Turquía</td>\n",
       "      <td>108 + 135 = 243</td>\n",
       "      <td>108</td>\n",
       "      <td>135</td>\n",
       "      <td>243</td>\n",
       "      <td>11-04-2020</td>\n",
       "    </tr>\n",
       "  </tbody>\n",
       "</table>\n",
       "</div>"
      ],
      "text/plain": [
       "            Eventos   Año    Genero Medalla  \\\n",
       "115   71 kg (07.04)  2020  Femenino  Bronce   \n",
       "116   76 kg (08.04)  2020  Femenino  Bronce   \n",
       "117   81 kg (09.04)  2020  Femenino  Bronce   \n",
       "118   87 kg (10.04)  2020  Femenino  Bronce   \n",
       "119  +87 kg (11.04)  2020  Femenino  Bronce   \n",
       "\n",
       "                                         Atleta      Nombre     Apellido  \\\n",
       "115        Raluca Olaru Rumania  98 + 120 = 218      Raluca        Olaru   \n",
       "116  Anastasiya Romanova Rusia  111 + 132 = 243  Anastasiya     Romanova   \n",
       "117   Liana Guiurdzhian Armenia  98 + 129 = 227       Liana  Guiurdzhian   \n",
       "118      Daria Riazanova Rusia  105 + 135 = 240       Daria    Riazanova   \n",
       "119       Melike Günal Turquía  108 + 135 = 243      Melike        Günal   \n",
       "\n",
       "        País       Resultados Arrancada Dos Tiempos Total       Fecha  \n",
       "115  Rumania   98 + 120 = 218       98         120    218  07-04-2020  \n",
       "116    Rusia  111 + 132 = 243      111         132    243  08-04-2020  \n",
       "117  Armenia   98 + 129 = 227       98         129    227  09-04-2020  \n",
       "118    Rusia  105 + 135 = 240      105         135    240  10-04-2020  \n",
       "119  Turquía  108 + 135 = 243      108         135    243  11-04-2020  "
      ]
     },
     "metadata": {},
     "output_type": "display_data"
    },
    {
     "name": "stdout",
     "output_type": "stream",
     "text": [
      "\n",
      "########################################################################################\n",
      "¿Cómo puedes obtener una muestra aleatoria de filas del conjunto de datos?\n"
     ]
    },
    {
     "data": {
      "text/html": [
       "<div>\n",
       "<style scoped>\n",
       "    .dataframe tbody tr th:only-of-type {\n",
       "        vertical-align: middle;\n",
       "    }\n",
       "\n",
       "    .dataframe tbody tr th {\n",
       "        vertical-align: top;\n",
       "    }\n",
       "\n",
       "    .dataframe thead th {\n",
       "        text-align: right;\n",
       "    }\n",
       "</style>\n",
       "<table border=\"1\" class=\"dataframe\">\n",
       "  <thead>\n",
       "    <tr style=\"text-align: right;\">\n",
       "      <th></th>\n",
       "      <th>Eventos</th>\n",
       "      <th>Año</th>\n",
       "      <th>Genero</th>\n",
       "      <th>Medalla</th>\n",
       "      <th>Atleta</th>\n",
       "      <th>Nombre</th>\n",
       "      <th>Apellido</th>\n",
       "      <th>País</th>\n",
       "      <th>Resultados</th>\n",
       "      <th>Arrancada</th>\n",
       "      <th>Dos Tiempos</th>\n",
       "      <th>Total</th>\n",
       "      <th>Fecha</th>\n",
       "    </tr>\n",
       "  </thead>\n",
       "  <tbody>\n",
       "    <tr>\n",
       "      <th>94</th>\n",
       "      <td>64 kg (09.04)</td>\n",
       "      <td>2019</td>\n",
       "      <td>Femenino</td>\n",
       "      <td>Bronce</td>\n",
       "      <td>Zoe Smith Reino Unido  96 + 128 = 224</td>\n",
       "      <td>Zoe</td>\n",
       "      <td>Smith</td>\n",
       "      <td>Reino Unido</td>\n",
       "      <td>96 + 128 = 224</td>\n",
       "      <td>96</td>\n",
       "      <td>128</td>\n",
       "      <td>224</td>\n",
       "      <td>09-04-2019</td>\n",
       "    </tr>\n",
       "    <tr>\n",
       "      <th>77</th>\n",
       "      <td>81 kg (09.04)</td>\n",
       "      <td>2020</td>\n",
       "      <td>Femenino</td>\n",
       "      <td>Plata</td>\n",
       "      <td>Gaëlle Nayo-Ketchanke Francia  100 + 131 = 231</td>\n",
       "      <td>Gaëlle</td>\n",
       "      <td>Nayo-Ketchanke</td>\n",
       "      <td>Francia</td>\n",
       "      <td>100 + 131 = 231</td>\n",
       "      <td>100</td>\n",
       "      <td>131</td>\n",
       "      <td>231</td>\n",
       "      <td>09-04-2020</td>\n",
       "    </tr>\n",
       "    <tr>\n",
       "      <th>116</th>\n",
       "      <td>76 kg (08.04)</td>\n",
       "      <td>2020</td>\n",
       "      <td>Femenino</td>\n",
       "      <td>Bronce</td>\n",
       "      <td>Anastasiya Romanova Rusia  111 + 132 = 243</td>\n",
       "      <td>Anastasiya</td>\n",
       "      <td>Romanova</td>\n",
       "      <td>Rusia</td>\n",
       "      <td>111 + 132 = 243</td>\n",
       "      <td>111</td>\n",
       "      <td>132</td>\n",
       "      <td>243</td>\n",
       "      <td>08-04-2020</td>\n",
       "    </tr>\n",
       "    <tr>\n",
       "      <th>114</th>\n",
       "      <td>64 kg (06.04)</td>\n",
       "      <td>2020</td>\n",
       "      <td>Femenino</td>\n",
       "      <td>Bronce</td>\n",
       "      <td>Anastasiya Anzorova Rusia  100 + 122 = 222</td>\n",
       "      <td>Anastasiya</td>\n",
       "      <td>Anzorova</td>\n",
       "      <td>Rusia</td>\n",
       "      <td>100 + 122 = 222</td>\n",
       "      <td>100</td>\n",
       "      <td>122</td>\n",
       "      <td>222</td>\n",
       "      <td>06-04-2020</td>\n",
       "    </tr>\n",
       "    <tr>\n",
       "      <th>55</th>\n",
       "      <td>71 kg (10.04)</td>\n",
       "      <td>2019</td>\n",
       "      <td>Femenino</td>\n",
       "      <td>Plata</td>\n",
       "      <td>Emily Godley Reino Unido  93 + 123 = 216</td>\n",
       "      <td>Emily</td>\n",
       "      <td>Godley</td>\n",
       "      <td>Reino Unido</td>\n",
       "      <td>93 + 123 = 216</td>\n",
       "      <td>93</td>\n",
       "      <td>123</td>\n",
       "      <td>216</td>\n",
       "      <td>10-04-2019</td>\n",
       "    </tr>\n",
       "  </tbody>\n",
       "</table>\n",
       "</div>"
      ],
      "text/plain": [
       "           Eventos   Año    Genero Medalla  \\\n",
       "94   64 kg (09.04)  2019  Femenino  Bronce   \n",
       "77   81 kg (09.04)  2020  Femenino   Plata   \n",
       "116  76 kg (08.04)  2020  Femenino  Bronce   \n",
       "114  64 kg (06.04)  2020  Femenino  Bronce   \n",
       "55   71 kg (10.04)  2019  Femenino   Plata   \n",
       "\n",
       "                                             Atleta      Nombre  \\\n",
       "94            Zoe Smith Reino Unido  96 + 128 = 224         Zoe   \n",
       "77   Gaëlle Nayo-Ketchanke Francia  100 + 131 = 231      Gaëlle   \n",
       "116      Anastasiya Romanova Rusia  111 + 132 = 243  Anastasiya   \n",
       "114      Anastasiya Anzorova Rusia  100 + 122 = 222  Anastasiya   \n",
       "55         Emily Godley Reino Unido  93 + 123 = 216       Emily   \n",
       "\n",
       "           Apellido         País       Resultados Arrancada Dos Tiempos Total  \\\n",
       "94            Smith  Reino Unido   96 + 128 = 224       96         128    224   \n",
       "77   Nayo-Ketchanke      Francia  100 + 131 = 231      100         131    231   \n",
       "116        Romanova        Rusia  111 + 132 = 243      111         132    243   \n",
       "114        Anzorova        Rusia  100 + 122 = 222      100         122    222   \n",
       "55           Godley  Reino Unido   93 + 123 = 216       93         123    216   \n",
       "\n",
       "          Fecha  \n",
       "94   09-04-2019  \n",
       "77   09-04-2020  \n",
       "116  08-04-2020  \n",
       "114  06-04-2020  \n",
       "55   10-04-2019  "
      ]
     },
     "metadata": {},
     "output_type": "display_data"
    },
    {
     "name": "stdout",
     "output_type": "stream",
     "text": [
      "\n",
      "########################################################################################\n",
      "¿Cuáles son las columnas del conjunto de datos?\n",
      "\t - Eventos\n",
      "\t - Año\n",
      "\t - Genero\n",
      "\t - Medalla\n",
      "\t - Atleta\n",
      "\t - Nombre\n",
      "\t - Apellido\n",
      "\t - País\n",
      "\t - Resultados\n",
      "\t - Arrancada\n",
      "\t - Dos Tiempos\n",
      "\t - Total\n",
      "\t - Fecha\n",
      "\n",
      "########################################################################################\n",
      "¿Cuál es el tipo de datos de cada columna?\n",
      "Eventos        object\n",
      "Año             int64\n",
      "Genero         object\n",
      "Medalla        object\n",
      "Atleta         object\n",
      "Nombre         object\n",
      "Apellido       object\n",
      "País           object\n",
      "Resultados     object\n",
      "Arrancada      object\n",
      "Dos Tiempos    object\n",
      "Total          object\n",
      "Fecha          object\n",
      "dtype: object\n",
      "\n",
      "########################################################################################\n",
      "¿Cuántas columnas hay de cada tipo de datos?\n",
      "object    12\n",
      "int64      1\n",
      "Name: count, dtype: int64\n",
      "\n",
      "########################################################################################\n",
      "¿Cómo podríamos obtener información más completa sobre la estructura y el contenido del DataFrame?\n",
      "<class 'pandas.core.frame.DataFrame'>\n",
      "RangeIndex: 120 entries, 0 to 119\n",
      "Data columns (total 13 columns):\n",
      " #   Column       Non-Null Count  Dtype \n",
      "---  ------       --------------  ----- \n",
      " 0   Eventos      120 non-null    object\n",
      " 1   Año          120 non-null    int64 \n",
      " 2   Genero       120 non-null    object\n",
      " 3   Medalla      120 non-null    object\n",
      " 4   Atleta       120 non-null    object\n",
      " 5   Nombre       120 non-null    object\n",
      " 6   Apellido     120 non-null    object\n",
      " 7   País         120 non-null    object\n",
      " 8   Resultados   120 non-null    object\n",
      " 9   Arrancada    120 non-null    object\n",
      " 10  Dos Tiempos  120 non-null    object\n",
      " 11  Total        120 non-null    object\n",
      " 12  Fecha        120 non-null    object\n",
      "dtypes: int64(1), object(12)\n",
      "memory usage: 12.3+ KB\n",
      "None\n",
      "\n",
      "########################################################################################\n",
      "¿Cuántos valores únicos tiene cada columna?\n",
      "Eventos         39\n",
      "Año              2\n",
      "Genero           2\n",
      "Medalla          3\n",
      "Atleta         120\n",
      "Nombre          85\n",
      "Apellido        97\n",
      "País            21\n",
      "Resultados     117\n",
      "Arrancada       79\n",
      "Dos Tiempos     86\n",
      "Total          102\n",
      "Fecha           17\n",
      "dtype: int64\n",
      "\n",
      "########################################################################################\n",
      "¿Cuáles son las estadísticas descriptivas básicas de todas las columnas?\n"
     ]
    },
    {
     "data": {
      "text/html": [
       "<div>\n",
       "<style scoped>\n",
       "    .dataframe tbody tr th:only-of-type {\n",
       "        vertical-align: middle;\n",
       "    }\n",
       "\n",
       "    .dataframe tbody tr th {\n",
       "        vertical-align: top;\n",
       "    }\n",
       "\n",
       "    .dataframe thead th {\n",
       "        text-align: right;\n",
       "    }\n",
       "</style>\n",
       "<table border=\"1\" class=\"dataframe\">\n",
       "  <thead>\n",
       "    <tr style=\"text-align: right;\">\n",
       "      <th></th>\n",
       "      <th>Eventos</th>\n",
       "      <th>Año</th>\n",
       "      <th>Genero</th>\n",
       "      <th>Medalla</th>\n",
       "      <th>Atleta</th>\n",
       "      <th>Nombre</th>\n",
       "      <th>Apellido</th>\n",
       "      <th>País</th>\n",
       "      <th>Resultados</th>\n",
       "      <th>Arrancada</th>\n",
       "      <th>Dos Tiempos</th>\n",
       "      <th>Total</th>\n",
       "      <th>Fecha</th>\n",
       "    </tr>\n",
       "  </thead>\n",
       "  <tbody>\n",
       "    <tr>\n",
       "      <th>count</th>\n",
       "      <td>120</td>\n",
       "      <td>120.0</td>\n",
       "      <td>120</td>\n",
       "      <td>120</td>\n",
       "      <td>120</td>\n",
       "      <td>120</td>\n",
       "      <td>120</td>\n",
       "      <td>120</td>\n",
       "      <td>120</td>\n",
       "      <td>120</td>\n",
       "      <td>120</td>\n",
       "      <td>120</td>\n",
       "      <td>120</td>\n",
       "    </tr>\n",
       "    <tr>\n",
       "      <th>unique</th>\n",
       "      <td>39</td>\n",
       "      <td></td>\n",
       "      <td>2</td>\n",
       "      <td>3</td>\n",
       "      <td>120</td>\n",
       "      <td>85</td>\n",
       "      <td>97</td>\n",
       "      <td>21</td>\n",
       "      <td>117</td>\n",
       "      <td>79</td>\n",
       "      <td>86</td>\n",
       "      <td>102</td>\n",
       "      <td>17</td>\n",
       "    </tr>\n",
       "    <tr>\n",
       "      <th>top</th>\n",
       "      <td>55 kg (04.04)</td>\n",
       "      <td></td>\n",
       "      <td>Masculino</td>\n",
       "      <td>Oro</td>\n",
       "      <td>Mirco Scarantino Italia  116 + 145 = 261</td>\n",
       "      <td>Anastasiya</td>\n",
       "      <td>Asayonak</td>\n",
       "      <td>Rusia</td>\n",
       "      <td>98 + 129 = 227</td>\n",
       "      <td>95</td>\n",
       "      <td>120</td>\n",
       "      <td>240</td>\n",
       "      <td>13-04-2019</td>\n",
       "    </tr>\n",
       "    <tr>\n",
       "      <th>freq</th>\n",
       "      <td>6</td>\n",
       "      <td></td>\n",
       "      <td>60</td>\n",
       "      <td>40</td>\n",
       "      <td>1</td>\n",
       "      <td>5</td>\n",
       "      <td>3</td>\n",
       "      <td>20</td>\n",
       "      <td>2</td>\n",
       "      <td>4</td>\n",
       "      <td>5</td>\n",
       "      <td>3</td>\n",
       "      <td>12</td>\n",
       "    </tr>\n",
       "    <tr>\n",
       "      <th>mean</th>\n",
       "      <td></td>\n",
       "      <td>2019.5</td>\n",
       "      <td></td>\n",
       "      <td></td>\n",
       "      <td></td>\n",
       "      <td></td>\n",
       "      <td></td>\n",
       "      <td></td>\n",
       "      <td></td>\n",
       "      <td></td>\n",
       "      <td></td>\n",
       "      <td></td>\n",
       "      <td></td>\n",
       "    </tr>\n",
       "    <tr>\n",
       "      <th>std</th>\n",
       "      <td></td>\n",
       "      <td>0.502096</td>\n",
       "      <td></td>\n",
       "      <td></td>\n",
       "      <td></td>\n",
       "      <td></td>\n",
       "      <td></td>\n",
       "      <td></td>\n",
       "      <td></td>\n",
       "      <td></td>\n",
       "      <td></td>\n",
       "      <td></td>\n",
       "      <td></td>\n",
       "    </tr>\n",
       "    <tr>\n",
       "      <th>min</th>\n",
       "      <td></td>\n",
       "      <td>2019.0</td>\n",
       "      <td></td>\n",
       "      <td></td>\n",
       "      <td></td>\n",
       "      <td></td>\n",
       "      <td></td>\n",
       "      <td></td>\n",
       "      <td></td>\n",
       "      <td></td>\n",
       "      <td></td>\n",
       "      <td></td>\n",
       "      <td></td>\n",
       "    </tr>\n",
       "    <tr>\n",
       "      <th>25%</th>\n",
       "      <td></td>\n",
       "      <td>2019.0</td>\n",
       "      <td></td>\n",
       "      <td></td>\n",
       "      <td></td>\n",
       "      <td></td>\n",
       "      <td></td>\n",
       "      <td></td>\n",
       "      <td></td>\n",
       "      <td></td>\n",
       "      <td></td>\n",
       "      <td></td>\n",
       "      <td></td>\n",
       "    </tr>\n",
       "    <tr>\n",
       "      <th>50%</th>\n",
       "      <td></td>\n",
       "      <td>2019.5</td>\n",
       "      <td></td>\n",
       "      <td></td>\n",
       "      <td></td>\n",
       "      <td></td>\n",
       "      <td></td>\n",
       "      <td></td>\n",
       "      <td></td>\n",
       "      <td></td>\n",
       "      <td></td>\n",
       "      <td></td>\n",
       "      <td></td>\n",
       "    </tr>\n",
       "    <tr>\n",
       "      <th>75%</th>\n",
       "      <td></td>\n",
       "      <td>2020.0</td>\n",
       "      <td></td>\n",
       "      <td></td>\n",
       "      <td></td>\n",
       "      <td></td>\n",
       "      <td></td>\n",
       "      <td></td>\n",
       "      <td></td>\n",
       "      <td></td>\n",
       "      <td></td>\n",
       "      <td></td>\n",
       "      <td></td>\n",
       "    </tr>\n",
       "    <tr>\n",
       "      <th>max</th>\n",
       "      <td></td>\n",
       "      <td>2020.0</td>\n",
       "      <td></td>\n",
       "      <td></td>\n",
       "      <td></td>\n",
       "      <td></td>\n",
       "      <td></td>\n",
       "      <td></td>\n",
       "      <td></td>\n",
       "      <td></td>\n",
       "      <td></td>\n",
       "      <td></td>\n",
       "      <td></td>\n",
       "    </tr>\n",
       "  </tbody>\n",
       "</table>\n",
       "</div>"
      ],
      "text/plain": [
       "              Eventos       Año     Genero Medalla  \\\n",
       "count             120     120.0        120     120   \n",
       "unique             39                    2       3   \n",
       "top     55 kg (04.04)            Masculino     Oro   \n",
       "freq                6                   60      40   \n",
       "mean                     2019.5                      \n",
       "std                    0.502096                      \n",
       "min                      2019.0                      \n",
       "25%                      2019.0                      \n",
       "50%                      2019.5                      \n",
       "75%                      2020.0                      \n",
       "max                      2020.0                      \n",
       "\n",
       "                                          Atleta      Nombre  Apellido   País  \\\n",
       "count                                        120         120       120    120   \n",
       "unique                                       120          85        97     21   \n",
       "top     Mirco Scarantino Italia  116 + 145 = 261  Anastasiya  Asayonak  Rusia   \n",
       "freq                                           1           5         3     20   \n",
       "mean                                                                            \n",
       "std                                                                             \n",
       "min                                                                             \n",
       "25%                                                                             \n",
       "50%                                                                             \n",
       "75%                                                                             \n",
       "max                                                                             \n",
       "\n",
       "            Resultados Arrancada Dos Tiempos Total       Fecha  \n",
       "count              120       120         120   120         120  \n",
       "unique             117        79          86   102          17  \n",
       "top     98 + 129 = 227       95         120    240  13-04-2019  \n",
       "freq                 2         4           5     3          12  \n",
       "mean                                                            \n",
       "std                                                             \n",
       "min                                                             \n",
       "25%                                                             \n",
       "50%                                                             \n",
       "75%                                                             \n",
       "max                                                             "
      ]
     },
     "metadata": {},
     "output_type": "display_data"
    },
    {
     "name": "stdout",
     "output_type": "stream",
     "text": [
      "\n",
      "########################################################################################\n",
      "¿Hay valores nulos en el conjunto de datos?\n",
      "Eventos        0\n",
      "Año            0\n",
      "Genero         0\n",
      "Medalla        0\n",
      "Atleta         0\n",
      "Nombre         0\n",
      "Apellido       0\n",
      "País           0\n",
      "Resultados     0\n",
      "Arrancada      0\n",
      "Dos Tiempos    0\n",
      "Total          0\n",
      "Fecha          0\n",
      "dtype: int64\n",
      "\n",
      "########################################################################################\n",
      "¿Cuál es el porcentaje de valores nulos en cada columna?\n",
      "Eventos        0.0\n",
      "Año            0.0\n",
      "Genero         0.0\n",
      "Medalla        0.0\n",
      "Atleta         0.0\n",
      "Nombre         0.0\n",
      "Apellido       0.0\n",
      "País           0.0\n",
      "Resultados     0.0\n",
      "Arrancada      0.0\n",
      "Dos Tiempos    0.0\n",
      "Total          0.0\n",
      "Fecha          0.0\n",
      "dtype: float64\n",
      "\n",
      "########################################################################################\n",
      "¿Hay filas duplicadas en el conjunto de datos?\n",
      "\tExisten duplicados: False\n",
      "\tNúmero total de filas duplicadas: 0\n",
      "\n",
      "########################################################################################\n"
     ]
    }
   ],
   "source": [
    "crear_columnas_desde_Eventos(df = df_medallas)\n",
    "exploracion_inicial(df = df_medallas)"
   ]
  },
  {
   "cell_type": "markdown",
   "id": "5836dae3",
   "metadata": {},
   "source": [
    "Comprobamos cómo quedan las nuevas columnas"
   ]
  },
  {
   "cell_type": "code",
   "execution_count": 30,
   "id": "fa85031a",
   "metadata": {},
   "outputs": [
    {
     "data": {
      "text/html": [
       "<div>\n",
       "<style scoped>\n",
       "    .dataframe tbody tr th:only-of-type {\n",
       "        vertical-align: middle;\n",
       "    }\n",
       "\n",
       "    .dataframe tbody tr th {\n",
       "        vertical-align: top;\n",
       "    }\n",
       "\n",
       "    .dataframe thead th {\n",
       "        text-align: right;\n",
       "    }\n",
       "</style>\n",
       "<table border=\"1\" class=\"dataframe\">\n",
       "  <thead>\n",
       "    <tr style=\"text-align: right;\">\n",
       "      <th></th>\n",
       "      <th>Fecha</th>\n",
       "      <th>Nombre</th>\n",
       "      <th>Apellido</th>\n",
       "      <th>País</th>\n",
       "      <th>Resultados</th>\n",
       "      <th>Arrancada</th>\n",
       "      <th>Dos Tiempos</th>\n",
       "      <th>Total</th>\n",
       "    </tr>\n",
       "  </thead>\n",
       "  <tbody>\n",
       "    <tr>\n",
       "      <th>0</th>\n",
       "      <td>06-04-2019</td>\n",
       "      <td>Mirco</td>\n",
       "      <td>Scarantino</td>\n",
       "      <td>Italia</td>\n",
       "      <td>116 + 145 = 261</td>\n",
       "      <td>116</td>\n",
       "      <td>145</td>\n",
       "      <td>261</td>\n",
       "    </tr>\n",
       "    <tr>\n",
       "      <th>1</th>\n",
       "      <td>07-04-2019</td>\n",
       "      <td>Henadz</td>\n",
       "      <td>Laptseu</td>\n",
       "      <td>Bielorrusia</td>\n",
       "      <td>133 + 153 = 286</td>\n",
       "      <td>133</td>\n",
       "      <td>153</td>\n",
       "      <td>286</td>\n",
       "    </tr>\n",
       "    <tr>\n",
       "      <th>2</th>\n",
       "      <td>08-04-2019</td>\n",
       "      <td>Bernardin</td>\n",
       "      <td>Matam</td>\n",
       "      <td>Francia</td>\n",
       "      <td>137 + 175 = 312</td>\n",
       "      <td>137</td>\n",
       "      <td>175</td>\n",
       "      <td>312</td>\n",
       "    </tr>\n",
       "    <tr>\n",
       "      <th>3</th>\n",
       "      <td>09-04-2019</td>\n",
       "      <td>Bozhidar</td>\n",
       "      <td>Andreev</td>\n",
       "      <td>Bulgaria</td>\n",
       "      <td>153 + 192 = 345</td>\n",
       "      <td>153</td>\n",
       "      <td>192</td>\n",
       "      <td>345</td>\n",
       "    </tr>\n",
       "    <tr>\n",
       "      <th>4</th>\n",
       "      <td>10-04-2019</td>\n",
       "      <td>Antonino</td>\n",
       "      <td>Pizzolato</td>\n",
       "      <td>Italia</td>\n",
       "      <td>155 + 201 = 356</td>\n",
       "      <td>155</td>\n",
       "      <td>201</td>\n",
       "      <td>356</td>\n",
       "    </tr>\n",
       "  </tbody>\n",
       "</table>\n",
       "</div>"
      ],
      "text/plain": [
       "        Fecha     Nombre    Apellido         País       Resultados Arrancada  \\\n",
       "0  06-04-2019      Mirco  Scarantino       Italia  116 + 145 = 261      116    \n",
       "1  07-04-2019     Henadz     Laptseu  Bielorrusia  133 + 153 = 286      133    \n",
       "2  08-04-2019  Bernardin       Matam      Francia  137 + 175 = 312      137    \n",
       "3  09-04-2019   Bozhidar     Andreev     Bulgaria  153 + 192 = 345      153    \n",
       "4  10-04-2019   Antonino   Pizzolato       Italia  155 + 201 = 356      155    \n",
       "\n",
       "  Dos Tiempos Total  \n",
       "0        145    261  \n",
       "1        153    286  \n",
       "2        175    312  \n",
       "3        192    345  \n",
       "4        201    356  "
      ]
     },
     "execution_count": 30,
     "metadata": {},
     "output_type": "execute_result"
    }
   ],
   "source": [
    "df_resultados = df_medallas[['Fecha', 'Nombre', 'Apellido', 'País', 'Resultados', 'Arrancada', 'Dos Tiempos', 'Total']]\n",
    "df_resultados.head()"
   ]
  },
  {
   "cell_type": "markdown",
   "id": "8a83330f",
   "metadata": {},
   "source": [
    "## <span style=\"color: #2A8E3C;\"> Paso 7. Filtrado de columnas y ordenación </span> "
   ]
  },
  {
   "cell_type": "markdown",
   "id": "acc9b32f",
   "metadata": {},
   "source": [
    "Creamos la columnas:\n",
    "\n",
    "- `Categoría`: Debemos limpiar los caracteres extraños.\n",
    "\n",
    "Y creamos el nuevo DataFrame solo con las columnas que nos solicitan:\n",
    "\n",
    "| Género    | Categoría | Fecha | Medalla | Nombre | Apellido | País | Arrancada | Dos tiempos | Total |\n",
    "|-----------|-----------|-------|---------|--------|----------|------|-----------|-------------|-------|"
   ]
  },
  {
   "cell_type": "markdown",
   "id": "46751bfd",
   "metadata": {},
   "source": [
    "Selecciono solo las columnas que voy a utilizar:"
   ]
  },
  {
   "cell_type": "code",
   "execution_count": 32,
   "id": "4046af3c",
   "metadata": {},
   "outputs": [
    {
     "data": {
      "text/html": [
       "<div>\n",
       "<style scoped>\n",
       "    .dataframe tbody tr th:only-of-type {\n",
       "        vertical-align: middle;\n",
       "    }\n",
       "\n",
       "    .dataframe tbody tr th {\n",
       "        vertical-align: top;\n",
       "    }\n",
       "\n",
       "    .dataframe thead th {\n",
       "        text-align: right;\n",
       "    }\n",
       "</style>\n",
       "<table border=\"1\" class=\"dataframe\">\n",
       "  <thead>\n",
       "    <tr style=\"text-align: right;\">\n",
       "      <th></th>\n",
       "      <th>Genero</th>\n",
       "      <th>Eventos</th>\n",
       "      <th>Fecha</th>\n",
       "      <th>Medalla</th>\n",
       "      <th>Nombre</th>\n",
       "      <th>Apellido</th>\n",
       "      <th>País</th>\n",
       "      <th>Arrancada</th>\n",
       "      <th>Dos Tiempos</th>\n",
       "      <th>Total</th>\n",
       "    </tr>\n",
       "  </thead>\n",
       "  <tbody>\n",
       "    <tr>\n",
       "      <th>0</th>\n",
       "      <td>Masculino</td>\n",
       "      <td>55 kg (06.04)</td>\n",
       "      <td>06-04-2019</td>\n",
       "      <td>Oro</td>\n",
       "      <td>Mirco</td>\n",
       "      <td>Scarantino</td>\n",
       "      <td>Italia</td>\n",
       "      <td>116</td>\n",
       "      <td>145</td>\n",
       "      <td>261</td>\n",
       "    </tr>\n",
       "    <tr>\n",
       "      <th>1</th>\n",
       "      <td>Masculino</td>\n",
       "      <td>61 kg (07.04)</td>\n",
       "      <td>07-04-2019</td>\n",
       "      <td>Oro</td>\n",
       "      <td>Henadz</td>\n",
       "      <td>Laptseu</td>\n",
       "      <td>Bielorrusia</td>\n",
       "      <td>133</td>\n",
       "      <td>153</td>\n",
       "      <td>286</td>\n",
       "    </tr>\n",
       "    <tr>\n",
       "      <th>2</th>\n",
       "      <td>Masculino</td>\n",
       "      <td>67 kg (08.04)</td>\n",
       "      <td>08-04-2019</td>\n",
       "      <td>Oro</td>\n",
       "      <td>Bernardin</td>\n",
       "      <td>Matam</td>\n",
       "      <td>Francia</td>\n",
       "      <td>137</td>\n",
       "      <td>175</td>\n",
       "      <td>312</td>\n",
       "    </tr>\n",
       "    <tr>\n",
       "      <th>3</th>\n",
       "      <td>Masculino</td>\n",
       "      <td>73 kg (09.04)</td>\n",
       "      <td>09-04-2019</td>\n",
       "      <td>Oro</td>\n",
       "      <td>Bozhidar</td>\n",
       "      <td>Andreev</td>\n",
       "      <td>Bulgaria</td>\n",
       "      <td>153</td>\n",
       "      <td>192</td>\n",
       "      <td>345</td>\n",
       "    </tr>\n",
       "    <tr>\n",
       "      <th>4</th>\n",
       "      <td>Masculino</td>\n",
       "      <td>81 kg (10.04)</td>\n",
       "      <td>10-04-2019</td>\n",
       "      <td>Oro</td>\n",
       "      <td>Antonino</td>\n",
       "      <td>Pizzolato</td>\n",
       "      <td>Italia</td>\n",
       "      <td>155</td>\n",
       "      <td>201</td>\n",
       "      <td>356</td>\n",
       "    </tr>\n",
       "  </tbody>\n",
       "</table>\n",
       "</div>"
      ],
      "text/plain": [
       "      Genero        Eventos       Fecha Medalla     Nombre    Apellido  \\\n",
       "0  Masculino  55 kg (06.04)  06-04-2019     Oro      Mirco  Scarantino   \n",
       "1  Masculino  61 kg (07.04)  07-04-2019     Oro     Henadz     Laptseu   \n",
       "2  Masculino  67 kg (08.04)  08-04-2019     Oro  Bernardin       Matam   \n",
       "3  Masculino  73 kg (09.04)  09-04-2019     Oro   Bozhidar     Andreev   \n",
       "4  Masculino  81 kg (10.04)  10-04-2019     Oro   Antonino   Pizzolato   \n",
       "\n",
       "          País Arrancada Dos Tiempos Total  \n",
       "0       Italia      116         145    261  \n",
       "1  Bielorrusia      133         153    286  \n",
       "2      Francia      137         175    312  \n",
       "3     Bulgaria      153         192    345  \n",
       "4       Italia      155         201    356  "
      ]
     },
     "execution_count": 32,
     "metadata": {},
     "output_type": "execute_result"
    }
   ],
   "source": [
    "df_columnas = df_medallas.loc[:,['Genero','Eventos', 'Fecha', 'Medalla', 'Nombre', 'Apellido', 'País', 'Arrancada', 'Dos Tiempos', 'Total']]\n",
    "df_columnas.head()"
   ]
  },
  {
   "cell_type": "code",
   "execution_count": 46,
   "id": "d5122109",
   "metadata": {},
   "outputs": [
    {
     "data": {
      "text/plain": [
       "array(['55\\xa0kg (06.04)', '61\\xa0kg (07.04)', '67\\xa0kg (08.04)',\n",
       "       '73\\xa0kg (09.04)', '81\\xa0kg (10.04)', '89\\xa0kg (11.04)',\n",
       "       '96\\xa0kg (12.04)', '102\\xa0kg (13.04)', '109\\xa0kg (13.04)',\n",
       "       '+109\\xa0kg (13.04)', '45\\xa0kg (06.04)', '49\\xa0kg (06.04)',\n",
       "       '55\\xa0kg (07.04)', '59\\xa0kg (08.04)', '64\\xa0kg (09.04)',\n",
       "       '71\\xa0kg (10.04)', '76\\xa0kg (11.04)', '81\\xa0kg (12.04)',\n",
       "       '87\\xa0kg (12.04)', '+87\\xa0kg (13.04)', '55\\xa0kg (04.04)',\n",
       "       '61\\xa0kg (04.04)', '67\\xa0kg (05.04)', '73\\xa0kg (06.04)',\n",
       "       '81\\xa0kg (07.04)', '89\\xa0kg (08.04)', '96\\xa0kg (09.04)',\n",
       "       '102\\xa0kg (10.04)', '109\\xa0kg (10.04)', '+109\\xa0kg (11.04)',\n",
       "       '45\\xa0kg (03.04)', '49\\xa0kg (03.04)', '59\\xa0kg (05.04)',\n",
       "       '64\\xa0kg (06.04)', '71\\xa0kg (07.04)', '76\\xa0kg (08.04)',\n",
       "       '81\\xa0kg (09.04)', '87\\xa0kg (10.04)', '+87\\xa0kg (11.04)'],\n",
       "      dtype=object)"
      ]
     },
     "execution_count": 46,
     "metadata": {},
     "output_type": "execute_result"
    }
   ],
   "source": [
    "df_columnas['Eventos'].unique() #\\xa0"
   ]
  },
  {
   "cell_type": "code",
   "execution_count": 35,
   "id": "c10e2d9e",
   "metadata": {},
   "outputs": [
    {
     "data": {
      "text/plain": [
       "array(['55 kg', '61 kg', '67 kg', '73 kg', '81 kg', '89 kg', '96 kg',\n",
       "       '102 kg', '109 kg', '+109 kg', '45 kg', '49 kg', '59 kg', '64 kg',\n",
       "       '71 kg', '76 kg', '87 kg', '+87 kg'], dtype=object)"
      ]
     },
     "execution_count": 35,
     "metadata": {},
     "output_type": "execute_result"
    }
   ],
   "source": [
    "#Para eliminar los valores extraños, extraigo solo los números y añado manualmete el espacio y kg\n",
    "df_columnas[\"Categoría\"] = df_columnas.Eventos.str.extract(r'(\\+?\\d{1,3})')[0] + \" kg\" \n",
    "\n",
    "#Compruebo que los valores estén limpios y sean correctos\n",
    "df_columnas['Categoría'].unique() "
   ]
  },
  {
   "cell_type": "markdown",
   "id": "92792048",
   "metadata": {},
   "source": [
    "Ordeno las columnas para que queden en el orden solicitado:"
   ]
  },
  {
   "cell_type": "code",
   "execution_count": 36,
   "id": "9e86af93",
   "metadata": {},
   "outputs": [
    {
     "data": {
      "text/html": [
       "<div>\n",
       "<style scoped>\n",
       "    .dataframe tbody tr th:only-of-type {\n",
       "        vertical-align: middle;\n",
       "    }\n",
       "\n",
       "    .dataframe tbody tr th {\n",
       "        vertical-align: top;\n",
       "    }\n",
       "\n",
       "    .dataframe thead th {\n",
       "        text-align: right;\n",
       "    }\n",
       "</style>\n",
       "<table border=\"1\" class=\"dataframe\">\n",
       "  <thead>\n",
       "    <tr style=\"text-align: right;\">\n",
       "      <th></th>\n",
       "      <th>Genero</th>\n",
       "      <th>Categoría</th>\n",
       "      <th>Fecha</th>\n",
       "      <th>Medalla</th>\n",
       "      <th>Nombre</th>\n",
       "      <th>Apellido</th>\n",
       "      <th>País</th>\n",
       "      <th>Arrancada</th>\n",
       "      <th>Dos Tiempos</th>\n",
       "      <th>Total</th>\n",
       "    </tr>\n",
       "  </thead>\n",
       "  <tbody>\n",
       "    <tr>\n",
       "      <th>0</th>\n",
       "      <td>Masculino</td>\n",
       "      <td>55 kg</td>\n",
       "      <td>06-04-2019</td>\n",
       "      <td>Oro</td>\n",
       "      <td>Mirco</td>\n",
       "      <td>Scarantino</td>\n",
       "      <td>Italia</td>\n",
       "      <td>116</td>\n",
       "      <td>145</td>\n",
       "      <td>261</td>\n",
       "    </tr>\n",
       "    <tr>\n",
       "      <th>1</th>\n",
       "      <td>Masculino</td>\n",
       "      <td>61 kg</td>\n",
       "      <td>07-04-2019</td>\n",
       "      <td>Oro</td>\n",
       "      <td>Henadz</td>\n",
       "      <td>Laptseu</td>\n",
       "      <td>Bielorrusia</td>\n",
       "      <td>133</td>\n",
       "      <td>153</td>\n",
       "      <td>286</td>\n",
       "    </tr>\n",
       "    <tr>\n",
       "      <th>2</th>\n",
       "      <td>Masculino</td>\n",
       "      <td>67 kg</td>\n",
       "      <td>08-04-2019</td>\n",
       "      <td>Oro</td>\n",
       "      <td>Bernardin</td>\n",
       "      <td>Matam</td>\n",
       "      <td>Francia</td>\n",
       "      <td>137</td>\n",
       "      <td>175</td>\n",
       "      <td>312</td>\n",
       "    </tr>\n",
       "    <tr>\n",
       "      <th>3</th>\n",
       "      <td>Masculino</td>\n",
       "      <td>73 kg</td>\n",
       "      <td>09-04-2019</td>\n",
       "      <td>Oro</td>\n",
       "      <td>Bozhidar</td>\n",
       "      <td>Andreev</td>\n",
       "      <td>Bulgaria</td>\n",
       "      <td>153</td>\n",
       "      <td>192</td>\n",
       "      <td>345</td>\n",
       "    </tr>\n",
       "    <tr>\n",
       "      <th>4</th>\n",
       "      <td>Masculino</td>\n",
       "      <td>81 kg</td>\n",
       "      <td>10-04-2019</td>\n",
       "      <td>Oro</td>\n",
       "      <td>Antonino</td>\n",
       "      <td>Pizzolato</td>\n",
       "      <td>Italia</td>\n",
       "      <td>155</td>\n",
       "      <td>201</td>\n",
       "      <td>356</td>\n",
       "    </tr>\n",
       "  </tbody>\n",
       "</table>\n",
       "</div>"
      ],
      "text/plain": [
       "      Genero Categoría       Fecha Medalla     Nombre    Apellido  \\\n",
       "0  Masculino     55 kg  06-04-2019     Oro      Mirco  Scarantino   \n",
       "1  Masculino     61 kg  07-04-2019     Oro     Henadz     Laptseu   \n",
       "2  Masculino     67 kg  08-04-2019     Oro  Bernardin       Matam   \n",
       "3  Masculino     73 kg  09-04-2019     Oro   Bozhidar     Andreev   \n",
       "4  Masculino     81 kg  10-04-2019     Oro   Antonino   Pizzolato   \n",
       "\n",
       "          País Arrancada Dos Tiempos Total  \n",
       "0       Italia      116         145    261  \n",
       "1  Bielorrusia      133         153    286  \n",
       "2      Francia      137         175    312  \n",
       "3     Bulgaria      153         192    345  \n",
       "4       Italia      155         201    356  "
      ]
     },
     "execution_count": 36,
     "metadata": {},
     "output_type": "execute_result"
    }
   ],
   "source": [
    "df_columnas_ = df_columnas[['Genero', 'Categoría', 'Fecha', 'Medalla','Nombre', 'Apellido', 'País', 'Arrancada', 'Dos Tiempos', 'Total']]\n",
    "df_columnas_.head()"
   ]
  },
  {
   "cell_type": "markdown",
   "id": "735733c3",
   "metadata": {},
   "source": [
    "##  <span style=\"color: #2A8E3C;\"> Paso 8. Tipo de datos  </span>"
   ]
  },
  {
   "cell_type": "markdown",
   "id": "5c05152a",
   "metadata": {},
   "source": [
    "Debemos modificar los tipos de las distintas columnas para poder analizarlos correctamente:\n",
    "\n",
    "- **Género**: `object`\n",
    "- **Categoría**: `object`\n",
    "- **Fecha**: `datetime64[ns]`\n",
    "- **Medalla**: `category`\n",
    "- **Nombre**: `object`\n",
    "- **Apellido**: `object`\n",
    "- **País**: `object`\n",
    "- **Arrancada**: `int64`\n",
    "- **Dos tiempos**: `int64`\n",
    "- **Total**: `int64`"
   ]
  },
  {
   "cell_type": "markdown",
   "id": "a4c66f1d",
   "metadata": {},
   "source": [
    "### Datetime"
   ]
  },
  {
   "cell_type": "code",
   "execution_count": 37,
   "id": "64447d3e",
   "metadata": {},
   "outputs": [],
   "source": [
    "def fecha_procesada(df, variable_analisis): \n",
    "    # Convertimos la columna 'Fecha' a datetime\n",
    "    # Valor de entrada: '06-04-2019'\n",
    "    # El formato \"%d-%m-%Y\" coincide con \"06-04-2019\" (donde 06 es el día, 04 es el mes, y 2019 es el año)\n",
    "    # Si alguna fecha no se ajusta a este formato, 'errors=\"coerce\"' convertirá esos valores en 'NaT' (Not a Time)\n",
    "    df[variable_analisis + '_procesada'] = pd.to_datetime(df[variable_analisis], format='%d-%m-%Y', errors='coerce')\n",
    "\n",
    "    # Mostramos las primeras filas de la columna original y la nueva columna 'variable_analisis_procesada'\n",
    "    df[[variable_analisis, variable_analisis + '_procesada']].head()\n",
    "\n",
    "    # Calculamos cuántos valores nulos (NaT) hay en la columna 'Fecha_procesada'\n",
    "    nulos = df[variable_analisis + '_procesada'].isnull().sum()\n",
    "    \n",
    "    # Mostramos los valores nulos.\n",
    "    print(f\"Número de valores nulos en '{variable_analisis}_procesada': {nulos}\") #0 si todo es correcto\n",
    "\n",
    "    # Asignamos los valores procesados a la columna 'Fecha' (renombramos la columna)\n",
    "    df['Fecha'] = df[variable_analisis + '_procesada']\n",
    "\n",
    "    # Eliminamos la columna temporal 'Fecha_procesada' tras comprobar que no tiene valores nulos\n",
    "    df.drop(columns=[variable_analisis + '_procesada'], inplace=True)\n"
   ]
  },
  {
   "cell_type": "code",
   "execution_count": 38,
   "id": "d846ef28",
   "metadata": {},
   "outputs": [
    {
     "name": "stdout",
     "output_type": "stream",
     "text": [
      "Número de valores nulos en 'Fecha_procesada': 0\n"
     ]
    }
   ],
   "source": [
    "fecha_procesada(df_columnas_, variable_analisis = 'Fecha')"
   ]
  },
  {
   "cell_type": "markdown",
   "id": "4cebe1df",
   "metadata": {},
   "source": [
    "### Integer"
   ]
  },
  {
   "cell_type": "code",
   "execution_count": 39,
   "id": "91f47af9",
   "metadata": {},
   "outputs": [],
   "source": [
    "def tipo_de_dato_integer(df, variable_a_transformar):\n",
    "    try:\n",
    "        # Convertimos la columna a numérico, los no numéricos se convierten a NaN\n",
    "        df[variable_a_transformar] = pd.to_numeric(df[variable_a_transformar], errors='coerce')\n",
    "        \n",
    "        # Contamos los valores nulos (NaN) después de la conversión\n",
    "        nulos = df[variable_a_transformar].isnull().sum()\n",
    "        \n",
    "        # Mostramos el número de valores nulos\n",
    "        print(f\"Número de valores nulos en {variable_a_transformar}: {nulos}\")\n",
    "        \n",
    "        # Reemplazamos NaN por 0 y convertimos a entero (int64)\n",
    "        df[variable_a_transformar] = df[variable_a_transformar].fillna(0).astype('int64')\n",
    "    \n",
    "    except Exception as e:\n",
    "        # Si ocurre un error, mostramos el mensaje\n",
    "        print(f\"No es posible transformar a integer: {e}\")\n"
   ]
  },
  {
   "cell_type": "code",
   "execution_count": 40,
   "id": "5035a021",
   "metadata": {},
   "outputs": [
    {
     "name": "stdout",
     "output_type": "stream",
     "text": [
      "Número de valores nulos en Arrancada: 0\n",
      "Número de valores nulos en Dos Tiempos: 0\n",
      "Número de valores nulos en Total: 0\n"
     ]
    }
   ],
   "source": [
    "columnas_a_integer = ['Arrancada', 'Dos Tiempos', 'Total']\n",
    "for columnas in columnas_a_integer:\n",
    "    tipo_de_dato_integer(df = df_columnas_ , variable_a_transformar = columnas)"
   ]
  },
  {
   "cell_type": "markdown",
   "id": "01e7e7aa",
   "metadata": {},
   "source": [
    "### Category"
   ]
  },
  {
   "cell_type": "code",
   "execution_count": 43,
   "id": "f903576e",
   "metadata": {},
   "outputs": [],
   "source": [
    "# Creo una lista con las categorías de medallas en el orden deseado\n",
    "orden_m = ['Oro', 'Plata', 'Bronce']\n",
    "# Convierto la columna 'Medalla' a tipo categórico y especifico el orden\n",
    "df_columnas_.Medalla = pd.Categorical(df_columnas_.Medalla, categories=orden_m)"
   ]
  },
  {
   "cell_type": "code",
   "execution_count": 44,
   "id": "3729b0fc",
   "metadata": {},
   "outputs": [
    {
     "name": "stdout",
     "output_type": "stream",
     "text": [
      "¿Cuántas filas y columnas hay en el conjunto de datos?\n",
      "\tHay 120 filas y 10 columnas.\n",
      "\n",
      "########################################################################################\n",
      "¿Cuáles son las primeras cinco filas del conjunto de datos?\n"
     ]
    },
    {
     "data": {
      "text/html": [
       "<div>\n",
       "<style scoped>\n",
       "    .dataframe tbody tr th:only-of-type {\n",
       "        vertical-align: middle;\n",
       "    }\n",
       "\n",
       "    .dataframe tbody tr th {\n",
       "        vertical-align: top;\n",
       "    }\n",
       "\n",
       "    .dataframe thead th {\n",
       "        text-align: right;\n",
       "    }\n",
       "</style>\n",
       "<table border=\"1\" class=\"dataframe\">\n",
       "  <thead>\n",
       "    <tr style=\"text-align: right;\">\n",
       "      <th></th>\n",
       "      <th>Genero</th>\n",
       "      <th>Categoría</th>\n",
       "      <th>Fecha</th>\n",
       "      <th>Medalla</th>\n",
       "      <th>Nombre</th>\n",
       "      <th>Apellido</th>\n",
       "      <th>País</th>\n",
       "      <th>Arrancada</th>\n",
       "      <th>Dos Tiempos</th>\n",
       "      <th>Total</th>\n",
       "    </tr>\n",
       "  </thead>\n",
       "  <tbody>\n",
       "    <tr>\n",
       "      <th>0</th>\n",
       "      <td>Masculino</td>\n",
       "      <td>55 kg</td>\n",
       "      <td>2019-04-06</td>\n",
       "      <td>Oro</td>\n",
       "      <td>Mirco</td>\n",
       "      <td>Scarantino</td>\n",
       "      <td>Italia</td>\n",
       "      <td>116</td>\n",
       "      <td>145</td>\n",
       "      <td>261</td>\n",
       "    </tr>\n",
       "    <tr>\n",
       "      <th>1</th>\n",
       "      <td>Masculino</td>\n",
       "      <td>61 kg</td>\n",
       "      <td>2019-04-07</td>\n",
       "      <td>Oro</td>\n",
       "      <td>Henadz</td>\n",
       "      <td>Laptseu</td>\n",
       "      <td>Bielorrusia</td>\n",
       "      <td>133</td>\n",
       "      <td>153</td>\n",
       "      <td>286</td>\n",
       "    </tr>\n",
       "    <tr>\n",
       "      <th>2</th>\n",
       "      <td>Masculino</td>\n",
       "      <td>67 kg</td>\n",
       "      <td>2019-04-08</td>\n",
       "      <td>Oro</td>\n",
       "      <td>Bernardin</td>\n",
       "      <td>Matam</td>\n",
       "      <td>Francia</td>\n",
       "      <td>137</td>\n",
       "      <td>175</td>\n",
       "      <td>312</td>\n",
       "    </tr>\n",
       "    <tr>\n",
       "      <th>3</th>\n",
       "      <td>Masculino</td>\n",
       "      <td>73 kg</td>\n",
       "      <td>2019-04-09</td>\n",
       "      <td>Oro</td>\n",
       "      <td>Bozhidar</td>\n",
       "      <td>Andreev</td>\n",
       "      <td>Bulgaria</td>\n",
       "      <td>153</td>\n",
       "      <td>192</td>\n",
       "      <td>345</td>\n",
       "    </tr>\n",
       "    <tr>\n",
       "      <th>4</th>\n",
       "      <td>Masculino</td>\n",
       "      <td>81 kg</td>\n",
       "      <td>2019-04-10</td>\n",
       "      <td>Oro</td>\n",
       "      <td>Antonino</td>\n",
       "      <td>Pizzolato</td>\n",
       "      <td>Italia</td>\n",
       "      <td>155</td>\n",
       "      <td>201</td>\n",
       "      <td>356</td>\n",
       "    </tr>\n",
       "  </tbody>\n",
       "</table>\n",
       "</div>"
      ],
      "text/plain": [
       "      Genero Categoría      Fecha Medalla     Nombre    Apellido         País  \\\n",
       "0  Masculino     55 kg 2019-04-06     Oro      Mirco  Scarantino       Italia   \n",
       "1  Masculino     61 kg 2019-04-07     Oro     Henadz     Laptseu  Bielorrusia   \n",
       "2  Masculino     67 kg 2019-04-08     Oro  Bernardin       Matam      Francia   \n",
       "3  Masculino     73 kg 2019-04-09     Oro   Bozhidar     Andreev     Bulgaria   \n",
       "4  Masculino     81 kg 2019-04-10     Oro   Antonino   Pizzolato       Italia   \n",
       "\n",
       "   Arrancada  Dos Tiempos  Total  \n",
       "0        116          145    261  \n",
       "1        133          153    286  \n",
       "2        137          175    312  \n",
       "3        153          192    345  \n",
       "4        155          201    356  "
      ]
     },
     "metadata": {},
     "output_type": "display_data"
    },
    {
     "name": "stdout",
     "output_type": "stream",
     "text": [
      "\n",
      "########################################################################################\n",
      "¿Cuáles son las últimas cinco filas del conjunto de datos?\n"
     ]
    },
    {
     "data": {
      "text/html": [
       "<div>\n",
       "<style scoped>\n",
       "    .dataframe tbody tr th:only-of-type {\n",
       "        vertical-align: middle;\n",
       "    }\n",
       "\n",
       "    .dataframe tbody tr th {\n",
       "        vertical-align: top;\n",
       "    }\n",
       "\n",
       "    .dataframe thead th {\n",
       "        text-align: right;\n",
       "    }\n",
       "</style>\n",
       "<table border=\"1\" class=\"dataframe\">\n",
       "  <thead>\n",
       "    <tr style=\"text-align: right;\">\n",
       "      <th></th>\n",
       "      <th>Genero</th>\n",
       "      <th>Categoría</th>\n",
       "      <th>Fecha</th>\n",
       "      <th>Medalla</th>\n",
       "      <th>Nombre</th>\n",
       "      <th>Apellido</th>\n",
       "      <th>País</th>\n",
       "      <th>Arrancada</th>\n",
       "      <th>Dos Tiempos</th>\n",
       "      <th>Total</th>\n",
       "    </tr>\n",
       "  </thead>\n",
       "  <tbody>\n",
       "    <tr>\n",
       "      <th>115</th>\n",
       "      <td>Femenino</td>\n",
       "      <td>71 kg</td>\n",
       "      <td>2020-04-07</td>\n",
       "      <td>Bronce</td>\n",
       "      <td>Raluca</td>\n",
       "      <td>Olaru</td>\n",
       "      <td>Rumania</td>\n",
       "      <td>98</td>\n",
       "      <td>120</td>\n",
       "      <td>218</td>\n",
       "    </tr>\n",
       "    <tr>\n",
       "      <th>116</th>\n",
       "      <td>Femenino</td>\n",
       "      <td>76 kg</td>\n",
       "      <td>2020-04-08</td>\n",
       "      <td>Bronce</td>\n",
       "      <td>Anastasiya</td>\n",
       "      <td>Romanova</td>\n",
       "      <td>Rusia</td>\n",
       "      <td>111</td>\n",
       "      <td>132</td>\n",
       "      <td>243</td>\n",
       "    </tr>\n",
       "    <tr>\n",
       "      <th>117</th>\n",
       "      <td>Femenino</td>\n",
       "      <td>81 kg</td>\n",
       "      <td>2020-04-09</td>\n",
       "      <td>Bronce</td>\n",
       "      <td>Liana</td>\n",
       "      <td>Guiurdzhian</td>\n",
       "      <td>Armenia</td>\n",
       "      <td>98</td>\n",
       "      <td>129</td>\n",
       "      <td>227</td>\n",
       "    </tr>\n",
       "    <tr>\n",
       "      <th>118</th>\n",
       "      <td>Femenino</td>\n",
       "      <td>87 kg</td>\n",
       "      <td>2020-04-10</td>\n",
       "      <td>Bronce</td>\n",
       "      <td>Daria</td>\n",
       "      <td>Riazanova</td>\n",
       "      <td>Rusia</td>\n",
       "      <td>105</td>\n",
       "      <td>135</td>\n",
       "      <td>240</td>\n",
       "    </tr>\n",
       "    <tr>\n",
       "      <th>119</th>\n",
       "      <td>Femenino</td>\n",
       "      <td>+87 kg</td>\n",
       "      <td>2020-04-11</td>\n",
       "      <td>Bronce</td>\n",
       "      <td>Melike</td>\n",
       "      <td>Günal</td>\n",
       "      <td>Turquía</td>\n",
       "      <td>108</td>\n",
       "      <td>135</td>\n",
       "      <td>243</td>\n",
       "    </tr>\n",
       "  </tbody>\n",
       "</table>\n",
       "</div>"
      ],
      "text/plain": [
       "       Genero Categoría      Fecha Medalla      Nombre     Apellido     País  \\\n",
       "115  Femenino     71 kg 2020-04-07  Bronce      Raluca        Olaru  Rumania   \n",
       "116  Femenino     76 kg 2020-04-08  Bronce  Anastasiya     Romanova    Rusia   \n",
       "117  Femenino     81 kg 2020-04-09  Bronce       Liana  Guiurdzhian  Armenia   \n",
       "118  Femenino     87 kg 2020-04-10  Bronce       Daria    Riazanova    Rusia   \n",
       "119  Femenino    +87 kg 2020-04-11  Bronce      Melike        Günal  Turquía   \n",
       "\n",
       "     Arrancada  Dos Tiempos  Total  \n",
       "115         98          120    218  \n",
       "116        111          132    243  \n",
       "117         98          129    227  \n",
       "118        105          135    240  \n",
       "119        108          135    243  "
      ]
     },
     "metadata": {},
     "output_type": "display_data"
    },
    {
     "name": "stdout",
     "output_type": "stream",
     "text": [
      "\n",
      "########################################################################################\n",
      "¿Cómo puedes obtener una muestra aleatoria de filas del conjunto de datos?\n"
     ]
    },
    {
     "data": {
      "text/html": [
       "<div>\n",
       "<style scoped>\n",
       "    .dataframe tbody tr th:only-of-type {\n",
       "        vertical-align: middle;\n",
       "    }\n",
       "\n",
       "    .dataframe tbody tr th {\n",
       "        vertical-align: top;\n",
       "    }\n",
       "\n",
       "    .dataframe thead th {\n",
       "        text-align: right;\n",
       "    }\n",
       "</style>\n",
       "<table border=\"1\" class=\"dataframe\">\n",
       "  <thead>\n",
       "    <tr style=\"text-align: right;\">\n",
       "      <th></th>\n",
       "      <th>Genero</th>\n",
       "      <th>Categoría</th>\n",
       "      <th>Fecha</th>\n",
       "      <th>Medalla</th>\n",
       "      <th>Nombre</th>\n",
       "      <th>Apellido</th>\n",
       "      <th>País</th>\n",
       "      <th>Arrancada</th>\n",
       "      <th>Dos Tiempos</th>\n",
       "      <th>Total</th>\n",
       "    </tr>\n",
       "  </thead>\n",
       "  <tbody>\n",
       "    <tr>\n",
       "      <th>51</th>\n",
       "      <td>Femenino</td>\n",
       "      <td>49 kg</td>\n",
       "      <td>2019-04-06</td>\n",
       "      <td>Plata</td>\n",
       "      <td>Kristina</td>\n",
       "      <td>Sobol</td>\n",
       "      <td>Rusia</td>\n",
       "      <td>85</td>\n",
       "      <td>95</td>\n",
       "      <td>180</td>\n",
       "    </tr>\n",
       "    <tr>\n",
       "      <th>11</th>\n",
       "      <td>Femenino</td>\n",
       "      <td>49 kg</td>\n",
       "      <td>2019-04-06</td>\n",
       "      <td>Oro</td>\n",
       "      <td>Elena</td>\n",
       "      <td>Andrieș</td>\n",
       "      <td>Rumania</td>\n",
       "      <td>87</td>\n",
       "      <td>103</td>\n",
       "      <td>190</td>\n",
       "    </tr>\n",
       "    <tr>\n",
       "      <th>27</th>\n",
       "      <td>Masculino</td>\n",
       "      <td>102 kg</td>\n",
       "      <td>2020-04-10</td>\n",
       "      <td>Oro</td>\n",
       "      <td>Samvel</td>\n",
       "      <td>Gasparian</td>\n",
       "      <td>Armenia</td>\n",
       "      <td>176</td>\n",
       "      <td>214</td>\n",
       "      <td>390</td>\n",
       "    </tr>\n",
       "    <tr>\n",
       "      <th>97</th>\n",
       "      <td>Femenino</td>\n",
       "      <td>81 kg</td>\n",
       "      <td>2019-04-12</td>\n",
       "      <td>Bronce</td>\n",
       "      <td>Liana</td>\n",
       "      <td>Guiurdzhian</td>\n",
       "      <td>Armenia</td>\n",
       "      <td>97</td>\n",
       "      <td>120</td>\n",
       "      <td>217</td>\n",
       "    </tr>\n",
       "    <tr>\n",
       "      <th>59</th>\n",
       "      <td>Femenino</td>\n",
       "      <td>+87 kg</td>\n",
       "      <td>2019-04-13</td>\n",
       "      <td>Plata</td>\n",
       "      <td>Anastasiya</td>\n",
       "      <td>Lysenko</td>\n",
       "      <td>Ucrania</td>\n",
       "      <td>120</td>\n",
       "      <td>148</td>\n",
       "      <td>268</td>\n",
       "    </tr>\n",
       "  </tbody>\n",
       "</table>\n",
       "</div>"
      ],
      "text/plain": [
       "       Genero Categoría      Fecha Medalla      Nombre     Apellido     País  \\\n",
       "51   Femenino     49 kg 2019-04-06   Plata    Kristina        Sobol    Rusia   \n",
       "11   Femenino     49 kg 2019-04-06     Oro       Elena      Andrieș  Rumania   \n",
       "27  Masculino    102 kg 2020-04-10     Oro      Samvel    Gasparian  Armenia   \n",
       "97   Femenino     81 kg 2019-04-12  Bronce       Liana  Guiurdzhian  Armenia   \n",
       "59   Femenino    +87 kg 2019-04-13   Plata  Anastasiya      Lysenko  Ucrania   \n",
       "\n",
       "    Arrancada  Dos Tiempos  Total  \n",
       "51         85           95    180  \n",
       "11         87          103    190  \n",
       "27        176          214    390  \n",
       "97         97          120    217  \n",
       "59        120          148    268  "
      ]
     },
     "metadata": {},
     "output_type": "display_data"
    },
    {
     "name": "stdout",
     "output_type": "stream",
     "text": [
      "\n",
      "########################################################################################\n",
      "¿Cuáles son las columnas del conjunto de datos?\n",
      "\t - Genero\n",
      "\t - Categoría\n",
      "\t - Fecha\n",
      "\t - Medalla\n",
      "\t - Nombre\n",
      "\t - Apellido\n",
      "\t - País\n",
      "\t - Arrancada\n",
      "\t - Dos Tiempos\n",
      "\t - Total\n",
      "\n",
      "########################################################################################\n",
      "¿Cuál es el tipo de datos de cada columna?\n",
      "Genero                 object\n",
      "Categoría              object\n",
      "Fecha          datetime64[ns]\n",
      "Medalla              category\n",
      "Nombre                 object\n",
      "Apellido               object\n",
      "País                   object\n",
      "Arrancada               int64\n",
      "Dos Tiempos             int64\n",
      "Total                   int64\n",
      "dtype: object\n",
      "\n",
      "########################################################################################\n",
      "¿Cuántas columnas hay de cada tipo de datos?\n",
      "object            5\n",
      "int64             3\n",
      "datetime64[ns]    1\n",
      "category          1\n",
      "Name: count, dtype: int64\n",
      "\n",
      "########################################################################################\n",
      "¿Cómo podríamos obtener información más completa sobre la estructura y el contenido del DataFrame?\n",
      "<class 'pandas.core.frame.DataFrame'>\n",
      "RangeIndex: 120 entries, 0 to 119\n",
      "Data columns (total 10 columns):\n",
      " #   Column       Non-Null Count  Dtype         \n",
      "---  ------       --------------  -----         \n",
      " 0   Genero       120 non-null    object        \n",
      " 1   Categoría    120 non-null    object        \n",
      " 2   Fecha        120 non-null    datetime64[ns]\n",
      " 3   Medalla      120 non-null    category      \n",
      " 4   Nombre       120 non-null    object        \n",
      " 5   Apellido     120 non-null    object        \n",
      " 6   País         120 non-null    object        \n",
      " 7   Arrancada    120 non-null    int64         \n",
      " 8   Dos Tiempos  120 non-null    int64         \n",
      " 9   Total        120 non-null    int64         \n",
      "dtypes: category(1), datetime64[ns](1), int64(3), object(5)\n",
      "memory usage: 8.8+ KB\n",
      "None\n",
      "\n",
      "########################################################################################\n",
      "¿Cuántos valores únicos tiene cada columna?\n",
      "Genero           2\n",
      "Categoría       18\n",
      "Fecha           17\n",
      "Medalla          3\n",
      "Nombre          85\n",
      "Apellido        97\n",
      "País            21\n",
      "Arrancada       79\n",
      "Dos Tiempos     86\n",
      "Total          102\n",
      "dtype: int64\n",
      "\n",
      "########################################################################################\n",
      "¿Cuáles son las estadísticas descriptivas básicas de todas las columnas?\n"
     ]
    },
    {
     "data": {
      "text/html": [
       "<div>\n",
       "<style scoped>\n",
       "    .dataframe tbody tr th:only-of-type {\n",
       "        vertical-align: middle;\n",
       "    }\n",
       "\n",
       "    .dataframe tbody tr th {\n",
       "        vertical-align: top;\n",
       "    }\n",
       "\n",
       "    .dataframe thead th {\n",
       "        text-align: right;\n",
       "    }\n",
       "</style>\n",
       "<table border=\"1\" class=\"dataframe\">\n",
       "  <thead>\n",
       "    <tr style=\"text-align: right;\">\n",
       "      <th></th>\n",
       "      <th>Genero</th>\n",
       "      <th>Categoría</th>\n",
       "      <th>Fecha</th>\n",
       "      <th>Medalla</th>\n",
       "      <th>Nombre</th>\n",
       "      <th>Apellido</th>\n",
       "      <th>País</th>\n",
       "      <th>Arrancada</th>\n",
       "      <th>Dos Tiempos</th>\n",
       "      <th>Total</th>\n",
       "    </tr>\n",
       "  </thead>\n",
       "  <tbody>\n",
       "    <tr>\n",
       "      <th>count</th>\n",
       "      <td>120</td>\n",
       "      <td>120</td>\n",
       "      <td>120</td>\n",
       "      <td>120</td>\n",
       "      <td>120</td>\n",
       "      <td>120</td>\n",
       "      <td>120</td>\n",
       "      <td>120.0</td>\n",
       "      <td>120.0</td>\n",
       "      <td>120.0</td>\n",
       "    </tr>\n",
       "    <tr>\n",
       "      <th>unique</th>\n",
       "      <td>2</td>\n",
       "      <td>18</td>\n",
       "      <td></td>\n",
       "      <td>3</td>\n",
       "      <td>85</td>\n",
       "      <td>97</td>\n",
       "      <td>21</td>\n",
       "      <td></td>\n",
       "      <td></td>\n",
       "      <td></td>\n",
       "    </tr>\n",
       "    <tr>\n",
       "      <th>top</th>\n",
       "      <td>Masculino</td>\n",
       "      <td>55 kg</td>\n",
       "      <td></td>\n",
       "      <td>Oro</td>\n",
       "      <td>Anastasiya</td>\n",
       "      <td>Asayonak</td>\n",
       "      <td>Rusia</td>\n",
       "      <td></td>\n",
       "      <td></td>\n",
       "      <td></td>\n",
       "    </tr>\n",
       "    <tr>\n",
       "      <th>freq</th>\n",
       "      <td>60</td>\n",
       "      <td>12</td>\n",
       "      <td></td>\n",
       "      <td>40</td>\n",
       "      <td>5</td>\n",
       "      <td>3</td>\n",
       "      <td>20</td>\n",
       "      <td></td>\n",
       "      <td></td>\n",
       "      <td></td>\n",
       "    </tr>\n",
       "    <tr>\n",
       "      <th>mean</th>\n",
       "      <td></td>\n",
       "      <td></td>\n",
       "      <td>2019-10-08 09:36:00</td>\n",
       "      <td></td>\n",
       "      <td></td>\n",
       "      <td></td>\n",
       "      <td></td>\n",
       "      <td>129.6</td>\n",
       "      <td>157.391667</td>\n",
       "      <td>286.991667</td>\n",
       "    </tr>\n",
       "    <tr>\n",
       "      <th>min</th>\n",
       "      <td></td>\n",
       "      <td></td>\n",
       "      <td>2019-04-06 00:00:00</td>\n",
       "      <td></td>\n",
       "      <td></td>\n",
       "      <td></td>\n",
       "      <td></td>\n",
       "      <td>67.0</td>\n",
       "      <td>81.0</td>\n",
       "      <td>150.0</td>\n",
       "    </tr>\n",
       "    <tr>\n",
       "      <th>25%</th>\n",
       "      <td></td>\n",
       "      <td></td>\n",
       "      <td>2019-04-10 00:00:00</td>\n",
       "      <td></td>\n",
       "      <td></td>\n",
       "      <td></td>\n",
       "      <td></td>\n",
       "      <td>99.5</td>\n",
       "      <td>122.0</td>\n",
       "      <td>221.75</td>\n",
       "    </tr>\n",
       "    <tr>\n",
       "      <th>50%</th>\n",
       "      <td></td>\n",
       "      <td></td>\n",
       "      <td>2019-10-08 00:00:00</td>\n",
       "      <td></td>\n",
       "      <td></td>\n",
       "      <td></td>\n",
       "      <td></td>\n",
       "      <td>114.5</td>\n",
       "      <td>145.0</td>\n",
       "      <td>257.0</td>\n",
       "    </tr>\n",
       "    <tr>\n",
       "      <th>75%</th>\n",
       "      <td></td>\n",
       "      <td></td>\n",
       "      <td>2020-04-07 00:00:00</td>\n",
       "      <td></td>\n",
       "      <td></td>\n",
       "      <td></td>\n",
       "      <td></td>\n",
       "      <td>163.25</td>\n",
       "      <td>200.0</td>\n",
       "      <td>366.0</td>\n",
       "    </tr>\n",
       "    <tr>\n",
       "      <th>max</th>\n",
       "      <td></td>\n",
       "      <td></td>\n",
       "      <td>2020-04-11 00:00:00</td>\n",
       "      <td></td>\n",
       "      <td></td>\n",
       "      <td></td>\n",
       "      <td></td>\n",
       "      <td>222.0</td>\n",
       "      <td>263.0</td>\n",
       "      <td>485.0</td>\n",
       "    </tr>\n",
       "    <tr>\n",
       "      <th>std</th>\n",
       "      <td></td>\n",
       "      <td></td>\n",
       "      <td></td>\n",
       "      <td></td>\n",
       "      <td></td>\n",
       "      <td></td>\n",
       "      <td></td>\n",
       "      <td>38.603435</td>\n",
       "      <td>45.187061</td>\n",
       "      <td>83.566257</td>\n",
       "    </tr>\n",
       "  </tbody>\n",
       "</table>\n",
       "</div>"
      ],
      "text/plain": [
       "           Genero Categoría                Fecha Medalla      Nombre  \\\n",
       "count         120       120                  120     120         120   \n",
       "unique          2        18                            3          85   \n",
       "top     Masculino     55 kg                          Oro  Anastasiya   \n",
       "freq           60        12                           40           5   \n",
       "mean                         2019-10-08 09:36:00                       \n",
       "min                          2019-04-06 00:00:00                       \n",
       "25%                          2019-04-10 00:00:00                       \n",
       "50%                          2019-10-08 00:00:00                       \n",
       "75%                          2020-04-07 00:00:00                       \n",
       "max                          2020-04-11 00:00:00                       \n",
       "std                                                                    \n",
       "\n",
       "        Apellido   País  Arrancada Dos Tiempos       Total  \n",
       "count        120    120      120.0       120.0       120.0  \n",
       "unique        97     21                                     \n",
       "top     Asayonak  Rusia                                     \n",
       "freq           3     20                                     \n",
       "mean                         129.6  157.391667  286.991667  \n",
       "min                           67.0        81.0       150.0  \n",
       "25%                           99.5       122.0      221.75  \n",
       "50%                          114.5       145.0       257.0  \n",
       "75%                         163.25       200.0       366.0  \n",
       "max                          222.0       263.0       485.0  \n",
       "std                      38.603435   45.187061   83.566257  "
      ]
     },
     "metadata": {},
     "output_type": "display_data"
    },
    {
     "name": "stdout",
     "output_type": "stream",
     "text": [
      "\n",
      "########################################################################################\n",
      "¿Hay valores nulos en el conjunto de datos?\n",
      "Genero         0\n",
      "Categoría      0\n",
      "Fecha          0\n",
      "Medalla        0\n",
      "Nombre         0\n",
      "Apellido       0\n",
      "País           0\n",
      "Arrancada      0\n",
      "Dos Tiempos    0\n",
      "Total          0\n",
      "dtype: int64\n",
      "\n",
      "########################################################################################\n",
      "¿Cuál es el porcentaje de valores nulos en cada columna?\n",
      "Genero         0.0\n",
      "Categoría      0.0\n",
      "Fecha          0.0\n",
      "Medalla        0.0\n",
      "Nombre         0.0\n",
      "Apellido       0.0\n",
      "País           0.0\n",
      "Arrancada      0.0\n",
      "Dos Tiempos    0.0\n",
      "Total          0.0\n",
      "dtype: float64\n",
      "\n",
      "########################################################################################\n",
      "¿Hay filas duplicadas en el conjunto de datos?\n",
      "\tExisten duplicados: False\n",
      "\tNúmero total de filas duplicadas: 0\n",
      "\n",
      "########################################################################################\n"
     ]
    }
   ],
   "source": [
    "exploracion_inicial(df = df_columnas_)"
   ]
  },
  {
   "cell_type": "markdown",
   "id": "e39fe2f8",
   "metadata": {},
   "source": [
    "## <span style=\"color: #2A8E3C;\"> Paso 9. Ordendar </span> "
   ]
  },
  {
   "cell_type": "markdown",
   "id": "a06d9a6a",
   "metadata": {},
   "source": [
    "Nos solicitan ordenar la tabla por Categoría, Género y Medalla"
   ]
  },
  {
   "cell_type": "code",
   "execution_count": 45,
   "id": "e85cafa5",
   "metadata": {},
   "outputs": [],
   "source": [
    "# Creo una lista con las categorías de Género en el orden deseado\n",
    "orden_g = ['Femenino', 'Masculino']\n",
    "# Convierto la columna 'Genero' a tipo categórico y especifico el orden\n",
    "df_columnas_.Genero = pd.Categorical(df_columnas_.Genero, categories=orden_g)"
   ]
  },
  {
   "cell_type": "code",
   "execution_count": 47,
   "id": "dbdbf9e0",
   "metadata": {},
   "outputs": [
    {
     "name": "stdout",
     "output_type": "stream",
     "text": [
      "['45 kg', '49 kg', '55 kg', '59 kg', '61 kg', '64 kg', '67 kg', '71 kg', '73 kg', '76 kg', '81 kg', '87 kg', '+87 kg', '89 kg', '96 kg', '102 kg', '109 kg', '+109 kg']\n"
     ]
    }
   ],
   "source": [
    "# Extraemos las categorías únicas de la columna 'Categoría' y las convertimos a lista\n",
    "categorias = list(df_columnas_.Categoría.unique()).copy()\n",
    "\n",
    "# Extraemos los números de las categorías y los ordenamos de menor a mayor\n",
    "orden = sorted(list(map(lambda x: int(re.findall(r'\\d+', x)[0]), categorias)))\n",
    "\n",
    "# Inicializamos un diccionario para contar repeticiones y una lista para el resultado final\n",
    "repeticiones = {}\n",
    "orden_ = []\n",
    "\n",
    "# Iteramos sobre la lista ordenada\n",
    "for x in orden:\n",
    "    # Contamos cuántas veces aparece cada número\n",
    "    repeticiones[x] = repeticiones.get(x, 0) + 1\n",
    "    \n",
    "    # Si el número aparece dos veces, añadimos '+' antes de 'kg'\n",
    "    if repeticiones[x] == 2:\n",
    "        orden_.append(f'+{x} kg')\n",
    "    else:\n",
    "        # Si aparece una sola vez, simplemente añadimos 'kg'\n",
    "        orden_.append(f'{x} kg')\n",
    "\n",
    "# Imprimimos el resultado final\n",
    "print(orden_)\n",
    "\n",
    "# Definimos el orden esperado de las categorías\n",
    "orden_c = ['45 kg', '49 kg', '55 kg', '59 kg', '61 kg', '64 kg', '67 kg', '71 kg', '73 kg', '76 kg', '81 kg', '87 kg', '+87 kg', '89 kg', '96 kg', '102 kg', '109 kg', '+109 kg']\n"
   ]
  },
  {
   "cell_type": "code",
   "execution_count": 48,
   "id": "f10eccea",
   "metadata": {},
   "outputs": [],
   "source": [
    "# Convierto la columna 'Categoría' a tipo categórico y especifico el orden\n",
    "df_columnas_.Categoría = pd.Categorical(df_columnas_.Categoría, categories=orden_c)"
   ]
  },
  {
   "cell_type": "code",
   "execution_count": null,
   "id": "13b4c67c",
   "metadata": {},
   "outputs": [
    {
     "data": {
      "text/html": [
       "<div>\n",
       "<style scoped>\n",
       "    .dataframe tbody tr th:only-of-type {\n",
       "        vertical-align: middle;\n",
       "    }\n",
       "\n",
       "    .dataframe tbody tr th {\n",
       "        vertical-align: top;\n",
       "    }\n",
       "\n",
       "    .dataframe thead th {\n",
       "        text-align: right;\n",
       "    }\n",
       "</style>\n",
       "<table border=\"1\" class=\"dataframe\">\n",
       "  <thead>\n",
       "    <tr style=\"text-align: right;\">\n",
       "      <th></th>\n",
       "      <th>Genero</th>\n",
       "      <th>Categoría</th>\n",
       "      <th>Fecha</th>\n",
       "      <th>Medalla</th>\n",
       "      <th>Nombre</th>\n",
       "      <th>Apellido</th>\n",
       "      <th>País</th>\n",
       "      <th>Arrancada</th>\n",
       "      <th>Dos Tiempos</th>\n",
       "      <th>Total</th>\n",
       "    </tr>\n",
       "  </thead>\n",
       "  <tbody>\n",
       "    <tr>\n",
       "      <th>10</th>\n",
       "      <td>Femenino</td>\n",
       "      <td>45 kg</td>\n",
       "      <td>2019-04-06</td>\n",
       "      <td>Oro</td>\n",
       "      <td>Şaziye</td>\n",
       "      <td>Erdoğan</td>\n",
       "      <td>Turquía</td>\n",
       "      <td>75</td>\n",
       "      <td>88</td>\n",
       "      <td>163</td>\n",
       "    </tr>\n",
       "    <tr>\n",
       "      <th>30</th>\n",
       "      <td>Femenino</td>\n",
       "      <td>45 kg</td>\n",
       "      <td>2020-04-03</td>\n",
       "      <td>Oro</td>\n",
       "      <td>Nadezhda</td>\n",
       "      <td>Nguen</td>\n",
       "      <td>Bulgaria</td>\n",
       "      <td>72</td>\n",
       "      <td>83</td>\n",
       "      <td>155</td>\n",
       "    </tr>\n",
       "    <tr>\n",
       "      <th>50</th>\n",
       "      <td>Femenino</td>\n",
       "      <td>45 kg</td>\n",
       "      <td>2019-04-06</td>\n",
       "      <td>Plata</td>\n",
       "      <td>Ivana</td>\n",
       "      <td>Petrova</td>\n",
       "      <td>Bulgaria</td>\n",
       "      <td>69</td>\n",
       "      <td>89</td>\n",
       "      <td>158</td>\n",
       "    </tr>\n",
       "    <tr>\n",
       "      <th>70</th>\n",
       "      <td>Femenino</td>\n",
       "      <td>45 kg</td>\n",
       "      <td>2020-04-03</td>\n",
       "      <td>Plata</td>\n",
       "      <td>Ivana</td>\n",
       "      <td>Petrova</td>\n",
       "      <td>Bulgaria</td>\n",
       "      <td>67</td>\n",
       "      <td>85</td>\n",
       "      <td>152</td>\n",
       "    </tr>\n",
       "    <tr>\n",
       "      <th>90</th>\n",
       "      <td>Femenino</td>\n",
       "      <td>45 kg</td>\n",
       "      <td>2019-04-06</td>\n",
       "      <td>Bronce</td>\n",
       "      <td>Yuliya</td>\n",
       "      <td>Asayonak</td>\n",
       "      <td>Bielorrusia</td>\n",
       "      <td>69</td>\n",
       "      <td>81</td>\n",
       "      <td>150</td>\n",
       "    </tr>\n",
       "    <tr>\n",
       "      <th>110</th>\n",
       "      <td>Femenino</td>\n",
       "      <td>45 kg</td>\n",
       "      <td>2020-04-03</td>\n",
       "      <td>Bronce</td>\n",
       "      <td>Melisa</td>\n",
       "      <td>Güneş</td>\n",
       "      <td>Turquía</td>\n",
       "      <td>68</td>\n",
       "      <td>83</td>\n",
       "      <td>151</td>\n",
       "    </tr>\n",
       "    <tr>\n",
       "      <th>11</th>\n",
       "      <td>Femenino</td>\n",
       "      <td>49 kg</td>\n",
       "      <td>2019-04-06</td>\n",
       "      <td>Oro</td>\n",
       "      <td>Elena</td>\n",
       "      <td>Andrieș</td>\n",
       "      <td>Rumania</td>\n",
       "      <td>87</td>\n",
       "      <td>103</td>\n",
       "      <td>190</td>\n",
       "    </tr>\n",
       "    <tr>\n",
       "      <th>31</th>\n",
       "      <td>Femenino</td>\n",
       "      <td>49 kg</td>\n",
       "      <td>2020-04-03</td>\n",
       "      <td>Oro</td>\n",
       "      <td>Monica</td>\n",
       "      <td>Csengeri</td>\n",
       "      <td>Rumania</td>\n",
       "      <td>86</td>\n",
       "      <td>103</td>\n",
       "      <td>189</td>\n",
       "    </tr>\n",
       "    <tr>\n",
       "      <th>51</th>\n",
       "      <td>Femenino</td>\n",
       "      <td>49 kg</td>\n",
       "      <td>2019-04-06</td>\n",
       "      <td>Plata</td>\n",
       "      <td>Kristina</td>\n",
       "      <td>Sobol</td>\n",
       "      <td>Rusia</td>\n",
       "      <td>85</td>\n",
       "      <td>95</td>\n",
       "      <td>180</td>\n",
       "    </tr>\n",
       "    <tr>\n",
       "      <th>71</th>\n",
       "      <td>Femenino</td>\n",
       "      <td>49 kg</td>\n",
       "      <td>2020-04-03</td>\n",
       "      <td>Plata</td>\n",
       "      <td>Kristina</td>\n",
       "      <td>Sobol</td>\n",
       "      <td>Rusia</td>\n",
       "      <td>85</td>\n",
       "      <td>96</td>\n",
       "      <td>181</td>\n",
       "    </tr>\n",
       "    <tr>\n",
       "      <th>91</th>\n",
       "      <td>Femenino</td>\n",
       "      <td>49 kg</td>\n",
       "      <td>2019-04-06</td>\n",
       "      <td>Bronce</td>\n",
       "      <td>Giorgia</td>\n",
       "      <td>Russo</td>\n",
       "      <td>Italia</td>\n",
       "      <td>75</td>\n",
       "      <td>103</td>\n",
       "      <td>178</td>\n",
       "    </tr>\n",
       "    <tr>\n",
       "      <th>111</th>\n",
       "      <td>Femenino</td>\n",
       "      <td>49 kg</td>\n",
       "      <td>2020-04-03</td>\n",
       "      <td>Bronce</td>\n",
       "      <td>Mihaela</td>\n",
       "      <td>Cambei</td>\n",
       "      <td>Rumania</td>\n",
       "      <td>80</td>\n",
       "      <td>100</td>\n",
       "      <td>180</td>\n",
       "    </tr>\n",
       "    <tr>\n",
       "      <th>12</th>\n",
       "      <td>Femenino</td>\n",
       "      <td>55 kg</td>\n",
       "      <td>2019-04-07</td>\n",
       "      <td>Oro</td>\n",
       "      <td>Joanna</td>\n",
       "      <td>Łochowska</td>\n",
       "      <td>Polonia</td>\n",
       "      <td>87</td>\n",
       "      <td>112</td>\n",
       "      <td>199</td>\n",
       "    </tr>\n",
       "    <tr>\n",
       "      <th>32</th>\n",
       "      <td>Femenino</td>\n",
       "      <td>55 kg</td>\n",
       "      <td>2020-04-04</td>\n",
       "      <td>Oro</td>\n",
       "      <td>Kamila</td>\n",
       "      <td>Konotop</td>\n",
       "      <td>Ucrania</td>\n",
       "      <td>95</td>\n",
       "      <td>113</td>\n",
       "      <td>208</td>\n",
       "    </tr>\n",
       "    <tr>\n",
       "      <th>52</th>\n",
       "      <td>Femenino</td>\n",
       "      <td>55 kg</td>\n",
       "      <td>2019-04-07</td>\n",
       "      <td>Plata</td>\n",
       "      <td>Svetlana</td>\n",
       "      <td>Yershova</td>\n",
       "      <td>Rusia</td>\n",
       "      <td>90</td>\n",
       "      <td>108</td>\n",
       "      <td>198</td>\n",
       "    </tr>\n",
       "    <tr>\n",
       "      <th>72</th>\n",
       "      <td>Femenino</td>\n",
       "      <td>55 kg</td>\n",
       "      <td>2020-04-04</td>\n",
       "      <td>Plata</td>\n",
       "      <td>Svetlana</td>\n",
       "      <td>Yershova</td>\n",
       "      <td>Rusia</td>\n",
       "      <td>88</td>\n",
       "      <td>112</td>\n",
       "      <td>200</td>\n",
       "    </tr>\n",
       "    <tr>\n",
       "      <th>92</th>\n",
       "      <td>Femenino</td>\n",
       "      <td>55 kg</td>\n",
       "      <td>2019-04-07</td>\n",
       "      <td>Bronce</td>\n",
       "      <td>Kristina</td>\n",
       "      <td>Novitskaya</td>\n",
       "      <td>Rusia</td>\n",
       "      <td>85</td>\n",
       "      <td>105</td>\n",
       "      <td>190</td>\n",
       "    </tr>\n",
       "    <tr>\n",
       "      <th>112</th>\n",
       "      <td>Femenino</td>\n",
       "      <td>55 kg</td>\n",
       "      <td>2020-04-04</td>\n",
       "      <td>Bronce</td>\n",
       "      <td>Nina</td>\n",
       "      <td>Sterckx</td>\n",
       "      <td>Bélgica</td>\n",
       "      <td>88</td>\n",
       "      <td>109</td>\n",
       "      <td>197</td>\n",
       "    </tr>\n",
       "    <tr>\n",
       "      <th>13</th>\n",
       "      <td>Femenino</td>\n",
       "      <td>59 kg</td>\n",
       "      <td>2019-04-08</td>\n",
       "      <td>Oro</td>\n",
       "      <td>Rebeka</td>\n",
       "      <td>Koha</td>\n",
       "      <td>Letonia</td>\n",
       "      <td>101</td>\n",
       "      <td>120</td>\n",
       "      <td>221</td>\n",
       "    </tr>\n",
       "    <tr>\n",
       "      <th>33</th>\n",
       "      <td>Femenino</td>\n",
       "      <td>59 kg</td>\n",
       "      <td>2020-04-05</td>\n",
       "      <td>Oro</td>\n",
       "      <td>Boyanka</td>\n",
       "      <td>Kostova</td>\n",
       "      <td>Azerbaiyán</td>\n",
       "      <td>95</td>\n",
       "      <td>116</td>\n",
       "      <td>211</td>\n",
       "    </tr>\n",
       "  </tbody>\n",
       "</table>\n",
       "</div>"
      ],
      "text/plain": [
       "       Genero Categoría      Fecha Medalla    Nombre    Apellido         País  \\\n",
       "10   Femenino     45 kg 2019-04-06     Oro    Şaziye     Erdoğan      Turquía   \n",
       "30   Femenino     45 kg 2020-04-03     Oro  Nadezhda       Nguen     Bulgaria   \n",
       "50   Femenino     45 kg 2019-04-06   Plata     Ivana     Petrova     Bulgaria   \n",
       "70   Femenino     45 kg 2020-04-03   Plata     Ivana     Petrova     Bulgaria   \n",
       "90   Femenino     45 kg 2019-04-06  Bronce    Yuliya    Asayonak  Bielorrusia   \n",
       "110  Femenino     45 kg 2020-04-03  Bronce    Melisa       Güneş      Turquía   \n",
       "11   Femenino     49 kg 2019-04-06     Oro     Elena     Andrieș      Rumania   \n",
       "31   Femenino     49 kg 2020-04-03     Oro    Monica    Csengeri      Rumania   \n",
       "51   Femenino     49 kg 2019-04-06   Plata  Kristina       Sobol        Rusia   \n",
       "71   Femenino     49 kg 2020-04-03   Plata  Kristina       Sobol        Rusia   \n",
       "91   Femenino     49 kg 2019-04-06  Bronce   Giorgia       Russo       Italia   \n",
       "111  Femenino     49 kg 2020-04-03  Bronce   Mihaela      Cambei      Rumania   \n",
       "12   Femenino     55 kg 2019-04-07     Oro    Joanna   Łochowska      Polonia   \n",
       "32   Femenino     55 kg 2020-04-04     Oro    Kamila     Konotop      Ucrania   \n",
       "52   Femenino     55 kg 2019-04-07   Plata  Svetlana    Yershova        Rusia   \n",
       "72   Femenino     55 kg 2020-04-04   Plata  Svetlana    Yershova        Rusia   \n",
       "92   Femenino     55 kg 2019-04-07  Bronce  Kristina  Novitskaya        Rusia   \n",
       "112  Femenino     55 kg 2020-04-04  Bronce      Nina     Sterckx      Bélgica   \n",
       "13   Femenino     59 kg 2019-04-08     Oro    Rebeka        Koha      Letonia   \n",
       "33   Femenino     59 kg 2020-04-05     Oro   Boyanka     Kostova   Azerbaiyán   \n",
       "\n",
       "     Arrancada  Dos Tiempos  Total  \n",
       "10          75           88    163  \n",
       "30          72           83    155  \n",
       "50          69           89    158  \n",
       "70          67           85    152  \n",
       "90          69           81    150  \n",
       "110         68           83    151  \n",
       "11          87          103    190  \n",
       "31          86          103    189  \n",
       "51          85           95    180  \n",
       "71          85           96    181  \n",
       "91          75          103    178  \n",
       "111         80          100    180  \n",
       "12          87          112    199  \n",
       "32          95          113    208  \n",
       "52          90          108    198  \n",
       "72          88          112    200  \n",
       "92          85          105    190  \n",
       "112         88          109    197  \n",
       "13         101          120    221  \n",
       "33          95          116    211  "
      ]
     },
     "execution_count": 50,
     "metadata": {},
     "output_type": "execute_result"
    }
   ],
   "source": [
    "# Ordenamos el DataFrame por las columnas 'Genero', 'Categoría' y 'Medalla' tal como nos han solicitado\n",
    "df_columnas_orden = df_columnas_.sort_values(by=['Genero', 'Categoría', 'Medalla'])\n",
    "df_columnas_orden.head(20)"
   ]
  },
  {
   "cell_type": "markdown",
   "id": "7d6a887b",
   "metadata": {},
   "source": [
    "## <span style=\"color: #2A8E3C;\"> Paso 10. EDA </span>\n",
    "\n",
    "Realizamos un análisis exploratorio de los datos."
   ]
  },
  {
   "cell_type": "code",
   "execution_count": 51,
   "id": "6c885ad7",
   "metadata": {},
   "outputs": [],
   "source": [
    "colores = [\n",
    "    \"#32A845\",  # verde brillante\n",
    "    \"#2A8E3C\",  # verde oliva\n",
    "    \"#FFCC00\",  # amarillo brillante\n",
    "    \"#E3B800\"   # amarillo dorado\n",
    "]\n",
    "\n",
    "# Establecer la paleta de colores para Seaborn\n",
    "sns.set_palette(colores)"
   ]
  },
  {
   "cell_type": "code",
   "execution_count": 52,
   "id": "eaf5f88d",
   "metadata": {},
   "outputs": [],
   "source": [
    "def deteccion_outliers (df, variable):\n",
    "    \n",
    "    columna = df[variable]\n",
    "\n",
    "    sns.boxplot(\n",
    "      data=df,\n",
    "      y=variable,\n",
    "    )\n",
    "    plt.show()\n",
    "\n",
    "    Q1 = columna.quantile(0.25)\n",
    "    Q3 = columna.quantile(0.75)\n",
    "    IQR = Q3 - Q1\n",
    "\n",
    "    print('Valor del segundo cuartil (25%): {:.2f}'.format(Q1))\n",
    "    print('Valor del tercer cuartil (75%): {:.2f}'.format(Q3))\n",
    "    print('Valor del rango intercuartil (IQR): {:.2f}'.format(IQR))\n",
    "\n",
    "    limite_inferior = Q1 - 1.5 * IQR\n",
    "    limite_superior = Q3 + 1.5 * IQR\n",
    "\n",
    "    print(f\"Los valores atípicos se definen como aquellos que caen fuera del siguiente rango:\")\n",
    "    print(f\"\\t - Límite inferior (considerado extremadamente bajo): {limite_inferior:.2f}\")\n",
    "    print(f\"\\t - Límite superior (considerado extremadamente alto): {limite_superior:.2f}\")\n",
    "\n",
    "\n",
    "    outliers = list(columna[((columna < limite_inferior) | (columna > limite_superior))].index)\n",
    "    num_outliers = len(outliers)\n",
    "    print(f\"Hay {num_outliers} outliers en la variable '{variable}'\")\n",
    "    return outliers"
   ]
  },
  {
   "cell_type": "code",
   "execution_count": 53,
   "id": "29e45f85",
   "metadata": {},
   "outputs": [
    {
     "data": {
      "image/png": "[encoded data removed]",
      "text/plain": [
       "<Figure size 640x480 with 1 Axes>"
      ]
     },
     "metadata": {},
     "output_type": "display_data"
    },
    {
     "name": "stdout",
     "output_type": "stream",
     "text": [
      "Valor del segundo cuartil (25%): 221.75\n",
      "Valor del tercer cuartil (75%): 366.00\n",
      "Valor del rango intercuartil (IQR): 144.25\n",
      "Los valores atípicos se definen como aquellos que caen fuera del siguiente rango:\n",
      "\t - Límite inferior (considerado extremadamente bajo): 5.38\n",
      "\t - Límite superior (considerado extremadamente alto): 582.38\n",
      "Hay 0 outliers en la variable 'Total'\n"
     ]
    },
    {
     "data": {
      "text/plain": [
       "[]"
      ]
     },
     "execution_count": 53,
     "metadata": {},
     "output_type": "execute_result"
    }
   ],
   "source": [
    "deteccion_outliers(df = df_columnas_, variable = 'Total')"
   ]
  },
  {
   "cell_type": "code",
   "execution_count": 56,
   "id": "ffadcb57",
   "metadata": {},
   "outputs": [],
   "source": [
    "def graficar_boxplot_bivariable_px(df, variable_analisis, variable_categorica):\n",
    "    # Calcular el orden de las categorías basado en la media de 'variable_analisis' para cada categoría\n",
    "    orden_categorias = df.groupby(variable_categorica)[variable_analisis].mean().sort_values(ascending=False).index.tolist()\n",
    "\n",
    "    # Crear el boxplot usando Plotly Express, especificando el orden de las categorías\n",
    "    fig = px.box(df, x=variable_categorica, y=variable_analisis, color=variable_categorica,\n",
    "                 category_orders={variable_categorica: orden_categorias})\n",
    "\n",
    "    # Actualizar títulos del gráfico\n",
    "    fig.update_layout(title=f'Boxplot de {variable_analisis} por {variable_categorica}',\n",
    "                      xaxis_title=variable_categorica,\n",
    "                      yaxis_title=variable_analisis)\n",
    "\n",
    "    # Actualizar el fondo del gráfico a blanco\n",
    "    fig.update_layout({\n",
    "        'plot_bgcolor': 'rgba(255, 255, 255, 1)',\n",
    "        'xaxis': {'showgrid': True, 'gridcolor': 'lightgrey'},\n",
    "        'yaxis': {'showgrid': True, 'gridcolor': 'lightgrey'}\n",
    "    })\n",
    "\n",
    "    # Mostrar el gráfico\n",
    "    fig.show()\n"
   ]
  },
  {
   "cell_type": "code",
   "execution_count": 57,
   "id": "184f64b8",
   "metadata": {},
   "outputs": [
    {
     "data": {
      "application/vnd.plotly.v1+json": {
       "config": {
        "plotlyServerURL": "https://plot.ly"
       },
       "data": [
        {
         "alignmentgroup": "True",
         "hovertemplate": "País=%{x}<br>Total=%{y}<extra></extra>",
         "legendgroup": "Georgia",
         "marker": {
          "color": "#636efa"
         },
         "name": "Georgia",
         "notched": false,
         "offsetgroup": "Georgia",
         "orientation": "v",
         "showlegend": true,
         "type": "box",
         "x": [
          "Georgia",
          "Georgia",
          "Georgia",
          "Georgia",
          "Georgia",
          "Georgia",
          "Georgia",
          "Georgia",
          "Georgia"
         ],
         "x0": " ",
         "xaxis": "x",
         "y": [
          290,
          308,
          370,
          374,
          393,
          377,
          478,
          485,
          447
         ],
         "y0": " ",
         "yaxis": "y"
        },
        {
         "alignmentgroup": "True",
         "hovertemplate": "País=%{x}<br>Total=%{y}<extra></extra>",
         "legendgroup": "Armenia",
         "marker": {
          "color": "#EF553B"
         },
         "name": "Armenia",
         "notched": false,
         "offsetgroup": "Armenia",
         "orientation": "v",
         "showlegend": true,
         "type": "box",
         "x": [
          "Armenia",
          "Armenia",
          "Armenia",
          "Armenia",
          "Armenia",
          "Armenia",
          "Armenia",
          "Armenia",
          "Armenia",
          "Armenia",
          "Armenia",
          "Armenia",
          "Armenia",
          "Armenia"
         ],
         "x0": " ",
         "xaxis": "x",
         "y": [
          217,
          227,
          371,
          375,
          360,
          365,
          372,
          390,
          377,
          380,
          427,
          464,
          440,
          445
         ],
         "y0": " ",
         "yaxis": "y"
        },
        {
         "alignmentgroup": "True",
         "hovertemplate": "País=%{x}<br>Total=%{y}<extra></extra>",
         "legendgroup": "Albania",
         "marker": {
          "color": "#00cc96"
         },
         "name": "Albania",
         "notched": false,
         "offsetgroup": "Albania",
         "orientation": "v",
         "showlegend": true,
         "type": "box",
         "x": [
          "Albania",
          "Albania"
         ],
         "x0": " ",
         "xaxis": "x",
         "y": [
          339,
          336
         ],
         "y0": " ",
         "yaxis": "y"
        },
        {
         "alignmentgroup": "True",
         "hovertemplate": "País=%{x}<br>Total=%{y}<extra></extra>",
         "legendgroup": "Bielorrusia",
         "marker": {
          "color": "#ab63fa"
         },
         "name": "Bielorrusia",
         "notched": false,
         "offsetgroup": "Bielorrusia",
         "orientation": "v",
         "showlegend": true,
         "type": "box",
         "x": [
          "Bielorrusia",
          "Bielorrusia",
          "Bielorrusia",
          "Bielorrusia",
          "Bielorrusia",
          "Bielorrusia",
          "Bielorrusia",
          "Bielorrusia",
          "Bielorrusia"
         ],
         "x0": " ",
         "xaxis": "x",
         "y": [
          150,
          242,
          286,
          335,
          355,
          400,
          374,
          376,
          411
         ],
         "y0": " ",
         "yaxis": "y"
        },
        {
         "alignmentgroup": "True",
         "hovertemplate": "País=%{x}<br>Total=%{y}<extra></extra>",
         "legendgroup": "Letonia",
         "marker": {
          "color": "#FFA15A"
         },
         "name": "Letonia",
         "notched": false,
         "offsetgroup": "Letonia",
         "orientation": "v",
         "showlegend": true,
         "type": "box",
         "x": [
          "Letonia",
          "Letonia",
          "Letonia"
         ],
         "x0": " ",
         "xaxis": "x",
         "y": [
          221,
          354,
          347
         ],
         "y0": " ",
         "yaxis": "y"
        },
        {
         "alignmentgroup": "True",
         "hovertemplate": "País=%{x}<br>Total=%{y}<extra></extra>",
         "legendgroup": "Azerbaiyán",
         "marker": {
          "color": "#19d3f3"
         },
         "name": "Azerbaiyán",
         "notched": false,
         "offsetgroup": "Azerbaiyán",
         "orientation": "v",
         "showlegend": true,
         "type": "box",
         "x": [
          "Azerbaiyán",
          "Azerbaiyán"
         ],
         "x0": " ",
         "xaxis": "x",
         "y": [
          211,
          379
         ],
         "y0": " ",
         "yaxis": "y"
        },
        {
         "alignmentgroup": "True",
         "hovertemplate": "País=%{x}<br>Total=%{y}<extra></extra>",
         "legendgroup": "Moldavia",
         "marker": {
          "color": "#FF6692"
         },
         "name": "Moldavia",
         "notched": false,
         "offsetgroup": "Moldavia",
         "orientation": "v",
         "showlegend": true,
         "type": "box",
         "x": [
          "Moldavia",
          "Moldavia"
         ],
         "x0": " ",
         "xaxis": "x",
         "y": [
          245,
          339
         ],
         "y0": " ",
         "yaxis": "y"
        },
        {
         "alignmentgroup": "True",
         "hovertemplate": "País=%{x}<br>Total=%{y}<extra></extra>",
         "legendgroup": "Italia",
         "marker": {
          "color": "#B6E880"
         },
         "name": "Italia",
         "notched": false,
         "offsetgroup": "Italia",
         "orientation": "v",
         "showlegend": true,
         "type": "box",
         "x": [
          "Italia",
          "Italia",
          "Italia",
          "Italia",
          "Italia",
          "Italia"
         ],
         "x0": " ",
         "xaxis": "x",
         "y": [
          178,
          219,
          261,
          318,
          356,
          370
         ],
         "y0": " ",
         "yaxis": "y"
        },
        {
         "alignmentgroup": "True",
         "hovertemplate": "País=%{x}<br>Total=%{y}<extra></extra>",
         "legendgroup": "Ucrania",
         "marker": {
          "color": "#FF97FF"
         },
         "name": "Ucrania",
         "notched": false,
         "offsetgroup": "Ucrania",
         "orientation": "v",
         "showlegend": true,
         "type": "box",
         "x": [
          "Ucrania",
          "Ucrania",
          "Ucrania",
          "Ucrania",
          "Ucrania",
          "Ucrania",
          "Ucrania",
          "Ucrania"
         ],
         "x0": " ",
         "xaxis": "x",
         "y": [
          208,
          248,
          236,
          268,
          252,
          247,
          391,
          407
         ],
         "y0": " ",
         "yaxis": "y"
        },
        {
         "alignmentgroup": "True",
         "hovertemplate": "País=%{x}<br>Total=%{y}<extra></extra>",
         "legendgroup": "Bulgaria",
         "marker": {
          "color": "#FECB52"
         },
         "name": "Bulgaria",
         "notched": false,
         "offsetgroup": "Bulgaria",
         "orientation": "v",
         "showlegend": true,
         "type": "box",
         "x": [
          "Bulgaria",
          "Bulgaria",
          "Bulgaria",
          "Bulgaria",
          "Bulgaria",
          "Bulgaria",
          "Bulgaria",
          "Bulgaria",
          "Bulgaria",
          "Bulgaria"
         ],
         "x0": " ",
         "xaxis": "x",
         "y": [
          155,
          158,
          152,
          258,
          256,
          296,
          315,
          345,
          369,
          406
         ],
         "y0": " ",
         "yaxis": "y"
        },
        {
         "alignmentgroup": "True",
         "hovertemplate": "País=%{x}<br>Total=%{y}<extra></extra>",
         "legendgroup": "Alemania",
         "marker": {
          "color": "#636efa"
         },
         "name": "Alemania",
         "notched": false,
         "offsetgroup": "Alemania",
         "orientation": "v",
         "showlegend": true,
         "type": "box",
         "x": [
          "Alemania",
          "Alemania"
         ],
         "x0": " ",
         "xaxis": "x",
         "y": [
          222,
          311
         ],
         "y0": " ",
         "yaxis": "y"
        },
        {
         "alignmentgroup": "True",
         "hovertemplate": "País=%{x}<br>Total=%{y}<extra></extra>",
         "legendgroup": "Turquía",
         "marker": {
          "color": "#EF553B"
         },
         "name": "Turquía",
         "notched": false,
         "offsetgroup": "Turquía",
         "orientation": "v",
         "showlegend": true,
         "type": "box",
         "x": [
          "Turquía",
          "Turquía",
          "Turquía",
          "Turquía",
          "Turquía",
          "Turquía",
          "Turquía",
          "Turquía",
          "Turquía"
         ],
         "x0": " ",
         "xaxis": "x",
         "y": [
          163,
          151,
          243,
          247,
          283,
          282,
          287,
          323,
          341
         ],
         "y0": " ",
         "yaxis": "y"
        },
        {
         "alignmentgroup": "True",
         "hovertemplate": "País=%{x}<br>Total=%{y}<extra></extra>",
         "legendgroup": "Rusia",
         "marker": {
          "color": "#00cc96"
         },
         "name": "Rusia",
         "notched": false,
         "offsetgroup": "Rusia",
         "orientation": "v",
         "showlegend": true,
         "type": "box",
         "x": [
          "Rusia",
          "Rusia",
          "Rusia",
          "Rusia",
          "Rusia",
          "Rusia",
          "Rusia",
          "Rusia",
          "Rusia",
          "Rusia",
          "Rusia",
          "Rusia",
          "Rusia",
          "Rusia",
          "Rusia",
          "Rusia",
          "Rusia",
          "Rusia",
          "Rusia",
          "Rusia"
         ],
         "x0": " ",
         "xaxis": "x",
         "y": [
          180,
          181,
          198,
          200,
          190,
          214,
          210,
          213,
          222,
          240,
          246,
          243,
          242,
          246,
          240,
          240,
          331,
          378,
          410,
          401
         ],
         "y0": " ",
         "yaxis": "y"
        },
        {
         "alignmentgroup": "True",
         "hovertemplate": "País=%{x}<br>Total=%{y}<extra></extra>",
         "legendgroup": "Francia",
         "marker": {
          "color": "#ab63fa"
         },
         "name": "Francia",
         "notched": false,
         "offsetgroup": "Francia",
         "orientation": "v",
         "showlegend": true,
         "type": "box",
         "x": [
          "Francia",
          "Francia",
          "Francia"
         ],
         "x0": " ",
         "xaxis": "x",
         "y": [
          210,
          231,
          312
         ],
         "y0": " ",
         "yaxis": "y"
        },
        {
         "alignmentgroup": "True",
         "hovertemplate": "País=%{x}<br>Total=%{y}<extra></extra>",
         "legendgroup": "España",
         "marker": {
          "color": "#FFA15A"
         },
         "name": "España",
         "notched": false,
         "offsetgroup": "España",
         "orientation": "v",
         "showlegend": true,
         "type": "box",
         "x": [
          "España"
         ],
         "x0": " ",
         "xaxis": "x",
         "y": [
          241
         ],
         "y0": " ",
         "yaxis": "y"
        },
        {
         "alignmentgroup": "True",
         "hovertemplate": "País=%{x}<br>Total=%{y}<extra></extra>",
         "legendgroup": "Reino Unido",
         "marker": {
          "color": "#19d3f3"
         },
         "name": "Reino Unido",
         "notched": false,
         "offsetgroup": "Reino Unido",
         "orientation": "v",
         "showlegend": true,
         "type": "box",
         "x": [
          "Reino Unido",
          "Reino Unido",
          "Reino Unido",
          "Reino Unido",
          "Reino Unido",
          "Reino Unido"
         ],
         "x0": " ",
         "xaxis": "x",
         "y": [
          230,
          224,
          227,
          216,
          276,
          260
         ],
         "y0": " ",
         "yaxis": "y"
        },
        {
         "alignmentgroup": "True",
         "hovertemplate": "País=%{x}<br>Total=%{y}<extra></extra>",
         "legendgroup": "Suecia",
         "marker": {
          "color": "#FF6692"
         },
         "name": "Suecia",
         "notched": false,
         "offsetgroup": "Suecia",
         "orientation": "v",
         "showlegend": true,
         "type": "box",
         "x": [
          "Suecia"
         ],
         "x0": " ",
         "xaxis": "x",
         "y": [
          233
         ],
         "y0": " ",
         "yaxis": "y"
        },
        {
         "alignmentgroup": "True",
         "hovertemplate": "País=%{x}<br>Total=%{y}<extra></extra>",
         "legendgroup": "Austria",
         "marker": {
          "color": "#B6E880"
         },
         "name": "Austria",
         "notched": false,
         "offsetgroup": "Austria",
         "orientation": "v",
         "showlegend": true,
         "type": "box",
         "x": [
          "Austria"
         ],
         "x0": " ",
         "xaxis": "x",
         "y": [
          231
         ],
         "y0": " ",
         "yaxis": "y"
        },
        {
         "alignmentgroup": "True",
         "hovertemplate": "País=%{x}<br>Total=%{y}<extra></extra>",
         "legendgroup": "Rumania",
         "marker": {
          "color": "#FF97FF"
         },
         "name": "Rumania",
         "notched": false,
         "offsetgroup": "Rumania",
         "orientation": "v",
         "showlegend": true,
         "type": "box",
         "x": [
          "Rumania",
          "Rumania",
          "Rumania",
          "Rumania",
          "Rumania",
          "Rumania",
          "Rumania",
          "Rumania",
          "Rumania"
         ],
         "x0": " ",
         "xaxis": "x",
         "y": [
          190,
          189,
          180,
          239,
          244,
          229,
          215,
          218,
          248
         ],
         "y0": " ",
         "yaxis": "y"
        },
        {
         "alignmentgroup": "True",
         "hovertemplate": "País=%{x}<br>Total=%{y}<extra></extra>",
         "legendgroup": "Bélgica",
         "marker": {
          "color": "#FECB52"
         },
         "name": "Bélgica",
         "notched": false,
         "offsetgroup": "Bélgica",
         "orientation": "v",
         "showlegend": true,
         "type": "box",
         "x": [
          "Bélgica",
          "Bélgica"
         ],
         "x0": " ",
         "xaxis": "x",
         "y": [
          197,
          221
         ],
         "y0": " ",
         "yaxis": "y"
        },
        {
         "alignmentgroup": "True",
         "hovertemplate": "País=%{x}<br>Total=%{y}<extra></extra>",
         "legendgroup": "Polonia",
         "marker": {
          "color": "#636efa"
         },
         "name": "Polonia",
         "notched": false,
         "offsetgroup": "Polonia",
         "orientation": "v",
         "showlegend": true,
         "type": "box",
         "x": [
          "Polonia"
         ],
         "x0": " ",
         "xaxis": "x",
         "y": [
          199
         ],
         "y0": " ",
         "yaxis": "y"
        }
       ],
       "layout": {
        "boxmode": "overlay",
        "legend": {
         "title": {
          "text": "País"
         },
         "tracegroupgap": 0
        },
        "margin": {
         "t": 60
        },
        "plot_bgcolor": "rgba(255, 255, 255, 1)",
        "template": {
         "data": {
          "bar": [
           {
            "error_x": {
             "color": "#2a3f5f"
            },
            "error_y": {
             "color": "#2a3f5f"
            },
            "marker": {
             "line": {
              "color": "#E5ECF6",
              "width": 0.5
             },
             "pattern": {
              "fillmode": "overlay",
              "size": 10,
              "solidity": 0.2
             }
            },
            "type": "bar"
           }
          ],
          "barpolar": [
           {
            "marker": {
             "line": {
              "color": "#E5ECF6",
              "width": 0.5
             },
             "pattern": {
              "fillmode": "overlay",
              "size": 10,
              "solidity": 0.2
             }
            },
            "type": "barpolar"
           }
          ],
          "carpet": [
           {
            "aaxis": {
             "endlinecolor": "#2a3f5f",
             "gridcolor": "white",
             "linecolor": "white",
             "minorgridcolor": "white",
             "startlinecolor": "#2a3f5f"
            },
            "baxis": {
             "endlinecolor": "#2a3f5f",
             "gridcolor": "white",
             "linecolor": "white",
             "minorgridcolor": "white",
             "startlinecolor": "#2a3f5f"
            },
            "type": "carpet"
           }
          ],
          "choropleth": [
           {
            "colorbar": {
             "outlinewidth": 0,
             "ticks": ""
            },
            "type": "choropleth"
           }
          ],
          "contour": [
           {
            "colorbar": {
             "outlinewidth": 0,
             "ticks": ""
            },
            "colorscale": [
             [
              0,
              "#0d0887"
             ],
             [
              0.1111111111111111,
              "#46039f"
             ],
             [
              0.2222222222222222,
              "#7201a8"
             ],
             [
              0.3333333333333333,
              "#9c179e"
             ],
             [
              0.4444444444444444,
              "#bd3786"
             ],
             [
              0.5555555555555556,
              "#d8576b"
             ],
             [
              0.6666666666666666,
              "#ed7953"
             ],
             [
              0.7777777777777778,
              "#fb9f3a"
             ],
             [
              0.8888888888888888,
              "#fdca26"
             ],
             [
              1,
              "#f0f921"
             ]
            ],
            "type": "contour"
           }
          ],
          "contourcarpet": [
           {
            "colorbar": {
             "outlinewidth": 0,
             "ticks": ""
            },
            "type": "contourcarpet"
           }
          ],
          "heatmap": [
           {
            "colorbar": {
             "outlinewidth": 0,
             "ticks": ""
            },
            "colorscale": [
             [
              0,
              "#0d0887"
             ],
             [
              0.1111111111111111,
              "#46039f"
             ],
             [
              0.2222222222222222,
              "#7201a8"
             ],
             [
              0.3333333333333333,
              "#9c179e"
             ],
             [
              0.4444444444444444,
              "#bd3786"
             ],
             [
              0.5555555555555556,
              "#d8576b"
             ],
             [
              0.6666666666666666,
              "#ed7953"
             ],
             [
              0.7777777777777778,
              "#fb9f3a"
             ],
             [
              0.8888888888888888,
              "#fdca26"
             ],
             [
              1,
              "#f0f921"
             ]
            ],
            "type": "heatmap"
           }
          ],
          "heatmapgl": [
           {
            "colorbar": {
             "outlinewidth": 0,
             "ticks": ""
            },
            "colorscale": [
             [
              0,
              "#0d0887"
             ],
             [
              0.1111111111111111,
              "#46039f"
             ],
             [
              0.2222222222222222,
              "#7201a8"
             ],
             [
              0.3333333333333333,
              "#9c179e"
             ],
             [
              0.4444444444444444,
              "#bd3786"
             ],
             [
              0.5555555555555556,
              "#d8576b"
             ],
             [
              0.6666666666666666,
              "#ed7953"
             ],
             [
              0.7777777777777778,
              "#fb9f3a"
             ],
             [
              0.8888888888888888,
              "#fdca26"
             ],
             [
              1,
              "#f0f921"
             ]
            ],
            "type": "heatmapgl"
           }
          ],
          "histogram": [
           {
            "marker": {
             "pattern": {
              "fillmode": "overlay",
              "size": 10,
              "solidity": 0.2
             }
            },
            "type": "histogram"
           }
          ],
          "histogram2d": [
           {
            "colorbar": {
             "outlinewidth": 0,
             "ticks": ""
            },
            "colorscale": [
             [
              0,
              "#0d0887"
             ],
             [
              0.1111111111111111,
              "#46039f"
             ],
             [
              0.2222222222222222,
              "#7201a8"
             ],
             [
              0.3333333333333333,
              "#9c179e"
             ],
             [
              0.4444444444444444,
              "#bd3786"
             ],
             [
              0.5555555555555556,
              "#d8576b"
             ],
             [
              0.6666666666666666,
              "#ed7953"
             ],
             [
              0.7777777777777778,
              "#fb9f3a"
             ],
             [
              0.8888888888888888,
              "#fdca26"
             ],
             [
              1,
              "#f0f921"
             ]
            ],
            "type": "histogram2d"
           }
          ],
          "histogram2dcontour": [
           {
            "colorbar": {
             "outlinewidth": 0,
             "ticks": ""
            },
            "colorscale": [
             [
              0,
              "#0d0887"
             ],
             [
              0.1111111111111111,
              "#46039f"
             ],
             [
              0.2222222222222222,
              "#7201a8"
             ],
             [
              0.3333333333333333,
              "#9c179e"
             ],
             [
              0.4444444444444444,
              "#bd3786"
             ],
             [
              0.5555555555555556,
              "#d8576b"
             ],
             [
              0.6666666666666666,
              "#ed7953"
             ],
             [
              0.7777777777777778,
              "#fb9f3a"
             ],
             [
              0.8888888888888888,
              "#fdca26"
             ],
             [
              1,
              "#f0f921"
             ]
            ],
            "type": "histogram2dcontour"
           }
          ],
          "mesh3d": [
           {
            "colorbar": {
             "outlinewidth": 0,
             "ticks": ""
            },
            "type": "mesh3d"
           }
          ],
          "parcoords": [
           {
            "line": {
             "colorbar": {
              "outlinewidth": 0,
              "ticks": ""
             }
            },
            "type": "parcoords"
           }
          ],
          "pie": [
           {
            "automargin": true,
            "type": "pie"
           }
          ],
          "scatter": [
           {
            "fillpattern": {
             "fillmode": "overlay",
             "size": 10,
             "solidity": 0.2
            },
            "type": "scatter"
           }
          ],
          "scatter3d": [
           {
            "line": {
             "colorbar": {
              "outlinewidth": 0,
              "ticks": ""
             }
            },
            "marker": {
             "colorbar": {
              "outlinewidth": 0,
              "ticks": ""
             }
            },
            "type": "scatter3d"
           }
          ],
          "scattercarpet": [
           {
            "marker": {
             "colorbar": {
              "outlinewidth": 0,
              "ticks": ""
             }
            },
            "type": "scattercarpet"
           }
          ],
          "scattergeo": [
           {
            "marker": {
             "colorbar": {
              "outlinewidth": 0,
              "ticks": ""
             }
            },
            "type": "scattergeo"
           }
          ],
          "scattergl": [
           {
            "marker": {
             "colorbar": {
              "outlinewidth": 0,
              "ticks": ""
             }
            },
            "type": "scattergl"
           }
          ],
          "scattermapbox": [
           {
            "marker": {
             "colorbar": {
              "outlinewidth": 0,
              "ticks": ""
             }
            },
            "type": "scattermapbox"
           }
          ],
          "scatterpolar": [
           {
            "marker": {
             "colorbar": {
              "outlinewidth": 0,
              "ticks": ""
             }
            },
            "type": "scatterpolar"
           }
          ],
          "scatterpolargl": [
           {
            "marker": {
             "colorbar": {
              "outlinewidth": 0,
              "ticks": ""
             }
            },
            "type": "scatterpolargl"
           }
          ],
          "scatterternary": [
           {
            "marker": {
             "colorbar": {
              "outlinewidth": 0,
              "ticks": ""
             }
            },
            "type": "scatterternary"
           }
          ],
          "surface": [
           {
            "colorbar": {
             "outlinewidth": 0,
             "ticks": ""
            },
            "colorscale": [
             [
              0,
              "#0d0887"
             ],
             [
              0.1111111111111111,
              "#46039f"
             ],
             [
              0.2222222222222222,
              "#7201a8"
             ],
             [
              0.3333333333333333,
              "#9c179e"
             ],
             [
              0.4444444444444444,
              "#bd3786"
             ],
             [
              0.5555555555555556,
              "#d8576b"
             ],
             [
              0.6666666666666666,
              "#ed7953"
             ],
             [
              0.7777777777777778,
              "#fb9f3a"
             ],
             [
              0.8888888888888888,
              "#fdca26"
             ],
             [
              1,
              "#f0f921"
             ]
            ],
            "type": "surface"
           }
          ],
          "table": [
           {
            "cells": {
             "fill": {
              "color": "#EBF0F8"
             },
             "line": {
              "color": "white"
             }
            },
            "header": {
             "fill": {
              "color": "#C8D4E3"
             },
             "line": {
              "color": "white"
             }
            },
            "type": "table"
           }
          ]
         },
         "layout": {
          "annotationdefaults": {
           "arrowcolor": "#2a3f5f",
           "arrowhead": 0,
           "arrowwidth": 1
          },
          "autotypenumbers": "strict",
          "coloraxis": {
           "colorbar": {
            "outlinewidth": 0,
            "ticks": ""
           }
          },
          "colorscale": {
           "diverging": [
            [
             0,
             "#8e0152"
            ],
            [
             0.1,
             "#c51b7d"
            ],
            [
             0.2,
             "#de77ae"
            ],
            [
             0.3,
             "#f1b6da"
            ],
            [
             0.4,
             "#fde0ef"
            ],
            [
             0.5,
             "#f7f7f7"
            ],
            [
             0.6,
             "#e6f5d0"
            ],
            [
             0.7,
             "#b8e186"
            ],
            [
             0.8,
             "#7fbc41"
            ],
            [
             0.9,
             "#4d9221"
            ],
            [
             1,
             "#276419"
            ]
           ],
           "sequential": [
            [
             0,
             "#0d0887"
            ],
            [
             0.1111111111111111,
             "#46039f"
            ],
            [
             0.2222222222222222,
             "#7201a8"
            ],
            [
             0.3333333333333333,
             "#9c179e"
            ],
            [
             0.4444444444444444,
             "#bd3786"
            ],
            [
             0.5555555555555556,
             "#d8576b"
            ],
            [
             0.6666666666666666,
             "#ed7953"
            ],
            [
             0.7777777777777778,
             "#fb9f3a"
            ],
            [
             0.8888888888888888,
             "#fdca26"
            ],
            [
             1,
             "#f0f921"
            ]
           ],
           "sequentialminus": [
            [
             0,
             "#0d0887"
            ],
            [
             0.1111111111111111,
             "#46039f"
            ],
            [
             0.2222222222222222,
             "#7201a8"
            ],
            [
             0.3333333333333333,
             "#9c179e"
            ],
            [
             0.4444444444444444,
             "#bd3786"
            ],
            [
             0.5555555555555556,
             "#d8576b"
            ],
            [
             0.6666666666666666,
             "#ed7953"
            ],
            [
             0.7777777777777778,
             "#fb9f3a"
            ],
            [
             0.8888888888888888,
             "#fdca26"
            ],
            [
             1,
             "#f0f921"
            ]
           ]
          },
          "colorway": [
           "#636efa",
           "#EF553B",
           "#00cc96",
           "#ab63fa",
           "#FFA15A",
           "#19d3f3",
           "#FF6692",
           "#B6E880",
           "#FF97FF",
           "#FECB52"
          ],
          "font": {
           "color": "#2a3f5f"
          },
          "geo": {
           "bgcolor": "white",
           "lakecolor": "white",
           "landcolor": "#E5ECF6",
           "showlakes": true,
           "showland": true,
           "subunitcolor": "white"
          },
          "hoverlabel": {
           "align": "left"
          },
          "hovermode": "closest",
          "mapbox": {
           "style": "light"
          },
          "paper_bgcolor": "white",
          "plot_bgcolor": "#E5ECF6",
          "polar": {
           "angularaxis": {
            "gridcolor": "white",
            "linecolor": "white",
            "ticks": ""
           },
           "bgcolor": "#E5ECF6",
           "radialaxis": {
            "gridcolor": "white",
            "linecolor": "white",
            "ticks": ""
           }
          },
          "scene": {
           "xaxis": {
            "backgroundcolor": "#E5ECF6",
            "gridcolor": "white",
            "gridwidth": 2,
            "linecolor": "white",
            "showbackground": true,
            "ticks": "",
            "zerolinecolor": "white"
           },
           "yaxis": {
            "backgroundcolor": "#E5ECF6",
            "gridcolor": "white",
            "gridwidth": 2,
            "linecolor": "white",
            "showbackground": true,
            "ticks": "",
            "zerolinecolor": "white"
           },
           "zaxis": {
            "backgroundcolor": "#E5ECF6",
            "gridcolor": "white",
            "gridwidth": 2,
            "linecolor": "white",
            "showbackground": true,
            "ticks": "",
            "zerolinecolor": "white"
           }
          },
          "shapedefaults": {
           "line": {
            "color": "#2a3f5f"
           }
          },
          "ternary": {
           "aaxis": {
            "gridcolor": "white",
            "linecolor": "white",
            "ticks": ""
           },
           "baxis": {
            "gridcolor": "white",
            "linecolor": "white",
            "ticks": ""
           },
           "bgcolor": "#E5ECF6",
           "caxis": {
            "gridcolor": "white",
            "linecolor": "white",
            "ticks": ""
           }
          },
          "title": {
           "x": 0.05
          },
          "xaxis": {
           "automargin": true,
           "gridcolor": "white",
           "linecolor": "white",
           "ticks": "",
           "title": {
            "standoff": 15
           },
           "zerolinecolor": "white",
           "zerolinewidth": 2
          },
          "yaxis": {
           "automargin": true,
           "gridcolor": "white",
           "linecolor": "white",
           "ticks": "",
           "title": {
            "standoff": 15
           },
           "zerolinecolor": "white",
           "zerolinewidth": 2
          }
         }
        },
        "title": {
         "text": "Boxplot de Total por País"
        },
        "xaxis": {
         "anchor": "y",
         "categoryarray": [
          "Georgia",
          "Armenia",
          "Albania",
          "Bielorrusia",
          "Letonia",
          "Azerbaiyán",
          "Moldavia",
          "Italia",
          "Ucrania",
          "Bulgaria",
          "Alemania",
          "Turquía",
          "Rusia",
          "Francia",
          "España",
          "Reino Unido",
          "Suecia",
          "Austria",
          "Rumania",
          "Bélgica",
          "Polonia"
         ],
         "categoryorder": "array",
         "domain": [
          0,
          1
         ],
         "gridcolor": "lightgrey",
         "showgrid": true,
         "title": {
          "text": "País"
         }
        },
        "yaxis": {
         "anchor": "x",
         "domain": [
          0,
          1
         ],
         "gridcolor": "lightgrey",
         "showgrid": true,
         "title": {
          "text": "Total"
         }
        }
       }
      }
     },
     "metadata": {},
     "output_type": "display_data"
    }
   ],
   "source": [
    "graficar_boxplot_bivariable_px (df = df_columnas_orden, variable_analisis = 'Total', variable_categorica = 'País')"
   ]
  },
  {
   "cell_type": "markdown",
   "id": "5e92055c",
   "metadata": {},
   "source": [
    "Al separar por país vemos gran amplitud pero puede ser por la diferencia de puntuación entre medallistas femeninas y masculinos."
   ]
  },
  {
   "cell_type": "code",
   "execution_count": 58,
   "id": "0dcfc3cd",
   "metadata": {},
   "outputs": [
    {
     "data": {
      "application/vnd.plotly.v1+json": {
       "config": {
        "plotlyServerURL": "https://plot.ly"
       },
       "data": [
        {
         "alignmentgroup": "True",
         "hovertemplate": "Genero=%{x}<br>Total=%{y}<extra></extra>",
         "legendgroup": "Masculino",
         "marker": {
          "color": "#636efa"
         },
         "name": "Masculino",
         "notched": false,
         "offsetgroup": "Masculino",
         "orientation": "v",
         "showlegend": true,
         "type": "box",
         "x": [
          "Masculino",
          "Masculino",
          "Masculino",
          "Masculino",
          "Masculino",
          "Masculino",
          "Masculino",
          "Masculino",
          "Masculino",
          "Masculino",
          "Masculino",
          "Masculino",
          "Masculino",
          "Masculino",
          "Masculino",
          "Masculino",
          "Masculino",
          "Masculino",
          "Masculino",
          "Masculino",
          "Masculino",
          "Masculino",
          "Masculino",
          "Masculino",
          "Masculino",
          "Masculino",
          "Masculino",
          "Masculino",
          "Masculino",
          "Masculino",
          "Masculino",
          "Masculino",
          "Masculino",
          "Masculino",
          "Masculino",
          "Masculino",
          "Masculino",
          "Masculino",
          "Masculino",
          "Masculino",
          "Masculino",
          "Masculino",
          "Masculino",
          "Masculino",
          "Masculino",
          "Masculino",
          "Masculino",
          "Masculino",
          "Masculino",
          "Masculino",
          "Masculino",
          "Masculino",
          "Masculino",
          "Masculino",
          "Masculino",
          "Masculino",
          "Masculino",
          "Masculino",
          "Masculino",
          "Masculino"
         ],
         "x0": " ",
         "xaxis": "x",
         "y": [
          261,
          286,
          312,
          345,
          356,
          371,
          400,
          391,
          427,
          478,
          258,
          296,
          323,
          341,
          370,
          375,
          393,
          390,
          407,
          485,
          256,
          283,
          311,
          339,
          355,
          370,
          378,
          377,
          411,
          447,
          248,
          290,
          318,
          339,
          369,
          374,
          374,
          380,
          406,
          464,
          247,
          282,
          308,
          335,
          354,
          360,
          377,
          376,
          410,
          440,
          247,
          287,
          315,
          336,
          347,
          365,
          372,
          379,
          401,
          445
         ],
         "y0": " ",
         "yaxis": "y"
        },
        {
         "alignmentgroup": "True",
         "hovertemplate": "Genero=%{x}<br>Total=%{y}<extra></extra>",
         "legendgroup": "Femenino",
         "marker": {
          "color": "#EF553B"
         },
         "name": "Femenino",
         "notched": false,
         "offsetgroup": "Femenino",
         "orientation": "v",
         "showlegend": true,
         "type": "box",
         "x": [
          "Femenino",
          "Femenino",
          "Femenino",
          "Femenino",
          "Femenino",
          "Femenino",
          "Femenino",
          "Femenino",
          "Femenino",
          "Femenino",
          "Femenino",
          "Femenino",
          "Femenino",
          "Femenino",
          "Femenino",
          "Femenino",
          "Femenino",
          "Femenino",
          "Femenino",
          "Femenino",
          "Femenino",
          "Femenino",
          "Femenino",
          "Femenino",
          "Femenino",
          "Femenino",
          "Femenino",
          "Femenino",
          "Femenino",
          "Femenino",
          "Femenino",
          "Femenino",
          "Femenino",
          "Femenino",
          "Femenino",
          "Femenino",
          "Femenino",
          "Femenino",
          "Femenino",
          "Femenino",
          "Femenino",
          "Femenino",
          "Femenino",
          "Femenino",
          "Femenino",
          "Femenino",
          "Femenino",
          "Femenino",
          "Femenino",
          "Femenino",
          "Femenino",
          "Femenino",
          "Femenino",
          "Femenino",
          "Femenino",
          "Femenino",
          "Femenino",
          "Femenino",
          "Femenino",
          "Femenino"
         ],
         "x0": " ",
         "xaxis": "x",
         "y": [
          163,
          190,
          199,
          221,
          239,
          240,
          242,
          222,
          242,
          331,
          155,
          189,
          208,
          211,
          244,
          227,
          248,
          236,
          246,
          276,
          158,
          180,
          198,
          214,
          229,
          216,
          241,
          221,
          240,
          268,
          152,
          181,
          200,
          210,
          230,
          219,
          246,
          231,
          245,
          252,
          150,
          178,
          190,
          213,
          224,
          215,
          233,
          217,
          231,
          260,
          151,
          180,
          197,
          210,
          222,
          218,
          243,
          227,
          240,
          243
         ],
         "y0": " ",
         "yaxis": "y"
        }
       ],
       "layout": {
        "boxmode": "overlay",
        "legend": {
         "title": {
          "text": "Genero"
         },
         "tracegroupgap": 0
        },
        "margin": {
         "t": 60
        },
        "plot_bgcolor": "rgba(255, 255, 255, 1)",
        "template": {
         "data": {
          "bar": [
           {
            "error_x": {
             "color": "#2a3f5f"
            },
            "error_y": {
             "color": "#2a3f5f"
            },
            "marker": {
             "line": {
              "color": "#E5ECF6",
              "width": 0.5
             },
             "pattern": {
              "fillmode": "overlay",
              "size": 10,
              "solidity": 0.2
             }
            },
            "type": "bar"
           }
          ],
          "barpolar": [
           {
            "marker": {
             "line": {
              "color": "#E5ECF6",
              "width": 0.5
             },
             "pattern": {
              "fillmode": "overlay",
              "size": 10,
              "solidity": 0.2
             }
            },
            "type": "barpolar"
           }
          ],
          "carpet": [
           {
            "aaxis": {
             "endlinecolor": "#2a3f5f",
             "gridcolor": "white",
             "linecolor": "white",
             "minorgridcolor": "white",
             "startlinecolor": "#2a3f5f"
            },
            "baxis": {
             "endlinecolor": "#2a3f5f",
             "gridcolor": "white",
             "linecolor": "white",
             "minorgridcolor": "white",
             "startlinecolor": "#2a3f5f"
            },
            "type": "carpet"
           }
          ],
          "choropleth": [
           {
            "colorbar": {
             "outlinewidth": 0,
             "ticks": ""
            },
            "type": "choropleth"
           }
          ],
          "contour": [
           {
            "colorbar": {
             "outlinewidth": 0,
             "ticks": ""
            },
            "colorscale": [
             [
              0,
              "#0d0887"
             ],
             [
              0.1111111111111111,
              "#46039f"
             ],
             [
              0.2222222222222222,
              "#7201a8"
             ],
             [
              0.3333333333333333,
              "#9c179e"
             ],
             [
              0.4444444444444444,
              "#bd3786"
             ],
             [
              0.5555555555555556,
              "#d8576b"
             ],
             [
              0.6666666666666666,
              "#ed7953"
             ],
             [
              0.7777777777777778,
              "#fb9f3a"
             ],
             [
              0.8888888888888888,
              "#fdca26"
             ],
             [
              1,
              "#f0f921"
             ]
            ],
            "type": "contour"
           }
          ],
          "contourcarpet": [
           {
            "colorbar": {
             "outlinewidth": 0,
             "ticks": ""
            },
            "type": "contourcarpet"
           }
          ],
          "heatmap": [
           {
            "colorbar": {
             "outlinewidth": 0,
             "ticks": ""
            },
            "colorscale": [
             [
              0,
              "#0d0887"
             ],
             [
              0.1111111111111111,
              "#46039f"
             ],
             [
              0.2222222222222222,
              "#7201a8"
             ],
             [
              0.3333333333333333,
              "#9c179e"
             ],
             [
              0.4444444444444444,
              "#bd3786"
             ],
             [
              0.5555555555555556,
              "#d8576b"
             ],
             [
              0.6666666666666666,
              "#ed7953"
             ],
             [
              0.7777777777777778,
              "#fb9f3a"
             ],
             [
              0.8888888888888888,
              "#fdca26"
             ],
             [
              1,
              "#f0f921"
             ]
            ],
            "type": "heatmap"
           }
          ],
          "heatmapgl": [
           {
            "colorbar": {
             "outlinewidth": 0,
             "ticks": ""
            },
            "colorscale": [
             [
              0,
              "#0d0887"
             ],
             [
              0.1111111111111111,
              "#46039f"
             ],
             [
              0.2222222222222222,
              "#7201a8"
             ],
             [
              0.3333333333333333,
              "#9c179e"
             ],
             [
              0.4444444444444444,
              "#bd3786"
             ],
             [
              0.5555555555555556,
              "#d8576b"
             ],
             [
              0.6666666666666666,
              "#ed7953"
             ],
             [
              0.7777777777777778,
              "#fb9f3a"
             ],
             [
              0.8888888888888888,
              "#fdca26"
             ],
             [
              1,
              "#f0f921"
             ]
            ],
            "type": "heatmapgl"
           }
          ],
          "histogram": [
           {
            "marker": {
             "pattern": {
              "fillmode": "overlay",
              "size": 10,
              "solidity": 0.2
             }
            },
            "type": "histogram"
           }
          ],
          "histogram2d": [
           {
            "colorbar": {
             "outlinewidth": 0,
             "ticks": ""
            },
            "colorscale": [
             [
              0,
              "#0d0887"
             ],
             [
              0.1111111111111111,
              "#46039f"
             ],
             [
              0.2222222222222222,
              "#7201a8"
             ],
             [
              0.3333333333333333,
              "#9c179e"
             ],
             [
              0.4444444444444444,
              "#bd3786"
             ],
             [
              0.5555555555555556,
              "#d8576b"
             ],
             [
              0.6666666666666666,
              "#ed7953"
             ],
             [
              0.7777777777777778,
              "#fb9f3a"
             ],
             [
              0.8888888888888888,
              "#fdca26"
             ],
             [
              1,
              "#f0f921"
             ]
            ],
            "type": "histogram2d"
           }
          ],
          "histogram2dcontour": [
           {
            "colorbar": {
             "outlinewidth": 0,
             "ticks": ""
            },
            "colorscale": [
             [
              0,
              "#0d0887"
             ],
             [
              0.1111111111111111,
              "#46039f"
             ],
             [
              0.2222222222222222,
              "#7201a8"
             ],
             [
              0.3333333333333333,
              "#9c179e"
             ],
             [
              0.4444444444444444,
              "#bd3786"
             ],
             [
              0.5555555555555556,
              "#d8576b"
             ],
             [
              0.6666666666666666,
              "#ed7953"
             ],
             [
              0.7777777777777778,
              "#fb9f3a"
             ],
             [
              0.8888888888888888,
              "#fdca26"
             ],
             [
              1,
              "#f0f921"
             ]
            ],
            "type": "histogram2dcontour"
           }
          ],
          "mesh3d": [
           {
            "colorbar": {
             "outlinewidth": 0,
             "ticks": ""
            },
            "type": "mesh3d"
           }
          ],
          "parcoords": [
           {
            "line": {
             "colorbar": {
              "outlinewidth": 0,
              "ticks": ""
             }
            },
            "type": "parcoords"
           }
          ],
          "pie": [
           {
            "automargin": true,
            "type": "pie"
           }
          ],
          "scatter": [
           {
            "fillpattern": {
             "fillmode": "overlay",
             "size": 10,
             "solidity": 0.2
            },
            "type": "scatter"
           }
          ],
          "scatter3d": [
           {
            "line": {
             "colorbar": {
              "outlinewidth": 0,
              "ticks": ""
             }
            },
            "marker": {
             "colorbar": {
              "outlinewidth": 0,
              "ticks": ""
             }
            },
            "type": "scatter3d"
           }
          ],
          "scattercarpet": [
           {
            "marker": {
             "colorbar": {
              "outlinewidth": 0,
              "ticks": ""
             }
            },
            "type": "scattercarpet"
           }
          ],
          "scattergeo": [
           {
            "marker": {
             "colorbar": {
              "outlinewidth": 0,
              "ticks": ""
             }
            },
            "type": "scattergeo"
           }
          ],
          "scattergl": [
           {
            "marker": {
             "colorbar": {
              "outlinewidth": 0,
              "ticks": ""
             }
            },
            "type": "scattergl"
           }
          ],
          "scattermapbox": [
           {
            "marker": {
             "colorbar": {
              "outlinewidth": 0,
              "ticks": ""
             }
            },
            "type": "scattermapbox"
           }
          ],
          "scatterpolar": [
           {
            "marker": {
             "colorbar": {
              "outlinewidth": 0,
              "ticks": ""
             }
            },
            "type": "scatterpolar"
           }
          ],
          "scatterpolargl": [
           {
            "marker": {
             "colorbar": {
              "outlinewidth": 0,
              "ticks": ""
             }
            },
            "type": "scatterpolargl"
           }
          ],
          "scatterternary": [
           {
            "marker": {
             "colorbar": {
              "outlinewidth": 0,
              "ticks": ""
             }
            },
            "type": "scatterternary"
           }
          ],
          "surface": [
           {
            "colorbar": {
             "outlinewidth": 0,
             "ticks": ""
            },
            "colorscale": [
             [
              0,
              "#0d0887"
             ],
             [
              0.1111111111111111,
              "#46039f"
             ],
             [
              0.2222222222222222,
              "#7201a8"
             ],
             [
              0.3333333333333333,
              "#9c179e"
             ],
             [
              0.4444444444444444,
              "#bd3786"
             ],
             [
              0.5555555555555556,
              "#d8576b"
             ],
             [
              0.6666666666666666,
              "#ed7953"
             ],
             [
              0.7777777777777778,
              "#fb9f3a"
             ],
             [
              0.8888888888888888,
              "#fdca26"
             ],
             [
              1,
              "#f0f921"
             ]
            ],
            "type": "surface"
           }
          ],
          "table": [
           {
            "cells": {
             "fill": {
              "color": "#EBF0F8"
             },
             "line": {
              "color": "white"
             }
            },
            "header": {
             "fill": {
              "color": "#C8D4E3"
             },
             "line": {
              "color": "white"
             }
            },
            "type": "table"
           }
          ]
         },
         "layout": {
          "annotationdefaults": {
           "arrowcolor": "#2a3f5f",
           "arrowhead": 0,
           "arrowwidth": 1
          },
          "autotypenumbers": "strict",
          "coloraxis": {
           "colorbar": {
            "outlinewidth": 0,
            "ticks": ""
           }
          },
          "colorscale": {
           "diverging": [
            [
             0,
             "#8e0152"
            ],
            [
             0.1,
             "#c51b7d"
            ],
            [
             0.2,
             "#de77ae"
            ],
            [
             0.3,
             "#f1b6da"
            ],
            [
             0.4,
             "#fde0ef"
            ],
            [
             0.5,
             "#f7f7f7"
            ],
            [
             0.6,
             "#e6f5d0"
            ],
            [
             0.7,
             "#b8e186"
            ],
            [
             0.8,
             "#7fbc41"
            ],
            [
             0.9,
             "#4d9221"
            ],
            [
             1,
             "#276419"
            ]
           ],
           "sequential": [
            [
             0,
             "#0d0887"
            ],
            [
             0.1111111111111111,
             "#46039f"
            ],
            [
             0.2222222222222222,
             "#7201a8"
            ],
            [
             0.3333333333333333,
             "#9c179e"
            ],
            [
             0.4444444444444444,
             "#bd3786"
            ],
            [
             0.5555555555555556,
             "#d8576b"
            ],
            [
             0.6666666666666666,
             "#ed7953"
            ],
            [
             0.7777777777777778,
             "#fb9f3a"
            ],
            [
             0.8888888888888888,
             "#fdca26"
            ],
            [
             1,
             "#f0f921"
            ]
           ],
           "sequentialminus": [
            [
             0,
             "#0d0887"
            ],
            [
             0.1111111111111111,
             "#46039f"
            ],
            [
             0.2222222222222222,
             "#7201a8"
            ],
            [
             0.3333333333333333,
             "#9c179e"
            ],
            [
             0.4444444444444444,
             "#bd3786"
            ],
            [
             0.5555555555555556,
             "#d8576b"
            ],
            [
             0.6666666666666666,
             "#ed7953"
            ],
            [
             0.7777777777777778,
             "#fb9f3a"
            ],
            [
             0.8888888888888888,
             "#fdca26"
            ],
            [
             1,
             "#f0f921"
            ]
           ]
          },
          "colorway": [
           "#636efa",
           "#EF553B",
           "#00cc96",
           "#ab63fa",
           "#FFA15A",
           "#19d3f3",
           "#FF6692",
           "#B6E880",
           "#FF97FF",
           "#FECB52"
          ],
          "font": {
           "color": "#2a3f5f"
          },
          "geo": {
           "bgcolor": "white",
           "lakecolor": "white",
           "landcolor": "#E5ECF6",
           "showlakes": true,
           "showland": true,
           "subunitcolor": "white"
          },
          "hoverlabel": {
           "align": "left"
          },
          "hovermode": "closest",
          "mapbox": {
           "style": "light"
          },
          "paper_bgcolor": "white",
          "plot_bgcolor": "#E5ECF6",
          "polar": {
           "angularaxis": {
            "gridcolor": "white",
            "linecolor": "white",
            "ticks": ""
           },
           "bgcolor": "#E5ECF6",
           "radialaxis": {
            "gridcolor": "white",
            "linecolor": "white",
            "ticks": ""
           }
          },
          "scene": {
           "xaxis": {
            "backgroundcolor": "#E5ECF6",
            "gridcolor": "white",
            "gridwidth": 2,
            "linecolor": "white",
            "showbackground": true,
            "ticks": "",
            "zerolinecolor": "white"
           },
           "yaxis": {
            "backgroundcolor": "#E5ECF6",
            "gridcolor": "white",
            "gridwidth": 2,
            "linecolor": "white",
            "showbackground": true,
            "ticks": "",
            "zerolinecolor": "white"
           },
           "zaxis": {
            "backgroundcolor": "#E5ECF6",
            "gridcolor": "white",
            "gridwidth": 2,
            "linecolor": "white",
            "showbackground": true,
            "ticks": "",
            "zerolinecolor": "white"
           }
          },
          "shapedefaults": {
           "line": {
            "color": "#2a3f5f"
           }
          },
          "ternary": {
           "aaxis": {
            "gridcolor": "white",
            "linecolor": "white",
            "ticks": ""
           },
           "baxis": {
            "gridcolor": "white",
            "linecolor": "white",
            "ticks": ""
           },
           "bgcolor": "#E5ECF6",
           "caxis": {
            "gridcolor": "white",
            "linecolor": "white",
            "ticks": ""
           }
          },
          "title": {
           "x": 0.05
          },
          "xaxis": {
           "automargin": true,
           "gridcolor": "white",
           "linecolor": "white",
           "ticks": "",
           "title": {
            "standoff": 15
           },
           "zerolinecolor": "white",
           "zerolinewidth": 2
          },
          "yaxis": {
           "automargin": true,
           "gridcolor": "white",
           "linecolor": "white",
           "ticks": "",
           "title": {
            "standoff": 15
           },
           "zerolinecolor": "white",
           "zerolinewidth": 2
          }
         }
        },
        "title": {
         "text": "Boxplot de Total por Genero"
        },
        "xaxis": {
         "anchor": "y",
         "categoryarray": [
          "Masculino",
          "Femenino"
         ],
         "categoryorder": "array",
         "domain": [
          0,
          1
         ],
         "gridcolor": "lightgrey",
         "showgrid": true,
         "title": {
          "text": "Genero"
         }
        },
        "yaxis": {
         "anchor": "x",
         "domain": [
          0,
          1
         ],
         "gridcolor": "lightgrey",
         "showgrid": true,
         "title": {
          "text": "Total"
         }
        }
       }
      }
     },
     "metadata": {},
     "output_type": "display_data"
    }
   ],
   "source": [
    "graficar_boxplot_bivariable_px (df = df_columnas_, variable_analisis = 'Total', variable_categorica = 'Genero')"
   ]
  },
  {
   "cell_type": "markdown",
   "id": "68372b84",
   "metadata": {},
   "source": [
    "Todos los datos son muy parejos. Al separar por género, compruebo un outlier entre las medallistas y busco el dato para tener más información al respecto. Es rusa y participa en la categoría más alta femenina."
   ]
  },
  {
   "cell_type": "code",
   "execution_count": 60,
   "id": "d8ab7ff2",
   "metadata": {},
   "outputs": [
    {
     "data": {
      "text/html": [
       "<div>\n",
       "<style scoped>\n",
       "    .dataframe tbody tr th:only-of-type {\n",
       "        vertical-align: middle;\n",
       "    }\n",
       "\n",
       "    .dataframe tbody tr th {\n",
       "        vertical-align: top;\n",
       "    }\n",
       "\n",
       "    .dataframe thead th {\n",
       "        text-align: right;\n",
       "    }\n",
       "</style>\n",
       "<table border=\"1\" class=\"dataframe\">\n",
       "  <thead>\n",
       "    <tr style=\"text-align: right;\">\n",
       "      <th></th>\n",
       "      <th>Genero</th>\n",
       "      <th>Categoría</th>\n",
       "      <th>Fecha</th>\n",
       "      <th>Medalla</th>\n",
       "      <th>Nombre</th>\n",
       "      <th>Apellido</th>\n",
       "      <th>País</th>\n",
       "      <th>Arrancada</th>\n",
       "      <th>Dos Tiempos</th>\n",
       "      <th>Total</th>\n",
       "    </tr>\n",
       "  </thead>\n",
       "  <tbody>\n",
       "    <tr>\n",
       "      <th>19</th>\n",
       "      <td>Femenino</td>\n",
       "      <td>+87 kg</td>\n",
       "      <td>2019-04-13</td>\n",
       "      <td>Oro</td>\n",
       "      <td>Tatiana</td>\n",
       "      <td>Kashirina</td>\n",
       "      <td>Rusia</td>\n",
       "      <td>146</td>\n",
       "      <td>185</td>\n",
       "      <td>331</td>\n",
       "    </tr>\n",
       "  </tbody>\n",
       "</table>\n",
       "</div>"
      ],
      "text/plain": [
       "      Genero Categoría      Fecha Medalla   Nombre   Apellido   País  \\\n",
       "19  Femenino    +87 kg 2019-04-13     Oro  Tatiana  Kashirina  Rusia   \n",
       "\n",
       "    Arrancada  Dos Tiempos  Total  \n",
       "19        146          185    331  "
      ]
     },
     "execution_count": 60,
     "metadata": {},
     "output_type": "execute_result"
    }
   ],
   "source": [
    "df_columnas_[df_columnas_['Total'] == 331]"
   ]
  },
  {
   "cell_type": "code",
   "execution_count": 62,
   "id": "4a79a6f4",
   "metadata": {},
   "outputs": [],
   "source": [
    "def graficar_barras_porcentaje_px(df, variable_analisis):\n",
    "    # Contar la frecuencia de la variable de análisis\n",
    "    volumen = df[variable_analisis].value_counts().reset_index()\n",
    "    volumen.columns = [variable_analisis, 'Volúmen']\n",
    "\n",
    "    # Calcular el total y convertir a porcentaje\n",
    "    total = volumen['Volúmen'].sum()\n",
    "    volumen['Porcentaje'] = ((volumen['Volúmen'] / total) * 100).round(2)\n",
    "\n",
    "    # Crear el gráfico de barras\n",
    "    fig = px.bar(volumen, x=variable_analisis, y='Porcentaje', text='Porcentaje')\n",
    "    fig.update_traces(texttemplate='%{text:.1f}%', textposition='outside')  # Mostrar como porcentaje\n",
    "    fig.update_layout(title_text=f'Gráfico de barras: {variable_analisis}',\n",
    "                      xaxis_title=variable_analisis,\n",
    "                      yaxis_title='Porcentaje',\n",
    "                      xaxis={'categoryorder': 'total descending'})\n",
    "\n",
    "    # Actualizar el fondo del gráfico a blanco\n",
    "    fig.update_layout({\n",
    "        'plot_bgcolor': 'rgba(255, 255, 255, 1)',\n",
    "        'xaxis': {'showgrid': True, 'gridcolor': 'lightgrey'},\n",
    "        'yaxis': {'showgrid': True, 'gridcolor': 'lightgrey'}\n",
    "    })\n",
    "    display(volumen)\n",
    "    fig.show()"
   ]
  },
  {
   "cell_type": "code",
   "execution_count": 63,
   "id": "858ed942",
   "metadata": {},
   "outputs": [
    {
     "data": {
      "text/html": [
       "<div>\n",
       "<style scoped>\n",
       "    .dataframe tbody tr th:only-of-type {\n",
       "        vertical-align: middle;\n",
       "    }\n",
       "\n",
       "    .dataframe tbody tr th {\n",
       "        vertical-align: top;\n",
       "    }\n",
       "\n",
       "    .dataframe thead th {\n",
       "        text-align: right;\n",
       "    }\n",
       "</style>\n",
       "<table border=\"1\" class=\"dataframe\">\n",
       "  <thead>\n",
       "    <tr style=\"text-align: right;\">\n",
       "      <th></th>\n",
       "      <th>País</th>\n",
       "      <th>Volúmen</th>\n",
       "      <th>Porcentaje</th>\n",
       "    </tr>\n",
       "  </thead>\n",
       "  <tbody>\n",
       "    <tr>\n",
       "      <th>0</th>\n",
       "      <td>Rusia</td>\n",
       "      <td>20</td>\n",
       "      <td>16.67</td>\n",
       "    </tr>\n",
       "    <tr>\n",
       "      <th>1</th>\n",
       "      <td>Armenia</td>\n",
       "      <td>14</td>\n",
       "      <td>11.67</td>\n",
       "    </tr>\n",
       "    <tr>\n",
       "      <th>2</th>\n",
       "      <td>Bulgaria</td>\n",
       "      <td>10</td>\n",
       "      <td>8.33</td>\n",
       "    </tr>\n",
       "    <tr>\n",
       "      <th>3</th>\n",
       "      <td>Bielorrusia</td>\n",
       "      <td>9</td>\n",
       "      <td>7.50</td>\n",
       "    </tr>\n",
       "    <tr>\n",
       "      <th>4</th>\n",
       "      <td>Georgia</td>\n",
       "      <td>9</td>\n",
       "      <td>7.50</td>\n",
       "    </tr>\n",
       "    <tr>\n",
       "      <th>5</th>\n",
       "      <td>Turquía</td>\n",
       "      <td>9</td>\n",
       "      <td>7.50</td>\n",
       "    </tr>\n",
       "    <tr>\n",
       "      <th>6</th>\n",
       "      <td>Rumania</td>\n",
       "      <td>9</td>\n",
       "      <td>7.50</td>\n",
       "    </tr>\n",
       "    <tr>\n",
       "      <th>7</th>\n",
       "      <td>Ucrania</td>\n",
       "      <td>8</td>\n",
       "      <td>6.67</td>\n",
       "    </tr>\n",
       "    <tr>\n",
       "      <th>8</th>\n",
       "      <td>Italia</td>\n",
       "      <td>6</td>\n",
       "      <td>5.00</td>\n",
       "    </tr>\n",
       "    <tr>\n",
       "      <th>9</th>\n",
       "      <td>Reino Unido</td>\n",
       "      <td>6</td>\n",
       "      <td>5.00</td>\n",
       "    </tr>\n",
       "    <tr>\n",
       "      <th>10</th>\n",
       "      <td>Letonia</td>\n",
       "      <td>3</td>\n",
       "      <td>2.50</td>\n",
       "    </tr>\n",
       "    <tr>\n",
       "      <th>11</th>\n",
       "      <td>Francia</td>\n",
       "      <td>3</td>\n",
       "      <td>2.50</td>\n",
       "    </tr>\n",
       "    <tr>\n",
       "      <th>12</th>\n",
       "      <td>Alemania</td>\n",
       "      <td>2</td>\n",
       "      <td>1.67</td>\n",
       "    </tr>\n",
       "    <tr>\n",
       "      <th>13</th>\n",
       "      <td>Azerbaiyán</td>\n",
       "      <td>2</td>\n",
       "      <td>1.67</td>\n",
       "    </tr>\n",
       "    <tr>\n",
       "      <th>14</th>\n",
       "      <td>Albania</td>\n",
       "      <td>2</td>\n",
       "      <td>1.67</td>\n",
       "    </tr>\n",
       "    <tr>\n",
       "      <th>15</th>\n",
       "      <td>Bélgica</td>\n",
       "      <td>2</td>\n",
       "      <td>1.67</td>\n",
       "    </tr>\n",
       "    <tr>\n",
       "      <th>16</th>\n",
       "      <td>Moldavia</td>\n",
       "      <td>2</td>\n",
       "      <td>1.67</td>\n",
       "    </tr>\n",
       "    <tr>\n",
       "      <th>17</th>\n",
       "      <td>Polonia</td>\n",
       "      <td>1</td>\n",
       "      <td>0.83</td>\n",
       "    </tr>\n",
       "    <tr>\n",
       "      <th>18</th>\n",
       "      <td>España</td>\n",
       "      <td>1</td>\n",
       "      <td>0.83</td>\n",
       "    </tr>\n",
       "    <tr>\n",
       "      <th>19</th>\n",
       "      <td>Suecia</td>\n",
       "      <td>1</td>\n",
       "      <td>0.83</td>\n",
       "    </tr>\n",
       "    <tr>\n",
       "      <th>20</th>\n",
       "      <td>Austria</td>\n",
       "      <td>1</td>\n",
       "      <td>0.83</td>\n",
       "    </tr>\n",
       "  </tbody>\n",
       "</table>\n",
       "</div>"
      ],
      "text/plain": [
       "           País  Volúmen  Porcentaje\n",
       "0         Rusia       20       16.67\n",
       "1       Armenia       14       11.67\n",
       "2      Bulgaria       10        8.33\n",
       "3   Bielorrusia        9        7.50\n",
       "4       Georgia        9        7.50\n",
       "5       Turquía        9        7.50\n",
       "6       Rumania        9        7.50\n",
       "7       Ucrania        8        6.67\n",
       "8        Italia        6        5.00\n",
       "9   Reino Unido        6        5.00\n",
       "10      Letonia        3        2.50\n",
       "11      Francia        3        2.50\n",
       "12     Alemania        2        1.67\n",
       "13   Azerbaiyán        2        1.67\n",
       "14      Albania        2        1.67\n",
       "15      Bélgica        2        1.67\n",
       "16     Moldavia        2        1.67\n",
       "17      Polonia        1        0.83\n",
       "18       España        1        0.83\n",
       "19       Suecia        1        0.83\n",
       "20      Austria        1        0.83"
      ]
     },
     "metadata": {},
     "output_type": "display_data"
    },
    {
     "data": {
      "application/vnd.plotly.v1+json": {
       "config": {
        "plotlyServerURL": "https://plot.ly"
       },
       "data": [
        {
         "alignmentgroup": "True",
         "hovertemplate": "País=%{x}<br>Porcentaje=%{text}<extra></extra>",
         "legendgroup": "",
         "marker": {
          "color": "#636efa",
          "pattern": {
           "shape": ""
          }
         },
         "name": "",
         "offsetgroup": "",
         "orientation": "v",
         "showlegend": false,
         "text": [
          16.67,
          11.67,
          8.33,
          7.5,
          7.5,
          7.5,
          7.5,
          6.67,
          5,
          5,
          2.5,
          2.5,
          1.67,
          1.67,
          1.67,
          1.67,
          1.67,
          0.83,
          0.83,
          0.83,
          0.83
         ],
         "textposition": "outside",
         "texttemplate": "%{text:.1f}%",
         "type": "bar",
         "x": [
          "Rusia",
          "Armenia",
          "Bulgaria",
          "Bielorrusia",
          "Georgia",
          "Turquía",
          "Rumania",
          "Ucrania",
          "Italia",
          "Reino Unido",
          "Letonia",
          "Francia",
          "Alemania",
          "Azerbaiyán",
          "Albania",
          "Bélgica",
          "Moldavia",
          "Polonia",
          "España",
          "Suecia",
          "Austria"
         ],
         "xaxis": "x",
         "y": [
          16.67,
          11.67,
          8.33,
          7.5,
          7.5,
          7.5,
          7.5,
          6.67,
          5,
          5,
          2.5,
          2.5,
          1.67,
          1.67,
          1.67,
          1.67,
          1.67,
          0.83,
          0.83,
          0.83,
          0.83
         ],
         "yaxis": "y"
        }
       ],
       "layout": {
        "barmode": "relative",
        "legend": {
         "tracegroupgap": 0
        },
        "margin": {
         "t": 60
        },
        "plot_bgcolor": "rgba(255, 255, 255, 1)",
        "template": {
         "data": {
          "bar": [
           {
            "error_x": {
             "color": "#2a3f5f"
            },
            "error_y": {
             "color": "#2a3f5f"
            },
            "marker": {
             "line": {
              "color": "#E5ECF6",
              "width": 0.5
             },
             "pattern": {
              "fillmode": "overlay",
              "size": 10,
              "solidity": 0.2
             }
            },
            "type": "bar"
           }
          ],
          "barpolar": [
           {
            "marker": {
             "line": {
              "color": "#E5ECF6",
              "width": 0.5
             },
             "pattern": {
              "fillmode": "overlay",
              "size": 10,
              "solidity": 0.2
             }
            },
            "type": "barpolar"
           }
          ],
          "carpet": [
           {
            "aaxis": {
             "endlinecolor": "#2a3f5f",
             "gridcolor": "white",
             "linecolor": "white",
             "minorgridcolor": "white",
             "startlinecolor": "#2a3f5f"
            },
            "baxis": {
             "endlinecolor": "#2a3f5f",
             "gridcolor": "white",
             "linecolor": "white",
             "minorgridcolor": "white",
             "startlinecolor": "#2a3f5f"
            },
            "type": "carpet"
           }
          ],
          "choropleth": [
           {
            "colorbar": {
             "outlinewidth": 0,
             "ticks": ""
            },
            "type": "choropleth"
           }
          ],
          "contour": [
           {
            "colorbar": {
             "outlinewidth": 0,
             "ticks": ""
            },
            "colorscale": [
             [
              0,
              "#0d0887"
             ],
             [
              0.1111111111111111,
              "#46039f"
             ],
             [
              0.2222222222222222,
              "#7201a8"
             ],
             [
              0.3333333333333333,
              "#9c179e"
             ],
             [
              0.4444444444444444,
              "#bd3786"
             ],
             [
              0.5555555555555556,
              "#d8576b"
             ],
             [
              0.6666666666666666,
              "#ed7953"
             ],
             [
              0.7777777777777778,
              "#fb9f3a"
             ],
             [
              0.8888888888888888,
              "#fdca26"
             ],
             [
              1,
              "#f0f921"
             ]
            ],
            "type": "contour"
           }
          ],
          "contourcarpet": [
           {
            "colorbar": {
             "outlinewidth": 0,
             "ticks": ""
            },
            "type": "contourcarpet"
           }
          ],
          "heatmap": [
           {
            "colorbar": {
             "outlinewidth": 0,
             "ticks": ""
            },
            "colorscale": [
             [
              0,
              "#0d0887"
             ],
             [
              0.1111111111111111,
              "#46039f"
             ],
             [
              0.2222222222222222,
              "#7201a8"
             ],
             [
              0.3333333333333333,
              "#9c179e"
             ],
             [
              0.4444444444444444,
              "#bd3786"
             ],
             [
              0.5555555555555556,
              "#d8576b"
             ],
             [
              0.6666666666666666,
              "#ed7953"
             ],
             [
              0.7777777777777778,
              "#fb9f3a"
             ],
             [
              0.8888888888888888,
              "#fdca26"
             ],
             [
              1,
              "#f0f921"
             ]
            ],
            "type": "heatmap"
           }
          ],
          "heatmapgl": [
           {
            "colorbar": {
             "outlinewidth": 0,
             "ticks": ""
            },
            "colorscale": [
             [
              0,
              "#0d0887"
             ],
             [
              0.1111111111111111,
              "#46039f"
             ],
             [
              0.2222222222222222,
              "#7201a8"
             ],
             [
              0.3333333333333333,
              "#9c179e"
             ],
             [
              0.4444444444444444,
              "#bd3786"
             ],
             [
              0.5555555555555556,
              "#d8576b"
             ],
             [
              0.6666666666666666,
              "#ed7953"
             ],
             [
              0.7777777777777778,
              "#fb9f3a"
             ],
             [
              0.8888888888888888,
              "#fdca26"
             ],
             [
              1,
              "#f0f921"
             ]
            ],
            "type": "heatmapgl"
           }
          ],
          "histogram": [
           {
            "marker": {
             "pattern": {
              "fillmode": "overlay",
              "size": 10,
              "solidity": 0.2
             }
            },
            "type": "histogram"
           }
          ],
          "histogram2d": [
           {
            "colorbar": {
             "outlinewidth": 0,
             "ticks": ""
            },
            "colorscale": [
             [
              0,
              "#0d0887"
             ],
             [
              0.1111111111111111,
              "#46039f"
             ],
             [
              0.2222222222222222,
              "#7201a8"
             ],
             [
              0.3333333333333333,
              "#9c179e"
             ],
             [
              0.4444444444444444,
              "#bd3786"
             ],
             [
              0.5555555555555556,
              "#d8576b"
             ],
             [
              0.6666666666666666,
              "#ed7953"
             ],
             [
              0.7777777777777778,
              "#fb9f3a"
             ],
             [
              0.8888888888888888,
              "#fdca26"
             ],
             [
              1,
              "#f0f921"
             ]
            ],
            "type": "histogram2d"
           }
          ],
          "histogram2dcontour": [
           {
            "colorbar": {
             "outlinewidth": 0,
             "ticks": ""
            },
            "colorscale": [
             [
              0,
              "#0d0887"
             ],
             [
              0.1111111111111111,
              "#46039f"
             ],
             [
              0.2222222222222222,
              "#7201a8"
             ],
             [
              0.3333333333333333,
              "#9c179e"
             ],
             [
              0.4444444444444444,
              "#bd3786"
             ],
             [
              0.5555555555555556,
              "#d8576b"
             ],
             [
              0.6666666666666666,
              "#ed7953"
             ],
             [
              0.7777777777777778,
              "#fb9f3a"
             ],
             [
              0.8888888888888888,
              "#fdca26"
             ],
             [
              1,
              "#f0f921"
             ]
            ],
            "type": "histogram2dcontour"
           }
          ],
          "mesh3d": [
           {
            "colorbar": {
             "outlinewidth": 0,
             "ticks": ""
            },
            "type": "mesh3d"
           }
          ],
          "parcoords": [
           {
            "line": {
             "colorbar": {
              "outlinewidth": 0,
              "ticks": ""
             }
            },
            "type": "parcoords"
           }
          ],
          "pie": [
           {
            "automargin": true,
            "type": "pie"
           }
          ],
          "scatter": [
           {
            "fillpattern": {
             "fillmode": "overlay",
             "size": 10,
             "solidity": 0.2
            },
            "type": "scatter"
           }
          ],
          "scatter3d": [
           {
            "line": {
             "colorbar": {
              "outlinewidth": 0,
              "ticks": ""
             }
            },
            "marker": {
             "colorbar": {
              "outlinewidth": 0,
              "ticks": ""
             }
            },
            "type": "scatter3d"
           }
          ],
          "scattercarpet": [
           {
            "marker": {
             "colorbar": {
              "outlinewidth": 0,
              "ticks": ""
             }
            },
            "type": "scattercarpet"
           }
          ],
          "scattergeo": [
           {
            "marker": {
             "colorbar": {
              "outlinewidth": 0,
              "ticks": ""
             }
            },
            "type": "scattergeo"
           }
          ],
          "scattergl": [
           {
            "marker": {
             "colorbar": {
              "outlinewidth": 0,
              "ticks": ""
             }
            },
            "type": "scattergl"
           }
          ],
          "scattermapbox": [
           {
            "marker": {
             "colorbar": {
              "outlinewidth": 0,
              "ticks": ""
             }
            },
            "type": "scattermapbox"
           }
          ],
          "scatterpolar": [
           {
            "marker": {
             "colorbar": {
              "outlinewidth": 0,
              "ticks": ""
             }
            },
            "type": "scatterpolar"
           }
          ],
          "scatterpolargl": [
           {
            "marker": {
             "colorbar": {
              "outlinewidth": 0,
              "ticks": ""
             }
            },
            "type": "scatterpolargl"
           }
          ],
          "scatterternary": [
           {
            "marker": {
             "colorbar": {
              "outlinewidth": 0,
              "ticks": ""
             }
            },
            "type": "scatterternary"
           }
          ],
          "surface": [
           {
            "colorbar": {
             "outlinewidth": 0,
             "ticks": ""
            },
            "colorscale": [
             [
              0,
              "#0d0887"
             ],
             [
              0.1111111111111111,
              "#46039f"
             ],
             [
              0.2222222222222222,
              "#7201a8"
             ],
             [
              0.3333333333333333,
              "#9c179e"
             ],
             [
              0.4444444444444444,
              "#bd3786"
             ],
             [
              0.5555555555555556,
              "#d8576b"
             ],
             [
              0.6666666666666666,
              "#ed7953"
             ],
             [
              0.7777777777777778,
              "#fb9f3a"
             ],
             [
              0.8888888888888888,
              "#fdca26"
             ],
             [
              1,
              "#f0f921"
             ]
            ],
            "type": "surface"
           }
          ],
          "table": [
           {
            "cells": {
             "fill": {
              "color": "#EBF0F8"
             },
             "line": {
              "color": "white"
             }
            },
            "header": {
             "fill": {
              "color": "#C8D4E3"
             },
             "line": {
              "color": "white"
             }
            },
            "type": "table"
           }
          ]
         },
         "layout": {
          "annotationdefaults": {
           "arrowcolor": "#2a3f5f",
           "arrowhead": 0,
           "arrowwidth": 1
          },
          "autotypenumbers": "strict",
          "coloraxis": {
           "colorbar": {
            "outlinewidth": 0,
            "ticks": ""
           }
          },
          "colorscale": {
           "diverging": [
            [
             0,
             "#8e0152"
            ],
            [
             0.1,
             "#c51b7d"
            ],
            [
             0.2,
             "#de77ae"
            ],
            [
             0.3,
             "#f1b6da"
            ],
            [
             0.4,
             "#fde0ef"
            ],
            [
             0.5,
             "#f7f7f7"
            ],
            [
             0.6,
             "#e6f5d0"
            ],
            [
             0.7,
             "#b8e186"
            ],
            [
             0.8,
             "#7fbc41"
            ],
            [
             0.9,
             "#4d9221"
            ],
            [
             1,
             "#276419"
            ]
           ],
           "sequential": [
            [
             0,
             "#0d0887"
            ],
            [
             0.1111111111111111,
             "#46039f"
            ],
            [
             0.2222222222222222,
             "#7201a8"
            ],
            [
             0.3333333333333333,
             "#9c179e"
            ],
            [
             0.4444444444444444,
             "#bd3786"
            ],
            [
             0.5555555555555556,
             "#d8576b"
            ],
            [
             0.6666666666666666,
             "#ed7953"
            ],
            [
             0.7777777777777778,
             "#fb9f3a"
            ],
            [
             0.8888888888888888,
             "#fdca26"
            ],
            [
             1,
             "#f0f921"
            ]
           ],
           "sequentialminus": [
            [
             0,
             "#0d0887"
            ],
            [
             0.1111111111111111,
             "#46039f"
            ],
            [
             0.2222222222222222,
             "#7201a8"
            ],
            [
             0.3333333333333333,
             "#9c179e"
            ],
            [
             0.4444444444444444,
             "#bd3786"
            ],
            [
             0.5555555555555556,
             "#d8576b"
            ],
            [
             0.6666666666666666,
             "#ed7953"
            ],
            [
             0.7777777777777778,
             "#fb9f3a"
            ],
            [
             0.8888888888888888,
             "#fdca26"
            ],
            [
             1,
             "#f0f921"
            ]
           ]
          },
          "colorway": [
           "#636efa",
           "#EF553B",
           "#00cc96",
           "#ab63fa",
           "#FFA15A",
           "#19d3f3",
           "#FF6692",
           "#B6E880",
           "#FF97FF",
           "#FECB52"
          ],
          "font": {
           "color": "#2a3f5f"
          },
          "geo": {
           "bgcolor": "white",
           "lakecolor": "white",
           "landcolor": "#E5ECF6",
           "showlakes": true,
           "showland": true,
           "subunitcolor": "white"
          },
          "hoverlabel": {
           "align": "left"
          },
          "hovermode": "closest",
          "mapbox": {
           "style": "light"
          },
          "paper_bgcolor": "white",
          "plot_bgcolor": "#E5ECF6",
          "polar": {
           "angularaxis": {
            "gridcolor": "white",
            "linecolor": "white",
            "ticks": ""
           },
           "bgcolor": "#E5ECF6",
           "radialaxis": {
            "gridcolor": "white",
            "linecolor": "white",
            "ticks": ""
           }
          },
          "scene": {
           "xaxis": {
            "backgroundcolor": "#E5ECF6",
            "gridcolor": "white",
            "gridwidth": 2,
            "linecolor": "white",
            "showbackground": true,
            "ticks": "",
            "zerolinecolor": "white"
           },
           "yaxis": {
            "backgroundcolor": "#E5ECF6",
            "gridcolor": "white",
            "gridwidth": 2,
            "linecolor": "white",
            "showbackground": true,
            "ticks": "",
            "zerolinecolor": "white"
           },
           "zaxis": {
            "backgroundcolor": "#E5ECF6",
            "gridcolor": "white",
            "gridwidth": 2,
            "linecolor": "white",
            "showbackground": true,
            "ticks": "",
            "zerolinecolor": "white"
           }
          },
          "shapedefaults": {
           "line": {
            "color": "#2a3f5f"
           }
          },
          "ternary": {
           "aaxis": {
            "gridcolor": "white",
            "linecolor": "white",
            "ticks": ""
           },
           "baxis": {
            "gridcolor": "white",
            "linecolor": "white",
            "ticks": ""
           },
           "bgcolor": "#E5ECF6",
           "caxis": {
            "gridcolor": "white",
            "linecolor": "white",
            "ticks": ""
           }
          },
          "title": {
           "x": 0.05
          },
          "xaxis": {
           "automargin": true,
           "gridcolor": "white",
           "linecolor": "white",
           "ticks": "",
           "title": {
            "standoff": 15
           },
           "zerolinecolor": "white",
           "zerolinewidth": 2
          },
          "yaxis": {
           "automargin": true,
           "gridcolor": "white",
           "linecolor": "white",
           "ticks": "",
           "title": {
            "standoff": 15
           },
           "zerolinecolor": "white",
           "zerolinewidth": 2
          }
         }
        },
        "title": {
         "text": "Gráfico de barras: País"
        },
        "xaxis": {
         "anchor": "y",
         "categoryorder": "total descending",
         "domain": [
          0,
          1
         ],
         "gridcolor": "lightgrey",
         "showgrid": true,
         "title": {
          "text": "País"
         }
        },
        "yaxis": {
         "anchor": "x",
         "domain": [
          0,
          1
         ],
         "gridcolor": "lightgrey",
         "showgrid": true,
         "title": {
          "text": "Porcentaje"
         }
        }
       }
      }
     },
     "metadata": {},
     "output_type": "display_data"
    }
   ],
   "source": [
    "graficar_barras_porcentaje_px(df = df_columnas_, variable_analisis = 'País')"
   ]
  },
  {
   "cell_type": "markdown",
   "id": "21152fc7",
   "metadata": {},
   "source": [
    "Entre 2019 y 2020 el país con mayor número de medallas es Rusia, con 20 medallas. Le siguen Armenia con 14 y Bulgaria con 10 medallas."
   ]
  },
  {
   "cell_type": "markdown",
   "id": "8b862271",
   "metadata": {},
   "source": [
    "### <span style=\"color: #2A8E3C;\"> ¿Cuántas medallas de cada tipo (oro, plata y bronce) ha ganado cada país en la competición? (Sin considerar el género) </span>"
   ]
  }
 ],
 "metadata": {
  "kernelspec": {
   "display_name": "KERNEL_CON_PANDAS",
   "language": "python",
   "name": "python3"
  },
  "language_info": {
   "codemirror_mode": {
    "name": "ipython",
    "version": 3
   },
   "file_extension": ".py",
   "mimetype": "text/x-python",
   "name": "python",
   "nbconvert_exporter": "python",
   "pygments_lexer": "ipython3",
   "version": "3.12.8"
  }
 },
 "nbformat": 4,
 "nbformat_minor": 5
}
