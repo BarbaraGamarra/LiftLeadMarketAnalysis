{
 "cells": [
  {
   "cell_type": "markdown",
   "id": "cd50a2ec",
   "metadata": {},
   "source": [
    "#  <span style=\"color: #2A8E3C;\"> **Lift & Lead - Análisis de Mercado** </span>"
   ]
  },
  {
   "cell_type": "markdown",
   "id": "835f87b9",
   "metadata": {},
   "source": [
    "## <span style=\"color: #2A8E3C;\"> **Análisis de mercado para la apertura de centros especializados de Halterofilia** </span>\n",
    "\n",
    "<span style=\"color: #E3B800;\"> ***Lift & Lead***, </span> es una startup interesada en abrir centros de entrenamiento especializados en halterofilia ya que con el auge del CrossFit, que integra técnicas de halterofilia, los fundadores creen que este puede ser un buen momento para invertir en centros dedicados exclusivamente a este deporte.\n",
    "\n",
    "La dirección de <span style=\"color: #E3B800;\"> ***Lift & Lead***, </span>  busca validar la hipótesis de que la popularidad del CrossFit está impulsando el interés por la halterofilia en Europa.\n",
    "\n",
    "Actualmente no cuentan con mucho conocimiento y para empezar a comprender mejor el sector de la halterofilia y a sus atletas, te han asignado la tarea de analizar los resultados de los campeonatos europeos de halterofilia.\n",
    "\n",
    "El análisis se hará en dos fases:\n",
    "\n",
    "1. <span style=\"color: #E3B800;\"> **Fase 1**, </span> : Te han proporcionado acceso a la base de datos de 2019 y 2020\n",
    "  - La información fue obtenida a través de los siguientes enlaces por el anterior Data Analyst que ha dejado la compañía:\n",
    "    - https://es.wikipedia.org/wiki/Campeonato_Europeo_de_Halterofilia_de_2019\n",
    "    - https://es.wikipedia.org/wiki/Campeonato_Europeo_de_Halterofilia_de_2020\n",
    "\n",
    "2. <span style=\"color: #E3B800;\"> **Fase 2**, </span> Quieren enriquecer el análisis consideranto un periodo más amplio, incluyendo desde 2019 a 2024 pero no disponen de la información. Para obtenerla harás uso de web scraping de los siguientes enlaces:\n",
    "    - https://es.wikipedia.org/wiki/Campeonato_Europeo_de_Halterofilia_de_2021\n",
    "    - https://es.wikipedia.org/wiki/Campeonato_Europeo_de_Halterofilia_de_2022\n",
    "    - https://es.wikipedia.org/wiki/Campeonato_Europeo_de_Halterofilia_de_2023\n",
    "    - https://es.wikipedia.org/wiki/Campeonato_Europeo_de_Halterofilia_de_2024"
   ]
  },
  {
   "cell_type": "markdown",
   "id": "296ffad1",
   "metadata": {},
   "source": [
    "![Halterofilia](images/allfreeweight.png)"
   ]
  },
  {
   "cell_type": "markdown",
   "id": "928caec9",
   "metadata": {},
   "source": [
    "# <span style=\"color: #2A8E3C;\">  **Parte 1.** Disponemos de la información </span> "
   ]
  },
  {
   "cell_type": "markdown",
   "id": "b897db69",
   "metadata": {},
   "source": [
    "## <span style=\"color: #2A8E3C;\">  Paso 1. Importar librerías </span> "
   ]
  },
  {
   "cell_type": "code",
   "execution_count": 1,
   "id": "1d1bd924",
   "metadata": {},
   "outputs": [
    {
     "name": "stderr",
     "output_type": "stream",
     "text": [
      "c:\\Users\\Usuario\\anaconda3\\envs\\KERNEL_CON_PANDAS\\Lib\\site-packages\\fuzzywuzzy\\fuzz.py:11: UserWarning: Using slow pure-python SequenceMatcher. Install python-Levenshtein to remove this warning\n",
      "  warnings.warn('Using slow pure-python SequenceMatcher. Install python-Levenshtein to remove this warning')\n"
     ]
    }
   ],
   "source": [
    "import pandas as pd\n",
    "import numpy as np\n",
    "\n",
    "import matplotlib.pyplot as plt\n",
    "import seaborn as sns\n",
    "import plotly.express as px\n",
    "\n",
    "import missingno as msno\n",
    "\n",
    "import re\n",
    "from fuzzywuzzy import process\n",
    "\n",
    "import warnings\n",
    "warnings.filterwarnings('ignore')\n",
    "\n",
    "import os"
   ]
  },
  {
   "cell_type": "markdown",
   "id": "fb864f4b",
   "metadata": {},
   "source": [
    "## <span style=\"color: #2A8E3C;\">  Paso 2. Cargar datos </span>"
   ]
  },
  {
   "cell_type": "code",
   "execution_count": 2,
   "id": "0702c1e5",
   "metadata": {},
   "outputs": [
    {
     "name": "stdout",
     "output_type": "stream",
     "text": [
      "Campeonato_Europeo_de_Halterofilia_de_2019_datos_original.csv\n",
      "Campeonato_Europeo_de_Halterofilia_de_2020_datos_original.csv\n"
     ]
    }
   ],
   "source": [
    "path = 'data/' \n",
    "\n",
    "ficheros = [file for file in os.listdir(path) if os.path.isfile(os.path.join(path, file))]\n",
    "\n",
    "dict_datos = {}\n",
    "for file in ficheros:\n",
    "    if file.endswith(('.csv', '.xlsx')):\n",
    "        print(file)\n",
    "        if file.endswith('.csv'):\n",
    "            df = pd.read_csv(path + file)\n",
    "        else:\n",
    "            df = pd.read_excel(path + file)\n",
    "        dict_datos[file] = df"
   ]
  },
  {
   "cell_type": "markdown",
   "id": "1e4484a9",
   "metadata": {},
   "source": [
    "## <span style=\"color: #2A8E3C;\">  Paso 3. Exploración inicial </span> "
   ]
  },
  {
   "cell_type": "markdown",
   "id": "35029cbb",
   "metadata": {},
   "source": [
    "Creamos una función que nos permitirá hacer una exploración inicial de los datos, para ver si hay que hacer algún tratamiento previo a la limpieza de los datos y la aplicamos directamente al dictado dataframes."
   ]
  },
  {
   "cell_type": "code",
   "execution_count": 3,
   "id": "2c5985ad",
   "metadata": {},
   "outputs": [],
   "source": [
    "\n",
    "def exploracion_inicial(df, tipo = None):\n",
    "    if tipo == 'lite':\n",
    "        print(\"¿Cuántas filas y columnas hay en el conjunto de datos?\")\n",
    "        num_filas, num_columnas = df.shape\n",
    "        print(\"\\tHay {:,} filas y {:,} columnas.\".format(num_filas, num_columnas))\n",
    "\n",
    "        print(\"¿Cuáles son las primeras dos filas del conjunto de datos?\")\n",
    "        display(df.head(2))\n",
    "        print('\\n########################################################################################')\n",
    "        print(\"¿Hay valores nulos en el conjunto de datos?\")\n",
    "        print(df.isnull().sum().sort_values(ascending = False))\n",
    "        print('\\n########################################################################################')\n",
    "\n",
    "        print(\"¿Cuál es el porcentaje de valores nulos en cada columna?\")\n",
    "        print(round((df.isnull().sum()/len(df)*100), 2).sort_values(ascending = False))\n",
    "        print('\\n########################################################################################')\n",
    "       \n",
    "        print(\"¿Hay filas duplicadas en el conjunto de datos?\")\n",
    "        dup_count = df.duplicated().sum()\n",
    "        has_duplicates = dup_count > 0\n",
    "        print(f\"\\tExisten duplicados: {has_duplicates}\")\n",
    "        print(f\"\\tNúmero total de filas duplicadas: {dup_count}\")\n",
    "        \n",
    "        if has_duplicates and dup_count <= 5:\n",
    "            print(\"\\tFilas duplicadas (mostrando hasta 5):\")\n",
    "            display(df[df.duplicated(keep=False)].head())\n",
    "        print('\\n########################################################################################')\n",
    "    else:\n",
    "        print(\"¿Cuántas filas y columnas hay en el conjunto de datos?\")\n",
    "        num_filas, num_columnas = df.shape\n",
    "        print(\"\\tHay {:,} filas y {:,} columnas.\".format(num_filas, num_columnas))\n",
    "        print('\\n########################################################################################')\n",
    "\n",
    "        print(\"¿Cuáles son las primeras cinco filas del conjunto de datos?\")\n",
    "        display(df.head())\n",
    "        print('\\n########################################################################################')\n",
    "\n",
    "        print(\"¿Cuáles son las últimas cinco filas del conjunto de datos?\")\n",
    "        display(df.tail())\n",
    "        print('\\n########################################################################################')\n",
    "\n",
    "        print(\"¿Cómo puedes obtener una muestra aleatoria de filas del conjunto de datos?\")\n",
    "        display(df.sample(n = 5))\n",
    "        print('\\n########################################################################################')\n",
    "\n",
    "        print(\"¿Cuáles son las columnas del conjunto de datos?\")\n",
    "        for i in list(df.columns):\n",
    "            print('\\t - ' + i)\n",
    "        print('\\n########################################################################################')\n",
    "\n",
    "        print(\"¿Cuál es el tipo de datos de cada columna?\")\n",
    "        print(df.dtypes)\n",
    "        print('\\n########################################################################################')\n",
    "\n",
    "        print(\"¿Cuántas columnas hay de cada tipo de datos?\")\n",
    "        print(df.dtypes.value_counts())\n",
    "        print('\\n########################################################################################')\n",
    "\n",
    "        print(\"¿Cómo podríamos obtener información más completa sobre la estructura y el contenido del DataFrame?\")\n",
    "        print(df.info())\n",
    "        print('\\n########################################################################################')\n",
    "\n",
    "        print(\"¿Cuántos valores únicos tiene cada columna?\")\n",
    "        print(df.nunique())\n",
    "        print('\\n########################################################################################')\n",
    "\n",
    "        print(\"¿Cuáles son las estadísticas descriptivas básicas de todas las columnas?\")\n",
    "        display(df.describe(include = 'all').fillna(''))\n",
    "        print('\\n########################################################################################')\n",
    "\n",
    "        print(\"¿Hay valores nulos en el conjunto de datos?\")\n",
    "        print(df.isnull().sum().sort_values(ascending = False))\n",
    "        print('\\n########################################################################################')\n",
    "\n",
    "        print(\"¿Cuál es el porcentaje de valores nulos en cada columna?\")\n",
    "        print(round((df.isnull().sum()/len(df)*100), 2).sort_values(ascending = False))\n",
    "        print('\\n########################################################################################')\n",
    "       \n",
    "        print(\"¿Hay filas duplicadas en el conjunto de datos?\")\n",
    "        dup_count = df.duplicated().sum()\n",
    "        has_duplicates = dup_count > 0\n",
    "        print(f\"\\tExisten duplicados: {has_duplicates}\")\n",
    "        print(f\"\\tNúmero total de filas duplicadas: {dup_count}\")\n",
    "        \n",
    "        if has_duplicates and dup_count <= 5:\n",
    "            print(\"\\tFilas duplicadas (mostrando hasta 5):\")\n",
    "            display(df[df.duplicated(keep=False)].head())\n",
    "        print('\\n########################################################################################')"
   ]
  },
  {
   "cell_type": "code",
   "execution_count": 4,
   "id": "5b79efbe",
   "metadata": {},
   "outputs": [
    {
     "name": "stdout",
     "output_type": "stream",
     "text": [
      "_____________________________________________________________\n",
      "Campeonato_Europeo_de_Halterofilia_de_2019_datos_original.csv\n",
      "_____________________________________________________________\n",
      "¿Cuántas filas y columnas hay en el conjunto de datos?\n",
      "\tHay 20 filas y 6 columnas.\n",
      "\n",
      "########################################################################################\n",
      "¿Cuáles son las primeras cinco filas del conjunto de datos?\n"
     ]
    },
    {
     "data": {
      "text/html": [
       "<div>\n",
       "<style scoped>\n",
       "    .dataframe tbody tr th:only-of-type {\n",
       "        vertical-align: middle;\n",
       "    }\n",
       "\n",
       "    .dataframe tbody tr th {\n",
       "        vertical-align: top;\n",
       "    }\n",
       "\n",
       "    .dataframe thead th {\n",
       "        text-align: right;\n",
       "    }\n",
       "</style>\n",
       "<table border=\"1\" class=\"dataframe\">\n",
       "  <thead>\n",
       "    <tr style=\"text-align: right;\">\n",
       "      <th></th>\n",
       "      <th>Eventos</th>\n",
       "      <th>Oro</th>\n",
       "      <th>Plata</th>\n",
       "      <th>Bronce</th>\n",
       "      <th>Año</th>\n",
       "      <th>Genero</th>\n",
       "    </tr>\n",
       "  </thead>\n",
       "  <tbody>\n",
       "    <tr>\n",
       "      <th>0</th>\n",
       "      <td>55 kg (06.04)</td>\n",
       "      <td>Mirco Scarantino Italia  116 + 145 = 261[n 1]​</td>\n",
       "      <td>Anguel Rusev Bulgaria  110 + 146 = 256[n 1]​</td>\n",
       "      <td>Muammer Şahin Turquía  112 + 135 = 247[n 1]​</td>\n",
       "      <td>2019</td>\n",
       "      <td>Masculino</td>\n",
       "    </tr>\n",
       "    <tr>\n",
       "      <th>1</th>\n",
       "      <td>61 kg (07.04)</td>\n",
       "      <td>Henadz Laptseu Bielorrusia  133 + 153 = 286</td>\n",
       "      <td>Bünyamin Sezer Turquía  132 + 151 = 283</td>\n",
       "      <td>Ferdi Hardal Turquía  127 + 155 = 282</td>\n",
       "      <td>2019</td>\n",
       "      <td>Masculino</td>\n",
       "    </tr>\n",
       "    <tr>\n",
       "      <th>2</th>\n",
       "      <td>67 kg (08.04)</td>\n",
       "      <td>Bernardin Matam Francia  137 + 175 = 312</td>\n",
       "      <td>Simon Brandhuber Alemania  146 + 165 = 311</td>\n",
       "      <td>Goga Chjeidze Georgia  139 + 169 = 308</td>\n",
       "      <td>2019</td>\n",
       "      <td>Masculino</td>\n",
       "    </tr>\n",
       "    <tr>\n",
       "      <th>3</th>\n",
       "      <td>73 kg (09.04)</td>\n",
       "      <td>Bozhidar Andreev Bulgaria  153 + 192 = 345</td>\n",
       "      <td>Briken Calja Albania  156 + 183 = 339</td>\n",
       "      <td>Vadzim Lijarad Bielorrusia  153 + 182 = 335</td>\n",
       "      <td>2019</td>\n",
       "      <td>Masculino</td>\n",
       "    </tr>\n",
       "    <tr>\n",
       "      <th>4</th>\n",
       "      <td>81 kg (10.04)</td>\n",
       "      <td>Antonino Pizzolato Italia  155 + 201 = 356</td>\n",
       "      <td>Piotr Asayonak Bielorrusia  159 + 196 = 355</td>\n",
       "      <td>Ritvars Suharevs Letonia  162 + 192 = 354</td>\n",
       "      <td>2019</td>\n",
       "      <td>Masculino</td>\n",
       "    </tr>\n",
       "  </tbody>\n",
       "</table>\n",
       "</div>"
      ],
      "text/plain": [
       "         Eventos                                             Oro  \\\n",
       "0  55 kg (06.04)  Mirco Scarantino Italia  116 + 145 = 261[n 1]​   \n",
       "1  61 kg (07.04)     Henadz Laptseu Bielorrusia  133 + 153 = 286   \n",
       "2  67 kg (08.04)        Bernardin Matam Francia  137 + 175 = 312   \n",
       "3  73 kg (09.04)      Bozhidar Andreev Bulgaria  153 + 192 = 345   \n",
       "4  81 kg (10.04)      Antonino Pizzolato Italia  155 + 201 = 356   \n",
       "\n",
       "                                          Plata  \\\n",
       "0  Anguel Rusev Bulgaria  110 + 146 = 256[n 1]​   \n",
       "1       Bünyamin Sezer Turquía  132 + 151 = 283   \n",
       "2    Simon Brandhuber Alemania  146 + 165 = 311   \n",
       "3         Briken Calja Albania  156 + 183 = 339   \n",
       "4   Piotr Asayonak Bielorrusia  159 + 196 = 355   \n",
       "\n",
       "                                         Bronce   Año     Genero  \n",
       "0  Muammer Şahin Turquía  112 + 135 = 247[n 1]​  2019  Masculino  \n",
       "1         Ferdi Hardal Turquía  127 + 155 = 282  2019  Masculino  \n",
       "2        Goga Chjeidze Georgia  139 + 169 = 308  2019  Masculino  \n",
       "3   Vadzim Lijarad Bielorrusia  153 + 182 = 335  2019  Masculino  \n",
       "4     Ritvars Suharevs Letonia  162 + 192 = 354  2019  Masculino  "
      ]
     },
     "metadata": {},
     "output_type": "display_data"
    },
    {
     "name": "stdout",
     "output_type": "stream",
     "text": [
      "\n",
      "########################################################################################\n",
      "¿Cuáles son las últimas cinco filas del conjunto de datos?\n"
     ]
    },
    {
     "data": {
      "text/html": [
       "<div>\n",
       "<style scoped>\n",
       "    .dataframe tbody tr th:only-of-type {\n",
       "        vertical-align: middle;\n",
       "    }\n",
       "\n",
       "    .dataframe tbody tr th {\n",
       "        vertical-align: top;\n",
       "    }\n",
       "\n",
       "    .dataframe thead th {\n",
       "        text-align: right;\n",
       "    }\n",
       "</style>\n",
       "<table border=\"1\" class=\"dataframe\">\n",
       "  <thead>\n",
       "    <tr style=\"text-align: right;\">\n",
       "      <th></th>\n",
       "      <th>Eventos</th>\n",
       "      <th>Oro</th>\n",
       "      <th>Plata</th>\n",
       "      <th>Bronce</th>\n",
       "      <th>Año</th>\n",
       "      <th>Genero</th>\n",
       "    </tr>\n",
       "  </thead>\n",
       "  <tbody>\n",
       "    <tr>\n",
       "      <th>15</th>\n",
       "      <td>71 kg (10.04)</td>\n",
       "      <td>Anastasiya Romanova Rusia  112 + 128 = 240</td>\n",
       "      <td>Emily Godley Reino Unido  93 + 123 = 216</td>\n",
       "      <td>Mădălina Molie Rumania  101 + 114 = 215</td>\n",
       "      <td>2019</td>\n",
       "      <td>Femenino</td>\n",
       "    </tr>\n",
       "    <tr>\n",
       "      <th>16</th>\n",
       "      <td>76 kg (11.04)</td>\n",
       "      <td>Daria Naumava Bielorrusia  106 + 136 = 242</td>\n",
       "      <td>Lidia Valentín[2]​ España  108 + 133 = 241</td>\n",
       "      <td>Patricia Strenius Suecia  101 + 132 = 233</td>\n",
       "      <td>2019</td>\n",
       "      <td>Femenino</td>\n",
       "    </tr>\n",
       "    <tr>\n",
       "      <th>17</th>\n",
       "      <td>81 kg[n 2]​ (12.04)</td>\n",
       "      <td>Nina Schroth Alemania  102 + 120 = 222</td>\n",
       "      <td>Anna Van Bellinghen Bélgica  103 + 118 = 221</td>\n",
       "      <td>Liana Guiurdzhian Armenia  97 + 120 = 217</td>\n",
       "      <td>2019</td>\n",
       "      <td>Femenino</td>\n",
       "    </tr>\n",
       "    <tr>\n",
       "      <th>18</th>\n",
       "      <td>87 kg (12.04)</td>\n",
       "      <td>Xeniya Pasjina Rusia  110 + 132 = 242</td>\n",
       "      <td>Diana Mstiyeva Rusia  110 + 130 = 240</td>\n",
       "      <td>Sarah Fischer Austria  102 + 129 = 231</td>\n",
       "      <td>2019</td>\n",
       "      <td>Femenino</td>\n",
       "    </tr>\n",
       "    <tr>\n",
       "      <th>19</th>\n",
       "      <td>+87 kg (13.04)</td>\n",
       "      <td>Tatiana Kashirina Rusia  146 + 185 = 331</td>\n",
       "      <td>Anastasiya Lysenko Ucrania  120 + 148 = 268</td>\n",
       "      <td>Emily Campbell Reino Unido  115 + 145 = 260</td>\n",
       "      <td>2019</td>\n",
       "      <td>Femenino</td>\n",
       "    </tr>\n",
       "  </tbody>\n",
       "</table>\n",
       "</div>"
      ],
      "text/plain": [
       "                Eventos                                         Oro  \\\n",
       "15        71 kg (10.04)  Anastasiya Romanova Rusia  112 + 128 = 240   \n",
       "16        76 kg (11.04)  Daria Naumava Bielorrusia  106 + 136 = 242   \n",
       "17  81 kg[n 2]​ (12.04)      Nina Schroth Alemania  102 + 120 = 222   \n",
       "18        87 kg (12.04)       Xeniya Pasjina Rusia  110 + 132 = 242   \n",
       "19       +87 kg (13.04)    Tatiana Kashirina Rusia  146 + 185 = 331   \n",
       "\n",
       "                                           Plata  \\\n",
       "15      Emily Godley Reino Unido  93 + 123 = 216   \n",
       "16    Lidia Valentín[2]​ España  108 + 133 = 241   \n",
       "17  Anna Van Bellinghen Bélgica  103 + 118 = 221   \n",
       "18         Diana Mstiyeva Rusia  110 + 130 = 240   \n",
       "19   Anastasiya Lysenko Ucrania  120 + 148 = 268   \n",
       "\n",
       "                                         Bronce   Año    Genero  \n",
       "15      Mădălina Molie Rumania  101 + 114 = 215  2019  Femenino  \n",
       "16    Patricia Strenius Suecia  101 + 132 = 233  2019  Femenino  \n",
       "17    Liana Guiurdzhian Armenia  97 + 120 = 217  2019  Femenino  \n",
       "18       Sarah Fischer Austria  102 + 129 = 231  2019  Femenino  \n",
       "19  Emily Campbell Reino Unido  115 + 145 = 260  2019  Femenino  "
      ]
     },
     "metadata": {},
     "output_type": "display_data"
    },
    {
     "name": "stdout",
     "output_type": "stream",
     "text": [
      "\n",
      "########################################################################################\n",
      "¿Cómo puedes obtener una muestra aleatoria de filas del conjunto de datos?\n"
     ]
    },
    {
     "data": {
      "text/html": [
       "<div>\n",
       "<style scoped>\n",
       "    .dataframe tbody tr th:only-of-type {\n",
       "        vertical-align: middle;\n",
       "    }\n",
       "\n",
       "    .dataframe tbody tr th {\n",
       "        vertical-align: top;\n",
       "    }\n",
       "\n",
       "    .dataframe thead th {\n",
       "        text-align: right;\n",
       "    }\n",
       "</style>\n",
       "<table border=\"1\" class=\"dataframe\">\n",
       "  <thead>\n",
       "    <tr style=\"text-align: right;\">\n",
       "      <th></th>\n",
       "      <th>Eventos</th>\n",
       "      <th>Oro</th>\n",
       "      <th>Plata</th>\n",
       "      <th>Bronce</th>\n",
       "      <th>Año</th>\n",
       "      <th>Genero</th>\n",
       "    </tr>\n",
       "  </thead>\n",
       "  <tbody>\n",
       "    <tr>\n",
       "      <th>13</th>\n",
       "      <td>59 kg (08.04)</td>\n",
       "      <td>Rebeka Koha Letonia  101 + 120 = 221</td>\n",
       "      <td>Tatiana Aleyeva Rusia  94 + 120 = 214</td>\n",
       "      <td>Alexandra Kozlova Rusia  96 + 117 = 213</td>\n",
       "      <td>2019</td>\n",
       "      <td>Femenino</td>\n",
       "    </tr>\n",
       "    <tr>\n",
       "      <th>12</th>\n",
       "      <td>55 kg (07.04)</td>\n",
       "      <td>Joanna Łochowska Polonia  87 + 112 = 199</td>\n",
       "      <td>Svetlana Yershova Rusia  90 + 108 = 198</td>\n",
       "      <td>Kristina Novitskaya Rusia  85 + 105 = 190</td>\n",
       "      <td>2019</td>\n",
       "      <td>Femenino</td>\n",
       "    </tr>\n",
       "    <tr>\n",
       "      <th>10</th>\n",
       "      <td>45 kg (06.04)</td>\n",
       "      <td>Şaziye Erdoğan Turquía  75 + 88 = 163[n 1]​</td>\n",
       "      <td>Ivana Petrova Bulgaria  69 + 89 = 158[n 1]​</td>\n",
       "      <td>Yuliya Asayonak Bielorrusia  69 + 81 = 150[n 1]​</td>\n",
       "      <td>2019</td>\n",
       "      <td>Femenino</td>\n",
       "    </tr>\n",
       "    <tr>\n",
       "      <th>2</th>\n",
       "      <td>67 kg (08.04)</td>\n",
       "      <td>Bernardin Matam Francia  137 + 175 = 312</td>\n",
       "      <td>Simon Brandhuber Alemania  146 + 165 = 311</td>\n",
       "      <td>Goga Chjeidze Georgia  139 + 169 = 308</td>\n",
       "      <td>2019</td>\n",
       "      <td>Masculino</td>\n",
       "    </tr>\n",
       "    <tr>\n",
       "      <th>8</th>\n",
       "      <td>109 kg (13.04)</td>\n",
       "      <td>Simon Martirosian Armenia  192 + 235 = 427</td>\n",
       "      <td>Andrei Aramnau Bielorrusia  190 + 221 = 411</td>\n",
       "      <td>Rodion Bochkov Rusia  192 + 218 = 410</td>\n",
       "      <td>2019</td>\n",
       "      <td>Masculino</td>\n",
       "    </tr>\n",
       "  </tbody>\n",
       "</table>\n",
       "</div>"
      ],
      "text/plain": [
       "           Eventos                                          Oro  \\\n",
       "13   59 kg (08.04)         Rebeka Koha Letonia  101 + 120 = 221   \n",
       "12   55 kg (07.04)     Joanna Łochowska Polonia  87 + 112 = 199   \n",
       "10   45 kg (06.04)  Şaziye Erdoğan Turquía  75 + 88 = 163[n 1]​   \n",
       "2    67 kg (08.04)     Bernardin Matam Francia  137 + 175 = 312   \n",
       "8   109 kg (13.04)   Simon Martirosian Armenia  192 + 235 = 427   \n",
       "\n",
       "                                          Plata  \\\n",
       "13        Tatiana Aleyeva Rusia  94 + 120 = 214   \n",
       "12      Svetlana Yershova Rusia  90 + 108 = 198   \n",
       "10  Ivana Petrova Bulgaria  69 + 89 = 158[n 1]​   \n",
       "2    Simon Brandhuber Alemania  146 + 165 = 311   \n",
       "8   Andrei Aramnau Bielorrusia  190 + 221 = 411   \n",
       "\n",
       "                                              Bronce   Año     Genero  \n",
       "13           Alexandra Kozlova Rusia  96 + 117 = 213  2019   Femenino  \n",
       "12         Kristina Novitskaya Rusia  85 + 105 = 190  2019   Femenino  \n",
       "10  Yuliya Asayonak Bielorrusia  69 + 81 = 150[n 1]​  2019   Femenino  \n",
       "2             Goga Chjeidze Georgia  139 + 169 = 308  2019  Masculino  \n",
       "8              Rodion Bochkov Rusia  192 + 218 = 410  2019  Masculino  "
      ]
     },
     "metadata": {},
     "output_type": "display_data"
    },
    {
     "name": "stdout",
     "output_type": "stream",
     "text": [
      "\n",
      "########################################################################################\n",
      "¿Cuáles son las columnas del conjunto de datos?\n",
      "\t - Eventos\n",
      "\t - Oro\n",
      "\t - Plata\n",
      "\t - Bronce\n",
      "\t - Año\n",
      "\t - Genero\n",
      "\n",
      "########################################################################################\n",
      "¿Cuál es el tipo de datos de cada columna?\n",
      "Eventos    object\n",
      "Oro        object\n",
      "Plata      object\n",
      "Bronce     object\n",
      "Año         int64\n",
      "Genero     object\n",
      "dtype: object\n",
      "\n",
      "########################################################################################\n",
      "¿Cuántas columnas hay de cada tipo de datos?\n",
      "object    5\n",
      "int64     1\n",
      "Name: count, dtype: int64\n",
      "\n",
      "########################################################################################\n",
      "¿Cómo podríamos obtener información más completa sobre la estructura y el contenido del DataFrame?\n",
      "<class 'pandas.core.frame.DataFrame'>\n",
      "RangeIndex: 20 entries, 0 to 19\n",
      "Data columns (total 6 columns):\n",
      " #   Column   Non-Null Count  Dtype \n",
      "---  ------   --------------  ----- \n",
      " 0   Eventos  20 non-null     object\n",
      " 1   Oro      20 non-null     object\n",
      " 2   Plata    20 non-null     object\n",
      " 3   Bronce   20 non-null     object\n",
      " 4   Año      20 non-null     int64 \n",
      " 5   Genero   20 non-null     object\n",
      "dtypes: int64(1), object(5)\n",
      "memory usage: 1.1+ KB\n",
      "None\n",
      "\n",
      "########################################################################################\n",
      "¿Cuántos valores únicos tiene cada columna?\n",
      "Eventos    20\n",
      "Oro        20\n",
      "Plata      20\n",
      "Bronce     20\n",
      "Año         1\n",
      "Genero      2\n",
      "dtype: int64\n",
      "\n",
      "########################################################################################\n",
      "¿Cuáles son las estadísticas descriptivas básicas de todas las columnas?\n"
     ]
    },
    {
     "data": {
      "text/html": [
       "<div>\n",
       "<style scoped>\n",
       "    .dataframe tbody tr th:only-of-type {\n",
       "        vertical-align: middle;\n",
       "    }\n",
       "\n",
       "    .dataframe tbody tr th {\n",
       "        vertical-align: top;\n",
       "    }\n",
       "\n",
       "    .dataframe thead th {\n",
       "        text-align: right;\n",
       "    }\n",
       "</style>\n",
       "<table border=\"1\" class=\"dataframe\">\n",
       "  <thead>\n",
       "    <tr style=\"text-align: right;\">\n",
       "      <th></th>\n",
       "      <th>Eventos</th>\n",
       "      <th>Oro</th>\n",
       "      <th>Plata</th>\n",
       "      <th>Bronce</th>\n",
       "      <th>Año</th>\n",
       "      <th>Genero</th>\n",
       "    </tr>\n",
       "  </thead>\n",
       "  <tbody>\n",
       "    <tr>\n",
       "      <th>count</th>\n",
       "      <td>20</td>\n",
       "      <td>20</td>\n",
       "      <td>20</td>\n",
       "      <td>20</td>\n",
       "      <td>20.0</td>\n",
       "      <td>20</td>\n",
       "    </tr>\n",
       "    <tr>\n",
       "      <th>unique</th>\n",
       "      <td>20</td>\n",
       "      <td>20</td>\n",
       "      <td>20</td>\n",
       "      <td>20</td>\n",
       "      <td></td>\n",
       "      <td>2</td>\n",
       "    </tr>\n",
       "    <tr>\n",
       "      <th>top</th>\n",
       "      <td>55 kg (06.04)</td>\n",
       "      <td>Mirco Scarantino Italia  116 + 145 = 261[n 1]​</td>\n",
       "      <td>Anguel Rusev Bulgaria  110 + 146 = 256[n 1]​</td>\n",
       "      <td>Muammer Şahin Turquía  112 + 135 = 247[n 1]​</td>\n",
       "      <td></td>\n",
       "      <td>Masculino</td>\n",
       "    </tr>\n",
       "    <tr>\n",
       "      <th>freq</th>\n",
       "      <td>1</td>\n",
       "      <td>1</td>\n",
       "      <td>1</td>\n",
       "      <td>1</td>\n",
       "      <td></td>\n",
       "      <td>10</td>\n",
       "    </tr>\n",
       "    <tr>\n",
       "      <th>mean</th>\n",
       "      <td></td>\n",
       "      <td></td>\n",
       "      <td></td>\n",
       "      <td></td>\n",
       "      <td>2019.0</td>\n",
       "      <td></td>\n",
       "    </tr>\n",
       "    <tr>\n",
       "      <th>std</th>\n",
       "      <td></td>\n",
       "      <td></td>\n",
       "      <td></td>\n",
       "      <td></td>\n",
       "      <td>0.0</td>\n",
       "      <td></td>\n",
       "    </tr>\n",
       "    <tr>\n",
       "      <th>min</th>\n",
       "      <td></td>\n",
       "      <td></td>\n",
       "      <td></td>\n",
       "      <td></td>\n",
       "      <td>2019.0</td>\n",
       "      <td></td>\n",
       "    </tr>\n",
       "    <tr>\n",
       "      <th>25%</th>\n",
       "      <td></td>\n",
       "      <td></td>\n",
       "      <td></td>\n",
       "      <td></td>\n",
       "      <td>2019.0</td>\n",
       "      <td></td>\n",
       "    </tr>\n",
       "    <tr>\n",
       "      <th>50%</th>\n",
       "      <td></td>\n",
       "      <td></td>\n",
       "      <td></td>\n",
       "      <td></td>\n",
       "      <td>2019.0</td>\n",
       "      <td></td>\n",
       "    </tr>\n",
       "    <tr>\n",
       "      <th>75%</th>\n",
       "      <td></td>\n",
       "      <td></td>\n",
       "      <td></td>\n",
       "      <td></td>\n",
       "      <td>2019.0</td>\n",
       "      <td></td>\n",
       "    </tr>\n",
       "    <tr>\n",
       "      <th>max</th>\n",
       "      <td></td>\n",
       "      <td></td>\n",
       "      <td></td>\n",
       "      <td></td>\n",
       "      <td>2019.0</td>\n",
       "      <td></td>\n",
       "    </tr>\n",
       "  </tbody>\n",
       "</table>\n",
       "</div>"
      ],
      "text/plain": [
       "              Eventos                                             Oro  \\\n",
       "count              20                                              20   \n",
       "unique             20                                              20   \n",
       "top     55 kg (06.04)  Mirco Scarantino Italia  116 + 145 = 261[n 1]​   \n",
       "freq                1                                               1   \n",
       "mean                                                                    \n",
       "std                                                                     \n",
       "min                                                                     \n",
       "25%                                                                     \n",
       "50%                                                                     \n",
       "75%                                                                     \n",
       "max                                                                     \n",
       "\n",
       "                                               Plata  \\\n",
       "count                                             20   \n",
       "unique                                            20   \n",
       "top     Anguel Rusev Bulgaria  110 + 146 = 256[n 1]​   \n",
       "freq                                               1   \n",
       "mean                                                   \n",
       "std                                                    \n",
       "min                                                    \n",
       "25%                                                    \n",
       "50%                                                    \n",
       "75%                                                    \n",
       "max                                                    \n",
       "\n",
       "                                              Bronce     Año     Genero  \n",
       "count                                             20    20.0         20  \n",
       "unique                                            20                  2  \n",
       "top     Muammer Şahin Turquía  112 + 135 = 247[n 1]​          Masculino  \n",
       "freq                                               1                 10  \n",
       "mean                                                  2019.0             \n",
       "std                                                      0.0             \n",
       "min                                                   2019.0             \n",
       "25%                                                   2019.0             \n",
       "50%                                                   2019.0             \n",
       "75%                                                   2019.0             \n",
       "max                                                   2019.0             "
      ]
     },
     "metadata": {},
     "output_type": "display_data"
    },
    {
     "name": "stdout",
     "output_type": "stream",
     "text": [
      "\n",
      "########################################################################################\n",
      "¿Hay valores nulos en el conjunto de datos?\n",
      "Eventos    0\n",
      "Oro        0\n",
      "Plata      0\n",
      "Bronce     0\n",
      "Año        0\n",
      "Genero     0\n",
      "dtype: int64\n",
      "\n",
      "########################################################################################\n",
      "¿Cuál es el porcentaje de valores nulos en cada columna?\n",
      "Eventos    0.0\n",
      "Oro        0.0\n",
      "Plata      0.0\n",
      "Bronce     0.0\n",
      "Año        0.0\n",
      "Genero     0.0\n",
      "dtype: float64\n",
      "\n",
      "########################################################################################\n",
      "¿Hay filas duplicadas en el conjunto de datos?\n",
      "\tExisten duplicados: False\n",
      "\tNúmero total de filas duplicadas: 0\n",
      "\n",
      "########################################################################################\n",
      "_____________________________________________________________\n",
      "Campeonato_Europeo_de_Halterofilia_de_2020_datos_original.csv\n",
      "_____________________________________________________________\n",
      "¿Cuántas filas y columnas hay en el conjunto de datos?\n",
      "\tHay 20 filas y 6 columnas.\n",
      "\n",
      "########################################################################################\n",
      "¿Cuáles son las primeras cinco filas del conjunto de datos?\n"
     ]
    },
    {
     "data": {
      "text/html": [
       "<div>\n",
       "<style scoped>\n",
       "    .dataframe tbody tr th:only-of-type {\n",
       "        vertical-align: middle;\n",
       "    }\n",
       "\n",
       "    .dataframe tbody tr th {\n",
       "        vertical-align: top;\n",
       "    }\n",
       "\n",
       "    .dataframe thead th {\n",
       "        text-align: right;\n",
       "    }\n",
       "</style>\n",
       "<table border=\"1\" class=\"dataframe\">\n",
       "  <thead>\n",
       "    <tr style=\"text-align: right;\">\n",
       "      <th></th>\n",
       "      <th>Eventos</th>\n",
       "      <th>Oro</th>\n",
       "      <th>Plata</th>\n",
       "      <th>Bronce</th>\n",
       "      <th>Año</th>\n",
       "      <th>Genero</th>\n",
       "    </tr>\n",
       "  </thead>\n",
       "  <tbody>\n",
       "    <tr>\n",
       "      <th>0</th>\n",
       "      <td>55 kg (04.04)</td>\n",
       "      <td>Anguel Rusev Bulgaria  111 + 147 = 258[n 1]​</td>\n",
       "      <td>Valentin Iancu Rumania  108 + 140 = 248[n 1]​</td>\n",
       "      <td>Dmytro Voronovsky Ucrania  110 + 137 = 247[n 1]​</td>\n",
       "      <td>2020</td>\n",
       "      <td>Masculino</td>\n",
       "    </tr>\n",
       "    <tr>\n",
       "      <th>1</th>\n",
       "      <td>61 kg (04.04)</td>\n",
       "      <td>Stilian Grozdev Bulgaria  136 + 160 = 296</td>\n",
       "      <td>Shota Mishvelidze Georgia  135 + 155 = 290</td>\n",
       "      <td>Ferdi Hardal Turquía  130 + 157 = 287</td>\n",
       "      <td>2020</td>\n",
       "      <td>Masculino</td>\n",
       "    </tr>\n",
       "    <tr>\n",
       "      <th>2</th>\n",
       "      <td>67 kg (05.04)</td>\n",
       "      <td>Muhammed Özbek Turquía  145 + 178 = 323</td>\n",
       "      <td>Mirko Zanni Italia  148 + 170 = 318</td>\n",
       "      <td>Valentin Guenchev Bulgaria  138 + 177 = 315</td>\n",
       "      <td>2020</td>\n",
       "      <td>Masculino</td>\n",
       "    </tr>\n",
       "    <tr>\n",
       "      <th>3</th>\n",
       "      <td>73 kg (06.04)</td>\n",
       "      <td>Daniyar İsmayilov Turquía  160 + 181 = 341</td>\n",
       "      <td>Marin Robu Moldavia  156 + 183 = 339</td>\n",
       "      <td>Briken Calja Albania  152 + 184 = 336</td>\n",
       "      <td>2020</td>\n",
       "      <td>Masculino</td>\n",
       "    </tr>\n",
       "    <tr>\n",
       "      <th>4</th>\n",
       "      <td>81 kg (07.04)</td>\n",
       "      <td>Antonino Pizzolato Italia  164 + 206 = 370</td>\n",
       "      <td>Karlos Nasar Bulgaria  163 + 206 = 369</td>\n",
       "      <td>Ritvars Suharevs Letonia  157 + 190 = 347</td>\n",
       "      <td>2020</td>\n",
       "      <td>Masculino</td>\n",
       "    </tr>\n",
       "  </tbody>\n",
       "</table>\n",
       "</div>"
      ],
      "text/plain": [
       "         Eventos                                           Oro  \\\n",
       "0  55 kg (04.04)  Anguel Rusev Bulgaria  111 + 147 = 258[n 1]​   \n",
       "1  61 kg (04.04)     Stilian Grozdev Bulgaria  136 + 160 = 296   \n",
       "2  67 kg (05.04)       Muhammed Özbek Turquía  145 + 178 = 323   \n",
       "3  73 kg (06.04)    Daniyar İsmayilov Turquía  160 + 181 = 341   \n",
       "4  81 kg (07.04)    Antonino Pizzolato Italia  164 + 206 = 370   \n",
       "\n",
       "                                           Plata  \\\n",
       "0  Valentin Iancu Rumania  108 + 140 = 248[n 1]​   \n",
       "1     Shota Mishvelidze Georgia  135 + 155 = 290   \n",
       "2            Mirko Zanni Italia  148 + 170 = 318   \n",
       "3           Marin Robu Moldavia  156 + 183 = 339   \n",
       "4         Karlos Nasar Bulgaria  163 + 206 = 369   \n",
       "\n",
       "                                             Bronce   Año     Genero  \n",
       "0  Dmytro Voronovsky Ucrania  110 + 137 = 247[n 1]​  2020  Masculino  \n",
       "1             Ferdi Hardal Turquía  130 + 157 = 287  2020  Masculino  \n",
       "2       Valentin Guenchev Bulgaria  138 + 177 = 315  2020  Masculino  \n",
       "3             Briken Calja Albania  152 + 184 = 336  2020  Masculino  \n",
       "4         Ritvars Suharevs Letonia  157 + 190 = 347  2020  Masculino  "
      ]
     },
     "metadata": {},
     "output_type": "display_data"
    },
    {
     "name": "stdout",
     "output_type": "stream",
     "text": [
      "\n",
      "########################################################################################\n",
      "¿Cuáles son las últimas cinco filas del conjunto de datos?\n"
     ]
    },
    {
     "data": {
      "text/html": [
       "<div>\n",
       "<style scoped>\n",
       "    .dataframe tbody tr th:only-of-type {\n",
       "        vertical-align: middle;\n",
       "    }\n",
       "\n",
       "    .dataframe tbody tr th {\n",
       "        vertical-align: top;\n",
       "    }\n",
       "\n",
       "    .dataframe thead th {\n",
       "        text-align: right;\n",
       "    }\n",
       "</style>\n",
       "<table border=\"1\" class=\"dataframe\">\n",
       "  <thead>\n",
       "    <tr style=\"text-align: right;\">\n",
       "      <th></th>\n",
       "      <th>Eventos</th>\n",
       "      <th>Oro</th>\n",
       "      <th>Plata</th>\n",
       "      <th>Bronce</th>\n",
       "      <th>Año</th>\n",
       "      <th>Genero</th>\n",
       "    </tr>\n",
       "  </thead>\n",
       "  <tbody>\n",
       "    <tr>\n",
       "      <th>15</th>\n",
       "      <td>71 kg (07.04)</td>\n",
       "      <td>Emily Godley Reino Unido  98 + 129 = 227</td>\n",
       "      <td>Alessia Durante Italia  97 + 122 = 219</td>\n",
       "      <td>Raluca Olaru Rumania  98 + 120 = 218</td>\n",
       "      <td>2020</td>\n",
       "      <td>Femenino</td>\n",
       "    </tr>\n",
       "    <tr>\n",
       "      <th>16</th>\n",
       "      <td>76 kg (08.04)</td>\n",
       "      <td>Iryna Deja Ucrania  113 + 135 = 248</td>\n",
       "      <td>Yana Sotiyeva Rusia  112 + 134 = 246</td>\n",
       "      <td>Anastasiya Romanova Rusia  111 + 132 = 243</td>\n",
       "      <td>2020</td>\n",
       "      <td>Femenino</td>\n",
       "    </tr>\n",
       "    <tr>\n",
       "      <th>17</th>\n",
       "      <td>81 kg (09.04)</td>\n",
       "      <td>Alina Marushchak Ucrania  109 + 127 = 236</td>\n",
       "      <td>Gaëlle Nayo-Ketchanke Francia  100 + 131 = 231</td>\n",
       "      <td>Liana Guiurdzhian Armenia  98 + 129 = 227</td>\n",
       "      <td>2020</td>\n",
       "      <td>Femenino</td>\n",
       "    </tr>\n",
       "    <tr>\n",
       "      <th>18</th>\n",
       "      <td>87 kg (10.04)</td>\n",
       "      <td>Daria Ajmerova Rusia  108 + 138 = 246</td>\n",
       "      <td>Elena Cîlcic Moldavia  107 + 138 = 245</td>\n",
       "      <td>Daria Riazanova Rusia  105 + 135 = 240</td>\n",
       "      <td>2020</td>\n",
       "      <td>Femenino</td>\n",
       "    </tr>\n",
       "    <tr>\n",
       "      <th>19</th>\n",
       "      <td>+87 kg (11.04)</td>\n",
       "      <td>Emily Campbell Reino Unido  122 + 154 = 276</td>\n",
       "      <td>Anastasiya Lysenko Ucrania  116 + 136 = 252</td>\n",
       "      <td>Melike Günal Turquía  108 + 135 = 243</td>\n",
       "      <td>2020</td>\n",
       "      <td>Femenino</td>\n",
       "    </tr>\n",
       "  </tbody>\n",
       "</table>\n",
       "</div>"
      ],
      "text/plain": [
       "           Eventos                                          Oro  \\\n",
       "15   71 kg (07.04)     Emily Godley Reino Unido  98 + 129 = 227   \n",
       "16   76 kg (08.04)          Iryna Deja Ucrania  113 + 135 = 248   \n",
       "17   81 kg (09.04)    Alina Marushchak Ucrania  109 + 127 = 236   \n",
       "18   87 kg (10.04)        Daria Ajmerova Rusia  108 + 138 = 246   \n",
       "19  +87 kg (11.04)  Emily Campbell Reino Unido  122 + 154 = 276   \n",
       "\n",
       "                                             Plata  \\\n",
       "15          Alessia Durante Italia  97 + 122 = 219   \n",
       "16            Yana Sotiyeva Rusia  112 + 134 = 246   \n",
       "17  Gaëlle Nayo-Ketchanke Francia  100 + 131 = 231   \n",
       "18          Elena Cîlcic Moldavia  107 + 138 = 245   \n",
       "19     Anastasiya Lysenko Ucrania  116 + 136 = 252   \n",
       "\n",
       "                                        Bronce   Año    Genero  \n",
       "15        Raluca Olaru Rumania  98 + 120 = 218  2020  Femenino  \n",
       "16  Anastasiya Romanova Rusia  111 + 132 = 243  2020  Femenino  \n",
       "17   Liana Guiurdzhian Armenia  98 + 129 = 227  2020  Femenino  \n",
       "18      Daria Riazanova Rusia  105 + 135 = 240  2020  Femenino  \n",
       "19       Melike Günal Turquía  108 + 135 = 243  2020  Femenino  "
      ]
     },
     "metadata": {},
     "output_type": "display_data"
    },
    {
     "name": "stdout",
     "output_type": "stream",
     "text": [
      "\n",
      "########################################################################################\n",
      "¿Cómo puedes obtener una muestra aleatoria de filas del conjunto de datos?\n"
     ]
    },
    {
     "data": {
      "text/html": [
       "<div>\n",
       "<style scoped>\n",
       "    .dataframe tbody tr th:only-of-type {\n",
       "        vertical-align: middle;\n",
       "    }\n",
       "\n",
       "    .dataframe tbody tr th {\n",
       "        vertical-align: top;\n",
       "    }\n",
       "\n",
       "    .dataframe thead th {\n",
       "        text-align: right;\n",
       "    }\n",
       "</style>\n",
       "<table border=\"1\" class=\"dataframe\">\n",
       "  <thead>\n",
       "    <tr style=\"text-align: right;\">\n",
       "      <th></th>\n",
       "      <th>Eventos</th>\n",
       "      <th>Oro</th>\n",
       "      <th>Plata</th>\n",
       "      <th>Bronce</th>\n",
       "      <th>Año</th>\n",
       "      <th>Genero</th>\n",
       "    </tr>\n",
       "  </thead>\n",
       "  <tbody>\n",
       "    <tr>\n",
       "      <th>17</th>\n",
       "      <td>81 kg (09.04)</td>\n",
       "      <td>Alina Marushchak Ucrania  109 + 127 = 236</td>\n",
       "      <td>Gaëlle Nayo-Ketchanke Francia  100 + 131 = 231</td>\n",
       "      <td>Liana Guiurdzhian Armenia  98 + 129 = 227</td>\n",
       "      <td>2020</td>\n",
       "      <td>Femenino</td>\n",
       "    </tr>\n",
       "    <tr>\n",
       "      <th>19</th>\n",
       "      <td>+87 kg (11.04)</td>\n",
       "      <td>Emily Campbell Reino Unido  122 + 154 = 276</td>\n",
       "      <td>Anastasiya Lysenko Ucrania  116 + 136 = 252</td>\n",
       "      <td>Melike Günal Turquía  108 + 135 = 243</td>\n",
       "      <td>2020</td>\n",
       "      <td>Femenino</td>\n",
       "    </tr>\n",
       "    <tr>\n",
       "      <th>3</th>\n",
       "      <td>73 kg (06.04)</td>\n",
       "      <td>Daniyar İsmayilov Turquía  160 + 181 = 341</td>\n",
       "      <td>Marin Robu Moldavia  156 + 183 = 339</td>\n",
       "      <td>Briken Calja Albania  152 + 184 = 336</td>\n",
       "      <td>2020</td>\n",
       "      <td>Masculino</td>\n",
       "    </tr>\n",
       "    <tr>\n",
       "      <th>12</th>\n",
       "      <td>55 kg (04.04)</td>\n",
       "      <td>Kamila Konotop Ucrania  95 + 113 = 208</td>\n",
       "      <td>Svetlana Yershova Rusia  88 + 112 = 200</td>\n",
       "      <td>Nina Sterckx Bélgica  88 + 109 = 197</td>\n",
       "      <td>2020</td>\n",
       "      <td>Femenino</td>\n",
       "    </tr>\n",
       "    <tr>\n",
       "      <th>11</th>\n",
       "      <td>49 kg (03.04)</td>\n",
       "      <td>Monica Csengeri Rumania  86 + 103 = 189</td>\n",
       "      <td>Kristina Sobol Rusia  85 + 96 = 181</td>\n",
       "      <td>Mihaela Cambei Rumania  80 + 100 = 180</td>\n",
       "      <td>2020</td>\n",
       "      <td>Femenino</td>\n",
       "    </tr>\n",
       "  </tbody>\n",
       "</table>\n",
       "</div>"
      ],
      "text/plain": [
       "           Eventos                                          Oro  \\\n",
       "17   81 kg (09.04)    Alina Marushchak Ucrania  109 + 127 = 236   \n",
       "19  +87 kg (11.04)  Emily Campbell Reino Unido  122 + 154 = 276   \n",
       "3    73 kg (06.04)   Daniyar İsmayilov Turquía  160 + 181 = 341   \n",
       "12   55 kg (04.04)       Kamila Konotop Ucrania  95 + 113 = 208   \n",
       "11   49 kg (03.04)      Monica Csengeri Rumania  86 + 103 = 189   \n",
       "\n",
       "                                             Plata  \\\n",
       "17  Gaëlle Nayo-Ketchanke Francia  100 + 131 = 231   \n",
       "19     Anastasiya Lysenko Ucrania  116 + 136 = 252   \n",
       "3             Marin Robu Moldavia  156 + 183 = 339   \n",
       "12         Svetlana Yershova Rusia  88 + 112 = 200   \n",
       "11             Kristina Sobol Rusia  85 + 96 = 181   \n",
       "\n",
       "                                       Bronce   Año     Genero  \n",
       "17  Liana Guiurdzhian Armenia  98 + 129 = 227  2020   Femenino  \n",
       "19      Melike Günal Turquía  108 + 135 = 243  2020   Femenino  \n",
       "3       Briken Calja Albania  152 + 184 = 336  2020  Masculino  \n",
       "12       Nina Sterckx Bélgica  88 + 109 = 197  2020   Femenino  \n",
       "11     Mihaela Cambei Rumania  80 + 100 = 180  2020   Femenino  "
      ]
     },
     "metadata": {},
     "output_type": "display_data"
    },
    {
     "name": "stdout",
     "output_type": "stream",
     "text": [
      "\n",
      "########################################################################################\n",
      "¿Cuáles son las columnas del conjunto de datos?\n",
      "\t - Eventos\n",
      "\t - Oro\n",
      "\t - Plata\n",
      "\t - Bronce\n",
      "\t - Año\n",
      "\t - Genero\n",
      "\n",
      "########################################################################################\n",
      "¿Cuál es el tipo de datos de cada columna?\n",
      "Eventos    object\n",
      "Oro        object\n",
      "Plata      object\n",
      "Bronce     object\n",
      "Año         int64\n",
      "Genero     object\n",
      "dtype: object\n",
      "\n",
      "########################################################################################\n",
      "¿Cuántas columnas hay de cada tipo de datos?\n",
      "object    5\n",
      "int64     1\n",
      "Name: count, dtype: int64\n",
      "\n",
      "########################################################################################\n",
      "¿Cómo podríamos obtener información más completa sobre la estructura y el contenido del DataFrame?\n",
      "<class 'pandas.core.frame.DataFrame'>\n",
      "RangeIndex: 20 entries, 0 to 19\n",
      "Data columns (total 6 columns):\n",
      " #   Column   Non-Null Count  Dtype \n",
      "---  ------   --------------  ----- \n",
      " 0   Eventos  20 non-null     object\n",
      " 1   Oro      20 non-null     object\n",
      " 2   Plata    20 non-null     object\n",
      " 3   Bronce   20 non-null     object\n",
      " 4   Año      20 non-null     int64 \n",
      " 5   Genero   20 non-null     object\n",
      "dtypes: int64(1), object(5)\n",
      "memory usage: 1.1+ KB\n",
      "None\n",
      "\n",
      "########################################################################################\n",
      "¿Cuántos valores únicos tiene cada columna?\n",
      "Eventos    19\n",
      "Oro        20\n",
      "Plata      20\n",
      "Bronce     20\n",
      "Año         1\n",
      "Genero      2\n",
      "dtype: int64\n",
      "\n",
      "########################################################################################\n",
      "¿Cuáles son las estadísticas descriptivas básicas de todas las columnas?\n"
     ]
    },
    {
     "data": {
      "text/html": [
       "<div>\n",
       "<style scoped>\n",
       "    .dataframe tbody tr th:only-of-type {\n",
       "        vertical-align: middle;\n",
       "    }\n",
       "\n",
       "    .dataframe tbody tr th {\n",
       "        vertical-align: top;\n",
       "    }\n",
       "\n",
       "    .dataframe thead th {\n",
       "        text-align: right;\n",
       "    }\n",
       "</style>\n",
       "<table border=\"1\" class=\"dataframe\">\n",
       "  <thead>\n",
       "    <tr style=\"text-align: right;\">\n",
       "      <th></th>\n",
       "      <th>Eventos</th>\n",
       "      <th>Oro</th>\n",
       "      <th>Plata</th>\n",
       "      <th>Bronce</th>\n",
       "      <th>Año</th>\n",
       "      <th>Genero</th>\n",
       "    </tr>\n",
       "  </thead>\n",
       "  <tbody>\n",
       "    <tr>\n",
       "      <th>count</th>\n",
       "      <td>20</td>\n",
       "      <td>20</td>\n",
       "      <td>20</td>\n",
       "      <td>20</td>\n",
       "      <td>20.0</td>\n",
       "      <td>20</td>\n",
       "    </tr>\n",
       "    <tr>\n",
       "      <th>unique</th>\n",
       "      <td>19</td>\n",
       "      <td>20</td>\n",
       "      <td>20</td>\n",
       "      <td>20</td>\n",
       "      <td></td>\n",
       "      <td>2</td>\n",
       "    </tr>\n",
       "    <tr>\n",
       "      <th>top</th>\n",
       "      <td>55 kg (04.04)</td>\n",
       "      <td>Anguel Rusev Bulgaria  111 + 147 = 258[n 1]​</td>\n",
       "      <td>Valentin Iancu Rumania  108 + 140 = 248[n 1]​</td>\n",
       "      <td>Dmytro Voronovsky Ucrania  110 + 137 = 247[n 1]​</td>\n",
       "      <td></td>\n",
       "      <td>Masculino</td>\n",
       "    </tr>\n",
       "    <tr>\n",
       "      <th>freq</th>\n",
       "      <td>2</td>\n",
       "      <td>1</td>\n",
       "      <td>1</td>\n",
       "      <td>1</td>\n",
       "      <td></td>\n",
       "      <td>10</td>\n",
       "    </tr>\n",
       "    <tr>\n",
       "      <th>mean</th>\n",
       "      <td></td>\n",
       "      <td></td>\n",
       "      <td></td>\n",
       "      <td></td>\n",
       "      <td>2020.0</td>\n",
       "      <td></td>\n",
       "    </tr>\n",
       "    <tr>\n",
       "      <th>std</th>\n",
       "      <td></td>\n",
       "      <td></td>\n",
       "      <td></td>\n",
       "      <td></td>\n",
       "      <td>0.0</td>\n",
       "      <td></td>\n",
       "    </tr>\n",
       "    <tr>\n",
       "      <th>min</th>\n",
       "      <td></td>\n",
       "      <td></td>\n",
       "      <td></td>\n",
       "      <td></td>\n",
       "      <td>2020.0</td>\n",
       "      <td></td>\n",
       "    </tr>\n",
       "    <tr>\n",
       "      <th>25%</th>\n",
       "      <td></td>\n",
       "      <td></td>\n",
       "      <td></td>\n",
       "      <td></td>\n",
       "      <td>2020.0</td>\n",
       "      <td></td>\n",
       "    </tr>\n",
       "    <tr>\n",
       "      <th>50%</th>\n",
       "      <td></td>\n",
       "      <td></td>\n",
       "      <td></td>\n",
       "      <td></td>\n",
       "      <td>2020.0</td>\n",
       "      <td></td>\n",
       "    </tr>\n",
       "    <tr>\n",
       "      <th>75%</th>\n",
       "      <td></td>\n",
       "      <td></td>\n",
       "      <td></td>\n",
       "      <td></td>\n",
       "      <td>2020.0</td>\n",
       "      <td></td>\n",
       "    </tr>\n",
       "    <tr>\n",
       "      <th>max</th>\n",
       "      <td></td>\n",
       "      <td></td>\n",
       "      <td></td>\n",
       "      <td></td>\n",
       "      <td>2020.0</td>\n",
       "      <td></td>\n",
       "    </tr>\n",
       "  </tbody>\n",
       "</table>\n",
       "</div>"
      ],
      "text/plain": [
       "              Eventos                                           Oro  \\\n",
       "count              20                                            20   \n",
       "unique             19                                            20   \n",
       "top     55 kg (04.04)  Anguel Rusev Bulgaria  111 + 147 = 258[n 1]​   \n",
       "freq                2                                             1   \n",
       "mean                                                                  \n",
       "std                                                                   \n",
       "min                                                                   \n",
       "25%                                                                   \n",
       "50%                                                                   \n",
       "75%                                                                   \n",
       "max                                                                   \n",
       "\n",
       "                                                Plata  \\\n",
       "count                                              20   \n",
       "unique                                             20   \n",
       "top     Valentin Iancu Rumania  108 + 140 = 248[n 1]​   \n",
       "freq                                                1   \n",
       "mean                                                    \n",
       "std                                                     \n",
       "min                                                     \n",
       "25%                                                     \n",
       "50%                                                     \n",
       "75%                                                     \n",
       "max                                                     \n",
       "\n",
       "                                                  Bronce     Año     Genero  \n",
       "count                                                 20    20.0         20  \n",
       "unique                                                20                  2  \n",
       "top     Dmytro Voronovsky Ucrania  110 + 137 = 247[n 1]​          Masculino  \n",
       "freq                                                   1                 10  \n",
       "mean                                                      2020.0             \n",
       "std                                                          0.0             \n",
       "min                                                       2020.0             \n",
       "25%                                                       2020.0             \n",
       "50%                                                       2020.0             \n",
       "75%                                                       2020.0             \n",
       "max                                                       2020.0             "
      ]
     },
     "metadata": {},
     "output_type": "display_data"
    },
    {
     "name": "stdout",
     "output_type": "stream",
     "text": [
      "\n",
      "########################################################################################\n",
      "¿Hay valores nulos en el conjunto de datos?\n",
      "Eventos    0\n",
      "Oro        0\n",
      "Plata      0\n",
      "Bronce     0\n",
      "Año        0\n",
      "Genero     0\n",
      "dtype: int64\n",
      "\n",
      "########################################################################################\n",
      "¿Cuál es el porcentaje de valores nulos en cada columna?\n",
      "Eventos    0.0\n",
      "Oro        0.0\n",
      "Plata      0.0\n",
      "Bronce     0.0\n",
      "Año        0.0\n",
      "Genero     0.0\n",
      "dtype: float64\n",
      "\n",
      "########################################################################################\n",
      "¿Hay filas duplicadas en el conjunto de datos?\n",
      "\tExisten duplicados: False\n",
      "\tNúmero total de filas duplicadas: 0\n",
      "\n",
      "########################################################################################\n"
     ]
    }
   ],
   "source": [
    "for k, v in dict_datos.items():\n",
    "    print(\"_\"*len(k))\n",
    "    print(k)\n",
    "    print(\"_\"*len(k))\n",
    "    exploracion_inicial(df= v)"
   ]
  },
  {
   "cell_type": "markdown",
   "id": "60880d96",
   "metadata": {},
   "source": [
    "No hay nulos ni duplicados.\n",
    "\n",
    "Hay caracteres extraños que debemos limpiar.\n",
    "\n",
    "Hay columnas con muchos datos que deberíamos separar en distintas columnas para analizarlos de manera correcta.\n",
    "\n",
    "Por ejemplo, columna `Oro`:\n",
    "\n",
    "`Mirco Scarantino Italia 116 + 145 = 261[n 1]​`\n"
   ]
  },
  {
   "cell_type": "markdown",
   "id": "cbc0eb3b",
   "metadata": {},
   "source": [
    "## <span style=\"color: #2A8E3C;\"> Paso 4. Crear un único dataframe con los datos de 2019 y 2020 </span> "
   ]
  },
  {
   "cell_type": "markdown",
   "id": "d0ea0254",
   "metadata": {},
   "source": [
    "Como tienen la misma estructura, los concatenaremos en un mismo dataframe para proceder a la limpieza de los datos."
   ]
  },
  {
   "cell_type": "code",
   "execution_count": 5,
   "id": "cf6a1c09",
   "metadata": {},
   "outputs": [
    {
     "data": {
      "text/html": [
       "<div>\n",
       "<style scoped>\n",
       "    .dataframe tbody tr th:only-of-type {\n",
       "        vertical-align: middle;\n",
       "    }\n",
       "\n",
       "    .dataframe tbody tr th {\n",
       "        vertical-align: top;\n",
       "    }\n",
       "\n",
       "    .dataframe thead th {\n",
       "        text-align: right;\n",
       "    }\n",
       "</style>\n",
       "<table border=\"1\" class=\"dataframe\">\n",
       "  <thead>\n",
       "    <tr style=\"text-align: right;\">\n",
       "      <th></th>\n",
       "      <th>Eventos</th>\n",
       "      <th>Oro</th>\n",
       "      <th>Plata</th>\n",
       "      <th>Bronce</th>\n",
       "      <th>Año</th>\n",
       "      <th>Genero</th>\n",
       "    </tr>\n",
       "  </thead>\n",
       "  <tbody>\n",
       "    <tr>\n",
       "      <th>0</th>\n",
       "      <td>55 kg (06.04)</td>\n",
       "      <td>Mirco Scarantino Italia  116 + 145 = 261[n 1]​</td>\n",
       "      <td>Anguel Rusev Bulgaria  110 + 146 = 256[n 1]​</td>\n",
       "      <td>Muammer Şahin Turquía  112 + 135 = 247[n 1]​</td>\n",
       "      <td>2019</td>\n",
       "      <td>Masculino</td>\n",
       "    </tr>\n",
       "    <tr>\n",
       "      <th>1</th>\n",
       "      <td>61 kg (07.04)</td>\n",
       "      <td>Henadz Laptseu Bielorrusia  133 + 153 = 286</td>\n",
       "      <td>Bünyamin Sezer Turquía  132 + 151 = 283</td>\n",
       "      <td>Ferdi Hardal Turquía  127 + 155 = 282</td>\n",
       "      <td>2019</td>\n",
       "      <td>Masculino</td>\n",
       "    </tr>\n",
       "    <tr>\n",
       "      <th>2</th>\n",
       "      <td>67 kg (08.04)</td>\n",
       "      <td>Bernardin Matam Francia  137 + 175 = 312</td>\n",
       "      <td>Simon Brandhuber Alemania  146 + 165 = 311</td>\n",
       "      <td>Goga Chjeidze Georgia  139 + 169 = 308</td>\n",
       "      <td>2019</td>\n",
       "      <td>Masculino</td>\n",
       "    </tr>\n",
       "    <tr>\n",
       "      <th>3</th>\n",
       "      <td>73 kg (09.04)</td>\n",
       "      <td>Bozhidar Andreev Bulgaria  153 + 192 = 345</td>\n",
       "      <td>Briken Calja Albania  156 + 183 = 339</td>\n",
       "      <td>Vadzim Lijarad Bielorrusia  153 + 182 = 335</td>\n",
       "      <td>2019</td>\n",
       "      <td>Masculino</td>\n",
       "    </tr>\n",
       "    <tr>\n",
       "      <th>4</th>\n",
       "      <td>81 kg (10.04)</td>\n",
       "      <td>Antonino Pizzolato Italia  155 + 201 = 356</td>\n",
       "      <td>Piotr Asayonak Bielorrusia  159 + 196 = 355</td>\n",
       "      <td>Ritvars Suharevs Letonia  162 + 192 = 354</td>\n",
       "      <td>2019</td>\n",
       "      <td>Masculino</td>\n",
       "    </tr>\n",
       "  </tbody>\n",
       "</table>\n",
       "</div>"
      ],
      "text/plain": [
       "         Eventos                                             Oro  \\\n",
       "0  55 kg (06.04)  Mirco Scarantino Italia  116 + 145 = 261[n 1]​   \n",
       "1  61 kg (07.04)     Henadz Laptseu Bielorrusia  133 + 153 = 286   \n",
       "2  67 kg (08.04)        Bernardin Matam Francia  137 + 175 = 312   \n",
       "3  73 kg (09.04)      Bozhidar Andreev Bulgaria  153 + 192 = 345   \n",
       "4  81 kg (10.04)      Antonino Pizzolato Italia  155 + 201 = 356   \n",
       "\n",
       "                                          Plata  \\\n",
       "0  Anguel Rusev Bulgaria  110 + 146 = 256[n 1]​   \n",
       "1       Bünyamin Sezer Turquía  132 + 151 = 283   \n",
       "2    Simon Brandhuber Alemania  146 + 165 = 311   \n",
       "3         Briken Calja Albania  156 + 183 = 339   \n",
       "4   Piotr Asayonak Bielorrusia  159 + 196 = 355   \n",
       "\n",
       "                                         Bronce   Año     Genero  \n",
       "0  Muammer Şahin Turquía  112 + 135 = 247[n 1]​  2019  Masculino  \n",
       "1         Ferdi Hardal Turquía  127 + 155 = 282  2019  Masculino  \n",
       "2        Goga Chjeidze Georgia  139 + 169 = 308  2019  Masculino  \n",
       "3   Vadzim Lijarad Bielorrusia  153 + 182 = 335  2019  Masculino  \n",
       "4     Ritvars Suharevs Letonia  162 + 192 = 354  2019  Masculino  "
      ]
     },
     "execution_count": 5,
     "metadata": {},
     "output_type": "execute_result"
    }
   ],
   "source": [
    "df = pd.concat(dict_datos.values(), ignore_index=True)\n",
    "df.head()"
   ]
  },
  {
   "cell_type": "markdown",
   "id": "36ae8e0e",
   "metadata": {},
   "source": [
    "## <span style=\"color: #2A8E3C;\"> Paso 5. Transformar los datos </span> "
   ]
  },
  {
   "cell_type": "markdown",
   "id": "97206426",
   "metadata": {},
   "source": [
    "Para empezar a ordenar las columnas crearemos nuevas columnas:\n",
    "- `Medalla` donde indicaremos si es Oro, Plata o Bronce.\n",
    "- `Atleta`donde indicaremos los datos que actualmente se encuentran en las columnas `Oro`, `Plata` y `Bronce`."
   ]
  },
  {
   "cell_type": "code",
   "execution_count": 6,
   "id": "c6320449",
   "metadata": {},
   "outputs": [],
   "source": [
    "def transformar_datos(df):\n",
    "   \n",
    "    # Transformar el DataFrame de formato ancho a formato largo usando pd.melt\n",
    "    \n",
    "    df_melted = pd.melt(\n",
    "        df,\n",
    "        # Las columnas id_vars se conservan en cada fila\n",
    "        id_vars=['Eventos', 'Año', 'Genero'],   # Columnas que mantienen su estructura original\n",
    "        # Las columnas value_vars se convierten en valores de la nueva columna 'Medalla'\n",
    "        value_vars=['Oro', 'Plata', 'Bronce'],  # Columnas que se convertirán en valores\n",
    "        var_name='Medalla',                     # Nombre de la columna para los tipos de medalla\n",
    "        # Los valores originales de estas columnas se almacenan en la nueva columna 'Atleta'\n",
    "        value_name='Atleta'                     # Nombre de la columna para los nombres de atletas\n",
    "    )\n",
    "\n",
    "    return df_melted"
   ]
  },
  {
   "cell_type": "markdown",
   "id": "4daed660",
   "metadata": {},
   "source": [
    "Realizamos la transformación y comprobamos que el dataframe resultante no tenga nulos ni duplicados y los datos sigan siendo consistentes."
   ]
  },
  {
   "cell_type": "code",
   "execution_count": 7,
   "id": "58fc9a4a",
   "metadata": {},
   "outputs": [
    {
     "name": "stdout",
     "output_type": "stream",
     "text": [
      "¿Cuántas filas y columnas hay en el conjunto de datos?\n",
      "\tHay 120 filas y 5 columnas.\n",
      "¿Cuáles son las primeras dos filas del conjunto de datos?\n"
     ]
    },
    {
     "data": {
      "text/html": [
       "<div>\n",
       "<style scoped>\n",
       "    .dataframe tbody tr th:only-of-type {\n",
       "        vertical-align: middle;\n",
       "    }\n",
       "\n",
       "    .dataframe tbody tr th {\n",
       "        vertical-align: top;\n",
       "    }\n",
       "\n",
       "    .dataframe thead th {\n",
       "        text-align: right;\n",
       "    }\n",
       "</style>\n",
       "<table border=\"1\" class=\"dataframe\">\n",
       "  <thead>\n",
       "    <tr style=\"text-align: right;\">\n",
       "      <th></th>\n",
       "      <th>Eventos</th>\n",
       "      <th>Año</th>\n",
       "      <th>Genero</th>\n",
       "      <th>Medalla</th>\n",
       "      <th>Atleta</th>\n",
       "    </tr>\n",
       "  </thead>\n",
       "  <tbody>\n",
       "    <tr>\n",
       "      <th>0</th>\n",
       "      <td>55 kg (06.04)</td>\n",
       "      <td>2019</td>\n",
       "      <td>Masculino</td>\n",
       "      <td>Oro</td>\n",
       "      <td>Mirco Scarantino Italia  116 + 145 = 261[n 1]​</td>\n",
       "    </tr>\n",
       "    <tr>\n",
       "      <th>1</th>\n",
       "      <td>61 kg (07.04)</td>\n",
       "      <td>2019</td>\n",
       "      <td>Masculino</td>\n",
       "      <td>Oro</td>\n",
       "      <td>Henadz Laptseu Bielorrusia  133 + 153 = 286</td>\n",
       "    </tr>\n",
       "  </tbody>\n",
       "</table>\n",
       "</div>"
      ],
      "text/plain": [
       "         Eventos   Año     Genero Medalla  \\\n",
       "0  55 kg (06.04)  2019  Masculino     Oro   \n",
       "1  61 kg (07.04)  2019  Masculino     Oro   \n",
       "\n",
       "                                           Atleta  \n",
       "0  Mirco Scarantino Italia  116 + 145 = 261[n 1]​  \n",
       "1     Henadz Laptseu Bielorrusia  133 + 153 = 286  "
      ]
     },
     "metadata": {},
     "output_type": "display_data"
    },
    {
     "name": "stdout",
     "output_type": "stream",
     "text": [
      "\n",
      "########################################################################################\n",
      "¿Hay valores nulos en el conjunto de datos?\n",
      "Eventos    0\n",
      "Año        0\n",
      "Genero     0\n",
      "Medalla    0\n",
      "Atleta     0\n",
      "dtype: int64\n",
      "\n",
      "########################################################################################\n",
      "¿Cuál es el porcentaje de valores nulos en cada columna?\n",
      "Eventos    0.0\n",
      "Año        0.0\n",
      "Genero     0.0\n",
      "Medalla    0.0\n",
      "Atleta     0.0\n",
      "dtype: float64\n",
      "\n",
      "########################################################################################\n",
      "¿Hay filas duplicadas en el conjunto de datos?\n",
      "\tExisten duplicados: False\n",
      "\tNúmero total de filas duplicadas: 0\n",
      "\n",
      "########################################################################################\n"
     ]
    }
   ],
   "source": [
    "df_medallas = transformar_datos (df)\n",
    "exploracion_inicial(df= df_medallas, tipo = 'lite')"
   ]
  },
  {
   "cell_type": "markdown",
   "id": "87f0f066",
   "metadata": {},
   "source": [
    "## <span style=\"color: #2A8E3C;\"> Paso 6. Creación de columnas </span> "
   ]
  },
  {
   "cell_type": "markdown",
   "id": "6ffa0a1e",
   "metadata": {},
   "source": [
    "Vamos a crear las siguientes columnas:\n",
    "- `Fecha` : Juntando los datos de día y mes de la columna `Evento`y el `Año`\n",
    "- `Nombre`: Extrayendo los datos de la columna `Atleta`\n",
    "- `Apellido`: Extrayendo los datos de la columna `Atleta`\n",
    "- `País`: Extrayendo los datos de la columna `Atleta`\n",
    "- `Resultados`: Extrayendo los datos de la columna `Atleta`\n",
    "- `Arrancada` : Extrayendo los datos de la columna `Atleta`\n",
    "- `Dos tiempos`: Extrayendo los datos de la columna `Atleta`\n",
    "- `Total`: Extrayendo los datos de la columna `Atleta`"
   ]
  },
  {
   "cell_type": "markdown",
   "id": "81eddc7f",
   "metadata": {},
   "source": [
    "Empiezo buscando caracteres extraños en las columnas que voy a tratar para que las funciones se apliquen correctamente.\n",
    "\n",
    "Para ello anoto los caracteres extraños encontrados."
   ]
  },
  {
   "cell_type": "code",
   "execution_count": 8,
   "id": "b3704d09",
   "metadata": {},
   "outputs": [
    {
     "data": {
      "text/plain": [
       "array(['55\\xa0kg (06.04)', '61\\xa0kg (07.04)', '67\\xa0kg (08.04)',\n",
       "       '73\\xa0kg (09.04)', '81\\xa0kg (10.04)', '89\\xa0kg (11.04)',\n",
       "       '96\\xa0kg (12.04)', '102\\xa0kg (13.04)', '109\\xa0kg (13.04)',\n",
       "       '+109\\xa0kg (13.04)', '45\\xa0kg (06.04)', '49\\xa0kg (06.04)',\n",
       "       '55\\xa0kg (07.04)', '59\\xa0kg (08.04)', '64\\xa0kg (09.04)',\n",
       "       '71\\xa0kg (10.04)', '76\\xa0kg (11.04)',\n",
       "       '81\\xa0kg[n 2]\\u200b (12.04)', '87\\xa0kg (12.04)',\n",
       "       '+87\\xa0kg (13.04)', '55\\xa0kg (04.04)', '61\\xa0kg (04.04)',\n",
       "       '67\\xa0kg (05.04)', '73\\xa0kg (06.04)', '81\\xa0kg (07.04)',\n",
       "       '89\\xa0kg (08.04)', '96\\xa0kg (09.04)', '102\\xa0kg (10.04)',\n",
       "       '109\\xa0kg (10.04)', '+109\\xa0kg (11.04)', '45\\xa0kg (03.04)',\n",
       "       '49\\xa0kg (03.04)', '59\\xa0kg (05.04)', '64\\xa0kg (06.04)',\n",
       "       '71\\xa0kg (07.04)', '76\\xa0kg (08.04)', '81\\xa0kg (09.04)',\n",
       "       '87\\xa0kg (10.04)', '+87\\xa0kg (11.04)'], dtype=object)"
      ]
     },
     "execution_count": 8,
     "metadata": {},
     "output_type": "execute_result"
    }
   ],
   "source": [
    "df_medallas['Eventos'].unique() #\\xa0 #[n 2]\\u200b "
   ]
  },
  {
   "cell_type": "code",
   "execution_count": 9,
   "id": "39352b3d",
   "metadata": {},
   "outputs": [
    {
     "data": {
      "text/plain": [
       "array(['Mirco Scarantino Italia  116 + 145 = 261[n 1]\\u200b',\n",
       "       'Henadz Laptseu Bielorrusia  133 + 153 = 286',\n",
       "       'Bernardin Matam Francia  137 + 175 = 312',\n",
       "       'Bozhidar Andreev Bulgaria  153 + 192 = 345',\n",
       "       'Antonino Pizzolato Italia  155 + 201 = 356',\n",
       "       'Hakob Mkrtchian Armenia  164 + 207 = 371',\n",
       "       'Yauheni Tsijantsou Bielorrusia  178 + 222 = 400',\n",
       "       'Dmytro Chumak Ucrania  175 + 216 = 391',\n",
       "       'Simon Martirosian Armenia  192 + 235 = 427',\n",
       "       'Lasha Talajadze Georgia  218 + 260 = 478',\n",
       "       'Şaziye Erdoğan Turquía  75 + 88 = 163[n 1]\\u200b',\n",
       "       'Elena Andrieș Rumania  87 + 103 = 190',\n",
       "       'Joanna Łochowska Polonia  87 + 112 = 199',\n",
       "       'Rebeka Koha Letonia  101 + 120 = 221',\n",
       "       'Loredana Toma Rumania  111 + 128 = 239',\n",
       "       'Anastasiya Romanova Rusia  112 + 128 = 240',\n",
       "       'Daria Naumava Bielorrusia  106 + 136 = 242',\n",
       "       'Nina Schroth Alemania  102 + 120 = 222',\n",
       "       'Xeniya Pasjina Rusia  110 + 132 = 242',\n",
       "       'Tatiana Kashirina Rusia  146 + 185 = 331',\n",
       "       'Anguel Rusev Bulgaria  111 + 147 = 258[n 1]\\u200b',\n",
       "       'Stilian Grozdev Bulgaria  136 + 160 = 296',\n",
       "       'Muhammed Özbek Turquía  145 + 178 = 323',\n",
       "       'Daniyar İsmayilov Turquía  160 + 181 = 341',\n",
       "       'Antonino Pizzolato Italia  164 + 206 = 370',\n",
       "       'Karen Avaguian Armenia  175 + 200 = 375',\n",
       "       'Anton Pliesnoi Georgia  180 + 213 = 393',\n",
       "       'Samvel Gasparian Armenia  176 +214 = 390',\n",
       "       'Dmytro Chumak Ucrania  181 + 226 = 407',\n",
       "       'Lasha Talajadze Georgia  222 + 263 = 485',\n",
       "       'Nadezhda Nguen Bulgaria  72 + 83 = 155[n 1]\\u200b',\n",
       "       'Monica Csengeri Rumania  86 + 103 = 189',\n",
       "       'Kamila Konotop Ucrania  95 + 113 = 208',\n",
       "       'Boyanka Kostova Azerbaiyán  95 + 116 = 211',\n",
       "       'Loredana Toma Rumania  114 + 130 = 244',\n",
       "       'Emily Godley Reino Unido  98 + 129 = 227',\n",
       "       'Iryna Deja Ucrania  113 + 135 = 248',\n",
       "       'Alina Marushchak Ucrania  109 + 127 = 236',\n",
       "       'Daria Ajmerova Rusia  108 + 138 = 246',\n",
       "       'Emily Campbell Reino Unido  122 + 154 = 276',\n",
       "       'Anguel Rusev Bulgaria  110 + 146 = 256[n 1]\\u200b',\n",
       "       'Bünyamin Sezer Turquía  132 + 151 = 283',\n",
       "       'Simon Brandhuber Alemania  146 + 165 = 311',\n",
       "       'Briken Calja Albania  156 + 183 = 339',\n",
       "       'Piotr Asayonak Bielorrusia  159 + 196 = 355',\n",
       "       'Revaz Davitadze Georgia  170 + 200 = 370',\n",
       "       'Yegor Klimonov Rusia  168 + 210 = 378',\n",
       "       'Samvel Gasparian Armenia  168 + 209 = 377',\n",
       "       'Andrei Aramnau Bielorrusia  190 + 221 = 411',\n",
       "       'Irakli Turmanidze Georgia  206 + 241 = 447',\n",
       "       'Ivana Petrova Bulgaria  69 + 89 = 158[n 1]\\u200b',\n",
       "       'Kristina Sobol Rusia  85 + 95 = 180',\n",
       "       'Svetlana Yershova Rusia  90 + 108 = 198',\n",
       "       'Tatiana Aleyeva Rusia  94 + 120 = 214',\n",
       "       'Irina Lepșa Rumania  102 + 127 = 229',\n",
       "       'Emily Godley Reino Unido  93 + 123 = 216',\n",
       "       'Lidia Valentín[2]\\u200b España  108 + 133 = 241',\n",
       "       'Anna Van Bellinghen Bélgica  103 + 118 = 221',\n",
       "       'Diana Mstiyeva Rusia  110 + 130 = 240',\n",
       "       'Anastasiya Lysenko Ucrania  120 + 148 = 268',\n",
       "       'Valentin Iancu Rumania  108 + 140 = 248[n 1]\\u200b',\n",
       "       'Shota Mishvelidze Georgia  135 + 155 = 290',\n",
       "       'Mirko Zanni Italia  148 + 170 = 318',\n",
       "       'Marin Robu Moldavia  156 + 183 = 339',\n",
       "       'Karlos Nasar Bulgaria  163 + 206 = 369',\n",
       "       'Revaz Davitadze Georgia  171 + 203 = 374',\n",
       "       'Piotr Asayonak Bielorrusia  172 + 202 = 374',\n",
       "       'Arsen Martirosian Armenia  171 + 209 = 380',\n",
       "       'Jristo Jristov Bulgaria  186 + 220 = 406',\n",
       "       'Gor Minasian Armenia  216 + 248 = 464',\n",
       "       'Ivana Petrova Bulgaria  67 + 85 = 152[n 1]\\u200b',\n",
       "       'Kristina Sobol Rusia  85 + 96 = 181',\n",
       "       'Svetlana Yershova Rusia  88 + 112 = 200',\n",
       "       'Olga Tio Rusia  95 + 115 = 210',\n",
       "       'Sarah Davies Reino Unido  101 + 129 = 230',\n",
       "       'Alessia Durante Italia  97 + 122 = 219',\n",
       "       'Yana Sotiyeva Rusia  112 + 134 = 246',\n",
       "       'Gaëlle Nayo-Ketchanke Francia  100 + 131 = 231',\n",
       "       'Elena Cîlcic Moldavia  107 + 138 = 245',\n",
       "       'Anastasiya Lysenko Ucrania  116 + 136 = 252',\n",
       "       'Muammer Şahin Turquía  112 + 135 = 247[n 1]\\u200b',\n",
       "       'Ferdi Hardal Turquía  127 + 155 = 282',\n",
       "       'Goga Chjeidze Georgia  139 + 169 = 308',\n",
       "       'Vadzim Lijarad Bielorrusia  153 + 182 = 335',\n",
       "       'Ritvars Suharevs Letonia  162 + 192 = 354',\n",
       "       'Davit Hovhannisian Armenia  165 + 195 = 360',\n",
       "       'Anton Pliesnoi Georgia  173 + 204 = 377',\n",
       "       'Vadzim Straltsou Bielorrusia  170 + 206 = 376',\n",
       "       'Rodion Bochkov Rusia  192 + 218 = 410',\n",
       "       'Ruben Alexanian Armenia  195 + 245 = 440',\n",
       "       'Yuliya Asayonak Bielorrusia  69 + 81 = 150[n 1]\\u200b',\n",
       "       'Giorgia Russo Italia  75 + 103 = 178',\n",
       "       'Kristina Novitskaya Rusia  85 + 105 = 190',\n",
       "       'Alexandra Kozlova Rusia  96 + 117 = 213',\n",
       "       'Zoe Smith Reino Unido  96 + 128 = 224',\n",
       "       'Mădălina Molie Rumania  101 + 114 = 215',\n",
       "       'Patricia Strenius Suecia  101 + 132 = 233',\n",
       "       'Liana Guiurdzhian Armenia  97 + 120 = 217',\n",
       "       'Sarah Fischer Austria  102 + 129 = 231',\n",
       "       'Emily Campbell Reino Unido  115 + 145 = 260',\n",
       "       'Dmytro Voronovsky Ucrania  110 + 137 = 247[n 1]\\u200b',\n",
       "       'Ferdi Hardal Turquía  130 + 157 = 287',\n",
       "       'Valentin Guenchev Bulgaria  138 + 177 = 315',\n",
       "       'Briken Calja Albania  152 + 184 = 336',\n",
       "       'Ritvars Suharevs Letonia  157 + 190 = 347',\n",
       "       'Andranik Karapetian Armenia  170 + 195 = 365',\n",
       "       'Hakob Mkrtchian Armenia  160 + 212 = 372',\n",
       "       'Dadaş Dadaşbəyli Azerbaiyán  177 + 202 = 379',\n",
       "       'Timur Naniyev Rusia  184 + 217 = 401',\n",
       "       'Varazdat Lalayan Armenia  205 + 240 = 445',\n",
       "       'Melisa Güneş Turquía  68 + 83 = 151[n 1]\\u200b',\n",
       "       'Mihaela Cambei Rumania  80 + 100 = 180',\n",
       "       'Nina Sterckx Bélgica  88 + 109 = 197',\n",
       "       'Dora Tchakounté Francia  95 + 115 = 210',\n",
       "       'Anastasiya Anzorova Rusia  100 + 122 = 222',\n",
       "       'Raluca Olaru Rumania  98 + 120 = 218',\n",
       "       'Anastasiya Romanova Rusia  111 + 132 = 243',\n",
       "       'Liana Guiurdzhian Armenia  98 + 129 = 227',\n",
       "       'Daria Riazanova Rusia  105 + 135 = 240',\n",
       "       'Melike Günal Turquía  108 + 135 = 243'], dtype=object)"
      ]
     },
     "execution_count": 9,
     "metadata": {},
     "output_type": "execute_result"
    }
   ],
   "source": [
    "df_medallas['Atleta'].unique() #[n 1]\\u200b' #[2]​"
   ]
  },
  {
   "cell_type": "markdown",
   "id": "bd0442e6",
   "metadata": {},
   "source": [
    "Los caracteres que hemos identificados son:\n",
    "\n",
    "- `\\u200b `- Espacio de ancho cero (Zero Width Space): Un carácter invisible utilizado en tipografía web para indicar posibles puntos de ruptura de línea sin mostrar espacios.\n",
    "- `\\xa0` - Espacio duro o no rompible (Non-Breaking Space): Representado como &nbsp; en HTML, impide que se produzcan saltos de línea en ciertos puntos del texto.\n",
    "- `[2]`, `[n 1] `- Marcadores de referencias o notas al pie: Típicamente utilizados en Wikipedia y otras fuentes académicas para señalar referencias."
   ]
  },
  {
   "cell_type": "markdown",
   "id": "b54a2a81",
   "metadata": {},
   "source": [
    "Por ahora vamos a eliminar `[n 1]\\u200b`, `[2]`,​ `[n 2]\\u200b `"
   ]
  },
  {
   "cell_type": "code",
   "execution_count": 10,
   "id": "39c02754",
   "metadata": {},
   "outputs": [],
   "source": [
    "columnas_resultado = ['Eventos', 'Año', 'Atleta']\n",
    "\n",
    "df_medallas[columnas_resultado] = df_medallas[columnas_resultado].replace(r'\\[\\s*(n\\s*)?[12]\\]\\s*[\\u200B]*', '', regex=True)"
   ]
  },
  {
   "cell_type": "code",
   "execution_count": 11,
   "id": "cdc6c2c3",
   "metadata": {},
   "outputs": [
    {
     "data": {
      "text/plain": [
       "array(['55\\xa0kg (06.04)', '61\\xa0kg (07.04)', '67\\xa0kg (08.04)',\n",
       "       '73\\xa0kg (09.04)', '81\\xa0kg (10.04)', '89\\xa0kg (11.04)',\n",
       "       '96\\xa0kg (12.04)', '102\\xa0kg (13.04)', '109\\xa0kg (13.04)',\n",
       "       '+109\\xa0kg (13.04)', '45\\xa0kg (06.04)', '49\\xa0kg (06.04)',\n",
       "       '55\\xa0kg (07.04)', '59\\xa0kg (08.04)', '64\\xa0kg (09.04)',\n",
       "       '71\\xa0kg (10.04)', '76\\xa0kg (11.04)', '81\\xa0kg (12.04)',\n",
       "       '87\\xa0kg (12.04)', '+87\\xa0kg (13.04)', '55\\xa0kg (04.04)',\n",
       "       '61\\xa0kg (04.04)', '67\\xa0kg (05.04)', '73\\xa0kg (06.04)',\n",
       "       '81\\xa0kg (07.04)', '89\\xa0kg (08.04)', '96\\xa0kg (09.04)',\n",
       "       '102\\xa0kg (10.04)', '109\\xa0kg (10.04)', '+109\\xa0kg (11.04)',\n",
       "       '45\\xa0kg (03.04)', '49\\xa0kg (03.04)', '59\\xa0kg (05.04)',\n",
       "       '64\\xa0kg (06.04)', '71\\xa0kg (07.04)', '76\\xa0kg (08.04)',\n",
       "       '81\\xa0kg (09.04)', '87\\xa0kg (10.04)', '+87\\xa0kg (11.04)'],\n",
       "      dtype=object)"
      ]
     },
     "execution_count": 11,
     "metadata": {},
     "output_type": "execute_result"
    }
   ],
   "source": [
    "#Comprobamos que se ha elimando correctamente [n 2]\\u200b y que solo queda \\xa0\n",
    "df_medallas['Eventos'].unique() #\\xa0 "
   ]
  },
  {
   "cell_type": "code",
   "execution_count": 12,
   "id": "7f2a0efc",
   "metadata": {},
   "outputs": [
    {
     "data": {
      "text/plain": [
       "array(['Mirco Scarantino Italia  116 + 145 = 261',\n",
       "       'Henadz Laptseu Bielorrusia  133 + 153 = 286',\n",
       "       'Bernardin Matam Francia  137 + 175 = 312',\n",
       "       'Bozhidar Andreev Bulgaria  153 + 192 = 345',\n",
       "       'Antonino Pizzolato Italia  155 + 201 = 356',\n",
       "       'Hakob Mkrtchian Armenia  164 + 207 = 371',\n",
       "       'Yauheni Tsijantsou Bielorrusia  178 + 222 = 400',\n",
       "       'Dmytro Chumak Ucrania  175 + 216 = 391',\n",
       "       'Simon Martirosian Armenia  192 + 235 = 427',\n",
       "       'Lasha Talajadze Georgia  218 + 260 = 478',\n",
       "       'Şaziye Erdoğan Turquía  75 + 88 = 163',\n",
       "       'Elena Andrieș Rumania  87 + 103 = 190',\n",
       "       'Joanna Łochowska Polonia  87 + 112 = 199',\n",
       "       'Rebeka Koha Letonia  101 + 120 = 221',\n",
       "       'Loredana Toma Rumania  111 + 128 = 239',\n",
       "       'Anastasiya Romanova Rusia  112 + 128 = 240',\n",
       "       'Daria Naumava Bielorrusia  106 + 136 = 242',\n",
       "       'Nina Schroth Alemania  102 + 120 = 222',\n",
       "       'Xeniya Pasjina Rusia  110 + 132 = 242',\n",
       "       'Tatiana Kashirina Rusia  146 + 185 = 331',\n",
       "       'Anguel Rusev Bulgaria  111 + 147 = 258',\n",
       "       'Stilian Grozdev Bulgaria  136 + 160 = 296',\n",
       "       'Muhammed Özbek Turquía  145 + 178 = 323',\n",
       "       'Daniyar İsmayilov Turquía  160 + 181 = 341',\n",
       "       'Antonino Pizzolato Italia  164 + 206 = 370',\n",
       "       'Karen Avaguian Armenia  175 + 200 = 375',\n",
       "       'Anton Pliesnoi Georgia  180 + 213 = 393',\n",
       "       'Samvel Gasparian Armenia  176 +214 = 390',\n",
       "       'Dmytro Chumak Ucrania  181 + 226 = 407',\n",
       "       'Lasha Talajadze Georgia  222 + 263 = 485',\n",
       "       'Nadezhda Nguen Bulgaria  72 + 83 = 155',\n",
       "       'Monica Csengeri Rumania  86 + 103 = 189',\n",
       "       'Kamila Konotop Ucrania  95 + 113 = 208',\n",
       "       'Boyanka Kostova Azerbaiyán  95 + 116 = 211',\n",
       "       'Loredana Toma Rumania  114 + 130 = 244',\n",
       "       'Emily Godley Reino Unido  98 + 129 = 227',\n",
       "       'Iryna Deja Ucrania  113 + 135 = 248',\n",
       "       'Alina Marushchak Ucrania  109 + 127 = 236',\n",
       "       'Daria Ajmerova Rusia  108 + 138 = 246',\n",
       "       'Emily Campbell Reino Unido  122 + 154 = 276',\n",
       "       'Anguel Rusev Bulgaria  110 + 146 = 256',\n",
       "       'Bünyamin Sezer Turquía  132 + 151 = 283',\n",
       "       'Simon Brandhuber Alemania  146 + 165 = 311',\n",
       "       'Briken Calja Albania  156 + 183 = 339',\n",
       "       'Piotr Asayonak Bielorrusia  159 + 196 = 355',\n",
       "       'Revaz Davitadze Georgia  170 + 200 = 370',\n",
       "       'Yegor Klimonov Rusia  168 + 210 = 378',\n",
       "       'Samvel Gasparian Armenia  168 + 209 = 377',\n",
       "       'Andrei Aramnau Bielorrusia  190 + 221 = 411',\n",
       "       'Irakli Turmanidze Georgia  206 + 241 = 447',\n",
       "       'Ivana Petrova Bulgaria  69 + 89 = 158',\n",
       "       'Kristina Sobol Rusia  85 + 95 = 180',\n",
       "       'Svetlana Yershova Rusia  90 + 108 = 198',\n",
       "       'Tatiana Aleyeva Rusia  94 + 120 = 214',\n",
       "       'Irina Lepșa Rumania  102 + 127 = 229',\n",
       "       'Emily Godley Reino Unido  93 + 123 = 216',\n",
       "       'Lidia Valentín España  108 + 133 = 241',\n",
       "       'Anna Van Bellinghen Bélgica  103 + 118 = 221',\n",
       "       'Diana Mstiyeva Rusia  110 + 130 = 240',\n",
       "       'Anastasiya Lysenko Ucrania  120 + 148 = 268',\n",
       "       'Valentin Iancu Rumania  108 + 140 = 248',\n",
       "       'Shota Mishvelidze Georgia  135 + 155 = 290',\n",
       "       'Mirko Zanni Italia  148 + 170 = 318',\n",
       "       'Marin Robu Moldavia  156 + 183 = 339',\n",
       "       'Karlos Nasar Bulgaria  163 + 206 = 369',\n",
       "       'Revaz Davitadze Georgia  171 + 203 = 374',\n",
       "       'Piotr Asayonak Bielorrusia  172 + 202 = 374',\n",
       "       'Arsen Martirosian Armenia  171 + 209 = 380',\n",
       "       'Jristo Jristov Bulgaria  186 + 220 = 406',\n",
       "       'Gor Minasian Armenia  216 + 248 = 464',\n",
       "       'Ivana Petrova Bulgaria  67 + 85 = 152',\n",
       "       'Kristina Sobol Rusia  85 + 96 = 181',\n",
       "       'Svetlana Yershova Rusia  88 + 112 = 200',\n",
       "       'Olga Tio Rusia  95 + 115 = 210',\n",
       "       'Sarah Davies Reino Unido  101 + 129 = 230',\n",
       "       'Alessia Durante Italia  97 + 122 = 219',\n",
       "       'Yana Sotiyeva Rusia  112 + 134 = 246',\n",
       "       'Gaëlle Nayo-Ketchanke Francia  100 + 131 = 231',\n",
       "       'Elena Cîlcic Moldavia  107 + 138 = 245',\n",
       "       'Anastasiya Lysenko Ucrania  116 + 136 = 252',\n",
       "       'Muammer Şahin Turquía  112 + 135 = 247',\n",
       "       'Ferdi Hardal Turquía  127 + 155 = 282',\n",
       "       'Goga Chjeidze Georgia  139 + 169 = 308',\n",
       "       'Vadzim Lijarad Bielorrusia  153 + 182 = 335',\n",
       "       'Ritvars Suharevs Letonia  162 + 192 = 354',\n",
       "       'Davit Hovhannisian Armenia  165 + 195 = 360',\n",
       "       'Anton Pliesnoi Georgia  173 + 204 = 377',\n",
       "       'Vadzim Straltsou Bielorrusia  170 + 206 = 376',\n",
       "       'Rodion Bochkov Rusia  192 + 218 = 410',\n",
       "       'Ruben Alexanian Armenia  195 + 245 = 440',\n",
       "       'Yuliya Asayonak Bielorrusia  69 + 81 = 150',\n",
       "       'Giorgia Russo Italia  75 + 103 = 178',\n",
       "       'Kristina Novitskaya Rusia  85 + 105 = 190',\n",
       "       'Alexandra Kozlova Rusia  96 + 117 = 213',\n",
       "       'Zoe Smith Reino Unido  96 + 128 = 224',\n",
       "       'Mădălina Molie Rumania  101 + 114 = 215',\n",
       "       'Patricia Strenius Suecia  101 + 132 = 233',\n",
       "       'Liana Guiurdzhian Armenia  97 + 120 = 217',\n",
       "       'Sarah Fischer Austria  102 + 129 = 231',\n",
       "       'Emily Campbell Reino Unido  115 + 145 = 260',\n",
       "       'Dmytro Voronovsky Ucrania  110 + 137 = 247',\n",
       "       'Ferdi Hardal Turquía  130 + 157 = 287',\n",
       "       'Valentin Guenchev Bulgaria  138 + 177 = 315',\n",
       "       'Briken Calja Albania  152 + 184 = 336',\n",
       "       'Ritvars Suharevs Letonia  157 + 190 = 347',\n",
       "       'Andranik Karapetian Armenia  170 + 195 = 365',\n",
       "       'Hakob Mkrtchian Armenia  160 + 212 = 372',\n",
       "       'Dadaş Dadaşbəyli Azerbaiyán  177 + 202 = 379',\n",
       "       'Timur Naniyev Rusia  184 + 217 = 401',\n",
       "       'Varazdat Lalayan Armenia  205 + 240 = 445',\n",
       "       'Melisa Güneş Turquía  68 + 83 = 151',\n",
       "       'Mihaela Cambei Rumania  80 + 100 = 180',\n",
       "       'Nina Sterckx Bélgica  88 + 109 = 197',\n",
       "       'Dora Tchakounté Francia  95 + 115 = 210',\n",
       "       'Anastasiya Anzorova Rusia  100 + 122 = 222',\n",
       "       'Raluca Olaru Rumania  98 + 120 = 218',\n",
       "       'Anastasiya Romanova Rusia  111 + 132 = 243',\n",
       "       'Liana Guiurdzhian Armenia  98 + 129 = 227',\n",
       "       'Daria Riazanova Rusia  105 + 135 = 240',\n",
       "       'Melike Günal Turquía  108 + 135 = 243'], dtype=object)"
      ]
     },
     "execution_count": 12,
     "metadata": {},
     "output_type": "execute_result"
    }
   ],
   "source": [
    "#Comprobamos que se han elimando correctamente los caracteres extraños.\n",
    "df_medallas['Atleta'].unique()"
   ]
  },
  {
   "cell_type": "code",
   "execution_count": 13,
   "id": "c32af8b3",
   "metadata": {},
   "outputs": [],
   "source": [
    "def crear_columnas_desde_Atleta(df):\n",
    "    # Inicialización de listas para almacenar los valores extraídos\n",
    "    columna_Atleta = list()\n",
    "    columna_Nombre = list()\n",
    "    columna_Apellido = list()\n",
    "    columna_País = list()\n",
    "    columna_errores = list()  # Para registrar casos que no se ajusten al formato esperado\n",
    "    \n",
    "    for atleta in df.Atleta.to_list():\n",
    "        # Ejemplo de entrada: 'Mirco Scarantino Italia 116 + 145 = 261'\n",
    "        \n",
    "        # Separa por el primer \"+\" y toma la parte inicial: 'Mirco Scarantino Italia 116'\n",
    "        atletas = (list(atleta.split(\"+\"))[0])[:-4]  # Elimina los últimos 4 caracteres (el número antes del +)\n",
    "                                                     # Quedando: 'Mirco Scarantino Italia  '\n",
    "        \n",
    "        # Extrae la primera palabra como el nombre\n",
    "        Palabra_1 = \" \".join(list(atletas.split(\" \"))[:1])  # Obtiene 'Mirco'\n",
    "        \n",
    "        # El resto de palabras contienen apellido y país\n",
    "        Palabra_3 = \" \".join(list(atletas.split(\" \"))[1:]).strip().split(\" \")  # Contiene apellido y país: ['Scarantino', 'Italia']\n",
    "        \n",
    "        #Compruebo cuál es el máximo de palabras en Palabra_3\n",
    "        # if len(Palabra_3) >2:\n",
    "        #     print(Palabra_3, len(Palabra_3))\n",
    "        # ['Godley', 'Reino', 'Unido'] 3\n",
    "        # ['Campbell', 'Reino', 'Unido'] 3\n",
    "        # ['Godley', 'Reino', 'Unido'] 3\n",
    "        # ['Van', 'Bellinghen', 'Bélgica'] 3\n",
    "        # ['Davies', 'Reino', 'Unido'] 3\n",
    "        # ['Smith', 'Reino', 'Unido'] 3\n",
    "        # ['Campbell', 'Reino', 'Unido'] 3\n",
    "        \n",
    "        # Gestión de casos según el número de palabras en Palabra_3\n",
    "        if len(Palabra_3) == 2:\n",
    "            # Caso simple: [Apellido, País]\n",
    "            Apellido = (Palabra_3[0]).split(\"[\")[0]  # Elimina posibles marcadores como [1] en apellidos\n",
    "            columna_Apellido.append(Apellido)\n",
    "            columna_País.append(str(Palabra_3[1]))\n",
    "            \n",
    "        elif len(Palabra_3) == 3:\n",
    "            # Casos con 3 palabras, que pueden ser:\n",
    "            # ['Godley', Reino, Unido] :  Apellido + País compuesto\n",
    "            # [Van, Bellinghen, Bélgica] : Apellido compuesto + País:\n",
    "            \n",
    "            if Palabra_3[-1] == \"Unido\":  #El único país que he encontrado con dos palabras es Reino Unido. Si en nuevas tablas aparecen otros países hay que añadirlo aquí.\n",
    "                columna_Apellido.append(str(Palabra_3[0]))\n",
    "                columna_País.append((str(Palabra_3[1])) + \" \" + (str(Palabra_3[2])))  # \"Reino Unido\"\n",
    "            else:\n",
    "                # Si el país no es \"Reino Unido\" asume que es un apellido compuesto\n",
    "                columna_Apellido.append((str(Palabra_3[0])) + \" \" + (str(Palabra_3[1])))\n",
    "                columna_País.append(str(Palabra_3[-1]))\n",
    "                \n",
    "                \n",
    "        else:\n",
    "            # Registra casos que no se ajusten a los patrones anteriores\n",
    "            columna_errores.append(str(Palabra_3))\n",
    "            \n",
    "        # Guarda el nombre extraído\n",
    "        columna_Nombre.append(Palabra_1)\n",
    "    \n",
    "    # Asigna las listas resultantes como nuevas columnas en el DataFrame\n",
    "    df[\"Nombre\"] = pd.Series(columna_Nombre).reset_index(drop=True)\n",
    "    df[\"Apellido\"] = pd.Series(columna_Apellido).reset_index(drop=True)\n",
    "    df[\"País\"] = pd.Series(columna_País).reset_index(drop=True)\n",
    "    \n",
    "    # Extrae los resultados numéricos con una expresión regular\n",
    "    # Ejemplo: De 'Mirco Scarantino Italia 116 + 145 = 261' extrae '116 + 145 = 261'\n",
    "    df['Resultados'] = df['Atleta'].str.replace(\n",
    "        r'^[^\\d]+(\\d+\\s*\\+\\s*\\d+\\s*=\\s*\\d+)', \n",
    "        r'\\1', \n",
    "        regex=True\n",
    "    )\n",
    "    \n",
    "    # Informa sobre el número de registros con formato inesperado\n",
    "    print('Errores =', len(columna_errores))"
   ]
  },
  {
   "cell_type": "markdown",
   "id": "83a4e204",
   "metadata": {},
   "source": [
    "Realizamos la transformación y comprobamos que el dataframe resultante no tenga nulos ni duplicados y los datos sigan siendo consistentes."
   ]
  },
  {
   "cell_type": "code",
   "execution_count": 14,
   "id": "f42ea419",
   "metadata": {},
   "outputs": [
    {
     "name": "stdout",
     "output_type": "stream",
     "text": [
      "Errores = 0\n",
      "¿Cuántas filas y columnas hay en el conjunto de datos?\n",
      "\tHay 120 filas y 9 columnas.\n",
      "¿Cuáles son las primeras dos filas del conjunto de datos?\n"
     ]
    },
    {
     "data": {
      "text/html": [
       "<div>\n",
       "<style scoped>\n",
       "    .dataframe tbody tr th:only-of-type {\n",
       "        vertical-align: middle;\n",
       "    }\n",
       "\n",
       "    .dataframe tbody tr th {\n",
       "        vertical-align: top;\n",
       "    }\n",
       "\n",
       "    .dataframe thead th {\n",
       "        text-align: right;\n",
       "    }\n",
       "</style>\n",
       "<table border=\"1\" class=\"dataframe\">\n",
       "  <thead>\n",
       "    <tr style=\"text-align: right;\">\n",
       "      <th></th>\n",
       "      <th>Eventos</th>\n",
       "      <th>Año</th>\n",
       "      <th>Genero</th>\n",
       "      <th>Medalla</th>\n",
       "      <th>Atleta</th>\n",
       "      <th>Nombre</th>\n",
       "      <th>Apellido</th>\n",
       "      <th>País</th>\n",
       "      <th>Resultados</th>\n",
       "    </tr>\n",
       "  </thead>\n",
       "  <tbody>\n",
       "    <tr>\n",
       "      <th>0</th>\n",
       "      <td>55 kg (06.04)</td>\n",
       "      <td>2019</td>\n",
       "      <td>Masculino</td>\n",
       "      <td>Oro</td>\n",
       "      <td>Mirco Scarantino Italia  116 + 145 = 261</td>\n",
       "      <td>Mirco</td>\n",
       "      <td>Scarantino</td>\n",
       "      <td>Italia</td>\n",
       "      <td>116 + 145 = 261</td>\n",
       "    </tr>\n",
       "    <tr>\n",
       "      <th>1</th>\n",
       "      <td>61 kg (07.04)</td>\n",
       "      <td>2019</td>\n",
       "      <td>Masculino</td>\n",
       "      <td>Oro</td>\n",
       "      <td>Henadz Laptseu Bielorrusia  133 + 153 = 286</td>\n",
       "      <td>Henadz</td>\n",
       "      <td>Laptseu</td>\n",
       "      <td>Bielorrusia</td>\n",
       "      <td>133 + 153 = 286</td>\n",
       "    </tr>\n",
       "  </tbody>\n",
       "</table>\n",
       "</div>"
      ],
      "text/plain": [
       "         Eventos   Año     Genero Medalla  \\\n",
       "0  55 kg (06.04)  2019  Masculino     Oro   \n",
       "1  61 kg (07.04)  2019  Masculino     Oro   \n",
       "\n",
       "                                        Atleta  Nombre    Apellido  \\\n",
       "0     Mirco Scarantino Italia  116 + 145 = 261   Mirco  Scarantino   \n",
       "1  Henadz Laptseu Bielorrusia  133 + 153 = 286  Henadz     Laptseu   \n",
       "\n",
       "          País       Resultados  \n",
       "0       Italia  116 + 145 = 261  \n",
       "1  Bielorrusia  133 + 153 = 286  "
      ]
     },
     "metadata": {},
     "output_type": "display_data"
    },
    {
     "name": "stdout",
     "output_type": "stream",
     "text": [
      "\n",
      "########################################################################################\n",
      "¿Hay valores nulos en el conjunto de datos?\n",
      "Eventos       0\n",
      "Año           0\n",
      "Genero        0\n",
      "Medalla       0\n",
      "Atleta        0\n",
      "Nombre        0\n",
      "Apellido      0\n",
      "País          0\n",
      "Resultados    0\n",
      "dtype: int64\n",
      "\n",
      "########################################################################################\n",
      "¿Cuál es el porcentaje de valores nulos en cada columna?\n",
      "Eventos       0.0\n",
      "Año           0.0\n",
      "Genero        0.0\n",
      "Medalla       0.0\n",
      "Atleta        0.0\n",
      "Nombre        0.0\n",
      "Apellido      0.0\n",
      "País          0.0\n",
      "Resultados    0.0\n",
      "dtype: float64\n",
      "\n",
      "########################################################################################\n",
      "¿Hay filas duplicadas en el conjunto de datos?\n",
      "\tExisten duplicados: False\n",
      "\tNúmero total de filas duplicadas: 0\n",
      "\n",
      "########################################################################################\n"
     ]
    }
   ],
   "source": [
    "crear_columnas_desde_Atleta (df = df_medallas)\n",
    "exploracion_inicial(df = df_medallas, tipo='lite')"
   ]
  },
  {
   "cell_type": "code",
   "execution_count": 15,
   "id": "53d9b5f9",
   "metadata": {},
   "outputs": [],
   "source": [
    "def crear_columnas_desde_Resultados(df):\n",
    "    # Inicialización de listas para almacenar los valores extraídos\n",
    "    columna_Resultados = list()  \n",
    "    columna_Arrancada = list()\n",
    "    columna_Dos_tiempos = list()\n",
    "    columna_Total = list()\n",
    "    \n",
    "    for resultado in df.Resultados.to_list():\n",
    "        # Ejemplo de entrada: '116 + 145 = 261'\n",
    "        \n",
    "        resultado = resultado.strip()  # Elimina espacios en blanco al inicio y final\n",
    "        \n",
    "        # Extrae el primer número (Arrancada)\n",
    "        # De '116 + 145 = 261' obtiene '116'\n",
    "        Puntuacion_Arrancada = \"\".join(list(resultado.split(\"+\"))[:1])  # Obtiene '116'\n",
    "        \n",
    "        # Obtiene la parte después del \"+\"\n",
    "        # De '116 + 145 = 261' obtiene ' 145 = 261'\n",
    "        Puntuacion = \" \".join(list(resultado.split(\"+\"))[1:2])  # Obtiene ' 145 = 261'\n",
    "        \n",
    "        # De ' 145 = 261' obtiene ' 145 '\n",
    "        Puntuacion_Dos_tiempos = \"\".join(list(Puntuacion.split(\"=\"))[:1])  # Obtiene ' 145 '\n",
    "        \n",
    "        # De ' 145 = 261' obtiene ' 261'\n",
    "        Puntuacion_total = \"\".join(list(Puntuacion.split(\"=\"))[1:])  # Obtiene ' 261'\n",
    "        \n",
    "        # Limpia Puntuacion_total para conservar solo dígitos, signos + y -\n",
    "        # De ' 261' obtiene '261'\n",
    "        Puntuacion_total_ = re.sub(r'[^\\d+-]', '', Puntuacion_total)  # Obtiene '261'\n",
    "        \n",
    "        # Agrega los valores extraídos a las listas correspondientes\n",
    "        columna_Arrancada.append(Puntuacion_Arrancada)\n",
    "        columna_Dos_tiempos.append(Puntuacion_Dos_tiempos)\n",
    "        columna_Total.append(Puntuacion_total_)\n",
    "    \n",
    "    # Asigna las listas resultantes como nuevas columnas en el DataFrame\n",
    "    df[\"Arrancada\"] = pd.Series(columna_Arrancada).reset_index(drop=True)\n",
    "    df[\"Dos Tiempos\"] = pd.Series(columna_Dos_tiempos).reset_index(drop=True)\n",
    "    df[\"Total\"] = pd.Series(columna_Total).reset_index(drop=True)"
   ]
  },
  {
   "cell_type": "markdown",
   "id": "6aa063d4",
   "metadata": {},
   "source": [
    "Realizamos la transformación y comprobamos que el dataframe resultante no tenga nulos ni duplicados y los datos sigan siendo consistentes."
   ]
  },
  {
   "cell_type": "code",
   "execution_count": 16,
   "id": "556e93a3",
   "metadata": {},
   "outputs": [
    {
     "name": "stdout",
     "output_type": "stream",
     "text": [
      "¿Cuántas filas y columnas hay en el conjunto de datos?\n",
      "\tHay 120 filas y 12 columnas.\n",
      "¿Cuáles son las primeras dos filas del conjunto de datos?\n"
     ]
    },
    {
     "data": {
      "text/html": [
       "<div>\n",
       "<style scoped>\n",
       "    .dataframe tbody tr th:only-of-type {\n",
       "        vertical-align: middle;\n",
       "    }\n",
       "\n",
       "    .dataframe tbody tr th {\n",
       "        vertical-align: top;\n",
       "    }\n",
       "\n",
       "    .dataframe thead th {\n",
       "        text-align: right;\n",
       "    }\n",
       "</style>\n",
       "<table border=\"1\" class=\"dataframe\">\n",
       "  <thead>\n",
       "    <tr style=\"text-align: right;\">\n",
       "      <th></th>\n",
       "      <th>Eventos</th>\n",
       "      <th>Año</th>\n",
       "      <th>Genero</th>\n",
       "      <th>Medalla</th>\n",
       "      <th>Atleta</th>\n",
       "      <th>Nombre</th>\n",
       "      <th>Apellido</th>\n",
       "      <th>País</th>\n",
       "      <th>Resultados</th>\n",
       "      <th>Arrancada</th>\n",
       "      <th>Dos Tiempos</th>\n",
       "      <th>Total</th>\n",
       "    </tr>\n",
       "  </thead>\n",
       "  <tbody>\n",
       "    <tr>\n",
       "      <th>0</th>\n",
       "      <td>55 kg (06.04)</td>\n",
       "      <td>2019</td>\n",
       "      <td>Masculino</td>\n",
       "      <td>Oro</td>\n",
       "      <td>Mirco Scarantino Italia  116 + 145 = 261</td>\n",
       "      <td>Mirco</td>\n",
       "      <td>Scarantino</td>\n",
       "      <td>Italia</td>\n",
       "      <td>116 + 145 = 261</td>\n",
       "      <td>116</td>\n",
       "      <td>145</td>\n",
       "      <td>261</td>\n",
       "    </tr>\n",
       "    <tr>\n",
       "      <th>1</th>\n",
       "      <td>61 kg (07.04)</td>\n",
       "      <td>2019</td>\n",
       "      <td>Masculino</td>\n",
       "      <td>Oro</td>\n",
       "      <td>Henadz Laptseu Bielorrusia  133 + 153 = 286</td>\n",
       "      <td>Henadz</td>\n",
       "      <td>Laptseu</td>\n",
       "      <td>Bielorrusia</td>\n",
       "      <td>133 + 153 = 286</td>\n",
       "      <td>133</td>\n",
       "      <td>153</td>\n",
       "      <td>286</td>\n",
       "    </tr>\n",
       "  </tbody>\n",
       "</table>\n",
       "</div>"
      ],
      "text/plain": [
       "         Eventos   Año     Genero Medalla  \\\n",
       "0  55 kg (06.04)  2019  Masculino     Oro   \n",
       "1  61 kg (07.04)  2019  Masculino     Oro   \n",
       "\n",
       "                                        Atleta  Nombre    Apellido  \\\n",
       "0     Mirco Scarantino Italia  116 + 145 = 261   Mirco  Scarantino   \n",
       "1  Henadz Laptseu Bielorrusia  133 + 153 = 286  Henadz     Laptseu   \n",
       "\n",
       "          País       Resultados Arrancada Dos Tiempos Total  \n",
       "0       Italia  116 + 145 = 261      116         145    261  \n",
       "1  Bielorrusia  133 + 153 = 286      133         153    286  "
      ]
     },
     "metadata": {},
     "output_type": "display_data"
    },
    {
     "name": "stdout",
     "output_type": "stream",
     "text": [
      "\n",
      "########################################################################################\n",
      "¿Hay valores nulos en el conjunto de datos?\n",
      "Eventos        0\n",
      "Año            0\n",
      "Genero         0\n",
      "Medalla        0\n",
      "Atleta         0\n",
      "Nombre         0\n",
      "Apellido       0\n",
      "País           0\n",
      "Resultados     0\n",
      "Arrancada      0\n",
      "Dos Tiempos    0\n",
      "Total          0\n",
      "dtype: int64\n",
      "\n",
      "########################################################################################\n",
      "¿Cuál es el porcentaje de valores nulos en cada columna?\n",
      "Eventos        0.0\n",
      "Año            0.0\n",
      "Genero         0.0\n",
      "Medalla        0.0\n",
      "Atleta         0.0\n",
      "Nombre         0.0\n",
      "Apellido       0.0\n",
      "País           0.0\n",
      "Resultados     0.0\n",
      "Arrancada      0.0\n",
      "Dos Tiempos    0.0\n",
      "Total          0.0\n",
      "dtype: float64\n",
      "\n",
      "########################################################################################\n",
      "¿Hay filas duplicadas en el conjunto de datos?\n",
      "\tExisten duplicados: False\n",
      "\tNúmero total de filas duplicadas: 0\n",
      "\n",
      "########################################################################################\n"
     ]
    }
   ],
   "source": [
    "crear_columnas_desde_Resultados(df = df_medallas)\n",
    "exploracion_inicial(df = df_medallas, tipo='lite')\n"
   ]
  },
  {
   "cell_type": "markdown",
   "id": "8bb0cdc8",
   "metadata": {},
   "source": [
    "Vamos a eliminar `\\xa0kg`"
   ]
  },
  {
   "cell_type": "code",
   "execution_count": 17,
   "id": "a73c4f58",
   "metadata": {},
   "outputs": [
    {
     "data": {
      "text/plain": [
       "array(['55\\xa0kg (06.04)', '61\\xa0kg (07.04)', '67\\xa0kg (08.04)',\n",
       "       '73\\xa0kg (09.04)', '81\\xa0kg (10.04)', '89\\xa0kg (11.04)',\n",
       "       '96\\xa0kg (12.04)', '102\\xa0kg (13.04)', '109\\xa0kg (13.04)',\n",
       "       '+109\\xa0kg (13.04)', '45\\xa0kg (06.04)', '49\\xa0kg (06.04)',\n",
       "       '55\\xa0kg (07.04)', '59\\xa0kg (08.04)', '64\\xa0kg (09.04)',\n",
       "       '71\\xa0kg (10.04)', '76\\xa0kg (11.04)', '81\\xa0kg (12.04)',\n",
       "       '87\\xa0kg (12.04)', '+87\\xa0kg (13.04)', '55\\xa0kg (04.04)',\n",
       "       '61\\xa0kg (04.04)', '67\\xa0kg (05.04)', '73\\xa0kg (06.04)',\n",
       "       '81\\xa0kg (07.04)', '89\\xa0kg (08.04)', '96\\xa0kg (09.04)',\n",
       "       '102\\xa0kg (10.04)', '109\\xa0kg (10.04)', '+109\\xa0kg (11.04)',\n",
       "       '45\\xa0kg (03.04)', '49\\xa0kg (03.04)', '59\\xa0kg (05.04)',\n",
       "       '64\\xa0kg (06.04)', '71\\xa0kg (07.04)', '76\\xa0kg (08.04)',\n",
       "       '81\\xa0kg (09.04)', '87\\xa0kg (10.04)', '+87\\xa0kg (11.04)'],\n",
       "      dtype=object)"
      ]
     },
     "execution_count": 17,
     "metadata": {},
     "output_type": "execute_result"
    }
   ],
   "source": [
    "df_medallas['Eventos'].unique() #\\xa0kg"
   ]
  },
  {
   "cell_type": "code",
   "execution_count": 18,
   "id": "e34abfbc",
   "metadata": {},
   "outputs": [],
   "source": [
    "def crear_columnas_desde_Eventos(df): \n",
    "    # Lista para almacenar las fechas extraídas de la columna 'Eventos'\n",
    "    lista_fechas = list()\n",
    "\n",
    "    # Iterar sobre cada evento en la columna 'Eventos'\n",
    "    for evento in df.Eventos.to_list():\n",
    "        # Ejemplo de evento: \"55\\xa0kg (06.04)\"\n",
    "        \n",
    "        # Dividir el string por el paréntesis de apertura y tomar la segunda parte\n",
    "        fechas = \" \".join(evento.split(\"(\")[1:])  # Obtiene \"06.04)\"\n",
    "        \n",
    "        # Eliminar el paréntesis de cierre y reemplazar puntos por guione\n",
    "        fechas = fechas[:-1].replace(\".\", \"-\")  #Obtiene \"06-04\"\n",
    "        \n",
    "        # Agregar la fecha procesada a la lista\n",
    "        lista_fechas.append(fechas)\n",
    "\n",
    "    # Crear una nueva columna 'Fecha' en el DataFrame con las fechas extraídas\n",
    "    df[\"Fecha\"] = pd.Series(lista_fechas).reset_index(drop=True)\n",
    "\n",
    "    # Concatenar el año correspondiente para formar una fecha completa: \"MM-DD-YYYY\"\n",
    "    df[\"Fecha\"] = df[\"Fecha\"] + \"-\" + df[\"Año\"].astype(str)\n"
   ]
  },
  {
   "cell_type": "markdown",
   "id": "7edc706e",
   "metadata": {},
   "source": [
    "Realizamos la transformación y comprobamos que el dataframe resultante no tenga nulos ni duplicados y los datos sigan siendo consistentes."
   ]
  },
  {
   "cell_type": "code",
   "execution_count": 19,
   "id": "da80ca2f",
   "metadata": {},
   "outputs": [
    {
     "name": "stdout",
     "output_type": "stream",
     "text": [
      "¿Cuántas filas y columnas hay en el conjunto de datos?\n",
      "\tHay 120 filas y 13 columnas.\n",
      "¿Cuáles son las primeras dos filas del conjunto de datos?\n"
     ]
    },
    {
     "data": {
      "text/html": [
       "<div>\n",
       "<style scoped>\n",
       "    .dataframe tbody tr th:only-of-type {\n",
       "        vertical-align: middle;\n",
       "    }\n",
       "\n",
       "    .dataframe tbody tr th {\n",
       "        vertical-align: top;\n",
       "    }\n",
       "\n",
       "    .dataframe thead th {\n",
       "        text-align: right;\n",
       "    }\n",
       "</style>\n",
       "<table border=\"1\" class=\"dataframe\">\n",
       "  <thead>\n",
       "    <tr style=\"text-align: right;\">\n",
       "      <th></th>\n",
       "      <th>Eventos</th>\n",
       "      <th>Año</th>\n",
       "      <th>Genero</th>\n",
       "      <th>Medalla</th>\n",
       "      <th>Atleta</th>\n",
       "      <th>Nombre</th>\n",
       "      <th>Apellido</th>\n",
       "      <th>País</th>\n",
       "      <th>Resultados</th>\n",
       "      <th>Arrancada</th>\n",
       "      <th>Dos Tiempos</th>\n",
       "      <th>Total</th>\n",
       "      <th>Fecha</th>\n",
       "    </tr>\n",
       "  </thead>\n",
       "  <tbody>\n",
       "    <tr>\n",
       "      <th>0</th>\n",
       "      <td>55 kg (06.04)</td>\n",
       "      <td>2019</td>\n",
       "      <td>Masculino</td>\n",
       "      <td>Oro</td>\n",
       "      <td>Mirco Scarantino Italia  116 + 145 = 261</td>\n",
       "      <td>Mirco</td>\n",
       "      <td>Scarantino</td>\n",
       "      <td>Italia</td>\n",
       "      <td>116 + 145 = 261</td>\n",
       "      <td>116</td>\n",
       "      <td>145</td>\n",
       "      <td>261</td>\n",
       "      <td>06-04-2019</td>\n",
       "    </tr>\n",
       "    <tr>\n",
       "      <th>1</th>\n",
       "      <td>61 kg (07.04)</td>\n",
       "      <td>2019</td>\n",
       "      <td>Masculino</td>\n",
       "      <td>Oro</td>\n",
       "      <td>Henadz Laptseu Bielorrusia  133 + 153 = 286</td>\n",
       "      <td>Henadz</td>\n",
       "      <td>Laptseu</td>\n",
       "      <td>Bielorrusia</td>\n",
       "      <td>133 + 153 = 286</td>\n",
       "      <td>133</td>\n",
       "      <td>153</td>\n",
       "      <td>286</td>\n",
       "      <td>07-04-2019</td>\n",
       "    </tr>\n",
       "  </tbody>\n",
       "</table>\n",
       "</div>"
      ],
      "text/plain": [
       "         Eventos   Año     Genero Medalla  \\\n",
       "0  55 kg (06.04)  2019  Masculino     Oro   \n",
       "1  61 kg (07.04)  2019  Masculino     Oro   \n",
       "\n",
       "                                        Atleta  Nombre    Apellido  \\\n",
       "0     Mirco Scarantino Italia  116 + 145 = 261   Mirco  Scarantino   \n",
       "1  Henadz Laptseu Bielorrusia  133 + 153 = 286  Henadz     Laptseu   \n",
       "\n",
       "          País       Resultados Arrancada Dos Tiempos Total       Fecha  \n",
       "0       Italia  116 + 145 = 261      116         145    261  06-04-2019  \n",
       "1  Bielorrusia  133 + 153 = 286      133         153    286  07-04-2019  "
      ]
     },
     "metadata": {},
     "output_type": "display_data"
    },
    {
     "name": "stdout",
     "output_type": "stream",
     "text": [
      "\n",
      "########################################################################################\n",
      "¿Hay valores nulos en el conjunto de datos?\n",
      "Eventos        0\n",
      "Año            0\n",
      "Genero         0\n",
      "Medalla        0\n",
      "Atleta         0\n",
      "Nombre         0\n",
      "Apellido       0\n",
      "País           0\n",
      "Resultados     0\n",
      "Arrancada      0\n",
      "Dos Tiempos    0\n",
      "Total          0\n",
      "Fecha          0\n",
      "dtype: int64\n",
      "\n",
      "########################################################################################\n",
      "¿Cuál es el porcentaje de valores nulos en cada columna?\n",
      "Eventos        0.0\n",
      "Año            0.0\n",
      "Genero         0.0\n",
      "Medalla        0.0\n",
      "Atleta         0.0\n",
      "Nombre         0.0\n",
      "Apellido       0.0\n",
      "País           0.0\n",
      "Resultados     0.0\n",
      "Arrancada      0.0\n",
      "Dos Tiempos    0.0\n",
      "Total          0.0\n",
      "Fecha          0.0\n",
      "dtype: float64\n",
      "\n",
      "########################################################################################\n",
      "¿Hay filas duplicadas en el conjunto de datos?\n",
      "\tExisten duplicados: False\n",
      "\tNúmero total de filas duplicadas: 0\n",
      "\n",
      "########################################################################################\n"
     ]
    }
   ],
   "source": [
    "crear_columnas_desde_Eventos(df = df_medallas)\n",
    "exploracion_inicial(df = df_medallas, tipo='lite')"
   ]
  },
  {
   "cell_type": "markdown",
   "id": "5836dae3",
   "metadata": {},
   "source": [
    "Comprobamos cómo quedan las nuevas columnas"
   ]
  },
  {
   "cell_type": "code",
   "execution_count": 20,
   "id": "fa85031a",
   "metadata": {},
   "outputs": [
    {
     "data": {
      "text/html": [
       "<div>\n",
       "<style scoped>\n",
       "    .dataframe tbody tr th:only-of-type {\n",
       "        vertical-align: middle;\n",
       "    }\n",
       "\n",
       "    .dataframe tbody tr th {\n",
       "        vertical-align: top;\n",
       "    }\n",
       "\n",
       "    .dataframe thead th {\n",
       "        text-align: right;\n",
       "    }\n",
       "</style>\n",
       "<table border=\"1\" class=\"dataframe\">\n",
       "  <thead>\n",
       "    <tr style=\"text-align: right;\">\n",
       "      <th></th>\n",
       "      <th>Fecha</th>\n",
       "      <th>Nombre</th>\n",
       "      <th>Apellido</th>\n",
       "      <th>País</th>\n",
       "      <th>Resultados</th>\n",
       "      <th>Arrancada</th>\n",
       "      <th>Dos Tiempos</th>\n",
       "      <th>Total</th>\n",
       "    </tr>\n",
       "  </thead>\n",
       "  <tbody>\n",
       "    <tr>\n",
       "      <th>0</th>\n",
       "      <td>06-04-2019</td>\n",
       "      <td>Mirco</td>\n",
       "      <td>Scarantino</td>\n",
       "      <td>Italia</td>\n",
       "      <td>116 + 145 = 261</td>\n",
       "      <td>116</td>\n",
       "      <td>145</td>\n",
       "      <td>261</td>\n",
       "    </tr>\n",
       "    <tr>\n",
       "      <th>1</th>\n",
       "      <td>07-04-2019</td>\n",
       "      <td>Henadz</td>\n",
       "      <td>Laptseu</td>\n",
       "      <td>Bielorrusia</td>\n",
       "      <td>133 + 153 = 286</td>\n",
       "      <td>133</td>\n",
       "      <td>153</td>\n",
       "      <td>286</td>\n",
       "    </tr>\n",
       "    <tr>\n",
       "      <th>2</th>\n",
       "      <td>08-04-2019</td>\n",
       "      <td>Bernardin</td>\n",
       "      <td>Matam</td>\n",
       "      <td>Francia</td>\n",
       "      <td>137 + 175 = 312</td>\n",
       "      <td>137</td>\n",
       "      <td>175</td>\n",
       "      <td>312</td>\n",
       "    </tr>\n",
       "    <tr>\n",
       "      <th>3</th>\n",
       "      <td>09-04-2019</td>\n",
       "      <td>Bozhidar</td>\n",
       "      <td>Andreev</td>\n",
       "      <td>Bulgaria</td>\n",
       "      <td>153 + 192 = 345</td>\n",
       "      <td>153</td>\n",
       "      <td>192</td>\n",
       "      <td>345</td>\n",
       "    </tr>\n",
       "    <tr>\n",
       "      <th>4</th>\n",
       "      <td>10-04-2019</td>\n",
       "      <td>Antonino</td>\n",
       "      <td>Pizzolato</td>\n",
       "      <td>Italia</td>\n",
       "      <td>155 + 201 = 356</td>\n",
       "      <td>155</td>\n",
       "      <td>201</td>\n",
       "      <td>356</td>\n",
       "    </tr>\n",
       "  </tbody>\n",
       "</table>\n",
       "</div>"
      ],
      "text/plain": [
       "        Fecha     Nombre    Apellido         País       Resultados Arrancada  \\\n",
       "0  06-04-2019      Mirco  Scarantino       Italia  116 + 145 = 261      116    \n",
       "1  07-04-2019     Henadz     Laptseu  Bielorrusia  133 + 153 = 286      133    \n",
       "2  08-04-2019  Bernardin       Matam      Francia  137 + 175 = 312      137    \n",
       "3  09-04-2019   Bozhidar     Andreev     Bulgaria  153 + 192 = 345      153    \n",
       "4  10-04-2019   Antonino   Pizzolato       Italia  155 + 201 = 356      155    \n",
       "\n",
       "  Dos Tiempos Total  \n",
       "0        145    261  \n",
       "1        153    286  \n",
       "2        175    312  \n",
       "3        192    345  \n",
       "4        201    356  "
      ]
     },
     "execution_count": 20,
     "metadata": {},
     "output_type": "execute_result"
    }
   ],
   "source": [
    "df_medallas[['Fecha', 'Nombre', 'Apellido', 'País', 'Resultados', 'Arrancada', 'Dos Tiempos', 'Total']].head()"
   ]
  },
  {
   "cell_type": "markdown",
   "id": "8a83330f",
   "metadata": {},
   "source": [
    "## <span style=\"color: #2A8E3C;\"> Paso 7. Filtrado de columnas y ordenación </span> "
   ]
  },
  {
   "cell_type": "markdown",
   "id": "acc9b32f",
   "metadata": {},
   "source": [
    "Creamos la columnas:\n",
    "\n",
    "- `Categoría`: Debemos limpiar los caracteres extraños.\n",
    "\n",
    "Y creamos el nuevo DataFrame solo con las columnas que nos solicitan:\n",
    "\n",
    "| Género    | Categoría | Fecha | Medalla | Nombre | Apellido | País | Arrancada | Dos tiempos | Total |\n",
    "|-----------|-----------|-------|---------|--------|----------|------|-----------|-------------|-------|"
   ]
  },
  {
   "cell_type": "markdown",
   "id": "46751bfd",
   "metadata": {},
   "source": [
    "Selecciono solo las columnas que voy a utilizar:"
   ]
  },
  {
   "cell_type": "code",
   "execution_count": 21,
   "id": "4046af3c",
   "metadata": {},
   "outputs": [
    {
     "data": {
      "text/html": [
       "<div>\n",
       "<style scoped>\n",
       "    .dataframe tbody tr th:only-of-type {\n",
       "        vertical-align: middle;\n",
       "    }\n",
       "\n",
       "    .dataframe tbody tr th {\n",
       "        vertical-align: top;\n",
       "    }\n",
       "\n",
       "    .dataframe thead th {\n",
       "        text-align: right;\n",
       "    }\n",
       "</style>\n",
       "<table border=\"1\" class=\"dataframe\">\n",
       "  <thead>\n",
       "    <tr style=\"text-align: right;\">\n",
       "      <th></th>\n",
       "      <th>Genero</th>\n",
       "      <th>Eventos</th>\n",
       "      <th>Fecha</th>\n",
       "      <th>Medalla</th>\n",
       "      <th>Nombre</th>\n",
       "      <th>Apellido</th>\n",
       "      <th>País</th>\n",
       "      <th>Arrancada</th>\n",
       "      <th>Dos Tiempos</th>\n",
       "      <th>Total</th>\n",
       "    </tr>\n",
       "  </thead>\n",
       "  <tbody>\n",
       "    <tr>\n",
       "      <th>0</th>\n",
       "      <td>Masculino</td>\n",
       "      <td>55 kg (06.04)</td>\n",
       "      <td>06-04-2019</td>\n",
       "      <td>Oro</td>\n",
       "      <td>Mirco</td>\n",
       "      <td>Scarantino</td>\n",
       "      <td>Italia</td>\n",
       "      <td>116</td>\n",
       "      <td>145</td>\n",
       "      <td>261</td>\n",
       "    </tr>\n",
       "    <tr>\n",
       "      <th>1</th>\n",
       "      <td>Masculino</td>\n",
       "      <td>61 kg (07.04)</td>\n",
       "      <td>07-04-2019</td>\n",
       "      <td>Oro</td>\n",
       "      <td>Henadz</td>\n",
       "      <td>Laptseu</td>\n",
       "      <td>Bielorrusia</td>\n",
       "      <td>133</td>\n",
       "      <td>153</td>\n",
       "      <td>286</td>\n",
       "    </tr>\n",
       "    <tr>\n",
       "      <th>2</th>\n",
       "      <td>Masculino</td>\n",
       "      <td>67 kg (08.04)</td>\n",
       "      <td>08-04-2019</td>\n",
       "      <td>Oro</td>\n",
       "      <td>Bernardin</td>\n",
       "      <td>Matam</td>\n",
       "      <td>Francia</td>\n",
       "      <td>137</td>\n",
       "      <td>175</td>\n",
       "      <td>312</td>\n",
       "    </tr>\n",
       "    <tr>\n",
       "      <th>3</th>\n",
       "      <td>Masculino</td>\n",
       "      <td>73 kg (09.04)</td>\n",
       "      <td>09-04-2019</td>\n",
       "      <td>Oro</td>\n",
       "      <td>Bozhidar</td>\n",
       "      <td>Andreev</td>\n",
       "      <td>Bulgaria</td>\n",
       "      <td>153</td>\n",
       "      <td>192</td>\n",
       "      <td>345</td>\n",
       "    </tr>\n",
       "    <tr>\n",
       "      <th>4</th>\n",
       "      <td>Masculino</td>\n",
       "      <td>81 kg (10.04)</td>\n",
       "      <td>10-04-2019</td>\n",
       "      <td>Oro</td>\n",
       "      <td>Antonino</td>\n",
       "      <td>Pizzolato</td>\n",
       "      <td>Italia</td>\n",
       "      <td>155</td>\n",
       "      <td>201</td>\n",
       "      <td>356</td>\n",
       "    </tr>\n",
       "  </tbody>\n",
       "</table>\n",
       "</div>"
      ],
      "text/plain": [
       "      Genero        Eventos       Fecha Medalla     Nombre    Apellido  \\\n",
       "0  Masculino  55 kg (06.04)  06-04-2019     Oro      Mirco  Scarantino   \n",
       "1  Masculino  61 kg (07.04)  07-04-2019     Oro     Henadz     Laptseu   \n",
       "2  Masculino  67 kg (08.04)  08-04-2019     Oro  Bernardin       Matam   \n",
       "3  Masculino  73 kg (09.04)  09-04-2019     Oro   Bozhidar     Andreev   \n",
       "4  Masculino  81 kg (10.04)  10-04-2019     Oro   Antonino   Pizzolato   \n",
       "\n",
       "          País Arrancada Dos Tiempos Total  \n",
       "0       Italia      116         145    261  \n",
       "1  Bielorrusia      133         153    286  \n",
       "2      Francia      137         175    312  \n",
       "3     Bulgaria      153         192    345  \n",
       "4       Italia      155         201    356  "
      ]
     },
     "execution_count": 21,
     "metadata": {},
     "output_type": "execute_result"
    }
   ],
   "source": [
    "df_columnas = df_medallas.loc[:,['Genero','Eventos', 'Fecha', 'Medalla', 'Nombre', 'Apellido', 'País', 'Arrancada', 'Dos Tiempos', 'Total']]\n",
    "df_columnas.head()"
   ]
  },
  {
   "cell_type": "code",
   "execution_count": 22,
   "id": "d5122109",
   "metadata": {},
   "outputs": [
    {
     "data": {
      "text/plain": [
       "array(['55\\xa0kg (06.04)', '61\\xa0kg (07.04)', '67\\xa0kg (08.04)',\n",
       "       '73\\xa0kg (09.04)', '81\\xa0kg (10.04)', '89\\xa0kg (11.04)',\n",
       "       '96\\xa0kg (12.04)', '102\\xa0kg (13.04)', '109\\xa0kg (13.04)',\n",
       "       '+109\\xa0kg (13.04)', '45\\xa0kg (06.04)', '49\\xa0kg (06.04)',\n",
       "       '55\\xa0kg (07.04)', '59\\xa0kg (08.04)', '64\\xa0kg (09.04)',\n",
       "       '71\\xa0kg (10.04)', '76\\xa0kg (11.04)', '81\\xa0kg (12.04)',\n",
       "       '87\\xa0kg (12.04)', '+87\\xa0kg (13.04)', '55\\xa0kg (04.04)',\n",
       "       '61\\xa0kg (04.04)', '67\\xa0kg (05.04)', '73\\xa0kg (06.04)',\n",
       "       '81\\xa0kg (07.04)', '89\\xa0kg (08.04)', '96\\xa0kg (09.04)',\n",
       "       '102\\xa0kg (10.04)', '109\\xa0kg (10.04)', '+109\\xa0kg (11.04)',\n",
       "       '45\\xa0kg (03.04)', '49\\xa0kg (03.04)', '59\\xa0kg (05.04)',\n",
       "       '64\\xa0kg (06.04)', '71\\xa0kg (07.04)', '76\\xa0kg (08.04)',\n",
       "       '81\\xa0kg (09.04)', '87\\xa0kg (10.04)', '+87\\xa0kg (11.04)'],\n",
       "      dtype=object)"
      ]
     },
     "execution_count": 22,
     "metadata": {},
     "output_type": "execute_result"
    }
   ],
   "source": [
    "df_columnas['Eventos'].unique() #\\xa0"
   ]
  },
  {
   "cell_type": "code",
   "execution_count": 23,
   "id": "c10e2d9e",
   "metadata": {},
   "outputs": [
    {
     "data": {
      "text/plain": [
       "array(['55 kg', '61 kg', '67 kg', '73 kg', '81 kg', '89 kg', '96 kg',\n",
       "       '102 kg', '109 kg', '+109 kg', '45 kg', '49 kg', '59 kg', '64 kg',\n",
       "       '71 kg', '76 kg', '87 kg', '+87 kg'], dtype=object)"
      ]
     },
     "execution_count": 23,
     "metadata": {},
     "output_type": "execute_result"
    }
   ],
   "source": [
    "#Extraer solo los números y añadir espacio y kg\n",
    "df_columnas[\"Categoría\"] = df_columnas.Eventos.str.extract(r'(\\+?\\d{1,3})')[0] + \" kg\" \n",
    "\n",
    "#Compruebar si se ha eliminado correctamente el \\xa0 y añadido kg\n",
    "df_columnas['Categoría'].unique() "
   ]
  },
  {
   "cell_type": "markdown",
   "id": "92792048",
   "metadata": {},
   "source": [
    "Ordeno las columnas para que queden en el orden solicitado:"
   ]
  },
  {
   "cell_type": "code",
   "execution_count": 24,
   "id": "9e86af93",
   "metadata": {},
   "outputs": [
    {
     "data": {
      "text/html": [
       "<div>\n",
       "<style scoped>\n",
       "    .dataframe tbody tr th:only-of-type {\n",
       "        vertical-align: middle;\n",
       "    }\n",
       "\n",
       "    .dataframe tbody tr th {\n",
       "        vertical-align: top;\n",
       "    }\n",
       "\n",
       "    .dataframe thead th {\n",
       "        text-align: right;\n",
       "    }\n",
       "</style>\n",
       "<table border=\"1\" class=\"dataframe\">\n",
       "  <thead>\n",
       "    <tr style=\"text-align: right;\">\n",
       "      <th></th>\n",
       "      <th>Genero</th>\n",
       "      <th>Categoría</th>\n",
       "      <th>Fecha</th>\n",
       "      <th>Medalla</th>\n",
       "      <th>Nombre</th>\n",
       "      <th>Apellido</th>\n",
       "      <th>País</th>\n",
       "      <th>Arrancada</th>\n",
       "      <th>Dos Tiempos</th>\n",
       "      <th>Total</th>\n",
       "    </tr>\n",
       "  </thead>\n",
       "  <tbody>\n",
       "    <tr>\n",
       "      <th>0</th>\n",
       "      <td>Masculino</td>\n",
       "      <td>55 kg</td>\n",
       "      <td>06-04-2019</td>\n",
       "      <td>Oro</td>\n",
       "      <td>Mirco</td>\n",
       "      <td>Scarantino</td>\n",
       "      <td>Italia</td>\n",
       "      <td>116</td>\n",
       "      <td>145</td>\n",
       "      <td>261</td>\n",
       "    </tr>\n",
       "    <tr>\n",
       "      <th>1</th>\n",
       "      <td>Masculino</td>\n",
       "      <td>61 kg</td>\n",
       "      <td>07-04-2019</td>\n",
       "      <td>Oro</td>\n",
       "      <td>Henadz</td>\n",
       "      <td>Laptseu</td>\n",
       "      <td>Bielorrusia</td>\n",
       "      <td>133</td>\n",
       "      <td>153</td>\n",
       "      <td>286</td>\n",
       "    </tr>\n",
       "    <tr>\n",
       "      <th>2</th>\n",
       "      <td>Masculino</td>\n",
       "      <td>67 kg</td>\n",
       "      <td>08-04-2019</td>\n",
       "      <td>Oro</td>\n",
       "      <td>Bernardin</td>\n",
       "      <td>Matam</td>\n",
       "      <td>Francia</td>\n",
       "      <td>137</td>\n",
       "      <td>175</td>\n",
       "      <td>312</td>\n",
       "    </tr>\n",
       "    <tr>\n",
       "      <th>3</th>\n",
       "      <td>Masculino</td>\n",
       "      <td>73 kg</td>\n",
       "      <td>09-04-2019</td>\n",
       "      <td>Oro</td>\n",
       "      <td>Bozhidar</td>\n",
       "      <td>Andreev</td>\n",
       "      <td>Bulgaria</td>\n",
       "      <td>153</td>\n",
       "      <td>192</td>\n",
       "      <td>345</td>\n",
       "    </tr>\n",
       "    <tr>\n",
       "      <th>4</th>\n",
       "      <td>Masculino</td>\n",
       "      <td>81 kg</td>\n",
       "      <td>10-04-2019</td>\n",
       "      <td>Oro</td>\n",
       "      <td>Antonino</td>\n",
       "      <td>Pizzolato</td>\n",
       "      <td>Italia</td>\n",
       "      <td>155</td>\n",
       "      <td>201</td>\n",
       "      <td>356</td>\n",
       "    </tr>\n",
       "  </tbody>\n",
       "</table>\n",
       "</div>"
      ],
      "text/plain": [
       "      Genero Categoría       Fecha Medalla     Nombre    Apellido  \\\n",
       "0  Masculino     55 kg  06-04-2019     Oro      Mirco  Scarantino   \n",
       "1  Masculino     61 kg  07-04-2019     Oro     Henadz     Laptseu   \n",
       "2  Masculino     67 kg  08-04-2019     Oro  Bernardin       Matam   \n",
       "3  Masculino     73 kg  09-04-2019     Oro   Bozhidar     Andreev   \n",
       "4  Masculino     81 kg  10-04-2019     Oro   Antonino   Pizzolato   \n",
       "\n",
       "          País Arrancada Dos Tiempos Total  \n",
       "0       Italia      116         145    261  \n",
       "1  Bielorrusia      133         153    286  \n",
       "2      Francia      137         175    312  \n",
       "3     Bulgaria      153         192    345  \n",
       "4       Italia      155         201    356  "
      ]
     },
     "execution_count": 24,
     "metadata": {},
     "output_type": "execute_result"
    }
   ],
   "source": [
    "df_columnas= df_columnas[['Genero', 'Categoría', 'Fecha', 'Medalla','Nombre', 'Apellido', 'País', 'Arrancada', 'Dos Tiempos', 'Total']].copy()\n",
    "df_columnas.head()"
   ]
  },
  {
   "cell_type": "markdown",
   "id": "735733c3",
   "metadata": {},
   "source": [
    "##  <span style=\"color: #2A8E3C;\"> Paso 8. Tipo de datos  </span>"
   ]
  },
  {
   "cell_type": "markdown",
   "id": "5c05152a",
   "metadata": {},
   "source": [
    "Debemos modificar los tipos de las distintas columnas para poder analizarlos correctamente:\n",
    "\n",
    "- **Género**: `object`\n",
    "- **Categoría**: `object`\n",
    "- **Fecha**: `datetime64[ns]`\n",
    "- **Medalla**: `category`\n",
    "- **Nombre**: `object`\n",
    "- **Apellido**: `object`\n",
    "- **País**: `object`\n",
    "- **Arrancada**: `int64`\n",
    "- **Dos tiempos**: `int64`\n",
    "- **Total**: `int64`"
   ]
  },
  {
   "cell_type": "markdown",
   "id": "a4c66f1d",
   "metadata": {},
   "source": [
    "### Datetime"
   ]
  },
  {
   "cell_type": "code",
   "execution_count": 25,
   "id": "64447d3e",
   "metadata": {},
   "outputs": [],
   "source": [
    "def fecha_procesada(df, variable_analisis): \n",
    "    # Convertir la columna 'Fecha' a datetime\n",
    "    # Valor de entrada: '06-04-2019'\n",
    "    # El formato \"%d-%m-%Y\" coincide con \"06-04-2019\" (donde 06 es el día, 04 es el mes, y 2019 es el año)\n",
    "    # Si alguna fecha no se ajusta a este formato, 'errors=\"coerce\"' convertirá esos valores en 'NaT' (Not a Time)\n",
    "    df[variable_analisis + '_procesada'] = pd.to_datetime(df[variable_analisis], format='%d-%m-%Y', errors='coerce')\n",
    "\n",
    "    # Mostrar las primeras filas de la columna original y la nueva columna 'variable_analisis_procesada'\n",
    "    df[[variable_analisis, variable_analisis + '_procesada']].head()\n",
    "\n",
    "    # Calcular cuántos valores nulos (NaT) hay en la columna 'Fecha_procesada'\n",
    "    nulos = df[variable_analisis + '_procesada'].isnull().sum()\n",
    "    \n",
    "    # Mostrar los valores nulos.\n",
    "    print(f\"Número de valores nulos en '{variable_analisis}_procesada': {nulos}\") #0 si todo es correcto\n",
    "\n",
    "    # Asignar los valores procesados a la columna 'Fecha' (renombrar la columna)\n",
    "    df['Fecha'] = df[variable_analisis + '_procesada']\n",
    "\n",
    "    # Eliminar la columna temporal 'Fecha_procesada' tras comprobar que no tiene valores nulos\n",
    "    df.drop(columns=[variable_analisis + '_procesada'], inplace=True)\n"
   ]
  },
  {
   "cell_type": "code",
   "execution_count": 26,
   "id": "d846ef28",
   "metadata": {},
   "outputs": [
    {
     "name": "stdout",
     "output_type": "stream",
     "text": [
      "Número de valores nulos en 'Fecha_procesada': 0\n"
     ]
    }
   ],
   "source": [
    "fecha_procesada(df_columnas, variable_analisis = 'Fecha')"
   ]
  },
  {
   "cell_type": "markdown",
   "id": "4cebe1df",
   "metadata": {},
   "source": [
    "### Integer"
   ]
  },
  {
   "cell_type": "code",
   "execution_count": 27,
   "id": "91f47af9",
   "metadata": {},
   "outputs": [],
   "source": [
    "def tipo_de_dato_integer(df, variable_a_transformar):\n",
    "    try:\n",
    "        # Convertir la columna a numérico, los no numéricos se convierten a NaN\n",
    "        df[variable_a_transformar] = pd.to_numeric(df[variable_a_transformar], errors='coerce')\n",
    "        \n",
    "        # Contar los valores nulos (NaN) después de la conversión\n",
    "        nulos = df[variable_a_transformar].isnull().sum()\n",
    "        \n",
    "        # Mostrar el número de valores nulos\n",
    "        print(f\"Número de valores nulos en {variable_a_transformar}: {nulos}\")\n",
    "        \n",
    "        # Reemplazar NaN por 0 y convertir a entero (int64)\n",
    "        df[variable_a_transformar] = df[variable_a_transformar].fillna(0).astype('int64')\n",
    "    \n",
    "    except Exception as e:\n",
    "        # Si ocurre un error, mostrar el mensaje\n",
    "        print(f\"No es posible transformar a integer: {e}\")\n"
   ]
  },
  {
   "cell_type": "code",
   "execution_count": 28,
   "id": "5035a021",
   "metadata": {},
   "outputs": [
    {
     "name": "stdout",
     "output_type": "stream",
     "text": [
      "Número de valores nulos en Arrancada: 0\n",
      "Número de valores nulos en Dos Tiempos: 0\n",
      "Número de valores nulos en Total: 0\n"
     ]
    },
    {
     "data": {
      "text/html": [
       "<div>\n",
       "<style scoped>\n",
       "    .dataframe tbody tr th:only-of-type {\n",
       "        vertical-align: middle;\n",
       "    }\n",
       "\n",
       "    .dataframe tbody tr th {\n",
       "        vertical-align: top;\n",
       "    }\n",
       "\n",
       "    .dataframe thead th {\n",
       "        text-align: right;\n",
       "    }\n",
       "</style>\n",
       "<table border=\"1\" class=\"dataframe\">\n",
       "  <thead>\n",
       "    <tr style=\"text-align: right;\">\n",
       "      <th></th>\n",
       "      <th>Genero</th>\n",
       "      <th>Categoría</th>\n",
       "      <th>Fecha</th>\n",
       "      <th>Medalla</th>\n",
       "      <th>Nombre</th>\n",
       "      <th>Apellido</th>\n",
       "      <th>País</th>\n",
       "      <th>Arrancada</th>\n",
       "      <th>Dos Tiempos</th>\n",
       "      <th>Total</th>\n",
       "    </tr>\n",
       "  </thead>\n",
       "  <tbody>\n",
       "    <tr>\n",
       "      <th>0</th>\n",
       "      <td>Masculino</td>\n",
       "      <td>55 kg</td>\n",
       "      <td>2019-04-06</td>\n",
       "      <td>Oro</td>\n",
       "      <td>Mirco</td>\n",
       "      <td>Scarantino</td>\n",
       "      <td>Italia</td>\n",
       "      <td>116</td>\n",
       "      <td>145</td>\n",
       "      <td>261</td>\n",
       "    </tr>\n",
       "  </tbody>\n",
       "</table>\n",
       "</div>"
      ],
      "text/plain": [
       "      Genero Categoría      Fecha Medalla Nombre    Apellido    País  \\\n",
       "0  Masculino     55 kg 2019-04-06     Oro  Mirco  Scarantino  Italia   \n",
       "\n",
       "   Arrancada  Dos Tiempos  Total  \n",
       "0        116          145    261  "
      ]
     },
     "execution_count": 28,
     "metadata": {},
     "output_type": "execute_result"
    }
   ],
   "source": [
    "columnas_a_integer = ['Arrancada', 'Dos Tiempos', 'Total']\n",
    "for columnas in columnas_a_integer:\n",
    "    tipo_de_dato_integer(df = df_columnas , variable_a_transformar = columnas)\n",
    "df_columnas.head(1)\n"
   ]
  },
  {
   "cell_type": "markdown",
   "id": "01e7e7aa",
   "metadata": {},
   "source": [
    "### Category"
   ]
  },
  {
   "cell_type": "code",
   "execution_count": 86,
   "id": "f903576e",
   "metadata": {},
   "outputs": [],
   "source": [
    "# Crear una lista con las categorías de medallas en el orden deseado\n",
    "orden_medallas= ['Oro', 'Plata', 'Bronce']\n",
    "# Convertir la columna 'Medalla' a tipo categórico y especificar el orden\n",
    "df_columnas.Medalla = pd.Categorical(df_columnas.Medalla, categories=orden_medallas)"
   ]
  },
  {
   "cell_type": "code",
   "execution_count": 30,
   "id": "3729b0fc",
   "metadata": {},
   "outputs": [
    {
     "data": {
      "text/plain": [
       "Genero                 object\n",
       "Categoría              object\n",
       "Fecha          datetime64[ns]\n",
       "Medalla              category\n",
       "Nombre                 object\n",
       "Apellido               object\n",
       "País                   object\n",
       "Arrancada               int64\n",
       "Dos Tiempos             int64\n",
       "Total                   int64\n",
       "dtype: object"
      ]
     },
     "execution_count": 30,
     "metadata": {},
     "output_type": "execute_result"
    }
   ],
   "source": [
    "# Comprobar el tipo de datos de cada columna\n",
    "df_columnas.dtypes"
   ]
  },
  {
   "cell_type": "markdown",
   "id": "e39fe2f8",
   "metadata": {},
   "source": [
    "## <span style=\"color: #2A8E3C;\"> Paso 9. Ordendar </span> "
   ]
  },
  {
   "cell_type": "markdown",
   "id": "a06d9a6a",
   "metadata": {},
   "source": [
    "Nos solicitan ordenar la tabla por Categoría, Género y Medalla"
   ]
  },
  {
   "cell_type": "code",
   "execution_count": 31,
   "id": "e85cafa5",
   "metadata": {},
   "outputs": [],
   "source": [
    "# Crear una lista con las categorías de Género en el orden deseado\n",
    "orden_genero = ['Femenino', 'Masculino']\n",
    "# Convertir la columna 'Genero' a tipo categórico y especificar el orden\n",
    "df_columnas.Genero = pd.Categorical(df_columnas.Genero, categories=orden_genero)"
   ]
  },
  {
   "cell_type": "code",
   "execution_count": 32,
   "id": "dbdbf9e0",
   "metadata": {},
   "outputs": [
    {
     "name": "stdout",
     "output_type": "stream",
     "text": [
      "['45 kg', '49 kg', '55 kg', '59 kg', '61 kg', '64 kg', '67 kg', '71 kg', '73 kg', '76 kg', '81 kg', '87 kg', '+87 kg', '89 kg', '96 kg', '102 kg', '109 kg', '+109 kg']\n"
     ]
    }
   ],
   "source": [
    "# Extraer las categorías únicas de la columna 'Categoría' y convertir a lista\n",
    "categorias = list(df_columnas.Categoría.unique()).copy()\n",
    "\n",
    "# Extraer los números de las categorías y ordenar de menor a mayor\n",
    "orden_num_categoria = sorted(list(map(lambda x: int(re.findall(r'\\d+', x)[0]), categorias)))\n",
    "\n",
    "# Inicializar un diccionario para contar repeticiones y una lista para el resultado final\n",
    "repeticiones = {}\n",
    "orden_categoria = []\n",
    "\n",
    "# Iterar sobre la lista ordenada\n",
    "for x in orden_num_categoria:\n",
    "    # Contamr cuántas veces aparece cada número\n",
    "    repeticiones[x] = repeticiones.get(x, 0) + 1\n",
    "    \n",
    "    # Si el número aparece dos veces, añadir '+' antes de 'kg'\n",
    "    if repeticiones[x] == 2:\n",
    "        orden_categoria.append(f'+{x} kg')\n",
    "    else:\n",
    "        # Si aparece una sola vez, simplemente añadimos 'kg'\n",
    "        orden_categoria.append(f'{x} kg')\n",
    "\n",
    "# Imprimir el resultado final\n",
    "print(orden_categoria)"
   ]
  },
  {
   "cell_type": "code",
   "execution_count": 33,
   "id": "f10eccea",
   "metadata": {},
   "outputs": [],
   "source": [
    "# Convertir la columna 'Categoría' a tipo categórico y especificar el orden\n",
    "df_columnas.Categoría = pd.Categorical(df_columnas.Categoría, categories=orden_categoria)"
   ]
  },
  {
   "cell_type": "code",
   "execution_count": 34,
   "id": "13b4c67c",
   "metadata": {},
   "outputs": [
    {
     "data": {
      "text/html": [
       "<div>\n",
       "<style scoped>\n",
       "    .dataframe tbody tr th:only-of-type {\n",
       "        vertical-align: middle;\n",
       "    }\n",
       "\n",
       "    .dataframe tbody tr th {\n",
       "        vertical-align: top;\n",
       "    }\n",
       "\n",
       "    .dataframe thead th {\n",
       "        text-align: right;\n",
       "    }\n",
       "</style>\n",
       "<table border=\"1\" class=\"dataframe\">\n",
       "  <thead>\n",
       "    <tr style=\"text-align: right;\">\n",
       "      <th></th>\n",
       "      <th>Genero</th>\n",
       "      <th>Categoría</th>\n",
       "      <th>Fecha</th>\n",
       "      <th>Medalla</th>\n",
       "      <th>Nombre</th>\n",
       "      <th>Apellido</th>\n",
       "      <th>País</th>\n",
       "      <th>Arrancada</th>\n",
       "      <th>Dos Tiempos</th>\n",
       "      <th>Total</th>\n",
       "    </tr>\n",
       "  </thead>\n",
       "  <tbody>\n",
       "    <tr>\n",
       "      <th>10</th>\n",
       "      <td>Femenino</td>\n",
       "      <td>45 kg</td>\n",
       "      <td>2019-04-06</td>\n",
       "      <td>Oro</td>\n",
       "      <td>Şaziye</td>\n",
       "      <td>Erdoğan</td>\n",
       "      <td>Turquía</td>\n",
       "      <td>75</td>\n",
       "      <td>88</td>\n",
       "      <td>163</td>\n",
       "    </tr>\n",
       "    <tr>\n",
       "      <th>30</th>\n",
       "      <td>Femenino</td>\n",
       "      <td>45 kg</td>\n",
       "      <td>2020-04-03</td>\n",
       "      <td>Oro</td>\n",
       "      <td>Nadezhda</td>\n",
       "      <td>Nguen</td>\n",
       "      <td>Bulgaria</td>\n",
       "      <td>72</td>\n",
       "      <td>83</td>\n",
       "      <td>155</td>\n",
       "    </tr>\n",
       "    <tr>\n",
       "      <th>50</th>\n",
       "      <td>Femenino</td>\n",
       "      <td>45 kg</td>\n",
       "      <td>2019-04-06</td>\n",
       "      <td>Plata</td>\n",
       "      <td>Ivana</td>\n",
       "      <td>Petrova</td>\n",
       "      <td>Bulgaria</td>\n",
       "      <td>69</td>\n",
       "      <td>89</td>\n",
       "      <td>158</td>\n",
       "    </tr>\n",
       "    <tr>\n",
       "      <th>70</th>\n",
       "      <td>Femenino</td>\n",
       "      <td>45 kg</td>\n",
       "      <td>2020-04-03</td>\n",
       "      <td>Plata</td>\n",
       "      <td>Ivana</td>\n",
       "      <td>Petrova</td>\n",
       "      <td>Bulgaria</td>\n",
       "      <td>67</td>\n",
       "      <td>85</td>\n",
       "      <td>152</td>\n",
       "    </tr>\n",
       "    <tr>\n",
       "      <th>90</th>\n",
       "      <td>Femenino</td>\n",
       "      <td>45 kg</td>\n",
       "      <td>2019-04-06</td>\n",
       "      <td>Bronce</td>\n",
       "      <td>Yuliya</td>\n",
       "      <td>Asayonak</td>\n",
       "      <td>Bielorrusia</td>\n",
       "      <td>69</td>\n",
       "      <td>81</td>\n",
       "      <td>150</td>\n",
       "    </tr>\n",
       "    <tr>\n",
       "      <th>110</th>\n",
       "      <td>Femenino</td>\n",
       "      <td>45 kg</td>\n",
       "      <td>2020-04-03</td>\n",
       "      <td>Bronce</td>\n",
       "      <td>Melisa</td>\n",
       "      <td>Güneş</td>\n",
       "      <td>Turquía</td>\n",
       "      <td>68</td>\n",
       "      <td>83</td>\n",
       "      <td>151</td>\n",
       "    </tr>\n",
       "    <tr>\n",
       "      <th>11</th>\n",
       "      <td>Femenino</td>\n",
       "      <td>49 kg</td>\n",
       "      <td>2019-04-06</td>\n",
       "      <td>Oro</td>\n",
       "      <td>Elena</td>\n",
       "      <td>Andrieș</td>\n",
       "      <td>Rumania</td>\n",
       "      <td>87</td>\n",
       "      <td>103</td>\n",
       "      <td>190</td>\n",
       "    </tr>\n",
       "    <tr>\n",
       "      <th>31</th>\n",
       "      <td>Femenino</td>\n",
       "      <td>49 kg</td>\n",
       "      <td>2020-04-03</td>\n",
       "      <td>Oro</td>\n",
       "      <td>Monica</td>\n",
       "      <td>Csengeri</td>\n",
       "      <td>Rumania</td>\n",
       "      <td>86</td>\n",
       "      <td>103</td>\n",
       "      <td>189</td>\n",
       "    </tr>\n",
       "    <tr>\n",
       "      <th>51</th>\n",
       "      <td>Femenino</td>\n",
       "      <td>49 kg</td>\n",
       "      <td>2019-04-06</td>\n",
       "      <td>Plata</td>\n",
       "      <td>Kristina</td>\n",
       "      <td>Sobol</td>\n",
       "      <td>Rusia</td>\n",
       "      <td>85</td>\n",
       "      <td>95</td>\n",
       "      <td>180</td>\n",
       "    </tr>\n",
       "    <tr>\n",
       "      <th>71</th>\n",
       "      <td>Femenino</td>\n",
       "      <td>49 kg</td>\n",
       "      <td>2020-04-03</td>\n",
       "      <td>Plata</td>\n",
       "      <td>Kristina</td>\n",
       "      <td>Sobol</td>\n",
       "      <td>Rusia</td>\n",
       "      <td>85</td>\n",
       "      <td>96</td>\n",
       "      <td>181</td>\n",
       "    </tr>\n",
       "    <tr>\n",
       "      <th>91</th>\n",
       "      <td>Femenino</td>\n",
       "      <td>49 kg</td>\n",
       "      <td>2019-04-06</td>\n",
       "      <td>Bronce</td>\n",
       "      <td>Giorgia</td>\n",
       "      <td>Russo</td>\n",
       "      <td>Italia</td>\n",
       "      <td>75</td>\n",
       "      <td>103</td>\n",
       "      <td>178</td>\n",
       "    </tr>\n",
       "    <tr>\n",
       "      <th>111</th>\n",
       "      <td>Femenino</td>\n",
       "      <td>49 kg</td>\n",
       "      <td>2020-04-03</td>\n",
       "      <td>Bronce</td>\n",
       "      <td>Mihaela</td>\n",
       "      <td>Cambei</td>\n",
       "      <td>Rumania</td>\n",
       "      <td>80</td>\n",
       "      <td>100</td>\n",
       "      <td>180</td>\n",
       "    </tr>\n",
       "    <tr>\n",
       "      <th>12</th>\n",
       "      <td>Femenino</td>\n",
       "      <td>55 kg</td>\n",
       "      <td>2019-04-07</td>\n",
       "      <td>Oro</td>\n",
       "      <td>Joanna</td>\n",
       "      <td>Łochowska</td>\n",
       "      <td>Polonia</td>\n",
       "      <td>87</td>\n",
       "      <td>112</td>\n",
       "      <td>199</td>\n",
       "    </tr>\n",
       "    <tr>\n",
       "      <th>32</th>\n",
       "      <td>Femenino</td>\n",
       "      <td>55 kg</td>\n",
       "      <td>2020-04-04</td>\n",
       "      <td>Oro</td>\n",
       "      <td>Kamila</td>\n",
       "      <td>Konotop</td>\n",
       "      <td>Ucrania</td>\n",
       "      <td>95</td>\n",
       "      <td>113</td>\n",
       "      <td>208</td>\n",
       "    </tr>\n",
       "    <tr>\n",
       "      <th>52</th>\n",
       "      <td>Femenino</td>\n",
       "      <td>55 kg</td>\n",
       "      <td>2019-04-07</td>\n",
       "      <td>Plata</td>\n",
       "      <td>Svetlana</td>\n",
       "      <td>Yershova</td>\n",
       "      <td>Rusia</td>\n",
       "      <td>90</td>\n",
       "      <td>108</td>\n",
       "      <td>198</td>\n",
       "    </tr>\n",
       "    <tr>\n",
       "      <th>72</th>\n",
       "      <td>Femenino</td>\n",
       "      <td>55 kg</td>\n",
       "      <td>2020-04-04</td>\n",
       "      <td>Plata</td>\n",
       "      <td>Svetlana</td>\n",
       "      <td>Yershova</td>\n",
       "      <td>Rusia</td>\n",
       "      <td>88</td>\n",
       "      <td>112</td>\n",
       "      <td>200</td>\n",
       "    </tr>\n",
       "    <tr>\n",
       "      <th>92</th>\n",
       "      <td>Femenino</td>\n",
       "      <td>55 kg</td>\n",
       "      <td>2019-04-07</td>\n",
       "      <td>Bronce</td>\n",
       "      <td>Kristina</td>\n",
       "      <td>Novitskaya</td>\n",
       "      <td>Rusia</td>\n",
       "      <td>85</td>\n",
       "      <td>105</td>\n",
       "      <td>190</td>\n",
       "    </tr>\n",
       "    <tr>\n",
       "      <th>112</th>\n",
       "      <td>Femenino</td>\n",
       "      <td>55 kg</td>\n",
       "      <td>2020-04-04</td>\n",
       "      <td>Bronce</td>\n",
       "      <td>Nina</td>\n",
       "      <td>Sterckx</td>\n",
       "      <td>Bélgica</td>\n",
       "      <td>88</td>\n",
       "      <td>109</td>\n",
       "      <td>197</td>\n",
       "    </tr>\n",
       "    <tr>\n",
       "      <th>13</th>\n",
       "      <td>Femenino</td>\n",
       "      <td>59 kg</td>\n",
       "      <td>2019-04-08</td>\n",
       "      <td>Oro</td>\n",
       "      <td>Rebeka</td>\n",
       "      <td>Koha</td>\n",
       "      <td>Letonia</td>\n",
       "      <td>101</td>\n",
       "      <td>120</td>\n",
       "      <td>221</td>\n",
       "    </tr>\n",
       "    <tr>\n",
       "      <th>33</th>\n",
       "      <td>Femenino</td>\n",
       "      <td>59 kg</td>\n",
       "      <td>2020-04-05</td>\n",
       "      <td>Oro</td>\n",
       "      <td>Boyanka</td>\n",
       "      <td>Kostova</td>\n",
       "      <td>Azerbaiyán</td>\n",
       "      <td>95</td>\n",
       "      <td>116</td>\n",
       "      <td>211</td>\n",
       "    </tr>\n",
       "  </tbody>\n",
       "</table>\n",
       "</div>"
      ],
      "text/plain": [
       "       Genero Categoría      Fecha Medalla    Nombre    Apellido         País  \\\n",
       "10   Femenino     45 kg 2019-04-06     Oro    Şaziye     Erdoğan      Turquía   \n",
       "30   Femenino     45 kg 2020-04-03     Oro  Nadezhda       Nguen     Bulgaria   \n",
       "50   Femenino     45 kg 2019-04-06   Plata     Ivana     Petrova     Bulgaria   \n",
       "70   Femenino     45 kg 2020-04-03   Plata     Ivana     Petrova     Bulgaria   \n",
       "90   Femenino     45 kg 2019-04-06  Bronce    Yuliya    Asayonak  Bielorrusia   \n",
       "110  Femenino     45 kg 2020-04-03  Bronce    Melisa       Güneş      Turquía   \n",
       "11   Femenino     49 kg 2019-04-06     Oro     Elena     Andrieș      Rumania   \n",
       "31   Femenino     49 kg 2020-04-03     Oro    Monica    Csengeri      Rumania   \n",
       "51   Femenino     49 kg 2019-04-06   Plata  Kristina       Sobol        Rusia   \n",
       "71   Femenino     49 kg 2020-04-03   Plata  Kristina       Sobol        Rusia   \n",
       "91   Femenino     49 kg 2019-04-06  Bronce   Giorgia       Russo       Italia   \n",
       "111  Femenino     49 kg 2020-04-03  Bronce   Mihaela      Cambei      Rumania   \n",
       "12   Femenino     55 kg 2019-04-07     Oro    Joanna   Łochowska      Polonia   \n",
       "32   Femenino     55 kg 2020-04-04     Oro    Kamila     Konotop      Ucrania   \n",
       "52   Femenino     55 kg 2019-04-07   Plata  Svetlana    Yershova        Rusia   \n",
       "72   Femenino     55 kg 2020-04-04   Plata  Svetlana    Yershova        Rusia   \n",
       "92   Femenino     55 kg 2019-04-07  Bronce  Kristina  Novitskaya        Rusia   \n",
       "112  Femenino     55 kg 2020-04-04  Bronce      Nina     Sterckx      Bélgica   \n",
       "13   Femenino     59 kg 2019-04-08     Oro    Rebeka        Koha      Letonia   \n",
       "33   Femenino     59 kg 2020-04-05     Oro   Boyanka     Kostova   Azerbaiyán   \n",
       "\n",
       "     Arrancada  Dos Tiempos  Total  \n",
       "10          75           88    163  \n",
       "30          72           83    155  \n",
       "50          69           89    158  \n",
       "70          67           85    152  \n",
       "90          69           81    150  \n",
       "110         68           83    151  \n",
       "11          87          103    190  \n",
       "31          86          103    189  \n",
       "51          85           95    180  \n",
       "71          85           96    181  \n",
       "91          75          103    178  \n",
       "111         80          100    180  \n",
       "12          87          112    199  \n",
       "32          95          113    208  \n",
       "52          90          108    198  \n",
       "72          88          112    200  \n",
       "92          85          105    190  \n",
       "112         88          109    197  \n",
       "13         101          120    221  \n",
       "33          95          116    211  "
      ]
     },
     "execution_count": 34,
     "metadata": {},
     "output_type": "execute_result"
    }
   ],
   "source": [
    "# Crear DataFrame ordenado por las columnas 'Genero', 'Categoría' y 'Medalla' conforme a solicitud\n",
    "df_columnas_orden = df_columnas.sort_values(by=['Genero', 'Categoría', 'Medalla'])\n",
    "df_columnas_orden.head(20)"
   ]
  },
  {
   "cell_type": "markdown",
   "id": "7d6a887b",
   "metadata": {},
   "source": [
    "## <span style=\"color: #2A8E3C;\"> Paso 10. EDA </span>\n",
    "\n",
    "Realizamos un análisis exploratorio de los datos."
   ]
  },
  {
   "cell_type": "code",
   "execution_count": 35,
   "id": "6c885ad7",
   "metadata": {},
   "outputs": [],
   "source": [
    "colores = [\n",
    "    \"#32A845\",  # verde brillante\n",
    "    \"#2A8E3C\",  # verde oliva\n",
    "    \"#FFCC00\",  # amarillo brillante\n",
    "    \"#E3B800\"   # amarillo dorado\n",
    "]\n",
    "\n",
    "# Establecer la paleta de colores para Seaborn\n",
    "sns.set_palette(colores)"
   ]
  },
  {
   "cell_type": "code",
   "execution_count": 36,
   "id": "eaf5f88d",
   "metadata": {},
   "outputs": [],
   "source": [
    "def deteccion_outliers (df, variable):\n",
    "    \n",
    "    columna = df[variable]\n",
    "\n",
    "    sns.boxplot(\n",
    "      data=df,\n",
    "      y=variable,\n",
    "    )\n",
    "    plt.show()\n",
    "\n",
    "    Q1 = columna.quantile(0.25)\n",
    "    Q3 = columna.quantile(0.75)\n",
    "    IQR = Q3 - Q1\n",
    "\n",
    "    print('Valor del segundo cuartil (25%): {:.2f}'.format(Q1))\n",
    "    print('Valor del tercer cuartil (75%): {:.2f}'.format(Q3))\n",
    "    print('Valor del rango intercuartil (IQR): {:.2f}'.format(IQR))\n",
    "\n",
    "    limite_inferior = Q1 - 1.5 * IQR\n",
    "    limite_superior = Q3 + 1.5 * IQR\n",
    "\n",
    "    print(f\"Los valores atípicos se definen como aquellos que caen fuera del siguiente rango:\")\n",
    "    print(f\"\\t - Límite inferior (considerado extremadamente bajo): {limite_inferior:.2f}\")\n",
    "    print(f\"\\t - Límite superior (considerado extremadamente alto): {limite_superior:.2f}\")\n",
    "\n",
    "\n",
    "    outliers = list(columna[((columna < limite_inferior) | (columna > limite_superior))].index)\n",
    "    num_outliers = len(outliers)\n",
    "    print(f\"Hay {num_outliers} outliers en la variable '{variable}'\")\n",
    "    return outliers"
   ]
  },
  {
   "cell_type": "code",
   "execution_count": 37,
   "id": "29e45f85",
   "metadata": {},
   "outputs": [
    {
     "data": {
      "image/png": "[encoded data removed]",
      "text/plain": [
       "<Figure size 640x480 with 1 Axes>"
      ]
     },
     "metadata": {},
     "output_type": "display_data"
    },
    {
     "name": "stdout",
     "output_type": "stream",
     "text": [
      "Valor del segundo cuartil (25%): 221.75\n",
      "Valor del tercer cuartil (75%): 366.00\n",
      "Valor del rango intercuartil (IQR): 144.25\n",
      "Los valores atípicos se definen como aquellos que caen fuera del siguiente rango:\n",
      "\t - Límite inferior (considerado extremadamente bajo): 5.38\n",
      "\t - Límite superior (considerado extremadamente alto): 582.38\n",
      "Hay 0 outliers en la variable 'Total'\n"
     ]
    },
    {
     "data": {
      "text/plain": [
       "[]"
      ]
     },
     "execution_count": 37,
     "metadata": {},
     "output_type": "execute_result"
    }
   ],
   "source": [
    "deteccion_outliers(df = df_columnas, variable = 'Total')"
   ]
  },
  {
   "cell_type": "code",
   "execution_count": 38,
   "id": "ffadcb57",
   "metadata": {},
   "outputs": [],
   "source": [
    "def graficar_boxplot_bivariable_px(df, variable_analisis, variable_categorica):\n",
    "    # Calcular el orden de las categorías basado en la media de 'variable_analisis' para cada categoría\n",
    "    orden_categorica = df.groupby(variable_categorica)[variable_analisis].mean().sort_values(ascending=False).index.tolist()\n",
    "\n",
    "    # Crear el boxplot usando Plotly Express, especificando el orden de las categorías\n",
    "    fig = px.box(df, x=variable_categorica, y=variable_analisis, color=variable_categorica,\n",
    "                 category_orders={variable_categorica: orden_categorica})\n",
    "\n",
    "    # Actualizar títulos del gráfico\n",
    "    fig.update_layout(title=f'Boxplot de {variable_analisis} por {variable_categorica}',\n",
    "                      xaxis_title=variable_categorica,\n",
    "                      yaxis_title=variable_analisis)\n",
    "\n",
    "    # Actualizar el fondo del gráfico a blanco\n",
    "    fig.update_layout({\n",
    "        'plot_bgcolor': 'rgba(255, 255, 255, 1)',\n",
    "        'xaxis': {'showgrid': True, 'gridcolor': 'lightgrey'},\n",
    "        'yaxis': {'showgrid': True, 'gridcolor': 'lightgrey'}\n",
    "    })\n",
    "\n",
    "    # Mostrar el gráfico\n",
    "    fig.show()\n"
   ]
  },
  {
   "cell_type": "code",
   "execution_count": 39,
   "id": "184f64b8",
   "metadata": {},
   "outputs": [
    {
     "data": {
      "application/vnd.plotly.v1+json": {
       "config": {
        "plotlyServerURL": "https://plot.ly"
       },
       "data": [
        {
         "alignmentgroup": "True",
         "hovertemplate": "País=%{x}<br>Total=%{y}<extra></extra>",
         "legendgroup": "Georgia",
         "marker": {
          "color": "#636efa"
         },
         "name": "Georgia",
         "notched": false,
         "offsetgroup": "Georgia",
         "orientation": "v",
         "showlegend": true,
         "type": "box",
         "x": [
          "Georgia",
          "Georgia",
          "Georgia",
          "Georgia",
          "Georgia",
          "Georgia",
          "Georgia",
          "Georgia",
          "Georgia"
         ],
         "x0": " ",
         "xaxis": "x",
         "y": [
          290,
          308,
          370,
          374,
          393,
          377,
          478,
          485,
          447
         ],
         "y0": " ",
         "yaxis": "y"
        },
        {
         "alignmentgroup": "True",
         "hovertemplate": "País=%{x}<br>Total=%{y}<extra></extra>",
         "legendgroup": "Armenia",
         "marker": {
          "color": "#EF553B"
         },
         "name": "Armenia",
         "notched": false,
         "offsetgroup": "Armenia",
         "orientation": "v",
         "showlegend": true,
         "type": "box",
         "x": [
          "Armenia",
          "Armenia",
          "Armenia",
          "Armenia",
          "Armenia",
          "Armenia",
          "Armenia",
          "Armenia",
          "Armenia",
          "Armenia",
          "Armenia",
          "Armenia",
          "Armenia",
          "Armenia"
         ],
         "x0": " ",
         "xaxis": "x",
         "y": [
          217,
          227,
          371,
          375,
          360,
          365,
          372,
          390,
          377,
          380,
          427,
          464,
          440,
          445
         ],
         "y0": " ",
         "yaxis": "y"
        },
        {
         "alignmentgroup": "True",
         "hovertemplate": "País=%{x}<br>Total=%{y}<extra></extra>",
         "legendgroup": "Albania",
         "marker": {
          "color": "#00cc96"
         },
         "name": "Albania",
         "notched": false,
         "offsetgroup": "Albania",
         "orientation": "v",
         "showlegend": true,
         "type": "box",
         "x": [
          "Albania",
          "Albania"
         ],
         "x0": " ",
         "xaxis": "x",
         "y": [
          339,
          336
         ],
         "y0": " ",
         "yaxis": "y"
        },
        {
         "alignmentgroup": "True",
         "hovertemplate": "País=%{x}<br>Total=%{y}<extra></extra>",
         "legendgroup": "Bielorrusia",
         "marker": {
          "color": "#ab63fa"
         },
         "name": "Bielorrusia",
         "notched": false,
         "offsetgroup": "Bielorrusia",
         "orientation": "v",
         "showlegend": true,
         "type": "box",
         "x": [
          "Bielorrusia",
          "Bielorrusia",
          "Bielorrusia",
          "Bielorrusia",
          "Bielorrusia",
          "Bielorrusia",
          "Bielorrusia",
          "Bielorrusia",
          "Bielorrusia"
         ],
         "x0": " ",
         "xaxis": "x",
         "y": [
          150,
          242,
          286,
          335,
          355,
          400,
          374,
          376,
          411
         ],
         "y0": " ",
         "yaxis": "y"
        },
        {
         "alignmentgroup": "True",
         "hovertemplate": "País=%{x}<br>Total=%{y}<extra></extra>",
         "legendgroup": "Letonia",
         "marker": {
          "color": "#FFA15A"
         },
         "name": "Letonia",
         "notched": false,
         "offsetgroup": "Letonia",
         "orientation": "v",
         "showlegend": true,
         "type": "box",
         "x": [
          "Letonia",
          "Letonia",
          "Letonia"
         ],
         "x0": " ",
         "xaxis": "x",
         "y": [
          221,
          354,
          347
         ],
         "y0": " ",
         "yaxis": "y"
        },
        {
         "alignmentgroup": "True",
         "hovertemplate": "País=%{x}<br>Total=%{y}<extra></extra>",
         "legendgroup": "Azerbaiyán",
         "marker": {
          "color": "#19d3f3"
         },
         "name": "Azerbaiyán",
         "notched": false,
         "offsetgroup": "Azerbaiyán",
         "orientation": "v",
         "showlegend": true,
         "type": "box",
         "x": [
          "Azerbaiyán",
          "Azerbaiyán"
         ],
         "x0": " ",
         "xaxis": "x",
         "y": [
          211,
          379
         ],
         "y0": " ",
         "yaxis": "y"
        },
        {
         "alignmentgroup": "True",
         "hovertemplate": "País=%{x}<br>Total=%{y}<extra></extra>",
         "legendgroup": "Moldavia",
         "marker": {
          "color": "#FF6692"
         },
         "name": "Moldavia",
         "notched": false,
         "offsetgroup": "Moldavia",
         "orientation": "v",
         "showlegend": true,
         "type": "box",
         "x": [
          "Moldavia",
          "Moldavia"
         ],
         "x0": " ",
         "xaxis": "x",
         "y": [
          245,
          339
         ],
         "y0": " ",
         "yaxis": "y"
        },
        {
         "alignmentgroup": "True",
         "hovertemplate": "País=%{x}<br>Total=%{y}<extra></extra>",
         "legendgroup": "Italia",
         "marker": {
          "color": "#B6E880"
         },
         "name": "Italia",
         "notched": false,
         "offsetgroup": "Italia",
         "orientation": "v",
         "showlegend": true,
         "type": "box",
         "x": [
          "Italia",
          "Italia",
          "Italia",
          "Italia",
          "Italia",
          "Italia"
         ],
         "x0": " ",
         "xaxis": "x",
         "y": [
          178,
          219,
          261,
          318,
          356,
          370
         ],
         "y0": " ",
         "yaxis": "y"
        },
        {
         "alignmentgroup": "True",
         "hovertemplate": "País=%{x}<br>Total=%{y}<extra></extra>",
         "legendgroup": "Ucrania",
         "marker": {
          "color": "#FF97FF"
         },
         "name": "Ucrania",
         "notched": false,
         "offsetgroup": "Ucrania",
         "orientation": "v",
         "showlegend": true,
         "type": "box",
         "x": [
          "Ucrania",
          "Ucrania",
          "Ucrania",
          "Ucrania",
          "Ucrania",
          "Ucrania",
          "Ucrania",
          "Ucrania"
         ],
         "x0": " ",
         "xaxis": "x",
         "y": [
          208,
          248,
          236,
          268,
          252,
          247,
          391,
          407
         ],
         "y0": " ",
         "yaxis": "y"
        },
        {
         "alignmentgroup": "True",
         "hovertemplate": "País=%{x}<br>Total=%{y}<extra></extra>",
         "legendgroup": "Bulgaria",
         "marker": {
          "color": "#FECB52"
         },
         "name": "Bulgaria",
         "notched": false,
         "offsetgroup": "Bulgaria",
         "orientation": "v",
         "showlegend": true,
         "type": "box",
         "x": [
          "Bulgaria",
          "Bulgaria",
          "Bulgaria",
          "Bulgaria",
          "Bulgaria",
          "Bulgaria",
          "Bulgaria",
          "Bulgaria",
          "Bulgaria",
          "Bulgaria"
         ],
         "x0": " ",
         "xaxis": "x",
         "y": [
          155,
          158,
          152,
          258,
          256,
          296,
          315,
          345,
          369,
          406
         ],
         "y0": " ",
         "yaxis": "y"
        },
        {
         "alignmentgroup": "True",
         "hovertemplate": "País=%{x}<br>Total=%{y}<extra></extra>",
         "legendgroup": "Alemania",
         "marker": {
          "color": "#636efa"
         },
         "name": "Alemania",
         "notched": false,
         "offsetgroup": "Alemania",
         "orientation": "v",
         "showlegend": true,
         "type": "box",
         "x": [
          "Alemania",
          "Alemania"
         ],
         "x0": " ",
         "xaxis": "x",
         "y": [
          222,
          311
         ],
         "y0": " ",
         "yaxis": "y"
        },
        {
         "alignmentgroup": "True",
         "hovertemplate": "País=%{x}<br>Total=%{y}<extra></extra>",
         "legendgroup": "Turquía",
         "marker": {
          "color": "#EF553B"
         },
         "name": "Turquía",
         "notched": false,
         "offsetgroup": "Turquía",
         "orientation": "v",
         "showlegend": true,
         "type": "box",
         "x": [
          "Turquía",
          "Turquía",
          "Turquía",
          "Turquía",
          "Turquía",
          "Turquía",
          "Turquía",
          "Turquía",
          "Turquía"
         ],
         "x0": " ",
         "xaxis": "x",
         "y": [
          163,
          151,
          243,
          247,
          283,
          282,
          287,
          323,
          341
         ],
         "y0": " ",
         "yaxis": "y"
        },
        {
         "alignmentgroup": "True",
         "hovertemplate": "País=%{x}<br>Total=%{y}<extra></extra>",
         "legendgroup": "Rusia",
         "marker": {
          "color": "#00cc96"
         },
         "name": "Rusia",
         "notched": false,
         "offsetgroup": "Rusia",
         "orientation": "v",
         "showlegend": true,
         "type": "box",
         "x": [
          "Rusia",
          "Rusia",
          "Rusia",
          "Rusia",
          "Rusia",
          "Rusia",
          "Rusia",
          "Rusia",
          "Rusia",
          "Rusia",
          "Rusia",
          "Rusia",
          "Rusia",
          "Rusia",
          "Rusia",
          "Rusia",
          "Rusia",
          "Rusia",
          "Rusia",
          "Rusia"
         ],
         "x0": " ",
         "xaxis": "x",
         "y": [
          180,
          181,
          198,
          200,
          190,
          214,
          210,
          213,
          222,
          240,
          246,
          243,
          242,
          246,
          240,
          240,
          331,
          378,
          410,
          401
         ],
         "y0": " ",
         "yaxis": "y"
        },
        {
         "alignmentgroup": "True",
         "hovertemplate": "País=%{x}<br>Total=%{y}<extra></extra>",
         "legendgroup": "Francia",
         "marker": {
          "color": "#ab63fa"
         },
         "name": "Francia",
         "notched": false,
         "offsetgroup": "Francia",
         "orientation": "v",
         "showlegend": true,
         "type": "box",
         "x": [
          "Francia",
          "Francia",
          "Francia"
         ],
         "x0": " ",
         "xaxis": "x",
         "y": [
          210,
          231,
          312
         ],
         "y0": " ",
         "yaxis": "y"
        },
        {
         "alignmentgroup": "True",
         "hovertemplate": "País=%{x}<br>Total=%{y}<extra></extra>",
         "legendgroup": "España",
         "marker": {
          "color": "#FFA15A"
         },
         "name": "España",
         "notched": false,
         "offsetgroup": "España",
         "orientation": "v",
         "showlegend": true,
         "type": "box",
         "x": [
          "España"
         ],
         "x0": " ",
         "xaxis": "x",
         "y": [
          241
         ],
         "y0": " ",
         "yaxis": "y"
        },
        {
         "alignmentgroup": "True",
         "hovertemplate": "País=%{x}<br>Total=%{y}<extra></extra>",
         "legendgroup": "Reino Unido",
         "marker": {
          "color": "#19d3f3"
         },
         "name": "Reino Unido",
         "notched": false,
         "offsetgroup": "Reino Unido",
         "orientation": "v",
         "showlegend": true,
         "type": "box",
         "x": [
          "Reino Unido",
          "Reino Unido",
          "Reino Unido",
          "Reino Unido",
          "Reino Unido",
          "Reino Unido"
         ],
         "x0": " ",
         "xaxis": "x",
         "y": [
          230,
          224,
          227,
          216,
          276,
          260
         ],
         "y0": " ",
         "yaxis": "y"
        },
        {
         "alignmentgroup": "True",
         "hovertemplate": "País=%{x}<br>Total=%{y}<extra></extra>",
         "legendgroup": "Suecia",
         "marker": {
          "color": "#FF6692"
         },
         "name": "Suecia",
         "notched": false,
         "offsetgroup": "Suecia",
         "orientation": "v",
         "showlegend": true,
         "type": "box",
         "x": [
          "Suecia"
         ],
         "x0": " ",
         "xaxis": "x",
         "y": [
          233
         ],
         "y0": " ",
         "yaxis": "y"
        },
        {
         "alignmentgroup": "True",
         "hovertemplate": "País=%{x}<br>Total=%{y}<extra></extra>",
         "legendgroup": "Austria",
         "marker": {
          "color": "#B6E880"
         },
         "name": "Austria",
         "notched": false,
         "offsetgroup": "Austria",
         "orientation": "v",
         "showlegend": true,
         "type": "box",
         "x": [
          "Austria"
         ],
         "x0": " ",
         "xaxis": "x",
         "y": [
          231
         ],
         "y0": " ",
         "yaxis": "y"
        },
        {
         "alignmentgroup": "True",
         "hovertemplate": "País=%{x}<br>Total=%{y}<extra></extra>",
         "legendgroup": "Rumania",
         "marker": {
          "color": "#FF97FF"
         },
         "name": "Rumania",
         "notched": false,
         "offsetgroup": "Rumania",
         "orientation": "v",
         "showlegend": true,
         "type": "box",
         "x": [
          "Rumania",
          "Rumania",
          "Rumania",
          "Rumania",
          "Rumania",
          "Rumania",
          "Rumania",
          "Rumania",
          "Rumania"
         ],
         "x0": " ",
         "xaxis": "x",
         "y": [
          190,
          189,
          180,
          239,
          244,
          229,
          215,
          218,
          248
         ],
         "y0": " ",
         "yaxis": "y"
        },
        {
         "alignmentgroup": "True",
         "hovertemplate": "País=%{x}<br>Total=%{y}<extra></extra>",
         "legendgroup": "Bélgica",
         "marker": {
          "color": "#FECB52"
         },
         "name": "Bélgica",
         "notched": false,
         "offsetgroup": "Bélgica",
         "orientation": "v",
         "showlegend": true,
         "type": "box",
         "x": [
          "Bélgica",
          "Bélgica"
         ],
         "x0": " ",
         "xaxis": "x",
         "y": [
          197,
          221
         ],
         "y0": " ",
         "yaxis": "y"
        },
        {
         "alignmentgroup": "True",
         "hovertemplate": "País=%{x}<br>Total=%{y}<extra></extra>",
         "legendgroup": "Polonia",
         "marker": {
          "color": "#636efa"
         },
         "name": "Polonia",
         "notched": false,
         "offsetgroup": "Polonia",
         "orientation": "v",
         "showlegend": true,
         "type": "box",
         "x": [
          "Polonia"
         ],
         "x0": " ",
         "xaxis": "x",
         "y": [
          199
         ],
         "y0": " ",
         "yaxis": "y"
        }
       ],
       "layout": {
        "boxmode": "overlay",
        "legend": {
         "title": {
          "text": "País"
         },
         "tracegroupgap": 0
        },
        "margin": {
         "t": 60
        },
        "plot_bgcolor": "rgba(255, 255, 255, 1)",
        "template": {
         "data": {
          "bar": [
           {
            "error_x": {
             "color": "#2a3f5f"
            },
            "error_y": {
             "color": "#2a3f5f"
            },
            "marker": {
             "line": {
              "color": "#E5ECF6",
              "width": 0.5
             },
             "pattern": {
              "fillmode": "overlay",
              "size": 10,
              "solidity": 0.2
             }
            },
            "type": "bar"
           }
          ],
          "barpolar": [
           {
            "marker": {
             "line": {
              "color": "#E5ECF6",
              "width": 0.5
             },
             "pattern": {
              "fillmode": "overlay",
              "size": 10,
              "solidity": 0.2
             }
            },
            "type": "barpolar"
           }
          ],
          "carpet": [
           {
            "aaxis": {
             "endlinecolor": "#2a3f5f",
             "gridcolor": "white",
             "linecolor": "white",
             "minorgridcolor": "white",
             "startlinecolor": "#2a3f5f"
            },
            "baxis": {
             "endlinecolor": "#2a3f5f",
             "gridcolor": "white",
             "linecolor": "white",
             "minorgridcolor": "white",
             "startlinecolor": "#2a3f5f"
            },
            "type": "carpet"
           }
          ],
          "choropleth": [
           {
            "colorbar": {
             "outlinewidth": 0,
             "ticks": ""
            },
            "type": "choropleth"
           }
          ],
          "contour": [
           {
            "colorbar": {
             "outlinewidth": 0,
             "ticks": ""
            },
            "colorscale": [
             [
              0,
              "#0d0887"
             ],
             [
              0.1111111111111111,
              "#46039f"
             ],
             [
              0.2222222222222222,
              "#7201a8"
             ],
             [
              0.3333333333333333,
              "#9c179e"
             ],
             [
              0.4444444444444444,
              "#bd3786"
             ],
             [
              0.5555555555555556,
              "#d8576b"
             ],
             [
              0.6666666666666666,
              "#ed7953"
             ],
             [
              0.7777777777777778,
              "#fb9f3a"
             ],
             [
              0.8888888888888888,
              "#fdca26"
             ],
             [
              1,
              "#f0f921"
             ]
            ],
            "type": "contour"
           }
          ],
          "contourcarpet": [
           {
            "colorbar": {
             "outlinewidth": 0,
             "ticks": ""
            },
            "type": "contourcarpet"
           }
          ],
          "heatmap": [
           {
            "colorbar": {
             "outlinewidth": 0,
             "ticks": ""
            },
            "colorscale": [
             [
              0,
              "#0d0887"
             ],
             [
              0.1111111111111111,
              "#46039f"
             ],
             [
              0.2222222222222222,
              "#7201a8"
             ],
             [
              0.3333333333333333,
              "#9c179e"
             ],
             [
              0.4444444444444444,
              "#bd3786"
             ],
             [
              0.5555555555555556,
              "#d8576b"
             ],
             [
              0.6666666666666666,
              "#ed7953"
             ],
             [
              0.7777777777777778,
              "#fb9f3a"
             ],
             [
              0.8888888888888888,
              "#fdca26"
             ],
             [
              1,
              "#f0f921"
             ]
            ],
            "type": "heatmap"
           }
          ],
          "heatmapgl": [
           {
            "colorbar": {
             "outlinewidth": 0,
             "ticks": ""
            },
            "colorscale": [
             [
              0,
              "#0d0887"
             ],
             [
              0.1111111111111111,
              "#46039f"
             ],
             [
              0.2222222222222222,
              "#7201a8"
             ],
             [
              0.3333333333333333,
              "#9c179e"
             ],
             [
              0.4444444444444444,
              "#bd3786"
             ],
             [
              0.5555555555555556,
              "#d8576b"
             ],
             [
              0.6666666666666666,
              "#ed7953"
             ],
             [
              0.7777777777777778,
              "#fb9f3a"
             ],
             [
              0.8888888888888888,
              "#fdca26"
             ],
             [
              1,
              "#f0f921"
             ]
            ],
            "type": "heatmapgl"
           }
          ],
          "histogram": [
           {
            "marker": {
             "pattern": {
              "fillmode": "overlay",
              "size": 10,
              "solidity": 0.2
             }
            },
            "type": "histogram"
           }
          ],
          "histogram2d": [
           {
            "colorbar": {
             "outlinewidth": 0,
             "ticks": ""
            },
            "colorscale": [
             [
              0,
              "#0d0887"
             ],
             [
              0.1111111111111111,
              "#46039f"
             ],
             [
              0.2222222222222222,
              "#7201a8"
             ],
             [
              0.3333333333333333,
              "#9c179e"
             ],
             [
              0.4444444444444444,
              "#bd3786"
             ],
             [
              0.5555555555555556,
              "#d8576b"
             ],
             [
              0.6666666666666666,
              "#ed7953"
             ],
             [
              0.7777777777777778,
              "#fb9f3a"
             ],
             [
              0.8888888888888888,
              "#fdca26"
             ],
             [
              1,
              "#f0f921"
             ]
            ],
            "type": "histogram2d"
           }
          ],
          "histogram2dcontour": [
           {
            "colorbar": {
             "outlinewidth": 0,
             "ticks": ""
            },
            "colorscale": [
             [
              0,
              "#0d0887"
             ],
             [
              0.1111111111111111,
              "#46039f"
             ],
             [
              0.2222222222222222,
              "#7201a8"
             ],
             [
              0.3333333333333333,
              "#9c179e"
             ],
             [
              0.4444444444444444,
              "#bd3786"
             ],
             [
              0.5555555555555556,
              "#d8576b"
             ],
             [
              0.6666666666666666,
              "#ed7953"
             ],
             [
              0.7777777777777778,
              "#fb9f3a"
             ],
             [
              0.8888888888888888,
              "#fdca26"
             ],
             [
              1,
              "#f0f921"
             ]
            ],
            "type": "histogram2dcontour"
           }
          ],
          "mesh3d": [
           {
            "colorbar": {
             "outlinewidth": 0,
             "ticks": ""
            },
            "type": "mesh3d"
           }
          ],
          "parcoords": [
           {
            "line": {
             "colorbar": {
              "outlinewidth": 0,
              "ticks": ""
             }
            },
            "type": "parcoords"
           }
          ],
          "pie": [
           {
            "automargin": true,
            "type": "pie"
           }
          ],
          "scatter": [
           {
            "fillpattern": {
             "fillmode": "overlay",
             "size": 10,
             "solidity": 0.2
            },
            "type": "scatter"
           }
          ],
          "scatter3d": [
           {
            "line": {
             "colorbar": {
              "outlinewidth": 0,
              "ticks": ""
             }
            },
            "marker": {
             "colorbar": {
              "outlinewidth": 0,
              "ticks": ""
             }
            },
            "type": "scatter3d"
           }
          ],
          "scattercarpet": [
           {
            "marker": {
             "colorbar": {
              "outlinewidth": 0,
              "ticks": ""
             }
            },
            "type": "scattercarpet"
           }
          ],
          "scattergeo": [
           {
            "marker": {
             "colorbar": {
              "outlinewidth": 0,
              "ticks": ""
             }
            },
            "type": "scattergeo"
           }
          ],
          "scattergl": [
           {
            "marker": {
             "colorbar": {
              "outlinewidth": 0,
              "ticks": ""
             }
            },
            "type": "scattergl"
           }
          ],
          "scattermapbox": [
           {
            "marker": {
             "colorbar": {
              "outlinewidth": 0,
              "ticks": ""
             }
            },
            "type": "scattermapbox"
           }
          ],
          "scatterpolar": [
           {
            "marker": {
             "colorbar": {
              "outlinewidth": 0,
              "ticks": ""
             }
            },
            "type": "scatterpolar"
           }
          ],
          "scatterpolargl": [
           {
            "marker": {
             "colorbar": {
              "outlinewidth": 0,
              "ticks": ""
             }
            },
            "type": "scatterpolargl"
           }
          ],
          "scatterternary": [
           {
            "marker": {
             "colorbar": {
              "outlinewidth": 0,
              "ticks": ""
             }
            },
            "type": "scatterternary"
           }
          ],
          "surface": [
           {
            "colorbar": {
             "outlinewidth": 0,
             "ticks": ""
            },
            "colorscale": [
             [
              0,
              "#0d0887"
             ],
             [
              0.1111111111111111,
              "#46039f"
             ],
             [
              0.2222222222222222,
              "#7201a8"
             ],
             [
              0.3333333333333333,
              "#9c179e"
             ],
             [
              0.4444444444444444,
              "#bd3786"
             ],
             [
              0.5555555555555556,
              "#d8576b"
             ],
             [
              0.6666666666666666,
              "#ed7953"
             ],
             [
              0.7777777777777778,
              "#fb9f3a"
             ],
             [
              0.8888888888888888,
              "#fdca26"
             ],
             [
              1,
              "#f0f921"
             ]
            ],
            "type": "surface"
           }
          ],
          "table": [
           {
            "cells": {
             "fill": {
              "color": "#EBF0F8"
             },
             "line": {
              "color": "white"
             }
            },
            "header": {
             "fill": {
              "color": "#C8D4E3"
             },
             "line": {
              "color": "white"
             }
            },
            "type": "table"
           }
          ]
         },
         "layout": {
          "annotationdefaults": {
           "arrowcolor": "#2a3f5f",
           "arrowhead": 0,
           "arrowwidth": 1
          },
          "autotypenumbers": "strict",
          "coloraxis": {
           "colorbar": {
            "outlinewidth": 0,
            "ticks": ""
           }
          },
          "colorscale": {
           "diverging": [
            [
             0,
             "#8e0152"
            ],
            [
             0.1,
             "#c51b7d"
            ],
            [
             0.2,
             "#de77ae"
            ],
            [
             0.3,
             "#f1b6da"
            ],
            [
             0.4,
             "#fde0ef"
            ],
            [
             0.5,
             "#f7f7f7"
            ],
            [
             0.6,
             "#e6f5d0"
            ],
            [
             0.7,
             "#b8e186"
            ],
            [
             0.8,
             "#7fbc41"
            ],
            [
             0.9,
             "#4d9221"
            ],
            [
             1,
             "#276419"
            ]
           ],
           "sequential": [
            [
             0,
             "#0d0887"
            ],
            [
             0.1111111111111111,
             "#46039f"
            ],
            [
             0.2222222222222222,
             "#7201a8"
            ],
            [
             0.3333333333333333,
             "#9c179e"
            ],
            [
             0.4444444444444444,
             "#bd3786"
            ],
            [
             0.5555555555555556,
             "#d8576b"
            ],
            [
             0.6666666666666666,
             "#ed7953"
            ],
            [
             0.7777777777777778,
             "#fb9f3a"
            ],
            [
             0.8888888888888888,
             "#fdca26"
            ],
            [
             1,
             "#f0f921"
            ]
           ],
           "sequentialminus": [
            [
             0,
             "#0d0887"
            ],
            [
             0.1111111111111111,
             "#46039f"
            ],
            [
             0.2222222222222222,
             "#7201a8"
            ],
            [
             0.3333333333333333,
             "#9c179e"
            ],
            [
             0.4444444444444444,
             "#bd3786"
            ],
            [
             0.5555555555555556,
             "#d8576b"
            ],
            [
             0.6666666666666666,
             "#ed7953"
            ],
            [
             0.7777777777777778,
             "#fb9f3a"
            ],
            [
             0.8888888888888888,
             "#fdca26"
            ],
            [
             1,
             "#f0f921"
            ]
           ]
          },
          "colorway": [
           "#636efa",
           "#EF553B",
           "#00cc96",
           "#ab63fa",
           "#FFA15A",
           "#19d3f3",
           "#FF6692",
           "#B6E880",
           "#FF97FF",
           "#FECB52"
          ],
          "font": {
           "color": "#2a3f5f"
          },
          "geo": {
           "bgcolor": "white",
           "lakecolor": "white",
           "landcolor": "#E5ECF6",
           "showlakes": true,
           "showland": true,
           "subunitcolor": "white"
          },
          "hoverlabel": {
           "align": "left"
          },
          "hovermode": "closest",
          "mapbox": {
           "style": "light"
          },
          "paper_bgcolor": "white",
          "plot_bgcolor": "#E5ECF6",
          "polar": {
           "angularaxis": {
            "gridcolor": "white",
            "linecolor": "white",
            "ticks": ""
           },
           "bgcolor": "#E5ECF6",
           "radialaxis": {
            "gridcolor": "white",
            "linecolor": "white",
            "ticks": ""
           }
          },
          "scene": {
           "xaxis": {
            "backgroundcolor": "#E5ECF6",
            "gridcolor": "white",
            "gridwidth": 2,
            "linecolor": "white",
            "showbackground": true,
            "ticks": "",
            "zerolinecolor": "white"
           },
           "yaxis": {
            "backgroundcolor": "#E5ECF6",
            "gridcolor": "white",
            "gridwidth": 2,
            "linecolor": "white",
            "showbackground": true,
            "ticks": "",
            "zerolinecolor": "white"
           },
           "zaxis": {
            "backgroundcolor": "#E5ECF6",
            "gridcolor": "white",
            "gridwidth": 2,
            "linecolor": "white",
            "showbackground": true,
            "ticks": "",
            "zerolinecolor": "white"
           }
          },
          "shapedefaults": {
           "line": {
            "color": "#2a3f5f"
           }
          },
          "ternary": {
           "aaxis": {
            "gridcolor": "white",
            "linecolor": "white",
            "ticks": ""
           },
           "baxis": {
            "gridcolor": "white",
            "linecolor": "white",
            "ticks": ""
           },
           "bgcolor": "#E5ECF6",
           "caxis": {
            "gridcolor": "white",
            "linecolor": "white",
            "ticks": ""
           }
          },
          "title": {
           "x": 0.05
          },
          "xaxis": {
           "automargin": true,
           "gridcolor": "white",
           "linecolor": "white",
           "ticks": "",
           "title": {
            "standoff": 15
           },
           "zerolinecolor": "white",
           "zerolinewidth": 2
          },
          "yaxis": {
           "automargin": true,
           "gridcolor": "white",
           "linecolor": "white",
           "ticks": "",
           "title": {
            "standoff": 15
           },
           "zerolinecolor": "white",
           "zerolinewidth": 2
          }
         }
        },
        "title": {
         "text": "Boxplot de Total por País"
        },
        "xaxis": {
         "anchor": "y",
         "categoryarray": [
          "Georgia",
          "Armenia",
          "Albania",
          "Bielorrusia",
          "Letonia",
          "Azerbaiyán",
          "Moldavia",
          "Italia",
          "Ucrania",
          "Bulgaria",
          "Alemania",
          "Turquía",
          "Rusia",
          "Francia",
          "España",
          "Reino Unido",
          "Suecia",
          "Austria",
          "Rumania",
          "Bélgica",
          "Polonia"
         ],
         "categoryorder": "array",
         "domain": [
          0,
          1
         ],
         "gridcolor": "lightgrey",
         "showgrid": true,
         "title": {
          "text": "País"
         }
        },
        "yaxis": {
         "anchor": "x",
         "domain": [
          0,
          1
         ],
         "gridcolor": "lightgrey",
         "showgrid": true,
         "title": {
          "text": "Total"
         }
        }
       }
      }
     },
     "metadata": {},
     "output_type": "display_data"
    }
   ],
   "source": [
    "graficar_boxplot_bivariable_px (df = df_columnas_orden, variable_analisis = 'Total', variable_categorica = 'País')"
   ]
  },
  {
   "cell_type": "markdown",
   "id": "5e92055c",
   "metadata": {},
   "source": [
    "Al separar por país vemos gran amplitud pero puede ser por la diferencia de puntuación entre medallistas femeninas y masculinos."
   ]
  },
  {
   "cell_type": "code",
   "execution_count": 40,
   "id": "0dcfc3cd",
   "metadata": {},
   "outputs": [
    {
     "data": {
      "application/vnd.plotly.v1+json": {
       "config": {
        "plotlyServerURL": "https://plot.ly"
       },
       "data": [
        {
         "alignmentgroup": "True",
         "hovertemplate": "Genero=%{x}<br>Total=%{y}<extra></extra>",
         "legendgroup": "Masculino",
         "marker": {
          "color": "#636efa"
         },
         "name": "Masculino",
         "notched": false,
         "offsetgroup": "Masculino",
         "orientation": "v",
         "showlegend": true,
         "type": "box",
         "x": [
          "Masculino",
          "Masculino",
          "Masculino",
          "Masculino",
          "Masculino",
          "Masculino",
          "Masculino",
          "Masculino",
          "Masculino",
          "Masculino",
          "Masculino",
          "Masculino",
          "Masculino",
          "Masculino",
          "Masculino",
          "Masculino",
          "Masculino",
          "Masculino",
          "Masculino",
          "Masculino",
          "Masculino",
          "Masculino",
          "Masculino",
          "Masculino",
          "Masculino",
          "Masculino",
          "Masculino",
          "Masculino",
          "Masculino",
          "Masculino",
          "Masculino",
          "Masculino",
          "Masculino",
          "Masculino",
          "Masculino",
          "Masculino",
          "Masculino",
          "Masculino",
          "Masculino",
          "Masculino",
          "Masculino",
          "Masculino",
          "Masculino",
          "Masculino",
          "Masculino",
          "Masculino",
          "Masculino",
          "Masculino",
          "Masculino",
          "Masculino",
          "Masculino",
          "Masculino",
          "Masculino",
          "Masculino",
          "Masculino",
          "Masculino",
          "Masculino",
          "Masculino",
          "Masculino",
          "Masculino"
         ],
         "x0": " ",
         "xaxis": "x",
         "y": [
          261,
          286,
          312,
          345,
          356,
          371,
          400,
          391,
          427,
          478,
          258,
          296,
          323,
          341,
          370,
          375,
          393,
          390,
          407,
          485,
          256,
          283,
          311,
          339,
          355,
          370,
          378,
          377,
          411,
          447,
          248,
          290,
          318,
          339,
          369,
          374,
          374,
          380,
          406,
          464,
          247,
          282,
          308,
          335,
          354,
          360,
          377,
          376,
          410,
          440,
          247,
          287,
          315,
          336,
          347,
          365,
          372,
          379,
          401,
          445
         ],
         "y0": " ",
         "yaxis": "y"
        },
        {
         "alignmentgroup": "True",
         "hovertemplate": "Genero=%{x}<br>Total=%{y}<extra></extra>",
         "legendgroup": "Femenino",
         "marker": {
          "color": "#EF553B"
         },
         "name": "Femenino",
         "notched": false,
         "offsetgroup": "Femenino",
         "orientation": "v",
         "showlegend": true,
         "type": "box",
         "x": [
          "Femenino",
          "Femenino",
          "Femenino",
          "Femenino",
          "Femenino",
          "Femenino",
          "Femenino",
          "Femenino",
          "Femenino",
          "Femenino",
          "Femenino",
          "Femenino",
          "Femenino",
          "Femenino",
          "Femenino",
          "Femenino",
          "Femenino",
          "Femenino",
          "Femenino",
          "Femenino",
          "Femenino",
          "Femenino",
          "Femenino",
          "Femenino",
          "Femenino",
          "Femenino",
          "Femenino",
          "Femenino",
          "Femenino",
          "Femenino",
          "Femenino",
          "Femenino",
          "Femenino",
          "Femenino",
          "Femenino",
          "Femenino",
          "Femenino",
          "Femenino",
          "Femenino",
          "Femenino",
          "Femenino",
          "Femenino",
          "Femenino",
          "Femenino",
          "Femenino",
          "Femenino",
          "Femenino",
          "Femenino",
          "Femenino",
          "Femenino",
          "Femenino",
          "Femenino",
          "Femenino",
          "Femenino",
          "Femenino",
          "Femenino",
          "Femenino",
          "Femenino",
          "Femenino",
          "Femenino"
         ],
         "x0": " ",
         "xaxis": "x",
         "y": [
          163,
          190,
          199,
          221,
          239,
          240,
          242,
          222,
          242,
          331,
          155,
          189,
          208,
          211,
          244,
          227,
          248,
          236,
          246,
          276,
          158,
          180,
          198,
          214,
          229,
          216,
          241,
          221,
          240,
          268,
          152,
          181,
          200,
          210,
          230,
          219,
          246,
          231,
          245,
          252,
          150,
          178,
          190,
          213,
          224,
          215,
          233,
          217,
          231,
          260,
          151,
          180,
          197,
          210,
          222,
          218,
          243,
          227,
          240,
          243
         ],
         "y0": " ",
         "yaxis": "y"
        }
       ],
       "layout": {
        "boxmode": "overlay",
        "legend": {
         "title": {
          "text": "Genero"
         },
         "tracegroupgap": 0
        },
        "margin": {
         "t": 60
        },
        "plot_bgcolor": "rgba(255, 255, 255, 1)",
        "template": {
         "data": {
          "bar": [
           {
            "error_x": {
             "color": "#2a3f5f"
            },
            "error_y": {
             "color": "#2a3f5f"
            },
            "marker": {
             "line": {
              "color": "#E5ECF6",
              "width": 0.5
             },
             "pattern": {
              "fillmode": "overlay",
              "size": 10,
              "solidity": 0.2
             }
            },
            "type": "bar"
           }
          ],
          "barpolar": [
           {
            "marker": {
             "line": {
              "color": "#E5ECF6",
              "width": 0.5
             },
             "pattern": {
              "fillmode": "overlay",
              "size": 10,
              "solidity": 0.2
             }
            },
            "type": "barpolar"
           }
          ],
          "carpet": [
           {
            "aaxis": {
             "endlinecolor": "#2a3f5f",
             "gridcolor": "white",
             "linecolor": "white",
             "minorgridcolor": "white",
             "startlinecolor": "#2a3f5f"
            },
            "baxis": {
             "endlinecolor": "#2a3f5f",
             "gridcolor": "white",
             "linecolor": "white",
             "minorgridcolor": "white",
             "startlinecolor": "#2a3f5f"
            },
            "type": "carpet"
           }
          ],
          "choropleth": [
           {
            "colorbar": {
             "outlinewidth": 0,
             "ticks": ""
            },
            "type": "choropleth"
           }
          ],
          "contour": [
           {
            "colorbar": {
             "outlinewidth": 0,
             "ticks": ""
            },
            "colorscale": [
             [
              0,
              "#0d0887"
             ],
             [
              0.1111111111111111,
              "#46039f"
             ],
             [
              0.2222222222222222,
              "#7201a8"
             ],
             [
              0.3333333333333333,
              "#9c179e"
             ],
             [
              0.4444444444444444,
              "#bd3786"
             ],
             [
              0.5555555555555556,
              "#d8576b"
             ],
             [
              0.6666666666666666,
              "#ed7953"
             ],
             [
              0.7777777777777778,
              "#fb9f3a"
             ],
             [
              0.8888888888888888,
              "#fdca26"
             ],
             [
              1,
              "#f0f921"
             ]
            ],
            "type": "contour"
           }
          ],
          "contourcarpet": [
           {
            "colorbar": {
             "outlinewidth": 0,
             "ticks": ""
            },
            "type": "contourcarpet"
           }
          ],
          "heatmap": [
           {
            "colorbar": {
             "outlinewidth": 0,
             "ticks": ""
            },
            "colorscale": [
             [
              0,
              "#0d0887"
             ],
             [
              0.1111111111111111,
              "#46039f"
             ],
             [
              0.2222222222222222,
              "#7201a8"
             ],
             [
              0.3333333333333333,
              "#9c179e"
             ],
             [
              0.4444444444444444,
              "#bd3786"
             ],
             [
              0.5555555555555556,
              "#d8576b"
             ],
             [
              0.6666666666666666,
              "#ed7953"
             ],
             [
              0.7777777777777778,
              "#fb9f3a"
             ],
             [
              0.8888888888888888,
              "#fdca26"
             ],
             [
              1,
              "#f0f921"
             ]
            ],
            "type": "heatmap"
           }
          ],
          "heatmapgl": [
           {
            "colorbar": {
             "outlinewidth": 0,
             "ticks": ""
            },
            "colorscale": [
             [
              0,
              "#0d0887"
             ],
             [
              0.1111111111111111,
              "#46039f"
             ],
             [
              0.2222222222222222,
              "#7201a8"
             ],
             [
              0.3333333333333333,
              "#9c179e"
             ],
             [
              0.4444444444444444,
              "#bd3786"
             ],
             [
              0.5555555555555556,
              "#d8576b"
             ],
             [
              0.6666666666666666,
              "#ed7953"
             ],
             [
              0.7777777777777778,
              "#fb9f3a"
             ],
             [
              0.8888888888888888,
              "#fdca26"
             ],
             [
              1,
              "#f0f921"
             ]
            ],
            "type": "heatmapgl"
           }
          ],
          "histogram": [
           {
            "marker": {
             "pattern": {
              "fillmode": "overlay",
              "size": 10,
              "solidity": 0.2
             }
            },
            "type": "histogram"
           }
          ],
          "histogram2d": [
           {
            "colorbar": {
             "outlinewidth": 0,
             "ticks": ""
            },
            "colorscale": [
             [
              0,
              "#0d0887"
             ],
             [
              0.1111111111111111,
              "#46039f"
             ],
             [
              0.2222222222222222,
              "#7201a8"
             ],
             [
              0.3333333333333333,
              "#9c179e"
             ],
             [
              0.4444444444444444,
              "#bd3786"
             ],
             [
              0.5555555555555556,
              "#d8576b"
             ],
             [
              0.6666666666666666,
              "#ed7953"
             ],
             [
              0.7777777777777778,
              "#fb9f3a"
             ],
             [
              0.8888888888888888,
              "#fdca26"
             ],
             [
              1,
              "#f0f921"
             ]
            ],
            "type": "histogram2d"
           }
          ],
          "histogram2dcontour": [
           {
            "colorbar": {
             "outlinewidth": 0,
             "ticks": ""
            },
            "colorscale": [
             [
              0,
              "#0d0887"
             ],
             [
              0.1111111111111111,
              "#46039f"
             ],
             [
              0.2222222222222222,
              "#7201a8"
             ],
             [
              0.3333333333333333,
              "#9c179e"
             ],
             [
              0.4444444444444444,
              "#bd3786"
             ],
             [
              0.5555555555555556,
              "#d8576b"
             ],
             [
              0.6666666666666666,
              "#ed7953"
             ],
             [
              0.7777777777777778,
              "#fb9f3a"
             ],
             [
              0.8888888888888888,
              "#fdca26"
             ],
             [
              1,
              "#f0f921"
             ]
            ],
            "type": "histogram2dcontour"
           }
          ],
          "mesh3d": [
           {
            "colorbar": {
             "outlinewidth": 0,
             "ticks": ""
            },
            "type": "mesh3d"
           }
          ],
          "parcoords": [
           {
            "line": {
             "colorbar": {
              "outlinewidth": 0,
              "ticks": ""
             }
            },
            "type": "parcoords"
           }
          ],
          "pie": [
           {
            "automargin": true,
            "type": "pie"
           }
          ],
          "scatter": [
           {
            "fillpattern": {
             "fillmode": "overlay",
             "size": 10,
             "solidity": 0.2
            },
            "type": "scatter"
           }
          ],
          "scatter3d": [
           {
            "line": {
             "colorbar": {
              "outlinewidth": 0,
              "ticks": ""
             }
            },
            "marker": {
             "colorbar": {
              "outlinewidth": 0,
              "ticks": ""
             }
            },
            "type": "scatter3d"
           }
          ],
          "scattercarpet": [
           {
            "marker": {
             "colorbar": {
              "outlinewidth": 0,
              "ticks": ""
             }
            },
            "type": "scattercarpet"
           }
          ],
          "scattergeo": [
           {
            "marker": {
             "colorbar": {
              "outlinewidth": 0,
              "ticks": ""
             }
            },
            "type": "scattergeo"
           }
          ],
          "scattergl": [
           {
            "marker": {
             "colorbar": {
              "outlinewidth": 0,
              "ticks": ""
             }
            },
            "type": "scattergl"
           }
          ],
          "scattermapbox": [
           {
            "marker": {
             "colorbar": {
              "outlinewidth": 0,
              "ticks": ""
             }
            },
            "type": "scattermapbox"
           }
          ],
          "scatterpolar": [
           {
            "marker": {
             "colorbar": {
              "outlinewidth": 0,
              "ticks": ""
             }
            },
            "type": "scatterpolar"
           }
          ],
          "scatterpolargl": [
           {
            "marker": {
             "colorbar": {
              "outlinewidth": 0,
              "ticks": ""
             }
            },
            "type": "scatterpolargl"
           }
          ],
          "scatterternary": [
           {
            "marker": {
             "colorbar": {
              "outlinewidth": 0,
              "ticks": ""
             }
            },
            "type": "scatterternary"
           }
          ],
          "surface": [
           {
            "colorbar": {
             "outlinewidth": 0,
             "ticks": ""
            },
            "colorscale": [
             [
              0,
              "#0d0887"
             ],
             [
              0.1111111111111111,
              "#46039f"
             ],
             [
              0.2222222222222222,
              "#7201a8"
             ],
             [
              0.3333333333333333,
              "#9c179e"
             ],
             [
              0.4444444444444444,
              "#bd3786"
             ],
             [
              0.5555555555555556,
              "#d8576b"
             ],
             [
              0.6666666666666666,
              "#ed7953"
             ],
             [
              0.7777777777777778,
              "#fb9f3a"
             ],
             [
              0.8888888888888888,
              "#fdca26"
             ],
             [
              1,
              "#f0f921"
             ]
            ],
            "type": "surface"
           }
          ],
          "table": [
           {
            "cells": {
             "fill": {
              "color": "#EBF0F8"
             },
             "line": {
              "color": "white"
             }
            },
            "header": {
             "fill": {
              "color": "#C8D4E3"
             },
             "line": {
              "color": "white"
             }
            },
            "type": "table"
           }
          ]
         },
         "layout": {
          "annotationdefaults": {
           "arrowcolor": "#2a3f5f",
           "arrowhead": 0,
           "arrowwidth": 1
          },
          "autotypenumbers": "strict",
          "coloraxis": {
           "colorbar": {
            "outlinewidth": 0,
            "ticks": ""
           }
          },
          "colorscale": {
           "diverging": [
            [
             0,
             "#8e0152"
            ],
            [
             0.1,
             "#c51b7d"
            ],
            [
             0.2,
             "#de77ae"
            ],
            [
             0.3,
             "#f1b6da"
            ],
            [
             0.4,
             "#fde0ef"
            ],
            [
             0.5,
             "#f7f7f7"
            ],
            [
             0.6,
             "#e6f5d0"
            ],
            [
             0.7,
             "#b8e186"
            ],
            [
             0.8,
             "#7fbc41"
            ],
            [
             0.9,
             "#4d9221"
            ],
            [
             1,
             "#276419"
            ]
           ],
           "sequential": [
            [
             0,
             "#0d0887"
            ],
            [
             0.1111111111111111,
             "#46039f"
            ],
            [
             0.2222222222222222,
             "#7201a8"
            ],
            [
             0.3333333333333333,
             "#9c179e"
            ],
            [
             0.4444444444444444,
             "#bd3786"
            ],
            [
             0.5555555555555556,
             "#d8576b"
            ],
            [
             0.6666666666666666,
             "#ed7953"
            ],
            [
             0.7777777777777778,
             "#fb9f3a"
            ],
            [
             0.8888888888888888,
             "#fdca26"
            ],
            [
             1,
             "#f0f921"
            ]
           ],
           "sequentialminus": [
            [
             0,
             "#0d0887"
            ],
            [
             0.1111111111111111,
             "#46039f"
            ],
            [
             0.2222222222222222,
             "#7201a8"
            ],
            [
             0.3333333333333333,
             "#9c179e"
            ],
            [
             0.4444444444444444,
             "#bd3786"
            ],
            [
             0.5555555555555556,
             "#d8576b"
            ],
            [
             0.6666666666666666,
             "#ed7953"
            ],
            [
             0.7777777777777778,
             "#fb9f3a"
            ],
            [
             0.8888888888888888,
             "#fdca26"
            ],
            [
             1,
             "#f0f921"
            ]
           ]
          },
          "colorway": [
           "#636efa",
           "#EF553B",
           "#00cc96",
           "#ab63fa",
           "#FFA15A",
           "#19d3f3",
           "#FF6692",
           "#B6E880",
           "#FF97FF",
           "#FECB52"
          ],
          "font": {
           "color": "#2a3f5f"
          },
          "geo": {
           "bgcolor": "white",
           "lakecolor": "white",
           "landcolor": "#E5ECF6",
           "showlakes": true,
           "showland": true,
           "subunitcolor": "white"
          },
          "hoverlabel": {
           "align": "left"
          },
          "hovermode": "closest",
          "mapbox": {
           "style": "light"
          },
          "paper_bgcolor": "white",
          "plot_bgcolor": "#E5ECF6",
          "polar": {
           "angularaxis": {
            "gridcolor": "white",
            "linecolor": "white",
            "ticks": ""
           },
           "bgcolor": "#E5ECF6",
           "radialaxis": {
            "gridcolor": "white",
            "linecolor": "white",
            "ticks": ""
           }
          },
          "scene": {
           "xaxis": {
            "backgroundcolor": "#E5ECF6",
            "gridcolor": "white",
            "gridwidth": 2,
            "linecolor": "white",
            "showbackground": true,
            "ticks": "",
            "zerolinecolor": "white"
           },
           "yaxis": {
            "backgroundcolor": "#E5ECF6",
            "gridcolor": "white",
            "gridwidth": 2,
            "linecolor": "white",
            "showbackground": true,
            "ticks": "",
            "zerolinecolor": "white"
           },
           "zaxis": {
            "backgroundcolor": "#E5ECF6",
            "gridcolor": "white",
            "gridwidth": 2,
            "linecolor": "white",
            "showbackground": true,
            "ticks": "",
            "zerolinecolor": "white"
           }
          },
          "shapedefaults": {
           "line": {
            "color": "#2a3f5f"
           }
          },
          "ternary": {
           "aaxis": {
            "gridcolor": "white",
            "linecolor": "white",
            "ticks": ""
           },
           "baxis": {
            "gridcolor": "white",
            "linecolor": "white",
            "ticks": ""
           },
           "bgcolor": "#E5ECF6",
           "caxis": {
            "gridcolor": "white",
            "linecolor": "white",
            "ticks": ""
           }
          },
          "title": {
           "x": 0.05
          },
          "xaxis": {
           "automargin": true,
           "gridcolor": "white",
           "linecolor": "white",
           "ticks": "",
           "title": {
            "standoff": 15
           },
           "zerolinecolor": "white",
           "zerolinewidth": 2
          },
          "yaxis": {
           "automargin": true,
           "gridcolor": "white",
           "linecolor": "white",
           "ticks": "",
           "title": {
            "standoff": 15
           },
           "zerolinecolor": "white",
           "zerolinewidth": 2
          }
         }
        },
        "title": {
         "text": "Boxplot de Total por Genero"
        },
        "xaxis": {
         "anchor": "y",
         "categoryarray": [
          "Masculino",
          "Femenino"
         ],
         "categoryorder": "array",
         "domain": [
          0,
          1
         ],
         "gridcolor": "lightgrey",
         "showgrid": true,
         "title": {
          "text": "Genero"
         }
        },
        "yaxis": {
         "anchor": "x",
         "domain": [
          0,
          1
         ],
         "gridcolor": "lightgrey",
         "showgrid": true,
         "title": {
          "text": "Total"
         }
        }
       }
      }
     },
     "metadata": {},
     "output_type": "display_data"
    }
   ],
   "source": [
    "graficar_boxplot_bivariable_px (df = df_columnas, variable_analisis = 'Total', variable_categorica = 'Genero')"
   ]
  },
  {
   "cell_type": "markdown",
   "id": "68372b84",
   "metadata": {},
   "source": [
    "Todos los datos son muy parejos. Al separar por género, compruebo un outlier entre las medallistas y busco el dato para tener más información al respecto. Es rusa y participa en la categoría más alta femenina."
   ]
  },
  {
   "cell_type": "code",
   "execution_count": 41,
   "id": "d8ab7ff2",
   "metadata": {},
   "outputs": [
    {
     "data": {
      "text/html": [
       "<div>\n",
       "<style scoped>\n",
       "    .dataframe tbody tr th:only-of-type {\n",
       "        vertical-align: middle;\n",
       "    }\n",
       "\n",
       "    .dataframe tbody tr th {\n",
       "        vertical-align: top;\n",
       "    }\n",
       "\n",
       "    .dataframe thead th {\n",
       "        text-align: right;\n",
       "    }\n",
       "</style>\n",
       "<table border=\"1\" class=\"dataframe\">\n",
       "  <thead>\n",
       "    <tr style=\"text-align: right;\">\n",
       "      <th></th>\n",
       "      <th>Genero</th>\n",
       "      <th>Categoría</th>\n",
       "      <th>Fecha</th>\n",
       "      <th>Medalla</th>\n",
       "      <th>Nombre</th>\n",
       "      <th>Apellido</th>\n",
       "      <th>País</th>\n",
       "      <th>Arrancada</th>\n",
       "      <th>Dos Tiempos</th>\n",
       "      <th>Total</th>\n",
       "    </tr>\n",
       "  </thead>\n",
       "  <tbody>\n",
       "    <tr>\n",
       "      <th>19</th>\n",
       "      <td>Femenino</td>\n",
       "      <td>+87 kg</td>\n",
       "      <td>2019-04-13</td>\n",
       "      <td>Oro</td>\n",
       "      <td>Tatiana</td>\n",
       "      <td>Kashirina</td>\n",
       "      <td>Rusia</td>\n",
       "      <td>146</td>\n",
       "      <td>185</td>\n",
       "      <td>331</td>\n",
       "    </tr>\n",
       "  </tbody>\n",
       "</table>\n",
       "</div>"
      ],
      "text/plain": [
       "      Genero Categoría      Fecha Medalla   Nombre   Apellido   País  \\\n",
       "19  Femenino    +87 kg 2019-04-13     Oro  Tatiana  Kashirina  Rusia   \n",
       "\n",
       "    Arrancada  Dos Tiempos  Total  \n",
       "19        146          185    331  "
      ]
     },
     "execution_count": 41,
     "metadata": {},
     "output_type": "execute_result"
    }
   ],
   "source": [
    "df_columnas[df_columnas['Total'] == 331]"
   ]
  },
  {
   "cell_type": "code",
   "execution_count": 42,
   "id": "4a79a6f4",
   "metadata": {},
   "outputs": [],
   "source": [
    "def graficar_barras_porcentaje_px(df, variable_analisis):\n",
    "    # Contar la frecuencia de la variable de análisis\n",
    "    volumen = df[variable_analisis].value_counts().reset_index()\n",
    "    volumen.columns = [variable_analisis, 'Volúmen']\n",
    "\n",
    "    # Calcular el total y convertir a porcentaje\n",
    "    total = volumen['Volúmen'].sum()\n",
    "    volumen['Porcentaje'] = ((volumen['Volúmen'] / total) * 100).round(2)\n",
    "\n",
    "    # Crear el gráfico de barras\n",
    "    fig = px.bar(volumen, x=variable_analisis, y='Porcentaje', text='Porcentaje')\n",
    "    fig.update_traces(texttemplate='%{text:.1f}%', textposition='outside')  # Mostrar como porcentaje\n",
    "    fig.update_layout(title_text=f'Gráfico de barras: {variable_analisis}',\n",
    "                      xaxis_title=variable_analisis,\n",
    "                      yaxis_title='Porcentaje',\n",
    "                      xaxis={'categoryorder': 'total descending'})\n",
    "\n",
    "    # Actualizar el fondo del gráfico a blanco\n",
    "    fig.update_layout({\n",
    "        'plot_bgcolor': 'rgba(255, 255, 255, 1)',\n",
    "        'xaxis': {'showgrid': True, 'gridcolor': 'lightgrey'},\n",
    "        'yaxis': {'showgrid': True, 'gridcolor': 'lightgrey'}\n",
    "    })\n",
    "    display(volumen)\n",
    "    fig.show()"
   ]
  },
  {
   "cell_type": "code",
   "execution_count": 43,
   "id": "858ed942",
   "metadata": {},
   "outputs": [
    {
     "data": {
      "text/html": [
       "<div>\n",
       "<style scoped>\n",
       "    .dataframe tbody tr th:only-of-type {\n",
       "        vertical-align: middle;\n",
       "    }\n",
       "\n",
       "    .dataframe tbody tr th {\n",
       "        vertical-align: top;\n",
       "    }\n",
       "\n",
       "    .dataframe thead th {\n",
       "        text-align: right;\n",
       "    }\n",
       "</style>\n",
       "<table border=\"1\" class=\"dataframe\">\n",
       "  <thead>\n",
       "    <tr style=\"text-align: right;\">\n",
       "      <th></th>\n",
       "      <th>País</th>\n",
       "      <th>Volúmen</th>\n",
       "      <th>Porcentaje</th>\n",
       "    </tr>\n",
       "  </thead>\n",
       "  <tbody>\n",
       "    <tr>\n",
       "      <th>0</th>\n",
       "      <td>Rusia</td>\n",
       "      <td>20</td>\n",
       "      <td>16.67</td>\n",
       "    </tr>\n",
       "    <tr>\n",
       "      <th>1</th>\n",
       "      <td>Armenia</td>\n",
       "      <td>14</td>\n",
       "      <td>11.67</td>\n",
       "    </tr>\n",
       "    <tr>\n",
       "      <th>2</th>\n",
       "      <td>Bulgaria</td>\n",
       "      <td>10</td>\n",
       "      <td>8.33</td>\n",
       "    </tr>\n",
       "    <tr>\n",
       "      <th>3</th>\n",
       "      <td>Bielorrusia</td>\n",
       "      <td>9</td>\n",
       "      <td>7.50</td>\n",
       "    </tr>\n",
       "    <tr>\n",
       "      <th>4</th>\n",
       "      <td>Georgia</td>\n",
       "      <td>9</td>\n",
       "      <td>7.50</td>\n",
       "    </tr>\n",
       "    <tr>\n",
       "      <th>5</th>\n",
       "      <td>Turquía</td>\n",
       "      <td>9</td>\n",
       "      <td>7.50</td>\n",
       "    </tr>\n",
       "    <tr>\n",
       "      <th>6</th>\n",
       "      <td>Rumania</td>\n",
       "      <td>9</td>\n",
       "      <td>7.50</td>\n",
       "    </tr>\n",
       "    <tr>\n",
       "      <th>7</th>\n",
       "      <td>Ucrania</td>\n",
       "      <td>8</td>\n",
       "      <td>6.67</td>\n",
       "    </tr>\n",
       "    <tr>\n",
       "      <th>8</th>\n",
       "      <td>Italia</td>\n",
       "      <td>6</td>\n",
       "      <td>5.00</td>\n",
       "    </tr>\n",
       "    <tr>\n",
       "      <th>9</th>\n",
       "      <td>Reino Unido</td>\n",
       "      <td>6</td>\n",
       "      <td>5.00</td>\n",
       "    </tr>\n",
       "    <tr>\n",
       "      <th>10</th>\n",
       "      <td>Letonia</td>\n",
       "      <td>3</td>\n",
       "      <td>2.50</td>\n",
       "    </tr>\n",
       "    <tr>\n",
       "      <th>11</th>\n",
       "      <td>Francia</td>\n",
       "      <td>3</td>\n",
       "      <td>2.50</td>\n",
       "    </tr>\n",
       "    <tr>\n",
       "      <th>12</th>\n",
       "      <td>Alemania</td>\n",
       "      <td>2</td>\n",
       "      <td>1.67</td>\n",
       "    </tr>\n",
       "    <tr>\n",
       "      <th>13</th>\n",
       "      <td>Azerbaiyán</td>\n",
       "      <td>2</td>\n",
       "      <td>1.67</td>\n",
       "    </tr>\n",
       "    <tr>\n",
       "      <th>14</th>\n",
       "      <td>Albania</td>\n",
       "      <td>2</td>\n",
       "      <td>1.67</td>\n",
       "    </tr>\n",
       "    <tr>\n",
       "      <th>15</th>\n",
       "      <td>Bélgica</td>\n",
       "      <td>2</td>\n",
       "      <td>1.67</td>\n",
       "    </tr>\n",
       "    <tr>\n",
       "      <th>16</th>\n",
       "      <td>Moldavia</td>\n",
       "      <td>2</td>\n",
       "      <td>1.67</td>\n",
       "    </tr>\n",
       "    <tr>\n",
       "      <th>17</th>\n",
       "      <td>Polonia</td>\n",
       "      <td>1</td>\n",
       "      <td>0.83</td>\n",
       "    </tr>\n",
       "    <tr>\n",
       "      <th>18</th>\n",
       "      <td>España</td>\n",
       "      <td>1</td>\n",
       "      <td>0.83</td>\n",
       "    </tr>\n",
       "    <tr>\n",
       "      <th>19</th>\n",
       "      <td>Suecia</td>\n",
       "      <td>1</td>\n",
       "      <td>0.83</td>\n",
       "    </tr>\n",
       "    <tr>\n",
       "      <th>20</th>\n",
       "      <td>Austria</td>\n",
       "      <td>1</td>\n",
       "      <td>0.83</td>\n",
       "    </tr>\n",
       "  </tbody>\n",
       "</table>\n",
       "</div>"
      ],
      "text/plain": [
       "           País  Volúmen  Porcentaje\n",
       "0         Rusia       20       16.67\n",
       "1       Armenia       14       11.67\n",
       "2      Bulgaria       10        8.33\n",
       "3   Bielorrusia        9        7.50\n",
       "4       Georgia        9        7.50\n",
       "5       Turquía        9        7.50\n",
       "6       Rumania        9        7.50\n",
       "7       Ucrania        8        6.67\n",
       "8        Italia        6        5.00\n",
       "9   Reino Unido        6        5.00\n",
       "10      Letonia        3        2.50\n",
       "11      Francia        3        2.50\n",
       "12     Alemania        2        1.67\n",
       "13   Azerbaiyán        2        1.67\n",
       "14      Albania        2        1.67\n",
       "15      Bélgica        2        1.67\n",
       "16     Moldavia        2        1.67\n",
       "17      Polonia        1        0.83\n",
       "18       España        1        0.83\n",
       "19       Suecia        1        0.83\n",
       "20      Austria        1        0.83"
      ]
     },
     "metadata": {},
     "output_type": "display_data"
    },
    {
     "data": {
      "application/vnd.plotly.v1+json": {
       "config": {
        "plotlyServerURL": "https://plot.ly"
       },
       "data": [
        {
         "alignmentgroup": "True",
         "hovertemplate": "País=%{x}<br>Porcentaje=%{text}<extra></extra>",
         "legendgroup": "",
         "marker": {
          "color": "#636efa",
          "pattern": {
           "shape": ""
          }
         },
         "name": "",
         "offsetgroup": "",
         "orientation": "v",
         "showlegend": false,
         "text": [
          16.67,
          11.67,
          8.33,
          7.5,
          7.5,
          7.5,
          7.5,
          6.67,
          5,
          5,
          2.5,
          2.5,
          1.67,
          1.67,
          1.67,
          1.67,
          1.67,
          0.83,
          0.83,
          0.83,
          0.83
         ],
         "textposition": "outside",
         "texttemplate": "%{text:.1f}%",
         "type": "bar",
         "x": [
          "Rusia",
          "Armenia",
          "Bulgaria",
          "Bielorrusia",
          "Georgia",
          "Turquía",
          "Rumania",
          "Ucrania",
          "Italia",
          "Reino Unido",
          "Letonia",
          "Francia",
          "Alemania",
          "Azerbaiyán",
          "Albania",
          "Bélgica",
          "Moldavia",
          "Polonia",
          "España",
          "Suecia",
          "Austria"
         ],
         "xaxis": "x",
         "y": [
          16.67,
          11.67,
          8.33,
          7.5,
          7.5,
          7.5,
          7.5,
          6.67,
          5,
          5,
          2.5,
          2.5,
          1.67,
          1.67,
          1.67,
          1.67,
          1.67,
          0.83,
          0.83,
          0.83,
          0.83
         ],
         "yaxis": "y"
        }
       ],
       "layout": {
        "barmode": "relative",
        "legend": {
         "tracegroupgap": 0
        },
        "margin": {
         "t": 60
        },
        "plot_bgcolor": "rgba(255, 255, 255, 1)",
        "template": {
         "data": {
          "bar": [
           {
            "error_x": {
             "color": "#2a3f5f"
            },
            "error_y": {
             "color": "#2a3f5f"
            },
            "marker": {
             "line": {
              "color": "#E5ECF6",
              "width": 0.5
             },
             "pattern": {
              "fillmode": "overlay",
              "size": 10,
              "solidity": 0.2
             }
            },
            "type": "bar"
           }
          ],
          "barpolar": [
           {
            "marker": {
             "line": {
              "color": "#E5ECF6",
              "width": 0.5
             },
             "pattern": {
              "fillmode": "overlay",
              "size": 10,
              "solidity": 0.2
             }
            },
            "type": "barpolar"
           }
          ],
          "carpet": [
           {
            "aaxis": {
             "endlinecolor": "#2a3f5f",
             "gridcolor": "white",
             "linecolor": "white",
             "minorgridcolor": "white",
             "startlinecolor": "#2a3f5f"
            },
            "baxis": {
             "endlinecolor": "#2a3f5f",
             "gridcolor": "white",
             "linecolor": "white",
             "minorgridcolor": "white",
             "startlinecolor": "#2a3f5f"
            },
            "type": "carpet"
           }
          ],
          "choropleth": [
           {
            "colorbar": {
             "outlinewidth": 0,
             "ticks": ""
            },
            "type": "choropleth"
           }
          ],
          "contour": [
           {
            "colorbar": {
             "outlinewidth": 0,
             "ticks": ""
            },
            "colorscale": [
             [
              0,
              "#0d0887"
             ],
             [
              0.1111111111111111,
              "#46039f"
             ],
             [
              0.2222222222222222,
              "#7201a8"
             ],
             [
              0.3333333333333333,
              "#9c179e"
             ],
             [
              0.4444444444444444,
              "#bd3786"
             ],
             [
              0.5555555555555556,
              "#d8576b"
             ],
             [
              0.6666666666666666,
              "#ed7953"
             ],
             [
              0.7777777777777778,
              "#fb9f3a"
             ],
             [
              0.8888888888888888,
              "#fdca26"
             ],
             [
              1,
              "#f0f921"
             ]
            ],
            "type": "contour"
           }
          ],
          "contourcarpet": [
           {
            "colorbar": {
             "outlinewidth": 0,
             "ticks": ""
            },
            "type": "contourcarpet"
           }
          ],
          "heatmap": [
           {
            "colorbar": {
             "outlinewidth": 0,
             "ticks": ""
            },
            "colorscale": [
             [
              0,
              "#0d0887"
             ],
             [
              0.1111111111111111,
              "#46039f"
             ],
             [
              0.2222222222222222,
              "#7201a8"
             ],
             [
              0.3333333333333333,
              "#9c179e"
             ],
             [
              0.4444444444444444,
              "#bd3786"
             ],
             [
              0.5555555555555556,
              "#d8576b"
             ],
             [
              0.6666666666666666,
              "#ed7953"
             ],
             [
              0.7777777777777778,
              "#fb9f3a"
             ],
             [
              0.8888888888888888,
              "#fdca26"
             ],
             [
              1,
              "#f0f921"
             ]
            ],
            "type": "heatmap"
           }
          ],
          "heatmapgl": [
           {
            "colorbar": {
             "outlinewidth": 0,
             "ticks": ""
            },
            "colorscale": [
             [
              0,
              "#0d0887"
             ],
             [
              0.1111111111111111,
              "#46039f"
             ],
             [
              0.2222222222222222,
              "#7201a8"
             ],
             [
              0.3333333333333333,
              "#9c179e"
             ],
             [
              0.4444444444444444,
              "#bd3786"
             ],
             [
              0.5555555555555556,
              "#d8576b"
             ],
             [
              0.6666666666666666,
              "#ed7953"
             ],
             [
              0.7777777777777778,
              "#fb9f3a"
             ],
             [
              0.8888888888888888,
              "#fdca26"
             ],
             [
              1,
              "#f0f921"
             ]
            ],
            "type": "heatmapgl"
           }
          ],
          "histogram": [
           {
            "marker": {
             "pattern": {
              "fillmode": "overlay",
              "size": 10,
              "solidity": 0.2
             }
            },
            "type": "histogram"
           }
          ],
          "histogram2d": [
           {
            "colorbar": {
             "outlinewidth": 0,
             "ticks": ""
            },
            "colorscale": [
             [
              0,
              "#0d0887"
             ],
             [
              0.1111111111111111,
              "#46039f"
             ],
             [
              0.2222222222222222,
              "#7201a8"
             ],
             [
              0.3333333333333333,
              "#9c179e"
             ],
             [
              0.4444444444444444,
              "#bd3786"
             ],
             [
              0.5555555555555556,
              "#d8576b"
             ],
             [
              0.6666666666666666,
              "#ed7953"
             ],
             [
              0.7777777777777778,
              "#fb9f3a"
             ],
             [
              0.8888888888888888,
              "#fdca26"
             ],
             [
              1,
              "#f0f921"
             ]
            ],
            "type": "histogram2d"
           }
          ],
          "histogram2dcontour": [
           {
            "colorbar": {
             "outlinewidth": 0,
             "ticks": ""
            },
            "colorscale": [
             [
              0,
              "#0d0887"
             ],
             [
              0.1111111111111111,
              "#46039f"
             ],
             [
              0.2222222222222222,
              "#7201a8"
             ],
             [
              0.3333333333333333,
              "#9c179e"
             ],
             [
              0.4444444444444444,
              "#bd3786"
             ],
             [
              0.5555555555555556,
              "#d8576b"
             ],
             [
              0.6666666666666666,
              "#ed7953"
             ],
             [
              0.7777777777777778,
              "#fb9f3a"
             ],
             [
              0.8888888888888888,
              "#fdca26"
             ],
             [
              1,
              "#f0f921"
             ]
            ],
            "type": "histogram2dcontour"
           }
          ],
          "mesh3d": [
           {
            "colorbar": {
             "outlinewidth": 0,
             "ticks": ""
            },
            "type": "mesh3d"
           }
          ],
          "parcoords": [
           {
            "line": {
             "colorbar": {
              "outlinewidth": 0,
              "ticks": ""
             }
            },
            "type": "parcoords"
           }
          ],
          "pie": [
           {
            "automargin": true,
            "type": "pie"
           }
          ],
          "scatter": [
           {
            "fillpattern": {
             "fillmode": "overlay",
             "size": 10,
             "solidity": 0.2
            },
            "type": "scatter"
           }
          ],
          "scatter3d": [
           {
            "line": {
             "colorbar": {
              "outlinewidth": 0,
              "ticks": ""
             }
            },
            "marker": {
             "colorbar": {
              "outlinewidth": 0,
              "ticks": ""
             }
            },
            "type": "scatter3d"
           }
          ],
          "scattercarpet": [
           {
            "marker": {
             "colorbar": {
              "outlinewidth": 0,
              "ticks": ""
             }
            },
            "type": "scattercarpet"
           }
          ],
          "scattergeo": [
           {
            "marker": {
             "colorbar": {
              "outlinewidth": 0,
              "ticks": ""
             }
            },
            "type": "scattergeo"
           }
          ],
          "scattergl": [
           {
            "marker": {
             "colorbar": {
              "outlinewidth": 0,
              "ticks": ""
             }
            },
            "type": "scattergl"
           }
          ],
          "scattermapbox": [
           {
            "marker": {
             "colorbar": {
              "outlinewidth": 0,
              "ticks": ""
             }
            },
            "type": "scattermapbox"
           }
          ],
          "scatterpolar": [
           {
            "marker": {
             "colorbar": {
              "outlinewidth": 0,
              "ticks": ""
             }
            },
            "type": "scatterpolar"
           }
          ],
          "scatterpolargl": [
           {
            "marker": {
             "colorbar": {
              "outlinewidth": 0,
              "ticks": ""
             }
            },
            "type": "scatterpolargl"
           }
          ],
          "scatterternary": [
           {
            "marker": {
             "colorbar": {
              "outlinewidth": 0,
              "ticks": ""
             }
            },
            "type": "scatterternary"
           }
          ],
          "surface": [
           {
            "colorbar": {
             "outlinewidth": 0,
             "ticks": ""
            },
            "colorscale": [
             [
              0,
              "#0d0887"
             ],
             [
              0.1111111111111111,
              "#46039f"
             ],
             [
              0.2222222222222222,
              "#7201a8"
             ],
             [
              0.3333333333333333,
              "#9c179e"
             ],
             [
              0.4444444444444444,
              "#bd3786"
             ],
             [
              0.5555555555555556,
              "#d8576b"
             ],
             [
              0.6666666666666666,
              "#ed7953"
             ],
             [
              0.7777777777777778,
              "#fb9f3a"
             ],
             [
              0.8888888888888888,
              "#fdca26"
             ],
             [
              1,
              "#f0f921"
             ]
            ],
            "type": "surface"
           }
          ],
          "table": [
           {
            "cells": {
             "fill": {
              "color": "#EBF0F8"
             },
             "line": {
              "color": "white"
             }
            },
            "header": {
             "fill": {
              "color": "#C8D4E3"
             },
             "line": {
              "color": "white"
             }
            },
            "type": "table"
           }
          ]
         },
         "layout": {
          "annotationdefaults": {
           "arrowcolor": "#2a3f5f",
           "arrowhead": 0,
           "arrowwidth": 1
          },
          "autotypenumbers": "strict",
          "coloraxis": {
           "colorbar": {
            "outlinewidth": 0,
            "ticks": ""
           }
          },
          "colorscale": {
           "diverging": [
            [
             0,
             "#8e0152"
            ],
            [
             0.1,
             "#c51b7d"
            ],
            [
             0.2,
             "#de77ae"
            ],
            [
             0.3,
             "#f1b6da"
            ],
            [
             0.4,
             "#fde0ef"
            ],
            [
             0.5,
             "#f7f7f7"
            ],
            [
             0.6,
             "#e6f5d0"
            ],
            [
             0.7,
             "#b8e186"
            ],
            [
             0.8,
             "#7fbc41"
            ],
            [
             0.9,
             "#4d9221"
            ],
            [
             1,
             "#276419"
            ]
           ],
           "sequential": [
            [
             0,
             "#0d0887"
            ],
            [
             0.1111111111111111,
             "#46039f"
            ],
            [
             0.2222222222222222,
             "#7201a8"
            ],
            [
             0.3333333333333333,
             "#9c179e"
            ],
            [
             0.4444444444444444,
             "#bd3786"
            ],
            [
             0.5555555555555556,
             "#d8576b"
            ],
            [
             0.6666666666666666,
             "#ed7953"
            ],
            [
             0.7777777777777778,
             "#fb9f3a"
            ],
            [
             0.8888888888888888,
             "#fdca26"
            ],
            [
             1,
             "#f0f921"
            ]
           ],
           "sequentialminus": [
            [
             0,
             "#0d0887"
            ],
            [
             0.1111111111111111,
             "#46039f"
            ],
            [
             0.2222222222222222,
             "#7201a8"
            ],
            [
             0.3333333333333333,
             "#9c179e"
            ],
            [
             0.4444444444444444,
             "#bd3786"
            ],
            [
             0.5555555555555556,
             "#d8576b"
            ],
            [
             0.6666666666666666,
             "#ed7953"
            ],
            [
             0.7777777777777778,
             "#fb9f3a"
            ],
            [
             0.8888888888888888,
             "#fdca26"
            ],
            [
             1,
             "#f0f921"
            ]
           ]
          },
          "colorway": [
           "#636efa",
           "#EF553B",
           "#00cc96",
           "#ab63fa",
           "#FFA15A",
           "#19d3f3",
           "#FF6692",
           "#B6E880",
           "#FF97FF",
           "#FECB52"
          ],
          "font": {
           "color": "#2a3f5f"
          },
          "geo": {
           "bgcolor": "white",
           "lakecolor": "white",
           "landcolor": "#E5ECF6",
           "showlakes": true,
           "showland": true,
           "subunitcolor": "white"
          },
          "hoverlabel": {
           "align": "left"
          },
          "hovermode": "closest",
          "mapbox": {
           "style": "light"
          },
          "paper_bgcolor": "white",
          "plot_bgcolor": "#E5ECF6",
          "polar": {
           "angularaxis": {
            "gridcolor": "white",
            "linecolor": "white",
            "ticks": ""
           },
           "bgcolor": "#E5ECF6",
           "radialaxis": {
            "gridcolor": "white",
            "linecolor": "white",
            "ticks": ""
           }
          },
          "scene": {
           "xaxis": {
            "backgroundcolor": "#E5ECF6",
            "gridcolor": "white",
            "gridwidth": 2,
            "linecolor": "white",
            "showbackground": true,
            "ticks": "",
            "zerolinecolor": "white"
           },
           "yaxis": {
            "backgroundcolor": "#E5ECF6",
            "gridcolor": "white",
            "gridwidth": 2,
            "linecolor": "white",
            "showbackground": true,
            "ticks": "",
            "zerolinecolor": "white"
           },
           "zaxis": {
            "backgroundcolor": "#E5ECF6",
            "gridcolor": "white",
            "gridwidth": 2,
            "linecolor": "white",
            "showbackground": true,
            "ticks": "",
            "zerolinecolor": "white"
           }
          },
          "shapedefaults": {
           "line": {
            "color": "#2a3f5f"
           }
          },
          "ternary": {
           "aaxis": {
            "gridcolor": "white",
            "linecolor": "white",
            "ticks": ""
           },
           "baxis": {
            "gridcolor": "white",
            "linecolor": "white",
            "ticks": ""
           },
           "bgcolor": "#E5ECF6",
           "caxis": {
            "gridcolor": "white",
            "linecolor": "white",
            "ticks": ""
           }
          },
          "title": {
           "x": 0.05
          },
          "xaxis": {
           "automargin": true,
           "gridcolor": "white",
           "linecolor": "white",
           "ticks": "",
           "title": {
            "standoff": 15
           },
           "zerolinecolor": "white",
           "zerolinewidth": 2
          },
          "yaxis": {
           "automargin": true,
           "gridcolor": "white",
           "linecolor": "white",
           "ticks": "",
           "title": {
            "standoff": 15
           },
           "zerolinecolor": "white",
           "zerolinewidth": 2
          }
         }
        },
        "title": {
         "text": "Gráfico de barras: País"
        },
        "xaxis": {
         "anchor": "y",
         "categoryorder": "total descending",
         "domain": [
          0,
          1
         ],
         "gridcolor": "lightgrey",
         "showgrid": true,
         "title": {
          "text": "País"
         }
        },
        "yaxis": {
         "anchor": "x",
         "domain": [
          0,
          1
         ],
         "gridcolor": "lightgrey",
         "showgrid": true,
         "title": {
          "text": "Porcentaje"
         }
        }
       }
      }
     },
     "metadata": {},
     "output_type": "display_data"
    }
   ],
   "source": [
    "graficar_barras_porcentaje_px(df = df_columnas, variable_analisis = 'País')"
   ]
  },
  {
   "cell_type": "markdown",
   "id": "21152fc7",
   "metadata": {},
   "source": [
    "Entre 2019 y 2020 el país con mayor número de medallas es Rusia, con 20 medallas. Le siguen Armenia con 14 y Bulgaria con 10 medallas."
   ]
  },
  {
   "cell_type": "markdown",
   "id": "8b862271",
   "metadata": {},
   "source": [
    "### <span style=\"color: #2A8E3C;\"> ¿Cuántas medallas de cada tipo (oro, plata y bronce) ha ganado cada país en la competición? (Sin considerar el género) </span>"
   ]
  },
  {
   "cell_type": "code",
   "execution_count": 87,
   "id": "d2e5eede",
   "metadata": {},
   "outputs": [
    {
     "data": {
      "text/html": [
       "<div>\n",
       "<style scoped>\n",
       "    .dataframe tbody tr th:only-of-type {\n",
       "        vertical-align: middle;\n",
       "    }\n",
       "\n",
       "    .dataframe tbody tr th {\n",
       "        vertical-align: top;\n",
       "    }\n",
       "\n",
       "    .dataframe thead th {\n",
       "        text-align: right;\n",
       "    }\n",
       "</style>\n",
       "<table border=\"1\" class=\"dataframe\">\n",
       "  <thead>\n",
       "    <tr style=\"text-align: right;\">\n",
       "      <th>Medalla</th>\n",
       "      <th>Oro</th>\n",
       "      <th>Plata</th>\n",
       "      <th>Bronce</th>\n",
       "    </tr>\n",
       "    <tr>\n",
       "      <th>País</th>\n",
       "      <th></th>\n",
       "      <th></th>\n",
       "      <th></th>\n",
       "    </tr>\n",
       "  </thead>\n",
       "  <tbody>\n",
       "    <tr>\n",
       "      <th>Ucrania</th>\n",
       "      <td>5</td>\n",
       "      <td>2</td>\n",
       "      <td>1</td>\n",
       "    </tr>\n",
       "    <tr>\n",
       "      <th>Rusia</th>\n",
       "      <td>4</td>\n",
       "      <td>9</td>\n",
       "      <td>7</td>\n",
       "    </tr>\n",
       "    <tr>\n",
       "      <th>Bulgaria</th>\n",
       "      <td>4</td>\n",
       "      <td>5</td>\n",
       "      <td>1</td>\n",
       "    </tr>\n",
       "    <tr>\n",
       "      <th>Armenia</th>\n",
       "      <td>4</td>\n",
       "      <td>3</td>\n",
       "      <td>7</td>\n",
       "    </tr>\n",
       "    <tr>\n",
       "      <th>Rumania</th>\n",
       "      <td>4</td>\n",
       "      <td>2</td>\n",
       "      <td>3</td>\n",
       "    </tr>\n",
       "    <tr>\n",
       "      <th>Georgia</th>\n",
       "      <td>3</td>\n",
       "      <td>4</td>\n",
       "      <td>2</td>\n",
       "    </tr>\n",
       "    <tr>\n",
       "      <th>Bielorrusia</th>\n",
       "      <td>3</td>\n",
       "      <td>3</td>\n",
       "      <td>3</td>\n",
       "    </tr>\n",
       "    <tr>\n",
       "      <th>Italia</th>\n",
       "      <td>3</td>\n",
       "      <td>2</td>\n",
       "      <td>1</td>\n",
       "    </tr>\n",
       "    <tr>\n",
       "      <th>Turquía</th>\n",
       "      <td>3</td>\n",
       "      <td>1</td>\n",
       "      <td>5</td>\n",
       "    </tr>\n",
       "    <tr>\n",
       "      <th>Reino Unido</th>\n",
       "      <td>2</td>\n",
       "      <td>2</td>\n",
       "      <td>2</td>\n",
       "    </tr>\n",
       "    <tr>\n",
       "      <th>Francia</th>\n",
       "      <td>1</td>\n",
       "      <td>1</td>\n",
       "      <td>1</td>\n",
       "    </tr>\n",
       "    <tr>\n",
       "      <th>Alemania</th>\n",
       "      <td>1</td>\n",
       "      <td>1</td>\n",
       "      <td>0</td>\n",
       "    </tr>\n",
       "    <tr>\n",
       "      <th>Letonia</th>\n",
       "      <td>1</td>\n",
       "      <td>0</td>\n",
       "      <td>2</td>\n",
       "    </tr>\n",
       "    <tr>\n",
       "      <th>Azerbaiyán</th>\n",
       "      <td>1</td>\n",
       "      <td>0</td>\n",
       "      <td>1</td>\n",
       "    </tr>\n",
       "    <tr>\n",
       "      <th>Polonia</th>\n",
       "      <td>1</td>\n",
       "      <td>0</td>\n",
       "      <td>0</td>\n",
       "    </tr>\n",
       "    <tr>\n",
       "      <th>Moldavia</th>\n",
       "      <td>0</td>\n",
       "      <td>2</td>\n",
       "      <td>0</td>\n",
       "    </tr>\n",
       "    <tr>\n",
       "      <th>Albania</th>\n",
       "      <td>0</td>\n",
       "      <td>1</td>\n",
       "      <td>1</td>\n",
       "    </tr>\n",
       "    <tr>\n",
       "      <th>Bélgica</th>\n",
       "      <td>0</td>\n",
       "      <td>1</td>\n",
       "      <td>1</td>\n",
       "    </tr>\n",
       "    <tr>\n",
       "      <th>España</th>\n",
       "      <td>0</td>\n",
       "      <td>1</td>\n",
       "      <td>0</td>\n",
       "    </tr>\n",
       "    <tr>\n",
       "      <th>Austria</th>\n",
       "      <td>0</td>\n",
       "      <td>0</td>\n",
       "      <td>1</td>\n",
       "    </tr>\n",
       "    <tr>\n",
       "      <th>Suecia</th>\n",
       "      <td>0</td>\n",
       "      <td>0</td>\n",
       "      <td>1</td>\n",
       "    </tr>\n",
       "  </tbody>\n",
       "</table>\n",
       "</div>"
      ],
      "text/plain": [
       "Medalla      Oro  Plata  Bronce\n",
       "País                           \n",
       "Ucrania        5      2       1\n",
       "Rusia          4      9       7\n",
       "Bulgaria       4      5       1\n",
       "Armenia        4      3       7\n",
       "Rumania        4      2       3\n",
       "Georgia        3      4       2\n",
       "Bielorrusia    3      3       3\n",
       "Italia         3      2       1\n",
       "Turquía        3      1       5\n",
       "Reino Unido    2      2       2\n",
       "Francia        1      1       1\n",
       "Alemania       1      1       0\n",
       "Letonia        1      0       2\n",
       "Azerbaiyán     1      0       1\n",
       "Polonia        1      0       0\n",
       "Moldavia       0      2       0\n",
       "Albania        0      1       1\n",
       "Bélgica        0      1       1\n",
       "España         0      1       0\n",
       "Austria        0      0       1\n",
       "Suecia         0      0       1"
      ]
     },
     "execution_count": 87,
     "metadata": {},
     "output_type": "execute_result"
    }
   ],
   "source": [
    "df_medallas_por_país = df_columnas.groupby('País')['Medalla'].value_counts(dropna=False).to_frame().reset_index().pivot_table(index='País', columns='Medalla', values='count', fill_value=0).astype(int)\n",
    "df_medallas_por_país.sort_values(by = orden_medallas, ascending = False)"
   ]
  },
  {
   "cell_type": "markdown",
   "id": "65ff5997",
   "metadata": {},
   "source": [
    "Ampliamos información para ver además el número total de medallas junto al tipo "
   ]
  },
  {
   "cell_type": "code",
   "execution_count": 45,
   "id": "eac4390b",
   "metadata": {},
   "outputs": [],
   "source": [
    "def realizar_crosstab(df, variable_categorica_1, variable_categorica_2, normalize):\n",
    "    # Crear una tabla de contingencia con conteos absolutos\n",
    "    aux_p1 = pd.crosstab(df[variable_categorica_1], df[variable_categorica_2], margins=True)\n",
    "\n",
    "    # Crear una tabla de contingencia con porcentajes\n",
    "    aux_p2 = (pd.crosstab(df[variable_categorica_1],\n",
    "                          df[variable_categorica_2],\n",
    "                          normalize=normalize,\n",
    "                          margins=True\n",
    "                          ) * 100).round(2)\n",
    "\n",
    "    # Concatenar ambas tablas para tener conteos y porcentajes en una sola tabla\n",
    "    tabla_contingencia = pd.concat([aux_p1, aux_p2 ], axis=1)\n",
    "    return tabla_contingencia"
   ]
  },
  {
   "cell_type": "code",
   "execution_count": 46,
   "id": "acbd8566",
   "metadata": {},
   "outputs": [
    {
     "data": {
      "text/html": [
       "<div>\n",
       "<style scoped>\n",
       "    .dataframe tbody tr th:only-of-type {\n",
       "        vertical-align: middle;\n",
       "    }\n",
       "\n",
       "    .dataframe tbody tr th {\n",
       "        vertical-align: top;\n",
       "    }\n",
       "\n",
       "    .dataframe thead th {\n",
       "        text-align: right;\n",
       "    }\n",
       "</style>\n",
       "<table border=\"1\" class=\"dataframe\">\n",
       "  <thead>\n",
       "    <tr style=\"text-align: right;\">\n",
       "      <th>Medalla</th>\n",
       "      <th>Oro</th>\n",
       "      <th>Plata</th>\n",
       "      <th>Bronce</th>\n",
       "      <th>All</th>\n",
       "      <th>Oro</th>\n",
       "      <th>Plata</th>\n",
       "      <th>Bronce</th>\n",
       "      <th>All</th>\n",
       "    </tr>\n",
       "    <tr>\n",
       "      <th>País</th>\n",
       "      <th></th>\n",
       "      <th></th>\n",
       "      <th></th>\n",
       "      <th></th>\n",
       "      <th></th>\n",
       "      <th></th>\n",
       "      <th></th>\n",
       "      <th></th>\n",
       "    </tr>\n",
       "  </thead>\n",
       "  <tbody>\n",
       "    <tr>\n",
       "      <th>Albania</th>\n",
       "      <td>0</td>\n",
       "      <td>1</td>\n",
       "      <td>1</td>\n",
       "      <td>2</td>\n",
       "      <td>0.00</td>\n",
       "      <td>0.83</td>\n",
       "      <td>0.83</td>\n",
       "      <td>1.67</td>\n",
       "    </tr>\n",
       "    <tr>\n",
       "      <th>Alemania</th>\n",
       "      <td>1</td>\n",
       "      <td>1</td>\n",
       "      <td>0</td>\n",
       "      <td>2</td>\n",
       "      <td>0.83</td>\n",
       "      <td>0.83</td>\n",
       "      <td>0.00</td>\n",
       "      <td>1.67</td>\n",
       "    </tr>\n",
       "    <tr>\n",
       "      <th>Armenia</th>\n",
       "      <td>4</td>\n",
       "      <td>3</td>\n",
       "      <td>7</td>\n",
       "      <td>14</td>\n",
       "      <td>3.33</td>\n",
       "      <td>2.50</td>\n",
       "      <td>5.83</td>\n",
       "      <td>11.67</td>\n",
       "    </tr>\n",
       "    <tr>\n",
       "      <th>Austria</th>\n",
       "      <td>0</td>\n",
       "      <td>0</td>\n",
       "      <td>1</td>\n",
       "      <td>1</td>\n",
       "      <td>0.00</td>\n",
       "      <td>0.00</td>\n",
       "      <td>0.83</td>\n",
       "      <td>0.83</td>\n",
       "    </tr>\n",
       "    <tr>\n",
       "      <th>Azerbaiyán</th>\n",
       "      <td>1</td>\n",
       "      <td>0</td>\n",
       "      <td>1</td>\n",
       "      <td>2</td>\n",
       "      <td>0.83</td>\n",
       "      <td>0.00</td>\n",
       "      <td>0.83</td>\n",
       "      <td>1.67</td>\n",
       "    </tr>\n",
       "    <tr>\n",
       "      <th>Bielorrusia</th>\n",
       "      <td>3</td>\n",
       "      <td>3</td>\n",
       "      <td>3</td>\n",
       "      <td>9</td>\n",
       "      <td>2.50</td>\n",
       "      <td>2.50</td>\n",
       "      <td>2.50</td>\n",
       "      <td>7.50</td>\n",
       "    </tr>\n",
       "    <tr>\n",
       "      <th>Bulgaria</th>\n",
       "      <td>4</td>\n",
       "      <td>5</td>\n",
       "      <td>1</td>\n",
       "      <td>10</td>\n",
       "      <td>3.33</td>\n",
       "      <td>4.17</td>\n",
       "      <td>0.83</td>\n",
       "      <td>8.33</td>\n",
       "    </tr>\n",
       "    <tr>\n",
       "      <th>Bélgica</th>\n",
       "      <td>0</td>\n",
       "      <td>1</td>\n",
       "      <td>1</td>\n",
       "      <td>2</td>\n",
       "      <td>0.00</td>\n",
       "      <td>0.83</td>\n",
       "      <td>0.83</td>\n",
       "      <td>1.67</td>\n",
       "    </tr>\n",
       "    <tr>\n",
       "      <th>España</th>\n",
       "      <td>0</td>\n",
       "      <td>1</td>\n",
       "      <td>0</td>\n",
       "      <td>1</td>\n",
       "      <td>0.00</td>\n",
       "      <td>0.83</td>\n",
       "      <td>0.00</td>\n",
       "      <td>0.83</td>\n",
       "    </tr>\n",
       "    <tr>\n",
       "      <th>Francia</th>\n",
       "      <td>1</td>\n",
       "      <td>1</td>\n",
       "      <td>1</td>\n",
       "      <td>3</td>\n",
       "      <td>0.83</td>\n",
       "      <td>0.83</td>\n",
       "      <td>0.83</td>\n",
       "      <td>2.50</td>\n",
       "    </tr>\n",
       "    <tr>\n",
       "      <th>Georgia</th>\n",
       "      <td>3</td>\n",
       "      <td>4</td>\n",
       "      <td>2</td>\n",
       "      <td>9</td>\n",
       "      <td>2.50</td>\n",
       "      <td>3.33</td>\n",
       "      <td>1.67</td>\n",
       "      <td>7.50</td>\n",
       "    </tr>\n",
       "    <tr>\n",
       "      <th>Italia</th>\n",
       "      <td>3</td>\n",
       "      <td>2</td>\n",
       "      <td>1</td>\n",
       "      <td>6</td>\n",
       "      <td>2.50</td>\n",
       "      <td>1.67</td>\n",
       "      <td>0.83</td>\n",
       "      <td>5.00</td>\n",
       "    </tr>\n",
       "    <tr>\n",
       "      <th>Letonia</th>\n",
       "      <td>1</td>\n",
       "      <td>0</td>\n",
       "      <td>2</td>\n",
       "      <td>3</td>\n",
       "      <td>0.83</td>\n",
       "      <td>0.00</td>\n",
       "      <td>1.67</td>\n",
       "      <td>2.50</td>\n",
       "    </tr>\n",
       "    <tr>\n",
       "      <th>Moldavia</th>\n",
       "      <td>0</td>\n",
       "      <td>2</td>\n",
       "      <td>0</td>\n",
       "      <td>2</td>\n",
       "      <td>0.00</td>\n",
       "      <td>1.67</td>\n",
       "      <td>0.00</td>\n",
       "      <td>1.67</td>\n",
       "    </tr>\n",
       "    <tr>\n",
       "      <th>Polonia</th>\n",
       "      <td>1</td>\n",
       "      <td>0</td>\n",
       "      <td>0</td>\n",
       "      <td>1</td>\n",
       "      <td>0.83</td>\n",
       "      <td>0.00</td>\n",
       "      <td>0.00</td>\n",
       "      <td>0.83</td>\n",
       "    </tr>\n",
       "    <tr>\n",
       "      <th>Reino Unido</th>\n",
       "      <td>2</td>\n",
       "      <td>2</td>\n",
       "      <td>2</td>\n",
       "      <td>6</td>\n",
       "      <td>1.67</td>\n",
       "      <td>1.67</td>\n",
       "      <td>1.67</td>\n",
       "      <td>5.00</td>\n",
       "    </tr>\n",
       "    <tr>\n",
       "      <th>Rumania</th>\n",
       "      <td>4</td>\n",
       "      <td>2</td>\n",
       "      <td>3</td>\n",
       "      <td>9</td>\n",
       "      <td>3.33</td>\n",
       "      <td>1.67</td>\n",
       "      <td>2.50</td>\n",
       "      <td>7.50</td>\n",
       "    </tr>\n",
       "    <tr>\n",
       "      <th>Rusia</th>\n",
       "      <td>4</td>\n",
       "      <td>9</td>\n",
       "      <td>7</td>\n",
       "      <td>20</td>\n",
       "      <td>3.33</td>\n",
       "      <td>7.50</td>\n",
       "      <td>5.83</td>\n",
       "      <td>16.67</td>\n",
       "    </tr>\n",
       "    <tr>\n",
       "      <th>Suecia</th>\n",
       "      <td>0</td>\n",
       "      <td>0</td>\n",
       "      <td>1</td>\n",
       "      <td>1</td>\n",
       "      <td>0.00</td>\n",
       "      <td>0.00</td>\n",
       "      <td>0.83</td>\n",
       "      <td>0.83</td>\n",
       "    </tr>\n",
       "    <tr>\n",
       "      <th>Turquía</th>\n",
       "      <td>3</td>\n",
       "      <td>1</td>\n",
       "      <td>5</td>\n",
       "      <td>9</td>\n",
       "      <td>2.50</td>\n",
       "      <td>0.83</td>\n",
       "      <td>4.17</td>\n",
       "      <td>7.50</td>\n",
       "    </tr>\n",
       "    <tr>\n",
       "      <th>Ucrania</th>\n",
       "      <td>5</td>\n",
       "      <td>2</td>\n",
       "      <td>1</td>\n",
       "      <td>8</td>\n",
       "      <td>4.17</td>\n",
       "      <td>1.67</td>\n",
       "      <td>0.83</td>\n",
       "      <td>6.67</td>\n",
       "    </tr>\n",
       "    <tr>\n",
       "      <th>All</th>\n",
       "      <td>40</td>\n",
       "      <td>40</td>\n",
       "      <td>40</td>\n",
       "      <td>120</td>\n",
       "      <td>33.33</td>\n",
       "      <td>33.33</td>\n",
       "      <td>33.33</td>\n",
       "      <td>100.00</td>\n",
       "    </tr>\n",
       "  </tbody>\n",
       "</table>\n",
       "</div>"
      ],
      "text/plain": [
       "Medalla      Oro  Plata  Bronce  All    Oro  Plata  Bronce     All\n",
       "País                                                              \n",
       "Albania        0      1       1    2   0.00   0.83    0.83    1.67\n",
       "Alemania       1      1       0    2   0.83   0.83    0.00    1.67\n",
       "Armenia        4      3       7   14   3.33   2.50    5.83   11.67\n",
       "Austria        0      0       1    1   0.00   0.00    0.83    0.83\n",
       "Azerbaiyán     1      0       1    2   0.83   0.00    0.83    1.67\n",
       "Bielorrusia    3      3       3    9   2.50   2.50    2.50    7.50\n",
       "Bulgaria       4      5       1   10   3.33   4.17    0.83    8.33\n",
       "Bélgica        0      1       1    2   0.00   0.83    0.83    1.67\n",
       "España         0      1       0    1   0.00   0.83    0.00    0.83\n",
       "Francia        1      1       1    3   0.83   0.83    0.83    2.50\n",
       "Georgia        3      4       2    9   2.50   3.33    1.67    7.50\n",
       "Italia         3      2       1    6   2.50   1.67    0.83    5.00\n",
       "Letonia        1      0       2    3   0.83   0.00    1.67    2.50\n",
       "Moldavia       0      2       0    2   0.00   1.67    0.00    1.67\n",
       "Polonia        1      0       0    1   0.83   0.00    0.00    0.83\n",
       "Reino Unido    2      2       2    6   1.67   1.67    1.67    5.00\n",
       "Rumania        4      2       3    9   3.33   1.67    2.50    7.50\n",
       "Rusia          4      9       7   20   3.33   7.50    5.83   16.67\n",
       "Suecia         0      0       1    1   0.00   0.00    0.83    0.83\n",
       "Turquía        3      1       5    9   2.50   0.83    4.17    7.50\n",
       "Ucrania        5      2       1    8   4.17   1.67    0.83    6.67\n",
       "All           40     40      40  120  33.33  33.33   33.33  100.00"
      ]
     },
     "execution_count": 46,
     "metadata": {},
     "output_type": "execute_result"
    }
   ],
   "source": [
    "realizar_crosstab(df_columnas, variable_categorica_1 = 'País', variable_categorica_2 ='Medalla', normalize = True)"
   ]
  },
  {
   "cell_type": "markdown",
   "id": "4c19562a",
   "metadata": {},
   "source": [
    "### <span style=\"color: #2A8E3C;\"> ¿Qué país ha logrado la mayor equidad en términos de éxito entre sus atletas femeninos y masculinos? </span>"
   ]
  },
  {
   "cell_type": "code",
   "execution_count": 47,
   "id": "252b0be8",
   "metadata": {},
   "outputs": [
    {
     "name": "stdout",
     "output_type": "stream",
     "text": [
      "Los países con mayor equidad son: Alemania, Azerbaiyán, Moldavia\n"
     ]
    }
   ],
   "source": [
    "# Crear DataFrame para almacenar la equidad entre géneros\n",
    "df_equidad = df_columnas.copy()\n",
    "\n",
    "# Asignar un valor de 1 a la columna 'Medalla' porque cada fila tiene una medalla.\n",
    "df_equidad.loc[:, 'Medalla'] = 1\n",
    "\n",
    "# Agrupar los datos por 'País' y 'Genero', y contar las medallas por cada tipo (Femenino y Masculino)\n",
    "df_equidad = df_equidad[['País', 'Genero', 'Medalla']].groupby(['País', 'Genero'])['Medalla'].value_counts(dropna=False).to_frame().reset_index().pivot_table(index='País', columns='Genero', values='count', fill_value=0).astype(int)\n",
    "\n",
    "# Calculamr el total de medallas sumando las medallas de ambos géneros (Femenino y Masculino)\n",
    "df_equidad['Total'] = df_equidad['Femenino'] + df_equidad['Masculino']\n",
    "\n",
    "# Calcular la proporción de medallas masculinas y femeninas para cada país\n",
    "df_equidad['Proporción_Masculino'] = ((df_equidad['Masculino'] / df_equidad['Total']) * 100).round(2)\n",
    "df_equidad['Proporción_Femenino'] = ((df_equidad['Femenino'] / df_equidad['Total']) * 100).round(2)\n",
    "\n",
    "# Calcular el índice de equidad entre los géneros para cada país\n",
    "df_equidad['Equidad'] = ((1 - (abs(df_equidad['Proporción_Masculino'] - df_equidad['Proporción_Femenino']) /\n",
    "                              (df_equidad['Proporción_Masculino'] + df_equidad['Proporción_Femenino']))) * 100).round(2)\n",
    "\n",
    "# Obtener el valor máximo de equidad para identificar los países más equitativos\n",
    "equidad_maxima = df_equidad['Equidad'].max()\n",
    "\n",
    "# Filtrar los países que tienen el valor máximo de equidad\n",
    "pais_equitativo = df_equidad[df_equidad['Equidad'] == equidad_maxima].index.tolist()\n",
    "\n",
    "# Comentario adicional: Si hay varios países con la misma equidad máxima, se mostrarán todos.\n",
    "if len(pais_equitativo) == 1:\n",
    "    print(f\"El país con mayor equidad es: {pais_equitativo[0]}\")\n",
    "else:\n",
    "    print(f\"Los países con mayor equidad son: {', '.join(map(str, pais_equitativo))}\")\n"
   ]
  },
  {
   "cell_type": "code",
   "execution_count": 48,
   "id": "2569f098",
   "metadata": {},
   "outputs": [
    {
     "data": {
      "text/html": [
       "<div>\n",
       "<style scoped>\n",
       "    .dataframe tbody tr th:only-of-type {\n",
       "        vertical-align: middle;\n",
       "    }\n",
       "\n",
       "    .dataframe tbody tr th {\n",
       "        vertical-align: top;\n",
       "    }\n",
       "\n",
       "    .dataframe thead th {\n",
       "        text-align: right;\n",
       "    }\n",
       "</style>\n",
       "<table border=\"1\" class=\"dataframe\">\n",
       "  <thead>\n",
       "    <tr style=\"text-align: right;\">\n",
       "      <th>Genero</th>\n",
       "      <th>Femenino</th>\n",
       "      <th>Masculino</th>\n",
       "      <th>Total</th>\n",
       "      <th>Proporción_Masculino</th>\n",
       "      <th>Proporción_Femenino</th>\n",
       "      <th>Equidad</th>\n",
       "    </tr>\n",
       "    <tr>\n",
       "      <th>País</th>\n",
       "      <th></th>\n",
       "      <th></th>\n",
       "      <th></th>\n",
       "      <th></th>\n",
       "      <th></th>\n",
       "      <th></th>\n",
       "    </tr>\n",
       "  </thead>\n",
       "  <tbody>\n",
       "    <tr>\n",
       "      <th>Azerbaiyán</th>\n",
       "      <td>1</td>\n",
       "      <td>1</td>\n",
       "      <td>2</td>\n",
       "      <td>50.00</td>\n",
       "      <td>50.00</td>\n",
       "      <td>100.00</td>\n",
       "    </tr>\n",
       "    <tr>\n",
       "      <th>Alemania</th>\n",
       "      <td>1</td>\n",
       "      <td>1</td>\n",
       "      <td>2</td>\n",
       "      <td>50.00</td>\n",
       "      <td>50.00</td>\n",
       "      <td>100.00</td>\n",
       "    </tr>\n",
       "    <tr>\n",
       "      <th>Moldavia</th>\n",
       "      <td>1</td>\n",
       "      <td>1</td>\n",
       "      <td>2</td>\n",
       "      <td>50.00</td>\n",
       "      <td>50.00</td>\n",
       "      <td>100.00</td>\n",
       "    </tr>\n",
       "    <tr>\n",
       "      <th>Ucrania</th>\n",
       "      <td>5</td>\n",
       "      <td>3</td>\n",
       "      <td>8</td>\n",
       "      <td>37.50</td>\n",
       "      <td>62.50</td>\n",
       "      <td>75.00</td>\n",
       "    </tr>\n",
       "    <tr>\n",
       "      <th>Turquía</th>\n",
       "      <td>3</td>\n",
       "      <td>6</td>\n",
       "      <td>9</td>\n",
       "      <td>66.67</td>\n",
       "      <td>33.33</td>\n",
       "      <td>66.66</td>\n",
       "    </tr>\n",
       "    <tr>\n",
       "      <th>Francia</th>\n",
       "      <td>2</td>\n",
       "      <td>1</td>\n",
       "      <td>3</td>\n",
       "      <td>33.33</td>\n",
       "      <td>66.67</td>\n",
       "      <td>66.66</td>\n",
       "    </tr>\n",
       "    <tr>\n",
       "      <th>Italia</th>\n",
       "      <td>2</td>\n",
       "      <td>4</td>\n",
       "      <td>6</td>\n",
       "      <td>66.67</td>\n",
       "      <td>33.33</td>\n",
       "      <td>66.66</td>\n",
       "    </tr>\n",
       "    <tr>\n",
       "      <th>Letonia</th>\n",
       "      <td>1</td>\n",
       "      <td>2</td>\n",
       "      <td>3</td>\n",
       "      <td>66.67</td>\n",
       "      <td>33.33</td>\n",
       "      <td>66.66</td>\n",
       "    </tr>\n",
       "    <tr>\n",
       "      <th>Bulgaria</th>\n",
       "      <td>3</td>\n",
       "      <td>7</td>\n",
       "      <td>10</td>\n",
       "      <td>70.00</td>\n",
       "      <td>30.00</td>\n",
       "      <td>60.00</td>\n",
       "    </tr>\n",
       "    <tr>\n",
       "      <th>Bielorrusia</th>\n",
       "      <td>2</td>\n",
       "      <td>7</td>\n",
       "      <td>9</td>\n",
       "      <td>77.78</td>\n",
       "      <td>22.22</td>\n",
       "      <td>44.44</td>\n",
       "    </tr>\n",
       "    <tr>\n",
       "      <th>Rusia</th>\n",
       "      <td>17</td>\n",
       "      <td>3</td>\n",
       "      <td>20</td>\n",
       "      <td>15.00</td>\n",
       "      <td>85.00</td>\n",
       "      <td>30.00</td>\n",
       "    </tr>\n",
       "    <tr>\n",
       "      <th>Armenia</th>\n",
       "      <td>2</td>\n",
       "      <td>12</td>\n",
       "      <td>14</td>\n",
       "      <td>85.71</td>\n",
       "      <td>14.29</td>\n",
       "      <td>28.58</td>\n",
       "    </tr>\n",
       "    <tr>\n",
       "      <th>Rumania</th>\n",
       "      <td>8</td>\n",
       "      <td>1</td>\n",
       "      <td>9</td>\n",
       "      <td>11.11</td>\n",
       "      <td>88.89</td>\n",
       "      <td>22.22</td>\n",
       "    </tr>\n",
       "    <tr>\n",
       "      <th>Reino Unido</th>\n",
       "      <td>6</td>\n",
       "      <td>0</td>\n",
       "      <td>6</td>\n",
       "      <td>0.00</td>\n",
       "      <td>100.00</td>\n",
       "      <td>0.00</td>\n",
       "    </tr>\n",
       "    <tr>\n",
       "      <th>Suecia</th>\n",
       "      <td>1</td>\n",
       "      <td>0</td>\n",
       "      <td>1</td>\n",
       "      <td>0.00</td>\n",
       "      <td>100.00</td>\n",
       "      <td>0.00</td>\n",
       "    </tr>\n",
       "    <tr>\n",
       "      <th>Albania</th>\n",
       "      <td>0</td>\n",
       "      <td>2</td>\n",
       "      <td>2</td>\n",
       "      <td>100.00</td>\n",
       "      <td>0.00</td>\n",
       "      <td>0.00</td>\n",
       "    </tr>\n",
       "    <tr>\n",
       "      <th>Polonia</th>\n",
       "      <td>1</td>\n",
       "      <td>0</td>\n",
       "      <td>1</td>\n",
       "      <td>0.00</td>\n",
       "      <td>100.00</td>\n",
       "      <td>0.00</td>\n",
       "    </tr>\n",
       "    <tr>\n",
       "      <th>España</th>\n",
       "      <td>1</td>\n",
       "      <td>0</td>\n",
       "      <td>1</td>\n",
       "      <td>0.00</td>\n",
       "      <td>100.00</td>\n",
       "      <td>0.00</td>\n",
       "    </tr>\n",
       "    <tr>\n",
       "      <th>Bélgica</th>\n",
       "      <td>2</td>\n",
       "      <td>0</td>\n",
       "      <td>2</td>\n",
       "      <td>0.00</td>\n",
       "      <td>100.00</td>\n",
       "      <td>0.00</td>\n",
       "    </tr>\n",
       "    <tr>\n",
       "      <th>Austria</th>\n",
       "      <td>1</td>\n",
       "      <td>0</td>\n",
       "      <td>1</td>\n",
       "      <td>0.00</td>\n",
       "      <td>100.00</td>\n",
       "      <td>0.00</td>\n",
       "    </tr>\n",
       "    <tr>\n",
       "      <th>Georgia</th>\n",
       "      <td>0</td>\n",
       "      <td>9</td>\n",
       "      <td>9</td>\n",
       "      <td>100.00</td>\n",
       "      <td>0.00</td>\n",
       "      <td>0.00</td>\n",
       "    </tr>\n",
       "  </tbody>\n",
       "</table>\n",
       "</div>"
      ],
      "text/plain": [
       "Genero       Femenino  Masculino  Total  Proporción_Masculino  \\\n",
       "País                                                            \n",
       "Azerbaiyán          1          1      2                 50.00   \n",
       "Alemania            1          1      2                 50.00   \n",
       "Moldavia            1          1      2                 50.00   \n",
       "Ucrania             5          3      8                 37.50   \n",
       "Turquía             3          6      9                 66.67   \n",
       "Francia             2          1      3                 33.33   \n",
       "Italia              2          4      6                 66.67   \n",
       "Letonia             1          2      3                 66.67   \n",
       "Bulgaria            3          7     10                 70.00   \n",
       "Bielorrusia         2          7      9                 77.78   \n",
       "Rusia              17          3     20                 15.00   \n",
       "Armenia             2         12     14                 85.71   \n",
       "Rumania             8          1      9                 11.11   \n",
       "Reino Unido         6          0      6                  0.00   \n",
       "Suecia              1          0      1                  0.00   \n",
       "Albania             0          2      2                100.00   \n",
       "Polonia             1          0      1                  0.00   \n",
       "España              1          0      1                  0.00   \n",
       "Bélgica             2          0      2                  0.00   \n",
       "Austria             1          0      1                  0.00   \n",
       "Georgia             0          9      9                100.00   \n",
       "\n",
       "Genero       Proporción_Femenino  Equidad  \n",
       "País                                       \n",
       "Azerbaiyán                 50.00   100.00  \n",
       "Alemania                   50.00   100.00  \n",
       "Moldavia                   50.00   100.00  \n",
       "Ucrania                    62.50    75.00  \n",
       "Turquía                    33.33    66.66  \n",
       "Francia                    66.67    66.66  \n",
       "Italia                     33.33    66.66  \n",
       "Letonia                    33.33    66.66  \n",
       "Bulgaria                   30.00    60.00  \n",
       "Bielorrusia                22.22    44.44  \n",
       "Rusia                      85.00    30.00  \n",
       "Armenia                    14.29    28.58  \n",
       "Rumania                    88.89    22.22  \n",
       "Reino Unido               100.00     0.00  \n",
       "Suecia                    100.00     0.00  \n",
       "Albania                     0.00     0.00  \n",
       "Polonia                   100.00     0.00  \n",
       "España                    100.00     0.00  \n",
       "Bélgica                   100.00     0.00  \n",
       "Austria                   100.00     0.00  \n",
       "Georgia                     0.00     0.00  "
      ]
     },
     "execution_count": 48,
     "metadata": {},
     "output_type": "execute_result"
    }
   ],
   "source": [
    "df_equidad.sort_values(by='Equidad', ascending = False)"
   ]
  },
  {
   "cell_type": "markdown",
   "id": "4963a6b4",
   "metadata": {},
   "source": [
    "Realizo una crosstab para tener en cuenta también el peso del número de medallas que aporta el país al total.\n",
    "\n",
    "Vemos que los países más equitativos son Arzebayán, Alemania y Moldavia, aunque cada género solo tiene 1 medalla por país. Cada uno aporta el 1,67% del total de medallas.\n",
    "\n",
    "Los países menos equitativos son Reino Unido, Suecia, Albania, Polonia, España, Bélgica, Austria, Georgia.\n",
    "\n",
    "Destacan de estos últimos Reino Unido con 6 medallas femeninas, que aporta el 5% de las medallas y Georgia con 9 medallas masculinas, que aporta el 7,50% de las medallas. Estos dos países solo aportan medallas de un género.\n",
    "\n",
    "Y aunque tienen algunas medallas del otro género destacan Rusia (16,7% del total) con 17 medallas femeninas y Armenia(11,67% del total) con 12 masculinas. Se podría decir que los grandes países medalleros se especializan en un solo género."
   ]
  },
  {
   "cell_type": "code",
   "execution_count": 49,
   "id": "100159f6",
   "metadata": {},
   "outputs": [
    {
     "name": "stdout",
     "output_type": "stream",
     "text": [
      "Los países con mayor equidad ponderada son: Bulgaria, Rusia, Turquía, Ucrania\n",
      "Los países con menor equidad ponderada son: Albania, Austria, Bélgica, España, Georgia, Polonia, Reino Unido, Suecia\n",
      "Los países que solo aportan medallas de un género son: Albania, Austria, Bélgica, España, Georgia, Polonia, Reino Unido, Suecia\n",
      "\n",
      "\n",
      "=== TABLA DE EQUIDAD DE GÉNERO POR PAÍSES ===\n"
     ]
    },
    {
     "data": {
      "text/html": [
       "<div>\n",
       "<style scoped>\n",
       "    .dataframe tbody tr th:only-of-type {\n",
       "        vertical-align: middle;\n",
       "    }\n",
       "\n",
       "    .dataframe tbody tr th {\n",
       "        vertical-align: top;\n",
       "    }\n",
       "\n",
       "    .dataframe thead th {\n",
       "        text-align: right;\n",
       "    }\n",
       "</style>\n",
       "<table border=\"1\" class=\"dataframe\">\n",
       "  <thead>\n",
       "    <tr style=\"text-align: right;\">\n",
       "      <th>Genero</th>\n",
       "      <th>Total Medallas</th>\n",
       "      <th>Medallas Masculinas</th>\n",
       "      <th>Medallas Femeninas</th>\n",
       "      <th>Equidad (%)</th>\n",
       "      <th>% del Total Global</th>\n",
       "      <th>Equidad Ponderada</th>\n",
       "    </tr>\n",
       "    <tr>\n",
       "      <th>País</th>\n",
       "      <th></th>\n",
       "      <th></th>\n",
       "      <th></th>\n",
       "      <th></th>\n",
       "      <th></th>\n",
       "      <th></th>\n",
       "    </tr>\n",
       "  </thead>\n",
       "  <tbody>\n",
       "    <tr>\n",
       "      <th>Ucrania</th>\n",
       "      <td>8</td>\n",
       "      <td>3</td>\n",
       "      <td>5</td>\n",
       "      <td>75.00</td>\n",
       "      <td>6.67</td>\n",
       "      <td>5.00</td>\n",
       "    </tr>\n",
       "    <tr>\n",
       "      <th>Turquía</th>\n",
       "      <td>9</td>\n",
       "      <td>6</td>\n",
       "      <td>3</td>\n",
       "      <td>66.66</td>\n",
       "      <td>7.50</td>\n",
       "      <td>5.00</td>\n",
       "    </tr>\n",
       "    <tr>\n",
       "      <th>Bulgaria</th>\n",
       "      <td>10</td>\n",
       "      <td>7</td>\n",
       "      <td>3</td>\n",
       "      <td>60.00</td>\n",
       "      <td>8.33</td>\n",
       "      <td>5.00</td>\n",
       "    </tr>\n",
       "    <tr>\n",
       "      <th>Rusia</th>\n",
       "      <td>20</td>\n",
       "      <td>3</td>\n",
       "      <td>17</td>\n",
       "      <td>30.00</td>\n",
       "      <td>16.67</td>\n",
       "      <td>5.00</td>\n",
       "    </tr>\n",
       "    <tr>\n",
       "      <th>Armenia</th>\n",
       "      <td>14</td>\n",
       "      <td>12</td>\n",
       "      <td>2</td>\n",
       "      <td>28.58</td>\n",
       "      <td>11.67</td>\n",
       "      <td>3.33</td>\n",
       "    </tr>\n",
       "    <tr>\n",
       "      <th>Bielorrusia</th>\n",
       "      <td>9</td>\n",
       "      <td>7</td>\n",
       "      <td>2</td>\n",
       "      <td>44.44</td>\n",
       "      <td>7.50</td>\n",
       "      <td>3.33</td>\n",
       "    </tr>\n",
       "    <tr>\n",
       "      <th>Italia</th>\n",
       "      <td>6</td>\n",
       "      <td>4</td>\n",
       "      <td>2</td>\n",
       "      <td>66.66</td>\n",
       "      <td>5.00</td>\n",
       "      <td>3.33</td>\n",
       "    </tr>\n",
       "    <tr>\n",
       "      <th>Azerbaiyán</th>\n",
       "      <td>2</td>\n",
       "      <td>1</td>\n",
       "      <td>1</td>\n",
       "      <td>100.00</td>\n",
       "      <td>1.67</td>\n",
       "      <td>1.67</td>\n",
       "    </tr>\n",
       "    <tr>\n",
       "      <th>Francia</th>\n",
       "      <td>3</td>\n",
       "      <td>1</td>\n",
       "      <td>2</td>\n",
       "      <td>66.66</td>\n",
       "      <td>2.50</td>\n",
       "      <td>1.67</td>\n",
       "    </tr>\n",
       "    <tr>\n",
       "      <th>Alemania</th>\n",
       "      <td>2</td>\n",
       "      <td>1</td>\n",
       "      <td>1</td>\n",
       "      <td>100.00</td>\n",
       "      <td>1.67</td>\n",
       "      <td>1.67</td>\n",
       "    </tr>\n",
       "    <tr>\n",
       "      <th>Letonia</th>\n",
       "      <td>3</td>\n",
       "      <td>2</td>\n",
       "      <td>1</td>\n",
       "      <td>66.66</td>\n",
       "      <td>2.50</td>\n",
       "      <td>1.67</td>\n",
       "    </tr>\n",
       "    <tr>\n",
       "      <th>Moldavia</th>\n",
       "      <td>2</td>\n",
       "      <td>1</td>\n",
       "      <td>1</td>\n",
       "      <td>100.00</td>\n",
       "      <td>1.67</td>\n",
       "      <td>1.67</td>\n",
       "    </tr>\n",
       "    <tr>\n",
       "      <th>Rumania</th>\n",
       "      <td>9</td>\n",
       "      <td>1</td>\n",
       "      <td>8</td>\n",
       "      <td>22.22</td>\n",
       "      <td>7.50</td>\n",
       "      <td>1.67</td>\n",
       "    </tr>\n",
       "    <tr>\n",
       "      <th>Reino Unido</th>\n",
       "      <td>6</td>\n",
       "      <td>0</td>\n",
       "      <td>6</td>\n",
       "      <td>0.00</td>\n",
       "      <td>5.00</td>\n",
       "      <td>0.00</td>\n",
       "    </tr>\n",
       "    <tr>\n",
       "      <th>Suecia</th>\n",
       "      <td>1</td>\n",
       "      <td>0</td>\n",
       "      <td>1</td>\n",
       "      <td>0.00</td>\n",
       "      <td>0.83</td>\n",
       "      <td>0.00</td>\n",
       "    </tr>\n",
       "    <tr>\n",
       "      <th>Albania</th>\n",
       "      <td>2</td>\n",
       "      <td>2</td>\n",
       "      <td>0</td>\n",
       "      <td>0.00</td>\n",
       "      <td>1.67</td>\n",
       "      <td>0.00</td>\n",
       "    </tr>\n",
       "    <tr>\n",
       "      <th>Polonia</th>\n",
       "      <td>1</td>\n",
       "      <td>0</td>\n",
       "      <td>1</td>\n",
       "      <td>0.00</td>\n",
       "      <td>0.83</td>\n",
       "      <td>0.00</td>\n",
       "    </tr>\n",
       "    <tr>\n",
       "      <th>España</th>\n",
       "      <td>1</td>\n",
       "      <td>0</td>\n",
       "      <td>1</td>\n",
       "      <td>0.00</td>\n",
       "      <td>0.83</td>\n",
       "      <td>0.00</td>\n",
       "    </tr>\n",
       "    <tr>\n",
       "      <th>Bélgica</th>\n",
       "      <td>2</td>\n",
       "      <td>0</td>\n",
       "      <td>2</td>\n",
       "      <td>0.00</td>\n",
       "      <td>1.67</td>\n",
       "      <td>0.00</td>\n",
       "    </tr>\n",
       "    <tr>\n",
       "      <th>Austria</th>\n",
       "      <td>1</td>\n",
       "      <td>0</td>\n",
       "      <td>1</td>\n",
       "      <td>0.00</td>\n",
       "      <td>0.83</td>\n",
       "      <td>0.00</td>\n",
       "    </tr>\n",
       "    <tr>\n",
       "      <th>Georgia</th>\n",
       "      <td>9</td>\n",
       "      <td>9</td>\n",
       "      <td>0</td>\n",
       "      <td>0.00</td>\n",
       "      <td>7.50</td>\n",
       "      <td>0.00</td>\n",
       "    </tr>\n",
       "  </tbody>\n",
       "</table>\n",
       "</div>"
      ],
      "text/plain": [
       "Genero       Total Medallas  Medallas Masculinas  Medallas Femeninas  \\\n",
       "País                                                                   \n",
       "Ucrania                   8                    3                   5   \n",
       "Turquía                   9                    6                   3   \n",
       "Bulgaria                 10                    7                   3   \n",
       "Rusia                    20                    3                  17   \n",
       "Armenia                  14                   12                   2   \n",
       "Bielorrusia               9                    7                   2   \n",
       "Italia                    6                    4                   2   \n",
       "Azerbaiyán                2                    1                   1   \n",
       "Francia                   3                    1                   2   \n",
       "Alemania                  2                    1                   1   \n",
       "Letonia                   3                    2                   1   \n",
       "Moldavia                  2                    1                   1   \n",
       "Rumania                   9                    1                   8   \n",
       "Reino Unido               6                    0                   6   \n",
       "Suecia                    1                    0                   1   \n",
       "Albania                   2                    2                   0   \n",
       "Polonia                   1                    0                   1   \n",
       "España                    1                    0                   1   \n",
       "Bélgica                   2                    0                   2   \n",
       "Austria                   1                    0                   1   \n",
       "Georgia                   9                    9                   0   \n",
       "\n",
       "Genero       Equidad (%)  % del Total Global  Equidad Ponderada  \n",
       "País                                                             \n",
       "Ucrania            75.00                6.67               5.00  \n",
       "Turquía            66.66                7.50               5.00  \n",
       "Bulgaria           60.00                8.33               5.00  \n",
       "Rusia              30.00               16.67               5.00  \n",
       "Armenia            28.58               11.67               3.33  \n",
       "Bielorrusia        44.44                7.50               3.33  \n",
       "Italia             66.66                5.00               3.33  \n",
       "Azerbaiyán        100.00                1.67               1.67  \n",
       "Francia            66.66                2.50               1.67  \n",
       "Alemania          100.00                1.67               1.67  \n",
       "Letonia            66.66                2.50               1.67  \n",
       "Moldavia          100.00                1.67               1.67  \n",
       "Rumania            22.22                7.50               1.67  \n",
       "Reino Unido         0.00                5.00               0.00  \n",
       "Suecia              0.00                0.83               0.00  \n",
       "Albania             0.00                1.67               0.00  \n",
       "Polonia             0.00                0.83               0.00  \n",
       "España              0.00                0.83               0.00  \n",
       "Bélgica             0.00                1.67               0.00  \n",
       "Austria             0.00                0.83               0.00  \n",
       "Georgia             0.00                7.50               0.00  "
      ]
     },
     "execution_count": 49,
     "metadata": {},
     "output_type": "execute_result"
    }
   ],
   "source": [
    "#Calcular el total de medallas por país y el porcentaje de medallas por país\n",
    "\n",
    "total_medallas = df_equidad['Total'].sum()\n",
    "df_equidad['Porcentaje_Medallas'] = (df_equidad['Total'] / total_medallas) * 100\n",
    "\n",
    "# Calcular la equidad ponderada usando los valores de equidad y el peso de las medallas \n",
    "df_equidad['Equidad_Ponderada'] = (df_equidad['Equidad'] * (df_equidad['Porcentaje_Medallas'] / 100)).round(2)\n",
    "\n",
    "\n",
    "# Mostrar los países con mayor y menor equidad ponderada\n",
    "# País o países con la mayor equidad ponderada \n",
    "max_eq_pond = df_equidad['Equidad_Ponderada'].max() \n",
    "paises_max = df_equidad[df_equidad['Equidad_Ponderada'] == max_eq_pond].index.tolist()\n",
    "\n",
    "if len(paises_max) == 1:\n",
    "    print(f\"El país con mayor equidad ponderada es: {paises_max[0]}\") \n",
    "else:\n",
    "    print(f\"Los países con mayor equidad ponderada son: {', '.join(map(str, paises_max))}\")\n",
    "\n",
    "# País o países con la menor equidad ponderada \n",
    "min_eq_pond = df_equidad['Equidad_Ponderada'].min() \n",
    "paises_min = df_equidad[df_equidad['Equidad_Ponderada'] == min_eq_pond].index.tolist()\n",
    "\n",
    "if len(paises_min) == 1:\n",
    "    print(f\"El país con menor equidad ponderada es: {paises_min[0]}\") \n",
    "else:\n",
    "    print(f\"Los países con menor equidad ponderada son: {', '.join(map(str, paises_min))}\")\n",
    "\n",
    "# Mostrar los países que solo aportan medallas de un género \n",
    "paises_unico_genero = df_equidad[(df_equidad['Femenino'] == 0) | (df_equidad['Masculino'] == 0)].index.tolist() \n",
    "print(f\"Los países que solo aportan medallas de un género son: {', '.join(paises_unico_genero)}\")\n",
    "\n",
    "# Tabla de resultados\n",
    "df_resultados = df_equidad.sort_values(by='Equidad_Ponderada', ascending=False)\n",
    "\n",
    "tabla_resultados = df_resultados[['Total', 'Masculino', 'Femenino', 'Equidad', 'Porcentaje_Medallas', 'Equidad_Ponderada']]\n",
    "tabla_resultados = tabla_resultados.rename(columns={\n",
    "    'Total': 'Total Medallas',\n",
    "    'Masculino': 'Medallas Masculinas',\n",
    "    'Femenino': 'Medallas Femeninas',\n",
    "    'Equidad': 'Equidad (%)',\n",
    "    'Porcentaje_Medallas': '% del Total Global',\n",
    "    'Equidad_Ponderada': 'Equidad Ponderada'\n",
    "})\n",
    "\n",
    "tabla_resultados['Equidad (%)'] = tabla_resultados['Equidad (%)'].round(2)\n",
    "tabla_resultados['% del Total Global'] = tabla_resultados['% del Total Global'].round(2)\n",
    "\n",
    "\n",
    "print(\"\\n\\n=== TABLA DE EQUIDAD DE GÉNERO POR PAÍSES ===\")\n",
    "tabla_resultados\n"
   ]
  },
  {
   "cell_type": "markdown",
   "id": "db6af3c7",
   "metadata": {},
   "source": [
    "### <span style=\"color: #2A8E3C;\"> ¿En qué país es menor la diferencia entre el promedio de puntos totales conseguidos por atletas femeninos y masculinos? </span>"
   ]
  },
  {
   "cell_type": "code",
   "execution_count": 50,
   "id": "f5b0a189",
   "metadata": {},
   "outputs": [
    {
     "name": "stdout",
     "output_type": "stream",
     "text": [
      "El país con menor diferencia entre el promedio de puntos totales conseguidos por atletas femeninos y masculinos es: Rumania\n"
     ]
    }
   ],
   "source": [
    "# Crear una copia del DataFrame original\n",
    "df_equidad_medallas = df_columnas.copy()\n",
    "\n",
    "# Obtener el promedio de puntos totales por país y género\n",
    "df_equidad_medallas = df_equidad_medallas[['País', 'Genero', 'Total']].groupby(['País', 'Genero'])['Total'].mean().to_frame().reset_index().pivot_table(index='País', columns='Genero', values='Total', fill_value=0).astype(int)\n",
    "\n",
    "# Calcular la diferencia absoluta entre puntos de atletas femeninos y masculinos\n",
    "df_equidad_medallas['Diferencia'] = abs(df_equidad_medallas['Femenino'] - df_equidad_medallas['Masculino'])\n",
    "\n",
    "# Encontrar el valor mínimo de diferencia\n",
    "min_diferencia = df_equidad_medallas['Diferencia'].min()\n",
    "\n",
    "# Identificar todos los países con la diferencia mínima\n",
    "paises_min_diferencia = df_equidad_medallas[df_equidad_medallas['Diferencia'] == min_diferencia].index.tolist()\n",
    "\n",
    "# Mostrar resultado según la cantidad de países encontrados\n",
    "if len(paises_min_diferencia) == 1:\n",
    "    print(f\"El país con menor diferencia entre el promedio de puntos totales conseguidos por atletas femeninos y masculinos es: {paises_min_diferencia[0]}\")\n",
    "else:\n",
    "    print(f\"Los países con menor diferencia entre el promedio de puntos totales conseguidos por atletas femeninos y masculinos son: {', '.join(paises_min_diferencia)}\")"
   ]
  },
  {
   "cell_type": "code",
   "execution_count": 51,
   "id": "84cc7c37",
   "metadata": {},
   "outputs": [
    {
     "data": {
      "text/html": [
       "<div>\n",
       "<style scoped>\n",
       "    .dataframe tbody tr th:only-of-type {\n",
       "        vertical-align: middle;\n",
       "    }\n",
       "\n",
       "    .dataframe tbody tr th {\n",
       "        vertical-align: top;\n",
       "    }\n",
       "\n",
       "    .dataframe thead th {\n",
       "        text-align: right;\n",
       "    }\n",
       "</style>\n",
       "<table border=\"1\" class=\"dataframe\">\n",
       "  <thead>\n",
       "    <tr style=\"text-align: right;\">\n",
       "      <th>Genero</th>\n",
       "      <th>Femenino</th>\n",
       "      <th>Masculino</th>\n",
       "      <th>Diferencia</th>\n",
       "    </tr>\n",
       "    <tr>\n",
       "      <th>País</th>\n",
       "      <th></th>\n",
       "      <th></th>\n",
       "      <th></th>\n",
       "    </tr>\n",
       "  </thead>\n",
       "  <tbody>\n",
       "    <tr>\n",
       "      <th>Rumania</th>\n",
       "      <td>213</td>\n",
       "      <td>248</td>\n",
       "      <td>35</td>\n",
       "    </tr>\n",
       "    <tr>\n",
       "      <th>Alemania</th>\n",
       "      <td>222</td>\n",
       "      <td>311</td>\n",
       "      <td>89</td>\n",
       "    </tr>\n",
       "    <tr>\n",
       "      <th>Francia</th>\n",
       "      <td>220</td>\n",
       "      <td>312</td>\n",
       "      <td>92</td>\n",
       "    </tr>\n",
       "    <tr>\n",
       "      <th>Moldavia</th>\n",
       "      <td>245</td>\n",
       "      <td>339</td>\n",
       "      <td>94</td>\n",
       "    </tr>\n",
       "    <tr>\n",
       "      <th>Ucrania</th>\n",
       "      <td>242</td>\n",
       "      <td>348</td>\n",
       "      <td>106</td>\n",
       "    </tr>\n",
       "    <tr>\n",
       "      <th>Turquía</th>\n",
       "      <td>185</td>\n",
       "      <td>293</td>\n",
       "      <td>108</td>\n",
       "    </tr>\n",
       "    <tr>\n",
       "      <th>Italia</th>\n",
       "      <td>198</td>\n",
       "      <td>326</td>\n",
       "      <td>128</td>\n",
       "    </tr>\n",
       "    <tr>\n",
       "      <th>Letonia</th>\n",
       "      <td>221</td>\n",
       "      <td>350</td>\n",
       "      <td>129</td>\n",
       "    </tr>\n",
       "    <tr>\n",
       "      <th>Bulgaria</th>\n",
       "      <td>155</td>\n",
       "      <td>320</td>\n",
       "      <td>165</td>\n",
       "    </tr>\n",
       "    <tr>\n",
       "      <th>Bielorrusia</th>\n",
       "      <td>196</td>\n",
       "      <td>362</td>\n",
       "      <td>166</td>\n",
       "    </tr>\n",
       "    <tr>\n",
       "      <th>Azerbaiyán</th>\n",
       "      <td>211</td>\n",
       "      <td>379</td>\n",
       "      <td>168</td>\n",
       "    </tr>\n",
       "    <tr>\n",
       "      <th>Rusia</th>\n",
       "      <td>225</td>\n",
       "      <td>396</td>\n",
       "      <td>171</td>\n",
       "    </tr>\n",
       "    <tr>\n",
       "      <th>Armenia</th>\n",
       "      <td>222</td>\n",
       "      <td>397</td>\n",
       "      <td>175</td>\n",
       "    </tr>\n",
       "    <tr>\n",
       "      <th>Polonia</th>\n",
       "      <td>199</td>\n",
       "      <td>0</td>\n",
       "      <td>199</td>\n",
       "    </tr>\n",
       "    <tr>\n",
       "      <th>Bélgica</th>\n",
       "      <td>209</td>\n",
       "      <td>0</td>\n",
       "      <td>209</td>\n",
       "    </tr>\n",
       "    <tr>\n",
       "      <th>Austria</th>\n",
       "      <td>231</td>\n",
       "      <td>0</td>\n",
       "      <td>231</td>\n",
       "    </tr>\n",
       "    <tr>\n",
       "      <th>Suecia</th>\n",
       "      <td>233</td>\n",
       "      <td>0</td>\n",
       "      <td>233</td>\n",
       "    </tr>\n",
       "    <tr>\n",
       "      <th>Reino Unido</th>\n",
       "      <td>238</td>\n",
       "      <td>0</td>\n",
       "      <td>238</td>\n",
       "    </tr>\n",
       "    <tr>\n",
       "      <th>España</th>\n",
       "      <td>241</td>\n",
       "      <td>0</td>\n",
       "      <td>241</td>\n",
       "    </tr>\n",
       "    <tr>\n",
       "      <th>Albania</th>\n",
       "      <td>0</td>\n",
       "      <td>337</td>\n",
       "      <td>337</td>\n",
       "    </tr>\n",
       "    <tr>\n",
       "      <th>Georgia</th>\n",
       "      <td>0</td>\n",
       "      <td>391</td>\n",
       "      <td>391</td>\n",
       "    </tr>\n",
       "  </tbody>\n",
       "</table>\n",
       "</div>"
      ],
      "text/plain": [
       "Genero       Femenino  Masculino  Diferencia\n",
       "País                                        \n",
       "Rumania           213        248          35\n",
       "Alemania          222        311          89\n",
       "Francia           220        312          92\n",
       "Moldavia          245        339          94\n",
       "Ucrania           242        348         106\n",
       "Turquía           185        293         108\n",
       "Italia            198        326         128\n",
       "Letonia           221        350         129\n",
       "Bulgaria          155        320         165\n",
       "Bielorrusia       196        362         166\n",
       "Azerbaiyán        211        379         168\n",
       "Rusia             225        396         171\n",
       "Armenia           222        397         175\n",
       "Polonia           199          0         199\n",
       "Bélgica           209          0         209\n",
       "Austria           231          0         231\n",
       "Suecia            233          0         233\n",
       "Reino Unido       238          0         238\n",
       "España            241          0         241\n",
       "Albania             0        337         337\n",
       "Georgia             0        391         391"
      ]
     },
     "execution_count": 51,
     "metadata": {},
     "output_type": "execute_result"
    }
   ],
   "source": [
    "df_equidad_medallas.sort_values(by='Diferencia', ascending = True)"
   ]
  },
  {
   "cell_type": "markdown",
   "id": "c56adb61",
   "metadata": {},
   "source": [
    "# <span style=\"color: #2A8E3C;\"> **Fase 2.** Web scraping </span>"
   ]
  },
  {
   "cell_type": "markdown",
   "id": "69272a6c",
   "metadata": {},
   "source": [
    "## <span style=\"color: #2A8E3C;\"> Paso 1. Importar librerías </span>"
   ]
  },
  {
   "cell_type": "code",
   "execution_count": 52,
   "id": "b3fca1c2",
   "metadata": {},
   "outputs": [],
   "source": [
    "from bs4 import BeautifulSoup\n",
    "import requests"
   ]
  },
  {
   "cell_type": "markdown",
   "id": "929cabb2",
   "metadata": {},
   "source": [
    "## <span style=\"color: #2A8E3C;\"> Paso 2. Cargar datos </span>"
   ]
  },
  {
   "cell_type": "code",
   "execution_count": 53,
   "id": "447c82d4",
   "metadata": {},
   "outputs": [],
   "source": [
    "urls = 'https://es.wikipedia.org/wiki/Campeonato_Europeo_de_Halterofilia_de_2021', 'https://es.wikipedia.org/wiki/Campeonato_Europeo_de_Halterofilia_de_2022' , 'https://es.wikipedia.org/wiki/Campeonato_Europeo_de_Halterofilia_de_2023' ,'https://es.wikipedia.org/wiki/Campeonato_Europeo_de_Halterofilia_de_2024'\n",
    "dict_datos_ = {}\n",
    "\n",
    "for url in urls:\n",
    "    # Extraer el año de la URL\n",
    "    año = url.split('_')[-1]  # Separamos por '_' y tomamos el último elemento\n",
    "    response = requests.get(url)\n",
    "    soup = BeautifulSoup(response.text, 'html.parser')\n",
    "    tables = pd.read_html(response.text)\n",
    "    #Tras analizar las tablas, las que me interesan son la 2 y la 3. En la 2 están los hombres y en la 3 las mujeres.\n",
    "    #Creo la columna 'Genero' para poder unirla con los DataFrames de los años anteriores.\n",
    "    for table in tables:\n",
    "        df_male = tables[2]\n",
    "        df_male['Genero'] = 'Masculino'\n",
    "        df_female= tables[3]\n",
    "        df_female['Genero'] = 'Femenino'\n",
    "    df_= pd.concat([df_male, df_female] , ignore_index= True)\n",
    "    #Creo la columna 'Año' a partir del contador_año.\n",
    "    df_['Año'] = año \n",
    "    dict_datos_[url] = df_\n",
    "    df_.columns = ['Eventos', 'Oro', 'Plata', 'Bronce', 'Genero', 'Año']"
   ]
  },
  {
   "cell_type": "code",
   "execution_count": 54,
   "id": "3ea7f0f0",
   "metadata": {},
   "outputs": [
    {
     "data": {
      "text/plain": [
       "dict_keys(['https://es.wikipedia.org/wiki/Campeonato_Europeo_de_Halterofilia_de_2021', 'https://es.wikipedia.org/wiki/Campeonato_Europeo_de_Halterofilia_de_2022', 'https://es.wikipedia.org/wiki/Campeonato_Europeo_de_Halterofilia_de_2023', 'https://es.wikipedia.org/wiki/Campeonato_Europeo_de_Halterofilia_de_2024'])"
      ]
     },
     "execution_count": 54,
     "metadata": {},
     "output_type": "execute_result"
    }
   ],
   "source": [
    "dict_datos_.keys()"
   ]
  },
  {
   "cell_type": "markdown",
   "id": "08b62117",
   "metadata": {},
   "source": [
    "## <span style=\"color: #2A8E3C;\"> Paso 3. Exploración inicial </span> "
   ]
  },
  {
   "cell_type": "code",
   "execution_count": 55,
   "id": "f8e90a0a",
   "metadata": {},
   "outputs": [
    {
     "name": "stdout",
     "output_type": "stream",
     "text": [
      "________________________________________________________________________\n",
      "https://es.wikipedia.org/wiki/Campeonato_Europeo_de_Halterofilia_de_2021\n",
      "________________________________________________________________________\n",
      "¿Cuántas filas y columnas hay en el conjunto de datos?\n",
      "\tHay 20 filas y 6 columnas.\n",
      "\n",
      "########################################################################################\n",
      "¿Cuáles son las primeras cinco filas del conjunto de datos?\n"
     ]
    },
    {
     "data": {
      "text/html": [
       "<div>\n",
       "<style scoped>\n",
       "    .dataframe tbody tr th:only-of-type {\n",
       "        vertical-align: middle;\n",
       "    }\n",
       "\n",
       "    .dataframe tbody tr th {\n",
       "        vertical-align: top;\n",
       "    }\n",
       "\n",
       "    .dataframe thead th {\n",
       "        text-align: right;\n",
       "    }\n",
       "</style>\n",
       "<table border=\"1\" class=\"dataframe\">\n",
       "  <thead>\n",
       "    <tr style=\"text-align: right;\">\n",
       "      <th></th>\n",
       "      <th>Eventos</th>\n",
       "      <th>Oro</th>\n",
       "      <th>Plata</th>\n",
       "      <th>Bronce</th>\n",
       "      <th>Genero</th>\n",
       "      <th>Año</th>\n",
       "    </tr>\n",
       "  </thead>\n",
       "  <tbody>\n",
       "    <tr>\n",
       "      <th>0</th>\n",
       "      <td>55 kg (04.04)</td>\n",
       "      <td>Anguel Rusev Bulgaria  111 + 147 = 258[n 1]​</td>\n",
       "      <td>Valentin Iancu Rumania  108 + 140 = 248[n 1]​</td>\n",
       "      <td>Dmytro Voronovsky Ucrania  110 + 137 = 247[n 1]​</td>\n",
       "      <td>Masculino</td>\n",
       "      <td>2021</td>\n",
       "    </tr>\n",
       "    <tr>\n",
       "      <th>1</th>\n",
       "      <td>61 kg (04.04)</td>\n",
       "      <td>Stilian Grozdev Bulgaria  136 + 160 = 296</td>\n",
       "      <td>Shota Mishvelidze Georgia  135 + 155 = 290</td>\n",
       "      <td>Ferdi Hardal Turquía  130 + 157 = 287</td>\n",
       "      <td>Masculino</td>\n",
       "      <td>2021</td>\n",
       "    </tr>\n",
       "    <tr>\n",
       "      <th>2</th>\n",
       "      <td>67 kg (05.04)</td>\n",
       "      <td>Muhammed Özbek Turquía  145 + 178 = 323</td>\n",
       "      <td>Mirko Zanni Italia  148 + 170 = 318</td>\n",
       "      <td>Valentin Guenchev Bulgaria  138 + 177 = 315</td>\n",
       "      <td>Masculino</td>\n",
       "      <td>2021</td>\n",
       "    </tr>\n",
       "    <tr>\n",
       "      <th>3</th>\n",
       "      <td>73 kg (06.04)</td>\n",
       "      <td>Daniyar İsmayilov Turquía  160 + 181 = 341</td>\n",
       "      <td>Marin Robu Moldavia  156 + 183 = 339</td>\n",
       "      <td>Briken Calja Albania  152 + 184 = 336</td>\n",
       "      <td>Masculino</td>\n",
       "      <td>2021</td>\n",
       "    </tr>\n",
       "    <tr>\n",
       "      <th>4</th>\n",
       "      <td>81 kg (07.04)</td>\n",
       "      <td>Antonino Pizzolato Italia  164 + 206 = 370</td>\n",
       "      <td>Karlos Nasar Bulgaria  163 + 206 = 369</td>\n",
       "      <td>Ritvars Suharevs Letonia  157 + 190 = 347</td>\n",
       "      <td>Masculino</td>\n",
       "      <td>2021</td>\n",
       "    </tr>\n",
       "  </tbody>\n",
       "</table>\n",
       "</div>"
      ],
      "text/plain": [
       "         Eventos                                           Oro  \\\n",
       "0  55 kg (04.04)  Anguel Rusev Bulgaria  111 + 147 = 258[n 1]​   \n",
       "1  61 kg (04.04)     Stilian Grozdev Bulgaria  136 + 160 = 296   \n",
       "2  67 kg (05.04)       Muhammed Özbek Turquía  145 + 178 = 323   \n",
       "3  73 kg (06.04)    Daniyar İsmayilov Turquía  160 + 181 = 341   \n",
       "4  81 kg (07.04)    Antonino Pizzolato Italia  164 + 206 = 370   \n",
       "\n",
       "                                           Plata  \\\n",
       "0  Valentin Iancu Rumania  108 + 140 = 248[n 1]​   \n",
       "1     Shota Mishvelidze Georgia  135 + 155 = 290   \n",
       "2            Mirko Zanni Italia  148 + 170 = 318   \n",
       "3           Marin Robu Moldavia  156 + 183 = 339   \n",
       "4         Karlos Nasar Bulgaria  163 + 206 = 369   \n",
       "\n",
       "                                             Bronce     Genero   Año  \n",
       "0  Dmytro Voronovsky Ucrania  110 + 137 = 247[n 1]​  Masculino  2021  \n",
       "1             Ferdi Hardal Turquía  130 + 157 = 287  Masculino  2021  \n",
       "2       Valentin Guenchev Bulgaria  138 + 177 = 315  Masculino  2021  \n",
       "3             Briken Calja Albania  152 + 184 = 336  Masculino  2021  \n",
       "4         Ritvars Suharevs Letonia  157 + 190 = 347  Masculino  2021  "
      ]
     },
     "metadata": {},
     "output_type": "display_data"
    },
    {
     "name": "stdout",
     "output_type": "stream",
     "text": [
      "\n",
      "########################################################################################\n",
      "¿Cuáles son las últimas cinco filas del conjunto de datos?\n"
     ]
    },
    {
     "data": {
      "text/html": [
       "<div>\n",
       "<style scoped>\n",
       "    .dataframe tbody tr th:only-of-type {\n",
       "        vertical-align: middle;\n",
       "    }\n",
       "\n",
       "    .dataframe tbody tr th {\n",
       "        vertical-align: top;\n",
       "    }\n",
       "\n",
       "    .dataframe thead th {\n",
       "        text-align: right;\n",
       "    }\n",
       "</style>\n",
       "<table border=\"1\" class=\"dataframe\">\n",
       "  <thead>\n",
       "    <tr style=\"text-align: right;\">\n",
       "      <th></th>\n",
       "      <th>Eventos</th>\n",
       "      <th>Oro</th>\n",
       "      <th>Plata</th>\n",
       "      <th>Bronce</th>\n",
       "      <th>Genero</th>\n",
       "      <th>Año</th>\n",
       "    </tr>\n",
       "  </thead>\n",
       "  <tbody>\n",
       "    <tr>\n",
       "      <th>15</th>\n",
       "      <td>71 kg (07.04)</td>\n",
       "      <td>Emily Godley Reino Unido  98 + 129 = 227</td>\n",
       "      <td>Alessia Durante Italia  97 + 122 = 219</td>\n",
       "      <td>Raluca Olaru Rumania  98 + 120 = 218</td>\n",
       "      <td>Femenino</td>\n",
       "      <td>2021</td>\n",
       "    </tr>\n",
       "    <tr>\n",
       "      <th>16</th>\n",
       "      <td>76 kg (08.04)</td>\n",
       "      <td>Iryna Deja Ucrania  113 + 135 = 248</td>\n",
       "      <td>Yana Sotiyeva Rusia  112 + 134 = 246</td>\n",
       "      <td>Anastasiya Romanova Rusia  111 + 132 = 243</td>\n",
       "      <td>Femenino</td>\n",
       "      <td>2021</td>\n",
       "    </tr>\n",
       "    <tr>\n",
       "      <th>17</th>\n",
       "      <td>81 kg (09.04)</td>\n",
       "      <td>Alina Marushchak Ucrania  109 + 127 = 236</td>\n",
       "      <td>Gaëlle Nayo-Ketchanke Francia  100 + 131 = 231</td>\n",
       "      <td>Liana Guiurdzhian Armenia  98 + 129 = 227</td>\n",
       "      <td>Femenino</td>\n",
       "      <td>2021</td>\n",
       "    </tr>\n",
       "    <tr>\n",
       "      <th>18</th>\n",
       "      <td>87 kg (10.04)</td>\n",
       "      <td>Daria Ajmerova Rusia  108 + 138 = 246</td>\n",
       "      <td>Elena Cîlcic Moldavia  107 + 138 = 245</td>\n",
       "      <td>Daria Riazanova Rusia  105 + 135 = 240</td>\n",
       "      <td>Femenino</td>\n",
       "      <td>2021</td>\n",
       "    </tr>\n",
       "    <tr>\n",
       "      <th>19</th>\n",
       "      <td>+87 kg (11.04)</td>\n",
       "      <td>Emily Campbell Reino Unido  122 + 154 = 276</td>\n",
       "      <td>Anastasiya Lysenko Ucrania  116 + 136 = 252</td>\n",
       "      <td>Melike Günal Turquía  108 + 135 = 243</td>\n",
       "      <td>Femenino</td>\n",
       "      <td>2021</td>\n",
       "    </tr>\n",
       "  </tbody>\n",
       "</table>\n",
       "</div>"
      ],
      "text/plain": [
       "           Eventos                                          Oro  \\\n",
       "15   71 kg (07.04)     Emily Godley Reino Unido  98 + 129 = 227   \n",
       "16   76 kg (08.04)          Iryna Deja Ucrania  113 + 135 = 248   \n",
       "17   81 kg (09.04)    Alina Marushchak Ucrania  109 + 127 = 236   \n",
       "18   87 kg (10.04)        Daria Ajmerova Rusia  108 + 138 = 246   \n",
       "19  +87 kg (11.04)  Emily Campbell Reino Unido  122 + 154 = 276   \n",
       "\n",
       "                                             Plata  \\\n",
       "15          Alessia Durante Italia  97 + 122 = 219   \n",
       "16            Yana Sotiyeva Rusia  112 + 134 = 246   \n",
       "17  Gaëlle Nayo-Ketchanke Francia  100 + 131 = 231   \n",
       "18          Elena Cîlcic Moldavia  107 + 138 = 245   \n",
       "19     Anastasiya Lysenko Ucrania  116 + 136 = 252   \n",
       "\n",
       "                                        Bronce    Genero   Año  \n",
       "15        Raluca Olaru Rumania  98 + 120 = 218  Femenino  2021  \n",
       "16  Anastasiya Romanova Rusia  111 + 132 = 243  Femenino  2021  \n",
       "17   Liana Guiurdzhian Armenia  98 + 129 = 227  Femenino  2021  \n",
       "18      Daria Riazanova Rusia  105 + 135 = 240  Femenino  2021  \n",
       "19       Melike Günal Turquía  108 + 135 = 243  Femenino  2021  "
      ]
     },
     "metadata": {},
     "output_type": "display_data"
    },
    {
     "name": "stdout",
     "output_type": "stream",
     "text": [
      "\n",
      "########################################################################################\n",
      "¿Cómo puedes obtener una muestra aleatoria de filas del conjunto de datos?\n"
     ]
    },
    {
     "data": {
      "text/html": [
       "<div>\n",
       "<style scoped>\n",
       "    .dataframe tbody tr th:only-of-type {\n",
       "        vertical-align: middle;\n",
       "    }\n",
       "\n",
       "    .dataframe tbody tr th {\n",
       "        vertical-align: top;\n",
       "    }\n",
       "\n",
       "    .dataframe thead th {\n",
       "        text-align: right;\n",
       "    }\n",
       "</style>\n",
       "<table border=\"1\" class=\"dataframe\">\n",
       "  <thead>\n",
       "    <tr style=\"text-align: right;\">\n",
       "      <th></th>\n",
       "      <th>Eventos</th>\n",
       "      <th>Oro</th>\n",
       "      <th>Plata</th>\n",
       "      <th>Bronce</th>\n",
       "      <th>Genero</th>\n",
       "      <th>Año</th>\n",
       "    </tr>\n",
       "  </thead>\n",
       "  <tbody>\n",
       "    <tr>\n",
       "      <th>5</th>\n",
       "      <td>89 kg (08.04)</td>\n",
       "      <td>Karen Avaguian Armenia  175 + 200 = 375</td>\n",
       "      <td>Revaz Davitadze Georgia  171 + 203 = 374</td>\n",
       "      <td>Andranik Karapetian Armenia  170 + 195 = 365</td>\n",
       "      <td>Masculino</td>\n",
       "      <td>2021</td>\n",
       "    </tr>\n",
       "    <tr>\n",
       "      <th>6</th>\n",
       "      <td>96 kg (09.04)</td>\n",
       "      <td>Anton Pliesnoi Georgia  180 + 213 = 393</td>\n",
       "      <td>Piotr Asayonak Bielorrusia  172 + 202 = 374</td>\n",
       "      <td>Hakob Mkrtchian Armenia  160 + 212 = 372</td>\n",
       "      <td>Masculino</td>\n",
       "      <td>2021</td>\n",
       "    </tr>\n",
       "    <tr>\n",
       "      <th>8</th>\n",
       "      <td>109 kg (10.04)</td>\n",
       "      <td>Dmytro Chumak Ucrania  181 + 226 = 407</td>\n",
       "      <td>Jristo Jristov Bulgaria  186 + 220 = 406</td>\n",
       "      <td>Timur Naniyev Rusia  184 + 217 = 401</td>\n",
       "      <td>Masculino</td>\n",
       "      <td>2021</td>\n",
       "    </tr>\n",
       "    <tr>\n",
       "      <th>7</th>\n",
       "      <td>102 kg (10.04)</td>\n",
       "      <td>Samvel Gasparian Armenia  176 +214 = 390</td>\n",
       "      <td>Arsen Martirosian Armenia  171 + 209 = 380</td>\n",
       "      <td>Dadaş Dadaşbəyli Azerbaiyán  177 + 202 = 379</td>\n",
       "      <td>Masculino</td>\n",
       "      <td>2021</td>\n",
       "    </tr>\n",
       "    <tr>\n",
       "      <th>9</th>\n",
       "      <td>+109 kg (11.04)</td>\n",
       "      <td>Lasha Talajadze Georgia  222 + 263 = 485</td>\n",
       "      <td>Gor Minasian Armenia  216 + 248 = 464</td>\n",
       "      <td>Varazdat Lalayan Armenia  205 + 240 = 445</td>\n",
       "      <td>Masculino</td>\n",
       "      <td>2021</td>\n",
       "    </tr>\n",
       "  </tbody>\n",
       "</table>\n",
       "</div>"
      ],
      "text/plain": [
       "           Eventos                                       Oro  \\\n",
       "5    89 kg (08.04)   Karen Avaguian Armenia  175 + 200 = 375   \n",
       "6    96 kg (09.04)   Anton Pliesnoi Georgia  180 + 213 = 393   \n",
       "8   109 kg (10.04)    Dmytro Chumak Ucrania  181 + 226 = 407   \n",
       "7   102 kg (10.04)  Samvel Gasparian Armenia  176 +214 = 390   \n",
       "9  +109 kg (11.04)  Lasha Talajadze Georgia  222 + 263 = 485   \n",
       "\n",
       "                                         Plata  \\\n",
       "5     Revaz Davitadze Georgia  171 + 203 = 374   \n",
       "6  Piotr Asayonak Bielorrusia  172 + 202 = 374   \n",
       "8     Jristo Jristov Bulgaria  186 + 220 = 406   \n",
       "7   Arsen Martirosian Armenia  171 + 209 = 380   \n",
       "9        Gor Minasian Armenia  216 + 248 = 464   \n",
       "\n",
       "                                         Bronce     Genero   Año  \n",
       "5  Andranik Karapetian Armenia  170 + 195 = 365  Masculino  2021  \n",
       "6      Hakob Mkrtchian Armenia  160 + 212 = 372  Masculino  2021  \n",
       "8          Timur Naniyev Rusia  184 + 217 = 401  Masculino  2021  \n",
       "7  Dadaş Dadaşbəyli Azerbaiyán  177 + 202 = 379  Masculino  2021  \n",
       "9     Varazdat Lalayan Armenia  205 + 240 = 445  Masculino  2021  "
      ]
     },
     "metadata": {},
     "output_type": "display_data"
    },
    {
     "name": "stdout",
     "output_type": "stream",
     "text": [
      "\n",
      "########################################################################################\n",
      "¿Cuáles son las columnas del conjunto de datos?\n",
      "\t - Eventos\n",
      "\t - Oro\n",
      "\t - Plata\n",
      "\t - Bronce\n",
      "\t - Genero\n",
      "\t - Año\n",
      "\n",
      "########################################################################################\n",
      "¿Cuál es el tipo de datos de cada columna?\n",
      "Eventos    object\n",
      "Oro        object\n",
      "Plata      object\n",
      "Bronce     object\n",
      "Genero     object\n",
      "Año        object\n",
      "dtype: object\n",
      "\n",
      "########################################################################################\n",
      "¿Cuántas columnas hay de cada tipo de datos?\n",
      "object    6\n",
      "Name: count, dtype: int64\n",
      "\n",
      "########################################################################################\n",
      "¿Cómo podríamos obtener información más completa sobre la estructura y el contenido del DataFrame?\n",
      "<class 'pandas.core.frame.DataFrame'>\n",
      "RangeIndex: 20 entries, 0 to 19\n",
      "Data columns (total 6 columns):\n",
      " #   Column   Non-Null Count  Dtype \n",
      "---  ------   --------------  ----- \n",
      " 0   Eventos  20 non-null     object\n",
      " 1   Oro      20 non-null     object\n",
      " 2   Plata    20 non-null     object\n",
      " 3   Bronce   20 non-null     object\n",
      " 4   Genero   20 non-null     object\n",
      " 5   Año      20 non-null     object\n",
      "dtypes: object(6)\n",
      "memory usage: 1.1+ KB\n",
      "None\n",
      "\n",
      "########################################################################################\n",
      "¿Cuántos valores únicos tiene cada columna?\n",
      "Eventos    19\n",
      "Oro        20\n",
      "Plata      20\n",
      "Bronce     20\n",
      "Genero      2\n",
      "Año         1\n",
      "dtype: int64\n",
      "\n",
      "########################################################################################\n",
      "¿Cuáles son las estadísticas descriptivas básicas de todas las columnas?\n"
     ]
    },
    {
     "data": {
      "text/html": [
       "<div>\n",
       "<style scoped>\n",
       "    .dataframe tbody tr th:only-of-type {\n",
       "        vertical-align: middle;\n",
       "    }\n",
       "\n",
       "    .dataframe tbody tr th {\n",
       "        vertical-align: top;\n",
       "    }\n",
       "\n",
       "    .dataframe thead th {\n",
       "        text-align: right;\n",
       "    }\n",
       "</style>\n",
       "<table border=\"1\" class=\"dataframe\">\n",
       "  <thead>\n",
       "    <tr style=\"text-align: right;\">\n",
       "      <th></th>\n",
       "      <th>Eventos</th>\n",
       "      <th>Oro</th>\n",
       "      <th>Plata</th>\n",
       "      <th>Bronce</th>\n",
       "      <th>Genero</th>\n",
       "      <th>Año</th>\n",
       "    </tr>\n",
       "  </thead>\n",
       "  <tbody>\n",
       "    <tr>\n",
       "      <th>count</th>\n",
       "      <td>20</td>\n",
       "      <td>20</td>\n",
       "      <td>20</td>\n",
       "      <td>20</td>\n",
       "      <td>20</td>\n",
       "      <td>20</td>\n",
       "    </tr>\n",
       "    <tr>\n",
       "      <th>unique</th>\n",
       "      <td>19</td>\n",
       "      <td>20</td>\n",
       "      <td>20</td>\n",
       "      <td>20</td>\n",
       "      <td>2</td>\n",
       "      <td>1</td>\n",
       "    </tr>\n",
       "    <tr>\n",
       "      <th>top</th>\n",
       "      <td>55 kg (04.04)</td>\n",
       "      <td>Anguel Rusev Bulgaria  111 + 147 = 258[n 1]​</td>\n",
       "      <td>Valentin Iancu Rumania  108 + 140 = 248[n 1]​</td>\n",
       "      <td>Dmytro Voronovsky Ucrania  110 + 137 = 247[n 1]​</td>\n",
       "      <td>Masculino</td>\n",
       "      <td>2021</td>\n",
       "    </tr>\n",
       "    <tr>\n",
       "      <th>freq</th>\n",
       "      <td>2</td>\n",
       "      <td>1</td>\n",
       "      <td>1</td>\n",
       "      <td>1</td>\n",
       "      <td>10</td>\n",
       "      <td>20</td>\n",
       "    </tr>\n",
       "  </tbody>\n",
       "</table>\n",
       "</div>"
      ],
      "text/plain": [
       "              Eventos                                           Oro  \\\n",
       "count              20                                            20   \n",
       "unique             19                                            20   \n",
       "top     55 kg (04.04)  Anguel Rusev Bulgaria  111 + 147 = 258[n 1]​   \n",
       "freq                2                                             1   \n",
       "\n",
       "                                                Plata  \\\n",
       "count                                              20   \n",
       "unique                                             20   \n",
       "top     Valentin Iancu Rumania  108 + 140 = 248[n 1]​   \n",
       "freq                                                1   \n",
       "\n",
       "                                                  Bronce     Genero   Año  \n",
       "count                                                 20         20    20  \n",
       "unique                                                20          2     1  \n",
       "top     Dmytro Voronovsky Ucrania  110 + 137 = 247[n 1]​  Masculino  2021  \n",
       "freq                                                   1         10    20  "
      ]
     },
     "metadata": {},
     "output_type": "display_data"
    },
    {
     "name": "stdout",
     "output_type": "stream",
     "text": [
      "\n",
      "########################################################################################\n",
      "¿Hay valores nulos en el conjunto de datos?\n",
      "Eventos    0\n",
      "Oro        0\n",
      "Plata      0\n",
      "Bronce     0\n",
      "Genero     0\n",
      "Año        0\n",
      "dtype: int64\n",
      "\n",
      "########################################################################################\n",
      "¿Cuál es el porcentaje de valores nulos en cada columna?\n",
      "Eventos    0.0\n",
      "Oro        0.0\n",
      "Plata      0.0\n",
      "Bronce     0.0\n",
      "Genero     0.0\n",
      "Año        0.0\n",
      "dtype: float64\n",
      "\n",
      "########################################################################################\n",
      "¿Hay filas duplicadas en el conjunto de datos?\n",
      "\tExisten duplicados: False\n",
      "\tNúmero total de filas duplicadas: 0\n",
      "\n",
      "########################################################################################\n",
      "________________________________________________________________________\n",
      "https://es.wikipedia.org/wiki/Campeonato_Europeo_de_Halterofilia_de_2022\n",
      "________________________________________________________________________\n",
      "¿Cuántas filas y columnas hay en el conjunto de datos?\n",
      "\tHay 20 filas y 6 columnas.\n",
      "\n",
      "########################################################################################\n",
      "¿Cuáles son las primeras cinco filas del conjunto de datos?\n"
     ]
    },
    {
     "data": {
      "text/html": [
       "<div>\n",
       "<style scoped>\n",
       "    .dataframe tbody tr th:only-of-type {\n",
       "        vertical-align: middle;\n",
       "    }\n",
       "\n",
       "    .dataframe tbody tr th {\n",
       "        vertical-align: top;\n",
       "    }\n",
       "\n",
       "    .dataframe thead th {\n",
       "        text-align: right;\n",
       "    }\n",
       "</style>\n",
       "<table border=\"1\" class=\"dataframe\">\n",
       "  <thead>\n",
       "    <tr style=\"text-align: right;\">\n",
       "      <th></th>\n",
       "      <th>Eventos</th>\n",
       "      <th>Oro</th>\n",
       "      <th>Plata</th>\n",
       "      <th>Bronce</th>\n",
       "      <th>Genero</th>\n",
       "      <th>Año</th>\n",
       "    </tr>\n",
       "  </thead>\n",
       "  <tbody>\n",
       "    <tr>\n",
       "      <th>0</th>\n",
       "      <td>55 kg (29.05)</td>\n",
       "      <td>Anguel Rusev Bulgaria  113 + 144 = 257[n 1]​</td>\n",
       "      <td>Josué Brachi García España  115 + 141 = 256[n 1]​</td>\n",
       "      <td>Dmytro Voronovsky Ucrania  108 + 134 = 242[n 1]​</td>\n",
       "      <td>Masculino</td>\n",
       "      <td>2022</td>\n",
       "    </tr>\n",
       "    <tr>\n",
       "      <th>1</th>\n",
       "      <td>61 kg (29.05)</td>\n",
       "      <td>Ivan Dimov Bulgaria  135 + 151 = 286</td>\n",
       "      <td>Simon Brandhuber Alemania  134 + 152 = 286</td>\n",
       "      <td>Gabriel Marinov Bulgaria  122 + 157 = 279</td>\n",
       "      <td>Masculino</td>\n",
       "      <td>2022</td>\n",
       "    </tr>\n",
       "    <tr>\n",
       "      <th>2</th>\n",
       "      <td>67 kg (30.05)</td>\n",
       "      <td>Valentin Guenchev Bulgaria  139 + 175 = 314</td>\n",
       "      <td>Shota Mishvelidze Georgia  142 + 165 = 307</td>\n",
       "      <td>Acorán Hernández Mendoza España  138 + 161 = 299</td>\n",
       "      <td>Masculino</td>\n",
       "      <td>2022</td>\n",
       "    </tr>\n",
       "    <tr>\n",
       "      <th>3</th>\n",
       "      <td>73 kg (31.05)</td>\n",
       "      <td>Muhammed Özbek Turquía  149 + 190 = 339</td>\n",
       "      <td>Kaji Asanidze Georgia  150 + 176 = 326</td>\n",
       "      <td>Piotr Kudłaszyk Polonia  143 + 181 = 324</td>\n",
       "      <td>Masculino</td>\n",
       "      <td>2022</td>\n",
       "    </tr>\n",
       "    <tr>\n",
       "      <th>4</th>\n",
       "      <td>81 kg (01.06)</td>\n",
       "      <td>Rafik Harutiunian Armenia  160 + 194 = 354</td>\n",
       "      <td>Andrés Mata Pérez España  160 + 186 = 346</td>\n",
       "      <td>Bozhidar Andreev Bulgaria  153 + 190 = 343</td>\n",
       "      <td>Masculino</td>\n",
       "      <td>2022</td>\n",
       "    </tr>\n",
       "  </tbody>\n",
       "</table>\n",
       "</div>"
      ],
      "text/plain": [
       "         Eventos                                           Oro  \\\n",
       "0  55 kg (29.05)  Anguel Rusev Bulgaria  113 + 144 = 257[n 1]​   \n",
       "1  61 kg (29.05)          Ivan Dimov Bulgaria  135 + 151 = 286   \n",
       "2  67 kg (30.05)   Valentin Guenchev Bulgaria  139 + 175 = 314   \n",
       "3  73 kg (31.05)       Muhammed Özbek Turquía  149 + 190 = 339   \n",
       "4  81 kg (01.06)    Rafik Harutiunian Armenia  160 + 194 = 354   \n",
       "\n",
       "                                               Plata  \\\n",
       "0  Josué Brachi García España  115 + 141 = 256[n 1]​   \n",
       "1         Simon Brandhuber Alemania  134 + 152 = 286   \n",
       "2         Shota Mishvelidze Georgia  142 + 165 = 307   \n",
       "3             Kaji Asanidze Georgia  150 + 176 = 326   \n",
       "4          Andrés Mata Pérez España  160 + 186 = 346   \n",
       "\n",
       "                                             Bronce     Genero   Año  \n",
       "0  Dmytro Voronovsky Ucrania  108 + 134 = 242[n 1]​  Masculino  2022  \n",
       "1         Gabriel Marinov Bulgaria  122 + 157 = 279  Masculino  2022  \n",
       "2  Acorán Hernández Mendoza España  138 + 161 = 299  Masculino  2022  \n",
       "3          Piotr Kudłaszyk Polonia  143 + 181 = 324  Masculino  2022  \n",
       "4        Bozhidar Andreev Bulgaria  153 + 190 = 343  Masculino  2022  "
      ]
     },
     "metadata": {},
     "output_type": "display_data"
    },
    {
     "name": "stdout",
     "output_type": "stream",
     "text": [
      "\n",
      "########################################################################################\n",
      "¿Cuáles son las últimas cinco filas del conjunto de datos?\n"
     ]
    },
    {
     "data": {
      "text/html": [
       "<div>\n",
       "<style scoped>\n",
       "    .dataframe tbody tr th:only-of-type {\n",
       "        vertical-align: middle;\n",
       "    }\n",
       "\n",
       "    .dataframe tbody tr th {\n",
       "        vertical-align: top;\n",
       "    }\n",
       "\n",
       "    .dataframe thead th {\n",
       "        text-align: right;\n",
       "    }\n",
       "</style>\n",
       "<table border=\"1\" class=\"dataframe\">\n",
       "  <thead>\n",
       "    <tr style=\"text-align: right;\">\n",
       "      <th></th>\n",
       "      <th>Eventos</th>\n",
       "      <th>Oro</th>\n",
       "      <th>Plata</th>\n",
       "      <th>Bronce</th>\n",
       "      <th>Genero</th>\n",
       "      <th>Año</th>\n",
       "    </tr>\n",
       "  </thead>\n",
       "  <tbody>\n",
       "    <tr>\n",
       "      <th>15</th>\n",
       "      <td>71 kg (01.06)</td>\n",
       "      <td>Patricia Strenius Suecia  94 + 130 = 224</td>\n",
       "      <td>Lisa Marie Schweizer Alemania  103 + 120 = 223</td>\n",
       "      <td>Monika Marach Polonia  99 + 116 = 215</td>\n",
       "      <td>Femenino</td>\n",
       "      <td>2022</td>\n",
       "    </tr>\n",
       "    <tr>\n",
       "      <th>16</th>\n",
       "      <td>76 kg (02.06)</td>\n",
       "      <td>Marie Fegue Francia  110 + 135 = 245</td>\n",
       "      <td>Daniela Ivanova Letonia  96 + 126 = 222</td>\n",
       "      <td>Dilara Ucan Turquía  99 + 121 = 220</td>\n",
       "      <td>Femenino</td>\n",
       "      <td>2022</td>\n",
       "    </tr>\n",
       "    <tr>\n",
       "      <th>17</th>\n",
       "      <td>81 kg (03.06)</td>\n",
       "      <td>Iryna Deja Ucrania  116 + 137 = 253</td>\n",
       "      <td>Alina Marushchak Ucrania  108 + 127 = 235</td>\n",
       "      <td>Dilara Narin Turquía  99 + 133 = 232</td>\n",
       "      <td>Femenino</td>\n",
       "      <td>2022</td>\n",
       "    </tr>\n",
       "    <tr>\n",
       "      <th>18</th>\n",
       "      <td>87 kg (04.06)</td>\n",
       "      <td>Solfrid Koanda Noruega  109 + 143 = 252</td>\n",
       "      <td>Anastasiya Manievska Ucrania  107 + 130 = 237</td>\n",
       "      <td>Anastasiya Hotfrid Georgia  106 + 129 = 235</td>\n",
       "      <td>Femenino</td>\n",
       "      <td>2022</td>\n",
       "    </tr>\n",
       "    <tr>\n",
       "      <th>19</th>\n",
       "      <td>+87 kg (05.06)</td>\n",
       "      <td>Emily Campbell Reino Unido  118 + 153 = 271</td>\n",
       "      <td>Melike Günal Turquía  108 + 134 = 242</td>\n",
       "      <td>Sarah Fischer Austria  102 + 128 = 230</td>\n",
       "      <td>Femenino</td>\n",
       "      <td>2022</td>\n",
       "    </tr>\n",
       "  </tbody>\n",
       "</table>\n",
       "</div>"
      ],
      "text/plain": [
       "           Eventos                                          Oro  \\\n",
       "15   71 kg (01.06)     Patricia Strenius Suecia  94 + 130 = 224   \n",
       "16   76 kg (02.06)         Marie Fegue Francia  110 + 135 = 245   \n",
       "17   81 kg (03.06)          Iryna Deja Ucrania  116 + 137 = 253   \n",
       "18   87 kg (04.06)      Solfrid Koanda Noruega  109 + 143 = 252   \n",
       "19  +87 kg (05.06)  Emily Campbell Reino Unido  118 + 153 = 271   \n",
       "\n",
       "                                             Plata  \\\n",
       "15  Lisa Marie Schweizer Alemania  103 + 120 = 223   \n",
       "16         Daniela Ivanova Letonia  96 + 126 = 222   \n",
       "17       Alina Marushchak Ucrania  108 + 127 = 235   \n",
       "18   Anastasiya Manievska Ucrania  107 + 130 = 237   \n",
       "19           Melike Günal Turquía  108 + 134 = 242   \n",
       "\n",
       "                                         Bronce    Genero   Año  \n",
       "15        Monika Marach Polonia  99 + 116 = 215  Femenino  2022  \n",
       "16          Dilara Ucan Turquía  99 + 121 = 220  Femenino  2022  \n",
       "17         Dilara Narin Turquía  99 + 133 = 232  Femenino  2022  \n",
       "18  Anastasiya Hotfrid Georgia  106 + 129 = 235  Femenino  2022  \n",
       "19       Sarah Fischer Austria  102 + 128 = 230  Femenino  2022  "
      ]
     },
     "metadata": {},
     "output_type": "display_data"
    },
    {
     "name": "stdout",
     "output_type": "stream",
     "text": [
      "\n",
      "########################################################################################\n",
      "¿Cómo puedes obtener una muestra aleatoria de filas del conjunto de datos?\n"
     ]
    },
    {
     "data": {
      "text/html": [
       "<div>\n",
       "<style scoped>\n",
       "    .dataframe tbody tr th:only-of-type {\n",
       "        vertical-align: middle;\n",
       "    }\n",
       "\n",
       "    .dataframe tbody tr th {\n",
       "        vertical-align: top;\n",
       "    }\n",
       "\n",
       "    .dataframe thead th {\n",
       "        text-align: right;\n",
       "    }\n",
       "</style>\n",
       "<table border=\"1\" class=\"dataframe\">\n",
       "  <thead>\n",
       "    <tr style=\"text-align: right;\">\n",
       "      <th></th>\n",
       "      <th>Eventos</th>\n",
       "      <th>Oro</th>\n",
       "      <th>Plata</th>\n",
       "      <th>Bronce</th>\n",
       "      <th>Genero</th>\n",
       "      <th>Año</th>\n",
       "    </tr>\n",
       "  </thead>\n",
       "  <tbody>\n",
       "    <tr>\n",
       "      <th>2</th>\n",
       "      <td>67 kg (30.05)</td>\n",
       "      <td>Valentin Guenchev Bulgaria  139 + 175 = 314</td>\n",
       "      <td>Shota Mishvelidze Georgia  142 + 165 = 307</td>\n",
       "      <td>Acorán Hernández Mendoza España  138 + 161 = 299</td>\n",
       "      <td>Masculino</td>\n",
       "      <td>2022</td>\n",
       "    </tr>\n",
       "    <tr>\n",
       "      <th>10</th>\n",
       "      <td>45 kg (28.05)</td>\n",
       "      <td>Şaziye Erdoğan Turquía  73 + 90 = 163[n 1]​</td>\n",
       "      <td>Cansu Bektaş Turquía  68 + 85 = 153[n 1]​</td>\n",
       "      <td>Radmila Zagorac Serbia  68 + 84 = 152[n 1]​</td>\n",
       "      <td>Femenino</td>\n",
       "      <td>2022</td>\n",
       "    </tr>\n",
       "    <tr>\n",
       "      <th>4</th>\n",
       "      <td>81 kg (01.06)</td>\n",
       "      <td>Rafik Harutiunian Armenia  160 + 194 = 354</td>\n",
       "      <td>Andrés Mata Pérez España  160 + 186 = 346</td>\n",
       "      <td>Bozhidar Andreev Bulgaria  153 + 190 = 343</td>\n",
       "      <td>Masculino</td>\n",
       "      <td>2022</td>\n",
       "    </tr>\n",
       "    <tr>\n",
       "      <th>19</th>\n",
       "      <td>+87 kg (05.06)</td>\n",
       "      <td>Emily Campbell Reino Unido  118 + 153 = 271</td>\n",
       "      <td>Melike Günal Turquía  108 + 134 = 242</td>\n",
       "      <td>Sarah Fischer Austria  102 + 128 = 230</td>\n",
       "      <td>Femenino</td>\n",
       "      <td>2022</td>\n",
       "    </tr>\n",
       "    <tr>\n",
       "      <th>14</th>\n",
       "      <td>64 kg (31.05)</td>\n",
       "      <td>Mariya Hanhur Ucrania  102 + 120 = 222</td>\n",
       "      <td>Nuray Güngör Turquía  99 + 120 = 219</td>\n",
       "      <td>Vicky Graillot Francia  89 + 119 = 208</td>\n",
       "      <td>Femenino</td>\n",
       "      <td>2022</td>\n",
       "    </tr>\n",
       "  </tbody>\n",
       "</table>\n",
       "</div>"
      ],
      "text/plain": [
       "           Eventos                                          Oro  \\\n",
       "2    67 kg (30.05)  Valentin Guenchev Bulgaria  139 + 175 = 314   \n",
       "10   45 kg (28.05)  Şaziye Erdoğan Turquía  73 + 90 = 163[n 1]​   \n",
       "4    81 kg (01.06)   Rafik Harutiunian Armenia  160 + 194 = 354   \n",
       "19  +87 kg (05.06)  Emily Campbell Reino Unido  118 + 153 = 271   \n",
       "14   64 kg (31.05)       Mariya Hanhur Ucrania  102 + 120 = 222   \n",
       "\n",
       "                                         Plata  \\\n",
       "2   Shota Mishvelidze Georgia  142 + 165 = 307   \n",
       "10   Cansu Bektaş Turquía  68 + 85 = 153[n 1]​   \n",
       "4    Andrés Mata Pérez España  160 + 186 = 346   \n",
       "19       Melike Günal Turquía  108 + 134 = 242   \n",
       "14        Nuray Güngör Turquía  99 + 120 = 219   \n",
       "\n",
       "                                              Bronce     Genero   Año  \n",
       "2   Acorán Hernández Mendoza España  138 + 161 = 299  Masculino  2022  \n",
       "10       Radmila Zagorac Serbia  68 + 84 = 152[n 1]​   Femenino  2022  \n",
       "4         Bozhidar Andreev Bulgaria  153 + 190 = 343  Masculino  2022  \n",
       "19            Sarah Fischer Austria  102 + 128 = 230   Femenino  2022  \n",
       "14            Vicky Graillot Francia  89 + 119 = 208   Femenino  2022  "
      ]
     },
     "metadata": {},
     "output_type": "display_data"
    },
    {
     "name": "stdout",
     "output_type": "stream",
     "text": [
      "\n",
      "########################################################################################\n",
      "¿Cuáles son las columnas del conjunto de datos?\n",
      "\t - Eventos\n",
      "\t - Oro\n",
      "\t - Plata\n",
      "\t - Bronce\n",
      "\t - Genero\n",
      "\t - Año\n",
      "\n",
      "########################################################################################\n",
      "¿Cuál es el tipo de datos de cada columna?\n",
      "Eventos    object\n",
      "Oro        object\n",
      "Plata      object\n",
      "Bronce     object\n",
      "Genero     object\n",
      "Año        object\n",
      "dtype: object\n",
      "\n",
      "########################################################################################\n",
      "¿Cuántas columnas hay de cada tipo de datos?\n",
      "object    6\n",
      "Name: count, dtype: int64\n",
      "\n",
      "########################################################################################\n",
      "¿Cómo podríamos obtener información más completa sobre la estructura y el contenido del DataFrame?\n",
      "<class 'pandas.core.frame.DataFrame'>\n",
      "RangeIndex: 20 entries, 0 to 19\n",
      "Data columns (total 6 columns):\n",
      " #   Column   Non-Null Count  Dtype \n",
      "---  ------   --------------  ----- \n",
      " 0   Eventos  20 non-null     object\n",
      " 1   Oro      20 non-null     object\n",
      " 2   Plata    20 non-null     object\n",
      " 3   Bronce   20 non-null     object\n",
      " 4   Genero   20 non-null     object\n",
      " 5   Año      20 non-null     object\n",
      "dtypes: object(6)\n",
      "memory usage: 1.1+ KB\n",
      "None\n",
      "\n",
      "########################################################################################\n",
      "¿Cuántos valores únicos tiene cada columna?\n",
      "Eventos    19\n",
      "Oro        20\n",
      "Plata      20\n",
      "Bronce     20\n",
      "Genero      2\n",
      "Año         1\n",
      "dtype: int64\n",
      "\n",
      "########################################################################################\n",
      "¿Cuáles son las estadísticas descriptivas básicas de todas las columnas?\n"
     ]
    },
    {
     "data": {
      "text/html": [
       "<div>\n",
       "<style scoped>\n",
       "    .dataframe tbody tr th:only-of-type {\n",
       "        vertical-align: middle;\n",
       "    }\n",
       "\n",
       "    .dataframe tbody tr th {\n",
       "        vertical-align: top;\n",
       "    }\n",
       "\n",
       "    .dataframe thead th {\n",
       "        text-align: right;\n",
       "    }\n",
       "</style>\n",
       "<table border=\"1\" class=\"dataframe\">\n",
       "  <thead>\n",
       "    <tr style=\"text-align: right;\">\n",
       "      <th></th>\n",
       "      <th>Eventos</th>\n",
       "      <th>Oro</th>\n",
       "      <th>Plata</th>\n",
       "      <th>Bronce</th>\n",
       "      <th>Genero</th>\n",
       "      <th>Año</th>\n",
       "    </tr>\n",
       "  </thead>\n",
       "  <tbody>\n",
       "    <tr>\n",
       "      <th>count</th>\n",
       "      <td>20</td>\n",
       "      <td>20</td>\n",
       "      <td>20</td>\n",
       "      <td>20</td>\n",
       "      <td>20</td>\n",
       "      <td>20</td>\n",
       "    </tr>\n",
       "    <tr>\n",
       "      <th>unique</th>\n",
       "      <td>19</td>\n",
       "      <td>20</td>\n",
       "      <td>20</td>\n",
       "      <td>20</td>\n",
       "      <td>2</td>\n",
       "      <td>1</td>\n",
       "    </tr>\n",
       "    <tr>\n",
       "      <th>top</th>\n",
       "      <td>55 kg (29.05)</td>\n",
       "      <td>Anguel Rusev Bulgaria  113 + 144 = 257[n 1]​</td>\n",
       "      <td>Josué Brachi García España  115 + 141 = 256[n 1]​</td>\n",
       "      <td>Dmytro Voronovsky Ucrania  108 + 134 = 242[n 1]​</td>\n",
       "      <td>Masculino</td>\n",
       "      <td>2022</td>\n",
       "    </tr>\n",
       "    <tr>\n",
       "      <th>freq</th>\n",
       "      <td>2</td>\n",
       "      <td>1</td>\n",
       "      <td>1</td>\n",
       "      <td>1</td>\n",
       "      <td>10</td>\n",
       "      <td>20</td>\n",
       "    </tr>\n",
       "  </tbody>\n",
       "</table>\n",
       "</div>"
      ],
      "text/plain": [
       "              Eventos                                           Oro  \\\n",
       "count              20                                            20   \n",
       "unique             19                                            20   \n",
       "top     55 kg (29.05)  Anguel Rusev Bulgaria  113 + 144 = 257[n 1]​   \n",
       "freq                2                                             1   \n",
       "\n",
       "                                                    Plata  \\\n",
       "count                                                  20   \n",
       "unique                                                 20   \n",
       "top     Josué Brachi García España  115 + 141 = 256[n 1]​   \n",
       "freq                                                    1   \n",
       "\n",
       "                                                  Bronce     Genero   Año  \n",
       "count                                                 20         20    20  \n",
       "unique                                                20          2     1  \n",
       "top     Dmytro Voronovsky Ucrania  108 + 134 = 242[n 1]​  Masculino  2022  \n",
       "freq                                                   1         10    20  "
      ]
     },
     "metadata": {},
     "output_type": "display_data"
    },
    {
     "name": "stdout",
     "output_type": "stream",
     "text": [
      "\n",
      "########################################################################################\n",
      "¿Hay valores nulos en el conjunto de datos?\n",
      "Eventos    0\n",
      "Oro        0\n",
      "Plata      0\n",
      "Bronce     0\n",
      "Genero     0\n",
      "Año        0\n",
      "dtype: int64\n",
      "\n",
      "########################################################################################\n",
      "¿Cuál es el porcentaje de valores nulos en cada columna?\n",
      "Eventos    0.0\n",
      "Oro        0.0\n",
      "Plata      0.0\n",
      "Bronce     0.0\n",
      "Genero     0.0\n",
      "Año        0.0\n",
      "dtype: float64\n",
      "\n",
      "########################################################################################\n",
      "¿Hay filas duplicadas en el conjunto de datos?\n",
      "\tExisten duplicados: False\n",
      "\tNúmero total de filas duplicadas: 0\n",
      "\n",
      "########################################################################################\n",
      "________________________________________________________________________\n",
      "https://es.wikipedia.org/wiki/Campeonato_Europeo_de_Halterofilia_de_2023\n",
      "________________________________________________________________________\n",
      "¿Cuántas filas y columnas hay en el conjunto de datos?\n",
      "\tHay 20 filas y 6 columnas.\n",
      "\n",
      "########################################################################################\n",
      "¿Cuáles son las primeras cinco filas del conjunto de datos?\n"
     ]
    },
    {
     "data": {
      "text/html": [
       "<div>\n",
       "<style scoped>\n",
       "    .dataframe tbody tr th:only-of-type {\n",
       "        vertical-align: middle;\n",
       "    }\n",
       "\n",
       "    .dataframe tbody tr th {\n",
       "        vertical-align: top;\n",
       "    }\n",
       "\n",
       "    .dataframe thead th {\n",
       "        text-align: right;\n",
       "    }\n",
       "</style>\n",
       "<table border=\"1\" class=\"dataframe\">\n",
       "  <thead>\n",
       "    <tr style=\"text-align: right;\">\n",
       "      <th></th>\n",
       "      <th>Eventos</th>\n",
       "      <th>Oro</th>\n",
       "      <th>Plata</th>\n",
       "      <th>Bronce</th>\n",
       "      <th>Genero</th>\n",
       "      <th>Año</th>\n",
       "    </tr>\n",
       "  </thead>\n",
       "  <tbody>\n",
       "    <tr>\n",
       "      <th>0</th>\n",
       "      <td>55 kg (16.04)</td>\n",
       "      <td>Anguel Rusev Bulgaria  109 + 141 = 250[n 1]​</td>\n",
       "      <td>Ramin Shamilishvili Georgia  113 + 136 = 249[n...</td>\n",
       "      <td>Valentin Iancu Rumania  109 + 136 = 245[n 1]​</td>\n",
       "      <td>Masculino</td>\n",
       "      <td>2023</td>\n",
       "    </tr>\n",
       "    <tr>\n",
       "      <th>1</th>\n",
       "      <td>61 kg (16.04)</td>\n",
       "      <td>Shota Mishvelidze Georgia  136 + 162 = 298</td>\n",
       "      <td>Sergio Massidda Italia  130 + 162 = 292</td>\n",
       "      <td>Ivan Dimov Bulgaria  127 + 150 = 277</td>\n",
       "      <td>Masculino</td>\n",
       "      <td>2023</td>\n",
       "    </tr>\n",
       "    <tr>\n",
       "      <th>2</th>\n",
       "      <td>67 kg (17.04)</td>\n",
       "      <td>Gor Sahakian Armenia  145 + 175 = 320</td>\n",
       "      <td>Acorán Hernández Mendoza España  140 + 165 = 305</td>\n",
       "      <td>Kaan Kahriman Turquía  141 + 160 = 301</td>\n",
       "      <td>Masculino</td>\n",
       "      <td>2023</td>\n",
       "    </tr>\n",
       "    <tr>\n",
       "      <th>3</th>\n",
       "      <td>73 kg (18.04)</td>\n",
       "      <td>Ritvars Suharevs Letonia  152 + 184 = 336</td>\n",
       "      <td>David Sánchez López España  150 + 185 = 335</td>\n",
       "      <td>Mirko Zanni Italia  155 + 180 = 335</td>\n",
       "      <td>Masculino</td>\n",
       "      <td>2023</td>\n",
       "    </tr>\n",
       "    <tr>\n",
       "      <th>4</th>\n",
       "      <td>81 kg (19.04)</td>\n",
       "      <td>Oscar Reyes Martínez Italia  155 + 188 = 343</td>\n",
       "      <td>Batu Han Yüksel Turquía  152 + 187 = 339</td>\n",
       "      <td>Rafik Harutiunian Armenia  150 + 187 = 337</td>\n",
       "      <td>Masculino</td>\n",
       "      <td>2023</td>\n",
       "    </tr>\n",
       "  </tbody>\n",
       "</table>\n",
       "</div>"
      ],
      "text/plain": [
       "         Eventos                                           Oro  \\\n",
       "0  55 kg (16.04)  Anguel Rusev Bulgaria  109 + 141 = 250[n 1]​   \n",
       "1  61 kg (16.04)    Shota Mishvelidze Georgia  136 + 162 = 298   \n",
       "2  67 kg (17.04)         Gor Sahakian Armenia  145 + 175 = 320   \n",
       "3  73 kg (18.04)     Ritvars Suharevs Letonia  152 + 184 = 336   \n",
       "4  81 kg (19.04)  Oscar Reyes Martínez Italia  155 + 188 = 343   \n",
       "\n",
       "                                               Plata  \\\n",
       "0  Ramin Shamilishvili Georgia  113 + 136 = 249[n...   \n",
       "1            Sergio Massidda Italia  130 + 162 = 292   \n",
       "2   Acorán Hernández Mendoza España  140 + 165 = 305   \n",
       "3        David Sánchez López España  150 + 185 = 335   \n",
       "4           Batu Han Yüksel Turquía  152 + 187 = 339   \n",
       "\n",
       "                                          Bronce     Genero   Año  \n",
       "0  Valentin Iancu Rumania  109 + 136 = 245[n 1]​  Masculino  2023  \n",
       "1           Ivan Dimov Bulgaria  127 + 150 = 277  Masculino  2023  \n",
       "2         Kaan Kahriman Turquía  141 + 160 = 301  Masculino  2023  \n",
       "3            Mirko Zanni Italia  155 + 180 = 335  Masculino  2023  \n",
       "4     Rafik Harutiunian Armenia  150 + 187 = 337  Masculino  2023  "
      ]
     },
     "metadata": {},
     "output_type": "display_data"
    },
    {
     "name": "stdout",
     "output_type": "stream",
     "text": [
      "\n",
      "########################################################################################\n",
      "¿Cuáles son las últimas cinco filas del conjunto de datos?\n"
     ]
    },
    {
     "data": {
      "text/html": [
       "<div>\n",
       "<style scoped>\n",
       "    .dataframe tbody tr th:only-of-type {\n",
       "        vertical-align: middle;\n",
       "    }\n",
       "\n",
       "    .dataframe tbody tr th {\n",
       "        vertical-align: top;\n",
       "    }\n",
       "\n",
       "    .dataframe thead th {\n",
       "        text-align: right;\n",
       "    }\n",
       "</style>\n",
       "<table border=\"1\" class=\"dataframe\">\n",
       "  <thead>\n",
       "    <tr style=\"text-align: right;\">\n",
       "      <th></th>\n",
       "      <th>Eventos</th>\n",
       "      <th>Oro</th>\n",
       "      <th>Plata</th>\n",
       "      <th>Bronce</th>\n",
       "      <th>Genero</th>\n",
       "      <th>Año</th>\n",
       "    </tr>\n",
       "  </thead>\n",
       "  <tbody>\n",
       "    <tr>\n",
       "      <th>15</th>\n",
       "      <td>71 kg (19.04)</td>\n",
       "      <td>Loredana Toma Rumania  110 + 130 = 240</td>\n",
       "      <td>Giulia Miserendino Italia  105 + 125 = 230</td>\n",
       "      <td>Sarah Davies Reino Unido  100 + 126 = 226</td>\n",
       "      <td>Femenino</td>\n",
       "      <td>2023</td>\n",
       "    </tr>\n",
       "    <tr>\n",
       "      <th>16</th>\n",
       "      <td>76 kg (20.04)</td>\n",
       "      <td>Marie Fegue Francia  113 + 140 = 253</td>\n",
       "      <td>Tatev Hakobian Armenia  104 + 122 = 226</td>\n",
       "      <td>Daniela Ivanova Letonia  96 + 126 = 222</td>\n",
       "      <td>Femenino</td>\n",
       "      <td>2023</td>\n",
       "    </tr>\n",
       "    <tr>\n",
       "      <th>17</th>\n",
       "      <td>81 kg (21.04)</td>\n",
       "      <td>Iryna Deja Ucrania  123 + 135 = 258</td>\n",
       "      <td>Dilara Narin Turquía  101 + 134 = 235</td>\n",
       "      <td>Elena Erighina Moldavia  104 + 130 = 234</td>\n",
       "      <td>Femenino</td>\n",
       "      <td>2023</td>\n",
       "    </tr>\n",
       "    <tr>\n",
       "      <th>18</th>\n",
       "      <td>87 kg (22.04)</td>\n",
       "      <td>Solfrid Koanda Noruega  117 + 155 = 272</td>\n",
       "      <td>Anastasiya Manievska Ucrania  108 + 130 = 238</td>\n",
       "      <td>Hripsime Jurshudian Armenia  107 + 120 = 227</td>\n",
       "      <td>Femenino</td>\n",
       "      <td>2023</td>\n",
       "    </tr>\n",
       "    <tr>\n",
       "      <th>19</th>\n",
       "      <td>+87 kg (23.04)</td>\n",
       "      <td>Emily Campbell Reino Unido  110 + 143 = 253</td>\n",
       "      <td>Anastasiya Hotfrid Georgia  117+ 135 = 252</td>\n",
       "      <td>Valentyna Kisil Ucrania  111 + 133 = 244</td>\n",
       "      <td>Femenino</td>\n",
       "      <td>2023</td>\n",
       "    </tr>\n",
       "  </tbody>\n",
       "</table>\n",
       "</div>"
      ],
      "text/plain": [
       "           Eventos                                          Oro  \\\n",
       "15   71 kg (19.04)       Loredana Toma Rumania  110 + 130 = 240   \n",
       "16   76 kg (20.04)         Marie Fegue Francia  113 + 140 = 253   \n",
       "17   81 kg (21.04)          Iryna Deja Ucrania  123 + 135 = 258   \n",
       "18   87 kg (22.04)      Solfrid Koanda Noruega  117 + 155 = 272   \n",
       "19  +87 kg (23.04)  Emily Campbell Reino Unido  110 + 143 = 253   \n",
       "\n",
       "                                            Plata  \\\n",
       "15     Giulia Miserendino Italia  105 + 125 = 230   \n",
       "16        Tatev Hakobian Armenia  104 + 122 = 226   \n",
       "17          Dilara Narin Turquía  101 + 134 = 235   \n",
       "18  Anastasiya Manievska Ucrania  108 + 130 = 238   \n",
       "19     Anastasiya Hotfrid Georgia  117+ 135 = 252   \n",
       "\n",
       "                                          Bronce    Genero   Año  \n",
       "15     Sarah Davies Reino Unido  100 + 126 = 226  Femenino  2023  \n",
       "16       Daniela Ivanova Letonia  96 + 126 = 222  Femenino  2023  \n",
       "17      Elena Erighina Moldavia  104 + 130 = 234  Femenino  2023  \n",
       "18  Hripsime Jurshudian Armenia  107 + 120 = 227  Femenino  2023  \n",
       "19      Valentyna Kisil Ucrania  111 + 133 = 244  Femenino  2023  "
      ]
     },
     "metadata": {},
     "output_type": "display_data"
    },
    {
     "name": "stdout",
     "output_type": "stream",
     "text": [
      "\n",
      "########################################################################################\n",
      "¿Cómo puedes obtener una muestra aleatoria de filas del conjunto de datos?\n"
     ]
    },
    {
     "data": {
      "text/html": [
       "<div>\n",
       "<style scoped>\n",
       "    .dataframe tbody tr th:only-of-type {\n",
       "        vertical-align: middle;\n",
       "    }\n",
       "\n",
       "    .dataframe tbody tr th {\n",
       "        vertical-align: top;\n",
       "    }\n",
       "\n",
       "    .dataframe thead th {\n",
       "        text-align: right;\n",
       "    }\n",
       "</style>\n",
       "<table border=\"1\" class=\"dataframe\">\n",
       "  <thead>\n",
       "    <tr style=\"text-align: right;\">\n",
       "      <th></th>\n",
       "      <th>Eventos</th>\n",
       "      <th>Oro</th>\n",
       "      <th>Plata</th>\n",
       "      <th>Bronce</th>\n",
       "      <th>Genero</th>\n",
       "      <th>Año</th>\n",
       "    </tr>\n",
       "  </thead>\n",
       "  <tbody>\n",
       "    <tr>\n",
       "      <th>18</th>\n",
       "      <td>87 kg (22.04)</td>\n",
       "      <td>Solfrid Koanda Noruega  117 + 155 = 272</td>\n",
       "      <td>Anastasiya Manievska Ucrania  108 + 130 = 238</td>\n",
       "      <td>Hripsime Jurshudian Armenia  107 + 120 = 227</td>\n",
       "      <td>Femenino</td>\n",
       "      <td>2023</td>\n",
       "    </tr>\n",
       "    <tr>\n",
       "      <th>11</th>\n",
       "      <td>49 kg (15.04)</td>\n",
       "      <td>Mihaela Cambei Rumania  92 + 106 = 198</td>\n",
       "      <td>Giulia Imperio Italia  83 + 100 = 183</td>\n",
       "      <td>Anhelina Lomachynska Ucrania  81 + 95 = 176</td>\n",
       "      <td>Femenino</td>\n",
       "      <td>2023</td>\n",
       "    </tr>\n",
       "    <tr>\n",
       "      <th>3</th>\n",
       "      <td>73 kg (18.04)</td>\n",
       "      <td>Ritvars Suharevs Letonia  152 + 184 = 336</td>\n",
       "      <td>David Sánchez López España  150 + 185 = 335</td>\n",
       "      <td>Mirko Zanni Italia  155 + 180 = 335</td>\n",
       "      <td>Masculino</td>\n",
       "      <td>2023</td>\n",
       "    </tr>\n",
       "    <tr>\n",
       "      <th>0</th>\n",
       "      <td>55 kg (16.04)</td>\n",
       "      <td>Anguel Rusev Bulgaria  109 + 141 = 250[n 1]​</td>\n",
       "      <td>Ramin Shamilishvili Georgia  113 + 136 = 249[n...</td>\n",
       "      <td>Valentin Iancu Rumania  109 + 136 = 245[n 1]​</td>\n",
       "      <td>Masculino</td>\n",
       "      <td>2023</td>\n",
       "    </tr>\n",
       "    <tr>\n",
       "      <th>17</th>\n",
       "      <td>81 kg (21.04)</td>\n",
       "      <td>Iryna Deja Ucrania  123 + 135 = 258</td>\n",
       "      <td>Dilara Narin Turquía  101 + 134 = 235</td>\n",
       "      <td>Elena Erighina Moldavia  104 + 130 = 234</td>\n",
       "      <td>Femenino</td>\n",
       "      <td>2023</td>\n",
       "    </tr>\n",
       "  </tbody>\n",
       "</table>\n",
       "</div>"
      ],
      "text/plain": [
       "          Eventos                                           Oro  \\\n",
       "18  87 kg (22.04)       Solfrid Koanda Noruega  117 + 155 = 272   \n",
       "11  49 kg (15.04)        Mihaela Cambei Rumania  92 + 106 = 198   \n",
       "3   73 kg (18.04)     Ritvars Suharevs Letonia  152 + 184 = 336   \n",
       "0   55 kg (16.04)  Anguel Rusev Bulgaria  109 + 141 = 250[n 1]​   \n",
       "17  81 kg (21.04)           Iryna Deja Ucrania  123 + 135 = 258   \n",
       "\n",
       "                                                Plata  \\\n",
       "18      Anastasiya Manievska Ucrania  108 + 130 = 238   \n",
       "11              Giulia Imperio Italia  83 + 100 = 183   \n",
       "3         David Sánchez López España  150 + 185 = 335   \n",
       "0   Ramin Shamilishvili Georgia  113 + 136 = 249[n...   \n",
       "17              Dilara Narin Turquía  101 + 134 = 235   \n",
       "\n",
       "                                           Bronce     Genero   Año  \n",
       "18   Hripsime Jurshudian Armenia  107 + 120 = 227   Femenino  2023  \n",
       "11    Anhelina Lomachynska Ucrania  81 + 95 = 176   Femenino  2023  \n",
       "3             Mirko Zanni Italia  155 + 180 = 335  Masculino  2023  \n",
       "0   Valentin Iancu Rumania  109 + 136 = 245[n 1]​  Masculino  2023  \n",
       "17       Elena Erighina Moldavia  104 + 130 = 234   Femenino  2023  "
      ]
     },
     "metadata": {},
     "output_type": "display_data"
    },
    {
     "name": "stdout",
     "output_type": "stream",
     "text": [
      "\n",
      "########################################################################################\n",
      "¿Cuáles son las columnas del conjunto de datos?\n",
      "\t - Eventos\n",
      "\t - Oro\n",
      "\t - Plata\n",
      "\t - Bronce\n",
      "\t - Genero\n",
      "\t - Año\n",
      "\n",
      "########################################################################################\n",
      "¿Cuál es el tipo de datos de cada columna?\n",
      "Eventos    object\n",
      "Oro        object\n",
      "Plata      object\n",
      "Bronce     object\n",
      "Genero     object\n",
      "Año        object\n",
      "dtype: object\n",
      "\n",
      "########################################################################################\n",
      "¿Cuántas columnas hay de cada tipo de datos?\n",
      "object    6\n",
      "Name: count, dtype: int64\n",
      "\n",
      "########################################################################################\n",
      "¿Cómo podríamos obtener información más completa sobre la estructura y el contenido del DataFrame?\n",
      "<class 'pandas.core.frame.DataFrame'>\n",
      "RangeIndex: 20 entries, 0 to 19\n",
      "Data columns (total 6 columns):\n",
      " #   Column   Non-Null Count  Dtype \n",
      "---  ------   --------------  ----- \n",
      " 0   Eventos  20 non-null     object\n",
      " 1   Oro      20 non-null     object\n",
      " 2   Plata    20 non-null     object\n",
      " 3   Bronce   20 non-null     object\n",
      " 4   Genero   20 non-null     object\n",
      " 5   Año      20 non-null     object\n",
      "dtypes: object(6)\n",
      "memory usage: 1.1+ KB\n",
      "None\n",
      "\n",
      "########################################################################################\n",
      "¿Cuántos valores únicos tiene cada columna?\n",
      "Eventos    19\n",
      "Oro        20\n",
      "Plata      20\n",
      "Bronce     20\n",
      "Genero      2\n",
      "Año         1\n",
      "dtype: int64\n",
      "\n",
      "########################################################################################\n",
      "¿Cuáles son las estadísticas descriptivas básicas de todas las columnas?\n"
     ]
    },
    {
     "data": {
      "text/html": [
       "<div>\n",
       "<style scoped>\n",
       "    .dataframe tbody tr th:only-of-type {\n",
       "        vertical-align: middle;\n",
       "    }\n",
       "\n",
       "    .dataframe tbody tr th {\n",
       "        vertical-align: top;\n",
       "    }\n",
       "\n",
       "    .dataframe thead th {\n",
       "        text-align: right;\n",
       "    }\n",
       "</style>\n",
       "<table border=\"1\" class=\"dataframe\">\n",
       "  <thead>\n",
       "    <tr style=\"text-align: right;\">\n",
       "      <th></th>\n",
       "      <th>Eventos</th>\n",
       "      <th>Oro</th>\n",
       "      <th>Plata</th>\n",
       "      <th>Bronce</th>\n",
       "      <th>Genero</th>\n",
       "      <th>Año</th>\n",
       "    </tr>\n",
       "  </thead>\n",
       "  <tbody>\n",
       "    <tr>\n",
       "      <th>count</th>\n",
       "      <td>20</td>\n",
       "      <td>20</td>\n",
       "      <td>20</td>\n",
       "      <td>20</td>\n",
       "      <td>20</td>\n",
       "      <td>20</td>\n",
       "    </tr>\n",
       "    <tr>\n",
       "      <th>unique</th>\n",
       "      <td>19</td>\n",
       "      <td>20</td>\n",
       "      <td>20</td>\n",
       "      <td>20</td>\n",
       "      <td>2</td>\n",
       "      <td>1</td>\n",
       "    </tr>\n",
       "    <tr>\n",
       "      <th>top</th>\n",
       "      <td>55 kg (16.04)</td>\n",
       "      <td>Anguel Rusev Bulgaria  109 + 141 = 250[n 1]​</td>\n",
       "      <td>Ramin Shamilishvili Georgia  113 + 136 = 249[n...</td>\n",
       "      <td>Valentin Iancu Rumania  109 + 136 = 245[n 1]​</td>\n",
       "      <td>Masculino</td>\n",
       "      <td>2023</td>\n",
       "    </tr>\n",
       "    <tr>\n",
       "      <th>freq</th>\n",
       "      <td>2</td>\n",
       "      <td>1</td>\n",
       "      <td>1</td>\n",
       "      <td>1</td>\n",
       "      <td>10</td>\n",
       "      <td>20</td>\n",
       "    </tr>\n",
       "  </tbody>\n",
       "</table>\n",
       "</div>"
      ],
      "text/plain": [
       "              Eventos                                           Oro  \\\n",
       "count              20                                            20   \n",
       "unique             19                                            20   \n",
       "top     55 kg (16.04)  Anguel Rusev Bulgaria  109 + 141 = 250[n 1]​   \n",
       "freq                2                                             1   \n",
       "\n",
       "                                                    Plata  \\\n",
       "count                                                  20   \n",
       "unique                                                 20   \n",
       "top     Ramin Shamilishvili Georgia  113 + 136 = 249[n...   \n",
       "freq                                                    1   \n",
       "\n",
       "                                               Bronce     Genero   Año  \n",
       "count                                              20         20    20  \n",
       "unique                                             20          2     1  \n",
       "top     Valentin Iancu Rumania  109 + 136 = 245[n 1]​  Masculino  2023  \n",
       "freq                                                1         10    20  "
      ]
     },
     "metadata": {},
     "output_type": "display_data"
    },
    {
     "name": "stdout",
     "output_type": "stream",
     "text": [
      "\n",
      "########################################################################################\n",
      "¿Hay valores nulos en el conjunto de datos?\n",
      "Eventos    0\n",
      "Oro        0\n",
      "Plata      0\n",
      "Bronce     0\n",
      "Genero     0\n",
      "Año        0\n",
      "dtype: int64\n",
      "\n",
      "########################################################################################\n",
      "¿Cuál es el porcentaje de valores nulos en cada columna?\n",
      "Eventos    0.0\n",
      "Oro        0.0\n",
      "Plata      0.0\n",
      "Bronce     0.0\n",
      "Genero     0.0\n",
      "Año        0.0\n",
      "dtype: float64\n",
      "\n",
      "########################################################################################\n",
      "¿Hay filas duplicadas en el conjunto de datos?\n",
      "\tExisten duplicados: False\n",
      "\tNúmero total de filas duplicadas: 0\n",
      "\n",
      "########################################################################################\n",
      "________________________________________________________________________\n",
      "https://es.wikipedia.org/wiki/Campeonato_Europeo_de_Halterofilia_de_2024\n",
      "________________________________________________________________________\n",
      "¿Cuántas filas y columnas hay en el conjunto de datos?\n",
      "\tHay 20 filas y 6 columnas.\n",
      "\n",
      "########################################################################################\n",
      "¿Cuáles son las primeras cinco filas del conjunto de datos?\n"
     ]
    },
    {
     "data": {
      "text/html": [
       "<div>\n",
       "<style scoped>\n",
       "    .dataframe tbody tr th:only-of-type {\n",
       "        vertical-align: middle;\n",
       "    }\n",
       "\n",
       "    .dataframe tbody tr th {\n",
       "        vertical-align: top;\n",
       "    }\n",
       "\n",
       "    .dataframe thead th {\n",
       "        text-align: right;\n",
       "    }\n",
       "</style>\n",
       "<table border=\"1\" class=\"dataframe\">\n",
       "  <thead>\n",
       "    <tr style=\"text-align: right;\">\n",
       "      <th></th>\n",
       "      <th>Eventos</th>\n",
       "      <th>Oro</th>\n",
       "      <th>Plata</th>\n",
       "      <th>Bronce</th>\n",
       "      <th>Genero</th>\n",
       "      <th>Año</th>\n",
       "    </tr>\n",
       "  </thead>\n",
       "  <tbody>\n",
       "    <tr>\n",
       "      <th>0</th>\n",
       "      <td>55 kg (13.02)</td>\n",
       "      <td>Anguel Rusev Bulgaria  109 + 135 = 244[n 1]​</td>\n",
       "      <td>Ramin Shamilishvili Georgia  111 + 130 = 241[n...</td>\n",
       "      <td>Dzhan Zarkov Bulgaria  102 + 133 = 235[n 1]​</td>\n",
       "      <td>Masculino</td>\n",
       "      <td>2024</td>\n",
       "    </tr>\n",
       "    <tr>\n",
       "      <th>1</th>\n",
       "      <td>61 kg (13.02)</td>\n",
       "      <td>Gabriel Marinov Bulgaria  121 + 160 = 281</td>\n",
       "      <td>Ivan Dimov Bulgaria  130 + 150 = 280</td>\n",
       "      <td>Shota Mishvelidze Georgia  125 + 147 = 272</td>\n",
       "      <td>Masculino</td>\n",
       "      <td>2024</td>\n",
       "    </tr>\n",
       "    <tr>\n",
       "      <th>2</th>\n",
       "      <td>67 kg (14.02)</td>\n",
       "      <td>Gor Sahakian Armenia  140 + 171 = 311</td>\n",
       "      <td>Kaan Kahriman Turquía  142 + 168 = 310</td>\n",
       "      <td>Ferdi Hardal Turquía  135 + 169 = 304</td>\n",
       "      <td>Masculino</td>\n",
       "      <td>2024</td>\n",
       "    </tr>\n",
       "    <tr>\n",
       "      <th>3</th>\n",
       "      <td>73 kg (15.02)</td>\n",
       "      <td>Bozhidar Andreev Bulgaria  155 + 193 = 348</td>\n",
       "      <td>Muhammed Özbek Turquía  150 + 186 = 336</td>\n",
       "      <td>Ritvars Suharevs Letonia  154 + 177 = 331</td>\n",
       "      <td>Masculino</td>\n",
       "      <td>2024</td>\n",
       "    </tr>\n",
       "    <tr>\n",
       "      <th>4</th>\n",
       "      <td>81 kg (16.02)</td>\n",
       "      <td>Oscar Reyes Martínez Italia  155 + 191 = 346</td>\n",
       "      <td>Kristi Ramadani Albania  151 + 190 = 341</td>\n",
       "      <td>Rafik Harutiunian Armenia  154 + 182 = 336</td>\n",
       "      <td>Masculino</td>\n",
       "      <td>2024</td>\n",
       "    </tr>\n",
       "  </tbody>\n",
       "</table>\n",
       "</div>"
      ],
      "text/plain": [
       "         Eventos                                           Oro  \\\n",
       "0  55 kg (13.02)  Anguel Rusev Bulgaria  109 + 135 = 244[n 1]​   \n",
       "1  61 kg (13.02)     Gabriel Marinov Bulgaria  121 + 160 = 281   \n",
       "2  67 kg (14.02)         Gor Sahakian Armenia  140 + 171 = 311   \n",
       "3  73 kg (15.02)    Bozhidar Andreev Bulgaria  155 + 193 = 348   \n",
       "4  81 kg (16.02)  Oscar Reyes Martínez Italia  155 + 191 = 346   \n",
       "\n",
       "                                               Plata  \\\n",
       "0  Ramin Shamilishvili Georgia  111 + 130 = 241[n...   \n",
       "1               Ivan Dimov Bulgaria  130 + 150 = 280   \n",
       "2             Kaan Kahriman Turquía  142 + 168 = 310   \n",
       "3            Muhammed Özbek Turquía  150 + 186 = 336   \n",
       "4           Kristi Ramadani Albania  151 + 190 = 341   \n",
       "\n",
       "                                         Bronce     Genero   Año  \n",
       "0  Dzhan Zarkov Bulgaria  102 + 133 = 235[n 1]​  Masculino  2024  \n",
       "1    Shota Mishvelidze Georgia  125 + 147 = 272  Masculino  2024  \n",
       "2         Ferdi Hardal Turquía  135 + 169 = 304  Masculino  2024  \n",
       "3     Ritvars Suharevs Letonia  154 + 177 = 331  Masculino  2024  \n",
       "4    Rafik Harutiunian Armenia  154 + 182 = 336  Masculino  2024  "
      ]
     },
     "metadata": {},
     "output_type": "display_data"
    },
    {
     "name": "stdout",
     "output_type": "stream",
     "text": [
      "\n",
      "########################################################################################\n",
      "¿Cuáles son las últimas cinco filas del conjunto de datos?\n"
     ]
    },
    {
     "data": {
      "text/html": [
       "<div>\n",
       "<style scoped>\n",
       "    .dataframe tbody tr th:only-of-type {\n",
       "        vertical-align: middle;\n",
       "    }\n",
       "\n",
       "    .dataframe tbody tr th {\n",
       "        vertical-align: top;\n",
       "    }\n",
       "\n",
       "    .dataframe thead th {\n",
       "        text-align: right;\n",
       "    }\n",
       "</style>\n",
       "<table border=\"1\" class=\"dataframe\">\n",
       "  <thead>\n",
       "    <tr style=\"text-align: right;\">\n",
       "      <th></th>\n",
       "      <th>Eventos</th>\n",
       "      <th>Oro</th>\n",
       "      <th>Plata</th>\n",
       "      <th>Bronce</th>\n",
       "      <th>Genero</th>\n",
       "      <th>Año</th>\n",
       "    </tr>\n",
       "  </thead>\n",
       "  <tbody>\n",
       "    <tr>\n",
       "      <th>15</th>\n",
       "      <td>71 kg (16.02)</td>\n",
       "      <td>Loredana Toma Rumania  114 + 127 = 241</td>\n",
       "      <td>Siuzanna Valodzka AIN[a 1]​  105 + 130 = 235</td>\n",
       "      <td>Lisa Marie Schweizer Alemania  107 + 124 = 231</td>\n",
       "      <td>Femenino</td>\n",
       "      <td>2024</td>\n",
       "    </tr>\n",
       "    <tr>\n",
       "      <th>16</th>\n",
       "      <td>76 kg (17.02)</td>\n",
       "      <td>Genna Toko Kegne Italia  101 + 120 = 221</td>\n",
       "      <td>Nikol Rubanovich Israel  99 + 117 = 216</td>\n",
       "      <td>Lara Dancz Alemania  101 + 114 = 215</td>\n",
       "      <td>Femenino</td>\n",
       "      <td>2024</td>\n",
       "    </tr>\n",
       "    <tr>\n",
       "      <th>17</th>\n",
       "      <td>81 kg (18.02)</td>\n",
       "      <td>Weronika Zielińska-Stubińska Polonia  103 + 13...</td>\n",
       "      <td>Elena Erighina Moldavia  103+ 131 = 234</td>\n",
       "      <td>Dilara Narin Turquía  97 + 125 = 222</td>\n",
       "      <td>Femenino</td>\n",
       "      <td>2024</td>\n",
       "    </tr>\n",
       "    <tr>\n",
       "      <th>18</th>\n",
       "      <td>87 kg (19.02)</td>\n",
       "      <td>Solfrid Koanda Noruega  120 + 160 = 280</td>\n",
       "      <td>Anastasiya Manievska Ucrania  102 + 128 = 230</td>\n",
       "      <td>Hripsime Jurshudian Armenia  105 + 122 = 227</td>\n",
       "      <td>Femenino</td>\n",
       "      <td>2024</td>\n",
       "    </tr>\n",
       "    <tr>\n",
       "      <th>19</th>\n",
       "      <td>+87 kg (20.02)</td>\n",
       "      <td>Emily Campbell Reino Unido  112 + 151 = 263</td>\n",
       "      <td>Anastasiya Hotfrid Georgia  117 + 140 = 257</td>\n",
       "      <td>Fatmagül Çevik Turquía  107 + 131 = 238</td>\n",
       "      <td>Femenino</td>\n",
       "      <td>2024</td>\n",
       "    </tr>\n",
       "  </tbody>\n",
       "</table>\n",
       "</div>"
      ],
      "text/plain": [
       "           Eventos                                                Oro  \\\n",
       "15   71 kg (16.02)             Loredana Toma Rumania  114 + 127 = 241   \n",
       "16   76 kg (17.02)           Genna Toko Kegne Italia  101 + 120 = 221   \n",
       "17   81 kg (18.02)  Weronika Zielińska-Stubińska Polonia  103 + 13...   \n",
       "18   87 kg (19.02)            Solfrid Koanda Noruega  120 + 160 = 280   \n",
       "19  +87 kg (20.02)        Emily Campbell Reino Unido  112 + 151 = 263   \n",
       "\n",
       "                                            Plata  \\\n",
       "15   Siuzanna Valodzka AIN[a 1]​  105 + 130 = 235   \n",
       "16        Nikol Rubanovich Israel  99 + 117 = 216   \n",
       "17        Elena Erighina Moldavia  103+ 131 = 234   \n",
       "18  Anastasiya Manievska Ucrania  102 + 128 = 230   \n",
       "19    Anastasiya Hotfrid Georgia  117 + 140 = 257   \n",
       "\n",
       "                                            Bronce    Genero   Año  \n",
       "15  Lisa Marie Schweizer Alemania  107 + 124 = 231  Femenino  2024  \n",
       "16            Lara Dancz Alemania  101 + 114 = 215  Femenino  2024  \n",
       "17            Dilara Narin Turquía  97 + 125 = 222  Femenino  2024  \n",
       "18    Hripsime Jurshudian Armenia  105 + 122 = 227  Femenino  2024  \n",
       "19         Fatmagül Çevik Turquía  107 + 131 = 238  Femenino  2024  "
      ]
     },
     "metadata": {},
     "output_type": "display_data"
    },
    {
     "name": "stdout",
     "output_type": "stream",
     "text": [
      "\n",
      "########################################################################################\n",
      "¿Cómo puedes obtener una muestra aleatoria de filas del conjunto de datos?\n"
     ]
    },
    {
     "data": {
      "text/html": [
       "<div>\n",
       "<style scoped>\n",
       "    .dataframe tbody tr th:only-of-type {\n",
       "        vertical-align: middle;\n",
       "    }\n",
       "\n",
       "    .dataframe tbody tr th {\n",
       "        vertical-align: top;\n",
       "    }\n",
       "\n",
       "    .dataframe thead th {\n",
       "        text-align: right;\n",
       "    }\n",
       "</style>\n",
       "<table border=\"1\" class=\"dataframe\">\n",
       "  <thead>\n",
       "    <tr style=\"text-align: right;\">\n",
       "      <th></th>\n",
       "      <th>Eventos</th>\n",
       "      <th>Oro</th>\n",
       "      <th>Plata</th>\n",
       "      <th>Bronce</th>\n",
       "      <th>Genero</th>\n",
       "      <th>Año</th>\n",
       "    </tr>\n",
       "  </thead>\n",
       "  <tbody>\n",
       "    <tr>\n",
       "      <th>13</th>\n",
       "      <td>59 kg (14.02)</td>\n",
       "      <td>Kamila Konotop Ucrania  105 + 125 = 230</td>\n",
       "      <td>Dora Tchakounté Francia  98 + 117 = 215</td>\n",
       "      <td>Saara Retulainen Finlandia  95 + 119 = 214</td>\n",
       "      <td>Femenino</td>\n",
       "      <td>2024</td>\n",
       "    </tr>\n",
       "    <tr>\n",
       "      <th>6</th>\n",
       "      <td>96 kg (18.02)</td>\n",
       "      <td>Hakob Mkrtchian Armenia  166 + 209 = 375</td>\n",
       "      <td>Davit Hovhannisian Armenia  169 + 205 = 374</td>\n",
       "      <td>Pavel Jadasevich AIN[a 1]​  165 + 195 = 360</td>\n",
       "      <td>Masculino</td>\n",
       "      <td>2024</td>\n",
       "    </tr>\n",
       "    <tr>\n",
       "      <th>14</th>\n",
       "      <td>64 kg (15.02)</td>\n",
       "      <td>Hanna Davydova Ucrania  100 + 120 = 220</td>\n",
       "      <td>Svitlana Samuliak Ucrania  101 + 118 = 219</td>\n",
       "      <td>Wiktoria Wołk Polonia  94 + 121 = 215</td>\n",
       "      <td>Femenino</td>\n",
       "      <td>2024</td>\n",
       "    </tr>\n",
       "    <tr>\n",
       "      <th>5</th>\n",
       "      <td>89 kg (17.02)</td>\n",
       "      <td>Karlos Nasar Bulgaria  176 + 215 = 391</td>\n",
       "      <td>Antonino Pizzolato Italia  170 + 210 = 380</td>\n",
       "      <td>Marin Robu Moldavia  171+ 207 = 378</td>\n",
       "      <td>Masculino</td>\n",
       "      <td>2024</td>\n",
       "    </tr>\n",
       "    <tr>\n",
       "      <th>11</th>\n",
       "      <td>49 kg (12.02)</td>\n",
       "      <td>Mihaela Cambei Rumania  90 + 109 = 199</td>\n",
       "      <td>Oliwia Drzazga Polonia  74 + 96 = 170</td>\n",
       "      <td>Tham Nguyen Irlanda  74 + 95 = 169</td>\n",
       "      <td>Femenino</td>\n",
       "      <td>2024</td>\n",
       "    </tr>\n",
       "  </tbody>\n",
       "</table>\n",
       "</div>"
      ],
      "text/plain": [
       "          Eventos                                       Oro  \\\n",
       "13  59 kg (14.02)   Kamila Konotop Ucrania  105 + 125 = 230   \n",
       "6   96 kg (18.02)  Hakob Mkrtchian Armenia  166 + 209 = 375   \n",
       "14  64 kg (15.02)   Hanna Davydova Ucrania  100 + 120 = 220   \n",
       "5   89 kg (17.02)    Karlos Nasar Bulgaria  176 + 215 = 391   \n",
       "11  49 kg (12.02)    Mihaela Cambei Rumania  90 + 109 = 199   \n",
       "\n",
       "                                          Plata  \\\n",
       "13      Dora Tchakounté Francia  98 + 117 = 215   \n",
       "6   Davit Hovhannisian Armenia  169 + 205 = 374   \n",
       "14   Svitlana Samuliak Ucrania  101 + 118 = 219   \n",
       "5    Antonino Pizzolato Italia  170 + 210 = 380   \n",
       "11        Oliwia Drzazga Polonia  74 + 96 = 170   \n",
       "\n",
       "                                         Bronce     Genero   Año  \n",
       "13   Saara Retulainen Finlandia  95 + 119 = 214   Femenino  2024  \n",
       "6   Pavel Jadasevich AIN[a 1]​  165 + 195 = 360  Masculino  2024  \n",
       "14        Wiktoria Wołk Polonia  94 + 121 = 215   Femenino  2024  \n",
       "5           Marin Robu Moldavia  171+ 207 = 378  Masculino  2024  \n",
       "11           Tham Nguyen Irlanda  74 + 95 = 169   Femenino  2024  "
      ]
     },
     "metadata": {},
     "output_type": "display_data"
    },
    {
     "name": "stdout",
     "output_type": "stream",
     "text": [
      "\n",
      "########################################################################################\n",
      "¿Cuáles son las columnas del conjunto de datos?\n",
      "\t - Eventos\n",
      "\t - Oro\n",
      "\t - Plata\n",
      "\t - Bronce\n",
      "\t - Genero\n",
      "\t - Año\n",
      "\n",
      "########################################################################################\n",
      "¿Cuál es el tipo de datos de cada columna?\n",
      "Eventos    object\n",
      "Oro        object\n",
      "Plata      object\n",
      "Bronce     object\n",
      "Genero     object\n",
      "Año        object\n",
      "dtype: object\n",
      "\n",
      "########################################################################################\n",
      "¿Cuántas columnas hay de cada tipo de datos?\n",
      "object    6\n",
      "Name: count, dtype: int64\n",
      "\n",
      "########################################################################################\n",
      "¿Cómo podríamos obtener información más completa sobre la estructura y el contenido del DataFrame?\n",
      "<class 'pandas.core.frame.DataFrame'>\n",
      "RangeIndex: 20 entries, 0 to 19\n",
      "Data columns (total 6 columns):\n",
      " #   Column   Non-Null Count  Dtype \n",
      "---  ------   --------------  ----- \n",
      " 0   Eventos  20 non-null     object\n",
      " 1   Oro      20 non-null     object\n",
      " 2   Plata    20 non-null     object\n",
      " 3   Bronce   20 non-null     object\n",
      " 4   Genero   20 non-null     object\n",
      " 5   Año      20 non-null     object\n",
      "dtypes: object(6)\n",
      "memory usage: 1.1+ KB\n",
      "None\n",
      "\n",
      "########################################################################################\n",
      "¿Cuántos valores únicos tiene cada columna?\n",
      "Eventos    19\n",
      "Oro        20\n",
      "Plata      20\n",
      "Bronce     20\n",
      "Genero      2\n",
      "Año         1\n",
      "dtype: int64\n",
      "\n",
      "########################################################################################\n",
      "¿Cuáles son las estadísticas descriptivas básicas de todas las columnas?\n"
     ]
    },
    {
     "data": {
      "text/html": [
       "<div>\n",
       "<style scoped>\n",
       "    .dataframe tbody tr th:only-of-type {\n",
       "        vertical-align: middle;\n",
       "    }\n",
       "\n",
       "    .dataframe tbody tr th {\n",
       "        vertical-align: top;\n",
       "    }\n",
       "\n",
       "    .dataframe thead th {\n",
       "        text-align: right;\n",
       "    }\n",
       "</style>\n",
       "<table border=\"1\" class=\"dataframe\">\n",
       "  <thead>\n",
       "    <tr style=\"text-align: right;\">\n",
       "      <th></th>\n",
       "      <th>Eventos</th>\n",
       "      <th>Oro</th>\n",
       "      <th>Plata</th>\n",
       "      <th>Bronce</th>\n",
       "      <th>Genero</th>\n",
       "      <th>Año</th>\n",
       "    </tr>\n",
       "  </thead>\n",
       "  <tbody>\n",
       "    <tr>\n",
       "      <th>count</th>\n",
       "      <td>20</td>\n",
       "      <td>20</td>\n",
       "      <td>20</td>\n",
       "      <td>20</td>\n",
       "      <td>20</td>\n",
       "      <td>20</td>\n",
       "    </tr>\n",
       "    <tr>\n",
       "      <th>unique</th>\n",
       "      <td>19</td>\n",
       "      <td>20</td>\n",
       "      <td>20</td>\n",
       "      <td>20</td>\n",
       "      <td>2</td>\n",
       "      <td>1</td>\n",
       "    </tr>\n",
       "    <tr>\n",
       "      <th>top</th>\n",
       "      <td>55 kg (13.02)</td>\n",
       "      <td>Anguel Rusev Bulgaria  109 + 135 = 244[n 1]​</td>\n",
       "      <td>Ramin Shamilishvili Georgia  111 + 130 = 241[n...</td>\n",
       "      <td>Dzhan Zarkov Bulgaria  102 + 133 = 235[n 1]​</td>\n",
       "      <td>Masculino</td>\n",
       "      <td>2024</td>\n",
       "    </tr>\n",
       "    <tr>\n",
       "      <th>freq</th>\n",
       "      <td>2</td>\n",
       "      <td>1</td>\n",
       "      <td>1</td>\n",
       "      <td>1</td>\n",
       "      <td>10</td>\n",
       "      <td>20</td>\n",
       "    </tr>\n",
       "  </tbody>\n",
       "</table>\n",
       "</div>"
      ],
      "text/plain": [
       "              Eventos                                           Oro  \\\n",
       "count              20                                            20   \n",
       "unique             19                                            20   \n",
       "top     55 kg (13.02)  Anguel Rusev Bulgaria  109 + 135 = 244[n 1]​   \n",
       "freq                2                                             1   \n",
       "\n",
       "                                                    Plata  \\\n",
       "count                                                  20   \n",
       "unique                                                 20   \n",
       "top     Ramin Shamilishvili Georgia  111 + 130 = 241[n...   \n",
       "freq                                                    1   \n",
       "\n",
       "                                              Bronce     Genero   Año  \n",
       "count                                             20         20    20  \n",
       "unique                                            20          2     1  \n",
       "top     Dzhan Zarkov Bulgaria  102 + 133 = 235[n 1]​  Masculino  2024  \n",
       "freq                                               1         10    20  "
      ]
     },
     "metadata": {},
     "output_type": "display_data"
    },
    {
     "name": "stdout",
     "output_type": "stream",
     "text": [
      "\n",
      "########################################################################################\n",
      "¿Hay valores nulos en el conjunto de datos?\n",
      "Eventos    0\n",
      "Oro        0\n",
      "Plata      0\n",
      "Bronce     0\n",
      "Genero     0\n",
      "Año        0\n",
      "dtype: int64\n",
      "\n",
      "########################################################################################\n",
      "¿Cuál es el porcentaje de valores nulos en cada columna?\n",
      "Eventos    0.0\n",
      "Oro        0.0\n",
      "Plata      0.0\n",
      "Bronce     0.0\n",
      "Genero     0.0\n",
      "Año        0.0\n",
      "dtype: float64\n",
      "\n",
      "########################################################################################\n",
      "¿Hay filas duplicadas en el conjunto de datos?\n",
      "\tExisten duplicados: False\n",
      "\tNúmero total de filas duplicadas: 0\n",
      "\n",
      "########################################################################################\n"
     ]
    }
   ],
   "source": [
    "for k, v in dict_datos_.items():\n",
    "    print(\"_\"*len(k))\n",
    "    print(k)\n",
    "    print(\"_\"*len(k))\n",
    "    exploracion_inicial(df = v)"
   ]
  },
  {
   "cell_type": "markdown",
   "id": "30f31016",
   "metadata": {},
   "source": [
    "## <span style=\"color: #2A8E3C;\"> Paso 4. Crear un único dataframe con los datos de 2019 a 2024 </span>"
   ]
  },
  {
   "cell_type": "code",
   "execution_count": 56,
   "id": "500ac6a1",
   "metadata": {},
   "outputs": [
    {
     "data": {
      "text/html": [
       "<div>\n",
       "<style scoped>\n",
       "    .dataframe tbody tr th:only-of-type {\n",
       "        vertical-align: middle;\n",
       "    }\n",
       "\n",
       "    .dataframe tbody tr th {\n",
       "        vertical-align: top;\n",
       "    }\n",
       "\n",
       "    .dataframe thead th {\n",
       "        text-align: right;\n",
       "    }\n",
       "</style>\n",
       "<table border=\"1\" class=\"dataframe\">\n",
       "  <thead>\n",
       "    <tr style=\"text-align: right;\">\n",
       "      <th></th>\n",
       "      <th>Eventos</th>\n",
       "      <th>Oro</th>\n",
       "      <th>Plata</th>\n",
       "      <th>Bronce</th>\n",
       "      <th>Año</th>\n",
       "      <th>Genero</th>\n",
       "    </tr>\n",
       "  </thead>\n",
       "  <tbody>\n",
       "    <tr>\n",
       "      <th>0</th>\n",
       "      <td>55 kg (06.04)</td>\n",
       "      <td>Mirco Scarantino Italia  116 + 145 = 261[n 1]​</td>\n",
       "      <td>Anguel Rusev Bulgaria  110 + 146 = 256[n 1]​</td>\n",
       "      <td>Muammer Şahin Turquía  112 + 135 = 247[n 1]​</td>\n",
       "      <td>2019</td>\n",
       "      <td>Masculino</td>\n",
       "    </tr>\n",
       "    <tr>\n",
       "      <th>1</th>\n",
       "      <td>61 kg (07.04)</td>\n",
       "      <td>Henadz Laptseu Bielorrusia  133 + 153 = 286</td>\n",
       "      <td>Bünyamin Sezer Turquía  132 + 151 = 283</td>\n",
       "      <td>Ferdi Hardal Turquía  127 + 155 = 282</td>\n",
       "      <td>2019</td>\n",
       "      <td>Masculino</td>\n",
       "    </tr>\n",
       "    <tr>\n",
       "      <th>2</th>\n",
       "      <td>67 kg (08.04)</td>\n",
       "      <td>Bernardin Matam Francia  137 + 175 = 312</td>\n",
       "      <td>Simon Brandhuber Alemania  146 + 165 = 311</td>\n",
       "      <td>Goga Chjeidze Georgia  139 + 169 = 308</td>\n",
       "      <td>2019</td>\n",
       "      <td>Masculino</td>\n",
       "    </tr>\n",
       "    <tr>\n",
       "      <th>3</th>\n",
       "      <td>73 kg (09.04)</td>\n",
       "      <td>Bozhidar Andreev Bulgaria  153 + 192 = 345</td>\n",
       "      <td>Briken Calja Albania  156 + 183 = 339</td>\n",
       "      <td>Vadzim Lijarad Bielorrusia  153 + 182 = 335</td>\n",
       "      <td>2019</td>\n",
       "      <td>Masculino</td>\n",
       "    </tr>\n",
       "    <tr>\n",
       "      <th>4</th>\n",
       "      <td>81 kg (10.04)</td>\n",
       "      <td>Antonino Pizzolato Italia  155 + 201 = 356</td>\n",
       "      <td>Piotr Asayonak Bielorrusia  159 + 196 = 355</td>\n",
       "      <td>Ritvars Suharevs Letonia  162 + 192 = 354</td>\n",
       "      <td>2019</td>\n",
       "      <td>Masculino</td>\n",
       "    </tr>\n",
       "  </tbody>\n",
       "</table>\n",
       "</div>"
      ],
      "text/plain": [
       "         Eventos                                             Oro  \\\n",
       "0  55 kg (06.04)  Mirco Scarantino Italia  116 + 145 = 261[n 1]​   \n",
       "1  61 kg (07.04)     Henadz Laptseu Bielorrusia  133 + 153 = 286   \n",
       "2  67 kg (08.04)        Bernardin Matam Francia  137 + 175 = 312   \n",
       "3  73 kg (09.04)      Bozhidar Andreev Bulgaria  153 + 192 = 345   \n",
       "4  81 kg (10.04)      Antonino Pizzolato Italia  155 + 201 = 356   \n",
       "\n",
       "                                          Plata  \\\n",
       "0  Anguel Rusev Bulgaria  110 + 146 = 256[n 1]​   \n",
       "1       Bünyamin Sezer Turquía  132 + 151 = 283   \n",
       "2    Simon Brandhuber Alemania  146 + 165 = 311   \n",
       "3         Briken Calja Albania  156 + 183 = 339   \n",
       "4   Piotr Asayonak Bielorrusia  159 + 196 = 355   \n",
       "\n",
       "                                         Bronce   Año     Genero  \n",
       "0  Muammer Şahin Turquía  112 + 135 = 247[n 1]​  2019  Masculino  \n",
       "1         Ferdi Hardal Turquía  127 + 155 = 282  2019  Masculino  \n",
       "2        Goga Chjeidze Georgia  139 + 169 = 308  2019  Masculino  \n",
       "3   Vadzim Lijarad Bielorrusia  153 + 182 = 335  2019  Masculino  \n",
       "4     Ritvars Suharevs Letonia  162 + 192 = 354  2019  Masculino  "
      ]
     },
     "execution_count": 56,
     "metadata": {},
     "output_type": "execute_result"
    }
   ],
   "source": [
    "df_ =pd.concat([df] + list(dict_datos_.values()), ignore_index=True)\n",
    "df_.head()"
   ]
  },
  {
   "cell_type": "code",
   "execution_count": 57,
   "id": "49d61f88",
   "metadata": {},
   "outputs": [
    {
     "name": "stdout",
     "output_type": "stream",
     "text": [
      "¿Cuántas filas y columnas hay en el conjunto de datos?\n",
      "\tHay 120 filas y 6 columnas.\n",
      "¿Cuáles son las primeras dos filas del conjunto de datos?\n"
     ]
    },
    {
     "data": {
      "text/html": [
       "<div>\n",
       "<style scoped>\n",
       "    .dataframe tbody tr th:only-of-type {\n",
       "        vertical-align: middle;\n",
       "    }\n",
       "\n",
       "    .dataframe tbody tr th {\n",
       "        vertical-align: top;\n",
       "    }\n",
       "\n",
       "    .dataframe thead th {\n",
       "        text-align: right;\n",
       "    }\n",
       "</style>\n",
       "<table border=\"1\" class=\"dataframe\">\n",
       "  <thead>\n",
       "    <tr style=\"text-align: right;\">\n",
       "      <th></th>\n",
       "      <th>Eventos</th>\n",
       "      <th>Oro</th>\n",
       "      <th>Plata</th>\n",
       "      <th>Bronce</th>\n",
       "      <th>Año</th>\n",
       "      <th>Genero</th>\n",
       "    </tr>\n",
       "  </thead>\n",
       "  <tbody>\n",
       "    <tr>\n",
       "      <th>0</th>\n",
       "      <td>55 kg (06.04)</td>\n",
       "      <td>Mirco Scarantino Italia  116 + 145 = 261[n 1]​</td>\n",
       "      <td>Anguel Rusev Bulgaria  110 + 146 = 256[n 1]​</td>\n",
       "      <td>Muammer Şahin Turquía  112 + 135 = 247[n 1]​</td>\n",
       "      <td>2019</td>\n",
       "      <td>Masculino</td>\n",
       "    </tr>\n",
       "    <tr>\n",
       "      <th>1</th>\n",
       "      <td>61 kg (07.04)</td>\n",
       "      <td>Henadz Laptseu Bielorrusia  133 + 153 = 286</td>\n",
       "      <td>Bünyamin Sezer Turquía  132 + 151 = 283</td>\n",
       "      <td>Ferdi Hardal Turquía  127 + 155 = 282</td>\n",
       "      <td>2019</td>\n",
       "      <td>Masculino</td>\n",
       "    </tr>\n",
       "  </tbody>\n",
       "</table>\n",
       "</div>"
      ],
      "text/plain": [
       "         Eventos                                             Oro  \\\n",
       "0  55 kg (06.04)  Mirco Scarantino Italia  116 + 145 = 261[n 1]​   \n",
       "1  61 kg (07.04)     Henadz Laptseu Bielorrusia  133 + 153 = 286   \n",
       "\n",
       "                                          Plata  \\\n",
       "0  Anguel Rusev Bulgaria  110 + 146 = 256[n 1]​   \n",
       "1       Bünyamin Sezer Turquía  132 + 151 = 283   \n",
       "\n",
       "                                         Bronce   Año     Genero  \n",
       "0  Muammer Şahin Turquía  112 + 135 = 247[n 1]​  2019  Masculino  \n",
       "1         Ferdi Hardal Turquía  127 + 155 = 282  2019  Masculino  "
      ]
     },
     "metadata": {},
     "output_type": "display_data"
    },
    {
     "name": "stdout",
     "output_type": "stream",
     "text": [
      "\n",
      "########################################################################################\n",
      "¿Hay valores nulos en el conjunto de datos?\n",
      "Eventos    0\n",
      "Oro        0\n",
      "Plata      0\n",
      "Bronce     0\n",
      "Año        0\n",
      "Genero     0\n",
      "dtype: int64\n",
      "\n",
      "########################################################################################\n",
      "¿Cuál es el porcentaje de valores nulos en cada columna?\n",
      "Eventos    0.0\n",
      "Oro        0.0\n",
      "Plata      0.0\n",
      "Bronce     0.0\n",
      "Año        0.0\n",
      "Genero     0.0\n",
      "dtype: float64\n",
      "\n",
      "########################################################################################\n",
      "¿Hay filas duplicadas en el conjunto de datos?\n",
      "\tExisten duplicados: False\n",
      "\tNúmero total de filas duplicadas: 0\n",
      "\n",
      "########################################################################################\n"
     ]
    }
   ],
   "source": [
    "exploracion_inicial(df = df_, tipo = 'lite')    "
   ]
  },
  {
   "cell_type": "code",
   "execution_count": 58,
   "id": "275feeb2",
   "metadata": {},
   "outputs": [
    {
     "data": {
      "text/html": [
       "<div>\n",
       "<style scoped>\n",
       "    .dataframe tbody tr th:only-of-type {\n",
       "        vertical-align: middle;\n",
       "    }\n",
       "\n",
       "    .dataframe tbody tr th {\n",
       "        vertical-align: top;\n",
       "    }\n",
       "\n",
       "    .dataframe thead th {\n",
       "        text-align: right;\n",
       "    }\n",
       "</style>\n",
       "<table border=\"1\" class=\"dataframe\">\n",
       "  <thead>\n",
       "    <tr style=\"text-align: right;\">\n",
       "      <th></th>\n",
       "      <th>Eventos</th>\n",
       "      <th>Oro</th>\n",
       "      <th>Plata</th>\n",
       "      <th>Bronce</th>\n",
       "      <th>Año</th>\n",
       "      <th>Genero</th>\n",
       "    </tr>\n",
       "  </thead>\n",
       "  <tbody>\n",
       "    <tr>\n",
       "      <th>40</th>\n",
       "      <td>55 kg (04.04)</td>\n",
       "      <td>Anguel Rusev Bulgaria  111 + 147 = 258[n 1]​</td>\n",
       "      <td>Valentin Iancu Rumania  108 + 140 = 248[n 1]​</td>\n",
       "      <td>Dmytro Voronovsky Ucrania  110 + 137 = 247[n 1]​</td>\n",
       "      <td>2021</td>\n",
       "      <td>Masculino</td>\n",
       "    </tr>\n",
       "    <tr>\n",
       "      <th>41</th>\n",
       "      <td>61 kg (04.04)</td>\n",
       "      <td>Stilian Grozdev Bulgaria  136 + 160 = 296</td>\n",
       "      <td>Shota Mishvelidze Georgia  135 + 155 = 290</td>\n",
       "      <td>Ferdi Hardal Turquía  130 + 157 = 287</td>\n",
       "      <td>2021</td>\n",
       "      <td>Masculino</td>\n",
       "    </tr>\n",
       "    <tr>\n",
       "      <th>42</th>\n",
       "      <td>67 kg (05.04)</td>\n",
       "      <td>Muhammed Özbek Turquía  145 + 178 = 323</td>\n",
       "      <td>Mirko Zanni Italia  148 + 170 = 318</td>\n",
       "      <td>Valentin Guenchev Bulgaria  138 + 177 = 315</td>\n",
       "      <td>2021</td>\n",
       "      <td>Masculino</td>\n",
       "    </tr>\n",
       "    <tr>\n",
       "      <th>43</th>\n",
       "      <td>73 kg (06.04)</td>\n",
       "      <td>Daniyar İsmayilov Turquía  160 + 181 = 341</td>\n",
       "      <td>Marin Robu Moldavia  156 + 183 = 339</td>\n",
       "      <td>Briken Calja Albania  152 + 184 = 336</td>\n",
       "      <td>2021</td>\n",
       "      <td>Masculino</td>\n",
       "    </tr>\n",
       "    <tr>\n",
       "      <th>44</th>\n",
       "      <td>81 kg (07.04)</td>\n",
       "      <td>Antonino Pizzolato Italia  164 + 206 = 370</td>\n",
       "      <td>Karlos Nasar Bulgaria  163 + 206 = 369</td>\n",
       "      <td>Ritvars Suharevs Letonia  157 + 190 = 347</td>\n",
       "      <td>2021</td>\n",
       "      <td>Masculino</td>\n",
       "    </tr>\n",
       "    <tr>\n",
       "      <th>45</th>\n",
       "      <td>89 kg (08.04)</td>\n",
       "      <td>Karen Avaguian Armenia  175 + 200 = 375</td>\n",
       "      <td>Revaz Davitadze Georgia  171 + 203 = 374</td>\n",
       "      <td>Andranik Karapetian Armenia  170 + 195 = 365</td>\n",
       "      <td>2021</td>\n",
       "      <td>Masculino</td>\n",
       "    </tr>\n",
       "    <tr>\n",
       "      <th>46</th>\n",
       "      <td>96 kg (09.04)</td>\n",
       "      <td>Anton Pliesnoi Georgia  180 + 213 = 393</td>\n",
       "      <td>Piotr Asayonak Bielorrusia  172 + 202 = 374</td>\n",
       "      <td>Hakob Mkrtchian Armenia  160 + 212 = 372</td>\n",
       "      <td>2021</td>\n",
       "      <td>Masculino</td>\n",
       "    </tr>\n",
       "    <tr>\n",
       "      <th>47</th>\n",
       "      <td>102 kg (10.04)</td>\n",
       "      <td>Samvel Gasparian Armenia  176 +214 = 390</td>\n",
       "      <td>Arsen Martirosian Armenia  171 + 209 = 380</td>\n",
       "      <td>Dadaş Dadaşbəyli Azerbaiyán  177 + 202 = 379</td>\n",
       "      <td>2021</td>\n",
       "      <td>Masculino</td>\n",
       "    </tr>\n",
       "    <tr>\n",
       "      <th>48</th>\n",
       "      <td>109 kg (10.04)</td>\n",
       "      <td>Dmytro Chumak Ucrania  181 + 226 = 407</td>\n",
       "      <td>Jristo Jristov Bulgaria  186 + 220 = 406</td>\n",
       "      <td>Timur Naniyev Rusia  184 + 217 = 401</td>\n",
       "      <td>2021</td>\n",
       "      <td>Masculino</td>\n",
       "    </tr>\n",
       "    <tr>\n",
       "      <th>49</th>\n",
       "      <td>+109 kg (11.04)</td>\n",
       "      <td>Lasha Talajadze Georgia  222 + 263 = 485</td>\n",
       "      <td>Gor Minasian Armenia  216 + 248 = 464</td>\n",
       "      <td>Varazdat Lalayan Armenia  205 + 240 = 445</td>\n",
       "      <td>2021</td>\n",
       "      <td>Masculino</td>\n",
       "    </tr>\n",
       "    <tr>\n",
       "      <th>50</th>\n",
       "      <td>45 kg (03.04)</td>\n",
       "      <td>Nadezhda Nguen Bulgaria  72 + 83 = 155[n 1]​</td>\n",
       "      <td>Ivana Petrova Bulgaria  67 + 85 = 152[n 1]​</td>\n",
       "      <td>Melisa Güneş Turquía  68 + 83 = 151[n 1]​</td>\n",
       "      <td>2021</td>\n",
       "      <td>Femenino</td>\n",
       "    </tr>\n",
       "    <tr>\n",
       "      <th>51</th>\n",
       "      <td>49 kg (03.04)</td>\n",
       "      <td>Monica Csengeri Rumania  86 + 103 = 189</td>\n",
       "      <td>Kristina Sobol Rusia  85 + 96 = 181</td>\n",
       "      <td>Mihaela Cambei Rumania  80 + 100 = 180</td>\n",
       "      <td>2021</td>\n",
       "      <td>Femenino</td>\n",
       "    </tr>\n",
       "    <tr>\n",
       "      <th>52</th>\n",
       "      <td>55 kg (04.04)</td>\n",
       "      <td>Kamila Konotop Ucrania  95 + 113 = 208</td>\n",
       "      <td>Svetlana Yershova Rusia  88 + 112 = 200</td>\n",
       "      <td>Nina Sterckx Bélgica  88 + 109 = 197</td>\n",
       "      <td>2021</td>\n",
       "      <td>Femenino</td>\n",
       "    </tr>\n",
       "    <tr>\n",
       "      <th>53</th>\n",
       "      <td>59 kg (05.04)</td>\n",
       "      <td>Boyanka Kostova Azerbaiyán  95 + 116 = 211</td>\n",
       "      <td>Olga Tio Rusia  95 + 115 = 210</td>\n",
       "      <td>Dora Tchakounté Francia  95 + 115 = 210</td>\n",
       "      <td>2021</td>\n",
       "      <td>Femenino</td>\n",
       "    </tr>\n",
       "    <tr>\n",
       "      <th>54</th>\n",
       "      <td>64 kg (06.04)</td>\n",
       "      <td>Loredana Toma Rumania  114 + 130 = 244</td>\n",
       "      <td>Sarah Davies Reino Unido  101 + 129 = 230</td>\n",
       "      <td>Anastasiya Anzorova Rusia  100 + 122 = 222</td>\n",
       "      <td>2021</td>\n",
       "      <td>Femenino</td>\n",
       "    </tr>\n",
       "    <tr>\n",
       "      <th>55</th>\n",
       "      <td>71 kg (07.04)</td>\n",
       "      <td>Emily Godley Reino Unido  98 + 129 = 227</td>\n",
       "      <td>Alessia Durante Italia  97 + 122 = 219</td>\n",
       "      <td>Raluca Olaru Rumania  98 + 120 = 218</td>\n",
       "      <td>2021</td>\n",
       "      <td>Femenino</td>\n",
       "    </tr>\n",
       "    <tr>\n",
       "      <th>56</th>\n",
       "      <td>76 kg (08.04)</td>\n",
       "      <td>Iryna Deja Ucrania  113 + 135 = 248</td>\n",
       "      <td>Yana Sotiyeva Rusia  112 + 134 = 246</td>\n",
       "      <td>Anastasiya Romanova Rusia  111 + 132 = 243</td>\n",
       "      <td>2021</td>\n",
       "      <td>Femenino</td>\n",
       "    </tr>\n",
       "    <tr>\n",
       "      <th>57</th>\n",
       "      <td>81 kg (09.04)</td>\n",
       "      <td>Alina Marushchak Ucrania  109 + 127 = 236</td>\n",
       "      <td>Gaëlle Nayo-Ketchanke Francia  100 + 131 = 231</td>\n",
       "      <td>Liana Guiurdzhian Armenia  98 + 129 = 227</td>\n",
       "      <td>2021</td>\n",
       "      <td>Femenino</td>\n",
       "    </tr>\n",
       "    <tr>\n",
       "      <th>58</th>\n",
       "      <td>87 kg (10.04)</td>\n",
       "      <td>Daria Ajmerova Rusia  108 + 138 = 246</td>\n",
       "      <td>Elena Cîlcic Moldavia  107 + 138 = 245</td>\n",
       "      <td>Daria Riazanova Rusia  105 + 135 = 240</td>\n",
       "      <td>2021</td>\n",
       "      <td>Femenino</td>\n",
       "    </tr>\n",
       "    <tr>\n",
       "      <th>59</th>\n",
       "      <td>+87 kg (11.04)</td>\n",
       "      <td>Emily Campbell Reino Unido  122 + 154 = 276</td>\n",
       "      <td>Anastasiya Lysenko Ucrania  116 + 136 = 252</td>\n",
       "      <td>Melike Günal Turquía  108 + 135 = 243</td>\n",
       "      <td>2021</td>\n",
       "      <td>Femenino</td>\n",
       "    </tr>\n",
       "  </tbody>\n",
       "</table>\n",
       "</div>"
      ],
      "text/plain": [
       "            Eventos                                           Oro  \\\n",
       "40    55 kg (04.04)  Anguel Rusev Bulgaria  111 + 147 = 258[n 1]​   \n",
       "41    61 kg (04.04)     Stilian Grozdev Bulgaria  136 + 160 = 296   \n",
       "42    67 kg (05.04)       Muhammed Özbek Turquía  145 + 178 = 323   \n",
       "43    73 kg (06.04)    Daniyar İsmayilov Turquía  160 + 181 = 341   \n",
       "44    81 kg (07.04)    Antonino Pizzolato Italia  164 + 206 = 370   \n",
       "45    89 kg (08.04)       Karen Avaguian Armenia  175 + 200 = 375   \n",
       "46    96 kg (09.04)       Anton Pliesnoi Georgia  180 + 213 = 393   \n",
       "47   102 kg (10.04)      Samvel Gasparian Armenia  176 +214 = 390   \n",
       "48   109 kg (10.04)        Dmytro Chumak Ucrania  181 + 226 = 407   \n",
       "49  +109 kg (11.04)      Lasha Talajadze Georgia  222 + 263 = 485   \n",
       "50    45 kg (03.04)  Nadezhda Nguen Bulgaria  72 + 83 = 155[n 1]​   \n",
       "51    49 kg (03.04)       Monica Csengeri Rumania  86 + 103 = 189   \n",
       "52    55 kg (04.04)        Kamila Konotop Ucrania  95 + 113 = 208   \n",
       "53    59 kg (05.04)    Boyanka Kostova Azerbaiyán  95 + 116 = 211   \n",
       "54    64 kg (06.04)        Loredana Toma Rumania  114 + 130 = 244   \n",
       "55    71 kg (07.04)      Emily Godley Reino Unido  98 + 129 = 227   \n",
       "56    76 kg (08.04)           Iryna Deja Ucrania  113 + 135 = 248   \n",
       "57    81 kg (09.04)     Alina Marushchak Ucrania  109 + 127 = 236   \n",
       "58    87 kg (10.04)         Daria Ajmerova Rusia  108 + 138 = 246   \n",
       "59   +87 kg (11.04)   Emily Campbell Reino Unido  122 + 154 = 276   \n",
       "\n",
       "                                             Plata  \\\n",
       "40   Valentin Iancu Rumania  108 + 140 = 248[n 1]​   \n",
       "41      Shota Mishvelidze Georgia  135 + 155 = 290   \n",
       "42             Mirko Zanni Italia  148 + 170 = 318   \n",
       "43            Marin Robu Moldavia  156 + 183 = 339   \n",
       "44          Karlos Nasar Bulgaria  163 + 206 = 369   \n",
       "45        Revaz Davitadze Georgia  171 + 203 = 374   \n",
       "46     Piotr Asayonak Bielorrusia  172 + 202 = 374   \n",
       "47      Arsen Martirosian Armenia  171 + 209 = 380   \n",
       "48        Jristo Jristov Bulgaria  186 + 220 = 406   \n",
       "49           Gor Minasian Armenia  216 + 248 = 464   \n",
       "50     Ivana Petrova Bulgaria  67 + 85 = 152[n 1]​   \n",
       "51             Kristina Sobol Rusia  85 + 96 = 181   \n",
       "52         Svetlana Yershova Rusia  88 + 112 = 200   \n",
       "53                  Olga Tio Rusia  95 + 115 = 210   \n",
       "54       Sarah Davies Reino Unido  101 + 129 = 230   \n",
       "55          Alessia Durante Italia  97 + 122 = 219   \n",
       "56            Yana Sotiyeva Rusia  112 + 134 = 246   \n",
       "57  Gaëlle Nayo-Ketchanke Francia  100 + 131 = 231   \n",
       "58          Elena Cîlcic Moldavia  107 + 138 = 245   \n",
       "59     Anastasiya Lysenko Ucrania  116 + 136 = 252   \n",
       "\n",
       "                                              Bronce   Año     Genero  \n",
       "40  Dmytro Voronovsky Ucrania  110 + 137 = 247[n 1]​  2021  Masculino  \n",
       "41             Ferdi Hardal Turquía  130 + 157 = 287  2021  Masculino  \n",
       "42       Valentin Guenchev Bulgaria  138 + 177 = 315  2021  Masculino  \n",
       "43             Briken Calja Albania  152 + 184 = 336  2021  Masculino  \n",
       "44         Ritvars Suharevs Letonia  157 + 190 = 347  2021  Masculino  \n",
       "45      Andranik Karapetian Armenia  170 + 195 = 365  2021  Masculino  \n",
       "46          Hakob Mkrtchian Armenia  160 + 212 = 372  2021  Masculino  \n",
       "47      Dadaş Dadaşbəyli Azerbaiyán  177 + 202 = 379  2021  Masculino  \n",
       "48              Timur Naniyev Rusia  184 + 217 = 401  2021  Masculino  \n",
       "49         Varazdat Lalayan Armenia  205 + 240 = 445  2021  Masculino  \n",
       "50         Melisa Güneş Turquía  68 + 83 = 151[n 1]​  2021   Femenino  \n",
       "51            Mihaela Cambei Rumania  80 + 100 = 180  2021   Femenino  \n",
       "52              Nina Sterckx Bélgica  88 + 109 = 197  2021   Femenino  \n",
       "53           Dora Tchakounté Francia  95 + 115 = 210  2021   Femenino  \n",
       "54        Anastasiya Anzorova Rusia  100 + 122 = 222  2021   Femenino  \n",
       "55              Raluca Olaru Rumania  98 + 120 = 218  2021   Femenino  \n",
       "56        Anastasiya Romanova Rusia  111 + 132 = 243  2021   Femenino  \n",
       "57         Liana Guiurdzhian Armenia  98 + 129 = 227  2021   Femenino  \n",
       "58            Daria Riazanova Rusia  105 + 135 = 240  2021   Femenino  \n",
       "59             Melike Günal Turquía  108 + 135 = 243  2021   Femenino  "
      ]
     },
     "execution_count": 58,
     "metadata": {},
     "output_type": "execute_result"
    }
   ],
   "source": [
    "duplicados = df_.duplicated(subset=['Eventos', 'Oro', 'Plata', 'Bronce'])\n",
    "\n",
    "# Mostrar los duplicados\n",
    "df_duplicados = df_[duplicados]\n",
    "df_duplicados"
   ]
  },
  {
   "cell_type": "markdown",
   "id": "0ef640ca",
   "metadata": {},
   "source": [
    "Comprobamos que toda la tabla de 2021 es la misma que la de 2020. \n",
    "\n",
    "Consultamos wikipedia y vemos `https://es.wikipedia.org/wiki/Campeonato_Europeo_de_Halterofilia_de_2020` nos lleva a la web de 2021 y hay una breve explicación: **\"Originalmente el campeonato estaba planeado realizarse en abril de 2020,pero debido a la pandemia de COVID-19 el evento fue pospuesto para finales de octubre, y posteriormente para 2021.\"**\n",
    "\n",
    "Tras ver este dato, eliminamos los datos de 2020 y nos quedamos con los de 2021"
   ]
  },
  {
   "cell_type": "code",
   "execution_count": 59,
   "id": "a52e20f6",
   "metadata": {},
   "outputs": [],
   "source": [
    "df_ = df_[~df_.duplicated(subset=['Eventos', 'Oro', 'Plata', 'Bronce'], keep='last')]"
   ]
  },
  {
   "cell_type": "code",
   "execution_count": 60,
   "id": "71c08cd3",
   "metadata": {},
   "outputs": [
    {
     "data": {
      "text/html": [
       "<div>\n",
       "<style scoped>\n",
       "    .dataframe tbody tr th:only-of-type {\n",
       "        vertical-align: middle;\n",
       "    }\n",
       "\n",
       "    .dataframe tbody tr th {\n",
       "        vertical-align: top;\n",
       "    }\n",
       "\n",
       "    .dataframe thead th {\n",
       "        text-align: right;\n",
       "    }\n",
       "</style>\n",
       "<table border=\"1\" class=\"dataframe\">\n",
       "  <thead>\n",
       "    <tr style=\"text-align: right;\">\n",
       "      <th></th>\n",
       "      <th>Eventos</th>\n",
       "      <th>Oro</th>\n",
       "      <th>Plata</th>\n",
       "      <th>Bronce</th>\n",
       "      <th>Año</th>\n",
       "      <th>Genero</th>\n",
       "    </tr>\n",
       "  </thead>\n",
       "  <tbody>\n",
       "  </tbody>\n",
       "</table>\n",
       "</div>"
      ],
      "text/plain": [
       "Empty DataFrame\n",
       "Columns: [Eventos, Oro, Plata, Bronce, Año, Genero]\n",
       "Index: []"
      ]
     },
     "execution_count": 60,
     "metadata": {},
     "output_type": "execute_result"
    }
   ],
   "source": [
    "#Comprobar que se han eliminado los datos del año 2020\n",
    "df_[df_['Año']==2020]"
   ]
  },
  {
   "cell_type": "code",
   "execution_count": 61,
   "id": "1982d50d",
   "metadata": {},
   "outputs": [
    {
     "name": "stdout",
     "output_type": "stream",
     "text": [
      "¿Cuántas filas y columnas hay en el conjunto de datos?\n",
      "\tHay 100 filas y 6 columnas.\n",
      "¿Cuáles son las primeras dos filas del conjunto de datos?\n"
     ]
    },
    {
     "data": {
      "text/html": [
       "<div>\n",
       "<style scoped>\n",
       "    .dataframe tbody tr th:only-of-type {\n",
       "        vertical-align: middle;\n",
       "    }\n",
       "\n",
       "    .dataframe tbody tr th {\n",
       "        vertical-align: top;\n",
       "    }\n",
       "\n",
       "    .dataframe thead th {\n",
       "        text-align: right;\n",
       "    }\n",
       "</style>\n",
       "<table border=\"1\" class=\"dataframe\">\n",
       "  <thead>\n",
       "    <tr style=\"text-align: right;\">\n",
       "      <th></th>\n",
       "      <th>Eventos</th>\n",
       "      <th>Oro</th>\n",
       "      <th>Plata</th>\n",
       "      <th>Bronce</th>\n",
       "      <th>Año</th>\n",
       "      <th>Genero</th>\n",
       "    </tr>\n",
       "  </thead>\n",
       "  <tbody>\n",
       "    <tr>\n",
       "      <th>0</th>\n",
       "      <td>55 kg (06.04)</td>\n",
       "      <td>Mirco Scarantino Italia  116 + 145 = 261[n 1]​</td>\n",
       "      <td>Anguel Rusev Bulgaria  110 + 146 = 256[n 1]​</td>\n",
       "      <td>Muammer Şahin Turquía  112 + 135 = 247[n 1]​</td>\n",
       "      <td>2019</td>\n",
       "      <td>Masculino</td>\n",
       "    </tr>\n",
       "    <tr>\n",
       "      <th>1</th>\n",
       "      <td>61 kg (07.04)</td>\n",
       "      <td>Henadz Laptseu Bielorrusia  133 + 153 = 286</td>\n",
       "      <td>Bünyamin Sezer Turquía  132 + 151 = 283</td>\n",
       "      <td>Ferdi Hardal Turquía  127 + 155 = 282</td>\n",
       "      <td>2019</td>\n",
       "      <td>Masculino</td>\n",
       "    </tr>\n",
       "  </tbody>\n",
       "</table>\n",
       "</div>"
      ],
      "text/plain": [
       "         Eventos                                             Oro  \\\n",
       "0  55 kg (06.04)  Mirco Scarantino Italia  116 + 145 = 261[n 1]​   \n",
       "1  61 kg (07.04)     Henadz Laptseu Bielorrusia  133 + 153 = 286   \n",
       "\n",
       "                                          Plata  \\\n",
       "0  Anguel Rusev Bulgaria  110 + 146 = 256[n 1]​   \n",
       "1       Bünyamin Sezer Turquía  132 + 151 = 283   \n",
       "\n",
       "                                         Bronce   Año     Genero  \n",
       "0  Muammer Şahin Turquía  112 + 135 = 247[n 1]​  2019  Masculino  \n",
       "1         Ferdi Hardal Turquía  127 + 155 = 282  2019  Masculino  "
      ]
     },
     "metadata": {},
     "output_type": "display_data"
    },
    {
     "name": "stdout",
     "output_type": "stream",
     "text": [
      "\n",
      "########################################################################################\n",
      "¿Hay valores nulos en el conjunto de datos?\n",
      "Eventos    0\n",
      "Oro        0\n",
      "Plata      0\n",
      "Bronce     0\n",
      "Año        0\n",
      "Genero     0\n",
      "dtype: int64\n",
      "\n",
      "########################################################################################\n",
      "¿Cuál es el porcentaje de valores nulos en cada columna?\n",
      "Eventos    0.0\n",
      "Oro        0.0\n",
      "Plata      0.0\n",
      "Bronce     0.0\n",
      "Año        0.0\n",
      "Genero     0.0\n",
      "dtype: float64\n",
      "\n",
      "########################################################################################\n",
      "¿Hay filas duplicadas en el conjunto de datos?\n",
      "\tExisten duplicados: False\n",
      "\tNúmero total de filas duplicadas: 0\n",
      "\n",
      "########################################################################################\n"
     ]
    }
   ],
   "source": [
    "exploracion_inicial(df = df_, tipo = 'lite')"
   ]
  },
  {
   "cell_type": "markdown",
   "id": "c5d05998",
   "metadata": {},
   "source": [
    "## <span style=\"color: #2A8E3C;\"> Paso 5. Transformar los datos </span>"
   ]
  },
  {
   "cell_type": "markdown",
   "id": "3e59fbee",
   "metadata": {},
   "source": [
    "Reutilizo la función creada previamente y comprobamos que se haya aplicado correctamente."
   ]
  },
  {
   "cell_type": "code",
   "execution_count": 62,
   "id": "809ec5d4",
   "metadata": {},
   "outputs": [
    {
     "name": "stdout",
     "output_type": "stream",
     "text": [
      "¿Cuántas filas y columnas hay en el conjunto de datos?\n",
      "\tHay 300 filas y 5 columnas.\n",
      "¿Cuáles son las primeras dos filas del conjunto de datos?\n"
     ]
    },
    {
     "data": {
      "text/html": [
       "<div>\n",
       "<style scoped>\n",
       "    .dataframe tbody tr th:only-of-type {\n",
       "        vertical-align: middle;\n",
       "    }\n",
       "\n",
       "    .dataframe tbody tr th {\n",
       "        vertical-align: top;\n",
       "    }\n",
       "\n",
       "    .dataframe thead th {\n",
       "        text-align: right;\n",
       "    }\n",
       "</style>\n",
       "<table border=\"1\" class=\"dataframe\">\n",
       "  <thead>\n",
       "    <tr style=\"text-align: right;\">\n",
       "      <th></th>\n",
       "      <th>Eventos</th>\n",
       "      <th>Año</th>\n",
       "      <th>Genero</th>\n",
       "      <th>Medalla</th>\n",
       "      <th>Atleta</th>\n",
       "    </tr>\n",
       "  </thead>\n",
       "  <tbody>\n",
       "    <tr>\n",
       "      <th>0</th>\n",
       "      <td>55 kg (06.04)</td>\n",
       "      <td>2019</td>\n",
       "      <td>Masculino</td>\n",
       "      <td>Oro</td>\n",
       "      <td>Mirco Scarantino Italia  116 + 145 = 261[n 1]​</td>\n",
       "    </tr>\n",
       "    <tr>\n",
       "      <th>1</th>\n",
       "      <td>61 kg (07.04)</td>\n",
       "      <td>2019</td>\n",
       "      <td>Masculino</td>\n",
       "      <td>Oro</td>\n",
       "      <td>Henadz Laptseu Bielorrusia  133 + 153 = 286</td>\n",
       "    </tr>\n",
       "  </tbody>\n",
       "</table>\n",
       "</div>"
      ],
      "text/plain": [
       "         Eventos   Año     Genero Medalla  \\\n",
       "0  55 kg (06.04)  2019  Masculino     Oro   \n",
       "1  61 kg (07.04)  2019  Masculino     Oro   \n",
       "\n",
       "                                           Atleta  \n",
       "0  Mirco Scarantino Italia  116 + 145 = 261[n 1]​  \n",
       "1     Henadz Laptseu Bielorrusia  133 + 153 = 286  "
      ]
     },
     "metadata": {},
     "output_type": "display_data"
    },
    {
     "name": "stdout",
     "output_type": "stream",
     "text": [
      "\n",
      "########################################################################################\n",
      "¿Hay valores nulos en el conjunto de datos?\n",
      "Eventos    0\n",
      "Año        0\n",
      "Genero     0\n",
      "Medalla    0\n",
      "Atleta     0\n",
      "dtype: int64\n",
      "\n",
      "########################################################################################\n",
      "¿Cuál es el porcentaje de valores nulos en cada columna?\n",
      "Eventos    0.0\n",
      "Año        0.0\n",
      "Genero     0.0\n",
      "Medalla    0.0\n",
      "Atleta     0.0\n",
      "dtype: float64\n",
      "\n",
      "########################################################################################\n",
      "¿Hay filas duplicadas en el conjunto de datos?\n",
      "\tExisten duplicados: False\n",
      "\tNúmero total de filas duplicadas: 0\n",
      "\n",
      "########################################################################################\n"
     ]
    }
   ],
   "source": [
    "df_[['Eventos', 'Oro', 'Plata', 'Bronce', 'Genero']]\n",
    "df_medallas_24 = transformar_datos (df_)\n",
    "exploracion_inicial(df = df_medallas_24, tipo = 'lite')"
   ]
  },
  {
   "cell_type": "markdown",
   "id": "584d16a0",
   "metadata": {},
   "source": [
    "## <span style=\"color: #2A8E3C;\"> Paso 6. Creación de columnas </span>"
   ]
  },
  {
   "cell_type": "markdown",
   "id": "810cc6d7",
   "metadata": {},
   "source": [
    "Vamos a crear las siguientes columnas:\n",
    "- `Fecha` : Juntando los datos de día y mes de la columna `Evento`y el `Año`\n",
    "- `Nombre`: Extrayendo los datos de la columna `Atleta`\n",
    "- `Apellido`: Extrayendo los datos de la columna `Atleta`\n",
    "- `País`: Extrayendo los datos de la columna `Atleta`\n",
    "- `Resultados`: Extrayendo los datos de la columna `Atleta`\n",
    "- `Arrancada` : Extrayendo los datos de la columna `Atleta`\n",
    "- `Dos tiempos`: Extrayendo los datos de la columna `Atleta`\n",
    "- `Total`: Extrayendo los datos de la columna `Atleta`"
   ]
  },
  {
   "cell_type": "markdown",
   "id": "dcd0b324",
   "metadata": {},
   "source": [
    "primero, vamos a eliminar `[n 1]\\u200b`, `[2]`,​ `[n 2]\\u200b `"
   ]
  },
  {
   "cell_type": "code",
   "execution_count": 63,
   "id": "03e441fa",
   "metadata": {},
   "outputs": [],
   "source": [
    "columnas_resultado = ['Eventos', 'Año', 'Atleta']\n",
    "df_medallas_24[columnas_resultado] = df_medallas_24[columnas_resultado].replace(r'\\[\\s*(n\\s*)?[12]\\]\\s*[\\u200B]*|\\[\\s*a\\s*[12]\\]\\u200B*', ' ', regex=True)"
   ]
  },
  {
   "cell_type": "markdown",
   "id": "5fa51734",
   "metadata": {},
   "source": [
    "Se prioriza la correcta identificación de países sobre la precisión en la distinción entre nombres y apellidos compuestos.\n",
    "\n",
    "No se encontraron otros países con nombres compuestos de dos palabras en el conjunto de datos original.\n",
    "\n",
    "En los casos de 4 palabras con país distinto a \"Reino Unido\", las palabras intermedias se asignan al campo \"Apellido\" aunque en algunos casos podrían corresponder a un segundo nombre."
   ]
  },
  {
   "cell_type": "code",
   "execution_count": 68,
   "id": "6d8aa73a",
   "metadata": {},
   "outputs": [
    {
     "name": "stdout",
     "output_type": "stream",
     "text": [
      "Errores = 0\n"
     ]
    }
   ],
   "source": [
    "crear_columnas_desde_Atleta (df = df_medallas_24)"
   ]
  },
  {
   "cell_type": "markdown",
   "id": "2cb2ef97",
   "metadata": {},
   "source": [
    "Utilizamos `.unique`para comprobar que se han transformado correctamente los Nombres, Apellidos y Países.\n",
    "\n",
    "Aparece como `País` AIN y es que Los deportistas de Bielorrusia compitieron bajo la denominación «Atletas Independientes Neutrales»"
   ]
  },
  {
   "cell_type": "code",
   "execution_count": 71,
   "id": "f9b80ad0",
   "metadata": {},
   "outputs": [
    {
     "data": {
      "text/plain": [
       "array(['Italia', 'Bielorrusia', 'Francia', 'Bulgaria', 'Armenia',\n",
       "       'Ucrania', 'Georgia', 'Turquía', 'Rumania', 'Polonia', 'Letonia',\n",
       "       'Rusia', 'Alemania', 'Azerbaiyán', 'Reino Unido', 'Albania',\n",
       "       'Suecia', 'Noruega', 'España', 'Bélgica', 'Moldavia', 'Israel',\n",
       "       'Austria', 'Serbia', 'Irlanda', 'Finlandia'], dtype=object)"
      ]
     },
     "execution_count": 71,
     "metadata": {},
     "output_type": "execute_result"
    }
   ],
   "source": [
    "df_medallas_24.País.unique() "
   ]
  },
  {
   "cell_type": "code",
   "execution_count": 70,
   "id": "e8ce236b",
   "metadata": {},
   "outputs": [
    {
     "data": {
      "text/plain": [
       "array(['Italia', 'Bielorrusia', 'Francia', 'Bulgaria', 'Armenia',\n",
       "       'Ucrania', 'Georgia', 'Turquía', 'Rumania', 'Polonia', 'Letonia',\n",
       "       'Rusia', 'Alemania', 'Azerbaiyán', 'Reino Unido', 'Albania',\n",
       "       'Suecia', 'Noruega', 'España', 'Bélgica', 'Moldavia', 'Israel',\n",
       "       'Austria', 'Serbia', 'Irlanda', 'Finlandia'], dtype=object)"
      ]
     },
     "execution_count": 70,
     "metadata": {},
     "output_type": "execute_result"
    }
   ],
   "source": [
    "df_medallas_24 = df_medallas_24.replace('AIN', 'Bielorrusia', regex=True)\n",
    "df_medallas_24.País.unique() "
   ]
  },
  {
   "cell_type": "code",
   "execution_count": 75,
   "id": "b9c713d2",
   "metadata": {},
   "outputs": [],
   "source": [
    "crear_columnas_desde_Resultados(df = df_medallas_24)"
   ]
  },
  {
   "cell_type": "code",
   "execution_count": 76,
   "id": "303ace9d",
   "metadata": {},
   "outputs": [],
   "source": [
    "crear_columnas_desde_Eventos (df = df_medallas_24)"
   ]
  },
  {
   "cell_type": "markdown",
   "id": "fdf043e2",
   "metadata": {},
   "source": [
    "Comprobamos que se hayan aplicado correctamente la creación de las columnas"
   ]
  },
  {
   "cell_type": "code",
   "execution_count": 78,
   "id": "132c0df5",
   "metadata": {},
   "outputs": [
    {
     "name": "stdout",
     "output_type": "stream",
     "text": [
      "¿Cuántas filas y columnas hay en el conjunto de datos?\n",
      "\tHay 300 filas y 13 columnas.\n",
      "\n",
      "########################################################################################\n",
      "¿Cuáles son las primeras cinco filas del conjunto de datos?\n"
     ]
    },
    {
     "data": {
      "text/html": [
       "<div>\n",
       "<style scoped>\n",
       "    .dataframe tbody tr th:only-of-type {\n",
       "        vertical-align: middle;\n",
       "    }\n",
       "\n",
       "    .dataframe tbody tr th {\n",
       "        vertical-align: top;\n",
       "    }\n",
       "\n",
       "    .dataframe thead th {\n",
       "        text-align: right;\n",
       "    }\n",
       "</style>\n",
       "<table border=\"1\" class=\"dataframe\">\n",
       "  <thead>\n",
       "    <tr style=\"text-align: right;\">\n",
       "      <th></th>\n",
       "      <th>Eventos</th>\n",
       "      <th>Año</th>\n",
       "      <th>Genero</th>\n",
       "      <th>Medalla</th>\n",
       "      <th>Atleta</th>\n",
       "      <th>Nombre</th>\n",
       "      <th>Apellido</th>\n",
       "      <th>País</th>\n",
       "      <th>Resultados</th>\n",
       "      <th>Arrancada</th>\n",
       "      <th>Dos Tiempos</th>\n",
       "      <th>Total</th>\n",
       "      <th>Fecha</th>\n",
       "    </tr>\n",
       "  </thead>\n",
       "  <tbody>\n",
       "    <tr>\n",
       "      <th>0</th>\n",
       "      <td>55 kg (06.04)</td>\n",
       "      <td>2019</td>\n",
       "      <td>Masculino</td>\n",
       "      <td>Oro</td>\n",
       "      <td>Mirco Scarantino Italia  116 + 145 = 261</td>\n",
       "      <td>Mirco</td>\n",
       "      <td>Scarantino</td>\n",
       "      <td>Italia</td>\n",
       "      <td>116 + 145 = 261</td>\n",
       "      <td>116</td>\n",
       "      <td>145</td>\n",
       "      <td>261</td>\n",
       "      <td>06-04-2019</td>\n",
       "    </tr>\n",
       "    <tr>\n",
       "      <th>1</th>\n",
       "      <td>61 kg (07.04)</td>\n",
       "      <td>2019</td>\n",
       "      <td>Masculino</td>\n",
       "      <td>Oro</td>\n",
       "      <td>Henadz Laptseu Bielorrusia  133 + 153 = 286</td>\n",
       "      <td>Henadz</td>\n",
       "      <td>Laptseu</td>\n",
       "      <td>Bielorrusia</td>\n",
       "      <td>133 + 153 = 286</td>\n",
       "      <td>133</td>\n",
       "      <td>153</td>\n",
       "      <td>286</td>\n",
       "      <td>07-04-2019</td>\n",
       "    </tr>\n",
       "    <tr>\n",
       "      <th>2</th>\n",
       "      <td>67 kg (08.04)</td>\n",
       "      <td>2019</td>\n",
       "      <td>Masculino</td>\n",
       "      <td>Oro</td>\n",
       "      <td>Bernardin Matam Francia  137 + 175 = 312</td>\n",
       "      <td>Bernardin</td>\n",
       "      <td>Matam</td>\n",
       "      <td>Francia</td>\n",
       "      <td>137 + 175 = 312</td>\n",
       "      <td>137</td>\n",
       "      <td>175</td>\n",
       "      <td>312</td>\n",
       "      <td>08-04-2019</td>\n",
       "    </tr>\n",
       "    <tr>\n",
       "      <th>3</th>\n",
       "      <td>73 kg (09.04)</td>\n",
       "      <td>2019</td>\n",
       "      <td>Masculino</td>\n",
       "      <td>Oro</td>\n",
       "      <td>Bozhidar Andreev Bulgaria  153 + 192 = 345</td>\n",
       "      <td>Bozhidar</td>\n",
       "      <td>Andreev</td>\n",
       "      <td>Bulgaria</td>\n",
       "      <td>153 + 192 = 345</td>\n",
       "      <td>153</td>\n",
       "      <td>192</td>\n",
       "      <td>345</td>\n",
       "      <td>09-04-2019</td>\n",
       "    </tr>\n",
       "    <tr>\n",
       "      <th>4</th>\n",
       "      <td>81 kg (10.04)</td>\n",
       "      <td>2019</td>\n",
       "      <td>Masculino</td>\n",
       "      <td>Oro</td>\n",
       "      <td>Antonino Pizzolato Italia  155 + 201 = 356</td>\n",
       "      <td>Antonino</td>\n",
       "      <td>Pizzolato</td>\n",
       "      <td>Italia</td>\n",
       "      <td>155 + 201 = 356</td>\n",
       "      <td>155</td>\n",
       "      <td>201</td>\n",
       "      <td>356</td>\n",
       "      <td>10-04-2019</td>\n",
       "    </tr>\n",
       "  </tbody>\n",
       "</table>\n",
       "</div>"
      ],
      "text/plain": [
       "         Eventos   Año     Genero Medalla  \\\n",
       "0  55 kg (06.04)  2019  Masculino     Oro   \n",
       "1  61 kg (07.04)  2019  Masculino     Oro   \n",
       "2  67 kg (08.04)  2019  Masculino     Oro   \n",
       "3  73 kg (09.04)  2019  Masculino     Oro   \n",
       "4  81 kg (10.04)  2019  Masculino     Oro   \n",
       "\n",
       "                                        Atleta     Nombre    Apellido  \\\n",
       "0    Mirco Scarantino Italia  116 + 145 = 261       Mirco  Scarantino   \n",
       "1  Henadz Laptseu Bielorrusia  133 + 153 = 286     Henadz     Laptseu   \n",
       "2     Bernardin Matam Francia  137 + 175 = 312  Bernardin       Matam   \n",
       "3   Bozhidar Andreev Bulgaria  153 + 192 = 345   Bozhidar     Andreev   \n",
       "4   Antonino Pizzolato Italia  155 + 201 = 356   Antonino   Pizzolato   \n",
       "\n",
       "          País        Resultados Arrancada Dos Tiempos Total       Fecha  \n",
       "0       Italia  116 + 145 = 261       116         145    261  06-04-2019  \n",
       "1  Bielorrusia   133 + 153 = 286      133         153    286  07-04-2019  \n",
       "2      Francia   137 + 175 = 312      137         175    312  08-04-2019  \n",
       "3     Bulgaria   153 + 192 = 345      153         192    345  09-04-2019  \n",
       "4       Italia   155 + 201 = 356      155         201    356  10-04-2019  "
      ]
     },
     "metadata": {},
     "output_type": "display_data"
    },
    {
     "name": "stdout",
     "output_type": "stream",
     "text": [
      "\n",
      "########################################################################################\n",
      "¿Cuáles son las últimas cinco filas del conjunto de datos?\n"
     ]
    },
    {
     "data": {
      "text/html": [
       "<div>\n",
       "<style scoped>\n",
       "    .dataframe tbody tr th:only-of-type {\n",
       "        vertical-align: middle;\n",
       "    }\n",
       "\n",
       "    .dataframe tbody tr th {\n",
       "        vertical-align: top;\n",
       "    }\n",
       "\n",
       "    .dataframe thead th {\n",
       "        text-align: right;\n",
       "    }\n",
       "</style>\n",
       "<table border=\"1\" class=\"dataframe\">\n",
       "  <thead>\n",
       "    <tr style=\"text-align: right;\">\n",
       "      <th></th>\n",
       "      <th>Eventos</th>\n",
       "      <th>Año</th>\n",
       "      <th>Genero</th>\n",
       "      <th>Medalla</th>\n",
       "      <th>Atleta</th>\n",
       "      <th>Nombre</th>\n",
       "      <th>Apellido</th>\n",
       "      <th>País</th>\n",
       "      <th>Resultados</th>\n",
       "      <th>Arrancada</th>\n",
       "      <th>Dos Tiempos</th>\n",
       "      <th>Total</th>\n",
       "      <th>Fecha</th>\n",
       "    </tr>\n",
       "  </thead>\n",
       "  <tbody>\n",
       "    <tr>\n",
       "      <th>295</th>\n",
       "      <td>71 kg (16.02)</td>\n",
       "      <td>2024</td>\n",
       "      <td>Femenino</td>\n",
       "      <td>Bronce</td>\n",
       "      <td>Lisa Marie Schweizer Alemania  107 + 124 = 231</td>\n",
       "      <td>Lisa</td>\n",
       "      <td>Marie Schweizer</td>\n",
       "      <td>Alemania</td>\n",
       "      <td>107 + 124 = 231</td>\n",
       "      <td>107</td>\n",
       "      <td>124</td>\n",
       "      <td>231</td>\n",
       "      <td>16-02-2024</td>\n",
       "    </tr>\n",
       "    <tr>\n",
       "      <th>296</th>\n",
       "      <td>76 kg (17.02)</td>\n",
       "      <td>2024</td>\n",
       "      <td>Femenino</td>\n",
       "      <td>Bronce</td>\n",
       "      <td>Lara Dancz Alemania  101 + 114 = 215</td>\n",
       "      <td>Lara</td>\n",
       "      <td>Dancz</td>\n",
       "      <td>Alemania</td>\n",
       "      <td>101 + 114 = 215</td>\n",
       "      <td>101</td>\n",
       "      <td>114</td>\n",
       "      <td>215</td>\n",
       "      <td>17-02-2024</td>\n",
       "    </tr>\n",
       "    <tr>\n",
       "      <th>297</th>\n",
       "      <td>81 kg (18.02)</td>\n",
       "      <td>2024</td>\n",
       "      <td>Femenino</td>\n",
       "      <td>Bronce</td>\n",
       "      <td>Dilara Narin Turquía  97 + 125 = 222</td>\n",
       "      <td>Dilara</td>\n",
       "      <td>Narin</td>\n",
       "      <td>Turquía</td>\n",
       "      <td>97 + 125 = 222</td>\n",
       "      <td>97</td>\n",
       "      <td>125</td>\n",
       "      <td>222</td>\n",
       "      <td>18-02-2024</td>\n",
       "    </tr>\n",
       "    <tr>\n",
       "      <th>298</th>\n",
       "      <td>87 kg (19.02)</td>\n",
       "      <td>2024</td>\n",
       "      <td>Femenino</td>\n",
       "      <td>Bronce</td>\n",
       "      <td>Hripsime Jurshudian Armenia  105 + 122 = 227</td>\n",
       "      <td>Hripsime</td>\n",
       "      <td>Jurshudian</td>\n",
       "      <td>Armenia</td>\n",
       "      <td>105 + 122 = 227</td>\n",
       "      <td>105</td>\n",
       "      <td>122</td>\n",
       "      <td>227</td>\n",
       "      <td>19-02-2024</td>\n",
       "    </tr>\n",
       "    <tr>\n",
       "      <th>299</th>\n",
       "      <td>+87 kg (20.02)</td>\n",
       "      <td>2024</td>\n",
       "      <td>Femenino</td>\n",
       "      <td>Bronce</td>\n",
       "      <td>Fatmagül Çevik Turquía  107 + 131 = 238</td>\n",
       "      <td>Fatmagül</td>\n",
       "      <td>Çevik</td>\n",
       "      <td>Turquía</td>\n",
       "      <td>107 + 131 = 238</td>\n",
       "      <td>107</td>\n",
       "      <td>131</td>\n",
       "      <td>238</td>\n",
       "      <td>20-02-2024</td>\n",
       "    </tr>\n",
       "  </tbody>\n",
       "</table>\n",
       "</div>"
      ],
      "text/plain": [
       "            Eventos   Año    Genero Medalla  \\\n",
       "295   71 kg (16.02)  2024  Femenino  Bronce   \n",
       "296   76 kg (17.02)  2024  Femenino  Bronce   \n",
       "297   81 kg (18.02)  2024  Femenino  Bronce   \n",
       "298   87 kg (19.02)  2024  Femenino  Bronce   \n",
       "299  +87 kg (20.02)  2024  Femenino  Bronce   \n",
       "\n",
       "                                             Atleta    Nombre  \\\n",
       "295  Lisa Marie Schweizer Alemania  107 + 124 = 231      Lisa   \n",
       "296            Lara Dancz Alemania  101 + 114 = 215      Lara   \n",
       "297            Dilara Narin Turquía  97 + 125 = 222    Dilara   \n",
       "298    Hripsime Jurshudian Armenia  105 + 122 = 227  Hripsime   \n",
       "299         Fatmagül Çevik Turquía  107 + 131 = 238  Fatmagül   \n",
       "\n",
       "            Apellido      País       Resultados Arrancada Dos Tiempos Total  \\\n",
       "295  Marie Schweizer  Alemania  107 + 124 = 231      107         124    231   \n",
       "296            Dancz  Alemania  101 + 114 = 215      101         114    215   \n",
       "297            Narin   Turquía   97 + 125 = 222       97         125    222   \n",
       "298       Jurshudian   Armenia  105 + 122 = 227      105         122    227   \n",
       "299            Çevik   Turquía  107 + 131 = 238      107         131    238   \n",
       "\n",
       "          Fecha  \n",
       "295  16-02-2024  \n",
       "296  17-02-2024  \n",
       "297  18-02-2024  \n",
       "298  19-02-2024  \n",
       "299  20-02-2024  "
      ]
     },
     "metadata": {},
     "output_type": "display_data"
    },
    {
     "name": "stdout",
     "output_type": "stream",
     "text": [
      "\n",
      "########################################################################################\n",
      "¿Cómo puedes obtener una muestra aleatoria de filas del conjunto de datos?\n"
     ]
    },
    {
     "data": {
      "text/html": [
       "<div>\n",
       "<style scoped>\n",
       "    .dataframe tbody tr th:only-of-type {\n",
       "        vertical-align: middle;\n",
       "    }\n",
       "\n",
       "    .dataframe tbody tr th {\n",
       "        vertical-align: top;\n",
       "    }\n",
       "\n",
       "    .dataframe thead th {\n",
       "        text-align: right;\n",
       "    }\n",
       "</style>\n",
       "<table border=\"1\" class=\"dataframe\">\n",
       "  <thead>\n",
       "    <tr style=\"text-align: right;\">\n",
       "      <th></th>\n",
       "      <th>Eventos</th>\n",
       "      <th>Año</th>\n",
       "      <th>Genero</th>\n",
       "      <th>Medalla</th>\n",
       "      <th>Atleta</th>\n",
       "      <th>Nombre</th>\n",
       "      <th>Apellido</th>\n",
       "      <th>País</th>\n",
       "      <th>Resultados</th>\n",
       "      <th>Arrancada</th>\n",
       "      <th>Dos Tiempos</th>\n",
       "      <th>Total</th>\n",
       "      <th>Fecha</th>\n",
       "    </tr>\n",
       "  </thead>\n",
       "  <tbody>\n",
       "    <tr>\n",
       "      <th>44</th>\n",
       "      <td>81 kg (01.06)</td>\n",
       "      <td>2022</td>\n",
       "      <td>Masculino</td>\n",
       "      <td>Oro</td>\n",
       "      <td>Rafik Harutiunian Armenia  160 + 194 = 354</td>\n",
       "      <td>Rafik</td>\n",
       "      <td>Harutiunian</td>\n",
       "      <td>Armenia</td>\n",
       "      <td>160 + 194 = 354</td>\n",
       "      <td>160</td>\n",
       "      <td>194</td>\n",
       "      <td>354</td>\n",
       "      <td>01-06-2022</td>\n",
       "    </tr>\n",
       "    <tr>\n",
       "      <th>171</th>\n",
       "      <td>49 kg (15.04)</td>\n",
       "      <td>2023</td>\n",
       "      <td>Femenino</td>\n",
       "      <td>Plata</td>\n",
       "      <td>Giulia Imperio Italia  83 + 100 = 183</td>\n",
       "      <td>Giulia</td>\n",
       "      <td>Imperio</td>\n",
       "      <td>Italia</td>\n",
       "      <td>83 + 100 = 183</td>\n",
       "      <td>83</td>\n",
       "      <td>100</td>\n",
       "      <td>183</td>\n",
       "      <td>15-04-2023</td>\n",
       "    </tr>\n",
       "    <tr>\n",
       "      <th>28</th>\n",
       "      <td>109 kg (10.04)</td>\n",
       "      <td>2021</td>\n",
       "      <td>Masculino</td>\n",
       "      <td>Oro</td>\n",
       "      <td>Dmytro Chumak Ucrania  181 + 226 = 407</td>\n",
       "      <td>Dmytro</td>\n",
       "      <td>Chumak</td>\n",
       "      <td>Ucrania</td>\n",
       "      <td>181 + 226 = 407</td>\n",
       "      <td>181</td>\n",
       "      <td>226</td>\n",
       "      <td>407</td>\n",
       "      <td>10-04-2021</td>\n",
       "    </tr>\n",
       "    <tr>\n",
       "      <th>199</th>\n",
       "      <td>+87 kg (20.02)</td>\n",
       "      <td>2024</td>\n",
       "      <td>Femenino</td>\n",
       "      <td>Plata</td>\n",
       "      <td>Anastasiya Hotfrid Georgia  117 + 140 = 257</td>\n",
       "      <td>Anastasiya</td>\n",
       "      <td>Hotfrid</td>\n",
       "      <td>Georgia</td>\n",
       "      <td>117 + 140 = 257</td>\n",
       "      <td>117</td>\n",
       "      <td>140</td>\n",
       "      <td>257</td>\n",
       "      <td>20-02-2024</td>\n",
       "    </tr>\n",
       "    <tr>\n",
       "      <th>283</th>\n",
       "      <td>73 kg (15.02)</td>\n",
       "      <td>2024</td>\n",
       "      <td>Masculino</td>\n",
       "      <td>Bronce</td>\n",
       "      <td>Ritvars Suharevs Letonia  154 + 177 = 331</td>\n",
       "      <td>Ritvars</td>\n",
       "      <td>Suharevs</td>\n",
       "      <td>Letonia</td>\n",
       "      <td>154 + 177 = 331</td>\n",
       "      <td>154</td>\n",
       "      <td>177</td>\n",
       "      <td>331</td>\n",
       "      <td>15-02-2024</td>\n",
       "    </tr>\n",
       "  </tbody>\n",
       "</table>\n",
       "</div>"
      ],
      "text/plain": [
       "            Eventos   Año     Genero Medalla  \\\n",
       "44    81 kg (01.06)  2022  Masculino     Oro   \n",
       "171   49 kg (15.04)  2023   Femenino   Plata   \n",
       "28   109 kg (10.04)  2021  Masculino     Oro   \n",
       "199  +87 kg (20.02)  2024   Femenino   Plata   \n",
       "283   73 kg (15.02)  2024  Masculino  Bronce   \n",
       "\n",
       "                                          Atleta      Nombre     Apellido  \\\n",
       "44    Rafik Harutiunian Armenia  160 + 194 = 354       Rafik  Harutiunian   \n",
       "171        Giulia Imperio Italia  83 + 100 = 183      Giulia      Imperio   \n",
       "28        Dmytro Chumak Ucrania  181 + 226 = 407      Dmytro       Chumak   \n",
       "199  Anastasiya Hotfrid Georgia  117 + 140 = 257  Anastasiya      Hotfrid   \n",
       "283    Ritvars Suharevs Letonia  154 + 177 = 331     Ritvars     Suharevs   \n",
       "\n",
       "        País       Resultados Arrancada Dos Tiempos Total       Fecha  \n",
       "44   Armenia  160 + 194 = 354      160         194    354  01-06-2022  \n",
       "171   Italia   83 + 100 = 183       83         100    183  15-04-2023  \n",
       "28   Ucrania  181 + 226 = 407      181         226    407  10-04-2021  \n",
       "199  Georgia  117 + 140 = 257      117         140    257  20-02-2024  \n",
       "283  Letonia  154 + 177 = 331      154         177    331  15-02-2024  "
      ]
     },
     "metadata": {},
     "output_type": "display_data"
    },
    {
     "name": "stdout",
     "output_type": "stream",
     "text": [
      "\n",
      "########################################################################################\n",
      "¿Cuáles son las columnas del conjunto de datos?\n",
      "\t - Eventos\n",
      "\t - Año\n",
      "\t - Genero\n",
      "\t - Medalla\n",
      "\t - Atleta\n",
      "\t - Nombre\n",
      "\t - Apellido\n",
      "\t - País\n",
      "\t - Resultados\n",
      "\t - Arrancada\n",
      "\t - Dos Tiempos\n",
      "\t - Total\n",
      "\t - Fecha\n",
      "\n",
      "########################################################################################\n",
      "¿Cuál es el tipo de datos de cada columna?\n",
      "Eventos        object\n",
      "Año            object\n",
      "Genero         object\n",
      "Medalla        object\n",
      "Atleta         object\n",
      "Nombre         object\n",
      "Apellido       object\n",
      "País           object\n",
      "Resultados     object\n",
      "Arrancada      object\n",
      "Dos Tiempos    object\n",
      "Total          object\n",
      "Fecha          object\n",
      "dtype: object\n",
      "\n",
      "########################################################################################\n",
      "¿Cuántas columnas hay de cada tipo de datos?\n",
      "object    13\n",
      "Name: count, dtype: int64\n",
      "\n",
      "########################################################################################\n",
      "¿Cómo podríamos obtener información más completa sobre la estructura y el contenido del DataFrame?\n",
      "<class 'pandas.core.frame.DataFrame'>\n",
      "RangeIndex: 300 entries, 0 to 299\n",
      "Data columns (total 13 columns):\n",
      " #   Column       Non-Null Count  Dtype \n",
      "---  ------       --------------  ----- \n",
      " 0   Eventos      300 non-null    object\n",
      " 1   Año          300 non-null    object\n",
      " 2   Genero       300 non-null    object\n",
      " 3   Medalla      300 non-null    object\n",
      " 4   Atleta       300 non-null    object\n",
      " 5   Nombre       300 non-null    object\n",
      " 6   Apellido     300 non-null    object\n",
      " 7   País         300 non-null    object\n",
      " 8   Resultados   300 non-null    object\n",
      " 9   Arrancada    300 non-null    object\n",
      " 10  Dos Tiempos  300 non-null    object\n",
      " 11  Total        300 non-null    object\n",
      " 12  Fecha        300 non-null    object\n",
      "dtypes: object(13)\n",
      "memory usage: 30.6+ KB\n",
      "None\n",
      "\n",
      "########################################################################################\n",
      "¿Cuántos valores únicos tiene cada columna?\n",
      "Eventos         96\n",
      "Año              5\n",
      "Genero           2\n",
      "Medalla          3\n",
      "Atleta         298\n",
      "Nombre         151\n",
      "Apellido       170\n",
      "País            26\n",
      "Resultados     280\n",
      "Arrancada      117\n",
      "Dos Tiempos    130\n",
      "Total          173\n",
      "Fecha           44\n",
      "dtype: int64\n",
      "\n",
      "########################################################################################\n",
      "¿Cuáles son las estadísticas descriptivas básicas de todas las columnas?\n"
     ]
    },
    {
     "data": {
      "text/html": [
       "<div>\n",
       "<style scoped>\n",
       "    .dataframe tbody tr th:only-of-type {\n",
       "        vertical-align: middle;\n",
       "    }\n",
       "\n",
       "    .dataframe tbody tr th {\n",
       "        vertical-align: top;\n",
       "    }\n",
       "\n",
       "    .dataframe thead th {\n",
       "        text-align: right;\n",
       "    }\n",
       "</style>\n",
       "<table border=\"1\" class=\"dataframe\">\n",
       "  <thead>\n",
       "    <tr style=\"text-align: right;\">\n",
       "      <th></th>\n",
       "      <th>Eventos</th>\n",
       "      <th>Año</th>\n",
       "      <th>Genero</th>\n",
       "      <th>Medalla</th>\n",
       "      <th>Atleta</th>\n",
       "      <th>Nombre</th>\n",
       "      <th>Apellido</th>\n",
       "      <th>País</th>\n",
       "      <th>Resultados</th>\n",
       "      <th>Arrancada</th>\n",
       "      <th>Dos Tiempos</th>\n",
       "      <th>Total</th>\n",
       "      <th>Fecha</th>\n",
       "    </tr>\n",
       "  </thead>\n",
       "  <tbody>\n",
       "    <tr>\n",
       "      <th>count</th>\n",
       "      <td>300</td>\n",
       "      <td>300</td>\n",
       "      <td>300</td>\n",
       "      <td>300</td>\n",
       "      <td>300</td>\n",
       "      <td>300</td>\n",
       "      <td>300</td>\n",
       "      <td>300</td>\n",
       "      <td>300</td>\n",
       "      <td>300</td>\n",
       "      <td>300</td>\n",
       "      <td>300</td>\n",
       "      <td>300</td>\n",
       "    </tr>\n",
       "    <tr>\n",
       "      <th>unique</th>\n",
       "      <td>96</td>\n",
       "      <td>5</td>\n",
       "      <td>2</td>\n",
       "      <td>3</td>\n",
       "      <td>298</td>\n",
       "      <td>151</td>\n",
       "      <td>170</td>\n",
       "      <td>26</td>\n",
       "      <td>280</td>\n",
       "      <td>117</td>\n",
       "      <td>130</td>\n",
       "      <td>173</td>\n",
       "      <td>44</td>\n",
       "    </tr>\n",
       "    <tr>\n",
       "      <th>top</th>\n",
       "      <td>55 kg (04.04)</td>\n",
       "      <td>2019</td>\n",
       "      <td>Masculino</td>\n",
       "      <td>Oro</td>\n",
       "      <td>Nuray Güngör Turquía  99 + 120 = 219</td>\n",
       "      <td>Anastasiya</td>\n",
       "      <td>Campbell</td>\n",
       "      <td>Armenia</td>\n",
       "      <td>110 + 130 = 240</td>\n",
       "      <td>101</td>\n",
       "      <td>120</td>\n",
       "      <td>235</td>\n",
       "      <td>13-04-2019</td>\n",
       "    </tr>\n",
       "    <tr>\n",
       "      <th>freq</th>\n",
       "      <td>6</td>\n",
       "      <td>60</td>\n",
       "      <td>150</td>\n",
       "      <td>100</td>\n",
       "      <td>2</td>\n",
       "      <td>11</td>\n",
       "      <td>5</td>\n",
       "      <td>44</td>\n",
       "      <td>2</td>\n",
       "      <td>8</td>\n",
       "      <td>12</td>\n",
       "      <td>7</td>\n",
       "      <td>12</td>\n",
       "    </tr>\n",
       "  </tbody>\n",
       "</table>\n",
       "</div>"
      ],
      "text/plain": [
       "              Eventos   Año     Genero Medalla  \\\n",
       "count             300   300        300     300   \n",
       "unique             96     5          2       3   \n",
       "top     55 kg (04.04)  2019  Masculino     Oro   \n",
       "freq                6    60        150     100   \n",
       "\n",
       "                                      Atleta      Nombre  Apellido     País  \\\n",
       "count                                    300         300       300      300   \n",
       "unique                                   298         151       170       26   \n",
       "top     Nuray Güngör Turquía  99 + 120 = 219  Anastasiya  Campbell  Armenia   \n",
       "freq                                       2          11         5       44   \n",
       "\n",
       "             Resultados Arrancada Dos Tiempos Total       Fecha  \n",
       "count               300       300         300   300         300  \n",
       "unique              280       117         130   173          44  \n",
       "top     110 + 130 = 240      101         120    235  13-04-2019  \n",
       "freq                  2         8          12     7          12  "
      ]
     },
     "metadata": {},
     "output_type": "display_data"
    },
    {
     "name": "stdout",
     "output_type": "stream",
     "text": [
      "\n",
      "########################################################################################\n",
      "¿Hay valores nulos en el conjunto de datos?\n",
      "Eventos        0\n",
      "Año            0\n",
      "Genero         0\n",
      "Medalla        0\n",
      "Atleta         0\n",
      "Nombre         0\n",
      "Apellido       0\n",
      "País           0\n",
      "Resultados     0\n",
      "Arrancada      0\n",
      "Dos Tiempos    0\n",
      "Total          0\n",
      "Fecha          0\n",
      "dtype: int64\n",
      "\n",
      "########################################################################################\n",
      "¿Cuál es el porcentaje de valores nulos en cada columna?\n",
      "Eventos        0.0\n",
      "Año            0.0\n",
      "Genero         0.0\n",
      "Medalla        0.0\n",
      "Atleta         0.0\n",
      "Nombre         0.0\n",
      "Apellido       0.0\n",
      "País           0.0\n",
      "Resultados     0.0\n",
      "Arrancada      0.0\n",
      "Dos Tiempos    0.0\n",
      "Total          0.0\n",
      "Fecha          0.0\n",
      "dtype: float64\n",
      "\n",
      "########################################################################################\n",
      "¿Hay filas duplicadas en el conjunto de datos?\n",
      "\tExisten duplicados: False\n",
      "\tNúmero total de filas duplicadas: 0\n",
      "\n",
      "########################################################################################\n"
     ]
    }
   ],
   "source": [
    "exploracion_inicial(df = df_medallas_24)"
   ]
  },
  {
   "cell_type": "markdown",
   "id": "94439ba7",
   "metadata": {},
   "source": [
    "## <span style=\"color: #2A8E3C;\"> Paso 7. Filtrado de columnas y ordenación </span>"
   ]
  },
  {
   "cell_type": "markdown",
   "id": "dade8c1e",
   "metadata": {},
   "source": [
    "Selecciono solo las columnas que voy a utilizar:"
   ]
  },
  {
   "cell_type": "code",
   "execution_count": 80,
   "id": "addd5054",
   "metadata": {},
   "outputs": [],
   "source": [
    "df_columnas_24 = df_medallas_24.loc[:,['Genero','Eventos', 'Fecha', 'Medalla', 'Nombre', 'Apellido', 'País', 'Arrancada', 'Dos Tiempos', 'Total']]"
   ]
  },
  {
   "cell_type": "code",
   "execution_count": 81,
   "id": "f5c8300a",
   "metadata": {},
   "outputs": [
    {
     "data": {
      "text/plain": [
       "array(['55 kg', '61 kg', '67 kg', '73 kg', '81 kg', '89 kg', '96 kg',\n",
       "       '102 kg', '109 kg', '+109 kg', '45 kg', '49 kg', '59 kg', '64 kg',\n",
       "       '71 kg', '76 kg', '87 kg', '+87 kg'], dtype=object)"
      ]
     },
     "execution_count": 81,
     "metadata": {},
     "output_type": "execute_result"
    }
   ],
   "source": [
    "#Extraer solo los números y añadir espacio y kg\n",
    "df_columnas_24[\"Categoría\"] = df_columnas_24.Eventos.str.extract(r'(\\+?\\d{1,3})')[0] + \" kg\" \n",
    "\n",
    "#Compruebar si se ha eliminado correctamente el \\xa0 y añadido kg\n",
    "df_columnas_24['Categoría'].unique() "
   ]
  },
  {
   "cell_type": "markdown",
   "id": "bdd0c6d7",
   "metadata": {},
   "source": [
    "Ordeno las columnas para que queden en el orden solicitado:"
   ]
  },
  {
   "cell_type": "code",
   "execution_count": 82,
   "id": "856fca26",
   "metadata": {},
   "outputs": [
    {
     "data": {
      "text/html": [
       "<div>\n",
       "<style scoped>\n",
       "    .dataframe tbody tr th:only-of-type {\n",
       "        vertical-align: middle;\n",
       "    }\n",
       "\n",
       "    .dataframe tbody tr th {\n",
       "        vertical-align: top;\n",
       "    }\n",
       "\n",
       "    .dataframe thead th {\n",
       "        text-align: right;\n",
       "    }\n",
       "</style>\n",
       "<table border=\"1\" class=\"dataframe\">\n",
       "  <thead>\n",
       "    <tr style=\"text-align: right;\">\n",
       "      <th></th>\n",
       "      <th>Genero</th>\n",
       "      <th>Categoría</th>\n",
       "      <th>Fecha</th>\n",
       "      <th>Medalla</th>\n",
       "      <th>Nombre</th>\n",
       "      <th>Apellido</th>\n",
       "      <th>País</th>\n",
       "      <th>Arrancada</th>\n",
       "      <th>Dos Tiempos</th>\n",
       "      <th>Total</th>\n",
       "    </tr>\n",
       "  </thead>\n",
       "  <tbody>\n",
       "    <tr>\n",
       "      <th>0</th>\n",
       "      <td>Masculino</td>\n",
       "      <td>55 kg</td>\n",
       "      <td>2019-04-06</td>\n",
       "      <td>Oro</td>\n",
       "      <td>Mirco</td>\n",
       "      <td>Scarantino</td>\n",
       "      <td>Italia</td>\n",
       "      <td>116</td>\n",
       "      <td>145</td>\n",
       "      <td>261</td>\n",
       "    </tr>\n",
       "    <tr>\n",
       "      <th>1</th>\n",
       "      <td>Masculino</td>\n",
       "      <td>61 kg</td>\n",
       "      <td>2019-04-07</td>\n",
       "      <td>Oro</td>\n",
       "      <td>Henadz</td>\n",
       "      <td>Laptseu</td>\n",
       "      <td>Bielorrusia</td>\n",
       "      <td>133</td>\n",
       "      <td>153</td>\n",
       "      <td>286</td>\n",
       "    </tr>\n",
       "    <tr>\n",
       "      <th>2</th>\n",
       "      <td>Masculino</td>\n",
       "      <td>67 kg</td>\n",
       "      <td>2019-04-08</td>\n",
       "      <td>Oro</td>\n",
       "      <td>Bernardin</td>\n",
       "      <td>Matam</td>\n",
       "      <td>Francia</td>\n",
       "      <td>137</td>\n",
       "      <td>175</td>\n",
       "      <td>312</td>\n",
       "    </tr>\n",
       "    <tr>\n",
       "      <th>3</th>\n",
       "      <td>Masculino</td>\n",
       "      <td>73 kg</td>\n",
       "      <td>2019-04-09</td>\n",
       "      <td>Oro</td>\n",
       "      <td>Bozhidar</td>\n",
       "      <td>Andreev</td>\n",
       "      <td>Bulgaria</td>\n",
       "      <td>153</td>\n",
       "      <td>192</td>\n",
       "      <td>345</td>\n",
       "    </tr>\n",
       "    <tr>\n",
       "      <th>4</th>\n",
       "      <td>Masculino</td>\n",
       "      <td>81 kg</td>\n",
       "      <td>2019-04-10</td>\n",
       "      <td>Oro</td>\n",
       "      <td>Antonino</td>\n",
       "      <td>Pizzolato</td>\n",
       "      <td>Italia</td>\n",
       "      <td>155</td>\n",
       "      <td>201</td>\n",
       "      <td>356</td>\n",
       "    </tr>\n",
       "  </tbody>\n",
       "</table>\n",
       "</div>"
      ],
      "text/plain": [
       "      Genero Categoría      Fecha Medalla     Nombre    Apellido         País  \\\n",
       "0  Masculino     55 kg 2019-04-06     Oro      Mirco  Scarantino       Italia   \n",
       "1  Masculino     61 kg 2019-04-07     Oro     Henadz     Laptseu  Bielorrusia   \n",
       "2  Masculino     67 kg 2019-04-08     Oro  Bernardin       Matam      Francia   \n",
       "3  Masculino     73 kg 2019-04-09     Oro   Bozhidar     Andreev     Bulgaria   \n",
       "4  Masculino     81 kg 2019-04-10     Oro   Antonino   Pizzolato       Italia   \n",
       "\n",
       "   Arrancada  Dos Tiempos  Total  \n",
       "0        116          145    261  \n",
       "1        133          153    286  \n",
       "2        137          175    312  \n",
       "3        153          192    345  \n",
       "4        155          201    356  "
      ]
     },
     "execution_count": 82,
     "metadata": {},
     "output_type": "execute_result"
    }
   ],
   "source": [
    "df_columnas_24= df_columnas[['Genero', 'Categoría', 'Fecha', 'Medalla','Nombre', 'Apellido', 'País', 'Arrancada', 'Dos Tiempos', 'Total']].copy()\n",
    "df_columnas_24.head()"
   ]
  },
  {
   "cell_type": "markdown",
   "id": "bff1c116",
   "metadata": {},
   "source": [
    "## <span style=\"color: #2A8E3C;\"> Paso 8. Tipo de datos </span> "
   ]
  },
  {
   "cell_type": "code",
   "execution_count": 84,
   "id": "98affc4c",
   "metadata": {},
   "outputs": [
    {
     "name": "stdout",
     "output_type": "stream",
     "text": [
      "Número de valores nulos en 'Fecha_procesada': 0\n"
     ]
    }
   ],
   "source": [
    "fecha_procesada(df_columnas_24, variable_analisis = 'Fecha')"
   ]
  },
  {
   "cell_type": "code",
   "execution_count": 85,
   "id": "fef40e49",
   "metadata": {},
   "outputs": [
    {
     "name": "stdout",
     "output_type": "stream",
     "text": [
      "Número de valores nulos en Arrancada: 0\n",
      "Número de valores nulos en Dos Tiempos: 0\n",
      "Número de valores nulos en Total: 0\n"
     ]
    }
   ],
   "source": [
    "columnas_a_integer = ['Arrancada', 'Dos Tiempos', 'Total']\n",
    "for columnas in columnas_a_integer:\n",
    "    tipo_de_dato_integer(df = df_columnas_24 , variable_a_transformar = columnas)"
   ]
  },
  {
   "cell_type": "code",
   "execution_count": 88,
   "id": "eb4e4f12",
   "metadata": {},
   "outputs": [],
   "source": [
    "df_columnas_24.Medalla = pd.Categorical(df_columnas_24.Medalla, categories=orden_medallas)"
   ]
  },
  {
   "cell_type": "code",
   "execution_count": 89,
   "id": "42678070",
   "metadata": {},
   "outputs": [
    {
     "data": {
      "text/plain": [
       "Genero               category\n",
       "Categoría            category\n",
       "Fecha          datetime64[ns]\n",
       "Medalla              category\n",
       "Nombre                 object\n",
       "Apellido               object\n",
       "País                   object\n",
       "Arrancada               int64\n",
       "Dos Tiempos             int64\n",
       "Total                   int64\n",
       "dtype: object"
      ]
     },
     "execution_count": 89,
     "metadata": {},
     "output_type": "execute_result"
    }
   ],
   "source": [
    "# Comprobar el tipo de datos de cada columna\n",
    "df_columnas_24.dtypes"
   ]
  },
  {
   "cell_type": "markdown",
   "id": "188811b4",
   "metadata": {},
   "source": [
    "## <span style=\"color: #2A8E3C;\"> Paso 9. Ordendar </span> \n"
   ]
  },
  {
   "cell_type": "markdown",
   "id": "45eacfac",
   "metadata": {},
   "source": [
    "Nos solicitan ordenar la tabla por Categoría, Género y Medalla\n"
   ]
  },
  {
   "cell_type": "code",
   "execution_count": null,
   "id": "91bcc566",
   "metadata": {},
   "outputs": [],
   "source": [
    "df_columnas_24.Genero = pd.Categorical(df_columnas_24.Genero, categories=orden_genero)\n",
    "df_columnas_24.Categoría = pd.Categorical(df_columnas_24.Categoría, categories=orden_categoria)"
   ]
  },
  {
   "cell_type": "code",
   "execution_count": 91,
   "id": "ba4c63e5",
   "metadata": {},
   "outputs": [
    {
     "data": {
      "text/html": [
       "<div>\n",
       "<style scoped>\n",
       "    .dataframe tbody tr th:only-of-type {\n",
       "        vertical-align: middle;\n",
       "    }\n",
       "\n",
       "    .dataframe tbody tr th {\n",
       "        vertical-align: top;\n",
       "    }\n",
       "\n",
       "    .dataframe thead th {\n",
       "        text-align: right;\n",
       "    }\n",
       "</style>\n",
       "<table border=\"1\" class=\"dataframe\">\n",
       "  <thead>\n",
       "    <tr style=\"text-align: right;\">\n",
       "      <th></th>\n",
       "      <th>Genero</th>\n",
       "      <th>Categoría</th>\n",
       "      <th>Fecha</th>\n",
       "      <th>Medalla</th>\n",
       "      <th>Nombre</th>\n",
       "      <th>Apellido</th>\n",
       "      <th>País</th>\n",
       "      <th>Arrancada</th>\n",
       "      <th>Dos Tiempos</th>\n",
       "      <th>Total</th>\n",
       "    </tr>\n",
       "  </thead>\n",
       "  <tbody>\n",
       "    <tr>\n",
       "      <th>10</th>\n",
       "      <td>Femenino</td>\n",
       "      <td>45 kg</td>\n",
       "      <td>2019-04-06</td>\n",
       "      <td>Oro</td>\n",
       "      <td>Şaziye</td>\n",
       "      <td>Erdoğan</td>\n",
       "      <td>Turquía</td>\n",
       "      <td>75</td>\n",
       "      <td>88</td>\n",
       "      <td>163</td>\n",
       "    </tr>\n",
       "    <tr>\n",
       "      <th>30</th>\n",
       "      <td>Femenino</td>\n",
       "      <td>45 kg</td>\n",
       "      <td>2020-04-03</td>\n",
       "      <td>Oro</td>\n",
       "      <td>Nadezhda</td>\n",
       "      <td>Nguen</td>\n",
       "      <td>Bulgaria</td>\n",
       "      <td>72</td>\n",
       "      <td>83</td>\n",
       "      <td>155</td>\n",
       "    </tr>\n",
       "    <tr>\n",
       "      <th>50</th>\n",
       "      <td>Femenino</td>\n",
       "      <td>45 kg</td>\n",
       "      <td>2019-04-06</td>\n",
       "      <td>Plata</td>\n",
       "      <td>Ivana</td>\n",
       "      <td>Petrova</td>\n",
       "      <td>Bulgaria</td>\n",
       "      <td>69</td>\n",
       "      <td>89</td>\n",
       "      <td>158</td>\n",
       "    </tr>\n",
       "    <tr>\n",
       "      <th>70</th>\n",
       "      <td>Femenino</td>\n",
       "      <td>45 kg</td>\n",
       "      <td>2020-04-03</td>\n",
       "      <td>Plata</td>\n",
       "      <td>Ivana</td>\n",
       "      <td>Petrova</td>\n",
       "      <td>Bulgaria</td>\n",
       "      <td>67</td>\n",
       "      <td>85</td>\n",
       "      <td>152</td>\n",
       "    </tr>\n",
       "    <tr>\n",
       "      <th>90</th>\n",
       "      <td>Femenino</td>\n",
       "      <td>45 kg</td>\n",
       "      <td>2019-04-06</td>\n",
       "      <td>Bronce</td>\n",
       "      <td>Yuliya</td>\n",
       "      <td>Asayonak</td>\n",
       "      <td>Bielorrusia</td>\n",
       "      <td>69</td>\n",
       "      <td>81</td>\n",
       "      <td>150</td>\n",
       "    </tr>\n",
       "    <tr>\n",
       "      <th>...</th>\n",
       "      <td>...</td>\n",
       "      <td>...</td>\n",
       "      <td>...</td>\n",
       "      <td>...</td>\n",
       "      <td>...</td>\n",
       "      <td>...</td>\n",
       "      <td>...</td>\n",
       "      <td>...</td>\n",
       "      <td>...</td>\n",
       "      <td>...</td>\n",
       "    </tr>\n",
       "    <tr>\n",
       "      <th>29</th>\n",
       "      <td>Masculino</td>\n",
       "      <td>+109 kg</td>\n",
       "      <td>2020-04-11</td>\n",
       "      <td>Oro</td>\n",
       "      <td>Lasha</td>\n",
       "      <td>Talajadze</td>\n",
       "      <td>Georgia</td>\n",
       "      <td>222</td>\n",
       "      <td>263</td>\n",
       "      <td>485</td>\n",
       "    </tr>\n",
       "    <tr>\n",
       "      <th>49</th>\n",
       "      <td>Masculino</td>\n",
       "      <td>+109 kg</td>\n",
       "      <td>2019-04-13</td>\n",
       "      <td>Plata</td>\n",
       "      <td>Irakli</td>\n",
       "      <td>Turmanidze</td>\n",
       "      <td>Georgia</td>\n",
       "      <td>206</td>\n",
       "      <td>241</td>\n",
       "      <td>447</td>\n",
       "    </tr>\n",
       "    <tr>\n",
       "      <th>69</th>\n",
       "      <td>Masculino</td>\n",
       "      <td>+109 kg</td>\n",
       "      <td>2020-04-11</td>\n",
       "      <td>Plata</td>\n",
       "      <td>Gor</td>\n",
       "      <td>Minasian</td>\n",
       "      <td>Armenia</td>\n",
       "      <td>216</td>\n",
       "      <td>248</td>\n",
       "      <td>464</td>\n",
       "    </tr>\n",
       "    <tr>\n",
       "      <th>89</th>\n",
       "      <td>Masculino</td>\n",
       "      <td>+109 kg</td>\n",
       "      <td>2019-04-13</td>\n",
       "      <td>Bronce</td>\n",
       "      <td>Ruben</td>\n",
       "      <td>Alexanian</td>\n",
       "      <td>Armenia</td>\n",
       "      <td>195</td>\n",
       "      <td>245</td>\n",
       "      <td>440</td>\n",
       "    </tr>\n",
       "    <tr>\n",
       "      <th>109</th>\n",
       "      <td>Masculino</td>\n",
       "      <td>+109 kg</td>\n",
       "      <td>2020-04-11</td>\n",
       "      <td>Bronce</td>\n",
       "      <td>Varazdat</td>\n",
       "      <td>Lalayan</td>\n",
       "      <td>Armenia</td>\n",
       "      <td>205</td>\n",
       "      <td>240</td>\n",
       "      <td>445</td>\n",
       "    </tr>\n",
       "  </tbody>\n",
       "</table>\n",
       "<p>120 rows × 10 columns</p>\n",
       "</div>"
      ],
      "text/plain": [
       "        Genero Categoría      Fecha Medalla    Nombre    Apellido  \\\n",
       "10    Femenino     45 kg 2019-04-06     Oro    Şaziye     Erdoğan   \n",
       "30    Femenino     45 kg 2020-04-03     Oro  Nadezhda       Nguen   \n",
       "50    Femenino     45 kg 2019-04-06   Plata     Ivana     Petrova   \n",
       "70    Femenino     45 kg 2020-04-03   Plata     Ivana     Petrova   \n",
       "90    Femenino     45 kg 2019-04-06  Bronce    Yuliya    Asayonak   \n",
       "..         ...       ...        ...     ...       ...         ...   \n",
       "29   Masculino   +109 kg 2020-04-11     Oro     Lasha   Talajadze   \n",
       "49   Masculino   +109 kg 2019-04-13   Plata    Irakli  Turmanidze   \n",
       "69   Masculino   +109 kg 2020-04-11   Plata       Gor    Minasian   \n",
       "89   Masculino   +109 kg 2019-04-13  Bronce     Ruben   Alexanian   \n",
       "109  Masculino   +109 kg 2020-04-11  Bronce  Varazdat     Lalayan   \n",
       "\n",
       "            País  Arrancada  Dos Tiempos  Total  \n",
       "10       Turquía         75           88    163  \n",
       "30      Bulgaria         72           83    155  \n",
       "50      Bulgaria         69           89    158  \n",
       "70      Bulgaria         67           85    152  \n",
       "90   Bielorrusia         69           81    150  \n",
       "..           ...        ...          ...    ...  \n",
       "29       Georgia        222          263    485  \n",
       "49       Georgia        206          241    447  \n",
       "69       Armenia        216          248    464  \n",
       "89       Armenia        195          245    440  \n",
       "109      Armenia        205          240    445  \n",
       "\n",
       "[120 rows x 10 columns]"
      ]
     },
     "execution_count": 91,
     "metadata": {},
     "output_type": "execute_result"
    }
   ],
   "source": [
    "df_columnas_24.sort_values(by=['Genero', 'Categoría', 'Medalla'])"
   ]
  },
  {
   "cell_type": "markdown",
   "id": "3c103ac3",
   "metadata": {},
   "source": [
    "## <span style=\"color: #2A8E3C;\"> Paso 10. EDA </span>\n",
    "\n",
    "Realizamos un análisis exploratorio de los datos."
   ]
  },
  {
   "cell_type": "code",
   "execution_count": 92,
   "id": "90e25227",
   "metadata": {},
   "outputs": [
    {
     "data": {
      "image/png": "[encoded data removed]",
      "text/plain": [
       "<Figure size 640x480 with 1 Axes>"
      ]
     },
     "metadata": {},
     "output_type": "display_data"
    },
    {
     "name": "stdout",
     "output_type": "stream",
     "text": [
      "Valor del segundo cuartil (25%): 221.75\n",
      "Valor del tercer cuartil (75%): 366.00\n",
      "Valor del rango intercuartil (IQR): 144.25\n",
      "Los valores atípicos se definen como aquellos que caen fuera del siguiente rango:\n",
      "\t - Límite inferior (considerado extremadamente bajo): 5.38\n",
      "\t - Límite superior (considerado extremadamente alto): 582.38\n",
      "Hay 0 outliers en la variable 'Total'\n"
     ]
    },
    {
     "data": {
      "text/plain": [
       "[]"
      ]
     },
     "execution_count": 92,
     "metadata": {},
     "output_type": "execute_result"
    }
   ],
   "source": [
    "deteccion_outliers(df = df_columnas_24, variable = 'Total')"
   ]
  },
  {
   "cell_type": "code",
   "execution_count": 93,
   "id": "eb6fb035",
   "metadata": {},
   "outputs": [
    {
     "data": {
      "application/vnd.plotly.v1+json": {
       "config": {
        "plotlyServerURL": "https://plot.ly"
       },
       "data": [
        {
         "alignmentgroup": "True",
         "hovertemplate": "País=%{x}<br>Total=%{y}<extra></extra>",
         "legendgroup": "Georgia",
         "marker": {
          "color": "#636efa"
         },
         "name": "Georgia",
         "notched": false,
         "offsetgroup": "Georgia",
         "orientation": "v",
         "showlegend": true,
         "type": "box",
         "x": [
          "Georgia",
          "Georgia",
          "Georgia",
          "Georgia",
          "Georgia",
          "Georgia",
          "Georgia",
          "Georgia",
          "Georgia"
         ],
         "x0": " ",
         "xaxis": "x",
         "y": [
          478,
          393,
          485,
          370,
          447,
          290,
          374,
          308,
          377
         ],
         "y0": " ",
         "yaxis": "y"
        },
        {
         "alignmentgroup": "True",
         "hovertemplate": "País=%{x}<br>Total=%{y}<extra></extra>",
         "legendgroup": "Armenia",
         "marker": {
          "color": "#EF553B"
         },
         "name": "Armenia",
         "notched": false,
         "offsetgroup": "Armenia",
         "orientation": "v",
         "showlegend": true,
         "type": "box",
         "x": [
          "Armenia",
          "Armenia",
          "Armenia",
          "Armenia",
          "Armenia",
          "Armenia",
          "Armenia",
          "Armenia",
          "Armenia",
          "Armenia",
          "Armenia",
          "Armenia",
          "Armenia",
          "Armenia"
         ],
         "x0": " ",
         "xaxis": "x",
         "y": [
          371,
          427,
          375,
          390,
          377,
          380,
          464,
          360,
          440,
          217,
          365,
          372,
          445,
          227
         ],
         "y0": " ",
         "yaxis": "y"
        },
        {
         "alignmentgroup": "True",
         "hovertemplate": "País=%{x}<br>Total=%{y}<extra></extra>",
         "legendgroup": "Albania",
         "marker": {
          "color": "#00cc96"
         },
         "name": "Albania",
         "notched": false,
         "offsetgroup": "Albania",
         "orientation": "v",
         "showlegend": true,
         "type": "box",
         "x": [
          "Albania",
          "Albania"
         ],
         "x0": " ",
         "xaxis": "x",
         "y": [
          339,
          336
         ],
         "y0": " ",
         "yaxis": "y"
        },
        {
         "alignmentgroup": "True",
         "hovertemplate": "País=%{x}<br>Total=%{y}<extra></extra>",
         "legendgroup": "Bielorrusia",
         "marker": {
          "color": "#ab63fa"
         },
         "name": "Bielorrusia",
         "notched": false,
         "offsetgroup": "Bielorrusia",
         "orientation": "v",
         "showlegend": true,
         "type": "box",
         "x": [
          "Bielorrusia",
          "Bielorrusia",
          "Bielorrusia",
          "Bielorrusia",
          "Bielorrusia",
          "Bielorrusia",
          "Bielorrusia",
          "Bielorrusia",
          "Bielorrusia"
         ],
         "x0": " ",
         "xaxis": "x",
         "y": [
          286,
          400,
          242,
          355,
          411,
          374,
          335,
          376,
          150
         ],
         "y0": " ",
         "yaxis": "y"
        },
        {
         "alignmentgroup": "True",
         "hovertemplate": "País=%{x}<br>Total=%{y}<extra></extra>",
         "legendgroup": "Letonia",
         "marker": {
          "color": "#FFA15A"
         },
         "name": "Letonia",
         "notched": false,
         "offsetgroup": "Letonia",
         "orientation": "v",
         "showlegend": true,
         "type": "box",
         "x": [
          "Letonia",
          "Letonia",
          "Letonia"
         ],
         "x0": " ",
         "xaxis": "x",
         "y": [
          221,
          354,
          347
         ],
         "y0": " ",
         "yaxis": "y"
        },
        {
         "alignmentgroup": "True",
         "hovertemplate": "País=%{x}<br>Total=%{y}<extra></extra>",
         "legendgroup": "Azerbaiyán",
         "marker": {
          "color": "#19d3f3"
         },
         "name": "Azerbaiyán",
         "notched": false,
         "offsetgroup": "Azerbaiyán",
         "orientation": "v",
         "showlegend": true,
         "type": "box",
         "x": [
          "Azerbaiyán",
          "Azerbaiyán"
         ],
         "x0": " ",
         "xaxis": "x",
         "y": [
          211,
          379
         ],
         "y0": " ",
         "yaxis": "y"
        },
        {
         "alignmentgroup": "True",
         "hovertemplate": "País=%{x}<br>Total=%{y}<extra></extra>",
         "legendgroup": "Moldavia",
         "marker": {
          "color": "#FF6692"
         },
         "name": "Moldavia",
         "notched": false,
         "offsetgroup": "Moldavia",
         "orientation": "v",
         "showlegend": true,
         "type": "box",
         "x": [
          "Moldavia",
          "Moldavia"
         ],
         "x0": " ",
         "xaxis": "x",
         "y": [
          339,
          245
         ],
         "y0": " ",
         "yaxis": "y"
        },
        {
         "alignmentgroup": "True",
         "hovertemplate": "País=%{x}<br>Total=%{y}<extra></extra>",
         "legendgroup": "Italia",
         "marker": {
          "color": "#B6E880"
         },
         "name": "Italia",
         "notched": false,
         "offsetgroup": "Italia",
         "orientation": "v",
         "showlegend": true,
         "type": "box",
         "x": [
          "Italia",
          "Italia",
          "Italia",
          "Italia",
          "Italia",
          "Italia"
         ],
         "x0": " ",
         "xaxis": "x",
         "y": [
          261,
          356,
          370,
          318,
          219,
          178
         ],
         "y0": " ",
         "yaxis": "y"
        },
        {
         "alignmentgroup": "True",
         "hovertemplate": "País=%{x}<br>Total=%{y}<extra></extra>",
         "legendgroup": "Ucrania",
         "marker": {
          "color": "#FF97FF"
         },
         "name": "Ucrania",
         "notched": false,
         "offsetgroup": "Ucrania",
         "orientation": "v",
         "showlegend": true,
         "type": "box",
         "x": [
          "Ucrania",
          "Ucrania",
          "Ucrania",
          "Ucrania",
          "Ucrania",
          "Ucrania",
          "Ucrania",
          "Ucrania"
         ],
         "x0": " ",
         "xaxis": "x",
         "y": [
          391,
          407,
          208,
          248,
          236,
          268,
          252,
          247
         ],
         "y0": " ",
         "yaxis": "y"
        },
        {
         "alignmentgroup": "True",
         "hovertemplate": "País=%{x}<br>Total=%{y}<extra></extra>",
         "legendgroup": "Bulgaria",
         "marker": {
          "color": "#FECB52"
         },
         "name": "Bulgaria",
         "notched": false,
         "offsetgroup": "Bulgaria",
         "orientation": "v",
         "showlegend": true,
         "type": "box",
         "x": [
          "Bulgaria",
          "Bulgaria",
          "Bulgaria",
          "Bulgaria",
          "Bulgaria",
          "Bulgaria",
          "Bulgaria",
          "Bulgaria",
          "Bulgaria",
          "Bulgaria"
         ],
         "x0": " ",
         "xaxis": "x",
         "y": [
          345,
          258,
          296,
          155,
          256,
          158,
          369,
          406,
          152,
          315
         ],
         "y0": " ",
         "yaxis": "y"
        },
        {
         "alignmentgroup": "True",
         "hovertemplate": "País=%{x}<br>Total=%{y}<extra></extra>",
         "legendgroup": "Alemania",
         "marker": {
          "color": "#636efa"
         },
         "name": "Alemania",
         "notched": false,
         "offsetgroup": "Alemania",
         "orientation": "v",
         "showlegend": true,
         "type": "box",
         "x": [
          "Alemania",
          "Alemania"
         ],
         "x0": " ",
         "xaxis": "x",
         "y": [
          222,
          311
         ],
         "y0": " ",
         "yaxis": "y"
        },
        {
         "alignmentgroup": "True",
         "hovertemplate": "País=%{x}<br>Total=%{y}<extra></extra>",
         "legendgroup": "Turquía",
         "marker": {
          "color": "#EF553B"
         },
         "name": "Turquía",
         "notched": false,
         "offsetgroup": "Turquía",
         "orientation": "v",
         "showlegend": true,
         "type": "box",
         "x": [
          "Turquía",
          "Turquía",
          "Turquía",
          "Turquía",
          "Turquía",
          "Turquía",
          "Turquía",
          "Turquía",
          "Turquía"
         ],
         "x0": " ",
         "xaxis": "x",
         "y": [
          163,
          323,
          341,
          283,
          247,
          282,
          287,
          151,
          243
         ],
         "y0": " ",
         "yaxis": "y"
        },
        {
         "alignmentgroup": "True",
         "hovertemplate": "País=%{x}<br>Total=%{y}<extra></extra>",
         "legendgroup": "Rusia",
         "marker": {
          "color": "#00cc96"
         },
         "name": "Rusia",
         "notched": false,
         "offsetgroup": "Rusia",
         "orientation": "v",
         "showlegend": true,
         "type": "box",
         "x": [
          "Rusia",
          "Rusia",
          "Rusia",
          "Rusia",
          "Rusia",
          "Rusia",
          "Rusia",
          "Rusia",
          "Rusia",
          "Rusia",
          "Rusia",
          "Rusia",
          "Rusia",
          "Rusia",
          "Rusia",
          "Rusia",
          "Rusia",
          "Rusia",
          "Rusia",
          "Rusia"
         ],
         "x0": " ",
         "xaxis": "x",
         "y": [
          240,
          242,
          331,
          246,
          378,
          180,
          198,
          214,
          240,
          181,
          200,
          210,
          246,
          410,
          190,
          213,
          401,
          222,
          243,
          240
         ],
         "y0": " ",
         "yaxis": "y"
        },
        {
         "alignmentgroup": "True",
         "hovertemplate": "País=%{x}<br>Total=%{y}<extra></extra>",
         "legendgroup": "Francia",
         "marker": {
          "color": "#ab63fa"
         },
         "name": "Francia",
         "notched": false,
         "offsetgroup": "Francia",
         "orientation": "v",
         "showlegend": true,
         "type": "box",
         "x": [
          "Francia",
          "Francia",
          "Francia"
         ],
         "x0": " ",
         "xaxis": "x",
         "y": [
          312,
          231,
          210
         ],
         "y0": " ",
         "yaxis": "y"
        },
        {
         "alignmentgroup": "True",
         "hovertemplate": "País=%{x}<br>Total=%{y}<extra></extra>",
         "legendgroup": "España",
         "marker": {
          "color": "#FFA15A"
         },
         "name": "España",
         "notched": false,
         "offsetgroup": "España",
         "orientation": "v",
         "showlegend": true,
         "type": "box",
         "x": [
          "España"
         ],
         "x0": " ",
         "xaxis": "x",
         "y": [
          241
         ],
         "y0": " ",
         "yaxis": "y"
        },
        {
         "alignmentgroup": "True",
         "hovertemplate": "País=%{x}<br>Total=%{y}<extra></extra>",
         "legendgroup": "Reino Unido",
         "marker": {
          "color": "#19d3f3"
         },
         "name": "Reino Unido",
         "notched": false,
         "offsetgroup": "Reino Unido",
         "orientation": "v",
         "showlegend": true,
         "type": "box",
         "x": [
          "Reino Unido",
          "Reino Unido",
          "Reino Unido",
          "Reino Unido",
          "Reino Unido",
          "Reino Unido"
         ],
         "x0": " ",
         "xaxis": "x",
         "y": [
          227,
          276,
          216,
          230,
          224,
          260
         ],
         "y0": " ",
         "yaxis": "y"
        },
        {
         "alignmentgroup": "True",
         "hovertemplate": "País=%{x}<br>Total=%{y}<extra></extra>",
         "legendgroup": "Suecia",
         "marker": {
          "color": "#FF6692"
         },
         "name": "Suecia",
         "notched": false,
         "offsetgroup": "Suecia",
         "orientation": "v",
         "showlegend": true,
         "type": "box",
         "x": [
          "Suecia"
         ],
         "x0": " ",
         "xaxis": "x",
         "y": [
          233
         ],
         "y0": " ",
         "yaxis": "y"
        },
        {
         "alignmentgroup": "True",
         "hovertemplate": "País=%{x}<br>Total=%{y}<extra></extra>",
         "legendgroup": "Austria",
         "marker": {
          "color": "#B6E880"
         },
         "name": "Austria",
         "notched": false,
         "offsetgroup": "Austria",
         "orientation": "v",
         "showlegend": true,
         "type": "box",
         "x": [
          "Austria"
         ],
         "x0": " ",
         "xaxis": "x",
         "y": [
          231
         ],
         "y0": " ",
         "yaxis": "y"
        },
        {
         "alignmentgroup": "True",
         "hovertemplate": "País=%{x}<br>Total=%{y}<extra></extra>",
         "legendgroup": "Rumania",
         "marker": {
          "color": "#FF97FF"
         },
         "name": "Rumania",
         "notched": false,
         "offsetgroup": "Rumania",
         "orientation": "v",
         "showlegend": true,
         "type": "box",
         "x": [
          "Rumania",
          "Rumania",
          "Rumania",
          "Rumania",
          "Rumania",
          "Rumania",
          "Rumania",
          "Rumania",
          "Rumania"
         ],
         "x0": " ",
         "xaxis": "x",
         "y": [
          190,
          239,
          189,
          244,
          229,
          248,
          215,
          180,
          218
         ],
         "y0": " ",
         "yaxis": "y"
        },
        {
         "alignmentgroup": "True",
         "hovertemplate": "País=%{x}<br>Total=%{y}<extra></extra>",
         "legendgroup": "Bélgica",
         "marker": {
          "color": "#FECB52"
         },
         "name": "Bélgica",
         "notched": false,
         "offsetgroup": "Bélgica",
         "orientation": "v",
         "showlegend": true,
         "type": "box",
         "x": [
          "Bélgica",
          "Bélgica"
         ],
         "x0": " ",
         "xaxis": "x",
         "y": [
          221,
          197
         ],
         "y0": " ",
         "yaxis": "y"
        },
        {
         "alignmentgroup": "True",
         "hovertemplate": "País=%{x}<br>Total=%{y}<extra></extra>",
         "legendgroup": "Polonia",
         "marker": {
          "color": "#636efa"
         },
         "name": "Polonia",
         "notched": false,
         "offsetgroup": "Polonia",
         "orientation": "v",
         "showlegend": true,
         "type": "box",
         "x": [
          "Polonia"
         ],
         "x0": " ",
         "xaxis": "x",
         "y": [
          199
         ],
         "y0": " ",
         "yaxis": "y"
        }
       ],
       "layout": {
        "boxmode": "overlay",
        "legend": {
         "title": {
          "text": "País"
         },
         "tracegroupgap": 0
        },
        "margin": {
         "t": 60
        },
        "plot_bgcolor": "rgba(255, 255, 255, 1)",
        "template": {
         "data": {
          "bar": [
           {
            "error_x": {
             "color": "#2a3f5f"
            },
            "error_y": {
             "color": "#2a3f5f"
            },
            "marker": {
             "line": {
              "color": "#E5ECF6",
              "width": 0.5
             },
             "pattern": {
              "fillmode": "overlay",
              "size": 10,
              "solidity": 0.2
             }
            },
            "type": "bar"
           }
          ],
          "barpolar": [
           {
            "marker": {
             "line": {
              "color": "#E5ECF6",
              "width": 0.5
             },
             "pattern": {
              "fillmode": "overlay",
              "size": 10,
              "solidity": 0.2
             }
            },
            "type": "barpolar"
           }
          ],
          "carpet": [
           {
            "aaxis": {
             "endlinecolor": "#2a3f5f",
             "gridcolor": "white",
             "linecolor": "white",
             "minorgridcolor": "white",
             "startlinecolor": "#2a3f5f"
            },
            "baxis": {
             "endlinecolor": "#2a3f5f",
             "gridcolor": "white",
             "linecolor": "white",
             "minorgridcolor": "white",
             "startlinecolor": "#2a3f5f"
            },
            "type": "carpet"
           }
          ],
          "choropleth": [
           {
            "colorbar": {
             "outlinewidth": 0,
             "ticks": ""
            },
            "type": "choropleth"
           }
          ],
          "contour": [
           {
            "colorbar": {
             "outlinewidth": 0,
             "ticks": ""
            },
            "colorscale": [
             [
              0,
              "#0d0887"
             ],
             [
              0.1111111111111111,
              "#46039f"
             ],
             [
              0.2222222222222222,
              "#7201a8"
             ],
             [
              0.3333333333333333,
              "#9c179e"
             ],
             [
              0.4444444444444444,
              "#bd3786"
             ],
             [
              0.5555555555555556,
              "#d8576b"
             ],
             [
              0.6666666666666666,
              "#ed7953"
             ],
             [
              0.7777777777777778,
              "#fb9f3a"
             ],
             [
              0.8888888888888888,
              "#fdca26"
             ],
             [
              1,
              "#f0f921"
             ]
            ],
            "type": "contour"
           }
          ],
          "contourcarpet": [
           {
            "colorbar": {
             "outlinewidth": 0,
             "ticks": ""
            },
            "type": "contourcarpet"
           }
          ],
          "heatmap": [
           {
            "colorbar": {
             "outlinewidth": 0,
             "ticks": ""
            },
            "colorscale": [
             [
              0,
              "#0d0887"
             ],
             [
              0.1111111111111111,
              "#46039f"
             ],
             [
              0.2222222222222222,
              "#7201a8"
             ],
             [
              0.3333333333333333,
              "#9c179e"
             ],
             [
              0.4444444444444444,
              "#bd3786"
             ],
             [
              0.5555555555555556,
              "#d8576b"
             ],
             [
              0.6666666666666666,
              "#ed7953"
             ],
             [
              0.7777777777777778,
              "#fb9f3a"
             ],
             [
              0.8888888888888888,
              "#fdca26"
             ],
             [
              1,
              "#f0f921"
             ]
            ],
            "type": "heatmap"
           }
          ],
          "heatmapgl": [
           {
            "colorbar": {
             "outlinewidth": 0,
             "ticks": ""
            },
            "colorscale": [
             [
              0,
              "#0d0887"
             ],
             [
              0.1111111111111111,
              "#46039f"
             ],
             [
              0.2222222222222222,
              "#7201a8"
             ],
             [
              0.3333333333333333,
              "#9c179e"
             ],
             [
              0.4444444444444444,
              "#bd3786"
             ],
             [
              0.5555555555555556,
              "#d8576b"
             ],
             [
              0.6666666666666666,
              "#ed7953"
             ],
             [
              0.7777777777777778,
              "#fb9f3a"
             ],
             [
              0.8888888888888888,
              "#fdca26"
             ],
             [
              1,
              "#f0f921"
             ]
            ],
            "type": "heatmapgl"
           }
          ],
          "histogram": [
           {
            "marker": {
             "pattern": {
              "fillmode": "overlay",
              "size": 10,
              "solidity": 0.2
             }
            },
            "type": "histogram"
           }
          ],
          "histogram2d": [
           {
            "colorbar": {
             "outlinewidth": 0,
             "ticks": ""
            },
            "colorscale": [
             [
              0,
              "#0d0887"
             ],
             [
              0.1111111111111111,
              "#46039f"
             ],
             [
              0.2222222222222222,
              "#7201a8"
             ],
             [
              0.3333333333333333,
              "#9c179e"
             ],
             [
              0.4444444444444444,
              "#bd3786"
             ],
             [
              0.5555555555555556,
              "#d8576b"
             ],
             [
              0.6666666666666666,
              "#ed7953"
             ],
             [
              0.7777777777777778,
              "#fb9f3a"
             ],
             [
              0.8888888888888888,
              "#fdca26"
             ],
             [
              1,
              "#f0f921"
             ]
            ],
            "type": "histogram2d"
           }
          ],
          "histogram2dcontour": [
           {
            "colorbar": {
             "outlinewidth": 0,
             "ticks": ""
            },
            "colorscale": [
             [
              0,
              "#0d0887"
             ],
             [
              0.1111111111111111,
              "#46039f"
             ],
             [
              0.2222222222222222,
              "#7201a8"
             ],
             [
              0.3333333333333333,
              "#9c179e"
             ],
             [
              0.4444444444444444,
              "#bd3786"
             ],
             [
              0.5555555555555556,
              "#d8576b"
             ],
             [
              0.6666666666666666,
              "#ed7953"
             ],
             [
              0.7777777777777778,
              "#fb9f3a"
             ],
             [
              0.8888888888888888,
              "#fdca26"
             ],
             [
              1,
              "#f0f921"
             ]
            ],
            "type": "histogram2dcontour"
           }
          ],
          "mesh3d": [
           {
            "colorbar": {
             "outlinewidth": 0,
             "ticks": ""
            },
            "type": "mesh3d"
           }
          ],
          "parcoords": [
           {
            "line": {
             "colorbar": {
              "outlinewidth": 0,
              "ticks": ""
             }
            },
            "type": "parcoords"
           }
          ],
          "pie": [
           {
            "automargin": true,
            "type": "pie"
           }
          ],
          "scatter": [
           {
            "fillpattern": {
             "fillmode": "overlay",
             "size": 10,
             "solidity": 0.2
            },
            "type": "scatter"
           }
          ],
          "scatter3d": [
           {
            "line": {
             "colorbar": {
              "outlinewidth": 0,
              "ticks": ""
             }
            },
            "marker": {
             "colorbar": {
              "outlinewidth": 0,
              "ticks": ""
             }
            },
            "type": "scatter3d"
           }
          ],
          "scattercarpet": [
           {
            "marker": {
             "colorbar": {
              "outlinewidth": 0,
              "ticks": ""
             }
            },
            "type": "scattercarpet"
           }
          ],
          "scattergeo": [
           {
            "marker": {
             "colorbar": {
              "outlinewidth": 0,
              "ticks": ""
             }
            },
            "type": "scattergeo"
           }
          ],
          "scattergl": [
           {
            "marker": {
             "colorbar": {
              "outlinewidth": 0,
              "ticks": ""
             }
            },
            "type": "scattergl"
           }
          ],
          "scattermapbox": [
           {
            "marker": {
             "colorbar": {
              "outlinewidth": 0,
              "ticks": ""
             }
            },
            "type": "scattermapbox"
           }
          ],
          "scatterpolar": [
           {
            "marker": {
             "colorbar": {
              "outlinewidth": 0,
              "ticks": ""
             }
            },
            "type": "scatterpolar"
           }
          ],
          "scatterpolargl": [
           {
            "marker": {
             "colorbar": {
              "outlinewidth": 0,
              "ticks": ""
             }
            },
            "type": "scatterpolargl"
           }
          ],
          "scatterternary": [
           {
            "marker": {
             "colorbar": {
              "outlinewidth": 0,
              "ticks": ""
             }
            },
            "type": "scatterternary"
           }
          ],
          "surface": [
           {
            "colorbar": {
             "outlinewidth": 0,
             "ticks": ""
            },
            "colorscale": [
             [
              0,
              "#0d0887"
             ],
             [
              0.1111111111111111,
              "#46039f"
             ],
             [
              0.2222222222222222,
              "#7201a8"
             ],
             [
              0.3333333333333333,
              "#9c179e"
             ],
             [
              0.4444444444444444,
              "#bd3786"
             ],
             [
              0.5555555555555556,
              "#d8576b"
             ],
             [
              0.6666666666666666,
              "#ed7953"
             ],
             [
              0.7777777777777778,
              "#fb9f3a"
             ],
             [
              0.8888888888888888,
              "#fdca26"
             ],
             [
              1,
              "#f0f921"
             ]
            ],
            "type": "surface"
           }
          ],
          "table": [
           {
            "cells": {
             "fill": {
              "color": "#EBF0F8"
             },
             "line": {
              "color": "white"
             }
            },
            "header": {
             "fill": {
              "color": "#C8D4E3"
             },
             "line": {
              "color": "white"
             }
            },
            "type": "table"
           }
          ]
         },
         "layout": {
          "annotationdefaults": {
           "arrowcolor": "#2a3f5f",
           "arrowhead": 0,
           "arrowwidth": 1
          },
          "autotypenumbers": "strict",
          "coloraxis": {
           "colorbar": {
            "outlinewidth": 0,
            "ticks": ""
           }
          },
          "colorscale": {
           "diverging": [
            [
             0,
             "#8e0152"
            ],
            [
             0.1,
             "#c51b7d"
            ],
            [
             0.2,
             "#de77ae"
            ],
            [
             0.3,
             "#f1b6da"
            ],
            [
             0.4,
             "#fde0ef"
            ],
            [
             0.5,
             "#f7f7f7"
            ],
            [
             0.6,
             "#e6f5d0"
            ],
            [
             0.7,
             "#b8e186"
            ],
            [
             0.8,
             "#7fbc41"
            ],
            [
             0.9,
             "#4d9221"
            ],
            [
             1,
             "#276419"
            ]
           ],
           "sequential": [
            [
             0,
             "#0d0887"
            ],
            [
             0.1111111111111111,
             "#46039f"
            ],
            [
             0.2222222222222222,
             "#7201a8"
            ],
            [
             0.3333333333333333,
             "#9c179e"
            ],
            [
             0.4444444444444444,
             "#bd3786"
            ],
            [
             0.5555555555555556,
             "#d8576b"
            ],
            [
             0.6666666666666666,
             "#ed7953"
            ],
            [
             0.7777777777777778,
             "#fb9f3a"
            ],
            [
             0.8888888888888888,
             "#fdca26"
            ],
            [
             1,
             "#f0f921"
            ]
           ],
           "sequentialminus": [
            [
             0,
             "#0d0887"
            ],
            [
             0.1111111111111111,
             "#46039f"
            ],
            [
             0.2222222222222222,
             "#7201a8"
            ],
            [
             0.3333333333333333,
             "#9c179e"
            ],
            [
             0.4444444444444444,
             "#bd3786"
            ],
            [
             0.5555555555555556,
             "#d8576b"
            ],
            [
             0.6666666666666666,
             "#ed7953"
            ],
            [
             0.7777777777777778,
             "#fb9f3a"
            ],
            [
             0.8888888888888888,
             "#fdca26"
            ],
            [
             1,
             "#f0f921"
            ]
           ]
          },
          "colorway": [
           "#636efa",
           "#EF553B",
           "#00cc96",
           "#ab63fa",
           "#FFA15A",
           "#19d3f3",
           "#FF6692",
           "#B6E880",
           "#FF97FF",
           "#FECB52"
          ],
          "font": {
           "color": "#2a3f5f"
          },
          "geo": {
           "bgcolor": "white",
           "lakecolor": "white",
           "landcolor": "#E5ECF6",
           "showlakes": true,
           "showland": true,
           "subunitcolor": "white"
          },
          "hoverlabel": {
           "align": "left"
          },
          "hovermode": "closest",
          "mapbox": {
           "style": "light"
          },
          "paper_bgcolor": "white",
          "plot_bgcolor": "#E5ECF6",
          "polar": {
           "angularaxis": {
            "gridcolor": "white",
            "linecolor": "white",
            "ticks": ""
           },
           "bgcolor": "#E5ECF6",
           "radialaxis": {
            "gridcolor": "white",
            "linecolor": "white",
            "ticks": ""
           }
          },
          "scene": {
           "xaxis": {
            "backgroundcolor": "#E5ECF6",
            "gridcolor": "white",
            "gridwidth": 2,
            "linecolor": "white",
            "showbackground": true,
            "ticks": "",
            "zerolinecolor": "white"
           },
           "yaxis": {
            "backgroundcolor": "#E5ECF6",
            "gridcolor": "white",
            "gridwidth": 2,
            "linecolor": "white",
            "showbackground": true,
            "ticks": "",
            "zerolinecolor": "white"
           },
           "zaxis": {
            "backgroundcolor": "#E5ECF6",
            "gridcolor": "white",
            "gridwidth": 2,
            "linecolor": "white",
            "showbackground": true,
            "ticks": "",
            "zerolinecolor": "white"
           }
          },
          "shapedefaults": {
           "line": {
            "color": "#2a3f5f"
           }
          },
          "ternary": {
           "aaxis": {
            "gridcolor": "white",
            "linecolor": "white",
            "ticks": ""
           },
           "baxis": {
            "gridcolor": "white",
            "linecolor": "white",
            "ticks": ""
           },
           "bgcolor": "#E5ECF6",
           "caxis": {
            "gridcolor": "white",
            "linecolor": "white",
            "ticks": ""
           }
          },
          "title": {
           "x": 0.05
          },
          "xaxis": {
           "automargin": true,
           "gridcolor": "white",
           "linecolor": "white",
           "ticks": "",
           "title": {
            "standoff": 15
           },
           "zerolinecolor": "white",
           "zerolinewidth": 2
          },
          "yaxis": {
           "automargin": true,
           "gridcolor": "white",
           "linecolor": "white",
           "ticks": "",
           "title": {
            "standoff": 15
           },
           "zerolinecolor": "white",
           "zerolinewidth": 2
          }
         }
        },
        "title": {
         "text": "Boxplot de Total por País"
        },
        "xaxis": {
         "anchor": "y",
         "categoryarray": [
          "Georgia",
          "Armenia",
          "Albania",
          "Bielorrusia",
          "Letonia",
          "Azerbaiyán",
          "Moldavia",
          "Italia",
          "Ucrania",
          "Bulgaria",
          "Alemania",
          "Turquía",
          "Rusia",
          "Francia",
          "España",
          "Reino Unido",
          "Suecia",
          "Austria",
          "Rumania",
          "Bélgica",
          "Polonia"
         ],
         "categoryorder": "array",
         "domain": [
          0,
          1
         ],
         "gridcolor": "lightgrey",
         "showgrid": true,
         "title": {
          "text": "País"
         }
        },
        "yaxis": {
         "anchor": "x",
         "domain": [
          0,
          1
         ],
         "gridcolor": "lightgrey",
         "showgrid": true,
         "title": {
          "text": "Total"
         }
        }
       }
      }
     },
     "metadata": {},
     "output_type": "display_data"
    }
   ],
   "source": [
    "graficar_boxplot_bivariable_px (df = df_columnas_24, variable_analisis = 'Total', variable_categorica = 'País')"
   ]
  },
  {
   "cell_type": "code",
   "execution_count": 94,
   "id": "b6de4e9c",
   "metadata": {},
   "outputs": [
    {
     "data": {
      "application/vnd.plotly.v1+json": {
       "config": {
        "plotlyServerURL": "https://plot.ly"
       },
       "data": [
        {
         "alignmentgroup": "True",
         "hovertemplate": "Genero=%{x}<br>Total=%{y}<extra></extra>",
         "legendgroup": "Masculino",
         "marker": {
          "color": "#636efa"
         },
         "name": "Masculino",
         "notched": false,
         "offsetgroup": "Masculino",
         "orientation": "v",
         "showlegend": true,
         "type": "box",
         "x": [
          "Masculino",
          "Masculino",
          "Masculino",
          "Masculino",
          "Masculino",
          "Masculino",
          "Masculino",
          "Masculino",
          "Masculino",
          "Masculino",
          "Masculino",
          "Masculino",
          "Masculino",
          "Masculino",
          "Masculino",
          "Masculino",
          "Masculino",
          "Masculino",
          "Masculino",
          "Masculino",
          "Masculino",
          "Masculino",
          "Masculino",
          "Masculino",
          "Masculino",
          "Masculino",
          "Masculino",
          "Masculino",
          "Masculino",
          "Masculino",
          "Masculino",
          "Masculino",
          "Masculino",
          "Masculino",
          "Masculino",
          "Masculino",
          "Masculino",
          "Masculino",
          "Masculino",
          "Masculino",
          "Masculino",
          "Masculino",
          "Masculino",
          "Masculino",
          "Masculino",
          "Masculino",
          "Masculino",
          "Masculino",
          "Masculino",
          "Masculino",
          "Masculino",
          "Masculino",
          "Masculino",
          "Masculino",
          "Masculino",
          "Masculino",
          "Masculino",
          "Masculino",
          "Masculino",
          "Masculino"
         ],
         "x0": " ",
         "xaxis": "x",
         "y": [
          261,
          286,
          312,
          345,
          356,
          371,
          400,
          391,
          427,
          478,
          258,
          296,
          323,
          341,
          370,
          375,
          393,
          390,
          407,
          485,
          256,
          283,
          311,
          339,
          355,
          370,
          378,
          377,
          411,
          447,
          248,
          290,
          318,
          339,
          369,
          374,
          374,
          380,
          406,
          464,
          247,
          282,
          308,
          335,
          354,
          360,
          377,
          376,
          410,
          440,
          247,
          287,
          315,
          336,
          347,
          365,
          372,
          379,
          401,
          445
         ],
         "y0": " ",
         "yaxis": "y"
        },
        {
         "alignmentgroup": "True",
         "hovertemplate": "Genero=%{x}<br>Total=%{y}<extra></extra>",
         "legendgroup": "Femenino",
         "marker": {
          "color": "#EF553B"
         },
         "name": "Femenino",
         "notched": false,
         "offsetgroup": "Femenino",
         "orientation": "v",
         "showlegend": true,
         "type": "box",
         "x": [
          "Femenino",
          "Femenino",
          "Femenino",
          "Femenino",
          "Femenino",
          "Femenino",
          "Femenino",
          "Femenino",
          "Femenino",
          "Femenino",
          "Femenino",
          "Femenino",
          "Femenino",
          "Femenino",
          "Femenino",
          "Femenino",
          "Femenino",
          "Femenino",
          "Femenino",
          "Femenino",
          "Femenino",
          "Femenino",
          "Femenino",
          "Femenino",
          "Femenino",
          "Femenino",
          "Femenino",
          "Femenino",
          "Femenino",
          "Femenino",
          "Femenino",
          "Femenino",
          "Femenino",
          "Femenino",
          "Femenino",
          "Femenino",
          "Femenino",
          "Femenino",
          "Femenino",
          "Femenino",
          "Femenino",
          "Femenino",
          "Femenino",
          "Femenino",
          "Femenino",
          "Femenino",
          "Femenino",
          "Femenino",
          "Femenino",
          "Femenino",
          "Femenino",
          "Femenino",
          "Femenino",
          "Femenino",
          "Femenino",
          "Femenino",
          "Femenino",
          "Femenino",
          "Femenino",
          "Femenino"
         ],
         "x0": " ",
         "xaxis": "x",
         "y": [
          163,
          190,
          199,
          221,
          239,
          240,
          242,
          222,
          242,
          331,
          155,
          189,
          208,
          211,
          244,
          227,
          248,
          236,
          246,
          276,
          158,
          180,
          198,
          214,
          229,
          216,
          241,
          221,
          240,
          268,
          152,
          181,
          200,
          210,
          230,
          219,
          246,
          231,
          245,
          252,
          150,
          178,
          190,
          213,
          224,
          215,
          233,
          217,
          231,
          260,
          151,
          180,
          197,
          210,
          222,
          218,
          243,
          227,
          240,
          243
         ],
         "y0": " ",
         "yaxis": "y"
        }
       ],
       "layout": {
        "boxmode": "overlay",
        "legend": {
         "title": {
          "text": "Genero"
         },
         "tracegroupgap": 0
        },
        "margin": {
         "t": 60
        },
        "plot_bgcolor": "rgba(255, 255, 255, 1)",
        "template": {
         "data": {
          "bar": [
           {
            "error_x": {
             "color": "#2a3f5f"
            },
            "error_y": {
             "color": "#2a3f5f"
            },
            "marker": {
             "line": {
              "color": "#E5ECF6",
              "width": 0.5
             },
             "pattern": {
              "fillmode": "overlay",
              "size": 10,
              "solidity": 0.2
             }
            },
            "type": "bar"
           }
          ],
          "barpolar": [
           {
            "marker": {
             "line": {
              "color": "#E5ECF6",
              "width": 0.5
             },
             "pattern": {
              "fillmode": "overlay",
              "size": 10,
              "solidity": 0.2
             }
            },
            "type": "barpolar"
           }
          ],
          "carpet": [
           {
            "aaxis": {
             "endlinecolor": "#2a3f5f",
             "gridcolor": "white",
             "linecolor": "white",
             "minorgridcolor": "white",
             "startlinecolor": "#2a3f5f"
            },
            "baxis": {
             "endlinecolor": "#2a3f5f",
             "gridcolor": "white",
             "linecolor": "white",
             "minorgridcolor": "white",
             "startlinecolor": "#2a3f5f"
            },
            "type": "carpet"
           }
          ],
          "choropleth": [
           {
            "colorbar": {
             "outlinewidth": 0,
             "ticks": ""
            },
            "type": "choropleth"
           }
          ],
          "contour": [
           {
            "colorbar": {
             "outlinewidth": 0,
             "ticks": ""
            },
            "colorscale": [
             [
              0,
              "#0d0887"
             ],
             [
              0.1111111111111111,
              "#46039f"
             ],
             [
              0.2222222222222222,
              "#7201a8"
             ],
             [
              0.3333333333333333,
              "#9c179e"
             ],
             [
              0.4444444444444444,
              "#bd3786"
             ],
             [
              0.5555555555555556,
              "#d8576b"
             ],
             [
              0.6666666666666666,
              "#ed7953"
             ],
             [
              0.7777777777777778,
              "#fb9f3a"
             ],
             [
              0.8888888888888888,
              "#fdca26"
             ],
             [
              1,
              "#f0f921"
             ]
            ],
            "type": "contour"
           }
          ],
          "contourcarpet": [
           {
            "colorbar": {
             "outlinewidth": 0,
             "ticks": ""
            },
            "type": "contourcarpet"
           }
          ],
          "heatmap": [
           {
            "colorbar": {
             "outlinewidth": 0,
             "ticks": ""
            },
            "colorscale": [
             [
              0,
              "#0d0887"
             ],
             [
              0.1111111111111111,
              "#46039f"
             ],
             [
              0.2222222222222222,
              "#7201a8"
             ],
             [
              0.3333333333333333,
              "#9c179e"
             ],
             [
              0.4444444444444444,
              "#bd3786"
             ],
             [
              0.5555555555555556,
              "#d8576b"
             ],
             [
              0.6666666666666666,
              "#ed7953"
             ],
             [
              0.7777777777777778,
              "#fb9f3a"
             ],
             [
              0.8888888888888888,
              "#fdca26"
             ],
             [
              1,
              "#f0f921"
             ]
            ],
            "type": "heatmap"
           }
          ],
          "heatmapgl": [
           {
            "colorbar": {
             "outlinewidth": 0,
             "ticks": ""
            },
            "colorscale": [
             [
              0,
              "#0d0887"
             ],
             [
              0.1111111111111111,
              "#46039f"
             ],
             [
              0.2222222222222222,
              "#7201a8"
             ],
             [
              0.3333333333333333,
              "#9c179e"
             ],
             [
              0.4444444444444444,
              "#bd3786"
             ],
             [
              0.5555555555555556,
              "#d8576b"
             ],
             [
              0.6666666666666666,
              "#ed7953"
             ],
             [
              0.7777777777777778,
              "#fb9f3a"
             ],
             [
              0.8888888888888888,
              "#fdca26"
             ],
             [
              1,
              "#f0f921"
             ]
            ],
            "type": "heatmapgl"
           }
          ],
          "histogram": [
           {
            "marker": {
             "pattern": {
              "fillmode": "overlay",
              "size": 10,
              "solidity": 0.2
             }
            },
            "type": "histogram"
           }
          ],
          "histogram2d": [
           {
            "colorbar": {
             "outlinewidth": 0,
             "ticks": ""
            },
            "colorscale": [
             [
              0,
              "#0d0887"
             ],
             [
              0.1111111111111111,
              "#46039f"
             ],
             [
              0.2222222222222222,
              "#7201a8"
             ],
             [
              0.3333333333333333,
              "#9c179e"
             ],
             [
              0.4444444444444444,
              "#bd3786"
             ],
             [
              0.5555555555555556,
              "#d8576b"
             ],
             [
              0.6666666666666666,
              "#ed7953"
             ],
             [
              0.7777777777777778,
              "#fb9f3a"
             ],
             [
              0.8888888888888888,
              "#fdca26"
             ],
             [
              1,
              "#f0f921"
             ]
            ],
            "type": "histogram2d"
           }
          ],
          "histogram2dcontour": [
           {
            "colorbar": {
             "outlinewidth": 0,
             "ticks": ""
            },
            "colorscale": [
             [
              0,
              "#0d0887"
             ],
             [
              0.1111111111111111,
              "#46039f"
             ],
             [
              0.2222222222222222,
              "#7201a8"
             ],
             [
              0.3333333333333333,
              "#9c179e"
             ],
             [
              0.4444444444444444,
              "#bd3786"
             ],
             [
              0.5555555555555556,
              "#d8576b"
             ],
             [
              0.6666666666666666,
              "#ed7953"
             ],
             [
              0.7777777777777778,
              "#fb9f3a"
             ],
             [
              0.8888888888888888,
              "#fdca26"
             ],
             [
              1,
              "#f0f921"
             ]
            ],
            "type": "histogram2dcontour"
           }
          ],
          "mesh3d": [
           {
            "colorbar": {
             "outlinewidth": 0,
             "ticks": ""
            },
            "type": "mesh3d"
           }
          ],
          "parcoords": [
           {
            "line": {
             "colorbar": {
              "outlinewidth": 0,
              "ticks": ""
             }
            },
            "type": "parcoords"
           }
          ],
          "pie": [
           {
            "automargin": true,
            "type": "pie"
           }
          ],
          "scatter": [
           {
            "fillpattern": {
             "fillmode": "overlay",
             "size": 10,
             "solidity": 0.2
            },
            "type": "scatter"
           }
          ],
          "scatter3d": [
           {
            "line": {
             "colorbar": {
              "outlinewidth": 0,
              "ticks": ""
             }
            },
            "marker": {
             "colorbar": {
              "outlinewidth": 0,
              "ticks": ""
             }
            },
            "type": "scatter3d"
           }
          ],
          "scattercarpet": [
           {
            "marker": {
             "colorbar": {
              "outlinewidth": 0,
              "ticks": ""
             }
            },
            "type": "scattercarpet"
           }
          ],
          "scattergeo": [
           {
            "marker": {
             "colorbar": {
              "outlinewidth": 0,
              "ticks": ""
             }
            },
            "type": "scattergeo"
           }
          ],
          "scattergl": [
           {
            "marker": {
             "colorbar": {
              "outlinewidth": 0,
              "ticks": ""
             }
            },
            "type": "scattergl"
           }
          ],
          "scattermapbox": [
           {
            "marker": {
             "colorbar": {
              "outlinewidth": 0,
              "ticks": ""
             }
            },
            "type": "scattermapbox"
           }
          ],
          "scatterpolar": [
           {
            "marker": {
             "colorbar": {
              "outlinewidth": 0,
              "ticks": ""
             }
            },
            "type": "scatterpolar"
           }
          ],
          "scatterpolargl": [
           {
            "marker": {
             "colorbar": {
              "outlinewidth": 0,
              "ticks": ""
             }
            },
            "type": "scatterpolargl"
           }
          ],
          "scatterternary": [
           {
            "marker": {
             "colorbar": {
              "outlinewidth": 0,
              "ticks": ""
             }
            },
            "type": "scatterternary"
           }
          ],
          "surface": [
           {
            "colorbar": {
             "outlinewidth": 0,
             "ticks": ""
            },
            "colorscale": [
             [
              0,
              "#0d0887"
             ],
             [
              0.1111111111111111,
              "#46039f"
             ],
             [
              0.2222222222222222,
              "#7201a8"
             ],
             [
              0.3333333333333333,
              "#9c179e"
             ],
             [
              0.4444444444444444,
              "#bd3786"
             ],
             [
              0.5555555555555556,
              "#d8576b"
             ],
             [
              0.6666666666666666,
              "#ed7953"
             ],
             [
              0.7777777777777778,
              "#fb9f3a"
             ],
             [
              0.8888888888888888,
              "#fdca26"
             ],
             [
              1,
              "#f0f921"
             ]
            ],
            "type": "surface"
           }
          ],
          "table": [
           {
            "cells": {
             "fill": {
              "color": "#EBF0F8"
             },
             "line": {
              "color": "white"
             }
            },
            "header": {
             "fill": {
              "color": "#C8D4E3"
             },
             "line": {
              "color": "white"
             }
            },
            "type": "table"
           }
          ]
         },
         "layout": {
          "annotationdefaults": {
           "arrowcolor": "#2a3f5f",
           "arrowhead": 0,
           "arrowwidth": 1
          },
          "autotypenumbers": "strict",
          "coloraxis": {
           "colorbar": {
            "outlinewidth": 0,
            "ticks": ""
           }
          },
          "colorscale": {
           "diverging": [
            [
             0,
             "#8e0152"
            ],
            [
             0.1,
             "#c51b7d"
            ],
            [
             0.2,
             "#de77ae"
            ],
            [
             0.3,
             "#f1b6da"
            ],
            [
             0.4,
             "#fde0ef"
            ],
            [
             0.5,
             "#f7f7f7"
            ],
            [
             0.6,
             "#e6f5d0"
            ],
            [
             0.7,
             "#b8e186"
            ],
            [
             0.8,
             "#7fbc41"
            ],
            [
             0.9,
             "#4d9221"
            ],
            [
             1,
             "#276419"
            ]
           ],
           "sequential": [
            [
             0,
             "#0d0887"
            ],
            [
             0.1111111111111111,
             "#46039f"
            ],
            [
             0.2222222222222222,
             "#7201a8"
            ],
            [
             0.3333333333333333,
             "#9c179e"
            ],
            [
             0.4444444444444444,
             "#bd3786"
            ],
            [
             0.5555555555555556,
             "#d8576b"
            ],
            [
             0.6666666666666666,
             "#ed7953"
            ],
            [
             0.7777777777777778,
             "#fb9f3a"
            ],
            [
             0.8888888888888888,
             "#fdca26"
            ],
            [
             1,
             "#f0f921"
            ]
           ],
           "sequentialminus": [
            [
             0,
             "#0d0887"
            ],
            [
             0.1111111111111111,
             "#46039f"
            ],
            [
             0.2222222222222222,
             "#7201a8"
            ],
            [
             0.3333333333333333,
             "#9c179e"
            ],
            [
             0.4444444444444444,
             "#bd3786"
            ],
            [
             0.5555555555555556,
             "#d8576b"
            ],
            [
             0.6666666666666666,
             "#ed7953"
            ],
            [
             0.7777777777777778,
             "#fb9f3a"
            ],
            [
             0.8888888888888888,
             "#fdca26"
            ],
            [
             1,
             "#f0f921"
            ]
           ]
          },
          "colorway": [
           "#636efa",
           "#EF553B",
           "#00cc96",
           "#ab63fa",
           "#FFA15A",
           "#19d3f3",
           "#FF6692",
           "#B6E880",
           "#FF97FF",
           "#FECB52"
          ],
          "font": {
           "color": "#2a3f5f"
          },
          "geo": {
           "bgcolor": "white",
           "lakecolor": "white",
           "landcolor": "#E5ECF6",
           "showlakes": true,
           "showland": true,
           "subunitcolor": "white"
          },
          "hoverlabel": {
           "align": "left"
          },
          "hovermode": "closest",
          "mapbox": {
           "style": "light"
          },
          "paper_bgcolor": "white",
          "plot_bgcolor": "#E5ECF6",
          "polar": {
           "angularaxis": {
            "gridcolor": "white",
            "linecolor": "white",
            "ticks": ""
           },
           "bgcolor": "#E5ECF6",
           "radialaxis": {
            "gridcolor": "white",
            "linecolor": "white",
            "ticks": ""
           }
          },
          "scene": {
           "xaxis": {
            "backgroundcolor": "#E5ECF6",
            "gridcolor": "white",
            "gridwidth": 2,
            "linecolor": "white",
            "showbackground": true,
            "ticks": "",
            "zerolinecolor": "white"
           },
           "yaxis": {
            "backgroundcolor": "#E5ECF6",
            "gridcolor": "white",
            "gridwidth": 2,
            "linecolor": "white",
            "showbackground": true,
            "ticks": "",
            "zerolinecolor": "white"
           },
           "zaxis": {
            "backgroundcolor": "#E5ECF6",
            "gridcolor": "white",
            "gridwidth": 2,
            "linecolor": "white",
            "showbackground": true,
            "ticks": "",
            "zerolinecolor": "white"
           }
          },
          "shapedefaults": {
           "line": {
            "color": "#2a3f5f"
           }
          },
          "ternary": {
           "aaxis": {
            "gridcolor": "white",
            "linecolor": "white",
            "ticks": ""
           },
           "baxis": {
            "gridcolor": "white",
            "linecolor": "white",
            "ticks": ""
           },
           "bgcolor": "#E5ECF6",
           "caxis": {
            "gridcolor": "white",
            "linecolor": "white",
            "ticks": ""
           }
          },
          "title": {
           "x": 0.05
          },
          "xaxis": {
           "automargin": true,
           "gridcolor": "white",
           "linecolor": "white",
           "ticks": "",
           "title": {
            "standoff": 15
           },
           "zerolinecolor": "white",
           "zerolinewidth": 2
          },
          "yaxis": {
           "automargin": true,
           "gridcolor": "white",
           "linecolor": "white",
           "ticks": "",
           "title": {
            "standoff": 15
           },
           "zerolinecolor": "white",
           "zerolinewidth": 2
          }
         }
        },
        "title": {
         "text": "Boxplot de Total por Genero"
        },
        "xaxis": {
         "anchor": "y",
         "categoryarray": [
          "Masculino",
          "Femenino"
         ],
         "categoryorder": "array",
         "domain": [
          0,
          1
         ],
         "gridcolor": "lightgrey",
         "showgrid": true,
         "title": {
          "text": "Genero"
         }
        },
        "yaxis": {
         "anchor": "x",
         "domain": [
          0,
          1
         ],
         "gridcolor": "lightgrey",
         "showgrid": true,
         "title": {
          "text": "Total"
         }
        }
       }
      }
     },
     "metadata": {},
     "output_type": "display_data"
    }
   ],
   "source": [
    "graficar_boxplot_bivariable_px (df = df_columnas_24, variable_analisis = 'Total', variable_categorica = 'Genero')"
   ]
  },
  {
   "cell_type": "code",
   "execution_count": 95,
   "id": "06094c49",
   "metadata": {},
   "outputs": [
    {
     "data": {
      "text/html": [
       "<div>\n",
       "<style scoped>\n",
       "    .dataframe tbody tr th:only-of-type {\n",
       "        vertical-align: middle;\n",
       "    }\n",
       "\n",
       "    .dataframe tbody tr th {\n",
       "        vertical-align: top;\n",
       "    }\n",
       "\n",
       "    .dataframe thead th {\n",
       "        text-align: right;\n",
       "    }\n",
       "</style>\n",
       "<table border=\"1\" class=\"dataframe\">\n",
       "  <thead>\n",
       "    <tr style=\"text-align: right;\">\n",
       "      <th></th>\n",
       "      <th>Genero</th>\n",
       "      <th>Categoría</th>\n",
       "      <th>Fecha</th>\n",
       "      <th>Medalla</th>\n",
       "      <th>Nombre</th>\n",
       "      <th>Apellido</th>\n",
       "      <th>País</th>\n",
       "      <th>Arrancada</th>\n",
       "      <th>Dos Tiempos</th>\n",
       "      <th>Total</th>\n",
       "    </tr>\n",
       "  </thead>\n",
       "  <tbody>\n",
       "    <tr>\n",
       "      <th>19</th>\n",
       "      <td>Femenino</td>\n",
       "      <td>+87 kg</td>\n",
       "      <td>2019-04-13</td>\n",
       "      <td>Oro</td>\n",
       "      <td>Tatiana</td>\n",
       "      <td>Kashirina</td>\n",
       "      <td>Rusia</td>\n",
       "      <td>146</td>\n",
       "      <td>185</td>\n",
       "      <td>331</td>\n",
       "    </tr>\n",
       "  </tbody>\n",
       "</table>\n",
       "</div>"
      ],
      "text/plain": [
       "      Genero Categoría      Fecha Medalla   Nombre   Apellido   País  \\\n",
       "19  Femenino    +87 kg 2019-04-13     Oro  Tatiana  Kashirina  Rusia   \n",
       "\n",
       "    Arrancada  Dos Tiempos  Total  \n",
       "19        146          185    331  "
      ]
     },
     "execution_count": 95,
     "metadata": {},
     "output_type": "execute_result"
    }
   ],
   "source": [
    "df_columnas_24[(df_columnas_24['Total'] == 331) & (df_columnas_24['Genero'] == 'Femenino')]"
   ]
  },
  {
   "cell_type": "code",
   "execution_count": 96,
   "id": "560fc680",
   "metadata": {},
   "outputs": [
    {
     "data": {
      "text/plain": [
       "'https://es.wikipedia.org/wiki/Tatiana_Kashirina'"
      ]
     },
     "execution_count": 96,
     "metadata": {},
     "output_type": "execute_result"
    }
   ],
   "source": [
    "\"https://es.wikipedia.org/wiki/Tatiana_Kashirina\"\n",
    "#En 2020 fue suspendida provisionalmente por sospechas de dopaje, por lo que no pudo participar en los Juegos Olímpicos de Tokio 2020;​ finalmente, en 2023 se confirmó la violación antidopaje y fue suspendida por ocho años retroactivos desde 2020."
   ]
  },
  {
   "cell_type": "code",
   "execution_count": 97,
   "id": "98f9c7a9",
   "metadata": {},
   "outputs": [
    {
     "data": {
      "text/html": [
       "<div>\n",
       "<style scoped>\n",
       "    .dataframe tbody tr th:only-of-type {\n",
       "        vertical-align: middle;\n",
       "    }\n",
       "\n",
       "    .dataframe tbody tr th {\n",
       "        vertical-align: top;\n",
       "    }\n",
       "\n",
       "    .dataframe thead th {\n",
       "        text-align: right;\n",
       "    }\n",
       "</style>\n",
       "<table border=\"1\" class=\"dataframe\">\n",
       "  <thead>\n",
       "    <tr style=\"text-align: right;\">\n",
       "      <th></th>\n",
       "      <th>País</th>\n",
       "      <th>Volúmen</th>\n",
       "      <th>Porcentaje</th>\n",
       "    </tr>\n",
       "  </thead>\n",
       "  <tbody>\n",
       "    <tr>\n",
       "      <th>0</th>\n",
       "      <td>Rusia</td>\n",
       "      <td>20</td>\n",
       "      <td>16.67</td>\n",
       "    </tr>\n",
       "    <tr>\n",
       "      <th>1</th>\n",
       "      <td>Armenia</td>\n",
       "      <td>14</td>\n",
       "      <td>11.67</td>\n",
       "    </tr>\n",
       "    <tr>\n",
       "      <th>2</th>\n",
       "      <td>Bulgaria</td>\n",
       "      <td>10</td>\n",
       "      <td>8.33</td>\n",
       "    </tr>\n",
       "    <tr>\n",
       "      <th>3</th>\n",
       "      <td>Bielorrusia</td>\n",
       "      <td>9</td>\n",
       "      <td>7.50</td>\n",
       "    </tr>\n",
       "    <tr>\n",
       "      <th>4</th>\n",
       "      <td>Georgia</td>\n",
       "      <td>9</td>\n",
       "      <td>7.50</td>\n",
       "    </tr>\n",
       "    <tr>\n",
       "      <th>5</th>\n",
       "      <td>Turquía</td>\n",
       "      <td>9</td>\n",
       "      <td>7.50</td>\n",
       "    </tr>\n",
       "    <tr>\n",
       "      <th>6</th>\n",
       "      <td>Rumania</td>\n",
       "      <td>9</td>\n",
       "      <td>7.50</td>\n",
       "    </tr>\n",
       "    <tr>\n",
       "      <th>7</th>\n",
       "      <td>Ucrania</td>\n",
       "      <td>8</td>\n",
       "      <td>6.67</td>\n",
       "    </tr>\n",
       "    <tr>\n",
       "      <th>8</th>\n",
       "      <td>Italia</td>\n",
       "      <td>6</td>\n",
       "      <td>5.00</td>\n",
       "    </tr>\n",
       "    <tr>\n",
       "      <th>9</th>\n",
       "      <td>Reino Unido</td>\n",
       "      <td>6</td>\n",
       "      <td>5.00</td>\n",
       "    </tr>\n",
       "    <tr>\n",
       "      <th>10</th>\n",
       "      <td>Letonia</td>\n",
       "      <td>3</td>\n",
       "      <td>2.50</td>\n",
       "    </tr>\n",
       "    <tr>\n",
       "      <th>11</th>\n",
       "      <td>Francia</td>\n",
       "      <td>3</td>\n",
       "      <td>2.50</td>\n",
       "    </tr>\n",
       "    <tr>\n",
       "      <th>12</th>\n",
       "      <td>Alemania</td>\n",
       "      <td>2</td>\n",
       "      <td>1.67</td>\n",
       "    </tr>\n",
       "    <tr>\n",
       "      <th>13</th>\n",
       "      <td>Azerbaiyán</td>\n",
       "      <td>2</td>\n",
       "      <td>1.67</td>\n",
       "    </tr>\n",
       "    <tr>\n",
       "      <th>14</th>\n",
       "      <td>Albania</td>\n",
       "      <td>2</td>\n",
       "      <td>1.67</td>\n",
       "    </tr>\n",
       "    <tr>\n",
       "      <th>15</th>\n",
       "      <td>Bélgica</td>\n",
       "      <td>2</td>\n",
       "      <td>1.67</td>\n",
       "    </tr>\n",
       "    <tr>\n",
       "      <th>16</th>\n",
       "      <td>Moldavia</td>\n",
       "      <td>2</td>\n",
       "      <td>1.67</td>\n",
       "    </tr>\n",
       "    <tr>\n",
       "      <th>17</th>\n",
       "      <td>Polonia</td>\n",
       "      <td>1</td>\n",
       "      <td>0.83</td>\n",
       "    </tr>\n",
       "    <tr>\n",
       "      <th>18</th>\n",
       "      <td>España</td>\n",
       "      <td>1</td>\n",
       "      <td>0.83</td>\n",
       "    </tr>\n",
       "    <tr>\n",
       "      <th>19</th>\n",
       "      <td>Suecia</td>\n",
       "      <td>1</td>\n",
       "      <td>0.83</td>\n",
       "    </tr>\n",
       "    <tr>\n",
       "      <th>20</th>\n",
       "      <td>Austria</td>\n",
       "      <td>1</td>\n",
       "      <td>0.83</td>\n",
       "    </tr>\n",
       "  </tbody>\n",
       "</table>\n",
       "</div>"
      ],
      "text/plain": [
       "           País  Volúmen  Porcentaje\n",
       "0         Rusia       20       16.67\n",
       "1       Armenia       14       11.67\n",
       "2      Bulgaria       10        8.33\n",
       "3   Bielorrusia        9        7.50\n",
       "4       Georgia        9        7.50\n",
       "5       Turquía        9        7.50\n",
       "6       Rumania        9        7.50\n",
       "7       Ucrania        8        6.67\n",
       "8        Italia        6        5.00\n",
       "9   Reino Unido        6        5.00\n",
       "10      Letonia        3        2.50\n",
       "11      Francia        3        2.50\n",
       "12     Alemania        2        1.67\n",
       "13   Azerbaiyán        2        1.67\n",
       "14      Albania        2        1.67\n",
       "15      Bélgica        2        1.67\n",
       "16     Moldavia        2        1.67\n",
       "17      Polonia        1        0.83\n",
       "18       España        1        0.83\n",
       "19       Suecia        1        0.83\n",
       "20      Austria        1        0.83"
      ]
     },
     "metadata": {},
     "output_type": "display_data"
    },
    {
     "data": {
      "application/vnd.plotly.v1+json": {
       "config": {
        "plotlyServerURL": "https://plot.ly"
       },
       "data": [
        {
         "alignmentgroup": "True",
         "hovertemplate": "País=%{x}<br>Porcentaje=%{text}<extra></extra>",
         "legendgroup": "",
         "marker": {
          "color": "#636efa",
          "pattern": {
           "shape": ""
          }
         },
         "name": "",
         "offsetgroup": "",
         "orientation": "v",
         "showlegend": false,
         "text": [
          16.67,
          11.67,
          8.33,
          7.5,
          7.5,
          7.5,
          7.5,
          6.67,
          5,
          5,
          2.5,
          2.5,
          1.67,
          1.67,
          1.67,
          1.67,
          1.67,
          0.83,
          0.83,
          0.83,
          0.83
         ],
         "textposition": "outside",
         "texttemplate": "%{text:.1f}%",
         "type": "bar",
         "x": [
          "Rusia",
          "Armenia",
          "Bulgaria",
          "Bielorrusia",
          "Georgia",
          "Turquía",
          "Rumania",
          "Ucrania",
          "Italia",
          "Reino Unido",
          "Letonia",
          "Francia",
          "Alemania",
          "Azerbaiyán",
          "Albania",
          "Bélgica",
          "Moldavia",
          "Polonia",
          "España",
          "Suecia",
          "Austria"
         ],
         "xaxis": "x",
         "y": [
          16.67,
          11.67,
          8.33,
          7.5,
          7.5,
          7.5,
          7.5,
          6.67,
          5,
          5,
          2.5,
          2.5,
          1.67,
          1.67,
          1.67,
          1.67,
          1.67,
          0.83,
          0.83,
          0.83,
          0.83
         ],
         "yaxis": "y"
        }
       ],
       "layout": {
        "barmode": "relative",
        "legend": {
         "tracegroupgap": 0
        },
        "margin": {
         "t": 60
        },
        "plot_bgcolor": "rgba(255, 255, 255, 1)",
        "template": {
         "data": {
          "bar": [
           {
            "error_x": {
             "color": "#2a3f5f"
            },
            "error_y": {
             "color": "#2a3f5f"
            },
            "marker": {
             "line": {
              "color": "#E5ECF6",
              "width": 0.5
             },
             "pattern": {
              "fillmode": "overlay",
              "size": 10,
              "solidity": 0.2
             }
            },
            "type": "bar"
           }
          ],
          "barpolar": [
           {
            "marker": {
             "line": {
              "color": "#E5ECF6",
              "width": 0.5
             },
             "pattern": {
              "fillmode": "overlay",
              "size": 10,
              "solidity": 0.2
             }
            },
            "type": "barpolar"
           }
          ],
          "carpet": [
           {
            "aaxis": {
             "endlinecolor": "#2a3f5f",
             "gridcolor": "white",
             "linecolor": "white",
             "minorgridcolor": "white",
             "startlinecolor": "#2a3f5f"
            },
            "baxis": {
             "endlinecolor": "#2a3f5f",
             "gridcolor": "white",
             "linecolor": "white",
             "minorgridcolor": "white",
             "startlinecolor": "#2a3f5f"
            },
            "type": "carpet"
           }
          ],
          "choropleth": [
           {
            "colorbar": {
             "outlinewidth": 0,
             "ticks": ""
            },
            "type": "choropleth"
           }
          ],
          "contour": [
           {
            "colorbar": {
             "outlinewidth": 0,
             "ticks": ""
            },
            "colorscale": [
             [
              0,
              "#0d0887"
             ],
             [
              0.1111111111111111,
              "#46039f"
             ],
             [
              0.2222222222222222,
              "#7201a8"
             ],
             [
              0.3333333333333333,
              "#9c179e"
             ],
             [
              0.4444444444444444,
              "#bd3786"
             ],
             [
              0.5555555555555556,
              "#d8576b"
             ],
             [
              0.6666666666666666,
              "#ed7953"
             ],
             [
              0.7777777777777778,
              "#fb9f3a"
             ],
             [
              0.8888888888888888,
              "#fdca26"
             ],
             [
              1,
              "#f0f921"
             ]
            ],
            "type": "contour"
           }
          ],
          "contourcarpet": [
           {
            "colorbar": {
             "outlinewidth": 0,
             "ticks": ""
            },
            "type": "contourcarpet"
           }
          ],
          "heatmap": [
           {
            "colorbar": {
             "outlinewidth": 0,
             "ticks": ""
            },
            "colorscale": [
             [
              0,
              "#0d0887"
             ],
             [
              0.1111111111111111,
              "#46039f"
             ],
             [
              0.2222222222222222,
              "#7201a8"
             ],
             [
              0.3333333333333333,
              "#9c179e"
             ],
             [
              0.4444444444444444,
              "#bd3786"
             ],
             [
              0.5555555555555556,
              "#d8576b"
             ],
             [
              0.6666666666666666,
              "#ed7953"
             ],
             [
              0.7777777777777778,
              "#fb9f3a"
             ],
             [
              0.8888888888888888,
              "#fdca26"
             ],
             [
              1,
              "#f0f921"
             ]
            ],
            "type": "heatmap"
           }
          ],
          "heatmapgl": [
           {
            "colorbar": {
             "outlinewidth": 0,
             "ticks": ""
            },
            "colorscale": [
             [
              0,
              "#0d0887"
             ],
             [
              0.1111111111111111,
              "#46039f"
             ],
             [
              0.2222222222222222,
              "#7201a8"
             ],
             [
              0.3333333333333333,
              "#9c179e"
             ],
             [
              0.4444444444444444,
              "#bd3786"
             ],
             [
              0.5555555555555556,
              "#d8576b"
             ],
             [
              0.6666666666666666,
              "#ed7953"
             ],
             [
              0.7777777777777778,
              "#fb9f3a"
             ],
             [
              0.8888888888888888,
              "#fdca26"
             ],
             [
              1,
              "#f0f921"
             ]
            ],
            "type": "heatmapgl"
           }
          ],
          "histogram": [
           {
            "marker": {
             "pattern": {
              "fillmode": "overlay",
              "size": 10,
              "solidity": 0.2
             }
            },
            "type": "histogram"
           }
          ],
          "histogram2d": [
           {
            "colorbar": {
             "outlinewidth": 0,
             "ticks": ""
            },
            "colorscale": [
             [
              0,
              "#0d0887"
             ],
             [
              0.1111111111111111,
              "#46039f"
             ],
             [
              0.2222222222222222,
              "#7201a8"
             ],
             [
              0.3333333333333333,
              "#9c179e"
             ],
             [
              0.4444444444444444,
              "#bd3786"
             ],
             [
              0.5555555555555556,
              "#d8576b"
             ],
             [
              0.6666666666666666,
              "#ed7953"
             ],
             [
              0.7777777777777778,
              "#fb9f3a"
             ],
             [
              0.8888888888888888,
              "#fdca26"
             ],
             [
              1,
              "#f0f921"
             ]
            ],
            "type": "histogram2d"
           }
          ],
          "histogram2dcontour": [
           {
            "colorbar": {
             "outlinewidth": 0,
             "ticks": ""
            },
            "colorscale": [
             [
              0,
              "#0d0887"
             ],
             [
              0.1111111111111111,
              "#46039f"
             ],
             [
              0.2222222222222222,
              "#7201a8"
             ],
             [
              0.3333333333333333,
              "#9c179e"
             ],
             [
              0.4444444444444444,
              "#bd3786"
             ],
             [
              0.5555555555555556,
              "#d8576b"
             ],
             [
              0.6666666666666666,
              "#ed7953"
             ],
             [
              0.7777777777777778,
              "#fb9f3a"
             ],
             [
              0.8888888888888888,
              "#fdca26"
             ],
             [
              1,
              "#f0f921"
             ]
            ],
            "type": "histogram2dcontour"
           }
          ],
          "mesh3d": [
           {
            "colorbar": {
             "outlinewidth": 0,
             "ticks": ""
            },
            "type": "mesh3d"
           }
          ],
          "parcoords": [
           {
            "line": {
             "colorbar": {
              "outlinewidth": 0,
              "ticks": ""
             }
            },
            "type": "parcoords"
           }
          ],
          "pie": [
           {
            "automargin": true,
            "type": "pie"
           }
          ],
          "scatter": [
           {
            "fillpattern": {
             "fillmode": "overlay",
             "size": 10,
             "solidity": 0.2
            },
            "type": "scatter"
           }
          ],
          "scatter3d": [
           {
            "line": {
             "colorbar": {
              "outlinewidth": 0,
              "ticks": ""
             }
            },
            "marker": {
             "colorbar": {
              "outlinewidth": 0,
              "ticks": ""
             }
            },
            "type": "scatter3d"
           }
          ],
          "scattercarpet": [
           {
            "marker": {
             "colorbar": {
              "outlinewidth": 0,
              "ticks": ""
             }
            },
            "type": "scattercarpet"
           }
          ],
          "scattergeo": [
           {
            "marker": {
             "colorbar": {
              "outlinewidth": 0,
              "ticks": ""
             }
            },
            "type": "scattergeo"
           }
          ],
          "scattergl": [
           {
            "marker": {
             "colorbar": {
              "outlinewidth": 0,
              "ticks": ""
             }
            },
            "type": "scattergl"
           }
          ],
          "scattermapbox": [
           {
            "marker": {
             "colorbar": {
              "outlinewidth": 0,
              "ticks": ""
             }
            },
            "type": "scattermapbox"
           }
          ],
          "scatterpolar": [
           {
            "marker": {
             "colorbar": {
              "outlinewidth": 0,
              "ticks": ""
             }
            },
            "type": "scatterpolar"
           }
          ],
          "scatterpolargl": [
           {
            "marker": {
             "colorbar": {
              "outlinewidth": 0,
              "ticks": ""
             }
            },
            "type": "scatterpolargl"
           }
          ],
          "scatterternary": [
           {
            "marker": {
             "colorbar": {
              "outlinewidth": 0,
              "ticks": ""
             }
            },
            "type": "scatterternary"
           }
          ],
          "surface": [
           {
            "colorbar": {
             "outlinewidth": 0,
             "ticks": ""
            },
            "colorscale": [
             [
              0,
              "#0d0887"
             ],
             [
              0.1111111111111111,
              "#46039f"
             ],
             [
              0.2222222222222222,
              "#7201a8"
             ],
             [
              0.3333333333333333,
              "#9c179e"
             ],
             [
              0.4444444444444444,
              "#bd3786"
             ],
             [
              0.5555555555555556,
              "#d8576b"
             ],
             [
              0.6666666666666666,
              "#ed7953"
             ],
             [
              0.7777777777777778,
              "#fb9f3a"
             ],
             [
              0.8888888888888888,
              "#fdca26"
             ],
             [
              1,
              "#f0f921"
             ]
            ],
            "type": "surface"
           }
          ],
          "table": [
           {
            "cells": {
             "fill": {
              "color": "#EBF0F8"
             },
             "line": {
              "color": "white"
             }
            },
            "header": {
             "fill": {
              "color": "#C8D4E3"
             },
             "line": {
              "color": "white"
             }
            },
            "type": "table"
           }
          ]
         },
         "layout": {
          "annotationdefaults": {
           "arrowcolor": "#2a3f5f",
           "arrowhead": 0,
           "arrowwidth": 1
          },
          "autotypenumbers": "strict",
          "coloraxis": {
           "colorbar": {
            "outlinewidth": 0,
            "ticks": ""
           }
          },
          "colorscale": {
           "diverging": [
            [
             0,
             "#8e0152"
            ],
            [
             0.1,
             "#c51b7d"
            ],
            [
             0.2,
             "#de77ae"
            ],
            [
             0.3,
             "#f1b6da"
            ],
            [
             0.4,
             "#fde0ef"
            ],
            [
             0.5,
             "#f7f7f7"
            ],
            [
             0.6,
             "#e6f5d0"
            ],
            [
             0.7,
             "#b8e186"
            ],
            [
             0.8,
             "#7fbc41"
            ],
            [
             0.9,
             "#4d9221"
            ],
            [
             1,
             "#276419"
            ]
           ],
           "sequential": [
            [
             0,
             "#0d0887"
            ],
            [
             0.1111111111111111,
             "#46039f"
            ],
            [
             0.2222222222222222,
             "#7201a8"
            ],
            [
             0.3333333333333333,
             "#9c179e"
            ],
            [
             0.4444444444444444,
             "#bd3786"
            ],
            [
             0.5555555555555556,
             "#d8576b"
            ],
            [
             0.6666666666666666,
             "#ed7953"
            ],
            [
             0.7777777777777778,
             "#fb9f3a"
            ],
            [
             0.8888888888888888,
             "#fdca26"
            ],
            [
             1,
             "#f0f921"
            ]
           ],
           "sequentialminus": [
            [
             0,
             "#0d0887"
            ],
            [
             0.1111111111111111,
             "#46039f"
            ],
            [
             0.2222222222222222,
             "#7201a8"
            ],
            [
             0.3333333333333333,
             "#9c179e"
            ],
            [
             0.4444444444444444,
             "#bd3786"
            ],
            [
             0.5555555555555556,
             "#d8576b"
            ],
            [
             0.6666666666666666,
             "#ed7953"
            ],
            [
             0.7777777777777778,
             "#fb9f3a"
            ],
            [
             0.8888888888888888,
             "#fdca26"
            ],
            [
             1,
             "#f0f921"
            ]
           ]
          },
          "colorway": [
           "#636efa",
           "#EF553B",
           "#00cc96",
           "#ab63fa",
           "#FFA15A",
           "#19d3f3",
           "#FF6692",
           "#B6E880",
           "#FF97FF",
           "#FECB52"
          ],
          "font": {
           "color": "#2a3f5f"
          },
          "geo": {
           "bgcolor": "white",
           "lakecolor": "white",
           "landcolor": "#E5ECF6",
           "showlakes": true,
           "showland": true,
           "subunitcolor": "white"
          },
          "hoverlabel": {
           "align": "left"
          },
          "hovermode": "closest",
          "mapbox": {
           "style": "light"
          },
          "paper_bgcolor": "white",
          "plot_bgcolor": "#E5ECF6",
          "polar": {
           "angularaxis": {
            "gridcolor": "white",
            "linecolor": "white",
            "ticks": ""
           },
           "bgcolor": "#E5ECF6",
           "radialaxis": {
            "gridcolor": "white",
            "linecolor": "white",
            "ticks": ""
           }
          },
          "scene": {
           "xaxis": {
            "backgroundcolor": "#E5ECF6",
            "gridcolor": "white",
            "gridwidth": 2,
            "linecolor": "white",
            "showbackground": true,
            "ticks": "",
            "zerolinecolor": "white"
           },
           "yaxis": {
            "backgroundcolor": "#E5ECF6",
            "gridcolor": "white",
            "gridwidth": 2,
            "linecolor": "white",
            "showbackground": true,
            "ticks": "",
            "zerolinecolor": "white"
           },
           "zaxis": {
            "backgroundcolor": "#E5ECF6",
            "gridcolor": "white",
            "gridwidth": 2,
            "linecolor": "white",
            "showbackground": true,
            "ticks": "",
            "zerolinecolor": "white"
           }
          },
          "shapedefaults": {
           "line": {
            "color": "#2a3f5f"
           }
          },
          "ternary": {
           "aaxis": {
            "gridcolor": "white",
            "linecolor": "white",
            "ticks": ""
           },
           "baxis": {
            "gridcolor": "white",
            "linecolor": "white",
            "ticks": ""
           },
           "bgcolor": "#E5ECF6",
           "caxis": {
            "gridcolor": "white",
            "linecolor": "white",
            "ticks": ""
           }
          },
          "title": {
           "x": 0.05
          },
          "xaxis": {
           "automargin": true,
           "gridcolor": "white",
           "linecolor": "white",
           "ticks": "",
           "title": {
            "standoff": 15
           },
           "zerolinecolor": "white",
           "zerolinewidth": 2
          },
          "yaxis": {
           "automargin": true,
           "gridcolor": "white",
           "linecolor": "white",
           "ticks": "",
           "title": {
            "standoff": 15
           },
           "zerolinecolor": "white",
           "zerolinewidth": 2
          }
         }
        },
        "title": {
         "text": "Gráfico de barras: País"
        },
        "xaxis": {
         "anchor": "y",
         "categoryorder": "total descending",
         "domain": [
          0,
          1
         ],
         "gridcolor": "lightgrey",
         "showgrid": true,
         "title": {
          "text": "País"
         }
        },
        "yaxis": {
         "anchor": "x",
         "domain": [
          0,
          1
         ],
         "gridcolor": "lightgrey",
         "showgrid": true,
         "title": {
          "text": "Porcentaje"
         }
        }
       }
      }
     },
     "metadata": {},
     "output_type": "display_data"
    }
   ],
   "source": [
    "graficar_barras_porcentaje_px(df = df_columnas_24, variable_analisis = 'País')"
   ]
  },
  {
   "cell_type": "markdown",
   "id": "4585eab4",
   "metadata": {},
   "source": [
    "### <span style=\"color: #2A8E3C;\"> ¿Cuántas medallas de cada tipo (oro, plata y bronce) ha ganado cada país en la competición? (Sin considerar el género)  </span>"
   ]
  },
  {
   "cell_type": "code",
   "execution_count": null,
   "id": "a92f5c07",
   "metadata": {},
   "outputs": [],
   "source": []
  }
 ],
 "metadata": {
  "kernelspec": {
   "display_name": "KERNEL_CON_PANDAS",
   "language": "python",
   "name": "python3"
  },
  "language_info": {
   "codemirror_mode": {
    "name": "ipython",
    "version": 3
   },
   "file_extension": ".py",
   "mimetype": "text/x-python",
   "name": "python",
   "nbconvert_exporter": "python",
   "pygments_lexer": "ipython3",
   "version": "3.12.8"
  }
 },
 "nbformat": 4,
 "nbformat_minor": 5
}
